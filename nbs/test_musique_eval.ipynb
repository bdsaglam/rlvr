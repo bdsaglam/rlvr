{
 "cells": [
  {
   "cell_type": "code",
   "execution_count": 25,
   "id": "7ab227e7",
   "metadata": {},
   "outputs": [],
   "source": [
    "# import sys\n",
    "# sys.path.append(\"/home/baris/repos/rlvr\")\n",
    "\n",
    "# from scripts.musique import evaluate"
   ]
  },
  {
   "cell_type": "code",
   "execution_count": 26,
   "id": "a143f034",
   "metadata": {},
   "outputs": [],
   "source": [
    "from pathlib import Path\n",
    "\n",
    "import typer\n",
    "import pandas as pd\n",
    "import verifiers as vf\n",
    "from dotenv import load_dotenv\n",
    "from openai import AsyncOpenAI\n",
    "\n",
    "\n",
    "assert load_dotenv(), \"Failed to load .env file\""
   ]
  },
  {
   "cell_type": "code",
   "execution_count": 27,
   "id": "38c354da",
   "metadata": {},
   "outputs": [
    {
     "data": {
      "text/plain": [
       "<Experiment: artifact_location='mlflow-artifacts:/5', creation_time=1756107462035, experiment_id='5', last_update_time=1756107462035, lifecycle_stage='active', name='rlvr-eval', tags={}>"
      ]
     },
     "execution_count": 27,
     "metadata": {},
     "output_type": "execute_result"
    }
   ],
   "source": [
    "import mlflow\n",
    "\n",
    "# Tell MLflow about the server URI.\n",
    "mlflow.set_tracking_uri(\"http://127.0.0.1:5000\")\n",
    "# Enable autologging with all features\n",
    "mlflow.openai.autolog()\n",
    "# Create a unique name for your experiment.\n",
    "mlflow.set_experiment(\"rlvr-eval\")"
   ]
  },
  {
   "cell_type": "code",
   "execution_count": 28,
   "id": "9328583a",
   "metadata": {},
   "outputs": [
    {
     "name": "stdout",
     "output_type": "stream",
     "text": [
      "Available models: ['Qwen/Qwen2.5-7B-Instruct']\n",
      "Using model: Qwen/Qwen2.5-7B-Instruct\n"
     ]
    }
   ],
   "source": [
    "openai_client = AsyncOpenAI()\n",
    "\n",
    "models_response = await openai_client.models.list()\n",
    "available_models = [item.id for item in models_response.data if item.object == \"model\"]\n",
    "print(\"Available models:\", available_models)\n",
    "\n",
    "model = available_models[0]\n",
    "print(\"Using model:\", model)\n"
   ]
  },
  {
   "cell_type": "code",
   "execution_count": 29,
   "id": "c4817b65",
   "metadata": {},
   "outputs": [
    {
     "name": "stdout",
     "output_type": "stream",
     "text": [
      "🔮 Starting MuSiQue evaluation\n",
      "==================================================\n",
      "📝 Model: Qwen/Qwen2.5-7B-Instruct\n",
      "📊 Dataset: bdsaglam/musique-mini,answerable,validation[:8] (noise rate: 1.0)\n",
      "🔍 Retriever: hybrid\n",
      "🌡️ Temperature: 0.1\n",
      "🎯 Max tokens: 1024\n",
      "==================================================\n",
      "🌍 Loading MuSiQue environment...\n"
     ]
    },
    {
     "data": {
      "application/vnd.jupyter.widget-view+json": {
       "model_id": "234a4fc4abec465e8dbf33a5ee733669",
       "version_major": 2,
       "version_minor": 0
      },
      "text/plain": [
       "Map: 100%|##########| 8/8 [00:00<?, ? examples/s]"
      ]
     },
     "metadata": {},
     "output_type": "display_data"
    },
    {
     "name": "stderr",
     "output_type": "stream",
     "text": [
      "2025-08-25 16:19:47 - verifiers.envs.MuSiQueEnv - INFO - eval_dataset is not set, falling back to train dataset\n"
     ]
    },
    {
     "name": "stdout",
     "output_type": "stream",
     "text": [
      "✅ Environment loaded with 8 examples\n",
      "🤖 Using OpenAI-compatible API client...\n",
      "🔄 Running evaluation...\n"
     ]
    },
    {
     "name": "stderr",
     "output_type": "stream",
     "text": [
      "Running 8 rollouts: 100%|██████████| 8/8 [00:10<00:00,  1.31s/it]\n",
      "Evaluating 8 rollouts: 100%|██████████| 8/8 [00:00<00:00, 694.74it/s]\n"
     ]
    },
    {
     "data": {
      "text/html": [
       "\n",
       "<div>\n",
       "  <style scoped>\n",
       "  button {\n",
       "    border: none;\n",
       "    border-radius: 4px;\n",
       "    background-color: rgb(34, 114, 180);\n",
       "    font-family: -apple-system, \"system-ui\", \"Segoe UI\", Roboto, \"Helvetica Neue\", Arial;\n",
       "    font-size: 13px;\n",
       "    color: white;\n",
       "    margin-top: 8px;\n",
       "    margin-bottom: 8px;\n",
       "    padding: 8px 16px;\n",
       "    cursor: pointer;\n",
       "  }\n",
       "  button:hover {\n",
       "    background-color: rgb(66, 153, 224);\n",
       "  }\n",
       "  </style>\n",
       "  <button\n",
       "    onclick=\"\n",
       "        const display = this.nextElementSibling.style.display;\n",
       "        const isCollapsed = display === 'none';\n",
       "        this.nextElementSibling.style.display = isCollapsed ? null : 'none';\n",
       "\n",
       "        const verb = isCollapsed ? 'Collapse' : 'Expand';\n",
       "        this.innerText = `${verb} MLflow Trace`;\n",
       "    \"\n",
       "  >Collapse MLflow Trace</button>\n",
       "  <iframe\n",
       "    id=\"trace-renderer\"\n",
       "    style=\"width: 100%; height: 500px; border: none; resize: vertical;\"\n",
       "    src=\"http://127.0.0.1:5000/static-files/lib/notebook-trace-renderer/index.html?trace_id=tr-1f48d7f4e0c7370bebb4ae6ab3fcdfcb&amp;experiment_id=5&amp;trace_id=tr-0bfc9d815b6c874775e7706ff98268fd&amp;experiment_id=5&amp;trace_id=tr-388d321f37e965deeeaeb25d584fe757&amp;experiment_id=5&amp;trace_id=tr-d4d7d5e586af04c78ec804ae83b2afe2&amp;experiment_id=5&amp;trace_id=tr-940fd6f4291a7dd5a5ea9e843c3f9267&amp;experiment_id=5&amp;trace_id=tr-9c1dbb59aa2105de93715da5dc85b7db&amp;experiment_id=5&amp;trace_id=tr-53e7c4256cfa4e073ee70530bb18d60a&amp;experiment_id=5&amp;trace_id=tr-012e91ae588581ccfa8cb15a60489ac5&amp;experiment_id=5&amp;trace_id=tr-1e10ec952a3a4601e522bd38f7311cf0&amp;experiment_id=5&amp;trace_id=tr-5bb2d9bd07fcdf0839ed397ff1607cc6&amp;experiment_id=5&amp;version=3.3.1\"\n",
       "  />\n",
       "</div>\n"
      ],
      "text/plain": [
       "[Trace(trace_id=tr-1f48d7f4e0c7370bebb4ae6ab3fcdfcb), Trace(trace_id=tr-0bfc9d815b6c874775e7706ff98268fd), Trace(trace_id=tr-388d321f37e965deeeaeb25d584fe757), Trace(trace_id=tr-d4d7d5e586af04c78ec804ae83b2afe2), Trace(trace_id=tr-940fd6f4291a7dd5a5ea9e843c3f9267), Trace(trace_id=tr-9c1dbb59aa2105de93715da5dc85b7db), Trace(trace_id=tr-53e7c4256cfa4e073ee70530bb18d60a), Trace(trace_id=tr-012e91ae588581ccfa8cb15a60489ac5), Trace(trace_id=tr-1e10ec952a3a4601e522bd38f7311cf0), Trace(trace_id=tr-5bb2d9bd07fcdf0839ed397ff1607cc6)]"
      ]
     },
     "metadata": {},
     "output_type": "display_data"
    }
   ],
   "source": [
    "datasets_str = \"bdsaglam/musique-mini,answerable,validation[:8]\"\n",
    "noise_rate = 1.0\n",
    "retriever = \"hybrid\"\n",
    "temperature = 0.1\n",
    "max_new_tokens = 1024\n",
    "\n",
    "print(\"🔮 Starting MuSiQue evaluation\")\n",
    "print(\"=\" * 50)\n",
    "print(f\"📝 Model: {model}\")\n",
    "print(f\"📊 Dataset: {datasets_str} (noise rate: {noise_rate})\")\n",
    "print(f\"🔍 Retriever: {retriever}\")\n",
    "print(f\"🌡️ Temperature: {temperature}\")\n",
    "print(f\"🎯 Max tokens: {max_new_tokens}\")\n",
    "print(\"=\" * 50)\n",
    "\n",
    "# Load MuSiQue environment\n",
    "print(\"🌍 Loading MuSiQue environment...\")\n",
    "\n",
    "vf_env = vf.load_environment(\n",
    "    env_id=\"vf-musique\",\n",
    "    datasets_str=datasets_str,\n",
    "    noise_rate=noise_rate,\n",
    "    retriever_name=retriever,\n",
    ")\n",
    "print(f\"✅ Environment loaded with {len(vf_env.dataset)} examples\")\n",
    "\n",
    "# Use OpenAI-compatible API client (e.g., for vLLM)\n",
    "print(\"🤖 Using OpenAI-compatible API client...\")\n",
    "\n",
    "# Run evaluation using the environment\n",
    "print(\"🔄 Running evaluation...\")\n",
    "results = vf_env.evaluate(\n",
    "    openai_client,\n",
    "    model,\n",
    "    rollouts_per_example=1,\n",
    "    sampling_args={\"temperature\": temperature, \"max_tokens\": max_new_tokens},\n",
    ")\n"
   ]
  },
  {
   "cell_type": "code",
   "execution_count": 30,
   "id": "bf7f3b07",
   "metadata": {},
   "outputs": [
    {
     "data": {
      "text/plain": [
       "(8, 8, 8, 8, 8, 8, 8)"
      ]
     },
     "execution_count": 30,
     "metadata": {},
     "output_type": "execute_result"
    }
   ],
   "source": [
    "len(results.prompt), len(results.completion), len(results.answer), len(results.state), len(results.info), len(results.task), len(results.reward)"
   ]
  },
  {
   "cell_type": "code",
   "execution_count": 31,
   "id": "c09d1adb",
   "metadata": {},
   "outputs": [
    {
     "data": {
      "text/plain": [
       "dict_keys(['exact_match_reward', 'f1_reward', 'retrieval_recall_reward', 'citation_reward', 'format_reward', 'combined_reward'])"
      ]
     },
     "execution_count": 31,
     "metadata": {},
     "output_type": "execute_result"
    }
   ],
   "source": [
    "results.metrics.keys()"
   ]
  },
  {
   "cell_type": "code",
   "execution_count": 32,
   "id": "5abf6081",
   "metadata": {},
   "outputs": [
    {
     "name": "stdout",
     "output_type": "stream",
     "text": [
      "prompt\n",
      "[{'content': \"Answer the question based on the information provided by tools.\\n\\nFor each step:\\n1. Think through your reasoning inside <think> tags\\n2. Use tools to retrieve relevant documents\\n3. Continue until you have found the answer through multi-hop reasoning\\n4. In the **last** step:\\n    - Reflect on your previous steps inside <think> tags\\n    - Cite the documents you used inside <cite> tags by their IDs, e.g. `<cite>1, 2, 3</cite>`\\n    - Give your final answer inside <answer> tags\\nAn example for your final message:\\n```\\n<think>\\n[your thinking here]\\n</think> \\n<cite>\\n[IDs of the documents that back your answer]\\n</cite>\\n<answer>\\n[your final answer in a few words]\\n</answer>\\n```\\n\\n- Do not make up tools or arguments that aren't listed.\\n- Questions require multi-hop reasoning across multiple documents.\\n- Continue searching until you find all relevant information to answer the question.\", 'role': 'system'}, {'content': 'Who\\'s the sibling of the player who won the men\\'s wimbledon championship 2016?\\n\\n# Available documents\\n<doc id=\"0\" title=\"Kallhälls BK\"/>\\n<doc id=\"1\" title=\"2018 Wimbledon Championships\"/>\\n<doc id=\"2\" title=\"Roger Federer\"/>\\n<doc id=\"3\" title=\"Graham Oberlin-Brown\"/>\\n<doc id=\"4\" title=\"1980 Wimbledon Championships – Men\\'s singles final\"/>\\n<doc id=\"5\" title=\"2017 Wimbledon Championships – Men\\'s Singles\"/>\\n<doc id=\"6\" title=\"2015 Wimbledon Championships\"/>\\n<doc id=\"7\" title=\"1999 Wimbledon Championships – Men\\'s Singles\"/>\\n<doc id=\"8\" title=\"2011 Valencia Open 500 – Doubles\"/>\\n<doc id=\"9\" title=\"2015 Wimbledon Championships\"/>\\n<doc id=\"10\" title=\"The Championships, Wimbledon\"/>\\n<doc id=\"11\" title=\"2001 World Men\\'s Handball Championship\"/>\\n<doc id=\"12\" title=\"2011 Wimbledon Championships\"/>\\n<doc id=\"13\" title=\"Storvreta IBK\"/>\\n<doc id=\"14\" title=\"The Championships, Wimbledon\"/>\\n<doc id=\"15\" title=\"2017 Wimbledon Championships – Men\\'s Singles\"/>\\n<doc id=\"16\" title=\"2016 Wimbledon Championships\"/>\\n<doc id=\"17\" title=\"Figure skating\"/>\\n<doc id=\"18\" title=\"2007 UCI Road World Championships\"/>\\n<doc id=\"19\" title=\"Raatbek Sanatbayev\"/>\\n', 'role': 'user'}]\n",
      "completion\n",
      "[{'role': 'assistant', 'content': \"<think>\\nTo find the sibling of the player who won the men's Wimbledon championship in 2016, I need to first identify who won that championship. Then, I will look for information about their siblings.\\n</think>\\n\", 'tool_calls': [ChatCompletionMessageToolCall(id='chatcmpl-tool-a26f569cab7443f690141b0a217b0c04', function=Function(arguments='{\"query\": \"2016 Wimbledon champion\", \"top_n\": 5}', name='retrieve_documents'), type='function')]}, {'role': 'tool', 'content': \"Document ID: 16\\n# 2016 Wimbledon Championships\\nNovak Djokovic was the two - time defending champion in the Gentlemen's Singles, but he lost in the third round to Sam Querrey, ending a 30 - match winning streak in Grand Slams and Djokovic's hopes of becoming the first man to achieve the golden calendar slam. The Gentlemen's Singles title was won by Andy Murray. Serena Williams successfully defended her Ladies' Singles title and equaled Steffi Graf's Open Era record of 22 major singles titles.\\n\\nDocument ID: 15\\n# 2017 Wimbledon Championships – Men's Singles\\nMen's Singles 2017 Wimbledon Championships Champion Roger Federer Runner - up Marin Čilić Final score 6 -- 3, 6 -- 1, 6 -- 4 Details Draw 128 (16 Q / 8 WC) Seeds 32 Events Singles men women boys girls Doubles men women mixed boys girls Legends men women seniors WC Doubles men women ← 2016 Wimbledon Championships 2018 →\", 'tool_call_id': 'chatcmpl-tool-a26f569cab7443f690141b0a217b0c04'}, {'role': 'assistant', 'content': \"From the retrieved documents, it is clear that Andy Murray won the men's Wimbledon championship in 2016. Now, I need to find information about his siblings.\\n\\n\", 'tool_calls': [ChatCompletionMessageToolCall(id='chatcmpl-tool-bc218e97113f4983b9f657c85590289e', function=Function(arguments='{\"query\": \"Andy Murray siblings\", \"top_n\": 5}', name='retrieve_documents'), type='function')]}, {'role': 'tool', 'content': \"Document ID: 8\\n# 2011 Valencia Open 500 – Doubles\\nAndy Murray and Jamie Murray were the defending champions but decided to participate at Basel instead. The brothers Bob and Mike Bryan became the new champions, defeating Eric Butorac and Jean-Julien Rojer in the final.\\n\\nDocument ID: 3\\n# Graham Oberlin-Brown\\nGraham Oberlin-Brown (born 8 February 1988) is a New Zealand rower. In 2006 (aged 18) along with Peter Taylor he became the Under 23 World Champion in the men's lightweight double sculls, and in doing so set a new world under 23 best time. In 2008 Oberlin-Brown won his second Under 23 World Championship in the men's lightweight single (aged 20). At the 2010 World Rowing Championships, he won a silver medal in the lightweight men's pair partnering with James Lassche. Oberlin-Brown represented New Zealand in rowing from 2006 to 2012.\\n\\nDocument ID: 16\\n# 2016 Wimbledon Championships\\nNovak Djokovic was the two - time defending champion in the Gentlemen's Singles, but he lost in the third round to Sam Querrey, ending a 30 - match winning streak in Grand Slams and Djokovic's hopes of becoming the first man to achieve the golden calendar slam. The Gentlemen's Singles title was won by Andy Murray. Serena Williams successfully defended her Ladies' Singles title and equaled Steffi Graf's Open Era record of 22 major singles titles.\", 'tool_call_id': 'chatcmpl-tool-bc218e97113f4983b9f657c85590289e'}, {'role': 'assistant', 'content': \"None of the documents directly mention Andy Murray's siblings. However, we can infer that since Andy Murray has a brother named Jamie Murray, who also plays tennis, Andy Murray likely has at least one sibling.\\n\\n<cite>\\n3, 16\\n</cite>\\n\\n<answer>\\nAndy Murray's sibling is Jamie Murray.\\n</answer>\"}]\n",
      "answer\n",
      "Jamie Murray\n",
      "state\n",
      "{'prompt': [{'content': \"Answer the question based on the information provided by tools.\\n\\nFor each step:\\n1. Think through your reasoning inside <think> tags\\n2. Use tools to retrieve relevant documents\\n3. Continue until you have found the answer through multi-hop reasoning\\n4. In the **last** step:\\n    - Reflect on your previous steps inside <think> tags\\n    - Cite the documents you used inside <cite> tags by their IDs, e.g. `<cite>1, 2, 3</cite>`\\n    - Give your final answer inside <answer> tags\\nAn example for your final message:\\n```\\n<think>\\n[your thinking here]\\n</think> \\n<cite>\\n[IDs of the documents that back your answer]\\n</cite>\\n<answer>\\n[your final answer in a few words]\\n</answer>\\n```\\n\\n- Do not make up tools or arguments that aren't listed.\\n- Questions require multi-hop reasoning across multiple documents.\\n- Continue searching until you find all relevant information to answer the question.\", 'role': 'system'}, {'content': 'Who\\'s the sibling of the player who won the men\\'s wimbledon championship 2016?\\n\\n# Available documents\\n<doc id=\"0\" title=\"Kallhälls BK\"/>\\n<doc id=\"1\" title=\"2018 Wimbledon Championships\"/>\\n<doc id=\"2\" title=\"Roger Federer\"/>\\n<doc id=\"3\" title=\"Graham Oberlin-Brown\"/>\\n<doc id=\"4\" title=\"1980 Wimbledon Championships – Men\\'s singles final\"/>\\n<doc id=\"5\" title=\"2017 Wimbledon Championships – Men\\'s Singles\"/>\\n<doc id=\"6\" title=\"2015 Wimbledon Championships\"/>\\n<doc id=\"7\" title=\"1999 Wimbledon Championships – Men\\'s Singles\"/>\\n<doc id=\"8\" title=\"2011 Valencia Open 500 – Doubles\"/>\\n<doc id=\"9\" title=\"2015 Wimbledon Championships\"/>\\n<doc id=\"10\" title=\"The Championships, Wimbledon\"/>\\n<doc id=\"11\" title=\"2001 World Men\\'s Handball Championship\"/>\\n<doc id=\"12\" title=\"2011 Wimbledon Championships\"/>\\n<doc id=\"13\" title=\"Storvreta IBK\"/>\\n<doc id=\"14\" title=\"The Championships, Wimbledon\"/>\\n<doc id=\"15\" title=\"2017 Wimbledon Championships – Men\\'s Singles\"/>\\n<doc id=\"16\" title=\"2016 Wimbledon Championships\"/>\\n<doc id=\"17\" title=\"Figure skating\"/>\\n<doc id=\"18\" title=\"2007 UCI Road World Championships\"/>\\n<doc id=\"19\" title=\"Raatbek Sanatbayev\"/>\\n', 'role': 'user'}], 'completion': [], 'answer': 'Jamie Murray', 'task': 'default', 'info': {'answers': ['jamie murray', 'Jamie Murray'], 'docs': [{'body': \"Kallhälls BK was a sports club in Bosön, Sweden. The club won the Swedish men's national volleyball championship in 1964.\", 'id': '0', 'is_supporting': False, 'text': \"# Kallhälls BK\\nKallhälls BK was a sports club in Bosön, Sweden. The club won the Swedish men's national volleyball championship in 1964.\", 'title': 'Kallhälls BK'}, {'body': \"2018 Wimbledon Championships Date 2 -- 15 July Edition 132nd Grand Slam (ITF) Draw 128S / 64D / 48XD Prize money £34,000,000 Surface Grass Location Church Road SW19, Wimbledon, London, United Kingdom Venue All England Lawn Tennis and Croquet Club Champions Men's Singles Novak Djokovic Women's Singles Angelique Kerber Men's Doubles Mike Bryan / Jack Sock Women's Doubles Barbora Krejčíková / Kateřina Siniaková Mixed Doubles Alexander Peya / Nicole Melichar Boys' Singles Tseng Chun - hsin Girls' Singles Iga Świątek Boys' Doubles Yankı Erel / Otto Virtanen Girls' Doubles Wang Xinyu / Wang Xiyu Gentlemen's Invitation Doubles Tommy Haas / Mark Philippoussis Ladies' Invitation Doubles Kim Clijsters / Rennae Stubbs Senior Gentlemen's Invitation Doubles Jonas Björkman / Todd Woodbridge Wheelchair Men's Singles Stefan Olsson Wheelchair Women's Singles Diede de Groot Wheelchair Men's Doubles Alfie Hewett / Gordon Reid Wheelchair Women's Doubles Diede de Groot / Yui Kamiji Wheelchair Quad Doubles Andrew Lapthorne / David Wagner ← 2017 Wimbledon Championships 2019 →\", 'id': '1', 'is_supporting': False, 'text': \"# 2018 Wimbledon Championships\\n2018 Wimbledon Championships Date 2 -- 15 July Edition 132nd Grand Slam (ITF) Draw 128S / 64D / 48XD Prize money £34,000,000 Surface Grass Location Church Road SW19, Wimbledon, London, United Kingdom Venue All England Lawn Tennis and Croquet Club Champions Men's Singles Novak Djokovic Women's Singles Angelique Kerber Men's Doubles Mike Bryan / Jack Sock Women's Doubles Barbora Krejčíková / Kateřina Siniaková Mixed Doubles Alexander Peya / Nicole Melichar Boys' Singles Tseng Chun - hsin Girls' Singles Iga Świątek Boys' Doubles Yankı Erel / Otto Virtanen Girls' Doubles Wang Xinyu / Wang Xiyu Gentlemen's Invitation Doubles Tommy Haas / Mark Philippoussis Ladies' Invitation Doubles Kim Clijsters / Rennae Stubbs Senior Gentlemen's Invitation Doubles Jonas Björkman / Todd Woodbridge Wheelchair Men's Singles Stefan Olsson Wheelchair Women's Singles Diede de Groot Wheelchair Men's Doubles Alfie Hewett / Gordon Reid Wheelchair Women's Doubles Diede de Groot / Yui Kamiji Wheelchair Quad Doubles Andrew Lapthorne / David Wagner ← 2017 Wimbledon Championships 2019 →\", 'title': '2018 Wimbledon Championships'}, {'body': \"Federer has won a record eight Wimbledon titles, a joint - record six Australian Open titles, a record five consecutive US Open titles, and one French Open title. He is one of eight men to have captured a career Grand Slam. Federer has reached a record 30 men's singles Grand Slam finals, including 10 in a row from the 2005 Wimbledon Championships to the 2007 US Open. He reached the semifinals at 23 consecutive Grand Slam tournaments, from the 2004 Wimbledon Championships through to the 2010 Australian Open. Federer has also won a record six ATP Finals, 27 ATP World Tour Masters 1000 titles, and a record 20 ATP World Tour 500 titles. Given these achievements, many players and analysts consider Federer the greatest tennis player of all time.\", 'id': '2', 'is_supporting': False, 'text': \"# Roger Federer\\nFederer has won a record eight Wimbledon titles, a joint - record six Australian Open titles, a record five consecutive US Open titles, and one French Open title. He is one of eight men to have captured a career Grand Slam. Federer has reached a record 30 men's singles Grand Slam finals, including 10 in a row from the 2005 Wimbledon Championships to the 2007 US Open. He reached the semifinals at 23 consecutive Grand Slam tournaments, from the 2004 Wimbledon Championships through to the 2010 Australian Open. Federer has also won a record six ATP Finals, 27 ATP World Tour Masters 1000 titles, and a record 20 ATP World Tour 500 titles. Given these achievements, many players and analysts consider Federer the greatest tennis player of all time.\", 'title': 'Roger Federer'}, {'body': \"Graham Oberlin-Brown (born 8 February 1988) is a New Zealand rower. In 2006 (aged 18) along with Peter Taylor he became the Under 23 World Champion in the men's lightweight double sculls, and in doing so set a new world under 23 best time. In 2008 Oberlin-Brown won his second Under 23 World Championship in the men's lightweight single (aged 20). At the 2010 World Rowing Championships, he won a silver medal in the lightweight men's pair partnering with James Lassche. Oberlin-Brown represented New Zealand in rowing from 2006 to 2012.\", 'id': '3', 'is_supporting': False, 'text': \"# Graham Oberlin-Brown\\nGraham Oberlin-Brown (born 8 February 1988) is a New Zealand rower. In 2006 (aged 18) along with Peter Taylor he became the Under 23 World Champion in the men's lightweight double sculls, and in doing so set a new world under 23 best time. In 2008 Oberlin-Brown won his second Under 23 World Championship in the men's lightweight single (aged 20). At the 2010 World Rowing Championships, he won a silver medal in the lightweight men's pair partnering with James Lassche. Oberlin-Brown represented New Zealand in rowing from 2006 to 2012.\", 'title': 'Graham Oberlin-Brown'}, {'body': \"The 1980 Wimbledon Men's Singles final was the championship tennis match of the Men's Singles tournament at the 1980 Wimbledon Championships. In the final, Björn Borg defeated John McEnroe 1 -- 6, 7 -- 5, 6 -- 3, 6 -- 7, 8 -- 6 to win the match. It was regarded at the time as the greatest match ever played. It would be another 28 years before the 2008 Wimbledon men's singles final between Roger Federer and Rafael Nadal would rival the match as the greatest ever played.\", 'id': '4', 'is_supporting': False, 'text': \"# 1980 Wimbledon Championships – Men's singles final\\nThe 1980 Wimbledon Men's Singles final was the championship tennis match of the Men's Singles tournament at the 1980 Wimbledon Championships. In the final, Björn Borg defeated John McEnroe 1 -- 6, 7 -- 5, 6 -- 3, 6 -- 7, 8 -- 6 to win the match. It was regarded at the time as the greatest match ever played. It would be another 28 years before the 2008 Wimbledon men's singles final between Roger Federer and Rafael Nadal would rival the match as the greatest ever played.\", 'title': \"1980 Wimbledon Championships – Men's singles final\"}, {'body': \"Roger Federer achieved his record eighth Wimbledon and 19th Grand Slam men's singles title, defeating Marin Čilić in the final, 6 -- 3, 6 -- 1, 6 -- 4. Federer thus became the only male player to win the Wimbledon singles title eight times, as well as only the second man in the Open era, after Björn Borg in 1976, to win Wimbledon without losing a set. This was Federer's 70th appearance at a Grand Slam, tying the record for male players and a record - breaking 11th men's singles final at the same Grand Slam tournament. In addition, by virtue of his third - round win over Mischa Zverev, Federer won his 317th Grand Slam singles match, surpassing Serena Williams' record of 316 match wins and giving him the all - time record for the most Grand Slam singles wins by any player, male or female. The tournament marked the fifth time that Nadal and Federer won the French Open and Wimbledon respectively in the same year.\", 'id': '5', 'is_supporting': False, 'text': \"# 2017 Wimbledon Championships – Men's Singles\\nRoger Federer achieved his record eighth Wimbledon and 19th Grand Slam men's singles title, defeating Marin Čilić in the final, 6 -- 3, 6 -- 1, 6 -- 4. Federer thus became the only male player to win the Wimbledon singles title eight times, as well as only the second man in the Open era, after Björn Borg in 1976, to win Wimbledon without losing a set. This was Federer's 70th appearance at a Grand Slam, tying the record for male players and a record - breaking 11th men's singles final at the same Grand Slam tournament. In addition, by virtue of his third - round win over Mischa Zverev, Federer won his 317th Grand Slam singles match, surpassing Serena Williams' record of 316 match wins and giving him the all - time record for the most Grand Slam singles wins by any player, male or female. The tournament marked the fifth time that Nadal and Federer won the French Open and Wimbledon respectively in the same year.\", 'title': \"2017 Wimbledon Championships – Men's Singles\"}, {'body': 'Serena Williams won her sixth Wimbledon and 21st major title, defeating first - time finalist Garbiñe Muguruza in the final, 6 -- 4, 6 -- 4. She also achieved her second non-calendar year Grand Slam after winning the 2014 US Open, 2015 Australian Open and 2015 French Open. With this win, Williams also became the oldest woman to win a Grand Slam singles title in the Open Era at 33 years and 289 days old by 26 days, beating Martina Navratilova, who won the 1990 Wimbledon Championships at 33 years and 263 days old.', 'id': '6', 'is_supporting': False, 'text': '# 2015 Wimbledon Championships\\nSerena Williams won her sixth Wimbledon and 21st major title, defeating first - time finalist Garbiñe Muguruza in the final, 6 -- 4, 6 -- 4. She also achieved her second non-calendar year Grand Slam after winning the 2014 US Open, 2015 Australian Open and 2015 French Open. With this win, Williams also became the oldest woman to win a Grand Slam singles title in the Open Era at 33 years and 289 days old by 26 days, beating Martina Navratilova, who won the 1990 Wimbledon Championships at 33 years and 263 days old.', 'title': '2015 Wimbledon Championships'}, {'body': \"Pete Sampras successfully defended his title, defeating Andre Agassi in the final, 6–3, 6–4, 7–5 to win the Gentlemen's Singles tennis title at the 1999 Wimbledon Championships. With this win, his sixth at Wimbledon, Sampras broke Björn Borg's then open era record of five Wimbledon titles, and equalled Roy Emerson's then record of twelve Grand Slam titles. Sampras' victory over Agassi in the final is often cited as one of the greatest performances in a Wimbledon final. However, despite his victory, Sampras lost his No. 1 ranking when the ATP rankings were updated a day later to Agassi, who in addition to his run to the Wimbledon Final, had recently won the 1999 French Open.\", 'id': '7', 'is_supporting': False, 'text': \"# 1999 Wimbledon Championships – Men's Singles\\nPete Sampras successfully defended his title, defeating Andre Agassi in the final, 6–3, 6–4, 7–5 to win the Gentlemen's Singles tennis title at the 1999 Wimbledon Championships. With this win, his sixth at Wimbledon, Sampras broke Björn Borg's then open era record of five Wimbledon titles, and equalled Roy Emerson's then record of twelve Grand Slam titles. Sampras' victory over Agassi in the final is often cited as one of the greatest performances in a Wimbledon final. However, despite his victory, Sampras lost his No. 1 ranking when the ATP rankings were updated a day later to Agassi, who in addition to his run to the Wimbledon Final, had recently won the 1999 French Open.\", 'title': \"1999 Wimbledon Championships – Men's Singles\"}, {'body': 'Andy Murray and Jamie Murray were the defending champions but decided to participate at Basel instead. The brothers Bob and Mike Bryan became the new champions, defeating Eric Butorac and Jean-Julien Rojer in the final.', 'id': '8', 'is_supporting': True, 'text': '# 2011 Valencia Open 500 – Doubles\\nAndy Murray and Jamie Murray were the defending champions but decided to participate at Basel instead. The brothers Bob and Mike Bryan became the new champions, defeating Eric Butorac and Jean-Julien Rojer in the final.', 'title': '2011 Valencia Open 500 – Doubles'}, {'body': 'The 2015 Wimbledon Championships was a Grand Slam tennis tournament which took place at the All England Lawn Tennis and Croquet Club in Wimbledon, London, United Kingdom, from 29 June to 12 July 2015.', 'id': '9', 'is_supporting': False, 'text': '# 2015 Wimbledon Championships\\nThe 2015 Wimbledon Championships was a Grand Slam tennis tournament which took place at the All England Lawn Tennis and Croquet Club in Wimbledon, London, United Kingdom, from 29 June to 12 July 2015.', 'title': '2015 Wimbledon Championships'}, {'body': \"In 1884, the club added Ladies' Singles and Gentlemen's Doubles competitions. Ladies' Doubles and Mixed Doubles events were added in 1913. Until 1922, the reigning champion had to play only in the final, against whomever had won through to challenge him/her. As with the other three Major or Grand Slam events, Wimbledon was contested by top-ranked amateur players; professional players were prohibited from participating. This changed with the advent of the open era in 1968. No British man won the singles event at Wimbledon between Fred Perry in 1936 and Andy Murray in 2013, while no British woman has won since Virginia Wade in 1977, although Annabel Croft and Laura Robson won the Girls' Championship in 1984 and 2008 respectively. The Championship was first televised in 1937.\", 'id': '10', 'is_supporting': False, 'text': \"# The Championships, Wimbledon\\nIn 1884, the club added Ladies' Singles and Gentlemen's Doubles competitions. Ladies' Doubles and Mixed Doubles events were added in 1913. Until 1922, the reigning champion had to play only in the final, against whomever had won through to challenge him/her. As with the other three Major or Grand Slam events, Wimbledon was contested by top-ranked amateur players; professional players were prohibited from participating. This changed with the advent of the open era in 1968. No British man won the singles event at Wimbledon between Fred Perry in 1936 and Andy Murray in 2013, while no British woman has won since Virginia Wade in 1977, although Annabel Croft and Laura Robson won the Girls' Championship in 1984 and 2008 respectively. The Championship was first televised in 1937.\", 'title': 'The Championships, Wimbledon'}, {'body': \"The 2001 World Men's Handball Championship took place in France from 23 January to 4 February 2001. It was the 17th edition of the World Championship in team handball and the hosts won the championship.\", 'id': '11', 'is_supporting': False, 'text': \"# 2001 World Men's Handball Championship\\nThe 2001 World Men's Handball Championship took place in France from 23 January to 4 February 2001. It was the 17th edition of the World Championship in team handball and the hosts won the championship.\", 'title': \"2001 World Men's Handball Championship\"}, {'body': 'The 2011 Wimbledon Championships was a tennis tournament played on grass courts at the All England Lawn Tennis and Croquet Club in Wimbledon, London in England. It was the 125th edition of the Wimbledon Championships and were held from 20 June to 3 July 2011. It was the third Grand Slam tennis event of the year and was part of the ATP World Tour, the WTA Tour, the ITF Junior Tour and the NEC Tour. The championships were organised by the All England Lawn Tennis and Croquet Club and the International Tennis Federation.', 'id': '12', 'is_supporting': False, 'text': '# 2011 Wimbledon Championships\\nThe 2011 Wimbledon Championships was a tennis tournament played on grass courts at the All England Lawn Tennis and Croquet Club in Wimbledon, London in England. It was the 125th edition of the Wimbledon Championships and were held from 20 June to 3 July 2011. It was the third Grand Slam tennis event of the year and was part of the ATP World Tour, the WTA Tour, the ITF Junior Tour and the NEC Tour. The championships were organised by the All England Lawn Tennis and Croquet Club and the International Tennis Federation.', 'title': '2011 Wimbledon Championships'}, {'body': \"The Storvreta Innebandyklubb or Storvreta IBK, is a floorball club based in Storvreta, Sweden. The men's team plays in Sweden's highest floorball league, the SSL. They won the Swedish national championship in 2010, 2011, 2012, 2016, 2018 and 2019.\", 'id': '13', 'is_supporting': False, 'text': \"# Storvreta IBK\\nThe Storvreta Innebandyklubb or Storvreta IBK, is a floorball club based in Storvreta, Sweden. The men's team plays in Sweden's highest floorball league, the SSL. They won the Swedish national championship in 2010, 2011, 2012, 2016, 2018 and 2019.\", 'title': 'Storvreta IBK'}, {'body': \"In 1884, the club added Ladies' Singles and Gentlemen's Doubles competitions. Ladies' Doubles and Mixed Doubles events were added in 1913. Until 1922, the reigning champion had to play only in the final, against whomever had won through to challenge him / her. As with the other three Major or Grand Slam events, Wimbledon was contested by top - ranked amateur players, professional players were prohibited from participating. This changed with the advent of the open era in 1968. No British man won the singles event at Wimbledon between Fred Perry in 1936 and Andy Murray in 2013, while no British woman has won since Virginia Wade in 1977, although Annabel Croft and Laura Robson won the Girls' Championship in 1984 and 2008 respectively. The Championship was first televised in 1937.\", 'id': '14', 'is_supporting': False, 'text': \"# The Championships, Wimbledon\\nIn 1884, the club added Ladies' Singles and Gentlemen's Doubles competitions. Ladies' Doubles and Mixed Doubles events were added in 1913. Until 1922, the reigning champion had to play only in the final, against whomever had won through to challenge him / her. As with the other three Major or Grand Slam events, Wimbledon was contested by top - ranked amateur players, professional players were prohibited from participating. This changed with the advent of the open era in 1968. No British man won the singles event at Wimbledon between Fred Perry in 1936 and Andy Murray in 2013, while no British woman has won since Virginia Wade in 1977, although Annabel Croft and Laura Robson won the Girls' Championship in 1984 and 2008 respectively. The Championship was first televised in 1937.\", 'title': 'The Championships, Wimbledon'}, {'body': \"Men's Singles 2017 Wimbledon Championships Champion Roger Federer Runner - up Marin Čilić Final score 6 -- 3, 6 -- 1, 6 -- 4 Details Draw 128 (16 Q / 8 WC) Seeds 32 Events Singles men women boys girls Doubles men women mixed boys girls Legends men women seniors WC Doubles men women ← 2016 Wimbledon Championships 2018 →\", 'id': '15', 'is_supporting': False, 'text': \"# 2017 Wimbledon Championships – Men's Singles\\nMen's Singles 2017 Wimbledon Championships Champion Roger Federer Runner - up Marin Čilić Final score 6 -- 3, 6 -- 1, 6 -- 4 Details Draw 128 (16 Q / 8 WC) Seeds 32 Events Singles men women boys girls Doubles men women mixed boys girls Legends men women seniors WC Doubles men women ← 2016 Wimbledon Championships 2018 →\", 'title': \"2017 Wimbledon Championships – Men's Singles\"}, {'body': \"Novak Djokovic was the two - time defending champion in the Gentlemen's Singles, but he lost in the third round to Sam Querrey, ending a 30 - match winning streak in Grand Slams and Djokovic's hopes of becoming the first man to achieve the golden calendar slam. The Gentlemen's Singles title was won by Andy Murray. Serena Williams successfully defended her Ladies' Singles title and equaled Steffi Graf's Open Era record of 22 major singles titles.\", 'id': '16', 'is_supporting': True, 'text': \"# 2016 Wimbledon Championships\\nNovak Djokovic was the two - time defending champion in the Gentlemen's Singles, but he lost in the third round to Sam Querrey, ending a 30 - match winning streak in Grand Slams and Djokovic's hopes of becoming the first man to achieve the golden calendar slam. The Gentlemen's Singles title was won by Andy Murray. Serena Williams successfully defended her Ladies' Singles title and equaled Steffi Graf's Open Era record of 22 major singles titles.\", 'title': '2016 Wimbledon Championships'}, {'body': \"The ISU was founded in 1892. The first European Championships were held in 1891, and the first World Championships were held in 1896 and won by Gilbert Fuchs. Only men competed in these events. In 1902, a woman, Madge Syers, entered the World competition for the first time, finishing second. The ISU quickly banned women from competing against men, but established a separate competition for ``ladies ''in 1906. Pair skating was introduced at the 1908 World Championships, where the title was won by Anna Hübler / Heinrich Burger. Figure skating's Olympic debut came at the 1908 Summer Olympics -- it was the first winter sport introduced to the Olympics.\", 'id': '17', 'is_supporting': False, 'text': \"# Figure skating\\nThe ISU was founded in 1892. The first European Championships were held in 1891, and the first World Championships were held in 1896 and won by Gilbert Fuchs. Only men competed in these events. In 1902, a woman, Madge Syers, entered the World competition for the first time, finishing second. The ISU quickly banned women from competing against men, but established a separate competition for ``ladies ''in 1906. Pair skating was introduced at the 1908 World Championships, where the title was won by Anna Hübler / Heinrich Burger. Figure skating's Olympic debut came at the 1908 Summer Olympics -- it was the first winter sport introduced to the Olympics.\", 'title': 'Figure skating'}, {'body': \"The 2007 UCI Road World Championships took place in Stuttgart, Germany, between September 25 and September 30, 2007. The event consisted of a road race and a time trial for men, women and men under 23. Italian Paolo Bettini and Swiss Fabian Cancellara both won their second world championships in a row in the elite men's road race and time trial respectively.\", 'id': '18', 'is_supporting': False, 'text': \"# 2007 UCI Road World Championships\\nThe 2007 UCI Road World Championships took place in Stuttgart, Germany, between September 25 and September 30, 2007. The event consisted of a road race and a time trial for men, women and men under 23. Italian Paolo Bettini and Swiss Fabian Cancellara both won their second world championships in a row in the elite men's road race and time trial respectively.\", 'title': '2007 UCI Road World Championships'}, {'body': \"Raatbek Sanatbayev (May 7, 1969 – January 8, 2006 in Bishkek, Kyrgyzstan) was a Kyrgyz Greco-Roman wrestler who competed in the Men's Greco-Roman 82\\xa0kg at the 1996 Summer Olympics and the Men's Greco-Roman 85\\xa0kg at the 2000 Summer Olympics. He won the bronze medal at the 1999 World Championships, and won the Asian Championship in 1999 and 2000, silver medals in the 1995 and 1997 Asian Championships and 1994 and 1998 Asian Games, and a bronze medal at the 1996 Asian Championships.\", 'id': '19', 'is_supporting': False, 'text': \"# Raatbek Sanatbayev\\nRaatbek Sanatbayev (May 7, 1969 – January 8, 2006 in Bishkek, Kyrgyzstan) was a Kyrgyz Greco-Roman wrestler who competed in the Men's Greco-Roman 82\\xa0kg at the 1996 Summer Olympics and the Men's Greco-Roman 85\\xa0kg at the 2000 Summer Olympics. He won the bronze medal at the 1999 World Championships, and won the Asian Championship in 1999 and 2000, silver medals in the 1995 and 1997 Asian Championships and 1994 and 1998 Asian Games, and a bronze medal at the 1996 Asian Championships.\", 'title': 'Raatbek Sanatbayev'}], 'id': '2hop__83800_747874', 'n_hops': 2, 'oai_tools': [{'type': 'function', 'function': {'name': 'retrieve_documents', 'description': 'Retrieve relevant documents by the query. The results get better with more specific queries.', 'parameters': {'type': 'object', 'properties': {'query': {'type': 'string', 'description': 'Parameter `query` of type string.'}, 'top_n': {'type': 'integer', 'description': 'Parameter `top_n` of type integer.'}}, 'required': ['query']}}}, {'type': 'function', 'function': {'name': 'get_document', 'description': 'Get a document by its ID.', 'parameters': {'type': 'object', 'properties': {'doc_id': {'type': 'string', 'description': 'Parameter `doc_id` of type string.'}}, 'required': ['doc_id']}}}]}, 'responses': [ChatCompletion(id='chatcmpl-328777bdd3b64e81a5e21594a5ab4c3f', choices=[Choice(finish_reason='tool_calls', index=0, logprobs=None, message=ChatCompletionMessage(content=\"<think>\\nTo find the sibling of the player who won the men's Wimbledon championship in 2016, I need to first identify who won that championship. Then, I will look for information about their siblings.\\n</think>\\n\", refusal=None, role='assistant', annotations=None, audio=None, function_call=None, tool_calls=[ChatCompletionMessageToolCall(id='chatcmpl-tool-a26f569cab7443f690141b0a217b0c04', function=Function(arguments='{\"query\": \"2016 Wimbledon champion\", \"top_n\": 5}', name='retrieve_documents'), type='function')], reasoning_content=None), stop_reason=None)], created=1756127987, model='Qwen/Qwen2.5-7B-Instruct', object='chat.completion', service_tier=None, system_fingerprint=None, usage=CompletionUsage(completion_tokens=80, prompt_tokens=828, total_tokens=908, completion_tokens_details=None, prompt_tokens_details=None), prompt_logprobs=None, kv_transfer_params=None), ChatCompletion(id='chatcmpl-4edc4dcec039470493dc31a8efac83d2', choices=[Choice(finish_reason='tool_calls', index=0, logprobs=None, message=ChatCompletionMessage(content=\"From the retrieved documents, it is clear that Andy Murray won the men's Wimbledon championship in 2016. Now, I need to find information about his siblings.\\n\\n\", refusal=None, role='assistant', annotations=None, audio=None, function_call=None, tool_calls=[ChatCompletionMessageToolCall(id='chatcmpl-tool-bc218e97113f4983b9f657c85590289e', function=Function(arguments='{\"query\": \"Andy Murray siblings\", \"top_n\": 5}', name='retrieve_documents'), type='function')], reasoning_content=None), stop_reason=None)], created=1756127989, model='Qwen/Qwen2.5-7B-Instruct', object='chat.completion', service_tier=None, system_fingerprint=None, usage=CompletionUsage(completion_tokens=64, prompt_tokens=1160, total_tokens=1224, completion_tokens_details=None, prompt_tokens_details=None), prompt_logprobs=None, kv_transfer_params=None), ChatCompletion(id='chatcmpl-c76fe43cc988430d8d2af9a00eea39bf', choices=[Choice(finish_reason='stop', index=0, logprobs=None, message=ChatCompletionMessage(content=\"None of the documents directly mention Andy Murray's siblings. However, we can infer that since Andy Murray has a brother named Jamie Murray, who also plays tennis, Andy Murray likely has at least one sibling.\\n\\n<cite>\\n3, 16\\n</cite>\\n\\n<answer>\\nAndy Murray's sibling is Jamie Murray.\\n</answer>\", refusal=None, role='assistant', annotations=None, audio=None, function_call=None, tool_calls=[], reasoning_content=None), stop_reason=None)], created=1756127991, model='Qwen/Qwen2.5-7B-Instruct', object='chat.completion', service_tier=None, system_fingerprint=None, usage=CompletionUsage(completion_tokens=68, prompt_tokens=1594, total_tokens=1662, completion_tokens_details=None, prompt_tokens_details=None), prompt_logprobs=None, kv_transfer_params=None)], 'turn': 3}\n",
      "info\n",
      "{'answers': ['jamie murray', 'Jamie Murray'], 'docs': [{'body': \"Kallhälls BK was a sports club in Bosön, Sweden. The club won the Swedish men's national volleyball championship in 1964.\", 'id': '0', 'is_supporting': False, 'text': \"# Kallhälls BK\\nKallhälls BK was a sports club in Bosön, Sweden. The club won the Swedish men's national volleyball championship in 1964.\", 'title': 'Kallhälls BK'}, {'body': \"2018 Wimbledon Championships Date 2 -- 15 July Edition 132nd Grand Slam (ITF) Draw 128S / 64D / 48XD Prize money £34,000,000 Surface Grass Location Church Road SW19, Wimbledon, London, United Kingdom Venue All England Lawn Tennis and Croquet Club Champions Men's Singles Novak Djokovic Women's Singles Angelique Kerber Men's Doubles Mike Bryan / Jack Sock Women's Doubles Barbora Krejčíková / Kateřina Siniaková Mixed Doubles Alexander Peya / Nicole Melichar Boys' Singles Tseng Chun - hsin Girls' Singles Iga Świątek Boys' Doubles Yankı Erel / Otto Virtanen Girls' Doubles Wang Xinyu / Wang Xiyu Gentlemen's Invitation Doubles Tommy Haas / Mark Philippoussis Ladies' Invitation Doubles Kim Clijsters / Rennae Stubbs Senior Gentlemen's Invitation Doubles Jonas Björkman / Todd Woodbridge Wheelchair Men's Singles Stefan Olsson Wheelchair Women's Singles Diede de Groot Wheelchair Men's Doubles Alfie Hewett / Gordon Reid Wheelchair Women's Doubles Diede de Groot / Yui Kamiji Wheelchair Quad Doubles Andrew Lapthorne / David Wagner ← 2017 Wimbledon Championships 2019 →\", 'id': '1', 'is_supporting': False, 'text': \"# 2018 Wimbledon Championships\\n2018 Wimbledon Championships Date 2 -- 15 July Edition 132nd Grand Slam (ITF) Draw 128S / 64D / 48XD Prize money £34,000,000 Surface Grass Location Church Road SW19, Wimbledon, London, United Kingdom Venue All England Lawn Tennis and Croquet Club Champions Men's Singles Novak Djokovic Women's Singles Angelique Kerber Men's Doubles Mike Bryan / Jack Sock Women's Doubles Barbora Krejčíková / Kateřina Siniaková Mixed Doubles Alexander Peya / Nicole Melichar Boys' Singles Tseng Chun - hsin Girls' Singles Iga Świątek Boys' Doubles Yankı Erel / Otto Virtanen Girls' Doubles Wang Xinyu / Wang Xiyu Gentlemen's Invitation Doubles Tommy Haas / Mark Philippoussis Ladies' Invitation Doubles Kim Clijsters / Rennae Stubbs Senior Gentlemen's Invitation Doubles Jonas Björkman / Todd Woodbridge Wheelchair Men's Singles Stefan Olsson Wheelchair Women's Singles Diede de Groot Wheelchair Men's Doubles Alfie Hewett / Gordon Reid Wheelchair Women's Doubles Diede de Groot / Yui Kamiji Wheelchair Quad Doubles Andrew Lapthorne / David Wagner ← 2017 Wimbledon Championships 2019 →\", 'title': '2018 Wimbledon Championships'}, {'body': \"Federer has won a record eight Wimbledon titles, a joint - record six Australian Open titles, a record five consecutive US Open titles, and one French Open title. He is one of eight men to have captured a career Grand Slam. Federer has reached a record 30 men's singles Grand Slam finals, including 10 in a row from the 2005 Wimbledon Championships to the 2007 US Open. He reached the semifinals at 23 consecutive Grand Slam tournaments, from the 2004 Wimbledon Championships through to the 2010 Australian Open. Federer has also won a record six ATP Finals, 27 ATP World Tour Masters 1000 titles, and a record 20 ATP World Tour 500 titles. Given these achievements, many players and analysts consider Federer the greatest tennis player of all time.\", 'id': '2', 'is_supporting': False, 'text': \"# Roger Federer\\nFederer has won a record eight Wimbledon titles, a joint - record six Australian Open titles, a record five consecutive US Open titles, and one French Open title. He is one of eight men to have captured a career Grand Slam. Federer has reached a record 30 men's singles Grand Slam finals, including 10 in a row from the 2005 Wimbledon Championships to the 2007 US Open. He reached the semifinals at 23 consecutive Grand Slam tournaments, from the 2004 Wimbledon Championships through to the 2010 Australian Open. Federer has also won a record six ATP Finals, 27 ATP World Tour Masters 1000 titles, and a record 20 ATP World Tour 500 titles. Given these achievements, many players and analysts consider Federer the greatest tennis player of all time.\", 'title': 'Roger Federer'}, {'body': \"Graham Oberlin-Brown (born 8 February 1988) is a New Zealand rower. In 2006 (aged 18) along with Peter Taylor he became the Under 23 World Champion in the men's lightweight double sculls, and in doing so set a new world under 23 best time. In 2008 Oberlin-Brown won his second Under 23 World Championship in the men's lightweight single (aged 20). At the 2010 World Rowing Championships, he won a silver medal in the lightweight men's pair partnering with James Lassche. Oberlin-Brown represented New Zealand in rowing from 2006 to 2012.\", 'id': '3', 'is_supporting': False, 'text': \"# Graham Oberlin-Brown\\nGraham Oberlin-Brown (born 8 February 1988) is a New Zealand rower. In 2006 (aged 18) along with Peter Taylor he became the Under 23 World Champion in the men's lightweight double sculls, and in doing so set a new world under 23 best time. In 2008 Oberlin-Brown won his second Under 23 World Championship in the men's lightweight single (aged 20). At the 2010 World Rowing Championships, he won a silver medal in the lightweight men's pair partnering with James Lassche. Oberlin-Brown represented New Zealand in rowing from 2006 to 2012.\", 'title': 'Graham Oberlin-Brown'}, {'body': \"The 1980 Wimbledon Men's Singles final was the championship tennis match of the Men's Singles tournament at the 1980 Wimbledon Championships. In the final, Björn Borg defeated John McEnroe 1 -- 6, 7 -- 5, 6 -- 3, 6 -- 7, 8 -- 6 to win the match. It was regarded at the time as the greatest match ever played. It would be another 28 years before the 2008 Wimbledon men's singles final between Roger Federer and Rafael Nadal would rival the match as the greatest ever played.\", 'id': '4', 'is_supporting': False, 'text': \"# 1980 Wimbledon Championships – Men's singles final\\nThe 1980 Wimbledon Men's Singles final was the championship tennis match of the Men's Singles tournament at the 1980 Wimbledon Championships. In the final, Björn Borg defeated John McEnroe 1 -- 6, 7 -- 5, 6 -- 3, 6 -- 7, 8 -- 6 to win the match. It was regarded at the time as the greatest match ever played. It would be another 28 years before the 2008 Wimbledon men's singles final between Roger Federer and Rafael Nadal would rival the match as the greatest ever played.\", 'title': \"1980 Wimbledon Championships – Men's singles final\"}, {'body': \"Roger Federer achieved his record eighth Wimbledon and 19th Grand Slam men's singles title, defeating Marin Čilić in the final, 6 -- 3, 6 -- 1, 6 -- 4. Federer thus became the only male player to win the Wimbledon singles title eight times, as well as only the second man in the Open era, after Björn Borg in 1976, to win Wimbledon without losing a set. This was Federer's 70th appearance at a Grand Slam, tying the record for male players and a record - breaking 11th men's singles final at the same Grand Slam tournament. In addition, by virtue of his third - round win over Mischa Zverev, Federer won his 317th Grand Slam singles match, surpassing Serena Williams' record of 316 match wins and giving him the all - time record for the most Grand Slam singles wins by any player, male or female. The tournament marked the fifth time that Nadal and Federer won the French Open and Wimbledon respectively in the same year.\", 'id': '5', 'is_supporting': False, 'text': \"# 2017 Wimbledon Championships – Men's Singles\\nRoger Federer achieved his record eighth Wimbledon and 19th Grand Slam men's singles title, defeating Marin Čilić in the final, 6 -- 3, 6 -- 1, 6 -- 4. Federer thus became the only male player to win the Wimbledon singles title eight times, as well as only the second man in the Open era, after Björn Borg in 1976, to win Wimbledon without losing a set. This was Federer's 70th appearance at a Grand Slam, tying the record for male players and a record - breaking 11th men's singles final at the same Grand Slam tournament. In addition, by virtue of his third - round win over Mischa Zverev, Federer won his 317th Grand Slam singles match, surpassing Serena Williams' record of 316 match wins and giving him the all - time record for the most Grand Slam singles wins by any player, male or female. The tournament marked the fifth time that Nadal and Federer won the French Open and Wimbledon respectively in the same year.\", 'title': \"2017 Wimbledon Championships – Men's Singles\"}, {'body': 'Serena Williams won her sixth Wimbledon and 21st major title, defeating first - time finalist Garbiñe Muguruza in the final, 6 -- 4, 6 -- 4. She also achieved her second non-calendar year Grand Slam after winning the 2014 US Open, 2015 Australian Open and 2015 French Open. With this win, Williams also became the oldest woman to win a Grand Slam singles title in the Open Era at 33 years and 289 days old by 26 days, beating Martina Navratilova, who won the 1990 Wimbledon Championships at 33 years and 263 days old.', 'id': '6', 'is_supporting': False, 'text': '# 2015 Wimbledon Championships\\nSerena Williams won her sixth Wimbledon and 21st major title, defeating first - time finalist Garbiñe Muguruza in the final, 6 -- 4, 6 -- 4. She also achieved her second non-calendar year Grand Slam after winning the 2014 US Open, 2015 Australian Open and 2015 French Open. With this win, Williams also became the oldest woman to win a Grand Slam singles title in the Open Era at 33 years and 289 days old by 26 days, beating Martina Navratilova, who won the 1990 Wimbledon Championships at 33 years and 263 days old.', 'title': '2015 Wimbledon Championships'}, {'body': \"Pete Sampras successfully defended his title, defeating Andre Agassi in the final, 6–3, 6–4, 7–5 to win the Gentlemen's Singles tennis title at the 1999 Wimbledon Championships. With this win, his sixth at Wimbledon, Sampras broke Björn Borg's then open era record of five Wimbledon titles, and equalled Roy Emerson's then record of twelve Grand Slam titles. Sampras' victory over Agassi in the final is often cited as one of the greatest performances in a Wimbledon final. However, despite his victory, Sampras lost his No. 1 ranking when the ATP rankings were updated a day later to Agassi, who in addition to his run to the Wimbledon Final, had recently won the 1999 French Open.\", 'id': '7', 'is_supporting': False, 'text': \"# 1999 Wimbledon Championships – Men's Singles\\nPete Sampras successfully defended his title, defeating Andre Agassi in the final, 6–3, 6–4, 7–5 to win the Gentlemen's Singles tennis title at the 1999 Wimbledon Championships. With this win, his sixth at Wimbledon, Sampras broke Björn Borg's then open era record of five Wimbledon titles, and equalled Roy Emerson's then record of twelve Grand Slam titles. Sampras' victory over Agassi in the final is often cited as one of the greatest performances in a Wimbledon final. However, despite his victory, Sampras lost his No. 1 ranking when the ATP rankings were updated a day later to Agassi, who in addition to his run to the Wimbledon Final, had recently won the 1999 French Open.\", 'title': \"1999 Wimbledon Championships – Men's Singles\"}, {'body': 'Andy Murray and Jamie Murray were the defending champions but decided to participate at Basel instead. The brothers Bob and Mike Bryan became the new champions, defeating Eric Butorac and Jean-Julien Rojer in the final.', 'id': '8', 'is_supporting': True, 'text': '# 2011 Valencia Open 500 – Doubles\\nAndy Murray and Jamie Murray were the defending champions but decided to participate at Basel instead. The brothers Bob and Mike Bryan became the new champions, defeating Eric Butorac and Jean-Julien Rojer in the final.', 'title': '2011 Valencia Open 500 – Doubles'}, {'body': 'The 2015 Wimbledon Championships was a Grand Slam tennis tournament which took place at the All England Lawn Tennis and Croquet Club in Wimbledon, London, United Kingdom, from 29 June to 12 July 2015.', 'id': '9', 'is_supporting': False, 'text': '# 2015 Wimbledon Championships\\nThe 2015 Wimbledon Championships was a Grand Slam tennis tournament which took place at the All England Lawn Tennis and Croquet Club in Wimbledon, London, United Kingdom, from 29 June to 12 July 2015.', 'title': '2015 Wimbledon Championships'}, {'body': \"In 1884, the club added Ladies' Singles and Gentlemen's Doubles competitions. Ladies' Doubles and Mixed Doubles events were added in 1913. Until 1922, the reigning champion had to play only in the final, against whomever had won through to challenge him/her. As with the other three Major or Grand Slam events, Wimbledon was contested by top-ranked amateur players; professional players were prohibited from participating. This changed with the advent of the open era in 1968. No British man won the singles event at Wimbledon between Fred Perry in 1936 and Andy Murray in 2013, while no British woman has won since Virginia Wade in 1977, although Annabel Croft and Laura Robson won the Girls' Championship in 1984 and 2008 respectively. The Championship was first televised in 1937.\", 'id': '10', 'is_supporting': False, 'text': \"# The Championships, Wimbledon\\nIn 1884, the club added Ladies' Singles and Gentlemen's Doubles competitions. Ladies' Doubles and Mixed Doubles events were added in 1913. Until 1922, the reigning champion had to play only in the final, against whomever had won through to challenge him/her. As with the other three Major or Grand Slam events, Wimbledon was contested by top-ranked amateur players; professional players were prohibited from participating. This changed with the advent of the open era in 1968. No British man won the singles event at Wimbledon between Fred Perry in 1936 and Andy Murray in 2013, while no British woman has won since Virginia Wade in 1977, although Annabel Croft and Laura Robson won the Girls' Championship in 1984 and 2008 respectively. The Championship was first televised in 1937.\", 'title': 'The Championships, Wimbledon'}, {'body': \"The 2001 World Men's Handball Championship took place in France from 23 January to 4 February 2001. It was the 17th edition of the World Championship in team handball and the hosts won the championship.\", 'id': '11', 'is_supporting': False, 'text': \"# 2001 World Men's Handball Championship\\nThe 2001 World Men's Handball Championship took place in France from 23 January to 4 February 2001. It was the 17th edition of the World Championship in team handball and the hosts won the championship.\", 'title': \"2001 World Men's Handball Championship\"}, {'body': 'The 2011 Wimbledon Championships was a tennis tournament played on grass courts at the All England Lawn Tennis and Croquet Club in Wimbledon, London in England. It was the 125th edition of the Wimbledon Championships and were held from 20 June to 3 July 2011. It was the third Grand Slam tennis event of the year and was part of the ATP World Tour, the WTA Tour, the ITF Junior Tour and the NEC Tour. The championships were organised by the All England Lawn Tennis and Croquet Club and the International Tennis Federation.', 'id': '12', 'is_supporting': False, 'text': '# 2011 Wimbledon Championships\\nThe 2011 Wimbledon Championships was a tennis tournament played on grass courts at the All England Lawn Tennis and Croquet Club in Wimbledon, London in England. It was the 125th edition of the Wimbledon Championships and were held from 20 June to 3 July 2011. It was the third Grand Slam tennis event of the year and was part of the ATP World Tour, the WTA Tour, the ITF Junior Tour and the NEC Tour. The championships were organised by the All England Lawn Tennis and Croquet Club and the International Tennis Federation.', 'title': '2011 Wimbledon Championships'}, {'body': \"The Storvreta Innebandyklubb or Storvreta IBK, is a floorball club based in Storvreta, Sweden. The men's team plays in Sweden's highest floorball league, the SSL. They won the Swedish national championship in 2010, 2011, 2012, 2016, 2018 and 2019.\", 'id': '13', 'is_supporting': False, 'text': \"# Storvreta IBK\\nThe Storvreta Innebandyklubb or Storvreta IBK, is a floorball club based in Storvreta, Sweden. The men's team plays in Sweden's highest floorball league, the SSL. They won the Swedish national championship in 2010, 2011, 2012, 2016, 2018 and 2019.\", 'title': 'Storvreta IBK'}, {'body': \"In 1884, the club added Ladies' Singles and Gentlemen's Doubles competitions. Ladies' Doubles and Mixed Doubles events were added in 1913. Until 1922, the reigning champion had to play only in the final, against whomever had won through to challenge him / her. As with the other three Major or Grand Slam events, Wimbledon was contested by top - ranked amateur players, professional players were prohibited from participating. This changed with the advent of the open era in 1968. No British man won the singles event at Wimbledon between Fred Perry in 1936 and Andy Murray in 2013, while no British woman has won since Virginia Wade in 1977, although Annabel Croft and Laura Robson won the Girls' Championship in 1984 and 2008 respectively. The Championship was first televised in 1937.\", 'id': '14', 'is_supporting': False, 'text': \"# The Championships, Wimbledon\\nIn 1884, the club added Ladies' Singles and Gentlemen's Doubles competitions. Ladies' Doubles and Mixed Doubles events were added in 1913. Until 1922, the reigning champion had to play only in the final, against whomever had won through to challenge him / her. As with the other three Major or Grand Slam events, Wimbledon was contested by top - ranked amateur players, professional players were prohibited from participating. This changed with the advent of the open era in 1968. No British man won the singles event at Wimbledon between Fred Perry in 1936 and Andy Murray in 2013, while no British woman has won since Virginia Wade in 1977, although Annabel Croft and Laura Robson won the Girls' Championship in 1984 and 2008 respectively. The Championship was first televised in 1937.\", 'title': 'The Championships, Wimbledon'}, {'body': \"Men's Singles 2017 Wimbledon Championships Champion Roger Federer Runner - up Marin Čilić Final score 6 -- 3, 6 -- 1, 6 -- 4 Details Draw 128 (16 Q / 8 WC) Seeds 32 Events Singles men women boys girls Doubles men women mixed boys girls Legends men women seniors WC Doubles men women ← 2016 Wimbledon Championships 2018 →\", 'id': '15', 'is_supporting': False, 'text': \"# 2017 Wimbledon Championships – Men's Singles\\nMen's Singles 2017 Wimbledon Championships Champion Roger Federer Runner - up Marin Čilić Final score 6 -- 3, 6 -- 1, 6 -- 4 Details Draw 128 (16 Q / 8 WC) Seeds 32 Events Singles men women boys girls Doubles men women mixed boys girls Legends men women seniors WC Doubles men women ← 2016 Wimbledon Championships 2018 →\", 'title': \"2017 Wimbledon Championships – Men's Singles\"}, {'body': \"Novak Djokovic was the two - time defending champion in the Gentlemen's Singles, but he lost in the third round to Sam Querrey, ending a 30 - match winning streak in Grand Slams and Djokovic's hopes of becoming the first man to achieve the golden calendar slam. The Gentlemen's Singles title was won by Andy Murray. Serena Williams successfully defended her Ladies' Singles title and equaled Steffi Graf's Open Era record of 22 major singles titles.\", 'id': '16', 'is_supporting': True, 'text': \"# 2016 Wimbledon Championships\\nNovak Djokovic was the two - time defending champion in the Gentlemen's Singles, but he lost in the third round to Sam Querrey, ending a 30 - match winning streak in Grand Slams and Djokovic's hopes of becoming the first man to achieve the golden calendar slam. The Gentlemen's Singles title was won by Andy Murray. Serena Williams successfully defended her Ladies' Singles title and equaled Steffi Graf's Open Era record of 22 major singles titles.\", 'title': '2016 Wimbledon Championships'}, {'body': \"The ISU was founded in 1892. The first European Championships were held in 1891, and the first World Championships were held in 1896 and won by Gilbert Fuchs. Only men competed in these events. In 1902, a woman, Madge Syers, entered the World competition for the first time, finishing second. The ISU quickly banned women from competing against men, but established a separate competition for ``ladies ''in 1906. Pair skating was introduced at the 1908 World Championships, where the title was won by Anna Hübler / Heinrich Burger. Figure skating's Olympic debut came at the 1908 Summer Olympics -- it was the first winter sport introduced to the Olympics.\", 'id': '17', 'is_supporting': False, 'text': \"# Figure skating\\nThe ISU was founded in 1892. The first European Championships were held in 1891, and the first World Championships were held in 1896 and won by Gilbert Fuchs. Only men competed in these events. In 1902, a woman, Madge Syers, entered the World competition for the first time, finishing second. The ISU quickly banned women from competing against men, but established a separate competition for ``ladies ''in 1906. Pair skating was introduced at the 1908 World Championships, where the title was won by Anna Hübler / Heinrich Burger. Figure skating's Olympic debut came at the 1908 Summer Olympics -- it was the first winter sport introduced to the Olympics.\", 'title': 'Figure skating'}, {'body': \"The 2007 UCI Road World Championships took place in Stuttgart, Germany, between September 25 and September 30, 2007. The event consisted of a road race and a time trial for men, women and men under 23. Italian Paolo Bettini and Swiss Fabian Cancellara both won their second world championships in a row in the elite men's road race and time trial respectively.\", 'id': '18', 'is_supporting': False, 'text': \"# 2007 UCI Road World Championships\\nThe 2007 UCI Road World Championships took place in Stuttgart, Germany, between September 25 and September 30, 2007. The event consisted of a road race and a time trial for men, women and men under 23. Italian Paolo Bettini and Swiss Fabian Cancellara both won their second world championships in a row in the elite men's road race and time trial respectively.\", 'title': '2007 UCI Road World Championships'}, {'body': \"Raatbek Sanatbayev (May 7, 1969 – January 8, 2006 in Bishkek, Kyrgyzstan) was a Kyrgyz Greco-Roman wrestler who competed in the Men's Greco-Roman 82\\xa0kg at the 1996 Summer Olympics and the Men's Greco-Roman 85\\xa0kg at the 2000 Summer Olympics. He won the bronze medal at the 1999 World Championships, and won the Asian Championship in 1999 and 2000, silver medals in the 1995 and 1997 Asian Championships and 1994 and 1998 Asian Games, and a bronze medal at the 1996 Asian Championships.\", 'id': '19', 'is_supporting': False, 'text': \"# Raatbek Sanatbayev\\nRaatbek Sanatbayev (May 7, 1969 – January 8, 2006 in Bishkek, Kyrgyzstan) was a Kyrgyz Greco-Roman wrestler who competed in the Men's Greco-Roman 82\\xa0kg at the 1996 Summer Olympics and the Men's Greco-Roman 85\\xa0kg at the 2000 Summer Olympics. He won the bronze medal at the 1999 World Championships, and won the Asian Championship in 1999 and 2000, silver medals in the 1995 and 1997 Asian Championships and 1994 and 1998 Asian Games, and a bronze medal at the 1996 Asian Championships.\", 'title': 'Raatbek Sanatbayev'}], 'id': '2hop__83800_747874', 'n_hops': 2, 'oai_tools': [{'type': 'function', 'function': {'name': 'retrieve_documents', 'description': 'Retrieve relevant documents by the query. The results get better with more specific queries.', 'parameters': {'type': 'object', 'properties': {'query': {'type': 'string', 'description': 'Parameter `query` of type string.'}, 'top_n': {'type': 'integer', 'description': 'Parameter `top_n` of type integer.'}}, 'required': ['query']}}}, {'type': 'function', 'function': {'name': 'get_document', 'description': 'Get a document by its ID.', 'parameters': {'type': 'object', 'properties': {'doc_id': {'type': 'string', 'description': 'Parameter `doc_id` of type string.'}}, 'required': ['doc_id']}}}]}\n",
      "task\n",
      "default\n",
      "reward\n",
      "0.33055555555555555\n",
      "metrics\n",
      "<class 'dict'>\n"
     ]
    },
    {
     "name": "stderr",
     "output_type": "stream",
     "text": [
      "/tmp/ipykernel_1757079/3696243233.py:3: PydanticDeprecatedSince20: The `__fields__` attribute is deprecated, use `model_fields` instead. Deprecated in Pydantic V2.0 to be removed in V3.0. See Pydantic V2 Migration Guide at https://errors.pydantic.dev/2.11/migration/\n",
      "  for field in GenerateOutputs.__fields__.keys():\n"
     ]
    }
   ],
   "source": [
    "from verifiers.types import GenerateOutputs\n",
    "\n",
    "for field in GenerateOutputs.__fields__.keys():\n",
    "    print(field)\n",
    "\n",
    "    _type = type(getattr(results, field))\n",
    "    if _type == list:\n",
    "        print(getattr(results, field)[0])\n",
    "    else:\n",
    "        print(type(getattr(results, field)))"
   ]
  },
  {
   "cell_type": "code",
   "execution_count": 33,
   "id": "04618244",
   "metadata": {},
   "outputs": [
    {
     "data": {
      "text/plain": [
       "Dataset({\n",
       "    features: ['prompt', 'completion', 'answer', 'info', 'task', 'reward', 'exact_match_reward', 'f1_reward', 'retrieval_recall_reward', 'citation_reward', 'format_reward', 'combined_reward'],\n",
       "    num_rows: 8\n",
       "})"
      ]
     },
     "execution_count": 33,
     "metadata": {},
     "output_type": "execute_result"
    }
   ],
   "source": [
    "ds = vf_env.make_dataset(results)\n",
    "ds"
   ]
  },
  {
   "cell_type": "code",
   "execution_count": 34,
   "id": "205448ce",
   "metadata": {},
   "outputs": [
    {
     "data": {
      "application/vnd.jupyter.widget-view+json": {
       "model_id": "cf6da443c492409c99e24abbdd02e0b6",
       "version_major": 2,
       "version_minor": 0
      },
      "text/plain": [
       "Creating json from Arrow format:   0%|          | 0/1 [00:00<?, ?ba/s]"
      ]
     },
     "metadata": {},
     "output_type": "display_data"
    },
    {
     "data": {
      "text/plain": [
       "250629"
      ]
     },
     "execution_count": 34,
     "metadata": {},
     "output_type": "execute_result"
    }
   ],
   "source": [
    "ds.to_json(\"../outputs/sample.jsonl\", orient=\"records\", lines=True)"
   ]
  },
  {
   "cell_type": "code",
   "execution_count": 35,
   "id": "810fa60f",
   "metadata": {},
   "outputs": [],
   "source": [
    "df = ds.to_pandas()"
   ]
  },
  {
   "cell_type": "code",
   "execution_count": 36,
   "id": "a9c7950f",
   "metadata": {},
   "outputs": [
    {
     "data": {
      "text/html": [
       "<div>\n",
       "<style scoped>\n",
       "    .dataframe tbody tr th:only-of-type {\n",
       "        vertical-align: middle;\n",
       "    }\n",
       "\n",
       "    .dataframe tbody tr th {\n",
       "        vertical-align: top;\n",
       "    }\n",
       "\n",
       "    .dataframe thead th {\n",
       "        text-align: right;\n",
       "    }\n",
       "</style>\n",
       "<table border=\"1\" class=\"dataframe\">\n",
       "  <thead>\n",
       "    <tr style=\"text-align: right;\">\n",
       "      <th></th>\n",
       "      <th>exact_match_reward</th>\n",
       "      <th>f1_reward</th>\n",
       "      <th>retrieval_recall_reward</th>\n",
       "      <th>citation_reward</th>\n",
       "      <th>format_reward</th>\n",
       "      <th>combined_reward</th>\n",
       "    </tr>\n",
       "  </thead>\n",
       "  <tbody>\n",
       "    <tr>\n",
       "      <th>count</th>\n",
       "      <td>8.000000</td>\n",
       "      <td>8.000000</td>\n",
       "      <td>8.000000</td>\n",
       "      <td>8.000000</td>\n",
       "      <td>8.000000</td>\n",
       "      <td>8.000000</td>\n",
       "    </tr>\n",
       "    <tr>\n",
       "      <th>mean</th>\n",
       "      <td>0.125000</td>\n",
       "      <td>0.301171</td>\n",
       "      <td>0.875000</td>\n",
       "      <td>0.687500</td>\n",
       "      <td>0.833333</td>\n",
       "      <td>0.347953</td>\n",
       "    </tr>\n",
       "    <tr>\n",
       "      <th>std</th>\n",
       "      <td>0.353553</td>\n",
       "      <td>0.334924</td>\n",
       "      <td>0.231455</td>\n",
       "      <td>0.258775</td>\n",
       "      <td>0.178174</td>\n",
       "      <td>0.100150</td>\n",
       "    </tr>\n",
       "    <tr>\n",
       "      <th>min</th>\n",
       "      <td>0.000000</td>\n",
       "      <td>0.000000</td>\n",
       "      <td>0.500000</td>\n",
       "      <td>0.500000</td>\n",
       "      <td>0.666667</td>\n",
       "      <td>0.200000</td>\n",
       "    </tr>\n",
       "    <tr>\n",
       "      <th>25%</th>\n",
       "      <td>0.000000</td>\n",
       "      <td>0.055556</td>\n",
       "      <td>0.875000</td>\n",
       "      <td>0.500000</td>\n",
       "      <td>0.666667</td>\n",
       "      <td>0.286389</td>\n",
       "    </tr>\n",
       "    <tr>\n",
       "      <th>50%</th>\n",
       "      <td>0.000000</td>\n",
       "      <td>0.217647</td>\n",
       "      <td>1.000000</td>\n",
       "      <td>0.500000</td>\n",
       "      <td>0.833333</td>\n",
       "      <td>0.348611</td>\n",
       "    </tr>\n",
       "    <tr>\n",
       "      <th>75%</th>\n",
       "      <td>0.000000</td>\n",
       "      <td>0.425000</td>\n",
       "      <td>1.000000</td>\n",
       "      <td>1.000000</td>\n",
       "      <td>1.000000</td>\n",
       "      <td>0.399804</td>\n",
       "    </tr>\n",
       "    <tr>\n",
       "      <th>max</th>\n",
       "      <td>1.000000</td>\n",
       "      <td>1.000000</td>\n",
       "      <td>1.000000</td>\n",
       "      <td>1.000000</td>\n",
       "      <td>1.000000</td>\n",
       "      <td>0.516667</td>\n",
       "    </tr>\n",
       "  </tbody>\n",
       "</table>\n",
       "</div>"
      ],
      "text/plain": [
       "       exact_match_reward  f1_reward  retrieval_recall_reward  \\\n",
       "count            8.000000   8.000000                 8.000000   \n",
       "mean             0.125000   0.301171                 0.875000   \n",
       "std              0.353553   0.334924                 0.231455   \n",
       "min              0.000000   0.000000                 0.500000   \n",
       "25%              0.000000   0.055556                 0.875000   \n",
       "50%              0.000000   0.217647                 1.000000   \n",
       "75%              0.000000   0.425000                 1.000000   \n",
       "max              1.000000   1.000000                 1.000000   \n",
       "\n",
       "       citation_reward  format_reward  combined_reward  \n",
       "count         8.000000       8.000000         8.000000  \n",
       "mean          0.687500       0.833333         0.347953  \n",
       "std           0.258775       0.178174         0.100150  \n",
       "min           0.500000       0.666667         0.200000  \n",
       "25%           0.500000       0.666667         0.286389  \n",
       "50%           0.500000       0.833333         0.348611  \n",
       "75%           1.000000       1.000000         0.399804  \n",
       "max           1.000000       1.000000         0.516667  "
      ]
     },
     "execution_count": 36,
     "metadata": {},
     "output_type": "execute_result"
    }
   ],
   "source": [
    "metric_cols = [\n",
    "    'exact_match_reward',\n",
    "    'f1_reward',\n",
    "    'retrieval_recall_reward',\n",
    "    'citation_reward',\n",
    "    'format_reward',\n",
    "    'combined_reward',\n",
    "]\n",
    "df[metric_cols].describe()"
   ]
  },
  {
   "cell_type": "code",
   "execution_count": null,
   "id": "b3985c33",
   "metadata": {},
   "outputs": [],
   "source": []
  }
 ],
 "metadata": {
  "kernelspec": {
   "display_name": ".venv",
   "language": "python",
   "name": "python3"
  },
  "language_info": {
   "codemirror_mode": {
    "name": "ipython",
    "version": 3
   },
   "file_extension": ".py",
   "mimetype": "text/x-python",
   "name": "python",
   "nbconvert_exporter": "python",
   "pygments_lexer": "ipython3",
   "version": "3.12.9"
  }
 },
 "nbformat": 4,
 "nbformat_minor": 5
}
