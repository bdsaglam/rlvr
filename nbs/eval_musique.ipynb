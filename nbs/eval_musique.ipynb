{
 "cells": [
  {
   "cell_type": "code",
   "execution_count": 1,
   "id": "a143f034",
   "metadata": {},
   "outputs": [],
   "source": [
    "from pathlib import Path\n",
    "\n",
    "import pandas as pd\n",
    "import verifiers as vf\n",
    "from dotenv import load_dotenv\n",
    "from openai import AsyncOpenAI\n",
    "\n",
    "\n",
    "assert load_dotenv(), \"Failed to load .env file\""
   ]
  },
  {
   "cell_type": "code",
   "execution_count": 2,
   "id": "8c39fb68",
   "metadata": {},
   "outputs": [
    {
     "data": {
      "text/plain": [
       "{'env_id': 'vf-musique-multi',\n",
       " 'datasets_str': 'bdsaglam/musique-mini,answerable,validation',\n",
       " 'noise_rate': 1.0,\n",
       " 'retriever': 'hybrid',\n",
       " 'model': 'Qwen/Qwen2.5-7B-Instruct',\n",
       " 'temperature': 0.5,\n",
       " 'max_new_tokens': 1024}"
      ]
     },
     "execution_count": 2,
     "metadata": {},
     "output_type": "execute_result"
    }
   ],
   "source": [
    "from rlvr.utils.llm import get_default_model\n",
    "\n",
    "env_id = \"vf-musique-multi\"\n",
    "datasets_str = \"bdsaglam/musique-mini,answerable,validation\"\n",
    "noise_rate = 1.0\n",
    "retriever = \"hybrid\"\n",
    "model = get_default_model()\n",
    "temperature = 0.5\n",
    "max_new_tokens = 1024\n",
    "\n",
    "params = {\n",
    "    \"env_id\": env_id,\n",
    "    \"datasets_str\": datasets_str,\n",
    "    \"noise_rate\": noise_rate,\n",
    "    \"retriever\": retriever,\n",
    "    \"model\": model,\n",
    "    \"temperature\": temperature,\n",
    "    \"max_new_tokens\": max_new_tokens,\n",
    "}\n",
    "params"
   ]
  },
  {
   "cell_type": "code",
   "execution_count": 3,
   "id": "38c354da",
   "metadata": {},
   "outputs": [
    {
     "data": {
      "text/plain": [
       "<Experiment: artifact_location='mlflow-artifacts:/2', creation_time=1756636926792, experiment_id='2', last_update_time=1756636926792, lifecycle_stage='active', name='rlvr-eval', tags={}>"
      ]
     },
     "execution_count": 3,
     "metadata": {},
     "output_type": "execute_result"
    }
   ],
   "source": [
    "import mlflow\n",
    "\n",
    "# Tell MLflow about the server URI.\n",
    "mlflow.set_tracking_uri(\"http://127.0.0.1:5000\")\n",
    "# Enable autologging with all features\n",
    "mlflow.openai.autolog()\n",
    "# Create a unique name for your experiment.\n",
    "mlflow.set_experiment(\"rlvr-eval\")"
   ]
  },
  {
   "cell_type": "code",
   "execution_count": null,
   "id": "c4817b65",
   "metadata": {},
   "outputs": [
    {
     "name": "stdout",
     "output_type": "stream",
     "text": [
      "🌍 Loading MuSiQue environment...\n"
     ]
    },
    {
     "data": {
      "application/vnd.jupyter.widget-view+json": {
       "model_id": "ad4053c8d6d848a98d9f362bb1ce8841",
       "version_major": 2,
       "version_minor": 0
      },
      "text/plain": [
       "Map: 100%|##########| 300/300 [00:00<?, ? examples/s]"
      ]
     },
     "metadata": {},
     "output_type": "display_data"
    },
    {
     "data": {
      "application/vnd.jupyter.widget-view+json": {
       "model_id": "f4610fbf23e14620a313e3fad2162428",
       "version_major": 2,
       "version_minor": 0
      },
      "text/plain": [
       "Filter:   0%|          | 0/300 [00:00<?, ? examples/s]"
      ]
     },
     "metadata": {},
     "output_type": "display_data"
    },
    {
     "data": {
      "application/vnd.jupyter.widget-view+json": {
       "model_id": "6b41dab39c9d4f8984b8e35818260db0",
       "version_major": 2,
       "version_minor": 0
      },
      "text/plain": [
       "Map:   0%|          | 0/100 [00:00<?, ? examples/s]"
      ]
     },
     "metadata": {},
     "output_type": "display_data"
    },
    {
     "data": {
      "application/vnd.jupyter.widget-view+json": {
       "model_id": "6058ac790ccc4ec084ff8e82fe426c31",
       "version_major": 2,
       "version_minor": 0
      },
      "text/plain": [
       "Map:   0%|          | 0/100 [00:00<?, ? examples/s]"
      ]
     },
     "metadata": {},
     "output_type": "display_data"
    },
    {
     "name": "stderr",
     "output_type": "stream",
     "text": [
      "2025-09-14 19:11:14 - verifiers.envs.MuSiQueEnv - INFO - eval_dataset is not set, falling back to train dataset\n"
     ]
    },
    {
     "name": "stdout",
     "output_type": "stream",
     "text": [
      "✅ Environment loaded with 100 examples\n",
      "🤖 Using OpenAI-compatible API client...\n",
      "🔄 Running evaluation...\n"
     ]
    },
    {
     "name": "stderr",
     "output_type": "stream",
     "text": [
      "Running 100 rollouts:  43%|████▎     | 43/100 [00:53<01:09,  1.21s/it]"
     ]
    }
   ],
   "source": [
    "# Load MuSiQue environment\n",
    "print(\"🌍 Loading MuSiQue environment...\")\n",
    "\n",
    "vf_env = vf.load_environment(\n",
    "    env_id=env_id,\n",
    "    datasets_str=datasets_str,\n",
    "    noise_rate=noise_rate,\n",
    "    retriever=retriever,\n",
    ")\n",
    "print(f\"✅ Environment loaded with {len(vf_env.dataset)} examples\")\n",
    "\n",
    "# Use OpenAI-compatible API client (e.g., for vLLM)\n",
    "print(\"🤖 Using OpenAI-compatible API client...\")\n",
    "\n",
    "# Run evaluation using the environment\n",
    "print(\"🔄 Running evaluation...\")\n",
    "openai_client = AsyncOpenAI()\n",
    "results = vf_env.evaluate(\n",
    "    openai_client,\n",
    "    model,\n",
    "    rollouts_per_example=1,\n",
    "    sampling_args={\"temperature\": temperature, \"max_tokens\": max_new_tokens},\n",
    ")\n"
   ]
  },
  {
   "cell_type": "code",
   "execution_count": null,
   "id": "a94aaa04",
   "metadata": {},
   "outputs": [
    {
     "data": {
      "text/plain": [
       "232"
      ]
     },
     "execution_count": 5,
     "metadata": {},
     "output_type": "execute_result"
    }
   ],
   "source": [
    "from datetime import datetime\n",
    "import json\n",
    "\n",
    "exp_id = datetime.now().strftime(\"%Y%m%d_%H%M%S\")\n",
    "exp_dir = Path(f\"../outputs/musique-eval/{exp_id}\")\n",
    "exp_dir.mkdir(parents=True, exist_ok=True)\n",
    "\n",
    "(exp_dir / \"params.json\").write_text(json.dumps(params, indent=2))"
   ]
  },
  {
   "cell_type": "code",
   "execution_count": null,
   "id": "04618244",
   "metadata": {},
   "outputs": [],
   "source": [
    "ds = vf_env.make_dataset(results)\n",
    "df = ds.to_pandas()"
   ]
  },
  {
   "cell_type": "code",
   "execution_count": null,
   "id": "c38609cd",
   "metadata": {},
   "outputs": [
    {
     "data": {
      "text/html": [
       "<div>\n",
       "<style scoped>\n",
       "    .dataframe tbody tr th:only-of-type {\n",
       "        vertical-align: middle;\n",
       "    }\n",
       "\n",
       "    .dataframe tbody tr th {\n",
       "        vertical-align: top;\n",
       "    }\n",
       "\n",
       "    .dataframe thead th {\n",
       "        text-align: right;\n",
       "    }\n",
       "</style>\n",
       "<table border=\"1\" class=\"dataframe\">\n",
       "  <thead>\n",
       "    <tr style=\"text-align: right;\">\n",
       "      <th></th>\n",
       "      <th>reward</th>\n",
       "      <th>exact_match_reward</th>\n",
       "      <th>f1_reward</th>\n",
       "      <th>citation_reward</th>\n",
       "      <th>format_reward</th>\n",
       "      <th>combined_reward</th>\n",
       "    </tr>\n",
       "  </thead>\n",
       "  <tbody>\n",
       "    <tr>\n",
       "      <th>count</th>\n",
       "      <td>100.00000</td>\n",
       "      <td>100.0</td>\n",
       "      <td>100.0</td>\n",
       "      <td>100.0</td>\n",
       "      <td>100.00</td>\n",
       "      <td>100.00000</td>\n",
       "    </tr>\n",
       "    <tr>\n",
       "      <th>mean</th>\n",
       "      <td>0.00025</td>\n",
       "      <td>0.0</td>\n",
       "      <td>0.0</td>\n",
       "      <td>0.0</td>\n",
       "      <td>0.01</td>\n",
       "      <td>0.00025</td>\n",
       "    </tr>\n",
       "    <tr>\n",
       "      <th>std</th>\n",
       "      <td>0.00250</td>\n",
       "      <td>0.0</td>\n",
       "      <td>0.0</td>\n",
       "      <td>0.0</td>\n",
       "      <td>0.10</td>\n",
       "      <td>0.00250</td>\n",
       "    </tr>\n",
       "    <tr>\n",
       "      <th>min</th>\n",
       "      <td>0.00000</td>\n",
       "      <td>0.0</td>\n",
       "      <td>0.0</td>\n",
       "      <td>0.0</td>\n",
       "      <td>0.00</td>\n",
       "      <td>0.00000</td>\n",
       "    </tr>\n",
       "    <tr>\n",
       "      <th>25%</th>\n",
       "      <td>0.00000</td>\n",
       "      <td>0.0</td>\n",
       "      <td>0.0</td>\n",
       "      <td>0.0</td>\n",
       "      <td>0.00</td>\n",
       "      <td>0.00000</td>\n",
       "    </tr>\n",
       "    <tr>\n",
       "      <th>50%</th>\n",
       "      <td>0.00000</td>\n",
       "      <td>0.0</td>\n",
       "      <td>0.0</td>\n",
       "      <td>0.0</td>\n",
       "      <td>0.00</td>\n",
       "      <td>0.00000</td>\n",
       "    </tr>\n",
       "    <tr>\n",
       "      <th>75%</th>\n",
       "      <td>0.00000</td>\n",
       "      <td>0.0</td>\n",
       "      <td>0.0</td>\n",
       "      <td>0.0</td>\n",
       "      <td>0.00</td>\n",
       "      <td>0.00000</td>\n",
       "    </tr>\n",
       "    <tr>\n",
       "      <th>max</th>\n",
       "      <td>0.02500</td>\n",
       "      <td>0.0</td>\n",
       "      <td>0.0</td>\n",
       "      <td>0.0</td>\n",
       "      <td>1.00</td>\n",
       "      <td>0.02500</td>\n",
       "    </tr>\n",
       "  </tbody>\n",
       "</table>\n",
       "</div>"
      ],
      "text/plain": [
       "          reward  exact_match_reward  f1_reward  citation_reward  \\\n",
       "count  100.00000               100.0      100.0            100.0   \n",
       "mean     0.00025                 0.0        0.0              0.0   \n",
       "std      0.00250                 0.0        0.0              0.0   \n",
       "min      0.00000                 0.0        0.0              0.0   \n",
       "25%      0.00000                 0.0        0.0              0.0   \n",
       "50%      0.00000                 0.0        0.0              0.0   \n",
       "75%      0.00000                 0.0        0.0              0.0   \n",
       "max      0.02500                 0.0        0.0              0.0   \n",
       "\n",
       "       format_reward  combined_reward  \n",
       "count         100.00        100.00000  \n",
       "mean            0.01          0.00025  \n",
       "std             0.10          0.00250  \n",
       "min             0.00          0.00000  \n",
       "25%             0.00          0.00000  \n",
       "50%             0.00          0.00000  \n",
       "75%             0.00          0.00000  \n",
       "max             1.00          0.02500  "
      ]
     },
     "execution_count": 7,
     "metadata": {},
     "output_type": "execute_result"
    }
   ],
   "source": [
    "df.describe()"
   ]
  },
  {
   "cell_type": "code",
   "execution_count": null,
   "id": "60166588",
   "metadata": {},
   "outputs": [
    {
     "data": {
      "application/vnd.jupyter.widget-view+json": {
       "model_id": "4bec5d49689d4a88a31a0ddfdb908ce2",
       "version_major": 2,
       "version_minor": 0
      },
      "text/plain": [
       "Creating json from Arrow format:   0%|          | 0/1 [00:00<?, ?ba/s]"
      ]
     },
     "metadata": {},
     "output_type": "display_data"
    }
   ],
   "source": [
    "from datetime import datetime\n",
    "import json\n",
    "\n",
    "exp_id = datetime.now().strftime(\"%Y%m%d_%H%M%S\")\n",
    "exp_dir = Path(f\"../outputs/musique-eval/{exp_id}\")\n",
    "exp_dir.mkdir(parents=True, exist_ok=True)\n",
    "\n",
    "(exp_dir / \"params.json\").write_text(json.dumps(params, indent=2))\n",
    "ds.to_json(exp_dir / \"musique-eval-results.jsonl\", orient=\"records\", lines=True)\n",
    "df.describe().to_csv(exp_dir / \"scores.csv\")"
   ]
  },
  {
   "cell_type": "code",
   "execution_count": null,
   "id": "6416c4a7",
   "metadata": {},
   "outputs": [],
   "source": []
  }
 ],
 "metadata": {
  "kernelspec": {
   "display_name": ".venv",
   "language": "python",
   "name": "python3"
  },
  "language_info": {
   "codemirror_mode": {
    "name": "ipython",
    "version": 3
   },
   "file_extension": ".py",
   "mimetype": "text/x-python",
   "name": "python",
   "nbconvert_exporter": "python",
   "pygments_lexer": "ipython3",
   "version": "3.12.9"
  }
 },
 "nbformat": 4,
 "nbformat_minor": 5
}
