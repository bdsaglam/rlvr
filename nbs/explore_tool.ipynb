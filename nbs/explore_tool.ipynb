{
 "cells": [
  {
   "cell_type": "code",
   "execution_count": 4,
   "metadata": {},
   "outputs": [],
   "source": [
    "import json\n",
    "\n",
    "def jprint(obj):\n",
    "    print(json.dumps(obj, indent=2))\n"
   ]
  },
  {
   "cell_type": "code",
   "execution_count": 5,
   "metadata": {},
   "outputs": [],
   "source": [
    "def calculator(expression: str, **kwargs) -> str:\n",
    "    \"\"\"Evaluates a single line of Python math expression. No imports or variables allowed.\n",
    "    \n",
    "    Args:\n",
    "        expression: A mathematical expression using only numbers and basic operators (+,-,*,/,**,())\n",
    "        \n",
    "    Returns:\n",
    "        The result of the calculation or an error message\n",
    "        \n",
    "    Examples:\n",
    "        \"2 + 2\" -> \"4\"\n",
    "        \"3 * (17 + 4)\" -> \"63\"\n",
    "        \"100 / 5\" -> \"20.0\"\n",
    "    \"\"\"\n",
    "    allowed = set(\"0123456789+-*/.() \")\n",
    "    if not all(c in allowed for c in expression):\n",
    "        return \"Error: Invalid characters in expression\"\n",
    "    \n",
    "    try:\n",
    "        result = eval(expression, {\"__builtins__\": {}}, {})\n",
    "        return str(result)\n",
    "    except Exception as e:\n",
    "        return f\"Error: {str(e)}\" "
   ]
  },
  {
   "cell_type": "code",
   "execution_count": 25,
   "metadata": {},
   "outputs": [],
   "source": [
    "import inspect\n",
    "from typing import Any, Callable, Dict\n",
    "from textwrap import dedent\n",
    "\n",
    "def infer_schema_from_function(func: Callable) -> Dict[str, Any]:\n",
    "    \"\"\"Infers a tool schema from a function's signature and docstring.\"\"\"\n",
    "    sig = inspect.signature(func)\n",
    "    doc = dedent(inspect.getdoc(func) or \"\")\n",
    "\n",
    "    # Parse docstring sections\n",
    "    doc_parts = doc.split(\"\\n\\n\")\n",
    "    description = doc_parts[0].strip()\n",
    "\n",
    "    # Extract examples if present\n",
    "    examples = []\n",
    "    for part in doc_parts:\n",
    "        part = part.strip()\n",
    "        if part.startswith(\"Examples:\"):\n",
    "            examples = [line.strip() for line in part.split(\"\\n\")[1:] if line.strip()]\n",
    "\n",
    "    # Build args schema\n",
    "    args = {}\n",
    "    for name, param in sig.parameters.items():\n",
    "        if name == \"kwargs\":\n",
    "            continue\n",
    "        param_doc = \"\"\n",
    "        for part in doc_parts:\n",
    "            if part.strip().startswith(\"Args:\"):\n",
    "                for line in part.split(\"\\n\")[1:]:\n",
    "                    if line.strip().startswith(f\"{name}:\"):\n",
    "                        param_doc = line.strip()[len(name) + 1 :].strip()\n",
    "\n",
    "        args[name] = {\n",
    "            \"type\": str(param.annotation.__name__ if param.annotation != inspect.Parameter.empty else \"any\"),\n",
    "            \"description\": param_doc,\n",
    "        }\n",
    "        if param.default != inspect.Parameter.empty:\n",
    "            args[name][\"default\"] = param.default\n",
    "\n",
    "    return {\n",
    "        \"name\": func.__name__,\n",
    "        \"description\": description,\n",
    "        \"args\": args,\n",
    "        \"returns\": str(sig.return_annotation.__name__ if sig.return_annotation != inspect.Parameter.empty else \"any\"),\n",
    "        \"examples\": examples,\n",
    "    }\n"
   ]
  },
  {
   "cell_type": "code",
   "execution_count": 26,
   "metadata": {},
   "outputs": [
    {
     "name": "stdout",
     "output_type": "stream",
     "text": [
      "{\n",
      "  \"name\": \"calculator\",\n",
      "  \"description\": \"Evaluates a single line of Python math expression. No imports or variables allowed.\",\n",
      "  \"args\": {\n",
      "    \"expression\": {\n",
      "      \"type\": \"str\",\n",
      "      \"description\": \"A mathematical expression using only numbers and basic operators (+,-,*,/,**,())\"\n",
      "    }\n",
      "  },\n",
      "  \"returns\": \"str\",\n",
      "  \"examples\": [\n",
      "    \"\\\"2 + 2\\\" -> \\\"4\\\"\",\n",
      "    \"\\\"3 * (17 + 4)\\\" -> \\\"63\\\"\",\n",
      "    \"\\\"100 / 5\\\" -> \\\"20.0\\\"\"\n",
      "  ]\n",
      "}\n"
     ]
    }
   ],
   "source": [
    "jprint(infer_schema_from_function(calculator))"
   ]
  }
 ],
 "metadata": {
  "language_info": {
   "name": "python"
  }
 },
 "nbformat": 4,
 "nbformat_minor": 2
}
