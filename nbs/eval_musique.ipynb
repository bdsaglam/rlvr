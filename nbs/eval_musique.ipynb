{
 "cells": [
  {
   "cell_type": "code",
   "execution_count": 1,
   "id": "a143f034",
   "metadata": {},
   "outputs": [],
   "source": [
    "from pathlib import Path\n",
    "\n",
    "import typer\n",
    "import pandas as pd\n",
    "import verifiers as vf\n",
    "from dotenv import load_dotenv\n",
    "from openai import AsyncOpenAI\n",
    "\n",
    "\n",
    "assert load_dotenv(), \"Failed to load .env file\""
   ]
  },
  {
   "cell_type": "code",
   "execution_count": 2,
   "id": "38c354da",
   "metadata": {},
   "outputs": [
    {
     "data": {
      "text/plain": [
       "<Experiment: artifact_location='mlflow-artifacts:/2', creation_time=1756636926792, experiment_id='2', last_update_time=1756636926792, lifecycle_stage='active', name='rlvr-eval', tags={}>"
      ]
     },
     "execution_count": 2,
     "metadata": {},
     "output_type": "execute_result"
    }
   ],
   "source": [
    "import mlflow\n",
    "\n",
    "# Tell MLflow about the server URI.\n",
    "mlflow.set_tracking_uri(\"http://127.0.0.1:5000\")\n",
    "# Enable autologging with all features\n",
    "mlflow.openai.autolog()\n",
    "# Create a unique name for your experiment.\n",
    "mlflow.set_experiment(\"rlvr-eval\")"
   ]
  },
  {
   "cell_type": "code",
   "execution_count": 3,
   "id": "9328583a",
   "metadata": {},
   "outputs": [
    {
     "name": "stdout",
     "output_type": "stream",
     "text": [
      "Available models: ['Qwen/Qwen2.5-7B-Instruct']\n",
      "Using model: Qwen/Qwen2.5-7B-Instruct\n"
     ]
    }
   ],
   "source": [
    "openai_client = AsyncOpenAI()\n",
    "\n",
    "models_response = await openai_client.models.list()\n",
    "available_models = [item.id for item in models_response.data if item.object == \"model\"]\n",
    "print(\"Available models:\", available_models)\n",
    "\n",
    "model = available_models[0]\n",
    "print(\"Using model:\", model)\n"
   ]
  },
  {
   "cell_type": "code",
   "execution_count": 4,
   "id": "c4817b65",
   "metadata": {},
   "outputs": [
    {
     "name": "stdout",
     "output_type": "stream",
     "text": [
      "🔮 Starting MuSiQue evaluation\n",
      "==================================================\n",
      "📝 Model: Qwen/Qwen2.5-7B-Instruct\n",
      "📊 Dataset: bdsaglam/musique-mini,answerable,validation (noise rate: 1.0)\n",
      "🔍 Retriever: hybrid\n",
      "🌡️ Temperature: 0.5\n",
      "🎯 Max tokens: 1024\n",
      "==================================================\n",
      "🌍 Loading MuSiQue environment...\n"
     ]
    },
    {
     "data": {
      "application/vnd.jupyter.widget-view+json": {
       "model_id": "82b300b6722a463fb3ccbece7bc6da4c",
       "version_major": 2,
       "version_minor": 0
      },
      "text/plain": [
       "Map: 100%|##########| 300/300 [00:00<?, ? examples/s]"
      ]
     },
     "metadata": {},
     "output_type": "display_data"
    },
    {
     "data": {
      "application/vnd.jupyter.widget-view+json": {
       "model_id": "c03c3dee62bc4b1b8d901db1a31036ee",
       "version_major": 2,
       "version_minor": 0
      },
      "text/plain": [
       "Filter:   0%|          | 0/300 [00:00<?, ? examples/s]"
      ]
     },
     "metadata": {},
     "output_type": "display_data"
    },
    {
     "data": {
      "application/vnd.jupyter.widget-view+json": {
       "model_id": "251c59af1d8e4b9eb15b8b2108fe12d6",
       "version_major": 2,
       "version_minor": 0
      },
      "text/plain": [
       "Map:   0%|          | 0/100 [00:00<?, ? examples/s]"
      ]
     },
     "metadata": {},
     "output_type": "display_data"
    },
    {
     "data": {
      "application/vnd.jupyter.widget-view+json": {
       "model_id": "261161e9652d41c5b718e74728762c02",
       "version_major": 2,
       "version_minor": 0
      },
      "text/plain": [
       "Map:   0%|          | 0/100 [00:00<?, ? examples/s]"
      ]
     },
     "metadata": {},
     "output_type": "display_data"
    },
    {
     "name": "stderr",
     "output_type": "stream",
     "text": [
      "2025-09-11 11:12:29 - verifiers.envs.MuSiQueEnv - INFO - eval_dataset is not set, falling back to train dataset\n"
     ]
    },
    {
     "name": "stdout",
     "output_type": "stream",
     "text": [
      "✅ Environment loaded with 100 examples\n",
      "🤖 Using OpenAI-compatible API client...\n",
      "🔄 Running evaluation...\n"
     ]
    },
    {
     "name": "stderr",
     "output_type": "stream",
     "text": [
      "Running 100 rollouts: 100%|██████████| 100/100 [01:01<00:00,  1.64it/s]\n",
      "Evaluating 100 rollouts: 100%|██████████| 100/100 [00:00<00:00, 831.31it/s]\n"
     ]
    },
    {
     "data": {
      "text/html": [
       "\n",
       "<div>\n",
       "  <style scoped>\n",
       "  button {\n",
       "    border: none;\n",
       "    border-radius: 4px;\n",
       "    background-color: rgb(34, 114, 180);\n",
       "    font-family: -apple-system, \"system-ui\", \"Segoe UI\", Roboto, \"Helvetica Neue\", Arial;\n",
       "    font-size: 13px;\n",
       "    color: white;\n",
       "    margin-top: 8px;\n",
       "    margin-bottom: 8px;\n",
       "    padding: 8px 16px;\n",
       "    cursor: pointer;\n",
       "  }\n",
       "  button:hover {\n",
       "    background-color: rgb(66, 153, 224);\n",
       "  }\n",
       "  </style>\n",
       "  <button\n",
       "    onclick=\"\n",
       "        const display = this.nextElementSibling.style.display;\n",
       "        const isCollapsed = display === 'none';\n",
       "        this.nextElementSibling.style.display = isCollapsed ? null : 'none';\n",
       "\n",
       "        const verb = isCollapsed ? 'Collapse' : 'Expand';\n",
       "        this.innerText = `${verb} MLflow Trace`;\n",
       "    \"\n",
       "  >Collapse MLflow Trace</button>\n",
       "  <iframe\n",
       "    id=\"trace-renderer\"\n",
       "    style=\"width: 100%; height: 500px; border: none; resize: vertical;\"\n",
       "    src=\"http://127.0.0.1:5000/static-files/lib/notebook-trace-renderer/index.html?trace_id=tr-28e841f76561246c4230c45c1376c095&amp;experiment_id=2&amp;trace_id=tr-9a77b9214ea59edc49e226b04e5fa814&amp;experiment_id=2&amp;trace_id=tr-d8304aec4d4bf83afdbfc9ed7ebe1fbd&amp;experiment_id=2&amp;trace_id=tr-2944937c3639052c87bef4a230e0531a&amp;experiment_id=2&amp;trace_id=tr-7b9aef3336a5140cb7f94debad7c5768&amp;experiment_id=2&amp;trace_id=tr-a620a85c4f251a92dbaab4385df87745&amp;experiment_id=2&amp;trace_id=tr-00cd3a2749b8133c902aab640227667d&amp;experiment_id=2&amp;trace_id=tr-280b6a86371e75724c9f4248e4f1b4c7&amp;experiment_id=2&amp;trace_id=tr-46ea0400771e476efb469396c5122d77&amp;experiment_id=2&amp;trace_id=tr-f5804dc2c2cc80a10beebaac54238ae8&amp;experiment_id=2&amp;version=3.3.2\"\n",
       "  />\n",
       "</div>\n"
      ],
      "text/plain": [
       "[Trace(trace_id=tr-28e841f76561246c4230c45c1376c095), Trace(trace_id=tr-9a77b9214ea59edc49e226b04e5fa814), Trace(trace_id=tr-d8304aec4d4bf83afdbfc9ed7ebe1fbd), Trace(trace_id=tr-2944937c3639052c87bef4a230e0531a), Trace(trace_id=tr-7b9aef3336a5140cb7f94debad7c5768), Trace(trace_id=tr-a620a85c4f251a92dbaab4385df87745), Trace(trace_id=tr-00cd3a2749b8133c902aab640227667d), Trace(trace_id=tr-280b6a86371e75724c9f4248e4f1b4c7), Trace(trace_id=tr-46ea0400771e476efb469396c5122d77), Trace(trace_id=tr-f5804dc2c2cc80a10beebaac54238ae8)]"
      ]
     },
     "metadata": {},
     "output_type": "display_data"
    }
   ],
   "source": [
    "datasets_str = \"bdsaglam/musique-mini,answerable,validation\"\n",
    "noise_rate = 1.0\n",
    "retriever = \"hybrid\"\n",
    "temperature = 0.5\n",
    "max_new_tokens = 1024\n",
    "\n",
    "print(\"🔮 Starting MuSiQue evaluation\")\n",
    "print(\"=\" * 50)\n",
    "print(f\"📝 Model: {model}\")\n",
    "print(f\"📊 Dataset: {datasets_str} (noise rate: {noise_rate})\")\n",
    "print(f\"🔍 Retriever: {retriever}\")\n",
    "print(f\"🌡️ Temperature: {temperature}\")\n",
    "print(f\"🎯 Max tokens: {max_new_tokens}\")\n",
    "print(\"=\" * 50)\n",
    "\n",
    "# Load MuSiQue environment\n",
    "print(\"🌍 Loading MuSiQue environment...\")\n",
    "\n",
    "vf_env = vf.load_environment(\n",
    "    env_id=\"vf-musique\",\n",
    "    datasets_str=datasets_str,\n",
    "    noise_rate=noise_rate,\n",
    "    retriever=retriever,\n",
    ")\n",
    "print(f\"✅ Environment loaded with {len(vf_env.dataset)} examples\")\n",
    "\n",
    "# Use OpenAI-compatible API client (e.g., for vLLM)\n",
    "print(\"🤖 Using OpenAI-compatible API client...\")\n",
    "\n",
    "# Run evaluation using the environment\n",
    "print(\"🔄 Running evaluation...\")\n",
    "results = vf_env.evaluate(\n",
    "    openai_client,\n",
    "    model,\n",
    "    rollouts_per_example=1,\n",
    "    sampling_args={\"temperature\": temperature, \"max_tokens\": max_new_tokens},\n",
    ")\n"
   ]
  },
  {
   "cell_type": "code",
   "execution_count": 5,
   "id": "c09d1adb",
   "metadata": {},
   "outputs": [
    {
     "data": {
      "text/plain": [
       "dict_keys(['exact_match_reward', 'f1_reward', 'retrieval_recall_reward', 'retrieval_precision_reward', 'citation_reward', 'format_reward', 'combined_reward'])"
      ]
     },
     "execution_count": 5,
     "metadata": {},
     "output_type": "execute_result"
    }
   ],
   "source": [
    "results.metrics.keys()"
   ]
  },
  {
   "cell_type": "code",
   "execution_count": 6,
   "id": "04618244",
   "metadata": {},
   "outputs": [
    {
     "data": {
      "text/plain": [
       "Dataset({\n",
       "    features: ['prompt', 'completion', 'answer', 'task', 'reward', 'info', 'exact_match_reward', 'f1_reward', 'retrieval_recall_reward', 'retrieval_precision_reward', 'citation_reward', 'format_reward', 'combined_reward'],\n",
       "    num_rows: 100\n",
       "})"
      ]
     },
     "execution_count": 6,
     "metadata": {},
     "output_type": "execute_result"
    }
   ],
   "source": [
    "ds = vf_env.make_dataset(results)\n",
    "ds"
   ]
  },
  {
   "cell_type": "code",
   "execution_count": 7,
   "id": "205448ce",
   "metadata": {},
   "outputs": [
    {
     "data": {
      "application/vnd.jupyter.widget-view+json": {
       "model_id": "752df4af49ab490fba6789e6d59b8598",
       "version_major": 2,
       "version_minor": 0
      },
      "text/plain": [
       "Creating json from Arrow format:   0%|          | 0/1 [00:00<?, ?ba/s]"
      ]
     },
     "metadata": {},
     "output_type": "display_data"
    },
    {
     "data": {
      "text/plain": [
       "2797666"
      ]
     },
     "execution_count": 7,
     "metadata": {},
     "output_type": "execute_result"
    }
   ],
   "source": [
    "ds.to_json(\"../outputs/musique-eval-results.jsonl\", orient=\"records\", lines=True)"
   ]
  },
  {
   "cell_type": "code",
   "execution_count": 8,
   "id": "810fa60f",
   "metadata": {},
   "outputs": [
    {
     "data": {
      "text/html": [
       "<div>\n",
       "<style scoped>\n",
       "    .dataframe tbody tr th:only-of-type {\n",
       "        vertical-align: middle;\n",
       "    }\n",
       "\n",
       "    .dataframe tbody tr th {\n",
       "        vertical-align: top;\n",
       "    }\n",
       "\n",
       "    .dataframe thead th {\n",
       "        text-align: right;\n",
       "    }\n",
       "</style>\n",
       "<table border=\"1\" class=\"dataframe\">\n",
       "  <thead>\n",
       "    <tr style=\"text-align: right;\">\n",
       "      <th></th>\n",
       "      <th>prompt</th>\n",
       "      <th>completion</th>\n",
       "      <th>answer</th>\n",
       "      <th>task</th>\n",
       "      <th>reward</th>\n",
       "      <th>info</th>\n",
       "      <th>exact_match_reward</th>\n",
       "      <th>f1_reward</th>\n",
       "      <th>retrieval_recall_reward</th>\n",
       "      <th>retrieval_precision_reward</th>\n",
       "      <th>citation_reward</th>\n",
       "      <th>format_reward</th>\n",
       "      <th>combined_reward</th>\n",
       "    </tr>\n",
       "  </thead>\n",
       "  <tbody>\n",
       "    <tr>\n",
       "      <th>0</th>\n",
       "      <td>[{'content': 'Answer the question based on the...</td>\n",
       "      <td>[{'content': '&lt;think&gt;\n",
       "To answer this question,...</td>\n",
       "      <td>LeMat revolver</td>\n",
       "      <td>default</td>\n",
       "      <td>0.008333</td>\n",
       "      <td>{'answers': ['lemat revolver', 'LeMat revolver...</td>\n",
       "      <td>0.0</td>\n",
       "      <td>0.0</td>\n",
       "      <td>0.0</td>\n",
       "      <td>0.000000</td>\n",
       "      <td>0.0</td>\n",
       "      <td>0.333333</td>\n",
       "      <td>0.008333</td>\n",
       "    </tr>\n",
       "    <tr>\n",
       "      <th>1</th>\n",
       "      <td>[{'content': 'Answer the question based on the...</td>\n",
       "      <td>[{'content': '&lt;think&gt;\n",
       "To answer this question,...</td>\n",
       "      <td>Vitor Constâncio</td>\n",
       "      <td>default</td>\n",
       "      <td>0.991667</td>\n",
       "      <td>{'answers': ['vitor constâncio', 'Vitor Constâ...</td>\n",
       "      <td>1.0</td>\n",
       "      <td>1.0</td>\n",
       "      <td>1.0</td>\n",
       "      <td>1.000000</td>\n",
       "      <td>1.0</td>\n",
       "      <td>0.666667</td>\n",
       "      <td>0.991667</td>\n",
       "    </tr>\n",
       "    <tr>\n",
       "      <th>2</th>\n",
       "      <td>[{'content': 'Answer the question based on the...</td>\n",
       "      <td>[{'content': '', 'role': 'assistant', 'tool_ca...</td>\n",
       "      <td>45</td>\n",
       "      <td>default</td>\n",
       "      <td>0.316667</td>\n",
       "      <td>{'answers': ['45'], 'docs': [{'body': 'Weber C...</td>\n",
       "      <td>0.0</td>\n",
       "      <td>0.0</td>\n",
       "      <td>1.0</td>\n",
       "      <td>0.666667</td>\n",
       "      <td>0.0</td>\n",
       "      <td>0.000000</td>\n",
       "      <td>0.316667</td>\n",
       "    </tr>\n",
       "    <tr>\n",
       "      <th>3</th>\n",
       "      <td>[{'content': 'Answer the question based on the...</td>\n",
       "      <td>[{'content': '&lt;think&gt;\n",
       "To answer this question,...</td>\n",
       "      <td>three different relationships he had in the past</td>\n",
       "      <td>default</td>\n",
       "      <td>0.200000</td>\n",
       "      <td>{'answers': ['three different relationships he...</td>\n",
       "      <td>0.0</td>\n",
       "      <td>0.0</td>\n",
       "      <td>0.5</td>\n",
       "      <td>0.500000</td>\n",
       "      <td>0.0</td>\n",
       "      <td>1.000000</td>\n",
       "      <td>0.200000</td>\n",
       "    </tr>\n",
       "    <tr>\n",
       "      <th>4</th>\n",
       "      <td>[{'content': 'Answer the question based on the...</td>\n",
       "      <td>[{'content': '&lt;think&gt;\n",
       "To answer this question,...</td>\n",
       "      <td>Michael Bublé</td>\n",
       "      <td>default</td>\n",
       "      <td>0.175000</td>\n",
       "      <td>{'answers': ['michael bublé', 'Michael Bublé']...</td>\n",
       "      <td>0.0</td>\n",
       "      <td>0.0</td>\n",
       "      <td>0.5</td>\n",
       "      <td>0.500000</td>\n",
       "      <td>0.0</td>\n",
       "      <td>0.000000</td>\n",
       "      <td>0.175000</td>\n",
       "    </tr>\n",
       "    <tr>\n",
       "      <th>...</th>\n",
       "      <td>...</td>\n",
       "      <td>...</td>\n",
       "      <td>...</td>\n",
       "      <td>...</td>\n",
       "      <td>...</td>\n",
       "      <td>...</td>\n",
       "      <td>...</td>\n",
       "      <td>...</td>\n",
       "      <td>...</td>\n",
       "      <td>...</td>\n",
       "      <td>...</td>\n",
       "      <td>...</td>\n",
       "      <td>...</td>\n",
       "    </tr>\n",
       "    <tr>\n",
       "      <th>95</th>\n",
       "      <td>[{'content': 'Answer the question based on the...</td>\n",
       "      <td>[{'content': '&lt;think&gt;\n",
       "To answer this question,...</td>\n",
       "      <td>two alliances</td>\n",
       "      <td>default</td>\n",
       "      <td>0.000000</td>\n",
       "      <td>{'answers': ['two alliances'], 'docs': [{'body...</td>\n",
       "      <td>0.0</td>\n",
       "      <td>0.0</td>\n",
       "      <td>0.0</td>\n",
       "      <td>0.000000</td>\n",
       "      <td>0.0</td>\n",
       "      <td>0.000000</td>\n",
       "      <td>0.000000</td>\n",
       "    </tr>\n",
       "    <tr>\n",
       "      <th>96</th>\n",
       "      <td>[{'content': 'Answer the question based on the...</td>\n",
       "      <td>[{'content': '&lt;think&gt;\n",
       "To answer this question,...</td>\n",
       "      <td>John Kukuzelis</td>\n",
       "      <td>default</td>\n",
       "      <td>0.175000</td>\n",
       "      <td>{'answers': ['john kukuzelis', 'John Kukuzelis...</td>\n",
       "      <td>0.0</td>\n",
       "      <td>0.0</td>\n",
       "      <td>0.5</td>\n",
       "      <td>0.500000</td>\n",
       "      <td>0.0</td>\n",
       "      <td>0.000000</td>\n",
       "      <td>0.175000</td>\n",
       "    </tr>\n",
       "    <tr>\n",
       "      <th>97</th>\n",
       "      <td>[{'content': 'Answer the question based on the...</td>\n",
       "      <td>[{'content': '', 'role': 'assistant', 'tool_ca...</td>\n",
       "      <td>Vito Corleone</td>\n",
       "      <td>default</td>\n",
       "      <td>0.275000</td>\n",
       "      <td>{'answers': ['Vito Andolini', 'vito andolini c...</td>\n",
       "      <td>0.0</td>\n",
       "      <td>0.0</td>\n",
       "      <td>0.5</td>\n",
       "      <td>0.500000</td>\n",
       "      <td>0.5</td>\n",
       "      <td>1.000000</td>\n",
       "      <td>0.275000</td>\n",
       "    </tr>\n",
       "    <tr>\n",
       "      <th>98</th>\n",
       "      <td>[{'content': 'Answer the question based on the...</td>\n",
       "      <td>[{'content': '&lt;think&gt;\n",
       "To answer this question,...</td>\n",
       "      <td>The Île de la Cité</td>\n",
       "      <td>default</td>\n",
       "      <td>0.166667</td>\n",
       "      <td>{'answers': ['The Île de la Cité', 'the île de...</td>\n",
       "      <td>0.0</td>\n",
       "      <td>0.0</td>\n",
       "      <td>0.5</td>\n",
       "      <td>0.250000</td>\n",
       "      <td>0.0</td>\n",
       "      <td>0.666667</td>\n",
       "      <td>0.166667</td>\n",
       "    </tr>\n",
       "    <tr>\n",
       "      <th>99</th>\n",
       "      <td>[{'content': 'Answer the question based on the...</td>\n",
       "      <td>[{'content': '&lt;think&gt;\n",
       "To answer this question,...</td>\n",
       "      <td>Thaba Putsoa</td>\n",
       "      <td>default</td>\n",
       "      <td>0.275000</td>\n",
       "      <td>{'answers': ['thaba putsoa', 'Thaba Putsoa'], ...</td>\n",
       "      <td>0.0</td>\n",
       "      <td>0.0</td>\n",
       "      <td>0.5</td>\n",
       "      <td>0.500000</td>\n",
       "      <td>0.5</td>\n",
       "      <td>1.000000</td>\n",
       "      <td>0.275000</td>\n",
       "    </tr>\n",
       "  </tbody>\n",
       "</table>\n",
       "<p>100 rows × 13 columns</p>\n",
       "</div>"
      ],
      "text/plain": [
       "                                               prompt  \\\n",
       "0   [{'content': 'Answer the question based on the...   \n",
       "1   [{'content': 'Answer the question based on the...   \n",
       "2   [{'content': 'Answer the question based on the...   \n",
       "3   [{'content': 'Answer the question based on the...   \n",
       "4   [{'content': 'Answer the question based on the...   \n",
       "..                                                ...   \n",
       "95  [{'content': 'Answer the question based on the...   \n",
       "96  [{'content': 'Answer the question based on the...   \n",
       "97  [{'content': 'Answer the question based on the...   \n",
       "98  [{'content': 'Answer the question based on the...   \n",
       "99  [{'content': 'Answer the question based on the...   \n",
       "\n",
       "                                           completion  \\\n",
       "0   [{'content': '<think>\n",
       "To answer this question,...   \n",
       "1   [{'content': '<think>\n",
       "To answer this question,...   \n",
       "2   [{'content': '', 'role': 'assistant', 'tool_ca...   \n",
       "3   [{'content': '<think>\n",
       "To answer this question,...   \n",
       "4   [{'content': '<think>\n",
       "To answer this question,...   \n",
       "..                                                ...   \n",
       "95  [{'content': '<think>\n",
       "To answer this question,...   \n",
       "96  [{'content': '<think>\n",
       "To answer this question,...   \n",
       "97  [{'content': '', 'role': 'assistant', 'tool_ca...   \n",
       "98  [{'content': '<think>\n",
       "To answer this question,...   \n",
       "99  [{'content': '<think>\n",
       "To answer this question,...   \n",
       "\n",
       "                                              answer     task    reward  \\\n",
       "0                                     LeMat revolver  default  0.008333   \n",
       "1                                   Vitor Constâncio  default  0.991667   \n",
       "2                                                 45  default  0.316667   \n",
       "3   three different relationships he had in the past  default  0.200000   \n",
       "4                                      Michael Bublé  default  0.175000   \n",
       "..                                               ...      ...       ...   \n",
       "95                                     two alliances  default  0.000000   \n",
       "96                                    John Kukuzelis  default  0.175000   \n",
       "97                                     Vito Corleone  default  0.275000   \n",
       "98                                The Île de la Cité  default  0.166667   \n",
       "99                                      Thaba Putsoa  default  0.275000   \n",
       "\n",
       "                                                 info  exact_match_reward  \\\n",
       "0   {'answers': ['lemat revolver', 'LeMat revolver...                 0.0   \n",
       "1   {'answers': ['vitor constâncio', 'Vitor Constâ...                 1.0   \n",
       "2   {'answers': ['45'], 'docs': [{'body': 'Weber C...                 0.0   \n",
       "3   {'answers': ['three different relationships he...                 0.0   \n",
       "4   {'answers': ['michael bublé', 'Michael Bublé']...                 0.0   \n",
       "..                                                ...                 ...   \n",
       "95  {'answers': ['two alliances'], 'docs': [{'body...                 0.0   \n",
       "96  {'answers': ['john kukuzelis', 'John Kukuzelis...                 0.0   \n",
       "97  {'answers': ['Vito Andolini', 'vito andolini c...                 0.0   \n",
       "98  {'answers': ['The Île de la Cité', 'the île de...                 0.0   \n",
       "99  {'answers': ['thaba putsoa', 'Thaba Putsoa'], ...                 0.0   \n",
       "\n",
       "    f1_reward  retrieval_recall_reward  retrieval_precision_reward  \\\n",
       "0         0.0                      0.0                    0.000000   \n",
       "1         1.0                      1.0                    1.000000   \n",
       "2         0.0                      1.0                    0.666667   \n",
       "3         0.0                      0.5                    0.500000   \n",
       "4         0.0                      0.5                    0.500000   \n",
       "..        ...                      ...                         ...   \n",
       "95        0.0                      0.0                    0.000000   \n",
       "96        0.0                      0.5                    0.500000   \n",
       "97        0.0                      0.5                    0.500000   \n",
       "98        0.0                      0.5                    0.250000   \n",
       "99        0.0                      0.5                    0.500000   \n",
       "\n",
       "    citation_reward  format_reward  combined_reward  \n",
       "0               0.0       0.333333         0.008333  \n",
       "1               1.0       0.666667         0.991667  \n",
       "2               0.0       0.000000         0.316667  \n",
       "3               0.0       1.000000         0.200000  \n",
       "4               0.0       0.000000         0.175000  \n",
       "..              ...            ...              ...  \n",
       "95              0.0       0.000000         0.000000  \n",
       "96              0.0       0.000000         0.175000  \n",
       "97              0.5       1.000000         0.275000  \n",
       "98              0.0       0.666667         0.166667  \n",
       "99              0.5       1.000000         0.275000  \n",
       "\n",
       "[100 rows x 13 columns]"
      ]
     },
     "execution_count": 8,
     "metadata": {},
     "output_type": "execute_result"
    }
   ],
   "source": [
    "df = ds.to_pandas()\n",
    "df"
   ]
  },
  {
   "cell_type": "code",
   "execution_count": 9,
   "id": "cab0a903",
   "metadata": {},
   "outputs": [
    {
     "data": {
      "text/html": [
       "<div>\n",
       "<style scoped>\n",
       "    .dataframe tbody tr th:only-of-type {\n",
       "        vertical-align: middle;\n",
       "    }\n",
       "\n",
       "    .dataframe tbody tr th {\n",
       "        vertical-align: top;\n",
       "    }\n",
       "\n",
       "    .dataframe thead th {\n",
       "        text-align: right;\n",
       "    }\n",
       "</style>\n",
       "<table border=\"1\" class=\"dataframe\">\n",
       "  <thead>\n",
       "    <tr style=\"text-align: right;\">\n",
       "      <th></th>\n",
       "      <th>reward</th>\n",
       "      <th>exact_match_reward</th>\n",
       "      <th>f1_reward</th>\n",
       "      <th>retrieval_recall_reward</th>\n",
       "      <th>retrieval_precision_reward</th>\n",
       "      <th>citation_reward</th>\n",
       "      <th>format_reward</th>\n",
       "      <th>combined_reward</th>\n",
       "    </tr>\n",
       "  </thead>\n",
       "  <tbody>\n",
       "    <tr>\n",
       "      <th>count</th>\n",
       "      <td>100.000000</td>\n",
       "      <td>100.000000</td>\n",
       "      <td>100.000000</td>\n",
       "      <td>100.000000</td>\n",
       "      <td>100.000000</td>\n",
       "      <td>100.000000</td>\n",
       "      <td>100.000000</td>\n",
       "      <td>100.000000</td>\n",
       "    </tr>\n",
       "    <tr>\n",
       "      <th>mean</th>\n",
       "      <td>0.343842</td>\n",
       "      <td>0.120000</td>\n",
       "      <td>0.163818</td>\n",
       "      <td>0.690000</td>\n",
       "      <td>0.560667</td>\n",
       "      <td>0.245000</td>\n",
       "      <td>0.466667</td>\n",
       "      <td>0.343842</td>\n",
       "    </tr>\n",
       "    <tr>\n",
       "      <th>std</th>\n",
       "      <td>0.238936</td>\n",
       "      <td>0.326599</td>\n",
       "      <td>0.344011</td>\n",
       "      <td>0.307975</td>\n",
       "      <td>0.255748</td>\n",
       "      <td>0.344473</td>\n",
       "      <td>0.390688</td>\n",
       "      <td>0.238936</td>\n",
       "    </tr>\n",
       "    <tr>\n",
       "      <th>min</th>\n",
       "      <td>0.000000</td>\n",
       "      <td>0.000000</td>\n",
       "      <td>0.000000</td>\n",
       "      <td>0.000000</td>\n",
       "      <td>0.000000</td>\n",
       "      <td>0.000000</td>\n",
       "      <td>0.000000</td>\n",
       "      <td>0.000000</td>\n",
       "    </tr>\n",
       "    <tr>\n",
       "      <th>25%</th>\n",
       "      <td>0.175000</td>\n",
       "      <td>0.000000</td>\n",
       "      <td>0.000000</td>\n",
       "      <td>0.500000</td>\n",
       "      <td>0.500000</td>\n",
       "      <td>0.000000</td>\n",
       "      <td>0.000000</td>\n",
       "      <td>0.175000</td>\n",
       "    </tr>\n",
       "    <tr>\n",
       "      <th>50%</th>\n",
       "      <td>0.275000</td>\n",
       "      <td>0.000000</td>\n",
       "      <td>0.000000</td>\n",
       "      <td>0.500000</td>\n",
       "      <td>0.500000</td>\n",
       "      <td>0.000000</td>\n",
       "      <td>0.333333</td>\n",
       "      <td>0.275000</td>\n",
       "    </tr>\n",
       "    <tr>\n",
       "      <th>75%</th>\n",
       "      <td>0.400000</td>\n",
       "      <td>0.000000</td>\n",
       "      <td>0.000000</td>\n",
       "      <td>1.000000</td>\n",
       "      <td>0.666667</td>\n",
       "      <td>0.500000</td>\n",
       "      <td>1.000000</td>\n",
       "      <td>0.400000</td>\n",
       "    </tr>\n",
       "    <tr>\n",
       "      <th>max</th>\n",
       "      <td>0.991667</td>\n",
       "      <td>1.000000</td>\n",
       "      <td>1.000000</td>\n",
       "      <td>1.000000</td>\n",
       "      <td>1.000000</td>\n",
       "      <td>1.000000</td>\n",
       "      <td>1.000000</td>\n",
       "      <td>0.991667</td>\n",
       "    </tr>\n",
       "  </tbody>\n",
       "</table>\n",
       "</div>"
      ],
      "text/plain": [
       "           reward  exact_match_reward   f1_reward  retrieval_recall_reward  \\\n",
       "count  100.000000          100.000000  100.000000               100.000000   \n",
       "mean     0.343842            0.120000    0.163818                 0.690000   \n",
       "std      0.238936            0.326599    0.344011                 0.307975   \n",
       "min      0.000000            0.000000    0.000000                 0.000000   \n",
       "25%      0.175000            0.000000    0.000000                 0.500000   \n",
       "50%      0.275000            0.000000    0.000000                 0.500000   \n",
       "75%      0.400000            0.000000    0.000000                 1.000000   \n",
       "max      0.991667            1.000000    1.000000                 1.000000   \n",
       "\n",
       "       retrieval_precision_reward  citation_reward  format_reward  \\\n",
       "count                  100.000000       100.000000     100.000000   \n",
       "mean                     0.560667         0.245000       0.466667   \n",
       "std                      0.255748         0.344473       0.390688   \n",
       "min                      0.000000         0.000000       0.000000   \n",
       "25%                      0.500000         0.000000       0.000000   \n",
       "50%                      0.500000         0.000000       0.333333   \n",
       "75%                      0.666667         0.500000       1.000000   \n",
       "max                      1.000000         1.000000       1.000000   \n",
       "\n",
       "       combined_reward  \n",
       "count       100.000000  \n",
       "mean          0.343842  \n",
       "std           0.238936  \n",
       "min           0.000000  \n",
       "25%           0.175000  \n",
       "50%           0.275000  \n",
       "75%           0.400000  \n",
       "max           0.991667  "
      ]
     },
     "execution_count": 9,
     "metadata": {},
     "output_type": "execute_result"
    }
   ],
   "source": [
    "df.describe()"
   ]
  },
  {
   "cell_type": "code",
   "execution_count": 10,
   "id": "b3985c33",
   "metadata": {},
   "outputs": [],
   "source": [
    "row = df.iloc[0]"
   ]
  }
 ],
 "metadata": {
  "kernelspec": {
   "display_name": ".venv",
   "language": "python",
   "name": "python3"
  },
  "language_info": {
   "codemirror_mode": {
    "name": "ipython",
    "version": 3
   },
   "file_extension": ".py",
   "mimetype": "text/x-python",
   "name": "python",
   "nbconvert_exporter": "python",
   "pygments_lexer": "ipython3",
   "version": "3.12.9"
  }
 },
 "nbformat": 4,
 "nbformat_minor": 5
}
