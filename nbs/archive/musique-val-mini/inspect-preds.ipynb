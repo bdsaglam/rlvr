{
 "cells": [
  {
   "cell_type": "code",
   "execution_count": 1,
   "metadata": {},
   "outputs": [],
   "source": [
    "# from dotenv import load_dotenv\n",
    "# load_dotenv()"
   ]
  },
  {
   "cell_type": "code",
   "execution_count": 2,
   "metadata": {},
   "outputs": [],
   "source": [
    "# import os\n",
    "# os.environ['LD_LIBRARY_PATH'] = '/home/baris/miniconda3/envs/verifiers/lib/python3.11/site-packages/nvidia/nvjitlink/lib'"
   ]
  },
  {
   "cell_type": "code",
   "execution_count": 3,
   "metadata": {},
   "outputs": [],
   "source": [
    "import json\n",
    "import textwrap\n",
    "import pandas as pd\n",
    "from ipywidgets import widgets\n",
    "from IPython.display import display\n",
    "from ipywidgets import HBox\n",
    "import matplotlib.pyplot as plt\n",
    "from tabulate import tabulate\n"
   ]
  },
  {
   "cell_type": "code",
   "execution_count": 4,
   "metadata": {},
   "outputs": [
    {
     "data": {
      "text/html": [
       "<div>\n",
       "<style scoped>\n",
       "    .dataframe tbody tr th:only-of-type {\n",
       "        vertical-align: middle;\n",
       "    }\n",
       "\n",
       "    .dataframe tbody tr th {\n",
       "        vertical-align: top;\n",
       "    }\n",
       "\n",
       "    .dataframe thead th {\n",
       "        text-align: right;\n",
       "    }\n",
       "</style>\n",
       "<table border=\"1\" class=\"dataframe\">\n",
       "  <thead>\n",
       "    <tr style=\"text-align: right;\">\n",
       "      <th></th>\n",
       "      <th>id</th>\n",
       "      <th>answer</th>\n",
       "      <th>n_hops</th>\n",
       "      <th>prompt</th>\n",
       "      <th>docs</th>\n",
       "      <th>answers</th>\n",
       "      <th>supporting_doc_slugs</th>\n",
       "      <th>trajectory</th>\n",
       "    </tr>\n",
       "  </thead>\n",
       "  <tbody>\n",
       "    <tr>\n",
       "      <th>0</th>\n",
       "      <td>2hop__734582_71302</td>\n",
       "      <td>Vito Corleone</td>\n",
       "      <td>2</td>\n",
       "      <td>[{'content': 'Answer the question based on the...</td>\n",
       "      <td>[{'body': 'Philippe Laguérie (born 30 Septembe...</td>\n",
       "      <td>[vito andolini corleone, Vito Andolini Corleon...</td>\n",
       "      <td>[10. The Good Shepherd (film), 11. The Godfath...</td>\n",
       "      <td>[{'content': 'Answer the question based on the...</td>\n",
       "    </tr>\n",
       "    <tr>\n",
       "      <th>1</th>\n",
       "      <td>2hop__700093_455653</td>\n",
       "      <td>Rohana Wijeweera</td>\n",
       "      <td>2</td>\n",
       "      <td>[{'content': 'Answer the question based on the...</td>\n",
       "      <td>[{'body': 'Political parties, still called fac...</td>\n",
       "      <td>[Rohana Wijeweera, rohana wijeweera]</td>\n",
       "      <td>[8. Rohana Wijeweera, 12. Dimuthu Bandara Abay...</td>\n",
       "      <td>[{'content': 'Answer the question based on the...</td>\n",
       "    </tr>\n",
       "    <tr>\n",
       "      <th>2</th>\n",
       "      <td>2hop__203955_25719</td>\n",
       "      <td>406</td>\n",
       "      <td>2</td>\n",
       "      <td>[{'content': 'Answer the question based on the...</td>\n",
       "      <td>[{'body': 'By the end of the 5th century the w...</td>\n",
       "      <td>[406]</td>\n",
       "      <td>[7. Rössen culture, 9. Galicia (Spain)]</td>\n",
       "      <td>[{'content': 'Answer the question based on the...</td>\n",
       "    </tr>\n",
       "    <tr>\n",
       "      <th>3</th>\n",
       "      <td>2hop__83800_747874</td>\n",
       "      <td>Jamie Murray</td>\n",
       "      <td>2</td>\n",
       "      <td>[{'content': 'Answer the question based on the...</td>\n",
       "      <td>[{'body': 'Kallhälls BK was a sports club in B...</td>\n",
       "      <td>[Jamie Murray, jamie murray]</td>\n",
       "      <td>[8. 2011 Valencia Open 500 – Doubles, 16. 2016...</td>\n",
       "      <td>[{'content': 'Answer the question based on the...</td>\n",
       "    </tr>\n",
       "    <tr>\n",
       "      <th>4</th>\n",
       "      <td>2hop__21104_16334</td>\n",
       "      <td>modern-day Italians</td>\n",
       "      <td>2</td>\n",
       "      <td>[{'content': 'Answer the question based on the...</td>\n",
       "      <td>[{'body': 'Cyborg anthropology originated as a...</td>\n",
       "      <td>[modern-day Italians, modern-day italians]</td>\n",
       "      <td>[4. Jews, 15. Ashkenazi Jews]</td>\n",
       "      <td>[{'content': 'Answer the question based on the...</td>\n",
       "    </tr>\n",
       "  </tbody>\n",
       "</table>\n",
       "</div>"
      ],
      "text/plain": [
       "                    id               answer  n_hops  \\\n",
       "0   2hop__734582_71302        Vito Corleone       2   \n",
       "1  2hop__700093_455653     Rohana Wijeweera       2   \n",
       "2   2hop__203955_25719                  406       2   \n",
       "3   2hop__83800_747874         Jamie Murray       2   \n",
       "4    2hop__21104_16334  modern-day Italians       2   \n",
       "\n",
       "                                              prompt  \\\n",
       "0  [{'content': 'Answer the question based on the...   \n",
       "1  [{'content': 'Answer the question based on the...   \n",
       "2  [{'content': 'Answer the question based on the...   \n",
       "3  [{'content': 'Answer the question based on the...   \n",
       "4  [{'content': 'Answer the question based on the...   \n",
       "\n",
       "                                                docs  \\\n",
       "0  [{'body': 'Philippe Laguérie (born 30 Septembe...   \n",
       "1  [{'body': 'Political parties, still called fac...   \n",
       "2  [{'body': 'By the end of the 5th century the w...   \n",
       "3  [{'body': 'Kallhälls BK was a sports club in B...   \n",
       "4  [{'body': 'Cyborg anthropology originated as a...   \n",
       "\n",
       "                                             answers  \\\n",
       "0  [vito andolini corleone, Vito Andolini Corleon...   \n",
       "1               [Rohana Wijeweera, rohana wijeweera]   \n",
       "2                                              [406]   \n",
       "3                       [Jamie Murray, jamie murray]   \n",
       "4         [modern-day Italians, modern-day italians]   \n",
       "\n",
       "                                supporting_doc_slugs  \\\n",
       "0  [10. The Good Shepherd (film), 11. The Godfath...   \n",
       "1  [8. Rohana Wijeweera, 12. Dimuthu Bandara Abay...   \n",
       "2            [7. Rössen culture, 9. Galicia (Spain)]   \n",
       "3  [8. 2011 Valencia Open 500 – Doubles, 16. 2016...   \n",
       "4                      [4. Jews, 15. Ashkenazi Jews]   \n",
       "\n",
       "                                          trajectory  \n",
       "0  [{'content': 'Answer the question based on the...  \n",
       "1  [{'content': 'Answer the question based on the...  \n",
       "2  [{'content': 'Answer the question based on the...  \n",
       "3  [{'content': 'Answer the question based on the...  \n",
       "4  [{'content': 'Answer the question based on the...  "
      ]
     },
     "execution_count": 4,
     "metadata": {},
     "output_type": "execute_result"
    }
   ],
   "source": [
    "filepath = \"../data/generated/predictions.jsonl\"\n",
    "df = pd.read_json(filepath, lines=True)\n",
    "df.head()"
   ]
  },
  {
   "cell_type": "code",
   "execution_count": 5,
   "metadata": {},
   "outputs": [],
   "source": [
    "from verifiers.rubrics.musique import extract_all_retrieved_doc_ids, get_last_answer\n",
    "\n",
    "\n",
    "df[\"retrieved_doc_ids\"] = df[\"trajectory\"].apply(lambda x: list(extract_all_retrieved_doc_ids(x)))\n",
    "df[\"missing_doc_ids\"] = df.apply(\n",
    "    lambda row: list(set(doc[\"id\"] for doc in row[\"docs\"] if doc[\"is_supporting\"]) - set(row[\"retrieved_doc_ids\"])),\n",
    "    axis=1,\n",
    ")\n",
    "df[\"predicted_answer\"] = df[\"trajectory\"].apply(get_last_answer)"
   ]
  },
  {
   "cell_type": "code",
   "execution_count": 6,
   "metadata": {},
   "outputs": [],
   "source": [
    "from verifiers.rubrics.musique import musique_f1_reward_func, musique_em_reward_func, musique_supporting_f1_reward_func, musique_supporting_recall_reward_func\n",
    "\n",
    "em_rewards = musique_em_reward_func(df['trajectory'].values, df['answers'].values, [2] * len(df))\n",
    "df['reward.em'] = em_rewards\n",
    "\n",
    "f1_rewards = musique_f1_reward_func(df['trajectory'].values, df['answers'].values, [2] * len(df))\n",
    "df['reward.f1'] = f1_rewards\n",
    "\n",
    "supporting_f1_rewards = musique_supporting_f1_reward_func(df['trajectory'].values, df['docs'].values)\n",
    "df['reward.supporting_f1'] = supporting_f1_rewards\n",
    "\n",
    "supporting_recall_rewards = musique_supporting_recall_reward_func(df['trajectory'].values, df['docs'].values)\n",
    "df['reward.supporting_recall'] = supporting_recall_rewards"
   ]
  },
  {
   "cell_type": "code",
   "execution_count": 7,
   "metadata": {},
   "outputs": [
    {
     "data": {
      "text/html": [
       "<div>\n",
       "<style scoped>\n",
       "    .dataframe tbody tr th:only-of-type {\n",
       "        vertical-align: middle;\n",
       "    }\n",
       "\n",
       "    .dataframe tbody tr th {\n",
       "        vertical-align: top;\n",
       "    }\n",
       "\n",
       "    .dataframe thead th {\n",
       "        text-align: right;\n",
       "    }\n",
       "</style>\n",
       "<table border=\"1\" class=\"dataframe\">\n",
       "  <thead>\n",
       "    <tr style=\"text-align: right;\">\n",
       "      <th></th>\n",
       "      <th>id</th>\n",
       "      <th>answer</th>\n",
       "      <th>n_hops</th>\n",
       "      <th>prompt</th>\n",
       "      <th>docs</th>\n",
       "      <th>answers</th>\n",
       "      <th>supporting_doc_slugs</th>\n",
       "      <th>trajectory</th>\n",
       "      <th>retrieved_doc_ids</th>\n",
       "      <th>missing_doc_ids</th>\n",
       "      <th>predicted_answer</th>\n",
       "      <th>reward.em</th>\n",
       "      <th>reward.f1</th>\n",
       "      <th>reward.supporting_f1</th>\n",
       "      <th>reward.supporting_recall</th>\n",
       "    </tr>\n",
       "  </thead>\n",
       "  <tbody>\n",
       "    <tr>\n",
       "      <th>0</th>\n",
       "      <td>2hop__734582_71302</td>\n",
       "      <td>Vito Corleone</td>\n",
       "      <td>2</td>\n",
       "      <td>[{'content': 'Answer the question based on the...</td>\n",
       "      <td>[{'body': 'Philippe Laguérie (born 30 Septembe...</td>\n",
       "      <td>[vito andolini corleone, Vito Andolini Corleon...</td>\n",
       "      <td>[10. The Good Shepherd (film), 11. The Godfath...</td>\n",
       "      <td>[{'content': 'Answer the question based on the...</td>\n",
       "      <td>[10, 6]</td>\n",
       "      <td>[11]</td>\n",
       "      <td>Lenny Montana</td>\n",
       "      <td>0.0</td>\n",
       "      <td>0.000000</td>\n",
       "      <td>0.500000</td>\n",
       "      <td>0.5</td>\n",
       "    </tr>\n",
       "    <tr>\n",
       "      <th>1</th>\n",
       "      <td>2hop__700093_455653</td>\n",
       "      <td>Rohana Wijeweera</td>\n",
       "      <td>2</td>\n",
       "      <td>[{'content': 'Answer the question based on the...</td>\n",
       "      <td>[{'body': 'Political parties, still called fac...</td>\n",
       "      <td>[Rohana Wijeweera, rohana wijeweera]</td>\n",
       "      <td>[8. Rohana Wijeweera, 12. Dimuthu Bandara Abay...</td>\n",
       "      <td>[{'content': 'Answer the question based on the...</td>\n",
       "      <td>[12]</td>\n",
       "      <td>[8]</td>\n",
       "      <td>Rohana Wijeweera</td>\n",
       "      <td>1.0</td>\n",
       "      <td>1.000000</td>\n",
       "      <td>0.666667</td>\n",
       "      <td>0.5</td>\n",
       "    </tr>\n",
       "    <tr>\n",
       "      <th>2</th>\n",
       "      <td>2hop__203955_25719</td>\n",
       "      <td>406</td>\n",
       "      <td>2</td>\n",
       "      <td>[{'content': 'Answer the question based on the...</td>\n",
       "      <td>[{'body': 'By the end of the 5th century the w...</td>\n",
       "      <td>[406]</td>\n",
       "      <td>[7. Rössen culture, 9. Galicia (Spain)]</td>\n",
       "      <td>[{'content': 'Answer the question based on the...</td>\n",
       "      <td>[7, 7, 6]</td>\n",
       "      <td>[9]</td>\n",
       "      <td>&lt;cite&gt;6&lt;/cite&gt; 410</td>\n",
       "      <td>0.0</td>\n",
       "      <td>0.000000</td>\n",
       "      <td>0.500000</td>\n",
       "      <td>0.5</td>\n",
       "    </tr>\n",
       "    <tr>\n",
       "      <th>3</th>\n",
       "      <td>2hop__83800_747874</td>\n",
       "      <td>Jamie Murray</td>\n",
       "      <td>2</td>\n",
       "      <td>[{'content': 'Answer the question based on the...</td>\n",
       "      <td>[{'body': 'Kallhälls BK was a sports club in B...</td>\n",
       "      <td>[Jamie Murray, jamie murray]</td>\n",
       "      <td>[8. 2011 Valencia Open 500 – Doubles, 16. 2016...</td>\n",
       "      <td>[{'content': 'Answer the question based on the...</td>\n",
       "      <td>[16, 8]</td>\n",
       "      <td>[]</td>\n",
       "      <td>Jamie Murray is the sibling of the player who ...</td>\n",
       "      <td>0.0</td>\n",
       "      <td>0.266667</td>\n",
       "      <td>1.000000</td>\n",
       "      <td>1.0</td>\n",
       "    </tr>\n",
       "    <tr>\n",
       "      <th>4</th>\n",
       "      <td>2hop__21104_16334</td>\n",
       "      <td>modern-day Italians</td>\n",
       "      <td>2</td>\n",
       "      <td>[{'content': 'Answer the question based on the...</td>\n",
       "      <td>[{'body': 'Cyborg anthropology originated as a...</td>\n",
       "      <td>[modern-day Italians, modern-day italians]</td>\n",
       "      <td>[4. Jews, 15. Ashkenazi Jews]</td>\n",
       "      <td>[{'content': 'Answer the question based on the...</td>\n",
       "      <td>[14, 14]</td>\n",
       "      <td>[15, 4]</td>\n",
       "      <td>None</td>\n",
       "      <td>0.0</td>\n",
       "      <td>0.000000</td>\n",
       "      <td>0.000000</td>\n",
       "      <td>0.0</td>\n",
       "    </tr>\n",
       "  </tbody>\n",
       "</table>\n",
       "</div>"
      ],
      "text/plain": [
       "                    id               answer  n_hops  \\\n",
       "0   2hop__734582_71302        Vito Corleone       2   \n",
       "1  2hop__700093_455653     Rohana Wijeweera       2   \n",
       "2   2hop__203955_25719                  406       2   \n",
       "3   2hop__83800_747874         Jamie Murray       2   \n",
       "4    2hop__21104_16334  modern-day Italians       2   \n",
       "\n",
       "                                              prompt  \\\n",
       "0  [{'content': 'Answer the question based on the...   \n",
       "1  [{'content': 'Answer the question based on the...   \n",
       "2  [{'content': 'Answer the question based on the...   \n",
       "3  [{'content': 'Answer the question based on the...   \n",
       "4  [{'content': 'Answer the question based on the...   \n",
       "\n",
       "                                                docs  \\\n",
       "0  [{'body': 'Philippe Laguérie (born 30 Septembe...   \n",
       "1  [{'body': 'Political parties, still called fac...   \n",
       "2  [{'body': 'By the end of the 5th century the w...   \n",
       "3  [{'body': 'Kallhälls BK was a sports club in B...   \n",
       "4  [{'body': 'Cyborg anthropology originated as a...   \n",
       "\n",
       "                                             answers  \\\n",
       "0  [vito andolini corleone, Vito Andolini Corleon...   \n",
       "1               [Rohana Wijeweera, rohana wijeweera]   \n",
       "2                                              [406]   \n",
       "3                       [Jamie Murray, jamie murray]   \n",
       "4         [modern-day Italians, modern-day italians]   \n",
       "\n",
       "                                supporting_doc_slugs  \\\n",
       "0  [10. The Good Shepherd (film), 11. The Godfath...   \n",
       "1  [8. Rohana Wijeweera, 12. Dimuthu Bandara Abay...   \n",
       "2            [7. Rössen culture, 9. Galicia (Spain)]   \n",
       "3  [8. 2011 Valencia Open 500 – Doubles, 16. 2016...   \n",
       "4                      [4. Jews, 15. Ashkenazi Jews]   \n",
       "\n",
       "                                          trajectory retrieved_doc_ids  \\\n",
       "0  [{'content': 'Answer the question based on the...           [10, 6]   \n",
       "1  [{'content': 'Answer the question based on the...              [12]   \n",
       "2  [{'content': 'Answer the question based on the...         [7, 7, 6]   \n",
       "3  [{'content': 'Answer the question based on the...           [16, 8]   \n",
       "4  [{'content': 'Answer the question based on the...          [14, 14]   \n",
       "\n",
       "  missing_doc_ids                                   predicted_answer  \\\n",
       "0            [11]                                      Lenny Montana   \n",
       "1             [8]                                   Rohana Wijeweera   \n",
       "2             [9]                                 <cite>6</cite> 410   \n",
       "3              []  Jamie Murray is the sibling of the player who ...   \n",
       "4         [15, 4]                                               None   \n",
       "\n",
       "   reward.em  reward.f1  reward.supporting_f1  reward.supporting_recall  \n",
       "0        0.0   0.000000              0.500000                       0.5  \n",
       "1        1.0   1.000000              0.666667                       0.5  \n",
       "2        0.0   0.000000              0.500000                       0.5  \n",
       "3        0.0   0.266667              1.000000                       1.0  \n",
       "4        0.0   0.000000              0.000000                       0.0  "
      ]
     },
     "execution_count": 7,
     "metadata": {},
     "output_type": "execute_result"
    }
   ],
   "source": [
    "df.head()"
   ]
  },
  {
   "cell_type": "code",
   "execution_count": 8,
   "metadata": {},
   "outputs": [
    {
     "data": {
      "text/html": [
       "<div>\n",
       "<style scoped>\n",
       "    .dataframe tbody tr th:only-of-type {\n",
       "        vertical-align: middle;\n",
       "    }\n",
       "\n",
       "    .dataframe tbody tr th {\n",
       "        vertical-align: top;\n",
       "    }\n",
       "\n",
       "    .dataframe thead th {\n",
       "        text-align: right;\n",
       "    }\n",
       "</style>\n",
       "<table border=\"1\" class=\"dataframe\">\n",
       "  <thead>\n",
       "    <tr style=\"text-align: right;\">\n",
       "      <th></th>\n",
       "      <th>reward.em</th>\n",
       "      <th>reward.f1</th>\n",
       "      <th>reward.supporting_f1</th>\n",
       "      <th>reward.supporting_recall</th>\n",
       "    </tr>\n",
       "  </thead>\n",
       "  <tbody>\n",
       "    <tr>\n",
       "      <th>count</th>\n",
       "      <td>300.00000</td>\n",
       "      <td>300.000000</td>\n",
       "      <td>300.000000</td>\n",
       "      <td>300.000000</td>\n",
       "    </tr>\n",
       "    <tr>\n",
       "      <th>mean</th>\n",
       "      <td>0.29000</td>\n",
       "      <td>0.389241</td>\n",
       "      <td>0.678325</td>\n",
       "      <td>0.616944</td>\n",
       "    </tr>\n",
       "    <tr>\n",
       "      <th>std</th>\n",
       "      <td>0.45452</td>\n",
       "      <td>0.437248</td>\n",
       "      <td>0.266441</td>\n",
       "      <td>0.287231</td>\n",
       "    </tr>\n",
       "    <tr>\n",
       "      <th>min</th>\n",
       "      <td>0.00000</td>\n",
       "      <td>0.000000</td>\n",
       "      <td>0.000000</td>\n",
       "      <td>0.000000</td>\n",
       "    </tr>\n",
       "    <tr>\n",
       "      <th>25%</th>\n",
       "      <td>0.00000</td>\n",
       "      <td>0.000000</td>\n",
       "      <td>0.500000</td>\n",
       "      <td>0.500000</td>\n",
       "    </tr>\n",
       "    <tr>\n",
       "      <th>50%</th>\n",
       "      <td>0.00000</td>\n",
       "      <td>0.167347</td>\n",
       "      <td>0.666667</td>\n",
       "      <td>0.666667</td>\n",
       "    </tr>\n",
       "    <tr>\n",
       "      <th>75%</th>\n",
       "      <td>1.00000</td>\n",
       "      <td>1.000000</td>\n",
       "      <td>0.857143</td>\n",
       "      <td>1.000000</td>\n",
       "    </tr>\n",
       "    <tr>\n",
       "      <th>max</th>\n",
       "      <td>1.00000</td>\n",
       "      <td>1.000000</td>\n",
       "      <td>1.000000</td>\n",
       "      <td>1.000000</td>\n",
       "    </tr>\n",
       "  </tbody>\n",
       "</table>\n",
       "</div>"
      ],
      "text/plain": [
       "       reward.em   reward.f1  reward.supporting_f1  reward.supporting_recall\n",
       "count  300.00000  300.000000            300.000000                300.000000\n",
       "mean     0.29000    0.389241              0.678325                  0.616944\n",
       "std      0.45452    0.437248              0.266441                  0.287231\n",
       "min      0.00000    0.000000              0.000000                  0.000000\n",
       "25%      0.00000    0.000000              0.500000                  0.500000\n",
       "50%      0.00000    0.167347              0.666667                  0.666667\n",
       "75%      1.00000    1.000000              0.857143                  1.000000\n",
       "max      1.00000    1.000000              1.000000                  1.000000"
      ]
     },
     "execution_count": 8,
     "metadata": {},
     "output_type": "execute_result"
    }
   ],
   "source": [
    "df[['reward.em', 'reward.f1', 'reward.supporting_f1', 'reward.supporting_recall']].describe()"
   ]
  },
  {
   "cell_type": "code",
   "execution_count": 9,
   "metadata": {},
   "outputs": [
    {
     "data": {
      "image/png": "[encoded data removed]",
      "text/plain": [
       "<Figure size 1500x1000 with 9 Axes>"
      ]
     },
     "metadata": {},
     "output_type": "display_data"
    }
   ],
   "source": [
    "# Visualize rewards per n_hops\n",
    "n_hops = sorted(df['n_hops'].unique())\n",
    "fig, axes = plt.subplots(len(n_hops), 3, figsize=(15, 10))\n",
    "fig.suptitle('Reward Distributions by Number of Hops')\n",
    "\n",
    "for i, n_hop in enumerate(n_hops):\n",
    "    subset = df[df['n_hops'] == n_hop]\n",
    "    \n",
    "    subset['reward.em'].hist(ax=axes[i,0], bins=20)\n",
    "    axes[i,0].set_title(f'{n_hop}-hop EM Reward')\n",
    "    axes[i,0].set_xlabel('EM Score')\n",
    "    axes[i,0].set_ylabel('Count')\n",
    "    axes[i,0].set_xlim(0, 1)\n",
    "    \n",
    "    subset['reward.f1'].hist(ax=axes[i,1], bins=20)\n",
    "    axes[i,1].set_title(f'{n_hop}-hop F1 Reward')\n",
    "    axes[i,1].set_xlabel('F1 Sggcore')\n",
    "    axes[i,1].set_ylabel('Count')\n",
    "    axes[i,1].set_xlim(0, 1)\n",
    "    \n",
    "    subset['reward.supporting_f1'].hist(ax=axes[i,2])\n",
    "    axes[i,2].set_title(f'{n_hop}-hop Supporting F1')\n",
    "    axes[i,2].set_xlabel('Supporting F1 Score')\n",
    "    axes[i,2].set_ylabel('Count')\n",
    "    axes[i,2].set_xlim(0, 1)\n",
    "\n",
    "\n",
    "plt.tight_layout()\n"
   ]
  },
  {
   "cell_type": "code",
   "execution_count": 10,
   "metadata": {},
   "outputs": [
    {
     "data": {
      "text/plain": [
       "[{'content': 'Answer the question based on the information provided by tools. You have access to the following tools:\\n====\\nsearch: Retrieve for relevant documents by the query. The results become better if the query is more specific. It excludes documents that have already been retrieved.\\n\\nArguments:\\n  - query: \\n----\\nget_doc: Get the document by the id.\\n\\nArguments:\\n  - id: \\n====\\n\\nFor each step:\\n1. Think through your reasoning inside <think> tags\\n2. If needed, use a tool by writing a JSON command inside <tool> tags with:\\n   - \"name\": the tool to use\\n   - \"args\": the arguments for the tool\\nFor instance,\\n<tool>\\n{\\n  \"name\": \"search\",\\n  \"args\": {\\n    \"query\": \"...\"\\n  }\\n}\\n</tool>\\n3. You will see the tool\\'s output inside <result> tags\\n4. Continue until you have found the answer\\n5. In the **last** step, \\n  - Reflect on your previous steps inside <think> tags\\n  - Cite the documents you used to answer the question inside <cite> tags by their IDs, e.g. `<cite>1, 2, 3</cite>`. This will be used to determine whether you back your answer with the information provided by the tools.\\n  - Give your final answer inside <answer> tags\\n\\n- Tools expect specific JSON input formats.\\n- Do not make up tools or arguments that aren\\'t listed in the tool descriptions.\\n- If search doesn\\'t return a relevant document, try different queries. Your answer must be based solely on retrieved documents and the question is definitely answerable. Continue searching until you find the relevant information.\\n',\n",
       "  'role': 'system'},\n",
       " {'content': \"Question: Who is played by the director of The Good Shepherd in The Godfather?\\n\\n# Available Documents\\n0. Philippe Laguérie\\n1. Benjamin Lewers\\n2. Wardlow\\n3. Il figlioccio del padrino\\n4. Mark Sloan (Grey's Anatomy)\\n5. Cameron Shepherd\\n6. Lenny Montana\\n7. Rayward–Shepherd House\\n8. The Lady in the Van\\n9. Vito Corleone\\n10. The Good Shepherd (film)\\n11. The Godfather Part II\\n12. The Godfather (film series)\\n13. Psalm 23\\n14. The Nymph's Reply to the Shepherd\\n15. Carlo Savina\\n16. Tom Hagen\\n17. Al Viola\\n18. Eswatini\\n19. Mumbai Godfather\\n\",\n",
       "  'role': 'user'}]"
      ]
     },
     "execution_count": 10,
     "metadata": {},
     "output_type": "execute_result"
    }
   ],
   "source": [
    "row = df.iloc[0]\n",
    "row['prompt']"
   ]
  },
  {
   "cell_type": "code",
   "execution_count": 13,
   "metadata": {},
   "outputs": [
    {
     "data": {
      "application/vnd.jupyter.widget-view+json": {
       "model_id": "c714801b23c24aa89b6fb4f21a808df6",
       "version_major": 2,
       "version_minor": 0
      },
      "text/plain": [
       "HBox(children=(Button(description='Previous', style=ButtonStyle()), IntText(value=0, description='Index:'), Bu…"
      ]
     },
     "metadata": {},
     "output_type": "display_data"
    },
    {
     "data": {
      "application/vnd.jupyter.widget-view+json": {
       "model_id": "6ad83074922145d9a9d8c78830ddcbaa",
       "version_major": 2,
       "version_minor": 0
      },
      "text/plain": [
       "Output()"
      ]
     },
     "metadata": {},
     "output_type": "display_data"
    }
   ],
   "source": [
    "import textwrap\n",
    "from IPython.display import display\n",
    "import ipywidgets as widgets\n",
    "from ipywidgets import HBox\n",
    "\n",
    "def fixedwidth(text):\n",
    "    if not isinstance(text, str):\n",
    "        text = str(text)\n",
    "    return \"\\n\".join(textwrap.wrap(text, width=80, replace_whitespace=False))\n",
    "\n",
    "def format_conversation(messages: list[dict]) -> str:\n",
    "    return \"\\n\".join([f\"{msg['role']}: {msg['content']}\" for msg in messages])\n",
    "\n",
    "def format_row(row):\n",
    "    question = row['prompt'][-1]['content']\n",
    "    idx_of_question = next((i for i, msg in enumerate(row['trajectory']) if msg['role'] == 'user' and msg['content'] == question), None)\n",
    "    output = []\n",
    "    output.append(f\"{row['id']} - {row['n_hops']} hops\")\n",
    "    output.append(\"=\"*80)\n",
    "    output.append(\"Q: \" + row['prompt'][-1]['content'])\n",
    "    output.append(\"Reference Answers: \" + str(row['answers']))\n",
    "    output.append(\"Predicted Answer: \" + str(row['predicted_answer']))\n",
    "    output.append(\"\")\n",
    "    output.append(\"# Scores\")\n",
    "    output.append(\"EM: {:.3f}\".format(row['reward.em']))\n",
    "    output.append(\"F1: {:.3f}\".format(row['reward.f1']))\n",
    "    output.append(\"Supporting F1: {:.3f}\".format(row['reward.supporting_f1']))\n",
    "    output.append(\"Supporting Recall: {:.3f}\".format(row['reward.supporting_recall']))\n",
    "    output.append(\"\")\n",
    "    # output.append(\"Supporting Titles: \" + str(row['supporting_titles']))\n",
    "    # output.append(\"Retrieved Titles: \" + str(row['retrieved_titles']))\n",
    "    # output.append(\"Missing Titles: \" + str(row['missing_titles']))\n",
    "    output.append(\"\\n\")\n",
    "    output.append(\"=\"*80)\n",
    "    output.append(format_conversation(row['trajectory'][idx_of_question:]))\n",
    "    output.append(\"=\"*80)\n",
    "    return \"\\n\".join(output)\n",
    "\n",
    "def present_row(row):\n",
    "    print(format_row(row))\n",
    "\n",
    "def create_browse_app(dataf):\n",
    "    def browse_failed(i=0):\n",
    "        row = dataf.iloc[i]\n",
    "        present_row(row)\n",
    "\n",
    "    index = widgets.IntText(value=0, description='Index:')\n",
    "    left_button = widgets.Button(description='Previous')\n",
    "    right_button = widgets.Button(description='Next')\n",
    "\n",
    "    def on_left_button_clicked(b):\n",
    "        if index.value > 0:\n",
    "            index.value -= 1\n",
    "\n",
    "    def on_right_button_clicked(b):\n",
    "        if index.value < len(dataf) - 1:\n",
    "            index.value += 1\n",
    "\n",
    "    left_button.on_click(on_left_button_clicked)\n",
    "    right_button.on_click(on_right_button_clicked)\n",
    "\n",
    "    ui = HBox([left_button, index, right_button])\n",
    "    out = widgets.interactive_output(browse_failed, {'i': index})\n",
    "\n",
    "    display(ui, out)\n",
    "\n",
    "# Create app focused on failed examples\n",
    "inspect_df = df[df['reward.f1'] < 1.0].sort_values('reward.f1')\n",
    "create_browse_app(inspect_df)\n"
   ]
  },
  {
   "cell_type": "code",
   "execution_count": 14,
   "metadata": {},
   "outputs": [
    {
     "data": {
      "text/plain": [
       "0.7233333333333334"
      ]
     },
     "execution_count": 14,
     "metadata": {},
     "output_type": "execute_result"
    }
   ],
   "source": [
    "retrieval_failure_mask = df['reward.supporting_recall'] < 0.95\n",
    "retrieval_failure_mask.sum() / len(df)"
   ]
  },
  {
   "cell_type": "code",
   "execution_count": 15,
   "metadata": {},
   "outputs": [
    {
     "data": {
      "text/plain": [
       "0.10333333333333333"
      ]
     },
     "execution_count": 15,
     "metadata": {},
     "output_type": "execute_result"
    }
   ],
   "source": [
    "reasoning_failure_mask = (df['reward.f1'] < 0.5) & ~retrieval_failure_mask\n",
    "reasoning_failure_mask.sum() / len(df)"
   ]
  },
  {
   "cell_type": "code",
   "execution_count": 20,
   "metadata": {},
   "outputs": [
    {
     "data": {
      "text/plain": [
       "0.17333333333333334"
      ]
     },
     "execution_count": 20,
     "metadata": {},
     "output_type": "execute_result"
    }
   ],
   "source": [
    "unfaithful_success_mask = (df['reward.f1'] > 0.5) & retrieval_failure_mask\n",
    "unfaithful_success_mask.sum() / len(df)"
   ]
  },
  {
   "cell_type": "code",
   "execution_count": 21,
   "metadata": {},
   "outputs": [
    {
     "data": {
      "application/vnd.jupyter.widget-view+json": {
       "model_id": "8ba1db2a7cd846178560eef79262d3b7",
       "version_major": 2,
       "version_minor": 0
      },
      "text/plain": [
       "HBox(children=(Button(description='Previous', style=ButtonStyle()), IntText(value=0, description='Index:'), Bu…"
      ]
     },
     "metadata": {},
     "output_type": "display_data"
    },
    {
     "data": {
      "application/vnd.jupyter.widget-view+json": {
       "model_id": "bf861259cb794451adecf1c5347d3052",
       "version_major": 2,
       "version_minor": 0
      },
      "text/plain": [
       "Output()"
      ]
     },
     "metadata": {},
     "output_type": "display_data"
    }
   ],
   "source": [
    "create_browse_app(df.loc[retrieval_failure_mask])"
   ]
  },
  {
   "cell_type": "code",
   "execution_count": null,
   "metadata": {},
   "outputs": [],
   "source": []
  }
 ],
 "metadata": {
  "kernelspec": {
   "display_name": "Python 3 (ipykernel)",
   "language": "python",
   "name": "python3"
  },
  "language_info": {
   "codemirror_mode": {
    "name": "ipython",
    "version": 3
   },
   "file_extension": ".py",
   "mimetype": "text/x-python",
   "name": "python",
   "nbconvert_exporter": "python",
   "pygments_lexer": "ipython3",
   "version": "3.11.11"
  }
 },
 "nbformat": 4,
 "nbformat_minor": 4
}
