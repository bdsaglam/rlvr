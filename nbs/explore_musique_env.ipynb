{
 "cells": [
  {
   "cell_type": "code",
   "execution_count": 1,
   "id": "a143f034",
   "metadata": {},
   "outputs": [],
   "source": [
    "from pathlib import Path\n",
    "import json\n",
    "import typer\n",
    "import pandas as pd\n",
    "import verifiers as vf\n",
    "from verifiers.types import SamplingArgs\n",
    "from dotenv import load_dotenv\n",
    "from openai import AsyncOpenAI\n",
    "\n",
    "assert load_dotenv(), \"Failed to load .env file\"\n",
    "\n",
    "openai_client = AsyncOpenAI()\n",
    "\n",
    "\n",
    "def jprint(obj):\n",
    "    print(json.dumps(obj, indent=2))\n"
   ]
  },
  {
   "cell_type": "code",
   "execution_count": 2,
   "id": "5dff558e",
   "metadata": {},
   "outputs": [
    {
     "data": {
      "text/plain": [
       "<Experiment: artifact_location='mlflow-artifacts:/4', creation_time=1758530036945, experiment_id='4', last_update_time=1758530036945, lifecycle_stage='active', name='rlvr-explore', tags={}>"
      ]
     },
     "execution_count": 2,
     "metadata": {},
     "output_type": "execute_result"
    }
   ],
   "source": [
    "import mlflow\n",
    "\n",
    "# Tell MLflow about the server URI.\n",
    "mlflow.set_tracking_uri(\"http://127.0.0.1:5000\")\n",
    "# Enable autologging with all features\n",
    "mlflow.openai.autolog()\n",
    "# Create a unique name for your experiment.\n",
    "mlflow.set_experiment(\"rlvr-explore\")"
   ]
  },
  {
   "cell_type": "code",
   "execution_count": 3,
   "id": "9328583a",
   "metadata": {},
   "outputs": [
    {
     "name": "stdout",
     "output_type": "stream",
     "text": [
      "Qwen/Qwen2.5-7B-Instruct\n"
     ]
    }
   ],
   "source": [
    "model_response = await openai_client.models.list()\n",
    "available_models = [item.id for item in model_response.data if item.object == 'model']\n",
    "model = available_models[0]\n",
    "print(model)"
   ]
  },
  {
   "cell_type": "code",
   "execution_count": 4,
   "id": "43526040",
   "metadata": {},
   "outputs": [
    {
     "name": "stderr",
     "output_type": "stream",
     "text": [
      "2025-09-26 15:16:29 - verifiers.utils.env_utils - INFO - Loading environment: vf-musique-structured\n",
      "2025-09-26 15:16:29 - verifiers.utils.env_utils - INFO - Using provided args: retriever=hybrid, noise_rate=1.0, datasets_str=bdsaglam/musique-mini,answerable,train\n",
      "2025-09-26 15:16:29 - verifiers.utils.env_utils - INFO - Using default args: eval_datasets_str=None\n"
     ]
    },
    {
     "name": "stdout",
     "output_type": "stream",
     "text": [
      "📊 Dataset: bdsaglam/musique-mini,answerable,train (noise rate: 1.0)\n",
      "🔍 Retriever: hybrid\n",
      "🌍 Loading MuSiQue environment...\n"
     ]
    },
    {
     "data": {
      "application/vnd.jupyter.widget-view+json": {
       "model_id": "42f1c306b3b5402fa14d3e7b9cc52659",
       "version_major": 2,
       "version_minor": 0
      },
      "text/plain": [
       "Map: 100%|##########| 300/300 [00:00<?, ? examples/s]"
      ]
     },
     "metadata": {},
     "output_type": "display_data"
    },
    {
     "data": {
      "application/vnd.jupyter.widget-view+json": {
       "model_id": "ea5eaa91ada24bed8aa67734991990fc",
       "version_major": 2,
       "version_minor": 0
      },
      "text/plain": [
       "Filter:   0%|          | 0/300 [00:00<?, ? examples/s]"
      ]
     },
     "metadata": {},
     "output_type": "display_data"
    },
    {
     "data": {
      "application/vnd.jupyter.widget-view+json": {
       "model_id": "849028926f224aa2b93fb9f783f1f210",
       "version_major": 2,
       "version_minor": 0
      },
      "text/plain": [
       "Map:   0%|          | 0/100 [00:00<?, ? examples/s]"
      ]
     },
     "metadata": {},
     "output_type": "display_data"
    },
    {
     "data": {
      "application/vnd.jupyter.widget-view+json": {
       "model_id": "0567a40fcd77486f8958262dc1c4f6bd",
       "version_major": 2,
       "version_minor": 0
      },
      "text/plain": [
       "Map:   0%|          | 0/100 [00:00<?, ? examples/s]"
      ]
     },
     "metadata": {},
     "output_type": "display_data"
    },
    {
     "name": "stderr",
     "output_type": "stream",
     "text": [
      "2025-09-26 15:16:33 - verifiers.utils.env_utils - INFO - Successfully loaded environment 'vf-musique-structured'\n"
     ]
    },
    {
     "name": "stdout",
     "output_type": "stream",
     "text": [
      "✅ Environment loaded with 100 examples\n"
     ]
    }
   ],
   "source": [
    "datasets_str = \"bdsaglam/musique-mini,answerable,train\"\n",
    "noise_rate = 1.0\n",
    "retriever = \"hybrid\"\n",
    "\n",
    "print(f\"📊 Dataset: {datasets_str} (noise rate: {noise_rate})\")\n",
    "print(f\"🔍 Retriever: {retriever}\")\n",
    "\n",
    "# Load MuSiQue environment\n",
    "print(\"🌍 Loading MuSiQue environment...\")\n",
    "\n",
    "vf_env = vf.load_environment(\n",
    "    env_id=\"vf-musique-structured\",\n",
    "    datasets_str=datasets_str,\n",
    "    noise_rate=noise_rate,\n",
    "    retriever=retriever,\n",
    ")\n",
    "print(f\"✅ Environment loaded with {len(vf_env.dataset)} examples\")"
   ]
  },
  {
   "cell_type": "code",
   "execution_count": 5,
   "id": "e6aca9f4",
   "metadata": {},
   "outputs": [
    {
     "data": {
      "text/html": [
       "<div>\n",
       "<style scoped>\n",
       "    .dataframe tbody tr th:only-of-type {\n",
       "        vertical-align: middle;\n",
       "    }\n",
       "\n",
       "    .dataframe tbody tr th {\n",
       "        vertical-align: top;\n",
       "    }\n",
       "\n",
       "    .dataframe thead th {\n",
       "        text-align: right;\n",
       "    }\n",
       "</style>\n",
       "<table border=\"1\" class=\"dataframe\">\n",
       "  <thead>\n",
       "    <tr style=\"text-align: right;\">\n",
       "      <th></th>\n",
       "      <th>question</th>\n",
       "      <th>answer</th>\n",
       "      <th>info</th>\n",
       "      <th>id</th>\n",
       "      <th>prompt</th>\n",
       "    </tr>\n",
       "  </thead>\n",
       "  <tbody>\n",
       "    <tr>\n",
       "      <th>0</th>\n",
       "      <td>What's the population of the city where Anthon...</td>\n",
       "      <td>190,884</td>\n",
       "      <td>{'answers': ['190,884'], 'docs': [{'body': 'Ol...</td>\n",
       "      <td>0</td>\n",
       "      <td>[{'content': 'Answer the question based on the...</td>\n",
       "    </tr>\n",
       "    <tr>\n",
       "      <th>1</th>\n",
       "      <td>When did the team that the Red Sox played agai...</td>\n",
       "      <td>2011</td>\n",
       "      <td>{'answers': ['2011'], 'docs': [{'body': 'Exact...</td>\n",
       "      <td>1</td>\n",
       "      <td>[{'content': 'Answer the question based on the...</td>\n",
       "    </tr>\n",
       "    <tr>\n",
       "      <th>2</th>\n",
       "      <td>Who is the father of the artist who created Ti...</td>\n",
       "      <td>Alfred Lennon</td>\n",
       "      <td>{'answers': ['Alfred Lennon', 'alfred lennon']...</td>\n",
       "      <td>2</td>\n",
       "      <td>[{'content': 'Answer the question based on the...</td>\n",
       "    </tr>\n",
       "    <tr>\n",
       "      <th>3</th>\n",
       "      <td>In Doctor Who, who plays the creator of Trees ...</td>\n",
       "      <td>Tony Curran</td>\n",
       "      <td>{'answers': ['tony curran', 'Tony Curran'], 'd...</td>\n",
       "      <td>3</td>\n",
       "      <td>[{'content': 'Answer the question based on the...</td>\n",
       "    </tr>\n",
       "    <tr>\n",
       "      <th>4</th>\n",
       "      <td>Little Annie Rooney's screenwriter has who for...</td>\n",
       "      <td>Jack Pickford</td>\n",
       "      <td>{'answers': ['Jack Pickford', 'jack pickford']...</td>\n",
       "      <td>4</td>\n",
       "      <td>[{'content': 'Answer the question based on the...</td>\n",
       "    </tr>\n",
       "    <tr>\n",
       "      <th>...</th>\n",
       "      <td>...</td>\n",
       "      <td>...</td>\n",
       "      <td>...</td>\n",
       "      <td>...</td>\n",
       "      <td>...</td>\n",
       "    </tr>\n",
       "    <tr>\n",
       "      <th>95</th>\n",
       "      <td>What is the size of the continent Marian Cove ...</td>\n",
       "      <td>5,400,000</td>\n",
       "      <td>{'answers': ['5,400,000'], 'docs': [{'body': '...</td>\n",
       "      <td>95</td>\n",
       "      <td>[{'content': 'Answer the question based on the...</td>\n",
       "    </tr>\n",
       "    <tr>\n",
       "      <th>96</th>\n",
       "      <td>When was the state of emergency declared in th...</td>\n",
       "      <td>20 October 1952</td>\n",
       "      <td>{'answers': ['20 october 1952', '20 October 19...</td>\n",
       "      <td>96</td>\n",
       "      <td>[{'content': 'Answer the question based on the...</td>\n",
       "    </tr>\n",
       "    <tr>\n",
       "      <th>97</th>\n",
       "      <td>Who is the spouse of the performer of Mistleto...</td>\n",
       "      <td>Barbara Marx</td>\n",
       "      <td>{'answers': ['Barbara Marx', 'barbara marx'], ...</td>\n",
       "      <td>97</td>\n",
       "      <td>[{'content': 'Answer the question based on the...</td>\n",
       "    </tr>\n",
       "    <tr>\n",
       "      <th>98</th>\n",
       "      <td>When did the Kuomintang defeat and take over t...</td>\n",
       "      <td>1928</td>\n",
       "      <td>{'answers': ['1928'], 'docs': [{'body': 'He qu...</td>\n",
       "      <td>98</td>\n",
       "      <td>[{'content': 'Answer the question based on the...</td>\n",
       "    </tr>\n",
       "    <tr>\n",
       "      <th>99</th>\n",
       "      <td>What's the age required to drink with a parent...</td>\n",
       "      <td>18 - 20</td>\n",
       "      <td>{'answers': ['18 - 20'], 'docs': [{'body': 'Do...</td>\n",
       "      <td>99</td>\n",
       "      <td>[{'content': 'Answer the question based on the...</td>\n",
       "    </tr>\n",
       "  </tbody>\n",
       "</table>\n",
       "<p>100 rows × 5 columns</p>\n",
       "</div>"
      ],
      "text/plain": [
       "                                             question           answer  \\\n",
       "0   What's the population of the city where Anthon...          190,884   \n",
       "1   When did the team that the Red Sox played agai...             2011   \n",
       "2   Who is the father of the artist who created Ti...    Alfred Lennon   \n",
       "3   In Doctor Who, who plays the creator of Trees ...      Tony Curran   \n",
       "4   Little Annie Rooney's screenwriter has who for...    Jack Pickford   \n",
       "..                                                ...              ...   \n",
       "95  What is the size of the continent Marian Cove ...        5,400,000   \n",
       "96  When was the state of emergency declared in th...  20 October 1952   \n",
       "97  Who is the spouse of the performer of Mistleto...     Barbara Marx   \n",
       "98  When did the Kuomintang defeat and take over t...             1928   \n",
       "99  What's the age required to drink with a parent...          18 - 20   \n",
       "\n",
       "                                                 info  id  \\\n",
       "0   {'answers': ['190,884'], 'docs': [{'body': 'Ol...   0   \n",
       "1   {'answers': ['2011'], 'docs': [{'body': 'Exact...   1   \n",
       "2   {'answers': ['Alfred Lennon', 'alfred lennon']...   2   \n",
       "3   {'answers': ['tony curran', 'Tony Curran'], 'd...   3   \n",
       "4   {'answers': ['Jack Pickford', 'jack pickford']...   4   \n",
       "..                                                ...  ..   \n",
       "95  {'answers': ['5,400,000'], 'docs': [{'body': '...  95   \n",
       "96  {'answers': ['20 october 1952', '20 October 19...  96   \n",
       "97  {'answers': ['Barbara Marx', 'barbara marx'], ...  97   \n",
       "98  {'answers': ['1928'], 'docs': [{'body': 'He qu...  98   \n",
       "99  {'answers': ['18 - 20'], 'docs': [{'body': 'Do...  99   \n",
       "\n",
       "                                               prompt  \n",
       "0   [{'content': 'Answer the question based on the...  \n",
       "1   [{'content': 'Answer the question based on the...  \n",
       "2   [{'content': 'Answer the question based on the...  \n",
       "3   [{'content': 'Answer the question based on the...  \n",
       "4   [{'content': 'Answer the question based on the...  \n",
       "..                                                ...  \n",
       "95  [{'content': 'Answer the question based on the...  \n",
       "96  [{'content': 'Answer the question based on the...  \n",
       "97  [{'content': 'Answer the question based on the...  \n",
       "98  [{'content': 'Answer the question based on the...  \n",
       "99  [{'content': 'Answer the question based on the...  \n",
       "\n",
       "[100 rows x 5 columns]"
      ]
     },
     "execution_count": 5,
     "metadata": {},
     "output_type": "execute_result"
    }
   ],
   "source": [
    "df = vf_env.dataset.to_pandas()\n",
    "df"
   ]
  },
  {
   "cell_type": "code",
   "execution_count": 6,
   "id": "2778a6d6",
   "metadata": {},
   "outputs": [
    {
     "data": {
      "text/plain": [
       "2000"
      ]
     },
     "execution_count": 6,
     "metadata": {},
     "output_type": "execute_result"
    }
   ],
   "source": [
    "docs = [doc for _, row in df.iterrows() for doc in row['info']['docs'] ]\n",
    "len(docs)"
   ]
  },
  {
   "cell_type": "code",
   "execution_count": 7,
   "id": "5c7ac34c",
   "metadata": {},
   "outputs": [
    {
     "name": "stdout",
     "output_type": "stream",
     "text": [
      "# Anthony Joshua vs. Wladimir Klitschko Anthony Joshua vs. Wladimir Klitschko was a professional boxing match contested\n",
      "between Anthony Joshua and Wladimir Klitschko. The event took place on 29 April 2017 at Wembley Stadium in London,\n",
      "England, with Joshua's IBF and the vacant WBA (Super) and IBO heavyweight titles on the line. Joshua won the match via\n",
      "technical knockout in the 11th round. Klitschko announced his retirement from boxing a few months after the fight.\n"
     ]
    }
   ],
   "source": [
    "import textwrap\n",
    "i = 4\n",
    "print('\\n'.join(textwrap.wrap(docs[i]['text'], 120)))"
   ]
  },
  {
   "cell_type": "code",
   "execution_count": 8,
   "id": "e7747f8a",
   "metadata": {},
   "outputs": [
    {
     "data": {
      "text/plain": [
       "0     2\n",
       "1     2\n",
       "2     2\n",
       "3     2\n",
       "4     2\n",
       "     ..\n",
       "95    2\n",
       "96    2\n",
       "97    2\n",
       "98    2\n",
       "99    2\n",
       "Name: n_hops, Length: 100, dtype: int64"
      ]
     },
     "execution_count": 8,
     "metadata": {},
     "output_type": "execute_result"
    }
   ],
   "source": [
    "df['n_hops'] = df['info'].map(lambda x: x['n_hops'])\n",
    "df['n_hops']"
   ]
  },
  {
   "cell_type": "code",
   "execution_count": 9,
   "id": "2c5a38b5",
   "metadata": {},
   "outputs": [
    {
     "data": {
      "text/plain": [
       "[{'type': 'function',\n",
       "  'function': {'name': 'retrieve_documents',\n",
       "   'description': 'Retrieve documents by the query. The results get better with more specific queries.',\n",
       "   'parameters': {'properties': {'query': {'description': 'The query to retrieve documents for.',\n",
       "      'title': 'Query',\n",
       "      'type': 'string'}},\n",
       "    'required': ['query'],\n",
       "    'title': 'retrieve_documents_args',\n",
       "    'type': 'object',\n",
       "    'additionalProperties': False},\n",
       "   'strict': True}},\n",
       " {'type': 'function',\n",
       "  'function': {'name': 'complete',\n",
       "   'description': '',\n",
       "   'parameters': {'properties': {'reasoning': {'title': 'Reasoning',\n",
       "      'type': 'string'},\n",
       "     'cited_doc_ids': {'items': {'type': 'string'},\n",
       "      'title': 'Cited Doc Ids',\n",
       "      'type': 'array'},\n",
       "     'final_answer': {'title': 'Final Answer', 'type': 'string'}},\n",
       "    'required': ['reasoning', 'cited_doc_ids', 'final_answer'],\n",
       "    'title': 'complete_args',\n",
       "    'type': 'object',\n",
       "    'additionalProperties': False},\n",
       "   'strict': True}}]"
      ]
     },
     "execution_count": 9,
     "metadata": {},
     "output_type": "execute_result"
    }
   ],
   "source": [
    "vf_env.oai_tools"
   ]
  },
  {
   "cell_type": "code",
   "execution_count": 10,
   "id": "3f4ad647",
   "metadata": {},
   "outputs": [
    {
     "data": {
      "text/html": [
       "\n",
       "<div>\n",
       "  <style scoped>\n",
       "  button {\n",
       "    border: none;\n",
       "    border-radius: 4px;\n",
       "    background-color: rgb(34, 114, 180);\n",
       "    font-family: -apple-system, \"system-ui\", \"Segoe UI\", Roboto, \"Helvetica Neue\", Arial;\n",
       "    font-size: 13px;\n",
       "    color: white;\n",
       "    margin-top: 8px;\n",
       "    margin-bottom: 8px;\n",
       "    padding: 8px 16px;\n",
       "    cursor: pointer;\n",
       "  }\n",
       "  button:hover {\n",
       "    background-color: rgb(66, 153, 224);\n",
       "  }\n",
       "  </style>\n",
       "  <button\n",
       "    onclick=\"\n",
       "        const display = this.nextElementSibling.style.display;\n",
       "        const isCollapsed = display === 'none';\n",
       "        this.nextElementSibling.style.display = isCollapsed ? null : 'none';\n",
       "\n",
       "        const verb = isCollapsed ? 'Collapse' : 'Expand';\n",
       "        this.innerText = `${verb} MLflow Trace`;\n",
       "    \"\n",
       "  >Collapse MLflow Trace</button>\n",
       "  <iframe\n",
       "    id=\"trace-renderer\"\n",
       "    style=\"width: 100%; height: 500px; border: none; resize: vertical;\"\n",
       "    src=\"http://127.0.0.1:5000/static-files/lib/notebook-trace-renderer/index.html?trace_id=tr-5ba7f96a95730beace98d125b90ddb32&amp;experiment_id=4&amp;trace_id=tr-add8dfbbb484717e7d18c795688828d1&amp;experiment_id=4&amp;trace_id=tr-61374e511138626210d1834c0fd4a529&amp;experiment_id=4&amp;version=3.4.0\"\n",
       "  />\n",
       "</div>\n"
      ],
      "text/plain": [
       "[Trace(trace_id=tr-5ba7f96a95730beace98d125b90ddb32), Trace(trace_id=tr-add8dfbbb484717e7d18c795688828d1), Trace(trace_id=tr-61374e511138626210d1834c0fd4a529)]"
      ]
     },
     "metadata": {},
     "output_type": "display_data"
    }
   ],
   "source": [
    "# Environments provide rollout interfaces for RL\n",
    "example = vf_env.dataset[1]\n",
    "\n",
    "prompt = example[\"prompt\"]\n",
    "answer = example[\"answer\"]\n",
    "info = example[\"info\"]\n",
    "info['oai_tools'] = vf_env.oai_tools\n",
    "\n",
    "\n",
    "sampling_args = dict(temperature=1.0)\n",
    "\n",
    "completion, state = await vf_env.rollout(\n",
    "    openai_client,\n",
    "    model=model,\n",
    "    prompt=prompt,\n",
    "    answer=answer,\n",
    "    info=info,\n",
    "    sampling_args=sampling_args,\n",
    ")"
   ]
  },
  {
   "cell_type": "code",
   "execution_count": 11,
   "id": "c9a77fdf",
   "metadata": {},
   "outputs": [
    {
     "name": "stdout",
     "output_type": "stream",
     "text": [
      "<class 'list'>\n",
      "<class 'dict'>\n"
     ]
    },
    {
     "data": {
      "text/plain": [
       "{'role': 'assistant',\n",
       " 'content': '',\n",
       " 'tool_calls': [ChatCompletionMessageFunctionToolCall(id='chatcmpl-tool-727a7bcc346d4086a048476278a1c1ed', function=Function(arguments='{\"query\": \"2004 World Series Red Sox opponent last World Series win\"}', name='retrieve_documents'), type='function')]}"
      ]
     },
     "execution_count": 11,
     "metadata": {},
     "output_type": "execute_result"
    }
   ],
   "source": [
    "print(type(completion))\n",
    "print(type(completion[0]))\n",
    "completion[0]"
   ]
  },
  {
   "cell_type": "code",
   "execution_count": 12,
   "id": "bf8e5511",
   "metadata": {},
   "outputs": [
    {
     "data": {
      "text/plain": [
       "{'id': 0,\n",
       " 'prompt': [{'content': \"Answer the question based on the information provided by tools.\\n\\nFor each step:\\n1. Think about the question and the information provided by the tools. Plan next action.\\n2. Use tools to retrieve documents\\n3. Continue until you find the answer through multi-hop reasoning. The question is answerable from the docs. \\n4. In the **last** step, call `complete` tool with the following arguments:\\n    - reasoning: Your reasoning for the answer based on the information gathered\\n    - cited_doc_ids: The IDs of the documents you base your answer on\\n    - final_answer: Your final answer in a few words without any explanation.\\n\\n- Do not make up tools or arguments that aren't listed.\\n- Make one tool call per step.\\n- Questions require multi-hop reasoning across multiple documents.\\n- Continue searching until you find all necessary information to answer the question.\",\n",
       "   'role': 'system'},\n",
       "  {'content': 'When did the team that the Red Sox played against in the 2004 world series last win the World Series?',\n",
       "   'role': 'user'}],\n",
       " 'completion': [],\n",
       " 'answer': '2011',\n",
       " 'task': 'default',\n",
       " 'info': {'answers': ['2011'],\n",
       "  'docs': [{'body': 'Exactly two weeks later on October 23, 2005, the same Houston Astros team lost to the Chicago White Sox in the longest World Series game by time, Game 3 of the 2005 Series, played at Minute Maid Park, which lasted 5 hours 41 minutes, breaking the previous record of 4 hours 51 minutes in Game 1 of the 2000 World Series. It also shared the record for the longest World Series game by innings at 14, tied with Game 2 of the 1916 World Series, played on October 9, 1916 between the Brooklyn Robins and Boston Red Sox at Braves Field, and Game 1 of the 2015 World Series, played on October 27, 2015 between the New York Mets and Kansas City Royals at Kauffman Stadium.',\n",
       "    'id': '0',\n",
       "    'is_supporting': False,\n",
       "    'text': '# Extra innings\\nExactly two weeks later on October 23, 2005, the same Houston Astros team lost to the Chicago White Sox in the longest World Series game by time, Game 3 of the 2005 Series, played at Minute Maid Park, which lasted 5 hours 41 minutes, breaking the previous record of 4 hours 51 minutes in Game 1 of the 2000 World Series. It also shared the record for the longest World Series game by innings at 14, tied with Game 2 of the 1916 World Series, played on October 9, 1916 between the Brooklyn Robins and Boston Red Sox at Braves Field, and Game 1 of the 2015 World Series, played on October 27, 2015 between the New York Mets and Kansas City Royals at Kauffman Stadium.',\n",
       "    'title': 'Extra innings'},\n",
       "   {'body': \"In 2003, the Yankees again had the best league record (101 -- 61), highlighted by Roger Clemens' 300th win and 4000th strikeout. In the ALCS, they defeated the Boston Red Sox in a dramatic seven game series, which featured a bench - clearing incident in Game 3 and a series - ending walk - off home run by Aaron Boone in the bottom of the 11th inning of Game 7. In the World Series the Yankees lost in 6 games to the Florida Marlins, losing a World Series at home for the first time since 1981.\",\n",
       "    'id': '1',\n",
       "    'is_supporting': False,\n",
       "    'text': \"# New York Yankees\\nIn 2003, the Yankees again had the best league record (101 -- 61), highlighted by Roger Clemens' 300th win and 4000th strikeout. In the ALCS, they defeated the Boston Red Sox in a dramatic seven game series, which featured a bench - clearing incident in Game 3 and a series - ending walk - off home run by Aaron Boone in the bottom of the 11th inning of Game 7. In the World Series the Yankees lost in 6 games to the Florida Marlins, losing a World Series at home for the first time since 1981.\",\n",
       "    'title': 'New York Yankees'},\n",
       "   {'body': 'Cubs -- White Sox rivalry Cubs pitcher Jack Pfiester throws a pitch in the 1906 World Series. Chicago Cubs Chicago White Sox First meeting June 16, 1997, Comiskey Park (II) Latest meeting July 27, 2017, Guaranteed Rate Field Next meeting May 11, 2018, Wrigley Field Statistics Meetings total 112 Most wins White Sox, 58 Regular season series 58 -- 54, White Sox Largest victory 12 -- 2, White Sox (June 24, 2005) Longest win streak Cubs: 6 (June 22, 2007 -- June 22, 2008) White Sox: 5 (June 27, 2009 -- June 12, 2010) Current win streak Cubs: 3 Post-season history 1906 World Series: White Sox, 4 -- 2',\n",
       "    'id': '2',\n",
       "    'is_supporting': False,\n",
       "    'text': '# Cubs–White Sox rivalry\\nCubs -- White Sox rivalry Cubs pitcher Jack Pfiester throws a pitch in the 1906 World Series. Chicago Cubs Chicago White Sox First meeting June 16, 1997, Comiskey Park (II) Latest meeting July 27, 2017, Guaranteed Rate Field Next meeting May 11, 2018, Wrigley Field Statistics Meetings total 112 Most wins White Sox, 58 Regular season series 58 -- 54, White Sox Largest victory 12 -- 2, White Sox (June 24, 2005) Longest win streak Cubs: 6 (June 22, 2007 -- June 22, 2008) White Sox: 5 (June 27, 2009 -- June 12, 2010) Current win streak Cubs: 3 Post-season history 1906 World Series: White Sox, 4 -- 2',\n",
       "    'title': 'Cubs–White Sox rivalry'},\n",
       "   {'body': 'The Boston Red Sox are an American professional baseball team based in Boston, Massachusetts. The Red Sox compete in Major League Baseball (MLB) as a member club of the American League (AL) East division. The Red Sox have won eight World Series championships and have played in twelve. In addition, they won the 1904 American League pennant, but were not able to defend their 1903 world championship when the New York Giants refused to participate in a World Series. Founded in 1901 as one of the American League\\'s eight charter franchises, the Red Sox \\'home ballpark has been Fenway Park since 1912. The \"Red Sox\"name was chosen by the team owner, John I. Taylor, around 1908, following the lead of previous teams that had been known as the \"Boston Red Stockings\", including the forerunner of the Atlanta Braves.',\n",
       "    'id': '3',\n",
       "    'is_supporting': False,\n",
       "    'text': '# Boston Red Sox\\nThe Boston Red Sox are an American professional baseball team based in Boston, Massachusetts. The Red Sox compete in Major League Baseball (MLB) as a member club of the American League (AL) East division. The Red Sox have won eight World Series championships and have played in twelve. In addition, they won the 1904 American League pennant, but were not able to defend their 1903 world championship when the New York Giants refused to participate in a World Series. Founded in 1901 as one of the American League\\'s eight charter franchises, the Red Sox \\'home ballpark has been Fenway Park since 1912. The \"Red Sox\"name was chosen by the team owner, John I. Taylor, around 1908, following the lead of previous teams that had been known as the \"Boston Red Stockings\", including the forerunner of the Atlanta Braves.',\n",
       "    'title': 'Boston Red Sox'},\n",
       "   {'body': \"The 2004 World Series was the championship series of Major League Baseball's (MLB) 2004 season. The 100th edition of the World Series, it was a best - of - seven playoff between the American League (AL) champion Boston Red Sox and the National League (NL) champion St. Louis Cardinals; the Red Sox swept the Cardinals in four games. The series was played from October 23 to 27, 2004, at Fenway Park and Busch Memorial Stadium, broadcast on Fox, and watched by an average of just under 25.5 million viewers. The Red Sox's World Series championship was their first since 1918.\",\n",
       "    'id': '4',\n",
       "    'is_supporting': True,\n",
       "    'text': \"# 2004 World Series\\nThe 2004 World Series was the championship series of Major League Baseball's (MLB) 2004 season. The 100th edition of the World Series, it was a best - of - seven playoff between the American League (AL) champion Boston Red Sox and the National League (NL) champion St. Louis Cardinals; the Red Sox swept the Cardinals in four games. The series was played from October 23 to 27, 2004, at Fenway Park and Busch Memorial Stadium, broadcast on Fox, and watched by an average of just under 25.5 million viewers. The Red Sox's World Series championship was their first since 1918.\",\n",
       "    'title': '2004 World Series'},\n",
       "   {'body': 'Edward Victor Cicotte (; June 19, 1884 – May 5, 1969), nicknamed \"Knuckles\", was an American right-handed pitcher in Major League Baseball best known for his time with the Chicago White Sox. He was one of eight players permanently ineligible for professional baseball for his alleged participation in the Black Sox scandal in the 1919 World Series, in which the favored White Sox lost to the Cincinnati Reds in eight games. The \"fixing\" of the 1919 World Series is the only recognized gambling scandal to tarnish a World Series.',\n",
       "    'id': '5',\n",
       "    'is_supporting': False,\n",
       "    'text': '# Eddie Cicotte\\nEdward Victor Cicotte (; June 19, 1884 – May 5, 1969), nicknamed \"Knuckles\", was an American right-handed pitcher in Major League Baseball best known for his time with the Chicago White Sox. He was one of eight players permanently ineligible for professional baseball for his alleged participation in the Black Sox scandal in the 1919 World Series, in which the favored White Sox lost to the Cincinnati Reds in eight games. The \"fixing\" of the 1919 World Series is the only recognized gambling scandal to tarnish a World Series.',\n",
       "    'title': 'Eddie Cicotte'},\n",
       "   {'body': 'The franchise joined the NL in its eighth season in 1887 and was competitive from its early years, winning three NL titles from 1901 to 1903, playing in the inaugural World Series in 1903 and winning their first World Series in 1909 behind Honus Wagner. The Pirates have had many ups and downs during their long history, most famously winning the 1960 World Series against the New York Yankees on a game - winning walk - off home run by Bill Mazeroski, the only time that Game 7 of the World Series has ever ended with a home run. They also won the 1971 World Series, led by the talent of Roberto Clemente, and the 1979 World Series under the slogan \"We Are Family\", led by \"Pops\" Willie Stargell.',\n",
       "    'id': '6',\n",
       "    'is_supporting': False,\n",
       "    'text': '# Pittsburgh Pirates\\nThe franchise joined the NL in its eighth season in 1887 and was competitive from its early years, winning three NL titles from 1901 to 1903, playing in the inaugural World Series in 1903 and winning their first World Series in 1909 behind Honus Wagner. The Pirates have had many ups and downs during their long history, most famously winning the 1960 World Series against the New York Yankees on a game - winning walk - off home run by Bill Mazeroski, the only time that Game 7 of the World Series has ever ended with a home run. They also won the 1971 World Series, led by the talent of Roberto Clemente, and the 1979 World Series under the slogan \"We Are Family\", led by \"Pops\" Willie Stargell.',\n",
       "    'title': 'Pittsburgh Pirates'},\n",
       "   {'body': 'The 1903 World Series was the first modern World Series to be played in Major League Baseball. It matched the Boston Americans of the American League against the Pittsburgh Pirates of the National League in a best - of - nine series, with Boston prevailing five games to three, winning the last four.',\n",
       "    'id': '7',\n",
       "    'is_supporting': False,\n",
       "    'text': '# 1903 World Series\\nThe 1903 World Series was the first modern World Series to be played in Major League Baseball. It matched the Boston Americans of the American League against the Pittsburgh Pirates of the National League in a best - of - nine series, with Boston prevailing five games to three, winning the last four.',\n",
       "    'title': '1903 World Series'},\n",
       "   {'body': \"In 1914, advertising executive Albert Lasker obtained a large block of the club's shares and before the 1916 season assumed majority ownership of the franchise. Lasker brought in a wealthy partner, Charles Weeghman, the proprietor of a popular chain of lunch counters who had previously owned the Chicago Whales of the short-lived Federal League. As principal owners, the pair moved the club from the West Side Grounds to the much newer Weeghman Park, which had been constructed for the Whales only two years earlier, where they remain to this day. The Cubs responded by winning a pennant in the war-shortened season of 1918, where they played a part in another team's curse: the Boston Red Sox defeated Grover Cleveland Alexander's Cubs four games to two in the 1918 World Series, Boston's last Series championship until 2004.\",\n",
       "    'id': '8',\n",
       "    'is_supporting': False,\n",
       "    'text': \"# Chicago Cubs\\nIn 1914, advertising executive Albert Lasker obtained a large block of the club's shares and before the 1916 season assumed majority ownership of the franchise. Lasker brought in a wealthy partner, Charles Weeghman, the proprietor of a popular chain of lunch counters who had previously owned the Chicago Whales of the short-lived Federal League. As principal owners, the pair moved the club from the West Side Grounds to the much newer Weeghman Park, which had been constructed for the Whales only two years earlier, where they remain to this day. The Cubs responded by winning a pennant in the war-shortened season of 1918, where they played a part in another team's curse: the Boston Red Sox defeated Grover Cleveland Alexander's Cubs four games to two in the 1918 World Series, Boston's last Series championship until 2004.\",\n",
       "    'title': 'Chicago Cubs'},\n",
       "   {'body': 'During the 1959 World Series, Essegian set a Series record with two pinch-hit home runs against the Chicago White Sox. The mark would be matched by Bernie Carbo of the Boston Red Sox, who pinch-hit homers against the Cincinnati Reds in the 1975 Series.',\n",
       "    'id': '9',\n",
       "    'is_supporting': False,\n",
       "    'text': '# Chuck Essegian\\nDuring the 1959 World Series, Essegian set a Series record with two pinch-hit home runs against the Chicago White Sox. The mark would be matched by Bernie Carbo of the Boston Red Sox, who pinch-hit homers against the Cincinnati Reds in the 1975 Series.',\n",
       "    'title': 'Chuck Essegian'},\n",
       "   {'body': 'Their first decade of play, however, was marked by futility; they finished in last place in the AL East in all but the 2004 season, when they finished second - to - last. Following the 2007 season, Stuart Sternberg, who had purchased controlling interest in the team from Vince Naimoli two years earlier, changed the team\\'s name from \"Devil Rays\"to \"Rays\", now meant to primarily refer to a burst of sunshine rather than a manta ray, though a manta ray logo remains on the uniform sleeves. The 2008 season saw the Tampa Bay Rays post their first winning season, their first AL East championship, and their first pennant (defeating the rival Boston Red Sox in the ALCS), though they lost to the Philadelphia Phillies in that year\\'s World Series. Since then, the Rays have played in the postseason in 2010, 2011, and 2013.',\n",
       "    'id': '10',\n",
       "    'is_supporting': False,\n",
       "    'text': '# Tampa Bay Rays\\nTheir first decade of play, however, was marked by futility; they finished in last place in the AL East in all but the 2004 season, when they finished second - to - last. Following the 2007 season, Stuart Sternberg, who had purchased controlling interest in the team from Vince Naimoli two years earlier, changed the team\\'s name from \"Devil Rays\"to \"Rays\", now meant to primarily refer to a burst of sunshine rather than a manta ray, though a manta ray logo remains on the uniform sleeves. The 2008 season saw the Tampa Bay Rays post their first winning season, their first AL East championship, and their first pennant (defeating the rival Boston Red Sox in the ALCS), though they lost to the Philadelphia Phillies in that year\\'s World Series. Since then, the Rays have played in the postseason in 2010, 2011, and 2013.',\n",
       "    'title': 'Tampa Bay Rays'},\n",
       "   {'body': 'The White Sox won the 1906 World Series with a defense - oriented team dubbed \"the Hitless Wonders\", and the 1917 World Series led by Eddie Cicotte, Eddie Collins, and Shoeless Joe Jackson. The 1919 World Series was marred by the Black Sox Scandal, in which several members of the White Sox were accused of conspiring with gamblers to fix games. In response, Major League Baseball\\'s new Commissioner Kenesaw Mountain Landis banned the players from Major League Baseball for life. In 1959, led by Early Wynn, Nellie Fox, Luis Aparicio and manager Al López, the White Sox won the American League pennant. They won the AL pennant in 2005, and went on to win the World Series, led by World Series MVP Jermaine Dye, Paul Konerko, Mark Buehrle, catcher A.J. Pierzynski, and the first Latino manager to win the World Series, Ozzie Guillén.',\n",
       "    'id': '11',\n",
       "    'is_supporting': False,\n",
       "    'text': '# Chicago White Sox\\nThe White Sox won the 1906 World Series with a defense - oriented team dubbed \"the Hitless Wonders\", and the 1917 World Series led by Eddie Cicotte, Eddie Collins, and Shoeless Joe Jackson. The 1919 World Series was marred by the Black Sox Scandal, in which several members of the White Sox were accused of conspiring with gamblers to fix games. In response, Major League Baseball\\'s new Commissioner Kenesaw Mountain Landis banned the players from Major League Baseball for life. In 1959, led by Early Wynn, Nellie Fox, Luis Aparicio and manager Al López, the White Sox won the American League pennant. They won the AL pennant in 2005, and went on to win the World Series, led by World Series MVP Jermaine Dye, Paul Konerko, Mark Buehrle, catcher A.J. Pierzynski, and the first Latino manager to win the World Series, Ozzie Guillén.',\n",
       "    'title': 'Chicago White Sox'},\n",
       "   {'body': 'The postponement, however, gave Red Sox manager John McNamara another option. Unlike the Mets, who had been using a three - man rotation, the Red Sox had used four starters. Since the rainout extended the series by a day, Game 1 and 5 starter Bruce Hurst received an extra day of rest and would be available to start with three days having passed. Since Hurst had done so well to that point -- after all, he was set to be named World Series MVP before the Mets rallied to win Game 6 -- McNamara chose him over Boyd to start Game 7.',\n",
       "    'id': '12',\n",
       "    'is_supporting': False,\n",
       "    'text': '# 1986 World Series\\nThe postponement, however, gave Red Sox manager John McNamara another option. Unlike the Mets, who had been using a three - man rotation, the Red Sox had used four starters. Since the rainout extended the series by a day, Game 1 and 5 starter Bruce Hurst received an extra day of rest and would be available to start with three days having passed. Since Hurst had done so well to that point -- after all, he was set to be named World Series MVP before the Mets rallied to win Game 6 -- McNamara chose him over Boyd to start Game 7.',\n",
       "    'title': '1986 World Series'},\n",
       "   {'body': 'The Chicago Cubs have not won a World Series championship since 1908, and have not appeared in the Fall Classic since 1945, although between their postseason appearance in 1984 and their most recent in 2015, they have made the postseason seven times. 107 seasons is the longest championship drought in all four of the major North American professional sports leagues, which also includes the National Football League (NFL), the National Basketball Association (NBA), and the National Hockey League (NHL). In fact, the Cubs\\' last World Series title occurred before those other three leagues even existed, and even the Cubs\\' last World Series appearance predates the founding of the NBA. The much publicized drought was concurrent to championship droughts by the Boston Red Sox and the Chicago White Sox, who both had over 80 years between championships. It is this unfortunate distinction that has led to the club often being known as \"The Lovable Losers.\" The team was one win away from breaking what is often called the \"Curse of the Billy Goat\" in 1984 and 2003 (Steve Bartman incident), but was unable get the victory that would send it to the World Series.',\n",
       "    'id': '13',\n",
       "    'is_supporting': False,\n",
       "    'text': '# Chicago Cubs\\nThe Chicago Cubs have not won a World Series championship since 1908, and have not appeared in the Fall Classic since 1945, although between their postseason appearance in 1984 and their most recent in 2015, they have made the postseason seven times. 107 seasons is the longest championship drought in all four of the major North American professional sports leagues, which also includes the National Football League (NFL), the National Basketball Association (NBA), and the National Hockey League (NHL). In fact, the Cubs\\' last World Series title occurred before those other three leagues even existed, and even the Cubs\\' last World Series appearance predates the founding of the NBA. The much publicized drought was concurrent to championship droughts by the Boston Red Sox and the Chicago White Sox, who both had over 80 years between championships. It is this unfortunate distinction that has led to the club often being known as \"The Lovable Losers.\" The team was one win away from breaking what is often called the \"Curse of the Billy Goat\" in 1984 and 2003 (Steve Bartman incident), but was unable get the victory that would send it to the World Series.',\n",
       "    'title': 'Chicago Cubs'},\n",
       "   {'body': 'In the American League, the New York Yankees have played in 40 World Series and won 27, the Philadelphia / Kansas City / Oakland Athletics have played in 14 and won 9, and the Boston Red Sox have played in 12 and won 8, including the first World Series. In the National League, the St. Louis Cardinals have appeared in 19 and won 11, the New York / San Francisco Giants have played in 20 and won 8, the Brooklyn / Los Angeles Dodgers have appeared in 18 and won 6, and the Cincinnati Reds have appeared in 9 and won 5.',\n",
       "    'id': '14',\n",
       "    'is_supporting': False,\n",
       "    'text': '# World Series\\nIn the American League, the New York Yankees have played in 40 World Series and won 27, the Philadelphia / Kansas City / Oakland Athletics have played in 14 and won 9, and the Boston Red Sox have played in 12 and won 8, including the first World Series. In the National League, the St. Louis Cardinals have appeared in 19 and won 11, the New York / San Francisco Giants have played in 20 and won 8, the Brooklyn / Los Angeles Dodgers have appeared in 18 and won 6, and the Cincinnati Reds have appeared in 9 and won 5.',\n",
       "    'title': 'World Series'},\n",
       "   {'body': \"The 1990 World Series was the 87th edition of Major League Baseball's championship series and the conclusion of the 1990 Major League Baseball season. The Series featured the defending champions and heavily favored American League (AL) champion Oakland Athletics against the National League (NL) champion Cincinnati Reds. The Reds defeated the Athletics in a four - game sweep. It was the fifth 4 - game sweep by the National League and second by the Reds after they did it in 1976, as well as the second consecutive World Series to end in a sweep, after the A's themselves did it to the San Francisco Giants in 1989. It is remembered for Billy Hatcher's seven consecutive hits. The sweep extended the Reds' World Series winning streak to nine games, dating back to 1975. This also was the second World Series meeting between the two clubs (Oakland won four games to three in 1972). As of 2017, this remains both teams' most recent appearance in the World Series.\",\n",
       "    'id': '15',\n",
       "    'is_supporting': False,\n",
       "    'text': \"# 1990 World Series\\nThe 1990 World Series was the 87th edition of Major League Baseball's championship series and the conclusion of the 1990 Major League Baseball season. The Series featured the defending champions and heavily favored American League (AL) champion Oakland Athletics against the National League (NL) champion Cincinnati Reds. The Reds defeated the Athletics in a four - game sweep. It was the fifth 4 - game sweep by the National League and second by the Reds after they did it in 1976, as well as the second consecutive World Series to end in a sweep, after the A's themselves did it to the San Francisco Giants in 1989. It is remembered for Billy Hatcher's seven consecutive hits. The sweep extended the Reds' World Series winning streak to nine games, dating back to 1975. This also was the second World Series meeting between the two clubs (Oakland won four games to three in 1972). As of 2017, this remains both teams' most recent appearance in the World Series.\",\n",
       "    'title': '1990 World Series'},\n",
       "   {'body': \"St. Louis Cardinals 2017 St. Louis Cardinals season Established in 1882 Team logo Cap insignia Major league affiliations National League (1892 -- present) Central Division (1994 -- present) East Division (1969 -- 1993) American Association (1882 -- 1891) Current uniform Retired numbers 6 9 10 14 17 20 24 42 42 45 85 Colors Red, midnight navy blue, yellow, white Name St. Louis Cardinals (1900 -- present) St. Louis Perfectos (1899) St. Louis Browns (1883 -- 1898) St. Louis Brown Stockings (1882) Other nicknames The Cards, The Redbirds, The Birds, Birds on the Bat Ballpark Busch Stadium (III) (2006 -- present) Busch Memorial Stadium (1966 -- 2005) a.k.a. Busch Stadium (II) (1966 -- 1982) Sportsman's Park (1920 -- 1966) a.k.a. Busch Stadium (I) (1953 -- 1966) Robison Field (1893 -- 1920) a.k.a. Cardinal Field (1917 -- 1920) a.k.a. League Park (1899 -- 1911) a.k.a. Sportsman's Park (II) (1893 -- 1899) Sportsman's Park (1882 -- 1892) Major league titles World Series titles (11) 1926 1931 1934 1942 1944 1946 1964 1967 1982 2006 2011 NL Pennants (19) 1926 1928 1930 1931 1934 1942 1943 1944 1946 1964 1967 1968 1982 1985 2006 2011 2013 Central Division titles (10) 2000 2002 2005 2006 2009 2013 2014 2015 East Division titles (3) 1982 1985 Wild card berths (3) 2001 2011 2012 Front office Owner (s) William DeWitt Jr. Manager Mike Matheny General Manager Mike Girsch President of Baseball Operations John Mozeliak\",\n",
       "    'id': '16',\n",
       "    'is_supporting': True,\n",
       "    'text': \"# St. Louis Cardinals\\nSt. Louis Cardinals 2017 St. Louis Cardinals season Established in 1882 Team logo Cap insignia Major league affiliations National League (1892 -- present) Central Division (1994 -- present) East Division (1969 -- 1993) American Association (1882 -- 1891) Current uniform Retired numbers 6 9 10 14 17 20 24 42 42 45 85 Colors Red, midnight navy blue, yellow, white Name St. Louis Cardinals (1900 -- present) St. Louis Perfectos (1899) St. Louis Browns (1883 -- 1898) St. Louis Brown Stockings (1882) Other nicknames The Cards, The Redbirds, The Birds, Birds on the Bat Ballpark Busch Stadium (III) (2006 -- present) Busch Memorial Stadium (1966 -- 2005) a.k.a. Busch Stadium (II) (1966 -- 1982) Sportsman's Park (1920 -- 1966) a.k.a. Busch Stadium (I) (1953 -- 1966) Robison Field (1893 -- 1920) a.k.a. Cardinal Field (1917 -- 1920) a.k.a. League Park (1899 -- 1911) a.k.a. Sportsman's Park (II) (1893 -- 1899) Sportsman's Park (1882 -- 1892) Major league titles World Series titles (11) 1926 1931 1934 1942 1944 1946 1964 1967 1982 2006 2011 NL Pennants (19) 1926 1928 1930 1931 1934 1942 1943 1944 1946 1964 1967 1968 1982 1985 2006 2011 2013 Central Division titles (10) 2000 2002 2005 2006 2009 2013 2014 2015 East Division titles (3) 1982 1985 Wild card berths (3) 2001 2011 2012 Front office Owner (s) William DeWitt Jr. Manager Mike Matheny General Manager Mike Girsch President of Baseball Operations John Mozeliak\",\n",
       "    'title': 'St. Louis Cardinals'},\n",
       "   {'body': 'Thomas died at the age of 93 in Rice Lake, Wisconsin. He was the last surviving member of the 1918 World Champion Boston Red Sox.',\n",
       "    'id': '17',\n",
       "    'is_supporting': False,\n",
       "    'text': '# Fred Thomas (third baseman)\\nThomas died at the age of 93 in Rice Lake, Wisconsin. He was the last surviving member of the 1918 World Champion Boston Red Sox.',\n",
       "    'title': 'Fred Thomas (third baseman)'},\n",
       "   {'body': 'The Cubs have appeared in a total of eleven World Series. The 1906 Cubs won 116 games, finishing 116 -- 36 and posting a modern - era record winning percentage of. 763, before losing the World Series to the Chicago White Sox ( \"The Hitless Wonders\") by four games to two. The Cubs won back - to - back World Series championships in 1907 and 1908, becoming the first major league team to play in three consecutive World Series, and the first to win it twice. Most recently, the Cubs won the 2016 National League Championship Series and 2016 World Series, which ended a 71 - year National League pennant drought and a 108 - year World Series championship drought, both of which are record droughts in Major League Baseball. The 108 - year drought was also the longest such occurrence in all major North American sports. Since the start of divisional play in 1969, the Cubs have appeared in the postseason eight times through the 2016 season.',\n",
       "    'id': '18',\n",
       "    'is_supporting': False,\n",
       "    'text': '# Chicago Cubs\\nThe Cubs have appeared in a total of eleven World Series. The 1906 Cubs won 116 games, finishing 116 -- 36 and posting a modern - era record winning percentage of. 763, before losing the World Series to the Chicago White Sox ( \"The Hitless Wonders\") by four games to two. The Cubs won back - to - back World Series championships in 1907 and 1908, becoming the first major league team to play in three consecutive World Series, and the first to win it twice. Most recently, the Cubs won the 2016 National League Championship Series and 2016 World Series, which ended a 71 - year National League pennant drought and a 108 - year World Series championship drought, both of which are record droughts in Major League Baseball. The 108 - year drought was also the longest such occurrence in all major North American sports. Since the start of divisional play in 1969, the Cubs have appeared in the postseason eight times through the 2016 season.',\n",
       "    'title': 'Chicago Cubs'},\n",
       "   {'body': \"The 2007 World Series was the championship series of Major League Baseball's (MLB) 2007 season. The 103rd edition of the World Series, it was a best - of - seven playoff between the National League (NL) champion Colorado Rockies and the American League (AL) champion Boston Red Sox; the Red Sox swept the Rockies in four games. It was the Rockies' first appearance in a World Series. The Red Sox's victory was their second World Series championship in four seasons and their seventh overall; it also marked the third sweep in four years by the AL champions. The series began on Wednesday, October 24 and ended on Sunday, October 28.\",\n",
       "    'id': '19',\n",
       "    'is_supporting': False,\n",
       "    'text': \"# 2007 World Series\\nThe 2007 World Series was the championship series of Major League Baseball's (MLB) 2007 season. The 103rd edition of the World Series, it was a best - of - seven playoff between the National League (NL) champion Colorado Rockies and the American League (AL) champion Boston Red Sox; the Red Sox swept the Rockies in four games. It was the Rockies' first appearance in a World Series. The Red Sox's victory was their second World Series championship in four seasons and their seventh overall; it also marked the third sweep in four years by the AL champions. The series began on Wednesday, October 24 and ended on Sunday, October 28.\",\n",
       "    'title': '2007 World Series'}],\n",
       "  'id': '2hop__45570_76249',\n",
       "  'n_hops': 2,\n",
       "  'oai_tools': [{'type': 'function',\n",
       "    'function': {'name': 'retrieve_documents',\n",
       "     'description': 'Retrieve documents by the query. The results get better with more specific queries.',\n",
       "     'parameters': {'properties': {'query': {'description': 'The query to retrieve documents for.',\n",
       "        'title': 'Query',\n",
       "        'type': 'string'}},\n",
       "      'required': ['query'],\n",
       "      'title': 'retrieve_documents_args',\n",
       "      'type': 'object',\n",
       "      'additionalProperties': False},\n",
       "     'strict': True}},\n",
       "   {'type': 'function',\n",
       "    'function': {'name': 'complete',\n",
       "     'description': '',\n",
       "     'parameters': {'properties': {'reasoning': {'title': 'Reasoning',\n",
       "        'type': 'string'},\n",
       "       'cited_doc_ids': {'items': {'type': 'string'},\n",
       "        'title': 'Cited Doc Ids',\n",
       "        'type': 'array'},\n",
       "       'final_answer': {'title': 'Final Answer', 'type': 'string'}},\n",
       "      'required': ['reasoning', 'cited_doc_ids', 'final_answer'],\n",
       "      'title': 'complete_args',\n",
       "      'type': 'object',\n",
       "      'additionalProperties': False},\n",
       "     'strict': True}}]},\n",
       " 'responses': [ChatCompletion(id='chatcmpl-c2cf8bb8d5fa40f6acd955e21694f199', choices=[Choice(finish_reason='tool_calls', index=0, logprobs=None, message=ChatCompletionMessage(content=None, refusal=None, role='assistant', annotations=None, audio=None, function_call=None, tool_calls=[ChatCompletionMessageFunctionToolCall(id='chatcmpl-tool-727a7bcc346d4086a048476278a1c1ed', function=Function(arguments='{\"query\": \"2004 World Series Red Sox opponent last World Series win\"}', name='retrieve_documents'), type='function')], reasoning_content=None), stop_reason=None, token_ids=None)], created=1758888993, model='Qwen/Qwen2.5-7B-Instruct', object='chat.completion', service_tier=None, system_fingerprint=None, usage=CompletionUsage(completion_tokens=32, prompt_tokens=522, total_tokens=554, completion_tokens_details=None, prompt_tokens_details=None), prompt_logprobs=None, prompt_token_ids=None, kv_transfer_params=None),\n",
       "  ChatCompletion(id='chatcmpl-aa026eae4d094337bff9534f02c6360f', choices=[Choice(finish_reason='tool_calls', index=0, logprobs=None, message=ChatCompletionMessage(content=None, refusal=None, role='assistant', annotations=None, audio=None, function_call=None, tool_calls=[ChatCompletionMessageFunctionToolCall(id='chatcmpl-tool-4c9889d5f009472db90d41f458552c16', function=Function(arguments='{\"query\": \"St. Louis Cardinals last World Series win\"}', name='retrieve_documents'), type='function')], reasoning_content=None), stop_reason=None, token_ids=None)], created=1758888994, model='Qwen/Qwen2.5-7B-Instruct', object='chat.completion', service_tier=None, system_fingerprint=None, usage=CompletionUsage(completion_tokens=27, prompt_tokens=736, total_tokens=763, completion_tokens_details=None, prompt_tokens_details=None), prompt_logprobs=None, prompt_token_ids=None, kv_transfer_params=None),\n",
       "  ChatCompletion(id='chatcmpl-230506a663aa43d2af5856df316e3c66', choices=[Choice(finish_reason='tool_calls', index=0, logprobs=None, message=ChatCompletionMessage(content=None, refusal=None, role='assistant', annotations=None, audio=None, function_call=None, tool_calls=[ChatCompletionMessageFunctionToolCall(id='chatcmpl-tool-d8835a36fc7a4517867d0384e3c862c3', function=Function(arguments='{\"reasoning\": \"The 2004 World Series was played between the Boston Red Sox and the St. Louis Cardinals. According to the document, the St. Louis Cardinals have won the World Series 11 times, which includes 2006 and 2011. Therefore, the most recent year before 2004 when the St. Louis Cardinals won the World Series was 2006.\", \"cited_doc_ids\": [\"16\"], \"final_answer\": \"2006\"}', name='complete'), type='function')], reasoning_content=None), stop_reason=None, token_ids=None)], created=1758888995, model='Qwen/Qwen2.5-7B-Instruct', object='chat.completion', service_tier=None, system_fingerprint=None, usage=CompletionUsage(completion_tokens=123, prompt_tokens=1440, total_tokens=1563, completion_tokens_details=None, prompt_tokens_details=None), prompt_logprobs=None, prompt_token_ids=None, kv_transfer_params=None)],\n",
       " 'turn': 3,\n",
       " 'timing': {'generation_ms': 3744.5311546325684,\n",
       "  'scoring_ms': 0.0,\n",
       "  'total_ms': 3744.5311546325684}}"
      ]
     },
     "execution_count": 12,
     "metadata": {},
     "output_type": "execute_result"
    }
   ],
   "source": [
    "state"
   ]
  },
  {
   "cell_type": "code",
   "execution_count": 13,
   "id": "37b19abb",
   "metadata": {},
   "outputs": [
    {
     "name": "stdout",
     "output_type": "stream",
     "text": [
      "ChatCompletion(id='chatcmpl-c2cf8bb8d5fa40f6acd955e21694f199', choices=[Choice(finish_reason='tool_calls', index=0, logprobs=None, message=ChatCompletionMessage(content=None, refusal=None, role='assistant', annotations=None, audio=None, function_call=None, tool_calls=[ChatCompletionMessageFunctionToolCall(id='chatcmpl-tool-727a7bcc346d4086a048476278a1c1ed', function=Function(arguments='{\"query\": \"2004 World Series Red Sox opponent last World Series win\"}', name='retrieve_documents'), type='function')], reasoning_content=None), stop_reason=None, token_ids=None)], created=1758888993, model='Qwen/Qwen2.5-7B-Instruct', object='chat.completion', service_tier=None, system_fingerprint=None, usage=CompletionUsage(completion_tokens=32, prompt_tokens=522, total_tokens=554, completion_tokens_details=None, prompt_tokens_details=None), prompt_logprobs=None, prompt_token_ids=None, kv_transfer_params=None)\n",
      "ChatCompletion(id='chatcmpl-aa026eae4d094337bff9534f02c6360f', choices=[Choice(finish_reason='tool_calls', index=0, logprobs=None, message=ChatCompletionMessage(content=None, refusal=None, role='assistant', annotations=None, audio=None, function_call=None, tool_calls=[ChatCompletionMessageFunctionToolCall(id='chatcmpl-tool-4c9889d5f009472db90d41f458552c16', function=Function(arguments='{\"query\": \"St. Louis Cardinals last World Series win\"}', name='retrieve_documents'), type='function')], reasoning_content=None), stop_reason=None, token_ids=None)], created=1758888994, model='Qwen/Qwen2.5-7B-Instruct', object='chat.completion', service_tier=None, system_fingerprint=None, usage=CompletionUsage(completion_tokens=27, prompt_tokens=736, total_tokens=763, completion_tokens_details=None, prompt_tokens_details=None), prompt_logprobs=None, prompt_token_ids=None, kv_transfer_params=None)\n",
      "ChatCompletion(id='chatcmpl-230506a663aa43d2af5856df316e3c66', choices=[Choice(finish_reason='tool_calls', index=0, logprobs=None, message=ChatCompletionMessage(content=None, refusal=None, role='assistant', annotations=None, audio=None, function_call=None, tool_calls=[ChatCompletionMessageFunctionToolCall(id='chatcmpl-tool-d8835a36fc7a4517867d0384e3c862c3', function=Function(arguments='{\"reasoning\": \"The 2004 World Series was played between the Boston Red Sox and the St. Louis Cardinals. According to the document, the St. Louis Cardinals have won the World Series 11 times, which includes 2006 and 2011. Therefore, the most recent year before 2004 when the St. Louis Cardinals won the World Series was 2006.\", \"cited_doc_ids\": [\"16\"], \"final_answer\": \"2006\"}', name='complete'), type='function')], reasoning_content=None), stop_reason=None, token_ids=None)], created=1758888995, model='Qwen/Qwen2.5-7B-Instruct', object='chat.completion', service_tier=None, system_fingerprint=None, usage=CompletionUsage(completion_tokens=123, prompt_tokens=1440, total_tokens=1563, completion_tokens_details=None, prompt_tokens_details=None), prompt_logprobs=None, prompt_token_ids=None, kv_transfer_params=None)\n"
     ]
    }
   ],
   "source": [
    "for response in state['responses']:\n",
    "    print(response)"
   ]
  },
  {
   "cell_type": "code",
   "execution_count": 14,
   "id": "1c8b6f15",
   "metadata": {},
   "outputs": [
    {
     "data": {
      "text/plain": [
       "[<function vf_musique_structured.rewards.exact_match_reward(completion, answer, info, parser, **kwargs)>,\n",
       " <function vf_musique_structured.rewards.f1_reward(completion, answer, info, parser, **kwargs)>,\n",
       " <function vf_musique_structured.rewards.retrieval_recall_reward(completion, info, **kwargs)>,\n",
       " <function vf_musique_structured.rewards.retrieval_precision_reward(completion, info, **kwargs)>,\n",
       " <function vf_musique_structured.rewards.citation_reward(completion, info, parser, **kwargs)>,\n",
       " <function vf_musique_structured.rewards.format_reward(completion, parser, **kwargs)>,\n",
       " <function vf_musique_structured.rewards.combined_reward(*args, **kwargs)>]"
      ]
     },
     "execution_count": 14,
     "metadata": {},
     "output_type": "execute_result"
    }
   ],
   "source": [
    "vf_env.rubric.reward_funcs"
   ]
  },
  {
   "cell_type": "code",
   "execution_count": 15,
   "id": "37990171",
   "metadata": {},
   "outputs": [],
   "source": [
    "rewards = await vf_env.rubric.score_rollout(prompt=prompt, completion=completion, answer=answer, state=state, info=info)"
   ]
  },
  {
   "cell_type": "code",
   "execution_count": 16,
   "id": "4cae256c",
   "metadata": {},
   "outputs": [
    {
     "data": {
      "text/plain": [
       "RolloutScore(reward=0.45, metrics={'exact_match_reward': 0.0, 'f1_reward': 0.0, 'retrieval_recall_reward': 1.0, 'retrieval_precision_reward': 1.0, 'citation_reward': 0.5, 'format_reward': 1.0, 'combined_reward': 0.45})"
      ]
     },
     "execution_count": 16,
     "metadata": {},
     "output_type": "execute_result"
    }
   ],
   "source": [
    "rewards"
   ]
  },
  {
   "cell_type": "code",
   "execution_count": 17,
   "id": "d52bda49",
   "metadata": {},
   "outputs": [
    {
     "data": {
      "text/plain": [
       "[{'role': 'assistant',\n",
       "  'content': '',\n",
       "  'tool_calls': [ChatCompletionMessageFunctionToolCall(id='chatcmpl-tool-727a7bcc346d4086a048476278a1c1ed', function=Function(arguments='{\"query\": \"2004 World Series Red Sox opponent last World Series win\"}', name='retrieve_documents'), type='function')]},\n",
       " {'role': 'tool',\n",
       "  'content': \"Document ID: 4\\n# 2004 World Series\\nThe 2004 World Series was the championship series of Major League Baseball's (MLB) 2004 season. The 100th edition of the World Series, it was a best - of - seven playoff between the American League (AL) champion Boston Red Sox and the National League (NL) champion St. Louis Cardinals; the Red Sox swept the Cardinals in four games. The series was played from October 23 to 27, 2004, at Fenway Park and Busch Memorial Stadium, broadcast on Fox, and watched by an average of just under 25.5 million viewers. The Red Sox's World Series championship was their first since 1918.\",\n",
       "  'tool_call_id': 'chatcmpl-tool-727a7bcc346d4086a048476278a1c1ed'},\n",
       " {'role': 'assistant',\n",
       "  'content': '',\n",
       "  'tool_calls': [ChatCompletionMessageFunctionToolCall(id='chatcmpl-tool-4c9889d5f009472db90d41f458552c16', function=Function(arguments='{\"query\": \"St. Louis Cardinals last World Series win\"}', name='retrieve_documents'), type='function')]},\n",
       " {'role': 'tool',\n",
       "  'content': \"Document ID: 16\\n# St. Louis Cardinals\\nSt. Louis Cardinals 2017 St. Louis Cardinals season Established in 1882 Team logo Cap insignia Major league affiliations National League (1892 -- present) Central Division (1994 -- present) East Division (1969 -- 1993) American Association (1882 -- 1891) Current uniform Retired numbers 6 9 10 14 17 20 24 42 42 45 85 Colors Red, midnight navy blue, yellow, white Name St. Louis Cardinals (1900 -- present) St. Louis Perfectos (1899) St. Louis Browns (1883 -- 1898) St. Louis Brown Stockings (1882) Other nicknames The Cards, The Redbirds, The Birds, Birds on the Bat Ballpark Busch Stadium (III) (2006 -- present) Busch Memorial Stadium (1966 -- 2005) a.k.a. Busch Stadium (II) (1966 -- 1982) Sportsman's Park (1920 -- 1966) a.k.a. Busch Stadium (I) (1953 -- 1966) Robison Field (1893 -- 1920) a.k.a. Cardinal Field (1917 -- 1920) a.k.a. League Park (1899 -- 1911) a.k.a. Sportsman's Park (II) (1893 -- 1899) Sportsman's Park (1882 -- 1892) Major league titles World Series titles (11) 1926 1931 1934 1942 1944 1946 1964 1967 1982 2006 2011 NL Pennants (19) 1926 1928 1930 1931 1934 1942 1943 1944 1946 1964 1967 1968 1982 1985 2006 2011 2013 Central Division titles (10) 2000 2002 2005 2006 2009 2013 2014 2015 East Division titles (3) 1982 1985 Wild card berths (3) 2001 2011 2012 Front office Owner (s) William DeWitt Jr. Manager Mike Matheny General Manager Mike Girsch President of Baseball Operations John Mozeliak\",\n",
       "  'tool_call_id': 'chatcmpl-tool-4c9889d5f009472db90d41f458552c16'},\n",
       " {'role': 'assistant',\n",
       "  'content': '',\n",
       "  'tool_calls': [ChatCompletionMessageFunctionToolCall(id='chatcmpl-tool-d8835a36fc7a4517867d0384e3c862c3', function=Function(arguments='{\"reasoning\": \"The 2004 World Series was played between the Boston Red Sox and the St. Louis Cardinals. According to the document, the St. Louis Cardinals have won the World Series 11 times, which includes 2006 and 2011. Therefore, the most recent year before 2004 when the St. Louis Cardinals won the World Series was 2006.\", \"cited_doc_ids\": [\"16\"], \"final_answer\": \"2006\"}', name='complete'), type='function')]}]"
      ]
     },
     "execution_count": 17,
     "metadata": {},
     "output_type": "execute_result"
    }
   ],
   "source": [
    "completion"
   ]
  },
  {
   "cell_type": "code",
   "execution_count": null,
   "id": "8cfb6ab8",
   "metadata": {},
   "outputs": [],
   "source": []
  }
 ],
 "metadata": {
  "kernelspec": {
   "display_name": ".venv",
   "language": "python",
   "name": "python3"
  },
  "language_info": {
   "codemirror_mode": {
    "name": "ipython",
    "version": 3
   },
   "file_extension": ".py",
   "mimetype": "text/x-python",
   "name": "python",
   "nbconvert_exporter": "python",
   "pygments_lexer": "ipython3",
   "version": "3.12.9"
  }
 },
 "nbformat": 4,
 "nbformat_minor": 5
}
