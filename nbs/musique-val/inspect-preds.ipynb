{
 "cells": [
  {
   "cell_type": "code",
   "execution_count": 23,
   "metadata": {},
   "outputs": [
    {
     "data": {
      "text/plain": [
       "True"
      ]
     },
     "execution_count": 23,
     "metadata": {},
     "output_type": "execute_result"
    }
   ],
   "source": [
    "from dotenv import load_dotenv\n",
    "load_dotenv()"
   ]
  },
  {
   "cell_type": "code",
   "execution_count": 24,
   "metadata": {},
   "outputs": [],
   "source": [
    "# import os\n",
    "# os.environ['LD_LIBRARY_PATH'] = '/home/baris/miniconda3/envs/verifiers/lib/python3.11/site-packages/nvidia/nvjitlink/lib'"
   ]
  },
  {
   "cell_type": "code",
   "execution_count": 25,
   "metadata": {},
   "outputs": [],
   "source": [
    "import json\n",
    "import textwrap\n",
    "import pandas as pd\n",
    "from ipywidgets import widgets\n",
    "from IPython.display import display\n",
    "from ipywidgets import HBox\n",
    "import matplotlib.pyplot as plt\n",
    "from tabulate import tabulate\n"
   ]
  },
  {
   "cell_type": "code",
   "execution_count": 26,
   "metadata": {},
   "outputs": [
    {
     "data": {
      "text/html": [
       "<div>\n",
       "<style scoped>\n",
       "    .dataframe tbody tr th:only-of-type {\n",
       "        vertical-align: middle;\n",
       "    }\n",
       "\n",
       "    .dataframe tbody tr th {\n",
       "        vertical-align: top;\n",
       "    }\n",
       "\n",
       "    .dataframe thead th {\n",
       "        text-align: right;\n",
       "    }\n",
       "</style>\n",
       "<table border=\"1\" class=\"dataframe\">\n",
       "  <thead>\n",
       "    <tr style=\"text-align: right;\">\n",
       "      <th></th>\n",
       "      <th>id</th>\n",
       "      <th>answer</th>\n",
       "      <th>prompt</th>\n",
       "      <th>docs</th>\n",
       "      <th>answers</th>\n",
       "      <th>supporting_doc_slugs</th>\n",
       "      <th>n_hops</th>\n",
       "      <th>trajectory</th>\n",
       "      <th>predicted_answer</th>\n",
       "      <th>exact_match</th>\n",
       "      <th>f1</th>\n",
       "      <th>supporting_doc_ids</th>\n",
       "      <th>retrieved_doc_ids</th>\n",
       "      <th>supporting.precision</th>\n",
       "      <th>supporting.recall</th>\n",
       "      <th>supporting.f1</th>\n",
       "      <th>citation.precision</th>\n",
       "      <th>citation.recall</th>\n",
       "      <th>citation.f1</th>\n",
       "    </tr>\n",
       "  </thead>\n",
       "  <tbody>\n",
       "    <tr>\n",
       "      <th>0</th>\n",
       "      <td>2hop__460946_294723</td>\n",
       "      <td>Miquette Giraudy</td>\n",
       "      <td>[{'content': 'Answer the question based on the...</td>\n",
       "      <td>[{'body': 'Grant's First Stand is the debut al...</td>\n",
       "      <td>[miquette giraudy, Miquette Giraudy]</td>\n",
       "      <td>[5. Miquette Giraudy, 10. Green (Steve Hillage...</td>\n",
       "      <td>2</td>\n",
       "      <td>[{'content': 'Answer the question based on the...</td>\n",
       "      <td>Steve Hillage.</td>\n",
       "      <td>0</td>\n",
       "      <td>0.0</td>\n",
       "      <td>[10, 5]</td>\n",
       "      <td>[1, 0, 5]</td>\n",
       "      <td>0.333333</td>\n",
       "      <td>0.5</td>\n",
       "      <td>0.400000</td>\n",
       "      <td>1.0</td>\n",
       "      <td>1.0</td>\n",
       "      <td>1.000000</td>\n",
       "    </tr>\n",
       "    <tr>\n",
       "      <th>1</th>\n",
       "      <td>2hop__252311_366220</td>\n",
       "      <td>Mike Medavoy</td>\n",
       "      <td>[{'content': 'Answer the question based on the...</td>\n",
       "      <td>[{'body': 'SICRAL 1B is a military communicati...</td>\n",
       "      <td>[mike medavoy, Mike Medavoy]</td>\n",
       "      <td>[6. Mike Medavoy, 10. UHF (film)]</td>\n",
       "      <td>2</td>\n",
       "      <td>[{'content': 'Answer the question based on the...</td>\n",
       "      <td>Mike Medavoy</td>\n",
       "      <td>1</td>\n",
       "      <td>1.0</td>\n",
       "      <td>[10, 6]</td>\n",
       "      <td>[10, 6]</td>\n",
       "      <td>1.000000</td>\n",
       "      <td>1.0</td>\n",
       "      <td>1.000000</td>\n",
       "      <td>1.0</td>\n",
       "      <td>0.5</td>\n",
       "      <td>0.666667</td>\n",
       "    </tr>\n",
       "    <tr>\n",
       "      <th>2</th>\n",
       "      <td>2hop__701895_752697</td>\n",
       "      <td>Tamaulipas</td>\n",
       "      <td>[{'content': 'Answer the question based on the...</td>\n",
       "      <td>[{'body': 'Pangi Territory is an administrativ...</td>\n",
       "      <td>[Tamaulipas, tamaulipas]</td>\n",
       "      <td>[3. Nuevo Laredo Municipality, 11. Ciudad Depo...</td>\n",
       "      <td>2</td>\n",
       "      <td>[{'content': 'Answer the question based on the...</td>\n",
       "      <td>The state of Tamaulipas.</td>\n",
       "      <td>0</td>\n",
       "      <td>0.5</td>\n",
       "      <td>[3, 11]</td>\n",
       "      <td>[3, 11]</td>\n",
       "      <td>1.000000</td>\n",
       "      <td>1.0</td>\n",
       "      <td>1.000000</td>\n",
       "      <td>1.0</td>\n",
       "      <td>1.0</td>\n",
       "      <td>1.000000</td>\n",
       "    </tr>\n",
       "    <tr>\n",
       "      <th>3</th>\n",
       "      <td>2hop__259228_793698</td>\n",
       "      <td>Cologne</td>\n",
       "      <td>[{'content': 'Answer the question based on the...</td>\n",
       "      <td>[{'body': 'Other Fortune 500 companies, while ...</td>\n",
       "      <td>[cologne, Cologne]</td>\n",
       "      <td>[11. Philae (spacecraft), 14. Ulrich Walter]</td>\n",
       "      <td>2</td>\n",
       "      <td>[{'content': 'Answer the question based on the...</td>\n",
       "      <td>Chicago, Illinois</td>\n",
       "      <td>0</td>\n",
       "      <td>0.0</td>\n",
       "      <td>[14, 11]</td>\n",
       "      <td>[14]</td>\n",
       "      <td>1.000000</td>\n",
       "      <td>0.5</td>\n",
       "      <td>0.666667</td>\n",
       "      <td>0.5</td>\n",
       "      <td>0.5</td>\n",
       "      <td>0.500000</td>\n",
       "    </tr>\n",
       "    <tr>\n",
       "      <th>4</th>\n",
       "      <td>2hop__481349_302087</td>\n",
       "      <td>Bombardier Inc.</td>\n",
       "      <td>[{'content': 'Answer the question based on the...</td>\n",
       "      <td>[{'body': 'Market Square is a furniture showro...</td>\n",
       "      <td>[Bombardier Inc., bombardier inc., bombardier,...</td>\n",
       "      <td>[5. List of Bombardier CRJ operators, 10. Lear...</td>\n",
       "      <td>2</td>\n",
       "      <td>[{'content': 'Answer the question based on the...</td>\n",
       "      <td>Bombardier Inc.</td>\n",
       "      <td>1</td>\n",
       "      <td>1.0</td>\n",
       "      <td>[10, 5]</td>\n",
       "      <td>[10, 5]</td>\n",
       "      <td>1.000000</td>\n",
       "      <td>1.0</td>\n",
       "      <td>1.000000</td>\n",
       "      <td>1.0</td>\n",
       "      <td>1.0</td>\n",
       "      <td>1.000000</td>\n",
       "    </tr>\n",
       "  </tbody>\n",
       "</table>\n",
       "</div>"
      ],
      "text/plain": [
       "                    id            answer  \\\n",
       "0  2hop__460946_294723  Miquette Giraudy   \n",
       "1  2hop__252311_366220      Mike Medavoy   \n",
       "2  2hop__701895_752697        Tamaulipas   \n",
       "3  2hop__259228_793698           Cologne   \n",
       "4  2hop__481349_302087   Bombardier Inc.   \n",
       "\n",
       "                                              prompt  \\\n",
       "0  [{'content': 'Answer the question based on the...   \n",
       "1  [{'content': 'Answer the question based on the...   \n",
       "2  [{'content': 'Answer the question based on the...   \n",
       "3  [{'content': 'Answer the question based on the...   \n",
       "4  [{'content': 'Answer the question based on the...   \n",
       "\n",
       "                                                docs  \\\n",
       "0  [{'body': 'Grant's First Stand is the debut al...   \n",
       "1  [{'body': 'SICRAL 1B is a military communicati...   \n",
       "2  [{'body': 'Pangi Territory is an administrativ...   \n",
       "3  [{'body': 'Other Fortune 500 companies, while ...   \n",
       "4  [{'body': 'Market Square is a furniture showro...   \n",
       "\n",
       "                                             answers  \\\n",
       "0               [miquette giraudy, Miquette Giraudy]   \n",
       "1                       [mike medavoy, Mike Medavoy]   \n",
       "2                           [Tamaulipas, tamaulipas]   \n",
       "3                                 [cologne, Cologne]   \n",
       "4  [Bombardier Inc., bombardier inc., bombardier,...   \n",
       "\n",
       "                                supporting_doc_slugs  n_hops  \\\n",
       "0  [5. Miquette Giraudy, 10. Green (Steve Hillage...       2   \n",
       "1                  [6. Mike Medavoy, 10. UHF (film)]       2   \n",
       "2  [3. Nuevo Laredo Municipality, 11. Ciudad Depo...       2   \n",
       "3       [11. Philae (spacecraft), 14. Ulrich Walter]       2   \n",
       "4  [5. List of Bombardier CRJ operators, 10. Lear...       2   \n",
       "\n",
       "                                          trajectory  \\\n",
       "0  [{'content': 'Answer the question based on the...   \n",
       "1  [{'content': 'Answer the question based on the...   \n",
       "2  [{'content': 'Answer the question based on the...   \n",
       "3  [{'content': 'Answer the question based on the...   \n",
       "4  [{'content': 'Answer the question based on the...   \n",
       "\n",
       "           predicted_answer  exact_match   f1 supporting_doc_ids  \\\n",
       "0            Steve Hillage.            0  0.0            [10, 5]   \n",
       "1              Mike Medavoy            1  1.0            [10, 6]   \n",
       "2  The state of Tamaulipas.            0  0.5            [3, 11]   \n",
       "3         Chicago, Illinois            0  0.0           [14, 11]   \n",
       "4           Bombardier Inc.            1  1.0            [10, 5]   \n",
       "\n",
       "  retrieved_doc_ids  supporting.precision  supporting.recall  supporting.f1  \\\n",
       "0         [1, 0, 5]              0.333333                0.5       0.400000   \n",
       "1           [10, 6]              1.000000                1.0       1.000000   \n",
       "2           [3, 11]              1.000000                1.0       1.000000   \n",
       "3              [14]              1.000000                0.5       0.666667   \n",
       "4           [10, 5]              1.000000                1.0       1.000000   \n",
       "\n",
       "   citation.precision  citation.recall  citation.f1  \n",
       "0                 1.0              1.0     1.000000  \n",
       "1                 1.0              0.5     0.666667  \n",
       "2                 1.0              1.0     1.000000  \n",
       "3                 0.5              0.5     0.500000  \n",
       "4                 1.0              1.0     1.000000  "
      ]
     },
     "execution_count": 26,
     "metadata": {},
     "output_type": "execute_result"
    }
   ],
   "source": [
    "exp_name = \"tarry-tosh\"\n",
    "preds_fp = f\"../../tmp/dvc/{exp_name}/data/generated/predictions.jsonl\"\n",
    "results_fp = f\"../../tmp/dvc/{exp_name}/data/generated/results.jsonl\"\n",
    "preds_df = pd.read_json(preds_fp, lines=True)\n",
    "results_df = pd.read_json(results_fp, lines=True)\n",
    "df = pd.merge(preds_df, results_df, on=\"id\", suffixes=('', '_right'))\n",
    "# Drop duplicate columns from the right dataframe (keep left)\n",
    "dupe_cols = [col for col in df.columns if col.endswith('_right')]\n",
    "df = df.drop(columns=dupe_cols)\n",
    "df.head()"
   ]
  },
  {
   "cell_type": "code",
   "execution_count": 27,
   "metadata": {},
   "outputs": [],
   "source": [
    "df[\"missing_doc_ids\"] = df.apply(\n",
    "    lambda row: list(set(doc[\"id\"] for doc in row[\"docs\"] if doc[\"is_supporting\"]) - set(row[\"retrieved_doc_ids\"])),\n",
    "    axis=1,\n",
    ")"
   ]
  },
  {
   "cell_type": "code",
   "execution_count": 28,
   "metadata": {},
   "outputs": [],
   "source": [
    "# from verifiers.rubrics.musique import musique_f1_reward_func, musique_em_reward_func, musique_supporting_f1_reward_func, musique_supporting_recall_reward_func\n",
    "\n",
    "# em_rewards = musique_em_reward_func(df['trajectory'].values, df['answers'].values, [2] * len(df))\n",
    "# df['reward.em'] = em_rewards\n",
    "\n",
    "# f1_rewards = musique_f1_reward_func(df['trajectory'].values, df['answers'].values, [2] * len(df))\n",
    "# df['reward.f1'] = f1_rewards\n",
    "\n",
    "# supporting_f1_rewards = musique_supporting_f1_reward_func(df['trajectory'].values, df['docs'].values)\n",
    "# df['reward.supporting_f1'] = supporting_f1_rewards\n",
    "\n",
    "# supporting_recall_rewards = musique_supporting_recall_reward_func(df['trajectory'].values, df['docs'].values)\n",
    "# df['reward.supporting_recall'] = supporting_recall_rewards"
   ]
  },
  {
   "cell_type": "code",
   "execution_count": 29,
   "metadata": {},
   "outputs": [
    {
     "data": {
      "text/html": [
       "<div>\n",
       "<style scoped>\n",
       "    .dataframe tbody tr th:only-of-type {\n",
       "        vertical-align: middle;\n",
       "    }\n",
       "\n",
       "    .dataframe tbody tr th {\n",
       "        vertical-align: top;\n",
       "    }\n",
       "\n",
       "    .dataframe thead th {\n",
       "        text-align: right;\n",
       "    }\n",
       "</style>\n",
       "<table border=\"1\" class=\"dataframe\">\n",
       "  <thead>\n",
       "    <tr style=\"text-align: right;\">\n",
       "      <th></th>\n",
       "      <th>exact_match</th>\n",
       "      <th>f1</th>\n",
       "      <th>supporting.f1</th>\n",
       "      <th>supporting.recall</th>\n",
       "      <th>citation.f1</th>\n",
       "      <th>citation.recall</th>\n",
       "    </tr>\n",
       "  </thead>\n",
       "  <tbody>\n",
       "    <tr>\n",
       "      <th>count</th>\n",
       "      <td>12085.000000</td>\n",
       "      <td>12085.000000</td>\n",
       "      <td>12085.000000</td>\n",
       "      <td>12085.000000</td>\n",
       "      <td>12085.000000</td>\n",
       "      <td>12085.000000</td>\n",
       "    </tr>\n",
       "    <tr>\n",
       "      <th>mean</th>\n",
       "      <td>0.480761</td>\n",
       "      <td>0.597602</td>\n",
       "      <td>0.810444</td>\n",
       "      <td>0.792546</td>\n",
       "      <td>0.722801</td>\n",
       "      <td>0.689698</td>\n",
       "    </tr>\n",
       "    <tr>\n",
       "      <th>std</th>\n",
       "      <td>0.499650</td>\n",
       "      <td>0.442760</td>\n",
       "      <td>0.252948</td>\n",
       "      <td>0.269389</td>\n",
       "      <td>0.334821</td>\n",
       "      <td>0.344393</td>\n",
       "    </tr>\n",
       "    <tr>\n",
       "      <th>min</th>\n",
       "      <td>0.000000</td>\n",
       "      <td>0.000000</td>\n",
       "      <td>0.000000</td>\n",
       "      <td>0.000000</td>\n",
       "      <td>0.000000</td>\n",
       "      <td>0.000000</td>\n",
       "    </tr>\n",
       "    <tr>\n",
       "      <th>25%</th>\n",
       "      <td>0.000000</td>\n",
       "      <td>0.000000</td>\n",
       "      <td>0.666667</td>\n",
       "      <td>0.666667</td>\n",
       "      <td>0.500000</td>\n",
       "      <td>0.500000</td>\n",
       "    </tr>\n",
       "    <tr>\n",
       "      <th>50%</th>\n",
       "      <td>0.000000</td>\n",
       "      <td>0.800000</td>\n",
       "      <td>1.000000</td>\n",
       "      <td>1.000000</td>\n",
       "      <td>0.800000</td>\n",
       "      <td>0.750000</td>\n",
       "    </tr>\n",
       "    <tr>\n",
       "      <th>75%</th>\n",
       "      <td>1.000000</td>\n",
       "      <td>1.000000</td>\n",
       "      <td>1.000000</td>\n",
       "      <td>1.000000</td>\n",
       "      <td>1.000000</td>\n",
       "      <td>1.000000</td>\n",
       "    </tr>\n",
       "    <tr>\n",
       "      <th>max</th>\n",
       "      <td>1.000000</td>\n",
       "      <td>1.000000</td>\n",
       "      <td>1.000000</td>\n",
       "      <td>1.000000</td>\n",
       "      <td>1.000000</td>\n",
       "      <td>1.000000</td>\n",
       "    </tr>\n",
       "  </tbody>\n",
       "</table>\n",
       "</div>"
      ],
      "text/plain": [
       "        exact_match            f1  supporting.f1  supporting.recall  \\\n",
       "count  12085.000000  12085.000000   12085.000000       12085.000000   \n",
       "mean       0.480761      0.597602       0.810444           0.792546   \n",
       "std        0.499650      0.442760       0.252948           0.269389   \n",
       "min        0.000000      0.000000       0.000000           0.000000   \n",
       "25%        0.000000      0.000000       0.666667           0.666667   \n",
       "50%        0.000000      0.800000       1.000000           1.000000   \n",
       "75%        1.000000      1.000000       1.000000           1.000000   \n",
       "max        1.000000      1.000000       1.000000           1.000000   \n",
       "\n",
       "        citation.f1  citation.recall  \n",
       "count  12085.000000     12085.000000  \n",
       "mean       0.722801         0.689698  \n",
       "std        0.334821         0.344393  \n",
       "min        0.000000         0.000000  \n",
       "25%        0.500000         0.500000  \n",
       "50%        0.800000         0.750000  \n",
       "75%        1.000000         1.000000  \n",
       "max        1.000000         1.000000  "
      ]
     },
     "execution_count": 29,
     "metadata": {},
     "output_type": "execute_result"
    }
   ],
   "source": [
    "df[['exact_match', 'f1', 'supporting.f1', 'supporting.recall', 'citation.f1', 'citation.recall']].describe()"
   ]
  },
  {
   "cell_type": "code",
   "execution_count": 30,
   "metadata": {},
   "outputs": [
    {
     "data": {
      "text/html": [
       "<div>\n",
       "<style scoped>\n",
       "    .dataframe tbody tr th:only-of-type {\n",
       "        vertical-align: middle;\n",
       "    }\n",
       "\n",
       "    .dataframe tbody tr th {\n",
       "        vertical-align: top;\n",
       "    }\n",
       "\n",
       "    .dataframe thead tr th {\n",
       "        text-align: left;\n",
       "    }\n",
       "\n",
       "    .dataframe thead tr:last-of-type th {\n",
       "        text-align: right;\n",
       "    }\n",
       "</style>\n",
       "<table border=\"1\" class=\"dataframe\">\n",
       "  <thead>\n",
       "    <tr>\n",
       "      <th></th>\n",
       "      <th colspan=\"2\" halign=\"left\">exact_match</th>\n",
       "      <th colspan=\"2\" halign=\"left\">f1</th>\n",
       "      <th colspan=\"2\" halign=\"left\">supporting.f1</th>\n",
       "      <th colspan=\"2\" halign=\"left\">supporting.recall</th>\n",
       "      <th colspan=\"2\" halign=\"left\">citation.f1</th>\n",
       "      <th colspan=\"2\" halign=\"left\">citation.recall</th>\n",
       "    </tr>\n",
       "    <tr>\n",
       "      <th></th>\n",
       "      <th>mean</th>\n",
       "      <th>std</th>\n",
       "      <th>mean</th>\n",
       "      <th>std</th>\n",
       "      <th>mean</th>\n",
       "      <th>std</th>\n",
       "      <th>mean</th>\n",
       "      <th>std</th>\n",
       "      <th>mean</th>\n",
       "      <th>std</th>\n",
       "      <th>mean</th>\n",
       "      <th>std</th>\n",
       "    </tr>\n",
       "    <tr>\n",
       "      <th>n_hops</th>\n",
       "      <th></th>\n",
       "      <th></th>\n",
       "      <th></th>\n",
       "      <th></th>\n",
       "      <th></th>\n",
       "      <th></th>\n",
       "      <th></th>\n",
       "      <th></th>\n",
       "      <th></th>\n",
       "      <th></th>\n",
       "      <th></th>\n",
       "      <th></th>\n",
       "    </tr>\n",
       "  </thead>\n",
       "  <tbody>\n",
       "    <tr>\n",
       "      <th>2</th>\n",
       "      <td>0.514</td>\n",
       "      <td>0.500</td>\n",
       "      <td>0.635</td>\n",
       "      <td>0.431</td>\n",
       "      <td>0.842</td>\n",
       "      <td>0.270</td>\n",
       "      <td>0.849</td>\n",
       "      <td>0.275</td>\n",
       "      <td>0.775</td>\n",
       "      <td>0.346</td>\n",
       "      <td>0.770</td>\n",
       "      <td>0.353</td>\n",
       "    </tr>\n",
       "    <tr>\n",
       "      <th>3</th>\n",
       "      <td>0.464</td>\n",
       "      <td>0.499</td>\n",
       "      <td>0.599</td>\n",
       "      <td>0.439</td>\n",
       "      <td>0.807</td>\n",
       "      <td>0.227</td>\n",
       "      <td>0.775</td>\n",
       "      <td>0.246</td>\n",
       "      <td>0.721</td>\n",
       "      <td>0.296</td>\n",
       "      <td>0.667</td>\n",
       "      <td>0.301</td>\n",
       "    </tr>\n",
       "    <tr>\n",
       "      <th>4</th>\n",
       "      <td>0.410</td>\n",
       "      <td>0.492</td>\n",
       "      <td>0.481</td>\n",
       "      <td>0.466</td>\n",
       "      <td>0.720</td>\n",
       "      <td>0.222</td>\n",
       "      <td>0.650</td>\n",
       "      <td>0.234</td>\n",
       "      <td>0.564</td>\n",
       "      <td>0.319</td>\n",
       "      <td>0.483</td>\n",
       "      <td>0.299</td>\n",
       "    </tr>\n",
       "  </tbody>\n",
       "</table>\n",
       "</div>"
      ],
      "text/plain": [
       "       exact_match            f1        supporting.f1         \\\n",
       "              mean    std   mean    std          mean    std   \n",
       "n_hops                                                         \n",
       "2            0.514  0.500  0.635  0.431         0.842  0.270   \n",
       "3            0.464  0.499  0.599  0.439         0.807  0.227   \n",
       "4            0.410  0.492  0.481  0.466         0.720  0.222   \n",
       "\n",
       "       supporting.recall        citation.f1        citation.recall         \n",
       "                    mean    std        mean    std            mean    std  \n",
       "n_hops                                                                     \n",
       "2                  0.849  0.275       0.775  0.346           0.770  0.353  \n",
       "3                  0.775  0.246       0.721  0.296           0.667  0.301  \n",
       "4                  0.650  0.234       0.564  0.319           0.483  0.299  "
      ]
     },
     "execution_count": 30,
     "metadata": {},
     "output_type": "execute_result"
    }
   ],
   "source": [
    "df.groupby(\"n_hops\").agg(\n",
    "    {\n",
    "        \"exact_match\": [\"mean\", \"std\"],\n",
    "        \"f1\": [\"mean\", \"std\"],\n",
    "        \"supporting.f1\": [\"mean\", \"std\"],\n",
    "        \"supporting.recall\": [\"mean\", \"std\"],\n",
    "        \"citation.f1\": [\"mean\", \"std\"],\n",
    "        \"citation.recall\": [\"mean\", \"std\"],\n",
    "    }\n",
    ").round(3)"
   ]
  },
  {
   "cell_type": "code",
   "execution_count": 31,
   "metadata": {},
   "outputs": [
    {
     "data": {
      "image/png": "[encoded data removed]",
      "text/plain": [
       "<Figure size 1200x900 with 9 Axes>"
      ]
     },
     "metadata": {},
     "output_type": "display_data"
    }
   ],
   "source": [
    "# Visualize rewards per n_hops\n",
    "n_hops = sorted(df['n_hops'].unique())\n",
    "fig, axes = plt.subplots(len(n_hops), 3, figsize=(12, 9))\n",
    "fig.suptitle('Scores Per Bucket')\n",
    "\n",
    "for i, n_hop in enumerate(n_hops):\n",
    "    subset = df[df['n_hops'] == n_hop]\n",
    "    \n",
    "    subset['exact_match'].hist(ax=axes[i,0], bins=20)\n",
    "    axes[i,0].set_title(f'{n_hop}-hop EM')\n",
    "    axes[i,0].set_xlabel('EM Score')\n",
    "    axes[i,0].set_ylabel('Count')\n",
    "    axes[i,0].set_xlim(0, 1)\n",
    "    \n",
    "    subset['f1'].hist(ax=axes[i,1], bins=20)\n",
    "    axes[i,1].set_title(f'{n_hop}-hop F1')\n",
    "    axes[i,1].set_xlabel('F1 Score')\n",
    "    axes[i,1].set_ylabel('Count')\n",
    "    axes[i,1].set_xlim(0, 1)\n",
    "    \n",
    "    subset['supporting.recall'].hist(ax=axes[i,2])\n",
    "    axes[i,2].set_title(f'{n_hop}-hop Supporting F1')\n",
    "    axes[i,2].set_xlabel('Supporting F1')\n",
    "    axes[i,2].set_ylabel('Count')\n",
    "    axes[i,2].set_xlim(0, 1)\n",
    "\n",
    "\n",
    "plt.tight_layout()\n"
   ]
  },
  {
   "cell_type": "code",
   "execution_count": 32,
   "metadata": {},
   "outputs": [
    {
     "data": {
      "text/plain": [
       "[{'content': 'Answer the question based on the information provided by tools. You have access to the following tools:\\n====\\nsearch: Retrieve for relevant documents by the query. The results become better if the query is more specific. It excludes documents that have already been retrieved.\\n\\nArguments:\\n  - query: \\n----\\nget_doc: Get the document by the id.\\n\\nArguments:\\n  - id: \\n====\\n\\nFor each step:\\n1. Think through your reasoning inside <think> tags\\n2. If needed, use a tool by writing a JSON command inside <tool> tags with:\\n   - \"name\": the tool to use\\n   - \"args\": the arguments for the tool\\nFor instance,\\n<tool>\\n{\\n  \"name\": \"search\",\\n  \"args\": {\\n    \"query\": \"...\"\\n  }\\n}\\n</tool>\\n3. You will see the tool\\'s output inside <result> tags\\n4. Continue until you have found the answer\\n5. In the **last** step, \\n  - Reflect on your previous steps inside <think> tags\\n  - Cite the documents you used to answer the question inside <cite> tags by their IDs, e.g. `<cite>1, 2, 3</cite>`. This will be used to determine whether you back your answer with the information provided by the tools.\\n  - Give your final answer inside <answer> tags\\n\\n- Tools expect specific JSON input formats.\\n- Do not make up tools or arguments that aren\\'t listed in the tool descriptions.\\n- If search doesn\\'t return a relevant document, try different queries. Your answer must be based solely on retrieved documents and the question is definitely answerable. Continue searching until you find the relevant information.\\n',\n",
       "  'role': 'system'},\n",
       " {'content': \"Question: Who is the spouse of the Green performer?\\n\\n# Available Documents\\n0. Grant's First Stand\\n1. List of show business families\\n2. Green\\n3. Green Lake (Chisago City, Minnesota)\\n4. Musty Rusty\\n5. Miquette Giraudy\\n6. Green\\n7. Star Trek: Discovery\\n8. Gooden's Corner\\n9. Star Trek: Discovery\\n10. Green (Steve Hillage album)\\n11. Little Green (song)\\n12. The Main Attraction (album)\\n13. Green Party of the United States\\n14. Countess Charlotte Brabantina of Nassau\\n15. Native Son (play)\\n16. Star Trek: Discovery\\n17. The Odd Life of Timothy Green\\n18. The Latin Bit\\n19. Mok Kwai-lan\\n\",\n",
       "  'role': 'user'}]"
      ]
     },
     "execution_count": 32,
     "metadata": {},
     "output_type": "execute_result"
    }
   ],
   "source": [
    "row = df.iloc[0]\n",
    "row['prompt']"
   ]
  },
  {
   "cell_type": "code",
   "execution_count": 35,
   "metadata": {},
   "outputs": [
    {
     "data": {
      "application/vnd.jupyter.widget-view+json": {
       "model_id": "0b32b1cd09da4515be35da613dd46afb",
       "version_major": 2,
       "version_minor": 0
      },
      "text/plain": [
       "HBox(children=(Button(description='Previous', style=ButtonStyle()), IntText(value=0, description='Index:'), Bu…"
      ]
     },
     "metadata": {},
     "output_type": "display_data"
    },
    {
     "data": {
      "application/vnd.jupyter.widget-view+json": {
       "model_id": "f05fc05e955d4010a104a50871492d42",
       "version_major": 2,
       "version_minor": 0
      },
      "text/plain": [
       "Output()"
      ]
     },
     "metadata": {},
     "output_type": "display_data"
    }
   ],
   "source": [
    "import textwrap\n",
    "from IPython.display import display\n",
    "import ipywidgets as widgets\n",
    "from ipywidgets import HBox\n",
    "\n",
    "def fixedwidth(text):\n",
    "    if not isinstance(text, str):\n",
    "        text = str(text)\n",
    "    return \"\\n\".join(textwrap.wrap(text, width=80, replace_whitespace=False))\n",
    "\n",
    "def format_conversation(messages: list[dict]) -> str:\n",
    "    return \"\\n\".join([f\"{msg['role']}: {msg['content']}\" for msg in messages])\n",
    "\n",
    "def format_row(row):\n",
    "    question = row['prompt'][-1]['content']\n",
    "    idx_of_question = next((i for i, msg in enumerate(row['trajectory']) if msg['role'] == 'user' and msg['content'] == question), None)\n",
    "    output = []\n",
    "    output.append(f\"{row['id']} - {row['n_hops']} hops\")\n",
    "    output.append(\"=\"*80)\n",
    "    output.append(\"Q: \" + row['prompt'][-1]['content'])\n",
    "    output.append(\"Reference Answers: \" + str(row['answers']))\n",
    "    output.append(\"Predicted Answer: \" + str(row['predicted_answer']))\n",
    "    output.append(\"\")\n",
    "    output.append(\"# Scores\")\n",
    "    output.append(\"EM: {:.3f}\".format(row['exact_match']))\n",
    "    output.append(\"F1: {:.3f}\".format(row['f1']))\n",
    "    output.append(\"Supporting F1: {:.3f}\".format(row['supporting.f1']))\n",
    "    output.append(\"Supporting Recall: {:.3f}\".format(row['supporting.recall']))\n",
    "    output.append(\"Citation F1: {:.3f}\".format(row['citation.f1']))\n",
    "    output.append(\"Citation Recall: {:.3f}\".format(row['citation.recall']))\n",
    "    output.append(\"\")\n",
    "    # output.append(\"Supporting Titles: \" + str(row['supporting_titles']))\n",
    "    # output.append(\"Retrieved Titles: \" + str(row['retrieved_titles']))\n",
    "    # output.append(\"Missing Titles: \" + str(row['missing_titles']))\n",
    "    output.append(\"\\n\")\n",
    "    output.append(\"=\"*80)\n",
    "    output.append(format_conversation(row['trajectory'][idx_of_question:]))\n",
    "    output.append(\"=\"*80)\n",
    "    return \"\\n\".join(output)\n",
    "\n",
    "def present_row(row):\n",
    "    print(format_row(row))\n",
    "\n",
    "def create_browse_app(dataf):\n",
    "    def browse_failed(i=0):\n",
    "        row = dataf.iloc[i]\n",
    "        present_row(row)\n",
    "\n",
    "    index = widgets.IntText(value=0, description='Index:')\n",
    "    left_button = widgets.Button(description='Previous')\n",
    "    right_button = widgets.Button(description='Next')\n",
    "\n",
    "    def on_left_button_clicked(b):\n",
    "        if index.value > 0:\n",
    "            index.value -= 1\n",
    "\n",
    "    def on_right_button_clicked(b):\n",
    "        if index.value < len(dataf) - 1:\n",
    "            index.value += 1\n",
    "\n",
    "    left_button.on_click(on_left_button_clicked)\n",
    "    right_button.on_click(on_right_button_clicked)\n",
    "\n",
    "    ui = HBox([left_button, index, right_button])\n",
    "    out = widgets.interactive_output(browse_failed, {'i': index})\n",
    "\n",
    "    display(ui, out)\n",
    "\n",
    "# Create app focused on failed examples\n",
    "inspect_df = df[df['f1'] < 1.0].sort_values('f1')\n",
    "create_browse_app(inspect_df)\n"
   ]
  },
  {
   "cell_type": "code",
   "execution_count": 38,
   "metadata": {},
   "outputs": [
    {
     "data": {
      "text/plain": [
       "0.4369052544476624"
      ]
     },
     "execution_count": 38,
     "metadata": {},
     "output_type": "execute_result"
    }
   ],
   "source": [
    "retrieval_failure_mask = df['supporting.recall'] < 0.95\n",
    "retrieval_failure_mask.sum() / len(df)"
   ]
  },
  {
   "cell_type": "code",
   "execution_count": 39,
   "metadata": {},
   "outputs": [
    {
     "data": {
      "text/plain": [
       "0.12743069921390154"
      ]
     },
     "execution_count": 39,
     "metadata": {},
     "output_type": "execute_result"
    }
   ],
   "source": [
    "reasoning_failure_mask = (df['f1'] < 0.5) & ~retrieval_failure_mask\n",
    "reasoning_failure_mask.sum() / len(df)"
   ]
  },
  {
   "cell_type": "code",
   "execution_count": 40,
   "metadata": {},
   "outputs": [
    {
     "data": {
      "text/plain": [
       "0.17004551096400497"
      ]
     },
     "execution_count": 40,
     "metadata": {},
     "output_type": "execute_result"
    }
   ],
   "source": [
    "unfaithful_success_mask = (df['f1'] > 0.5) & retrieval_failure_mask\n",
    "unfaithful_success_mask.sum() / len(df)"
   ]
  },
  {
   "cell_type": "code",
   "execution_count": 41,
   "metadata": {},
   "outputs": [
    {
     "data": {
      "application/vnd.jupyter.widget-view+json": {
       "model_id": "93b72fde5a7348f290365e15dbb12550",
       "version_major": 2,
       "version_minor": 0
      },
      "text/plain": [
       "HBox(children=(Button(description='Previous', style=ButtonStyle()), IntText(value=0, description='Index:'), Bu…"
      ]
     },
     "metadata": {},
     "output_type": "display_data"
    },
    {
     "data": {
      "application/vnd.jupyter.widget-view+json": {
       "model_id": "e72b7e9e998649fd86ad8e5c570c0f19",
       "version_major": 2,
       "version_minor": 0
      },
      "text/plain": [
       "Output()"
      ]
     },
     "metadata": {},
     "output_type": "display_data"
    }
   ],
   "source": [
    "create_browse_app(df.loc[retrieval_failure_mask])"
   ]
  },
  {
   "cell_type": "code",
   "execution_count": null,
   "metadata": {},
   "outputs": [],
   "source": []
  }
 ],
 "metadata": {
  "kernelspec": {
   "display_name": "Python 3 (ipykernel)",
   "language": "python",
   "name": "python3"
  },
  "language_info": {
   "codemirror_mode": {
    "name": "ipython",
    "version": 3
   },
   "file_extension": ".py",
   "mimetype": "text/x-python",
   "name": "python",
   "nbconvert_exporter": "python",
   "pygments_lexer": "ipython3",
   "version": "3.11.11"
  }
 },
 "nbformat": 4,
 "nbformat_minor": 4
}
