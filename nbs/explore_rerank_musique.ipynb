{
 "cells": [
  {
   "cell_type": "code",
   "execution_count": null,
   "metadata": {},
   "outputs": [
    {
     "data": {
      "text/plain": [
       "True"
      ]
     },
     "execution_count": 6,
     "metadata": {},
     "output_type": "execute_result"
    }
   ],
   "source": [
    "from dotenv import load_dotenv\n",
    "load_dotenv()"
   ]
  },
  {
   "cell_type": "code",
   "execution_count": null,
   "metadata": {},
   "outputs": [],
   "source": [
    "import random\n",
    "import pandas as pd\n",
    "from tqdm import tqdm\n",
    "\n",
    "tqdm.pandas()"
   ]
  },
  {
   "cell_type": "code",
   "execution_count": null,
   "metadata": {},
   "outputs": [
    {
     "data": {
      "text/plain": [
       "{'id': '2hop__482757_12019',\n",
       " 'paragraphs': [{'idx': 0,\n",
       "   'title': 'Pakistan Super League',\n",
       "   'paragraph_text': 'Pakistan Super League (Urdu: پاکستان سپر لیگ \\u202c \\u200e; PSL) is a Twenty20 cricket league, founded in Lahore on 9 September 2015 with five teams and now comprises six teams. Instead of operating as an association of independently owned teams, the league is a single entity in which each franchise is owned and controlled by investors.',\n",
       "   'is_supporting': False},\n",
       "  {'idx': 1,\n",
       "   'title': 'Serena Wilson',\n",
       "   'paragraph_text': 'Serena Wilson (August 8, 1933 – June 17, 2007), often known just as \"Serena\", was a well-known dancer, choreographer, and teacher who helped popularize belly dance in the United States. Serena\\'s work also helped legitimize the dance form and helped it to be perceived as more than burlesque or stripping. Serena danced in clubs in her younger years, opened her own studio, hosted her own television show, founded her own dance troupe, and was the author of several books about belly dance.',\n",
       "   'is_supporting': False},\n",
       "  {'idx': 2,\n",
       "   'title': 'Longman',\n",
       "   'paragraph_text': 'Longman, also known as Pearson Longman, is a publishing company founded in London, England, in 1724 and is owned by Pearson PLC.',\n",
       "   'is_supporting': False},\n",
       "  {'idx': 3,\n",
       "   'title': 'Bankhaus Lampe',\n",
       "   'paragraph_text': 'Bankhaus Lampe is a private bank in Germany, founded in 1852 and headquartered in Bielefeld. It is wholly owned by the Oetker Group. The bank owns 50% of Universal Investment.',\n",
       "   'is_supporting': False},\n",
       "  {'idx': 4,\n",
       "   'title': 'Publix',\n",
       "   'paragraph_text': 'Publix Super Markets, Inc., commonly known as Publix, is an employee - owned, American supermarket chain headquartered in Lakeland, Florida. Founded in 1930 by George W. Jenkins, Publix is a private corporation that is wholly owned by present and past employees. It is considered the largest employee - owned company in the world. Publix operates throughout the Southeastern United States, with locations in Florida (785), Georgia (186), Alabama (68), South Carolina (58), Tennessee (42), North Carolina (35), and Virginia (8).',\n",
       "   'is_supporting': False},\n",
       "  {'idx': 5,\n",
       "   'title': 'The Collegian (Houston Baptist University)',\n",
       "   'paragraph_text': 'The Collegian is the bi-weekly official student publication of Houston Baptist University in Houston, Texas. It was founded in 1963 as a newsletter, and adopted the newspaper format in 1990.',\n",
       "   'is_supporting': True},\n",
       "  {'idx': 6,\n",
       "   'title': 'The Collegian (Hillsdale College)',\n",
       "   'paragraph_text': \"The Collegian is the oldest college newspaper in Michigan. The paper's history traces back to 1878, when the Hillsdale Herald was first published. The administration started The Collegian in 1893 as a rival paper to the Herald.\",\n",
       "   'is_supporting': False},\n",
       "  {'idx': 7,\n",
       "   'title': 'List of Old Scotch Collegians',\n",
       "   'paragraph_text': 'This is a list of Old Scotch Collegians, who are notable former students of Scotch College in Melbourne, Victoria, Australia.',\n",
       "   'is_supporting': False},\n",
       "  {'idx': 8,\n",
       "   'title': 'Renaissance Broadcasting',\n",
       "   'paragraph_text': 'Renaissance Broadcasting, founded in 1982 by Michael Finkelstein, was a company that owned several UHF television stations, it was sold to Tribune Broadcasting in 1997. The company was headquartered in Greenwich, Connecticut.',\n",
       "   'is_supporting': False},\n",
       "  {'idx': 9,\n",
       "   'title': 'Houston',\n",
       "   'paragraph_text': \"Several private institutions of higher learning—ranging from liberal arts colleges, such as The University of St. Thomas, Houston's only Catholic university, to Rice University, the nationally recognized research university—are located within the city. Rice, with a total enrollment of slightly more than 6,000 students, has a number of distinguished graduate programs and research institutes, such as the James A. Baker Institute for Public Policy. Houston Baptist University, affiliated with the Baptist General Convention of Texas, offers bachelor's and graduate degrees. It was founded in 1960 and is located in the Sharpstown area in Southwest Houston.\",\n",
       "   'is_supporting': True},\n",
       "  {'idx': 10,\n",
       "   'title': 'France-Guyane',\n",
       "   'paragraph_text': 'France-Guyane is a daily, French-language newspaper headquartered in Cayenne, French Guiana. Founded in 1973, the newspaper is owned by \"French-Antilles\", which is controlled by the Groupe Hersant Média group.',\n",
       "   'is_supporting': False},\n",
       "  {'idx': 11,\n",
       "   'title': 'Bayou City Broadcasting',\n",
       "   'paragraph_text': 'Bayou City Broadcasting, LLC is a broadcasting company founded in December 2007 and owned by DuJuan McCoy. The company is based in The Woodlands, Texas.',\n",
       "   'is_supporting': False},\n",
       "  {'idx': 12,\n",
       "   'title': 'GKS Górnik 1979 Łęczna',\n",
       "   'paragraph_text': 'GKS Górnik 1979 Łęczna was a short-lived fan-owned phoenix club founded in 2011 by Górnik Łęczna fans who were unhappy with the name change to GKS Bogdanka. The club eventually changed its name back in 2013 but the fan owned counterpart has continued to operate in amateur football leagues until 2014.',\n",
       "   'is_supporting': False},\n",
       "  {'idx': 13,\n",
       "   'title': 'Broadway Federal Bank',\n",
       "   'paragraph_text': 'The Broadway Federal Bank is a community bank founded in 1946 and based in Los Angeles. As of 2011, it owned and operated three traditional branches and one loan production office.',\n",
       "   'is_supporting': False},\n",
       "  {'idx': 14,\n",
       "   'title': 'Gubernija',\n",
       "   'paragraph_text': 'Gubernija is a brewery in Lithuania. It is one of the oldest businesses in the world, having been founded in 1665. Gubernija is listed on the NASDAQ OMX Vilnius stock exchange. Unlike other Lithuanian breweries, Gubernija has its own pubs.',\n",
       "   'is_supporting': False},\n",
       "  {'idx': 15,\n",
       "   'title': 'Nordic Paper',\n",
       "   'paragraph_text': 'Nordic Paper AS is a Norwegian industrial company, operating in Norway and Sweden. It was founded in 2001 when \"Peterson Scanproof\", a branch of M. Peterson & Søn which consisted of production units in Greåker (formerly owned by Greaker Industrier) and Säffle, was merged with a paper factory in Geithus, owned by Norske Skog Union.',\n",
       "   'is_supporting': False},\n",
       "  {'idx': 16,\n",
       "   'title': 'Logica',\n",
       "   'paragraph_text': 'Logica was a multinational IT and management consultancy company headquartered in Reading, United Kingdom. Founded in 1969, the company became a wholly owned subsidiary of CGI Group in 2012.',\n",
       "   'is_supporting': False},\n",
       "  {'idx': 17,\n",
       "   'title': 'Skipton Business Finance',\n",
       "   'paragraph_text': 'Skipton Business Finance is a UK factoring and Invoice discounting company, founded and based in Skipton, North Yorkshire. It is a wholly owned subsidiary of Skipton Building Society.',\n",
       "   'is_supporting': False},\n",
       "  {'idx': 18,\n",
       "   'title': 'Brett Kearney',\n",
       "   'paragraph_text': 'Brett Kearney (born 29 September 1983 in Sydney, New South Wales), also known by the nickname of \"BK\", is an Australian professional rugby league footballer formerly with the Bradford Bulls in the Super League, now currently playing for the Collegians in the Illawarra Rugby League competition. A utility back, he has represented Country Origin and previously played for the South Sydney Rabbitohs and Cronulla.',\n",
       "   'is_supporting': False},\n",
       "  {'idx': 19,\n",
       "   'title': 'Grand Duchy of Baden State Railway',\n",
       "   'paragraph_text': 'The Grand Duchy of Baden was an independent state in what is now southwestern Germany until the creation of the German Empire in 1871. It had its own state-owned railway company, the Grand Duchy of Baden State Railways (\"Großherzoglich Badische Staatseisenbahnen or G.Bad.St.E.\"), which was founded in 1840. At the time when it was integrated into the Deutsche Reichsbahn in 1920, its network had an overall length of about .',\n",
       "   'is_supporting': False}],\n",
       " 'question': 'When was the institute that owned The Collegian founded?',\n",
       " 'question_decomposition': [{'id': 482757,\n",
       "   'question': 'The Collegian >> owned by',\n",
       "   'answer': 'Houston Baptist University',\n",
       "   'paragraph_support_idx': 5},\n",
       "  {'id': 12019,\n",
       "   'question': 'When was #1 founded?',\n",
       "   'answer': '1960',\n",
       "   'paragraph_support_idx': 9}],\n",
       " 'answer': '1960',\n",
       " 'answer_aliases': [],\n",
       " 'answerable': True}"
      ]
     },
     "execution_count": 17,
     "metadata": {},
     "output_type": "execute_result"
    }
   ],
   "source": [
    "from datasets import load_dataset\n",
    "\n",
    "ds = load_dataset(\"bdsaglam/musique\", \"answerable\", split=\"train[:100]\")\n",
    "ds[0]"
   ]
  },
  {
   "cell_type": "markdown",
   "metadata": {},
   "source": [
    "# Rerank Service Example\n",
    "\n",
    "This notebook demonstrates how to use the reranker service via its Python client."
   ]
  },
  {
   "cell_type": "code",
   "execution_count": null,
   "metadata": {},
   "outputs": [],
   "source": [
    "from verifiers.rerank import RerankClient"
   ]
  },
  {
   "cell_type": "code",
   "execution_count": null,
   "metadata": {},
   "outputs": [
    {
     "name": "stdout",
     "output_type": "stream",
     "text": [
      "Health check: {'status': 'healthy'}\n"
     ]
    }
   ],
   "source": [
    "# Create a client instance\n",
    "client = RerankClient(base_url=\"http://localhost:8931\")\n",
    "\n",
    "# Check health\n",
    "health = client.health()\n",
    "print(\"Health check:\", health)"
   ]
  },
  {
   "cell_type": "code",
   "execution_count": null,
   "metadata": {},
   "outputs": [],
   "source": [
    "i = random.choice(range(len(ds)))\n",
    "example = ds[i]\n",
    "\n",
    "docs = [p['paragraph_text'] for p in example['paragraphs']]\n",
    "\n",
    "# Rerank the documents\n",
    "query = example['question']"
   ]
  },
  {
   "cell_type": "code",
   "execution_count": null,
   "metadata": {},
   "outputs": [
    {
     "data": {
      "text/plain": [
       "RerankResponse(results=[RerankResult(index=18, relevance_score=2.2525148391723633, document='Vietnam: The event was held in Ho Chi Minh City on April 29. Some 60 torchbearers carried the torch from the downtown Opera House to the Military Zone 7 Competition Hall stadium near Tan Son Nhat International Airport along an undisclosed route. Vietnam is involved in a territorial dispute with China (and other countries) for sovereignty of the Spratly and Paracel Islands; tensions have risen recently[when?] following reports that the Chinese government had established a county-level city named Sansha in the disputed territories, resulting in anti-Chinese demonstrations in December 2007 in Hanoi and Ho Chi Minh City. However to sustain its relationship with China the Vietnamese government has actively sought to head off protests during the torch relay, with Prime Minister Nguyễn Tấn Dũng warning government agencies that \"hostile forces\" may try to disrupt the torch relay.'), RerankResult(index=0, relevance_score=1.6158857345581055, document=\"Ho Chi Minh City Thành phố Hồ Chí Minh Saigon or Sài Gòn Municipality Thành phố trực thuộc trung ương Clockwise, from left to right: Bến Thành Market, Ho Chi Minh City Hall, District 1 view from Saigon river, Municipal Theatre, Notre - Dame Cathedral Basilica of Saigon, Independence Palace Seal Nickname (s): Pearl of the Far East Location in Vietnam and Southern Vietnam Coordinates: 10 ° 46 ′ 36.8 ''N 106 ° 42 ′ 02.9'' E \\ufeff / \\ufeff 10.776889 ° N 106.700806 ° E \\ufeff / 10.776889; 106.700806 Coordinates: 10 ° 46 ′ 36.8 ''N 106 ° 42 ′ 02.9'' E \\ufeff / \\ufeff 10.776889 ° N 106.700806 ° E \\ufeff / 10.776889; 106.700806 Country Vietnam Central district District 1 Founded as Gia Định 1698 Renamed to Ho Chi Minh City 1976 Founded by Nguyễn Hữu Cảnh Divisions 19 Urban districts, 5 Suburban districts Government Type Special - class Secretary of Communist Party Nguyễn Thiện Nhân Chairman of People's Committee Nguyễn Thành Phong Chairman of People's Council Nguyễn Thị Quyết Tâm Area Total 2,096.56 km (809.23 sq mi) Elevation 19 m (63 ft) Population (2016) Total 8,426,100 Rank 1st Density 4,000 / km (10,000 / sq mi) GDP (PPP) (2015 estimate) Total US $127.8 billion Per capita US $15,977 GRDP (nominal) (2016) Total US $45.73 billion Per capita US $5,428 Time zone ICT (UTC + 07: 00) Area codes 8 (until 16 Jul 2017) 28 (from 17 Jun 2017) Website hochiminhcity.gov.vn\"), RerankResult(index=19, relevance_score=1.5764961242675781, document='Torch Lake Township is a civil township of Antrim County in the U.S. state of Michigan. As of the 2010 census, the township population was 1,194.')], meta={'model': 'bm25'})"
      ]
     },
     "execution_count": 39,
     "metadata": {},
     "output_type": "execute_result"
    }
   ],
   "source": [
    "response = client.rerank(\n",
    "    query=query,\n",
    "    documents=docs,\n",
    "    top_n=3,\n",
    "    model=\"tei\",\n",
    "    # model=\"bm25\",\n",
    ")\n",
    "response"
   ]
  },
  {
   "cell_type": "code",
   "execution_count": null,
   "metadata": {},
   "outputs": [
    {
     "name": "stdout",
     "output_type": "stream",
     "text": [
      "2008 Summer Olympics torch relay True\n",
      "Ho Chi Minh City True\n",
      "Torch Lake Township, Antrim County, Michigan False\n"
     ]
    }
   ],
   "source": [
    "for result in response.results:\n",
    "    paragraph = example['paragraphs'][result.index]\n",
    "    print(paragraph['title'], paragraph['is_supporting'])"
   ]
  },
  {
   "cell_type": "code",
   "execution_count": null,
   "metadata": {},
   "outputs": [],
   "source": [
    "def make_retriever(model=\"tei\", top_n=3):\n",
    "    def retrieve(example):\n",
    "        docs = [p['paragraph_text'] for p in example['paragraphs']]\n",
    "        query = example['question']\n",
    "        try:\n",
    "            response = client.rerank(\n",
    "                query=query,\n",
    "                documents=docs,\n",
    "                top_n=top_n,\n",
    "                model=model,\n",
    "            )\n",
    "        except Exception as e:\n",
    "            print(e)\n",
    "            return []\n",
    "        return [result.index for result in response.results]\n",
    "    return retrieve"
   ]
  },
  {
   "cell_type": "code",
   "execution_count": null,
   "metadata": {},
   "outputs": [],
   "source": [
    "def evaluate_retriever(df, retriever, top_n=3):\n",
    "    df = df.copy()\n",
    "    df['retrieved_doc_ids'] = df.apply(retriever, axis=1)\n",
    "    df['supporting_doc_ids'] = df['paragraphs'].apply(lambda x: [p['idx'] for p in x if p['is_supporting']])\n",
    "    df['recall'] = df.apply(lambda row: len(set(row['supporting_doc_ids']) & set(row['retrieved_doc_ids'])) / len(row['supporting_doc_ids']), axis=1)\n",
    "    return df\n"
   ]
  },
  {
   "cell_type": "code",
   "execution_count": null,
   "metadata": {},
   "outputs": [],
   "source": [
    "df = ds.to_pandas()"
   ]
  },
  {
   "cell_type": "code",
   "execution_count": null,
   "metadata": {},
   "outputs": [
    {
     "data": {
      "text/plain": [
       "count    100.000000\n",
       "mean       0.010000\n",
       "std        0.070353\n",
       "min        0.000000\n",
       "25%        0.000000\n",
       "50%        0.000000\n",
       "75%        0.000000\n",
       "max        0.500000\n",
       "Name: recall, dtype: float64"
      ]
     },
     "execution_count": 51,
     "metadata": {},
     "output_type": "execute_result"
    }
   ],
   "source": [
    "# Alibaba-NLP/gte-multilingual-reranker-base\n",
    "tei_retriever = make_retriever(model=\"tei\", top_n=3)\n",
    "tei_df = evaluate_retriever(df, tei_retriever)\n",
    "tei_df['recall'].describe()"
   ]
  },
  {
   "cell_type": "code",
   "execution_count": null,
   "metadata": {},
   "outputs": [
    {
     "name": "stdout",
     "output_type": "stream",
     "text": [
      "API request failed with status 500: TEI endpoint returned error: 413 - {\"error\":\"Input validation error: `inputs` must have less than 512 tokens. Given: 548\",\"error_type\":\"Validation\"}\n",
      "API request failed with status 500: TEI endpoint returned error: 413 - {\"error\":\"Input validation error: `inputs` must have less than 512 tokens. Given: 514\",\"error_type\":\"Validation\"}\n"
     ]
    },
    {
     "data": {
      "text/plain": [
       "count    100.000000\n",
       "mean       0.740000\n",
       "std        0.305505\n",
       "min        0.000000\n",
       "25%        0.500000\n",
       "50%        1.000000\n",
       "75%        1.000000\n",
       "max        1.000000\n",
       "Name: recall, dtype: float64"
      ]
     },
     "execution_count": 58,
     "metadata": {},
     "output_type": "execute_result"
    }
   ],
   "source": [
    "# BAAI/bge-reranker-large\n",
    "tei2_retriever = make_retriever(model=\"tei\", top_n=3)\n",
    "tei2_df = evaluate_retriever(df, tei2_retriever)\n",
    "tei2_df['recall'].describe()"
   ]
  },
  {
   "cell_type": "code",
   "execution_count": null,
   "metadata": {},
   "outputs": [
    {
     "data": {
      "text/plain": [
       "count    100.000000\n",
       "mean       0.770000\n",
       "std        0.279068\n",
       "min        0.000000\n",
       "25%        0.500000\n",
       "50%        1.000000\n",
       "75%        1.000000\n",
       "max        1.000000\n",
       "Name: recall, dtype: float64"
      ]
     },
     "execution_count": 59,
     "metadata": {},
     "output_type": "execute_result"
    }
   ],
   "source": [
    "# BAAI/bge-reranker-v2-m3\n",
    "tei3_retriever = make_retriever(model=\"tei\", top_n=3)\n",
    "tei3_df = evaluate_retriever(df, tei3_retriever)\n",
    "tei3_df['recall'].describe()"
   ]
  },
  {
   "cell_type": "code",
   "execution_count": null,
   "metadata": {},
   "outputs": [
    {
     "data": {
      "text/plain": [
       "count    100.00000\n",
       "mean       0.45000\n",
       "std        0.30567\n",
       "min        0.00000\n",
       "25%        0.50000\n",
       "50%        0.50000\n",
       "75%        0.50000\n",
       "max        1.00000\n",
       "Name: recall, dtype: float64"
      ]
     },
     "execution_count": 52,
     "metadata": {},
     "output_type": "execute_result"
    }
   ],
   "source": [
    "bm25_retriever = make_retriever(model=\"bm25\", top_n=3)\n",
    "bm25_df = evaluate_retriever(df, bm25_retriever)\n",
    "bm25_df['recall'].describe()"
   ]
  },
  {
   "cell_type": "code",
   "execution_count": null,
   "metadata": {},
   "outputs": [
    {
     "data": {
      "text/plain": [
       "count    100.000000\n",
       "mean       0.615000\n",
       "std        0.273907\n",
       "min        0.000000\n",
       "25%        0.500000\n",
       "50%        0.500000\n",
       "75%        1.000000\n",
       "max        1.000000\n",
       "Name: recall, dtype: float64"
      ]
     },
     "execution_count": 53,
     "metadata": {},
     "output_type": "execute_result"
    }
   ],
   "source": [
    "flash_retriever = make_retriever(model=\"flashrank/ms-marco-MiniLM-L-12-v2\", top_n=3)\n",
    "flash_df = evaluate_retriever(df, flash_retriever)\n",
    "flash_df['recall'].describe()"
   ]
  },
  {
   "cell_type": "code",
   "execution_count": null,
   "metadata": {},
   "outputs": [],
   "source": []
  }
 ],
 "metadata": {
  "kernelspec": {
   "display_name": "Python 3",
   "language": "python",
   "name": "python3"
  }
 },
 "nbformat": 4,
 "nbformat_minor": 4
}
