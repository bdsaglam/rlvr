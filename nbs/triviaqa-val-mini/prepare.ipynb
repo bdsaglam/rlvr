{
 "cells": [
  {
   "cell_type": "markdown",
   "metadata": {},
   "source": [
    "## Parameters"
   ]
  },
  {
   "cell_type": "code",
   "execution_count": 1,
   "metadata": {},
   "outputs": [],
   "source": [
    "from pathlib import Path\n",
    "\n",
    "EXP_DIR = Path(\"./exps/\")"
   ]
  },
  {
   "cell_type": "code",
   "execution_count": 2,
   "metadata": {},
   "outputs": [],
   "source": [
    "# DEVICE_CONFIGS = [\"0\", \"1\", \"2\", \"3\"]\n",
    "# DEVICE_CONFIGS = [\"0,1\", \"2,3\"]\n",
    "DEVICE_CONFIGS = [\"0,1,2,3\"]"
   ]
  },
  {
   "cell_type": "code",
   "execution_count": 3,
   "metadata": {},
   "outputs": [],
   "source": [
    "common_params = {\n",
    "    \"params.model.path\": [\n",
    "        # Small models\n",
    "        # \"Qwen/Qwen2.5-1.5B-Instruct\",\n",
    "        \"Qwen/Qwen2.5-7B-Instruct\",\n",
    "        \"meta-llama/Llama-3.1-8B-Instruct\",\n",
    "        # \"deepseek-ai/DeepSeek-R1-0528-Qwen3-8B\",\n",
    "\n",
    "        # Medium models\n",
    "        \"Qwen/Qwen2.5-14B-Instruct\",\n",
    "        # \"Qwen/Qwen2.5-32B-Instruct\",\n",
    "        # \"Qwen/Qwen2.5-Coder-32B-Instruct\",\n",
    "        # \"meta-llama/Llama-3.1-70B-Instruct\",\n",
    "        # \"Qwen/QwQ-32B\",\n",
    "\n",
    "        # GRPO models\n",
    "        \"bdsaglam/Llama-3.1-8B-Instruct-ragent-grpo-musique-merged\",  # Ragent-1\n",
    "        \"bdsaglam/Llama-3.1-8B-Instruct-ragent-grpo-20250508_213215-merged\",  # Ragent-4\n",
    "        \"bdsaglam/Llama-3.1-8B-Instruct-ragent-grpo-20250520_080809-merged\",  # Ragent-5\n",
    "        \"bdsaglam/Llama-3.1-8B-Instruct-ragent-grpo-20250526_110630\", # Ragent-6\n",
    "    ],\n",
    "    \"params.model.temperature\": [\n",
    "        0.5,\n",
    "    ],\n",
    "    \"params.model.top_p\": [\n",
    "        0.95,\n",
    "    ],\n",
    "    \"params.model.few_shot_prob\": [\n",
    "        0.0,\n",
    "    ],\n",
    "    \"params.retriever.name\": [\n",
    "        \"hybrid-tei\",\n",
    "    ],\n",
    "    \"params.retriever.top_k\": [\n",
    "        1,\n",
    "    ],\n",
    "    \"params.repeat\": [\n",
    "        1,\n",
    "        5,\n",
    "    ],\n",
    "    \"params.run\": [\n",
    "        1,\n",
    "        # 2,\n",
    "        # 3\n",
    "    ],\n",
    "}"
   ]
  },
  {
   "cell_type": "code",
   "execution_count": 4,
   "metadata": {},
   "outputs": [],
   "source": [
    "varying_params_list = [\n",
    "    {\n",
    "        \"params.dataset.path\": [\"bdsaglam/triviaqa-wiki-musique-mini\"],\n",
    "        \"params.dataset.name\": [\"default\"],\n",
    "        \"params.dataset.split\": [\"validation\"],\n",
    "    },\n",
    "]"
   ]
  },
  {
   "cell_type": "markdown",
   "metadata": {},
   "source": [
    "## Setup"
   ]
  },
  {
   "cell_type": "code",
   "execution_count": 5,
   "metadata": {},
   "outputs": [],
   "source": [
    "import itertools\n",
    "import json\n",
    "from pathlib import Path\n",
    "\n",
    "import pandas as pd\n",
    "import matplotlib.pyplot as plt\n",
    "import seaborn\n",
    "\n",
    "def sorted_tuple(x):\n",
    "    return tuple(sorted(x))\n",
    "\n",
    "def jprint(obj):\n",
    "    print(json.dumps(obj, indent=2))"
   ]
  },
  {
   "cell_type": "code",
   "execution_count": 6,
   "metadata": {},
   "outputs": [
    {
     "data": {
      "text/plain": [
       "15"
      ]
     },
     "execution_count": 6,
     "metadata": {},
     "output_type": "execute_result"
    }
   ],
   "source": [
    "df = pd.DataFrame([json.loads(fp.read_text()) for fp in EXP_DIR.glob(\"*.json\")])\n",
    "len(df)"
   ]
  },
  {
   "cell_type": "code",
   "execution_count": 7,
   "metadata": {},
   "outputs": [],
   "source": [
    "df.drop(columns=['params.devices'], inplace=True, errors='ignore')\n",
    "param_cols = [col for col in df.columns if col.startswith(\"params.\")]\n",
    "metric_cols = [col for col in df.columns if col.startswith(\"metrics.\")]"
   ]
  },
  {
   "cell_type": "code",
   "execution_count": 8,
   "metadata": {},
   "outputs": [
    {
     "name": "stdout",
     "output_type": "stream",
     "text": [
      "15 experiments after preprocessing\n"
     ]
    }
   ],
   "source": [
    "if len(df):\n",
    "    df['params.model.temperature'] = df['params.model.temperature'].astype(float).map(lambda x: round(x, 2))\n",
    "    df['params.model.top_p'] = df['params.model.top_p'].astype(float).map(lambda x: round(x, 2))\n",
    "    \n",
    "    df.dropna(subset=param_cols + metric_cols, inplace=True, how=\"any\")\n",
    "    df.drop_duplicates(subset=param_cols, inplace=True, keep='last')\n",
    "    \n",
    "    print(f\"{len(df)} experiments after preprocessing\")"
   ]
  },
  {
   "cell_type": "code",
   "execution_count": 9,
   "metadata": {},
   "outputs": [
    {
     "name": "stdout",
     "output_type": "stream",
     "text": [
      "- params.dataset.path: ['bdsaglam/triviaqa-wiki-musique-mini', 'bdsaglam/musique-mini']\n",
      "\n",
      "- params.dataset.name: ['default', 'answerable']\n",
      "\n",
      "- params.dataset.split: ['validation']\n",
      "\n",
      "- params.model.path: ['bdsaglam/Llama-3.1-8B-Instruct-ragent-grpo-20250526_110630', 'bdsaglam/Llama-3.1-8B-Instruct-ragent-grpo-musique-merged', 'bdsaglam/Llama-3.1-8B-Instruct-ragent-grpo-20250508_213215-merged', 'meta-llama/Llama-3.1-8B-Instruct', 'Qwen/Qwen2.5-7B-Instruct', 'bdsaglam/Llama-3.1-8B-Instruct-ragent-grpo-20250520_080809-merged', 'Qwen/Qwen2.5-14B-Instruct']\n",
      "\n",
      "- params.model.temperature: [0.5]\n",
      "\n",
      "- params.model.top_p: [0.95]\n",
      "\n",
      "- params.model.few_shot_prob: [0.0]\n",
      "\n",
      "- params.retriever.name: ['hybrid-tei']\n",
      "\n",
      "- params.retriever.top_k: [1]\n",
      "\n",
      "- params.repeat: [5, 1]\n",
      "\n",
      "- params.run: [1]\n",
      "\n"
     ]
    }
   ],
   "source": [
    "for col in param_cols:\n",
    "    values = list(df[col].unique())\n",
    "    print(f\"- {col}: {values}\")\n",
    "    print()"
   ]
  },
  {
   "cell_type": "markdown",
   "metadata": {},
   "source": [
    "## Setup remaining experiments"
   ]
  },
  {
   "cell_type": "code",
   "execution_count": 10,
   "metadata": {},
   "outputs": [],
   "source": [
    "def produce_experiment_configs(common_params, varying_params):\n",
    "    # Generate all possible combinations of parameters\n",
    "    varying_params = {**common_params, **varying_params}\n",
    "    keys = varying_params.keys()\n",
    "    values = varying_params.values()\n",
    "    for instance in itertools.product(*values):\n",
    "        yield dict(zip(keys, instance))"
   ]
  },
  {
   "cell_type": "code",
   "execution_count": 11,
   "metadata": {},
   "outputs": [],
   "source": [
    "def produce_all_experiment_configs(common_params: dict, varying_params_list: list[dict]):\n",
    "    for params in varying_params_list:\n",
    "        for exp_config in produce_experiment_configs(common_params, params):\n",
    "            yield exp_config"
   ]
  },
  {
   "cell_type": "code",
   "execution_count": 12,
   "metadata": {},
   "outputs": [
    {
     "name": "stdout",
     "output_type": "stream",
     "text": [
      "14 experiment configurations\n",
      "['params.model.path', 'params.model.temperature', 'params.model.top_p', 'params.model.few_shot_prob', 'params.retriever.name', 'params.retriever.top_k', 'params.repeat', 'params.run', 'params.dataset.path', 'params.dataset.name', 'params.dataset.split']\n"
     ]
    }
   ],
   "source": [
    "exp_configs = list(produce_all_experiment_configs(common_params, varying_params_list))\n",
    "target_params = list(exp_configs[0].keys())\n",
    "print(f\"{len(exp_configs)} experiment configurations\")\n",
    "print(target_params)"
   ]
  },
  {
   "cell_type": "code",
   "execution_count": 13,
   "metadata": {},
   "outputs": [],
   "source": [
    "def preprocess_config(config):\n",
    "    config = {k: round(v, 2) if isinstance(v, float) else v for k, v in config.items()}\n",
    "    if '/home/baris' in config['params.model.path']:\n",
    "        config['params.model.path'] = \"bdsaglam/\" + config['params.model.path'].rsplit(\"/\", 1)[-1]\n",
    "    return config"
   ]
  },
  {
   "cell_type": "code",
   "execution_count": 14,
   "metadata": {},
   "outputs": [
    {
     "name": "stdout",
     "output_type": "stream",
     "text": [
      "Existing exps: 15\n"
     ]
    }
   ],
   "source": [
    "if len(df):\n",
    "    existing_configs = [preprocess_config(config) for config in df[target_params].to_dict(orient=\"records\")]\n",
    "    existing_configs[0]\n",
    "else:\n",
    "    existing_configs = []\n",
    "\n",
    "print(\"Existing exps:\", len(existing_configs))"
   ]
  },
  {
   "cell_type": "code",
   "execution_count": 15,
   "metadata": {},
   "outputs": [
    {
     "name": "stdout",
     "output_type": "stream",
     "text": [
      "0 missing configurations\n"
     ]
    }
   ],
   "source": [
    "# find the missing configurations\n",
    "missing_configs = [\n",
    "    preprocess_config(dict(kv))\n",
    "    for kv in list(\n",
    "        {tuple(sorted(config.items())) for config in exp_configs}\n",
    "        - {tuple(sorted(config.items())) for config in existing_configs}\n",
    "    )\n",
    "]\n",
    "print(f\"{len(missing_configs)} missing configurations\")"
   ]
  },
  {
   "cell_type": "code",
   "execution_count": 16,
   "metadata": {},
   "outputs": [],
   "source": [
    "def make_command(exp_config):\n",
    "    lines = [\"dvc exp run --queue\"]\n",
    "    for target_param in target_params:\n",
    "        arg_name = target_param.split(\".\", 1)[-1]\n",
    "        arg_value = exp_config[target_param]\n",
    "        if \"[\" in str(arg_value):\n",
    "            arg_value = f'\"{arg_value}\"'\n",
    "        lines.append(f\"-S {arg_name}='{arg_value}'\")\n",
    "\n",
    "    command = \" \\\\\\n    \".join(lines)\n",
    "    return command"
   ]
  },
  {
   "cell_type": "code",
   "execution_count": 17,
   "metadata": {},
   "outputs": [],
   "source": [
    "with open(\"run.sh\", \"w\") as f:\n",
    "    f.write(\"#!/bin/sh\\n\\n\")\n",
    "    for i,exp_config in enumerate(missing_configs):\n",
    "        command = make_command(exp_config)\n",
    "        devices = DEVICE_CONFIGS[i % len(DEVICE_CONFIGS)]\n",
    "        command += f\" \\\\\\n    -S devices='\\\"{devices}\\\"'\"\n",
    "        f.write(command)\n",
    "        f.write(\"\\n\\n\")"
   ]
  },
  {
   "cell_type": "code",
   "execution_count": 18,
   "metadata": {},
   "outputs": [
    {
     "data": {
      "text/plain": [
       "{'params.model.path': 'bdsaglam/Llama-3.1-8B-Instruct-ragent-grpo-20250526_110630',\n",
       " 'params.model.temperature': 0.5,\n",
       " 'params.model.top_p': 0.95,\n",
       " 'params.model.few_shot_prob': 0.0,\n",
       " 'params.retriever.name': 'hybrid-tei',\n",
       " 'params.retriever.top_k': 1,\n",
       " 'params.repeat': 5,\n",
       " 'params.run': 1,\n",
       " 'params.dataset.path': 'bdsaglam/triviaqa-wiki-musique-mini',\n",
       " 'params.dataset.name': 'default',\n",
       " 'params.dataset.split': 'validation'}"
      ]
     },
     "execution_count": 18,
     "metadata": {},
     "output_type": "execute_result"
    }
   ],
   "source": [
    "next(iter(existing_configs), None)"
   ]
  },
  {
   "cell_type": "code",
   "execution_count": null,
   "metadata": {},
   "outputs": [],
   "source": [
    "next(iter(missing_configs), None)"
   ]
  }
 ],
 "metadata": {
  "kernelspec": {
   "display_name": "thesis",
   "language": "python",
   "name": "python3"
  },
  "language_info": {
   "codemirror_mode": {
    "name": "ipython",
    "version": 3
   },
   "file_extension": ".py",
   "mimetype": "text/x-python",
   "name": "python",
   "nbconvert_exporter": "python",
   "pygments_lexer": "ipython3",
   "version": "3.10.16"
  }
 },
 "nbformat": 4,
 "nbformat_minor": 2
}
