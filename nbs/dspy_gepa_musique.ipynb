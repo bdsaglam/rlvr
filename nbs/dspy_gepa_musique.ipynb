{
 "cells": [
  {
   "cell_type": "code",
   "execution_count": 1,
   "id": "3483a25a",
   "metadata": {},
   "outputs": [
    {
     "data": {
      "text/plain": [
       "True"
      ]
     },
     "execution_count": 1,
     "metadata": {},
     "output_type": "execute_result"
    }
   ],
   "source": [
    "from dotenv import load_dotenv\n",
    "load_dotenv()"
   ]
  },
  {
   "cell_type": "code",
   "execution_count": 2,
   "id": "16bae087",
   "metadata": {},
   "outputs": [],
   "source": [
    "import os\n",
    "from pathlib import Path\n",
    "import datetime\n",
    "import random\n",
    "\n",
    "import dspy"
   ]
  },
  {
   "cell_type": "code",
   "execution_count": 3,
   "id": "bb2de384",
   "metadata": {},
   "outputs": [
    {
     "name": "stdout",
     "output_type": "stream",
     "text": [
      "✅ MLflow tracking enabled at http://localhost:5005\n"
     ]
    }
   ],
   "source": [
    "def setup_mlflow():\n",
    "    import mlflow\n",
    "    import mlflow.dspy\n",
    "\n",
    "    mlflow.set_tracking_uri(os.getenv(\"MLFLOW_TRACKING_URI\"))\n",
    "    experiment = mlflow.set_experiment(\"dspy-gepa-musique\")\n",
    "    mlflow.dspy.autolog(\n",
    "        log_compiles=True,\n",
    "        log_evals=True,\n",
    "        log_traces_from_compile=True,\n",
    "    )\n",
    "    print(f\"✅ MLflow tracking enabled at {os.getenv('MLFLOW_TRACKING_URI')}\")\n",
    "    return experiment\n",
    "\n",
    "mlflow_exp = setup_mlflow()"
   ]
  },
  {
   "cell_type": "code",
   "execution_count": 4,
   "id": "2c131983",
   "metadata": {},
   "outputs": [
    {
     "data": {
      "text/plain": [
       "PosixPath('../outputs/dspy-gepa-musique/20251003_174554')"
      ]
     },
     "execution_count": 4,
     "metadata": {},
     "output_type": "execute_result"
    }
   ],
   "source": [
    "EXP_ID = datetime.datetime.now().strftime(\"%Y%m%d_%H%M%S\")\n",
    "EXP_DIR = Path(f\"../outputs/dspy-gepa-musique/{EXP_ID}\")\n",
    "EXP_DIR.mkdir(parents=True, exist_ok=True)\n",
    "EXP_DIR"
   ]
  },
  {
   "cell_type": "code",
   "execution_count": 5,
   "id": "2015c533",
   "metadata": {},
   "outputs": [],
   "source": [
    "# lm = dspy.LM(\n",
    "#     \"openai/Qwen/Qwen2.5-7B-Instruct\",\n",
    "#     temperature=0.6,\n",
    "#     max_tokens=8192,\n",
    "#     api_key=\"local\",\n",
    "#     api_base=\"http://0.0.0.0:8000/v1\",\n",
    "#     cache=False,\n",
    "# )\n",
    "lm = dspy.LM(\n",
    "    \"openai/Qwen/Qwen3-8B\",\n",
    "    temperature=0.6,\n",
    "    max_tokens=16000,\n",
    "    api_key=\"local\",\n",
    "    api_base=\"http://0.0.0.0:8001/v1\",\n",
    "    cache=False,\n",
    ")\n",
    "mlflow_exp._tags[\"student_lm\"] = {\n",
    "    \"model\": lm.model,\n",
    "}\n",
    "dspy.configure(lm=lm)\n",
    "\n",
    "reflection_lm = dspy.LM(\n",
    "    \"gemini/gemini-2.5-pro\",\n",
    "    api_key=os.getenv(\"GEMINI_API_KEY\"),\n",
    "    max_tokens=16384,\n",
    "    thinking={\"type\": \"enabled\"},\n",
    "    cache=False,\n",
    ")\n",
    "mlflow_exp._tags[\"reflection_lm\"] = {\n",
    "    \"model\": reflection_lm.model,\n",
    "}\n",
    "# reflection_lm = dspy.LM(\n",
    "#     \"openai/Qwen/Qwen3-32B\",\n",
    "#     temperature=0.6,\n",
    "#     max_tokens=16384,\n",
    "#     api_key=\"local\",\n",
    "#     api_base=\"http://0.0.0.0:8001/v1\",\n",
    "#     cache=False,\n",
    "# )"
   ]
  },
  {
   "cell_type": "code",
   "execution_count": 6,
   "id": "72c161bc-d491-4e23-8c5a-7723d9f8296e",
   "metadata": {},
   "outputs": [
    {
     "data": {
      "text/plain": [
       "['Hello! How can I assist you today? 😊']"
      ]
     },
     "execution_count": 6,
     "metadata": {},
     "output_type": "execute_result"
    },
    {
     "data": {
      "text/html": [
       "\n",
       "<div>\n",
       "  <style scoped>\n",
       "  button {\n",
       "    border: none;\n",
       "    border-radius: 4px;\n",
       "    background-color: rgb(34, 114, 180);\n",
       "    font-family: -apple-system, \"system-ui\", \"Segoe UI\", Roboto, \"Helvetica Neue\", Arial;\n",
       "    font-size: 13px;\n",
       "    color: white;\n",
       "    margin-top: 8px;\n",
       "    margin-bottom: 8px;\n",
       "    padding: 8px 16px;\n",
       "    cursor: pointer;\n",
       "  }\n",
       "  button:hover {\n",
       "    background-color: rgb(66, 153, 224);\n",
       "  }\n",
       "  </style>\n",
       "  <button\n",
       "    onclick=\"\n",
       "        const display = this.nextElementSibling.style.display;\n",
       "        const isCollapsed = display === 'none';\n",
       "        this.nextElementSibling.style.display = isCollapsed ? null : 'none';\n",
       "\n",
       "        const verb = isCollapsed ? 'Collapse' : 'Expand';\n",
       "        this.innerText = `${verb} MLflow Trace`;\n",
       "    \"\n",
       "  >Collapse MLflow Trace</button>\n",
       "  <iframe\n",
       "    id=\"trace-renderer\"\n",
       "    style=\"width: 100%; height: 500px; border: none; resize: vertical;\"\n",
       "    src=\"http://localhost:5005/static-files/lib/notebook-trace-renderer/index.html?trace_id=tr-012cd3d8befd4f40a9272e23ae75d2ad&amp;experiment_id=1&amp;version=3.4.0\"\n",
       "  />\n",
       "</div>\n"
      ],
      "text/plain": [
       "Trace(trace_id=tr-012cd3d8befd4f40a9272e23ae75d2ad)"
      ]
     },
     "metadata": {},
     "output_type": "display_data"
    }
   ],
   "source": [
    "lm(messages=[{\"role\": \"user\", \"content\": \"Hello\"}])"
   ]
  },
  {
   "cell_type": "code",
   "execution_count": null,
   "id": "b197cd14-2b0a-494c-948f-51317b3ba963",
   "metadata": {},
   "outputs": [],
   "source": [
    "reflection_lm(messages=[{\"role\": \"user\", \"content\": \"What is largest prime number below 10?\"}])"
   ]
  },
  {
   "cell_type": "code",
   "execution_count": 7,
   "id": "8140bb46",
   "metadata": {},
   "outputs": [
    {
     "data": {
      "application/vnd.jupyter.widget-view+json": {
       "model_id": "2965a375e7e540b59d9589cf3e91dc49",
       "version_major": 2,
       "version_minor": 0
      },
      "text/plain": [
       "Map: 100%|##########| 300/300 [00:00<?, ? examples/s]"
      ]
     },
     "metadata": {},
     "output_type": "display_data"
    },
    {
     "data": {
      "application/vnd.jupyter.widget-view+json": {
       "model_id": "8bd073b905584a0d946e650d423777cd",
       "version_major": 2,
       "version_minor": 0
      },
      "text/plain": [
       "Map:   0%|          | 0/300 [00:00<?, ? examples/s]"
      ]
     },
     "metadata": {},
     "output_type": "display_data"
    },
    {
     "data": {
      "application/vnd.jupyter.widget-view+json": {
       "model_id": "87047607b42e4db38badad980ecdc438",
       "version_major": 2,
       "version_minor": 0
      },
      "text/plain": [
       "Map: 100%|##########| 50/50 [00:00<?, ? examples/s]"
      ]
     },
     "metadata": {},
     "output_type": "display_data"
    },
    {
     "data": {
      "application/vnd.jupyter.widget-view+json": {
       "model_id": "fe37a169714342b79cd6c9364d04e04f",
       "version_major": 2,
       "version_minor": 0
      },
      "text/plain": [
       "Map:   0%|          | 0/50 [00:00<?, ? examples/s]"
      ]
     },
     "metadata": {},
     "output_type": "display_data"
    }
   ],
   "source": [
    "from rlvr.dspy.mhqa.data import prepare_musique_dataset\n",
    "\n",
    "ds = prepare_musique_dataset(datasets_str=\"bdsaglam/musique-mini,answerable,train\")\n",
    "random.Random(89).shuffle(ds)\n",
    "train_size = int(len(ds)*0.80)\n",
    "train_ds, val_ds = ds[:train_size], ds[train_size:]\n",
    "\n",
    "test_ds = prepare_musique_dataset(datasets_str=\"bdsaglam/musique-mini,answerable,validation[:50]\")"
   ]
  },
  {
   "cell_type": "code",
   "execution_count": 8,
   "id": "2e75064e",
   "metadata": {
    "scrolled": true
   },
   "outputs": [
    {
     "data": {
      "text/plain": [
       "generate_query.predict = Predict(StringSignature(question, collected_info -> reasoning, search_query, top_n\n",
       "    instructions='Given a multi-hop question and information collected so far, generate a search query\\nto find the next piece of information needed to answer the question.\\nFocus on entities, dates, or facts that need to be resolved step by step.'\n",
       "    question = Field(annotation=str required=True json_schema_extra={'desc': 'The multi-hop question to answer', '__dspy_field_type': 'input', 'prefix': 'Question:'})\n",
       "    collected_info = Field(annotation=str required=True json_schema_extra={'desc': 'Information collected from previous retrieval steps.', '__dspy_field_type': 'input', 'prefix': 'Collected Info:'})\n",
       "    reasoning = Field(annotation=str required=True json_schema_extra={'prefix': \"Reasoning: Let's think step by step in order to\", 'desc': '${reasoning}', '__dspy_field_type': 'output'})\n",
       "    search_query = Field(annotation=str required=True json_schema_extra={'desc': 'Search query for the next retrieval step', '__dspy_field_type': 'output', 'prefix': 'Search Query:'})\n",
       "    top_n = Field(annotation=int required=True json_schema_extra={'desc': 'Number of documents to retrieve. 1 <= top_n <= 3', '__dspy_field_type': 'output', 'prefix': 'Top N:'})\n",
       "))\n",
       "extract_info.predict = Predict(StringSignature(question, documents -> reasoning, key_informations\n",
       "    instructions='Given a question and retrieved documents, extract the key information\\nthat helps answer the question or leads to the next retrieval step.\\nFocus on entities, relationships, dates, and facts.'\n",
       "    question = Field(annotation=str required=True json_schema_extra={'desc': 'The multi-hop question to answer', '__dspy_field_type': 'input', 'prefix': 'Question:'})\n",
       "    documents = Field(annotation=str required=True json_schema_extra={'desc': 'Retrieved documents from search', '__dspy_field_type': 'input', 'prefix': 'Documents:'})\n",
       "    reasoning = Field(annotation=str required=True json_schema_extra={'prefix': \"Reasoning: Let's think step by step in order to\", 'desc': '${reasoning}', '__dspy_field_type': 'output'})\n",
       "    key_informations = Field(annotation=list[KeyInformation] required=True json_schema_extra={'desc': 'Key information(s) extracted from retrieved document(s)', '__dspy_field_type': 'output', 'prefix': 'Key Informations:'})\n",
       "))\n",
       "decide_info_collect.predict = Predict(StringSignature(question, all_information -> reasoning, has_collected_enough_info\n",
       "    instructions='Given the fields `question`, `all_information`, produce the fields `has_collected_enough_info`.'\n",
       "    question = Field(annotation=str required=True json_schema_extra={'desc': 'The multi-hop question to answer', '__dspy_field_type': 'input', 'prefix': 'Question:'})\n",
       "    all_information = Field(annotation=str required=True json_schema_extra={'desc': 'All information collected during retrieval', '__dspy_field_type': 'input', 'prefix': 'All Information:'})\n",
       "    reasoning = Field(annotation=str required=True json_schema_extra={'prefix': \"Reasoning: Let's think step by step in order to\", 'desc': '${reasoning}', '__dspy_field_type': 'output'})\n",
       "    has_collected_enough_info = Field(annotation=bool required=True json_schema_extra={'desc': 'Has enough information been collected to answer question?', '__dspy_field_type': 'output', 'prefix': 'Has Collected Enough Info:'})\n",
       "))\n",
       "generate_answer.predict = Predict(StringSignature(question, all_information -> reasoning, answer, citations\n",
       "    instructions='Given a multi-hop question and all collected information, provide a concise answer and citations.\\nThe answer should directly address what the question asks for.\\nBe specific and use the exact entities/dates/facts from the documents.\\nCite all documents that support the answer.'\n",
       "    question = Field(annotation=str required=True json_schema_extra={'desc': 'The multi-hop question to answer', '__dspy_field_type': 'input', 'prefix': 'Question:'})\n",
       "    all_information = Field(annotation=str required=True json_schema_extra={'desc': 'All information collected during retrieval', '__dspy_field_type': 'input', 'prefix': 'All Information:'})\n",
       "    reasoning = Field(annotation=str required=True json_schema_extra={'prefix': \"Reasoning: Let's think step by step in order to\", 'desc': '${reasoning}', '__dspy_field_type': 'output'})\n",
       "    answer = Field(annotation=str required=True json_schema_extra={'desc': 'Final answer to the question', '__dspy_field_type': 'output', 'prefix': 'Answer:'})\n",
       "    citations = Field(annotation=list[str] required=True json_schema_extra={'desc': 'List of document IDs to cite for the answer, e.g. `[4, 9]`', '__dspy_field_type': 'output', 'prefix': 'Citations:'})\n",
       "))"
      ]
     },
     "execution_count": 8,
     "metadata": {},
     "output_type": "execute_result"
    }
   ],
   "source": [
    "from rlvr.dspy.mhqa.baleen import MultiHopQA\n",
    "\n",
    "program = MultiHopQA(prompt_technique=\"cot\")\n",
    "program"
   ]
  },
  {
   "cell_type": "code",
   "execution_count": 9,
   "id": "502bfc89",
   "metadata": {
    "scrolled": true
   },
   "outputs": [
    {
     "data": {
      "text/plain": [
       "Example({'question': \"What county contains the work location of the president making father's day a national holiday?\", 'answer': 'Washington County', 'answers': ['Washington County', 'washington county'], 'docs': [{'body': 'Thanksgiving, or Thanksgiving Day, is a public holiday celebrated on the fourth Thursday of November in the United States. It originated as a harvest festival. Thanksgiving has been celebrated nationally on and off since 1789, after Congress requested a proclamation by George Washington. It has been celebrated as a federal holiday every year since 1863, when, during the American Civil War, President Abraham Lincoln proclaimed a national day of \"Thanksgiving and Praise to our beneficent Father who dwelleth in the Heavens,\"to be celebrated on the last Thursday in November. Together with Christmas and the New Year, Thanksgiving is a part of the broader fall / winter holiday season in the U.S.', 'id': '0', 'is_supporting': False, 'text': '# Thanksgiving (United States)\\nThanksgiving, or Thanksgiving Day, is a public holiday celebrated on the fourth Thursday of November in the United States. It originated as a harvest festival. Thanksgiving has been celebrated nationally on and off since 1789, after Congress requested a proclamation by George Washington. It has been celebrated as a federal holiday every year since 1863, when, during the American Civil War, President Abraham Lincoln proclaimed a national day of \"Thanksgiving and Praise to our beneficent Father who dwelleth in the Heavens,\"to be celebrated on the last Thursday in November. Together with Christmas and the New Year, Thanksgiving is a part of the broader fall / winter holiday season in the U.S.', 'title': 'Thanksgiving (United States)'}, {'body': 'Many Italian - Americans observe Columbus Day as a celebration of their heritage, and the first such celebration was held in New York City on October 12, 1866. The day was first enshrined as a legal holiday in the United States through the lobbying of Angelo Noce, a first generation Italian, in Denver. The first statewide holiday was proclaimed by Colorado governor Jesse F. McDonald in 1905, and it was made a statutory holiday in 1907. In April 1934, as a result of lobbying by the Knights of Columbus and New York City Italian leader Generoso Pope, Congress and President Franklin Delano Roosevelt proclaimed October 12 a federal holiday under the name Columbus Day.', 'id': '1', 'is_supporting': False, 'text': '# Columbus Day\\nMany Italian - Americans observe Columbus Day as a celebration of their heritage, and the first such celebration was held in New York City on October 12, 1866. The day was first enshrined as a legal holiday in the United States through the lobbying of Angelo Noce, a first generation Italian, in Denver. The first statewide holiday was proclaimed by Colorado governor Jesse F. McDonald in 1905, and it was made a statutory holiday in 1907. In April 1934, as a result of lobbying by the Knights of Columbus and New York City Italian leader Generoso Pope, Congress and President Franklin Delano Roosevelt proclaimed October 12 a federal holiday under the name Columbus Day.', 'title': 'Columbus Day'}, {'body': \"In 1916, President Woodrow Wilson issued a proclamation that officially established June 14 as Flag Day; in August 1946, National Flag Day was established by an Act of Congress. Flag Day is not an official federal holiday. Title 36 of the United States Code, Subtitle I, Part A, CHAPTER 1, § 110 is the official statute on Flag Day; however, it is at the president's discretion to officially proclaim the observance. On June 14, 1937, Pennsylvania became the first U.S. state to celebrate Flag Day as a state holiday, beginning in the town of Rennerdale. New York Statutes designate the second Sunday in June as Flag Day, a state holiday.\", 'id': '2', 'is_supporting': False, 'text': \"# Flag Day (United States)\\nIn 1916, President Woodrow Wilson issued a proclamation that officially established June 14 as Flag Day; in August 1946, National Flag Day was established by an Act of Congress. Flag Day is not an official federal holiday. Title 36 of the United States Code, Subtitle I, Part A, CHAPTER 1, § 110 is the official statute on Flag Day; however, it is at the president's discretion to officially proclaim the observance. On June 14, 1937, Pennsylvania became the first U.S. state to celebrate Flag Day as a state holiday, beginning in the town of Rennerdale. New York Statutes designate the second Sunday in June as Flag Day, a state holiday.\", 'title': 'Flag Day (United States)'}, {'body': \"The John F. Kennedy Space Center (KSC, originally known as the NASA Launch Operations Center) is one of ten National Aeronautics and Space Administration field centers. Since December 1968, the KSC has been NASA's primary launch center of human spaceflight. Launch operations for the Apollo, Skylab and Space Shuttle programs were carried out from Kennedy Space Center Launch Complex 39 and managed by KSC. Located on the east coast of Florida, KSC is adjacent to Cape Canaveral Air Force Station (CCAFS). The management of the two entities work very closely together, share resources, and even own facilities on each other's property.\", 'id': '3', 'is_supporting': False, 'text': \"# Kennedy Space Center\\nThe John F. Kennedy Space Center (KSC, originally known as the NASA Launch Operations Center) is one of ten National Aeronautics and Space Administration field centers. Since December 1968, the KSC has been NASA's primary launch center of human spaceflight. Launch operations for the Apollo, Skylab and Space Shuttle programs were carried out from Kennedy Space Center Launch Complex 39 and managed by KSC. Located on the east coast of Florida, KSC is adjacent to Cape Canaveral Air Force Station (CCAFS). The management of the two entities work very closely together, share resources, and even own facilities on each other's property.\", 'title': 'Kennedy Space Center'}, {'body': 'In 1949, the Territory and the Territory of New Guinea were established in an administrative union by the name of the Territory of Papua and New Guinea. That administrative union was renamed as Papua New Guinea in 1971. Notwithstanding that it was part of an administrative union, the Territory of Papua at all times retained a distinct legal status and identity; it was a Possession of the Crown whereas the Territory of New Guinea was initially a League of Nations mandate territory and subsequently a United Nations trust territory. This important legal and political distinction remained until the advent of the Independent State of Papua New Guinea in 1975.', 'id': '4', 'is_supporting': False, 'text': '# Territory of Papua\\nIn 1949, the Territory and the Territory of New Guinea were established in an administrative union by the name of the Territory of Papua and New Guinea. That administrative union was renamed as Papua New Guinea in 1971. Notwithstanding that it was part of an administrative union, the Territory of Papua at all times retained a distinct legal status and identity; it was a Possession of the Crown whereas the Territory of New Guinea was initially a League of Nations mandate territory and subsequently a United Nations trust territory. This important legal and political distinction remained until the advent of the Independent State of Papua New Guinea in 1975.', 'title': 'Territory of Papua'}, {'body': 'Angelo J. Lano was an American field agent for the Federal Bureau of Investigation in Washington DC, notable for his work heading the investigation of, and appearing as a witness for, the Watergate scandal surrounding President Richard M. Nixon. Lano was one of a number of FBI agents who was falsely accused as a source of information for Carl Bernstein and the \"Washington Post\" during the investigation, which helped shift White House suspicions away from Mark Felt, who was revealed as informant Deep Throat on May 31, 2005.', 'id': '5', 'is_supporting': True, 'text': '# Angelo Lano\\nAngelo J. Lano was an American field agent for the Federal Bureau of Investigation in Washington DC, notable for his work heading the investigation of, and appearing as a witness for, the Watergate scandal surrounding President Richard M. Nixon. Lano was one of a number of FBI agents who was falsely accused as a source of information for Carl Bernstein and the \"Washington Post\" during the investigation, which helped shift White House suspicions away from Mark Felt, who was revealed as informant Deep Throat on May 31, 2005.', 'title': 'Angelo Lano'}, {'body': \"Ratu Sir Lala Sukuna Day (commonly known as Ratu Sukuna Day) was a national public holiday in Fiji until the year 2010, when the Prime Minister, Commodore Voreqe Bainimarama, declared both Ratu Sir Lala Sakuna Day and National Youth Day to no longer be public holidays. It was originally celebrated annually on the last Monday of May, in honour of Lala Sukuna (1888-1958), the national father of modern Fiji, whose death anniversary falls on 30 May. The week leading up to Ratu Sukuna Day is marked by public celebrations with speeches and events, with an address from the President of Fiji on the closing day. Members of the public enter Parliament grounds to polish Sukuna's statue.\", 'id': '6', 'is_supporting': False, 'text': \"# Ratu Sir Lala Sukuna Day\\nRatu Sir Lala Sukuna Day (commonly known as Ratu Sukuna Day) was a national public holiday in Fiji until the year 2010, when the Prime Minister, Commodore Voreqe Bainimarama, declared both Ratu Sir Lala Sakuna Day and National Youth Day to no longer be public holidays. It was originally celebrated annually on the last Monday of May, in honour of Lala Sukuna (1888-1958), the national father of modern Fiji, whose death anniversary falls on 30 May. The week leading up to Ratu Sukuna Day is marked by public celebrations with speeches and events, with an address from the President of Fiji on the closing day. Members of the public enter Parliament grounds to polish Sukuna's statue.\", 'title': 'Ratu Sir Lala Sukuna Day'}, {'body': 'Washington is a city in, and the county seat of, Washington County, Kansas, United States. As of the 2010 census, the city population was 1,131.', 'id': '7', 'is_supporting': True, 'text': '# Washington, Kansas\\nWashington is a city in, and the county seat of, Washington County, Kansas, United States. As of the 2010 census, the city population was 1,131.', 'title': 'Washington, Kansas'}, {'body': 'A bill to accord national recognition of the holiday was introduced in Congress in 1913. In 1916, President Woodrow Wilson went to Spokane to speak in a Father\\'s Day celebration and wanted to make it official, but Congress resisted, fearing that it would become commercialized. US President Calvin Coolidge recommended in 1924 that the day be observed by the nation, but stopped short of issuing a national proclamation. Two earlier attempts to formally recognize the holiday had been defeated by Congress. In 1957, Maine Senator Margaret Chase Smith wrote a proposal accusing Congress of ignoring fathers for 40 years while honoring mothers, thus \"(singling) out just one of our two parents\". In 1966, President Lyndon B. Johnson issued the first presidential proclamation honoring fathers, designating the third Sunday in June as Father\\'s Day. Six years later, the day was made a permanent national holiday when President Richard Nixon signed it into law in 1972.', 'id': '8', 'is_supporting': False, 'text': '# Father\\'s Day (United States)\\nA bill to accord national recognition of the holiday was introduced in Congress in 1913. In 1916, President Woodrow Wilson went to Spokane to speak in a Father\\'s Day celebration and wanted to make it official, but Congress resisted, fearing that it would become commercialized. US President Calvin Coolidge recommended in 1924 that the day be observed by the nation, but stopped short of issuing a national proclamation. Two earlier attempts to formally recognize the holiday had been defeated by Congress. In 1957, Maine Senator Margaret Chase Smith wrote a proposal accusing Congress of ignoring fathers for 40 years while honoring mothers, thus \"(singling) out just one of our two parents\". In 1966, President Lyndon B. Johnson issued the first presidential proclamation honoring fathers, designating the third Sunday in June as Father\\'s Day. Six years later, the day was made a permanent national holiday when President Richard Nixon signed it into law in 1972.', 'title': \"Father's Day (United States)\"}, {'body': \"26 March 1991 is the day that marks the clash between military soldiers and peaceful demonstrating students which climaxed in the massacre of dozens under the orders of then President Moussa Traoré. He and three associates were later tried and convicted and received the death sentence for their part in the decision-making of that day. Nowadays, the day is a national holiday in order to remember the tragic events and the people that were killed.[unreliable source?] The coup is remembered as Mali's March Revolution of 1991.\", 'id': '9', 'is_supporting': False, 'text': \"# Mali\\n26 March 1991 is the day that marks the clash between military soldiers and peaceful demonstrating students which climaxed in the massacre of dozens under the orders of then President Moussa Traoré. He and three associates were later tried and convicted and received the death sentence for their part in the decision-making of that day. Nowadays, the day is a national holiday in order to remember the tragic events and the people that were killed.[unreliable source?] The coup is remembered as Mali's March Revolution of 1991.\", 'title': 'Mali'}, {'body': 'The holiday lasts seven days in Israel and eight in the diaspora. The first day (and second day in the diaspora) is a Shabbat - like holiday when work is forbidden. This is followed by intermediate days called Chol Hamoed, when certain work is permitted. The festival is closed with another Shabbat - like holiday called Shemini Atzeret (one day in Israel, two days in the diaspora, where the second day is called Simchat Torah). Shemini Atzeret coincides with the eighth day of Sukkot outside Israel.', 'id': '10', 'is_supporting': False, 'text': '# Sukkot\\nThe holiday lasts seven days in Israel and eight in the diaspora. The first day (and second day in the diaspora) is a Shabbat - like holiday when work is forbidden. This is followed by intermediate days called Chol Hamoed, when certain work is permitted. The festival is closed with another Shabbat - like holiday called Shemini Atzeret (one day in Israel, two days in the diaspora, where the second day is called Simchat Torah). Shemini Atzeret coincides with the eighth day of Sukkot outside Israel.', 'title': 'Sukkot'}, {'body': \"Following the deaths of workers at the hands of United States Army and United States Marshals Service during the Pullman Strike of 1894 in Chicago, the United States Congress unanimously voted to approve legislation to make Labor Day a national holiday and President Grover Cleveland signed it into law six days after the end of the strike. Cleveland supported the creation of the national holiday in an attempt to shore up support among trade unions following the Pullman Strike. The date of May 1 (an ancient European holiday known as May Day) was an alternative date, celebrated then (and now) as International Workers' Day, but President Cleveland was concerned that observance of Labor Day on May 1 would encourage Haymarket - style protests and would strengthen socialist and anarchist movements that, though distinct from one another, had rallied to commemorate the Haymarket Affair on International Workers' Day.\", 'id': '11', 'is_supporting': False, 'text': \"# Labor Day\\nFollowing the deaths of workers at the hands of United States Army and United States Marshals Service during the Pullman Strike of 1894 in Chicago, the United States Congress unanimously voted to approve legislation to make Labor Day a national holiday and President Grover Cleveland signed it into law six days after the end of the strike. Cleveland supported the creation of the national holiday in an attempt to shore up support among trade unions following the Pullman Strike. The date of May 1 (an ancient European holiday known as May Day) was an alternative date, celebrated then (and now) as International Workers' Day, but President Cleveland was concerned that observance of Labor Day on May 1 would encourage Haymarket - style protests and would strengthen socialist and anarchist movements that, though distinct from one another, had rallied to commemorate the Haymarket Affair on International Workers' Day.\", 'title': 'Labor Day'}, {'body': 'Khabarovsky District () is an administrative and municipal district (raion), one of the seventeen in Khabarovsk Krai, Russia. It consists of two unconnected segments separated by the territory of Amursky District, which are located in the southwest of the krai. The area of the district is . Its administrative center is the city of Khabarovsk (which is not administratively a part of the district). Population:', 'id': '12', 'is_supporting': False, 'text': '# Khabarovsky District\\nKhabarovsky District () is an administrative and municipal district (raion), one of the seventeen in Khabarovsk Krai, Russia. It consists of two unconnected segments separated by the territory of Amursky District, which are located in the southwest of the krai. The area of the district is . Its administrative center is the city of Khabarovsk (which is not administratively a part of the district). Population:', 'title': 'Khabarovsky District'}, {'body': 'India made many requisitions to the Salazar regime of Portugal to grant their Indian colonies independence, but when that failed, on 18 December 1961, Indian troops crossed the border into Goa and \"liberated\"it. Operation Vijay involved sustained land, sea and air strikes for more than thirty - six hours; it resulted in the unconditional surrender of Portuguese forces on 19 December. A United Nations resolution \"condemning\" the invasion was proposed by the United States and the United Kingdom in the United Nations Security Council, but would be vetoed by the USSR. The territory of Goa was under military rule for five months. However, the previous civil service was soon restored. Goan voters went to the polls in a referendum and voted to become an autonomous, federally administered territory. Goa was later admitted Indian statehood in 1987. Goa celebrates \"Liberation Day\"on 19 December every year, which is also a state holiday.', 'id': '13', 'is_supporting': False, 'text': '# History of Goa\\nIndia made many requisitions to the Salazar regime of Portugal to grant their Indian colonies independence, but when that failed, on 18 December 1961, Indian troops crossed the border into Goa and \"liberated\"it. Operation Vijay involved sustained land, sea and air strikes for more than thirty - six hours; it resulted in the unconditional surrender of Portuguese forces on 19 December. A United Nations resolution \"condemning\" the invasion was proposed by the United States and the United Kingdom in the United Nations Security Council, but would be vetoed by the USSR. The territory of Goa was under military rule for five months. However, the previous civil service was soon restored. Goan voters went to the polls in a referendum and voted to become an autonomous, federally administered territory. Goa was later admitted Indian statehood in 1987. Goa celebrates \"Liberation Day\"on 19 December every year, which is also a state holiday.', 'title': 'History of Goa'}, {'body': 'A bill to accord national recognition of the holiday was introduced in Congress in 1913. In 1916, President Woodrow Wilson went to Spokane to speak at a Father\\'s Day celebration and he wanted to make it an officially recognized federal holiday, but Congress resisted, fearing that it would become commercialized. US President Calvin Coolidge recommended in 1924 that the day be observed throughout the entire nation, but he stopped short at issuing a national proclamation. Two earlier attempts to formally recognize the holiday had been defeated by Congress. In 1957, Maine Senator Margaret Chase Smith wrote a Father\\'s Day proposal accusing Congress of ignoring fathers for 40 years while honoring mothers, thus \"(singling) out just one of our two parents\". In 1966, President Lyndon B. Johnson issued the first presidential proclamation honoring fathers, designating the third Sunday in June as Father\\'s Day. Six years later, the day was made a permanent national holiday when President Richard Nixon signed it into law in 1972.', 'id': '14', 'is_supporting': True, 'text': '# Father\\'s Day\\nA bill to accord national recognition of the holiday was introduced in Congress in 1913. In 1916, President Woodrow Wilson went to Spokane to speak at a Father\\'s Day celebration and he wanted to make it an officially recognized federal holiday, but Congress resisted, fearing that it would become commercialized. US President Calvin Coolidge recommended in 1924 that the day be observed throughout the entire nation, but he stopped short at issuing a national proclamation. Two earlier attempts to formally recognize the holiday had been defeated by Congress. In 1957, Maine Senator Margaret Chase Smith wrote a Father\\'s Day proposal accusing Congress of ignoring fathers for 40 years while honoring mothers, thus \"(singling) out just one of our two parents\". In 1966, President Lyndon B. Johnson issued the first presidential proclamation honoring fathers, designating the third Sunday in June as Father\\'s Day. Six years later, the day was made a permanent national holiday when President Richard Nixon signed it into law in 1972.', 'title': \"Father's Day\"}, {'body': \"In the Philippines, Father's Day is officially celebrated every first Monday of December, but it is not a public holiday. It is more widely observed by the public on the 3rd Sunday of June perhaps due to American influence.\", 'id': '15', 'is_supporting': False, 'text': \"# Father's Day\\nIn the Philippines, Father's Day is officially celebrated every first Monday of December, but it is not a public holiday. It is more widely observed by the public on the 3rd Sunday of June perhaps due to American influence.\", 'title': \"Father's Day\"}, {'body': 'In 1779, July 4 fell on a Sunday. The holiday was celebrated on Monday, July 5. In 1781, the Massachusetts General Court became the first state legislature to recognize July 4 as a state celebration. In 1783, Moravians in Salem, North Carolina, held a celebration of July 4 with a challenging music program assembled by Johann Friedrich Peter. This work was titled The Psalm of Joy. This is recognized as the first recorded celebration and is still celebrated there today. In 1870, the U.S. Congress made Independence Day an unpaid holiday for federal employees. In 1938, Congress changed Independence Day to a paid federal holiday.', 'id': '16', 'is_supporting': False, 'text': '# Independence Day (United States)\\nIn 1779, July 4 fell on a Sunday. The holiday was celebrated on Monday, July 5. In 1781, the Massachusetts General Court became the first state legislature to recognize July 4 as a state celebration. In 1783, Moravians in Salem, North Carolina, held a celebration of July 4 with a challenging music program assembled by Johann Friedrich Peter. This work was titled The Psalm of Joy. This is recognized as the first recorded celebration and is still celebrated there today. In 1870, the U.S. Congress made Independence Day an unpaid holiday for federal employees. In 1938, Congress changed Independence Day to a paid federal holiday.', 'title': 'Independence Day (United States)'}, {'body': 'Vilnius County () is the largest of the 10 counties of Lithuania, located in the east of the country around the city Vilnius. On 1 July 2010, the county administration was abolished, and since that date, Vilnius County remains as the territorial and statistical unit.', 'id': '17', 'is_supporting': False, 'text': '# Vilnius County\\nVilnius County () is the largest of the 10 counties of Lithuania, located in the east of the country around the city Vilnius. On 1 July 2010, the county administration was abolished, and since that date, Vilnius County remains as the territorial and statistical unit.', 'title': 'Vilnius County'}, {'body': 'According to Greek law, every Sunday of the year is a public holiday. In addition, there are four mandatory official public holidays: 25 March (Greek Independence Day), Easter Monday, 15 August (Assumption or Dormition of the Holy Virgin), and 25 December (Christmas). 1 May (Labour Day) and 28 October (Ohi Day) are regulated by law as being optional but it is customary for employees to be given the day off. There are, however, more public holidays celebrated in Greece than are announced by the Ministry of Labour each year as either obligatory or optional. The list of these non-fixed national holidays rarely changes and has not changed in recent decades, giving a total of eleven national holidays each year.', 'id': '18', 'is_supporting': False, 'text': '# Greece\\nAccording to Greek law, every Sunday of the year is a public holiday. In addition, there are four mandatory official public holidays: 25 March (Greek Independence Day), Easter Monday, 15 August (Assumption or Dormition of the Holy Virgin), and 25 December (Christmas). 1 May (Labour Day) and 28 October (Ohi Day) are regulated by law as being optional but it is customary for employees to be given the day off. There are, however, more public holidays celebrated in Greece than are announced by the Ministry of Labour each year as either obligatory or optional. The list of these non-fixed national holidays rarely changes and has not changed in recent decades, giving a total of eleven national holidays each year.', 'title': 'Greece'}, {'body': \"Administrative Professionals' Day (also known as Secretaries' Day or Admin Day) is a day observed yearly (but not a public holiday). In some countries, it falls within Administrative Professionals' Week (the last full week of April in the United States). The day recognizes the work of secretaries, administrative assistants, receptionists, and other administrative support professionals. Typically administrative professionals are given cards, flowers, chocolates, and lunches.\", 'id': '19', 'is_supporting': False, 'text': \"# Administrative Professionals Day\\nAdministrative Professionals' Day (also known as Secretaries' Day or Admin Day) is a day observed yearly (but not a public holiday). In some countries, it falls within Administrative Professionals' Week (the last full week of April in the United States). The day recognizes the work of secretaries, administrative assistants, receptionists, and other administrative support professionals. Typically administrative professionals are given cards, flowers, chocolates, and lunches.\", 'title': 'Administrative Professionals Day'}], 'supporting_ids': ['5', '7', '14'], 'n_hops': 3}) (input_keys={'question', 'docs'})"
      ]
     },
     "execution_count": 9,
     "metadata": {},
     "output_type": "execute_result"
    }
   ],
   "source": [
    "example = train_ds[0]\n",
    "example"
   ]
  },
  {
   "cell_type": "code",
   "execution_count": 10,
   "id": "fd58c5ed",
   "metadata": {},
   "outputs": [
    {
     "data": {
      "text/plain": [
       "Prediction(\n",
       "    answer='Washington County, Kansas.',\n",
       "    collected_info=[KeyInformation(info=\"President Richard Nixon signed the bill making Father's Day a permanent national holiday in 1972.\", source_doc_id='14'), KeyInformation(info=\"President Richard Nixon signed the bill making Father's Day a permanent national holiday in 1972.\", source_doc_id='8'), KeyInformation(info='Washington is the county seat of Washington County, Kansas.', source_doc_id='7')],\n",
       "    retrieved_doc_ids=['14', '8', '7', '3', '5'],\n",
       "    citations=['7'],\n",
       "    n_turns=5\n",
       ")"
      ]
     },
     "execution_count": 10,
     "metadata": {},
     "output_type": "execute_result"
    },
    {
     "data": {
      "text/html": [
       "\n",
       "<div>\n",
       "  <style scoped>\n",
       "  button {\n",
       "    border: none;\n",
       "    border-radius: 4px;\n",
       "    background-color: rgb(34, 114, 180);\n",
       "    font-family: -apple-system, \"system-ui\", \"Segoe UI\", Roboto, \"Helvetica Neue\", Arial;\n",
       "    font-size: 13px;\n",
       "    color: white;\n",
       "    margin-top: 8px;\n",
       "    margin-bottom: 8px;\n",
       "    padding: 8px 16px;\n",
       "    cursor: pointer;\n",
       "  }\n",
       "  button:hover {\n",
       "    background-color: rgb(66, 153, 224);\n",
       "  }\n",
       "  </style>\n",
       "  <button\n",
       "    onclick=\"\n",
       "        const display = this.nextElementSibling.style.display;\n",
       "        const isCollapsed = display === 'none';\n",
       "        this.nextElementSibling.style.display = isCollapsed ? null : 'none';\n",
       "\n",
       "        const verb = isCollapsed ? 'Collapse' : 'Expand';\n",
       "        this.innerText = `${verb} MLflow Trace`;\n",
       "    \"\n",
       "  >Collapse MLflow Trace</button>\n",
       "  <iframe\n",
       "    id=\"trace-renderer\"\n",
       "    style=\"width: 100%; height: 500px; border: none; resize: vertical;\"\n",
       "    src=\"http://localhost:5005/static-files/lib/notebook-trace-renderer/index.html?trace_id=tr-32fead41ea23ffbbf6a63af88e0e09f5&amp;experiment_id=1&amp;version=3.4.0\"\n",
       "  />\n",
       "</div>\n"
      ],
      "text/plain": [
       "Trace(trace_id=tr-32fead41ea23ffbbf6a63af88e0e09f5)"
      ]
     },
     "metadata": {},
     "output_type": "display_data"
    }
   ],
   "source": [
    "pred = program(example.question, example.docs)\n",
    "pred"
   ]
  },
  {
   "cell_type": "code",
   "execution_count": 11,
   "id": "d9e58239",
   "metadata": {},
   "outputs": [],
   "source": [
    "from rlvr.dspy.mhqa.metrics import metric"
   ]
  },
  {
   "cell_type": "code",
   "execution_count": 12,
   "id": "0115e6b3",
   "metadata": {},
   "outputs": [
    {
     "data": {
      "text/plain": [
       "0.7389189189189189"
      ]
     },
     "execution_count": 12,
     "metadata": {},
     "output_type": "execute_result"
    }
   ],
   "source": [
    "metric(example, pred)"
   ]
  },
  {
   "cell_type": "code",
   "execution_count": 13,
   "id": "79664e96",
   "metadata": {},
   "outputs": [
    {
     "name": "stdout",
     "output_type": "stream",
     "text": [
      "📊 Evaluating ORIGINAL program...\n",
      "Average Metric: 32.62 / 50 (65.2%): 100%|████████████████████████████████████████████████████████████████████████████████████████████████████████████| 50/50 [01:37<00:00,  1.95s/it]"
     ]
    },
    {
     "name": "stderr",
     "output_type": "stream",
     "text": [
      "2025/10/03 17:48:41 INFO dspy.evaluate.evaluate: Average Metric: 32.61968893468664 / 50 (65.2%)\n"
     ]
    },
    {
     "name": "stdout",
     "output_type": "stream",
     "text": [
      "\n",
      "🏃 View run eval at: http://localhost:5005/#/experiments/1/runs/a899584fa46e497c90e69a89e7afbed5\n",
      "🧪 View experiment at: http://localhost:5005/#/experiments/1\n"
     ]
    },
    {
     "data": {
      "text/html": [
       "\n",
       "<div>\n",
       "  <style scoped>\n",
       "  button {\n",
       "    border: none;\n",
       "    border-radius: 4px;\n",
       "    background-color: rgb(34, 114, 180);\n",
       "    font-family: -apple-system, \"system-ui\", \"Segoe UI\", Roboto, \"Helvetica Neue\", Arial;\n",
       "    font-size: 13px;\n",
       "    color: white;\n",
       "    margin-top: 8px;\n",
       "    margin-bottom: 8px;\n",
       "    padding: 8px 16px;\n",
       "    cursor: pointer;\n",
       "  }\n",
       "  button:hover {\n",
       "    background-color: rgb(66, 153, 224);\n",
       "  }\n",
       "  </style>\n",
       "  <button\n",
       "    onclick=\"\n",
       "        const display = this.nextElementSibling.style.display;\n",
       "        const isCollapsed = display === 'none';\n",
       "        this.nextElementSibling.style.display = isCollapsed ? null : 'none';\n",
       "\n",
       "        const verb = isCollapsed ? 'Collapse' : 'Expand';\n",
       "        this.innerText = `${verb} MLflow Trace`;\n",
       "    \"\n",
       "  >Collapse MLflow Trace</button>\n",
       "  <iframe\n",
       "    id=\"trace-renderer\"\n",
       "    style=\"width: 100%; height: 500px; border: none; resize: vertical;\"\n",
       "    src=\"http://localhost:5005/static-files/lib/notebook-trace-renderer/index.html?trace_id=tr-ff07ff644edd5c4fcbf1d83a5a1904b3&amp;experiment_id=1&amp;trace_id=tr-e9f88581ab76d46038816e22623cf053&amp;experiment_id=1&amp;trace_id=tr-57a65ce2e9c604465e43535860594585&amp;experiment_id=1&amp;trace_id=tr-c9518df5f3ad3e850de268c1303b6d7a&amp;experiment_id=1&amp;trace_id=tr-6b4122e5f7ecd0cb054fe84ee9fa7869&amp;experiment_id=1&amp;trace_id=tr-3f334bb0389211aacc5e090d22532855&amp;experiment_id=1&amp;trace_id=tr-fe1d5c76461fd946e4ba6924ae3e579d&amp;experiment_id=1&amp;trace_id=tr-d1ff50fc6244ca5dfbafbc4cb678efb6&amp;experiment_id=1&amp;trace_id=tr-7d95d4597d00fdbbbaf38a6b37c6d2fd&amp;experiment_id=1&amp;trace_id=tr-ebbf5666bff98b3f4c6144eb943a4641&amp;experiment_id=1&amp;version=3.4.0\"\n",
       "  />\n",
       "</div>\n"
      ],
      "text/plain": [
       "[Trace(trace_id=tr-ff07ff644edd5c4fcbf1d83a5a1904b3), Trace(trace_id=tr-e9f88581ab76d46038816e22623cf053), Trace(trace_id=tr-57a65ce2e9c604465e43535860594585), Trace(trace_id=tr-c9518df5f3ad3e850de268c1303b6d7a), Trace(trace_id=tr-6b4122e5f7ecd0cb054fe84ee9fa7869), Trace(trace_id=tr-3f334bb0389211aacc5e090d22532855), Trace(trace_id=tr-fe1d5c76461fd946e4ba6924ae3e579d), Trace(trace_id=tr-d1ff50fc6244ca5dfbafbc4cb678efb6), Trace(trace_id=tr-7d95d4597d00fdbbbaf38a6b37c6d2fd), Trace(trace_id=tr-ebbf5666bff98b3f4c6144eb943a4641)]"
      ]
     },
     "metadata": {},
     "output_type": "display_data"
    }
   ],
   "source": [
    "# Evaluate original program\n",
    "print(\"📊 Evaluating ORIGINAL program...\")\n",
    "original_evaluate = dspy.Evaluate(\n",
    "    devset=test_ds,\n",
    "    metric=metric,\n",
    "    num_threads=16,\n",
    "    display_table=False,\n",
    "    display_progress=True\n",
    ")\n",
    "original_eval_result = original_evaluate(program)"
   ]
  },
  {
   "cell_type": "code",
   "execution_count": 14,
   "id": "277877a6-cc64-440c-9be7-95c2000ac1b6",
   "metadata": {},
   "outputs": [],
   "source": [
    "# raise ValueError()"
   ]
  },
  {
   "cell_type": "markdown",
   "id": "36d7f427",
   "metadata": {},
   "source": [
    "## GEPA Optimization\n",
    "\n",
    "GEPA is a reflective prompt optimizer that uses textual feedback to improve performance. We'll create feedback functions for each evaluation aspect and optimize our multi-hop QA program.\n"
   ]
  },
  {
   "cell_type": "code",
   "execution_count": 15,
   "id": "8212c8d6",
   "metadata": {},
   "outputs": [],
   "source": [
    "from rlvr.dspy.mhqa.feedback_metrics import metric_with_feedback"
   ]
  },
  {
   "cell_type": "code",
   "execution_count": 16,
   "id": "4450236f",
   "metadata": {},
   "outputs": [
    {
     "name": "stdout",
     "output_type": "stream",
     "text": [
      "Score: 0.739\n",
      "Feedback: Overall performance breakdown:\n",
      "- Answer F1 Score: Good partial match (F1: 0.80). Your answer contains relevant information but could be more complete or precise. Consider including more specific details from the retrieved documents.\n",
      "- Retrieval Recall: Perfect retrieval! You found all 3 supporting documents: ['14', '5', '7']\n",
      "- Retrieval Precision: Moderate precision (precision: 0.60). Only 3 out of 5 retrieved documents are relevant. Many irrelevant docs retrieved: ['3', '8']. Your search queries are too broad - focus on more specific terms and entities.\n",
      "- Citations F1 Score: Good citations (F1: 0.50). Correct: ['7']. Missing: ['14', '5']. Be more precise about which documents actually support your answer.\n",
      "- Hop Efficiency: Moderate efficiency (penalty: 0.64). You took 5 turns vs reference 3 hops. Your retrieval queries may be too specific or missing key entities. Try broader, more comprehensive initial searches.\n"
     ]
    }
   ],
   "source": [
    "# Test the feedback metric on our example\n",
    "feedback_result = metric_with_feedback(example, pred)\n",
    "print(f\"Score: {feedback_result.score:.3f}\")\n",
    "print(f\"Feedback: {feedback_result.feedback}\")\n"
   ]
  },
  {
   "cell_type": "code",
   "execution_count": 17,
   "id": "6f0150cd",
   "metadata": {},
   "outputs": [
    {
     "name": "stdout",
     "output_type": "stream",
     "text": [
      "✅ GEPA optimizer configured\n"
     ]
    }
   ],
   "source": [
    "from dspy import GEPA\n",
    "\n",
    "# Set up GEPA optimizer with reflection LM for optimization\n",
    "optimizer = GEPA(\n",
    "    metric=metric_with_feedback,\n",
    "    auto=\"light\",  # Use light budget for faster experimentation. Use \"heavy\" for best performance\n",
    "    num_threads=16,\n",
    "    track_stats=True,\n",
    "    use_merge=False,\n",
    "    reflection_lm=reflection_lm  \n",
    ")\n",
    "\n",
    "print(\"✅ GEPA optimizer configured\")"
   ]
  },
  {
   "cell_type": "code",
   "execution_count": null,
   "id": "dad84068",
   "metadata": {
    "scrolled": true
   },
   "outputs": [
    {
     "name": "stderr",
     "output_type": "stream",
     "text": [
      "2025/10/03 17:48:42 INFO mlflow.utils.autologging_utils: Created MLflow autologging run with ID 'cc25b43752d045cc89b5dfdce780ed02', which will track hyperparameters, performance metrics, model artifacts, and lineage information for the current dspy workflow\n",
      "2025/10/03 17:48:42 INFO dspy.teleprompt.gepa.gepa: Running GEPA for approx 2065 metric calls of the program. This amounts to 6.88 full evals on the train+val set.\n",
      "2025/10/03 17:48:42 INFO dspy.teleprompt.gepa.gepa: Using 60 examples for tracking Pareto scores. You can consider using a smaller sample of the valset to allow GEPA to explore more diverse solutions within the same budget.\n"
     ]
    },
    {
     "name": "stdout",
     "output_type": "stream",
     "text": [
      "🚀 Starting GEPA optimization...\n"
     ]
    },
    {
     "name": "stderr",
     "output_type": "stream",
     "text": [
      "GEPA Optimization:   0%|                                                                                                                              | 0/2065 [00:00<?, ?rollouts/s]2025/10/03 17:51:24 INFO dspy.evaluate.evaluate: Average Metric: 36.27238962477294 / 60 (60.5%)\n"
     ]
    },
    {
     "name": "stdout",
     "output_type": "stream",
     "text": [
      "🏃 View run eval_0 at: http://localhost:5005/#/experiments/1/runs/c98283f27394440dba15b7184f9cdf9c\n",
      "🧪 View experiment at: http://localhost:5005/#/experiments/1\n"
     ]
    },
    {
     "name": "stderr",
     "output_type": "stream",
     "text": [
      "2025/10/03 17:51:24 INFO dspy.teleprompt.gepa.gepa: Iteration 0: Base program full valset score: 0.6045398270795489\n",
      "GEPA Optimization:   3%|███▎                                                                                                               | 60/2065 [02:42<1:30:35,  2.71s/rollouts]2025/10/03 17:51:24 INFO dspy.teleprompt.gepa.gepa: Iteration 1: Selected program 0 score: 0.6045398270795489\n"
     ]
    },
    {
     "name": "stdout",
     "output_type": "stream",
     "text": [
      "Average Metric: 1.56 / 3 (51.9%): 100%|████████████████████████████████████████████████████████████████████████████████████████████████████████████████| 3/3 [00:23<00:00,  8.00s/it]"
     ]
    },
    {
     "name": "stderr",
     "output_type": "stream",
     "text": [
      "2025/10/03 17:51:49 INFO dspy.evaluate.evaluate: Average Metric: 1.5559353471118178 / 3 (51.9%)\n"
     ]
    },
    {
     "name": "stdout",
     "output_type": "stream",
     "text": [
      "\n",
      "🏃 View run eval_1 at: http://localhost:5005/#/experiments/1/runs/9d5fe4ef39554e8ebeaf37c275657891\n",
      "🧪 View experiment at: http://localhost:5005/#/experiments/1\n"
     ]
    },
    {
     "name": "stderr",
     "output_type": "stream",
     "text": [
      "2025/10/03 17:52:18 INFO dspy.teleprompt.gepa.gepa: Iteration 1: Proposed new text for generate_query.predict: You are an expert at decomposing complex, multi-hop questions and formulating precise search queries to answer them step-by-step.\n",
      "\n",
      "Your task is to generate the next search query to find a missing piece of information needed to answer a given question, based on the information collected so far.\n",
      "\n",
      "Follow these steps:\n",
      "1.  **Decompose the Question:** First, carefully analyze the multi-hop question to understand the chain of entities and relationships. Break down the full question into a logical sequence of smaller, answerable sub-questions.\n",
      "2.  **Formulate a Reasoning Plan:** In the `reasoning` field, articulate your step-by-step plan. Clearly state what information is needed first and how it connects to the subsequent steps. If information has already been collected, use it to determine the next logical sub-question to resolve.\n",
      "3.  **Craft a Precise and Unambiguous Search Query:** This is the most critical step. Your `search_query` must be designed to retrieve the specific fact you need with high precision.\n",
      "    *   **Be Specific:** Do not use generic queries. Instead of asking for a \"capital city with an embassy\", include the unique, disambiguating context from the question. For example, for the question \"...in the capital that encouraged purges against Titoites\", your query should focus on \"capital that encouraged purges against Titoites\", as this is a much more specific identifier.\n",
      "    *   **Focus on Key Entities:** Center your query on the core, unresolved entity (e.g., a person, place, organization, or event) from the current sub-question.\n",
      "    *   **Include Context:** Add just enough context from the original question to disambiguate the entity. For example, instead of just \"John Haviland\", a query like \"John Haviland death location\" is better.\n",
      "4.  **Specify the Number of Results:** For the `top_n` field, specify the number of search results you want to retrieve. For a well-formed, specific query, `1` is often sufficient.\n",
      "\n",
      "Your goal is to create queries that are laser-focused, minimizing the retrieval of irrelevant documents and efficiently moving toward the final answer in as few steps as possible.\n",
      "2025/10/03 17:52:47 INFO dspy.evaluate.evaluate: Average Metric: 1.6325119236883943 / 3 (54.4%)\n"
     ]
    },
    {
     "name": "stdout",
     "output_type": "stream",
     "text": [
      "🏃 View run eval_2 at: http://localhost:5005/#/experiments/1/runs/68f0c0ecbb954f84b1789925ecf499dc\n",
      "🧪 View experiment at: http://localhost:5005/#/experiments/1\n"
     ]
    },
    {
     "name": "stderr",
     "output_type": "stream",
     "text": [
      "2025/10/03 17:55:41 INFO dspy.evaluate.evaluate: Average Metric: 34.48856141540009 / 60 (57.5%)\n"
     ]
    },
    {
     "name": "stdout",
     "output_type": "stream",
     "text": [
      "🏃 View run eval_3 at: http://localhost:5005/#/experiments/1/runs/393e950d615b4e759402bb97e691d785\n",
      "🧪 View experiment at: http://localhost:5005/#/experiments/1\n"
     ]
    },
    {
     "name": "stderr",
     "output_type": "stream",
     "text": [
      "2025/10/03 17:55:41 INFO dspy.teleprompt.gepa.gepa: Iteration 1: Full valset score for new program: 0.5748093569233345\n",
      "2025/10/03 17:55:41 INFO dspy.teleprompt.gepa.gepa: Iteration 1: Full train_val score for new program: 0.5748093569233345\n",
      "2025/10/03 17:55:41 INFO dspy.teleprompt.gepa.gepa: Iteration 1: Individual valset scores for new program: [0.6505945945945946, 0.5632016632016632, 0.5822822822822823, 0.5837837837837838, 0.41366366366366364, 0.4905692926969522, 0.7401719901719902, 0.6801801801801801, 0.39472178060413354, 0.7788697788697788, 0.45063063063063064, 0.5942134442134442, 0.6297297297297297, 0.2581081081081081, 0.16216216216216214, 0.6027027027027027, 0.9405405405405405, 0.3256756756756757, 0.9369369369369369, 0.8472385428907168, 0.7972972972972973, 0.7683397683397684, 0.5554054054054054, 0.7198198198198197, 0.6890159390159389, 0.6216216216216215, 0.6426073131955484, 0.617117117117117, 0.6342342342342342, 0.7033616473616474, 0.5875315315315315, 0.8310810810810811, 0.4472972972972973, 0.6671990171990172, 0.2905405405405405, 0.8108108108108107, 0.8153153153153153, 0.3256756756756757, 1.0, 0.12306706706706708, 0.49567567567567566, 0.6222651222651222, 0.3414414414414414, 0.9369369369369369, 0.6891891891891891, 0.9369369369369369, 0.36718146718146716, 0.545045045045045, 0.33978378378378377, 0.4045045045045045, 0.6599508599508599, 0.32, 0.6335135135135135, 0.4013513513513513, 0.7615262321144673, 0.4614054054054054, 0.3864864864864864, 0.08302702702702705, 0.4892406692406692, 0.33978378378378377]\n",
      "2025/10/03 17:55:41 INFO dspy.teleprompt.gepa.gepa: Iteration 1: New valset pareto front scores: [0.7297297297297297, 0.675061425061425, 0.5822822822822823, 0.5837837837837838, 0.5691268191268192, 0.609079209079209, 0.7649467649467648, 0.6801801801801801, 0.6373580557301487, 0.7788697788697788, 0.554054054054054, 0.623123123123123, 0.7072072072072072, 0.7625482625482626, 0.509009009009009, 0.6027027027027027, 0.9405405405405405, 0.5311432121776949, 0.9549549549549549, 0.8472385428907168, 0.7972972972972973, 0.7683397683397684, 0.6882882882882883, 0.7198198198198197, 0.6890159390159389, 0.6216216216216215, 0.6426073131955484, 0.617117117117117, 0.6342342342342342, 0.705019305019305, 0.5875315315315315, 1.0, 0.48108108108108105, 0.6671990171990172, 0.4495495495495495, 0.8108108108108107, 0.8153153153153153, 0.4472972972972973, 1.0, 0.16024710424710428, 0.5281774081774081, 0.6222651222651222, 0.4765765765765766, 0.9369369369369369, 0.6891891891891891, 0.9369369369369369, 0.5222651222651222, 0.545045045045045, 0.33978378378378377, 0.5387387387387387, 0.6599508599508599, 0.8828828828828829, 0.6335135135135135, 0.5013513513513513, 0.7615262321144673, 0.5531531531531532, 0.6346238130021914, 0.5112612612612613, 0.5522522522522523, 0.7747747747747747]\n",
      "2025/10/03 17:55:41 INFO dspy.teleprompt.gepa.gepa: Iteration 1: Full valset pareto front score: 0.6591089500525099\n",
      "2025/10/03 17:55:41 INFO dspy.teleprompt.gepa.gepa: Iteration 1: Updated valset pareto front programs: [{0}, {0}, {1}, {1}, {0}, {0}, {0}, {1}, {0}, {1}, {0}, {0}, {0}, {0}, {0}, {1}, {1}, {0}, {0}, {1}, {1}, {1}, {0}, {1}, {1}, {1}, {1}, {1}, {1}, {0}, {1}, {0}, {0}, {1}, {0}, {1}, {1}, {0}, {1}, {0}, {0}, {0, 1}, {0}, {1}, {1}, {1}, {0}, {1}, {1}, {0}, {0, 1}, {0}, {1}, {0}, {1}, {0}, {0}, {0}, {0}, {0}]\n",
      "2025/10/03 17:55:41 INFO dspy.teleprompt.gepa.gepa: Iteration 1: Best valset aggregate score so far: 0.6045398270795489\n",
      "2025/10/03 17:55:41 INFO dspy.teleprompt.gepa.gepa: Iteration 1: Best program as per aggregate score on train_val: 0\n",
      "2025/10/03 17:55:41 INFO dspy.teleprompt.gepa.gepa: Iteration 1: Best program as per aggregate score on valset: 0\n",
      "2025/10/03 17:55:41 INFO dspy.teleprompt.gepa.gepa: Iteration 1: Best score on valset: 0.6045398270795489\n",
      "2025/10/03 17:55:41 INFO dspy.teleprompt.gepa.gepa: Iteration 1: Best score on train_val: 0.6045398270795489\n",
      "2025/10/03 17:55:41 INFO dspy.teleprompt.gepa.gepa: Iteration 1: Linear pareto front program index: 0\n",
      "2025/10/03 17:55:41 INFO dspy.teleprompt.gepa.gepa: Iteration 1: New program candidate index: 1\n",
      "GEPA Optimization:   6%|██████▉                                                                                                           | 126/2065 [06:59<1:50:55,  3.43s/rollouts]2025/10/03 17:55:41 INFO dspy.teleprompt.gepa.gepa: Iteration 2: Selected program 1 score: 0.5748093569233345\n"
     ]
    },
    {
     "name": "stdout",
     "output_type": "stream",
     "text": [
      "Average Metric: 1.92 / 3 (64.0%): 100%|████████████████████████████████████████████████████████████████████████████████████████████████████████████████| 3/3 [01:01<00:00, 20.44s/it]"
     ]
    },
    {
     "name": "stderr",
     "output_type": "stream",
     "text": [
      "2025/10/03 17:56:43 INFO dspy.evaluate.evaluate: Average Metric: 1.9196138996138994 / 3 (64.0%)\n"
     ]
    },
    {
     "name": "stdout",
     "output_type": "stream",
     "text": [
      "\n",
      "🏃 View run eval_4 at: http://localhost:5005/#/experiments/1/runs/c5858faca4824d15991805006b04a6a4\n",
      "🧪 View experiment at: http://localhost:5005/#/experiments/1\n"
     ]
    },
    {
     "name": "stderr",
     "output_type": "stream",
     "text": [
      "2025/10/03 17:57:21 INFO dspy.teleprompt.gepa.gepa: Iteration 2: Proposed new text for extract_info.predict: You are a specialized information extraction component in a larger, multi-step question-answering system. Your task is to analyze a complex question and a single retrieved document, and then extract the key pieces of information from that document that are directly relevant to answering the question.\n",
      "\n",
      "Your primary goal is to find the \"next link in the chain\" of reasoning. The information you extract will be used to perform another search or to assemble the final answer.\n",
      "\n",
      "### Instructions:\n",
      "\n",
      "1.  **Analyze the Question**: First, break down the question to understand the core entities (people, places, things), relationships (e.g., \"director of\", \"spouse of\", \"born in\"), and specific facts (like dates) it is asking about.\n",
      "\n",
      "2.  **Scan the Document for Connections**: Read the provided document and identify any information that directly matches or relates to the components you identified in the question.\n",
      "\n",
      "3.  **Extract Key Information**: Extract the precise facts, entities, and relationships that serve as a bridge to the next step of answering the question.\n",
      "    *   Focus on extracting information that resolves a part of the question. For example, if the question is about \"the spouse of the person who did X,\" and the document identifies the person who did X as \"Person Y,\" you should extract the fact \"Person Y did X.\"\n",
      "    *   The extracted information must be explicitly stated in the document. Do not infer or use outside knowledge.\n",
      "    *   If the document contains the final answer, extract it. If it only contains an intermediate fact, extract that fact.\n",
      "\n",
      "### What to Avoid:\n",
      "\n",
      "*   **Do not try to answer the full question** if the necessary information is not present in the document. Your role is to extract what *is* there.\n",
      "*   **Do not state that information is missing.** Your output should only be the relevant information you found.\n",
      "*   **Do not extract irrelevant information.** Only pull facts that help answer the given question.\n",
      "\n",
      "### Example Walkthrough:\n",
      "\n",
      "Let's consider the question: \"In which country does the child of Silverado's director hold citizenship?\"\n",
      "\n",
      "*   **Analysis of Question**: We need to find:\n",
      "    1.  The director of \"Silverado\".\n",
      "    2.  The child of that director.\n",
      "    3.  The citizenship of that child.\n",
      "\n",
      "*   **Scenario**: The provided document is a description of the film \"Silverado\" and states, \"Silverado is a 1985 American western film produced and directed by Lawrence Kasdan...\"\n",
      "\n",
      "*   **Correct Extraction**: The document directly answers the first part of our question. The key information that helps us move to the next step is the director's name.\n",
      "    *   **Correct Output**: `[KeyInformation(info=\"The director of the film 'Silverado' is Lawrence Kasdan.\", source_doc_id='...')]`\n",
      "\n",
      "This output is correct because it provides the crucial entity (\"Lawrence Kasdan\") needed for the next retrieval step (e.g., searching for \"Lawrence Kasdan's child's citizenship\").\n",
      "2025/10/03 17:58:16 INFO dspy.evaluate.evaluate: Average Metric: 1.2598198198198198 / 3 (42.0%)\n"
     ]
    },
    {
     "name": "stdout",
     "output_type": "stream",
     "text": [
      "🏃 View run eval_5 at: http://localhost:5005/#/experiments/1/runs/2b693c4f92a04151a1d10cf119e83f24\n",
      "🧪 View experiment at: http://localhost:5005/#/experiments/1\n"
     ]
    },
    {
     "name": "stderr",
     "output_type": "stream",
     "text": [
      "2025/10/03 17:58:17 INFO dspy.teleprompt.gepa.gepa: Iteration 2: New subsample score is not better, skipping\n",
      "GEPA Optimization:   6%|███████▎                                                                                                          | 132/2065 [09:34<2:43:49,  5.09s/rollouts]2025/10/03 17:58:17 INFO dspy.teleprompt.gepa.gepa: Iteration 3: Selected program 0 score: 0.6045398270795489\n"
     ]
    },
    {
     "name": "stdout",
     "output_type": "stream",
     "text": [
      "Average Metric: 2.12 / 3 (70.7%): 100%|████████████████████████████████████████████████████████████████████████████████████████████████████████████████| 3/3 [00:36<00:00, 12.07s/it]"
     ]
    },
    {
     "name": "stderr",
     "output_type": "stream",
     "text": [
      "2025/10/03 17:58:53 INFO dspy.evaluate.evaluate: Average Metric: 2.12040887040887 / 3 (70.7%)\n"
     ]
    },
    {
     "name": "stdout",
     "output_type": "stream",
     "text": [
      "\n",
      "🏃 View run eval_6 at: http://localhost:5005/#/experiments/1/runs/40abc2f2dccd4c1181682bf94d69af7b\n",
      "🧪 View experiment at: http://localhost:5005/#/experiments/1\n"
     ]
    },
    {
     "name": "stderr",
     "output_type": "stream",
     "text": [
      "2025/10/03 17:59:33 INFO dspy.teleprompt.gepa.gepa: Iteration 3: Proposed new text for extract_info.predict: You are an expert information extractor in a multi-step question-answering system. Your task is to meticulously analyze a given question and a set of retrieved documents to extract key pieces of information. These extracted facts are crucial, as they will either directly answer a part of the question or serve as the foundation for a subsequent retrieval or reasoning step.\n",
      "\n",
      "### Core Principles:\n",
      "\n",
      "1.  **Deconstruct the Question:** Before reading the documents, break down the user's question into its fundamental components. Identify all the entities (people, places, organizations), the relationships between them, and the specific data points being requested (e.g., a date, a location, a name, a numerical value).\n",
      "\n",
      "2.  **Extract Atomic and Precise Facts:** Your primary goal is to extract information as specific, concise data points, not as full sentences.\n",
      "    *   **Good Example:** If the question asks for a temperature in Celsius and the text says \"the average high is around 90 °F (32 °C)\", you should extract `32 °C`.\n",
      "    *   **Bad Example:** Do not extract the entire sentence `\"Summers in the state are generally hot and humid, with most of the state averaging a high of around 90 °F (32 °C) during the summer months.\"`\n",
      "\n",
      "3.  **Extract All Relevant Partial Information:** This is the most critical rule. Even if the provided documents do not contain enough information to answer the *entire* question, you **must** extract any facts that address *any part* of the deconstructed question. Do not return an empty result just because one piece of the puzzle is missing. Your output enables the next step.\n",
      "    *   **Scenario:** The question is \"What is the county of the birth city of person X?\". The document states \"Person X was born in City Y.\" but does not mention the county.\n",
      "    *   **Your Action:** You must extract `Person X was born in City Y`. This information is the vital next step.\n",
      "    *   **Scenario:** The question requires linking Entity A -> Entity B -> Entity C. The documents only mention the relationship between Entity B and Entity C.\n",
      "    *   **Your Action:** You must extract the `B -> C` relationship.\n",
      "\n",
      "4.  **Strictly Maintain Relevance:** Only extract information that is directly relevant to the entities and relationships mentioned or implied in the question. If a document discusses an entity that cannot be linked to the question's context, you should ignore it completely.\n",
      "\n",
      "### Output Format:\n",
      "\n",
      "Provide your output as a list of `KeyInformation` objects. Each object must contain:\n",
      "*   `info`: The specific, atomic piece of information you extracted.\n",
      "*   `source_doc_id`: The string ID of the document from which the information was extracted.\n",
      "2025/10/03 18:00:22 INFO dspy.evaluate.evaluate: Average Metric: 2.066354816354816 / 3 (68.9%)\n"
     ]
    },
    {
     "name": "stdout",
     "output_type": "stream",
     "text": [
      "🏃 View run eval_7 at: http://localhost:5005/#/experiments/1/runs/bf1d701cd1a4405fa1280ae0f13dce16\n",
      "🧪 View experiment at: http://localhost:5005/#/experiments/1\n"
     ]
    },
    {
     "name": "stderr",
     "output_type": "stream",
     "text": [
      "2025/10/03 18:00:23 INFO dspy.teleprompt.gepa.gepa: Iteration 3: New subsample score is not better, skipping\n",
      "GEPA Optimization:   7%|███████▌                                                                                                          | 138/2065 [11:40<3:31:54,  6.60s/rollouts]2025/10/03 18:00:23 INFO dspy.teleprompt.gepa.gepa: Iteration 4: Selected program 1 score: 0.5748093569233345\n"
     ]
    },
    {
     "name": "stdout",
     "output_type": "stream",
     "text": [
      "Average Metric: 1.48 / 3 (49.4%): 100%|████████████████████████████████████████████████████████████████████████████████████████████████████████████████| 3/3 [00:36<00:00, 12.13s/it]"
     ]
    },
    {
     "name": "stderr",
     "output_type": "stream",
     "text": [
      "2025/10/03 18:00:59 INFO dspy.evaluate.evaluate: Average Metric: 1.4833818433818433 / 3 (49.4%)\n"
     ]
    },
    {
     "name": "stdout",
     "output_type": "stream",
     "text": [
      "\n",
      "🏃 View run eval_8 at: http://localhost:5005/#/experiments/1/runs/bb79339c281041edaedc4d1c74e4d302\n",
      "🧪 View experiment at: http://localhost:5005/#/experiments/1\n"
     ]
    },
    {
     "name": "stderr",
     "output_type": "stream",
     "text": [
      "2025/10/03 18:01:26 INFO dspy.teleprompt.gepa.gepa: Iteration 4: Proposed new text for decide_info_collect.predict: You are an expert component in a multi-step question-answering system. Your specific role is to act as a gatekeeper. You must determine if the information collected so far is sufficient to answer the user's question completely and accurately.\n",
      "\n",
      "**Task:**\n",
      "Given a `question` and a body of text called `all_information`, you must produce a boolean field `has_collected_enough_info`.\n",
      "\n",
      "**Instructions:**\n",
      "\n",
      "1.  **Deconstruct the Question:** Carefully analyze the `question` to identify every single piece of information required to formulate a final answer. This often involves breaking the question down into a chain of entities and relationships.\n",
      "    *   For example, for the question \"What county neighbors the county that contains the birth city of Anthony Joseph Zerilli?\", you must identify the following required facts:\n",
      "        1.  The birth city of Anthony Joseph Zerilli.\n",
      "        2.  The county where that birth city is located.\n",
      "        3.  The names of the counties that neighbor that county.\n",
      "\n",
      "2.  **Verify Information Availability:** Scrutinize the `all_information` text to see if every required fact you identified in step 1 is explicitly present.\n",
      "    *   You must rely *only* on the text provided in `all_information`. Do not use any external knowledge you might have.\n",
      "    *   Be precise. If the question asks for a size in \"square miles,\" that specific data point must be present. Simply knowing the name of the location is not enough.\n",
      "\n",
      "3.  **Make a Decision:**\n",
      "    *   If **every single required fact** is present in `all_information`, then set `has_collected_enough_info` to `True`.\n",
      "    *   If **even one required fact** is missing from the chain of reasoning, then the information is insufficient. Set `has_collected_enough_info` to `False`.\n",
      "\n",
      "**Examples of Logic:**\n",
      "\n",
      "*   **Example 1:**\n",
      "    *   **Question:** \"What is the size of the continent Marian Cove is located in square miles?\"\n",
      "    *   **Required Facts:** 1) The continent where Marian Cove is located. 2) The size of that continent in square miles.\n",
      "    *   **Analysis:** The provided information states Marian Cove is in Antarctica, satisfying the first requirement. However, it does not state the size of Antarctica.\n",
      "    *   **Conclusion:** A required fact is missing. Therefore, `has_collected_enough_info` is `False`.\n",
      "\n",
      "*   **Example 2:**\n",
      "    *   **Question:** \"Who is the Chief of Police of the city where the performer of Happiness died?\"\n",
      "    *   **Required Facts:** 1) The performer of the song \"Happiness\". 2) The city where that performer died. 3) The name of the Chief of Police for that city.\n",
      "    *   **Analysis:** The provided information identifies the performer as Elliott Smith. However, it does not mention where he died or who the Chief of Police was.\n",
      "    *   **Conclusion:** Multiple required facts are missing. Therefore, `has_collected_enough_info` is `False`.\n",
      "2025/10/03 18:02:02 INFO dspy.evaluate.evaluate: Average Metric: 1.4725710325710324 / 3 (49.1%)\n"
     ]
    },
    {
     "name": "stdout",
     "output_type": "stream",
     "text": [
      "🏃 View run eval_9 at: http://localhost:5005/#/experiments/1/runs/ea8f8d1e70464a95ac81dffbaa80fa82\n",
      "🧪 View experiment at: http://localhost:5005/#/experiments/1\n"
     ]
    },
    {
     "name": "stderr",
     "output_type": "stream",
     "text": [
      "2025/10/03 18:02:03 INFO dspy.teleprompt.gepa.gepa: Iteration 4: New subsample score is not better, skipping\n",
      "GEPA Optimization:   7%|███████▉                                                                                                          | 144/2065 [13:21<4:09:59,  7.81s/rollouts]2025/10/03 18:02:03 INFO dspy.teleprompt.gepa.gepa: Iteration 5: Selected program 1 score: 0.5748093569233345\n"
     ]
    },
    {
     "name": "stdout",
     "output_type": "stream",
     "text": [
      "Average Metric: 1.72 / 3 (57.3%): 100%|████████████████████████████████████████████████████████████████████████████████████████████████████████████████| 3/3 [00:43<00:00, 14.50s/it]"
     ]
    },
    {
     "name": "stderr",
     "output_type": "stream",
     "text": [
      "2025/10/03 18:02:47 INFO dspy.evaluate.evaluate: Average Metric: 1.7177477477477476 / 3 (57.3%)\n"
     ]
    },
    {
     "name": "stdout",
     "output_type": "stream",
     "text": [
      "\n",
      "🏃 View run eval_10 at: http://localhost:5005/#/experiments/1/runs/1aae5f1cd65b49fdb09284fecb9c5f4a\n",
      "🧪 View experiment at: http://localhost:5005/#/experiments/1\n"
     ]
    },
    {
     "name": "stderr",
     "output_type": "stream",
     "text": [
      "2025/10/03 18:03:25 INFO dspy.teleprompt.gepa.gepa: Iteration 5: Proposed new text for generate_answer.predict: You are an expert question-answering assistant. Your task is to answer a multi-hop question based *only* on a provided collection of text snippets (documents). You must provide a concise answer and cite all supporting documents.\n",
      "\n",
      "Follow these steps carefully:\n",
      "\n",
      "1.  **Deconstruct the Question:** First, analyze the multi-hop question to understand the chain of information required. Break it down into a series of smaller, simpler questions or steps. For example, for the question \"When was the brand opened in the city where the Central Naval Museum was located?\", the steps are:\n",
      "    *   Step A: Find the city where the Central Naval Museum is located.\n",
      "    *   Step B: Find when the brand opened in the city identified in Step A.\n",
      "\n",
      "2.  **Chain the Information:** Go through the provided documents to find the answers for each step of your deconstructed question. You will often need to connect facts from multiple documents to build the full chain of reasoning.\n",
      "\n",
      "3.  **Synthesize a Precise and Direct Answer:**\n",
      "    *   Your final answer must directly and completely address the original question. Do not provide an answer to an intermediate step.\n",
      "    *   Be specific. Use the exact names, dates, numbers, and facts as they appear in the documents. Do not generalize or use outside knowledge.\n",
      "    *   For example, if the question asks \"is what constituent of a supranational organization?\" and the documents state Italy seized Libya and is a member of the European Union, the answer is not just \"Italy\". The correct answer would be \"European Union member state\" or a similar phrase that directly answers the \"what constituent\" part of the question.\n",
      "    *   Similarly, if a question asks for a date of an event in a specific city, provide that specific date (e.g., \"1855\"), not a more general date like the company's founding year.\n",
      "\n",
      "4.  **Provide Comprehensive Citations:**\n",
      "    *   You MUST cite every single document that contains a piece of information you used to arrive at your answer.\n",
      "    *   This includes documents for every link in your reasoning chain. If you use Document [10] to find a location (e.g., St Petersburg) and Document [3] to find an event that happened in that location (e.g., a branch opening in 1855), you must cite both [3, 10].\n",
      "    *   Failing to cite all supporting documents is a critical error.\n",
      "2025/10/03 18:04:22 INFO dspy.evaluate.evaluate: Average Metric: 1.8975800415800415 / 3 (63.3%)\n"
     ]
    },
    {
     "name": "stdout",
     "output_type": "stream",
     "text": [
      "🏃 View run eval_11 at: http://localhost:5005/#/experiments/1/runs/52ff29e783ba433999cf450967421100\n",
      "🧪 View experiment at: http://localhost:5005/#/experiments/1\n"
     ]
    },
    {
     "name": "stderr",
     "output_type": "stream",
     "text": [
      "2025/10/03 18:07:08 INFO dspy.evaluate.evaluate: Average Metric: 35.239508373836955 / 60 (58.7%)\n"
     ]
    },
    {
     "name": "stdout",
     "output_type": "stream",
     "text": [
      "🏃 View run eval_12 at: http://localhost:5005/#/experiments/1/runs/a37bb08cb01c47bfa69260b647e993a6\n",
      "🧪 View experiment at: http://localhost:5005/#/experiments/1\n"
     ]
    },
    {
     "name": "stderr",
     "output_type": "stream",
     "text": [
      "2025/10/03 18:07:09 INFO dspy.teleprompt.gepa.gepa: Iteration 5: Full valset score for new program: 0.5873251395639492\n",
      "2025/10/03 18:07:09 INFO dspy.teleprompt.gepa.gepa: Iteration 5: Full train_val score for new program: 0.5873251395639492\n",
      "2025/10/03 18:07:09 INFO dspy.teleprompt.gepa.gepa: Iteration 5: Individual valset scores for new program: [0.6505945945945946, 0.6108108108108107, 0.3256756756756757, 0.6432432432432432, 0.49699699699699695, 0.5112003895787679, 0.7041359541359541, 0.7747747747747747, 0.6606177606177606, 0.7897897897897898, 0.47297297297297297, 0.6432432432432432, 0.545045045045045, 0.5126126126126126, 0.4135135135135135, 0.4945945945945946, 0.5614250614250613, 0.3256756756756757, 1.0, 0.8472385428907168, 0.7972972972972973, 0.49567567567567566, 0.634029484029484, 0.5524324324324325, 0.5596161378770074, 0.5180180180180181, 0.6594594594594594, 0.3922136422136422, 0.6418918918918919, 0.33978378378378377, 0.4614054054054054, 0.8310810810810811, 0.6342342342342342, 0.7317936117936118, 0.6418918918918919, 0.8108108108108107, 0.536036036036036, 0.4621621621621621, 1.0, 0.6649030206677266, 0.49567567567567566, 0.6222651222651222, 0.3189189189189189, 1.0, 0.654054054054054, 0.7581792318634424, 0.545045045045045, 0.545045045045045, 0.33978378378378377, 0.3864864864864864, 0.6599508599508599, 0.32, 0.6108108108108107, 0.3256756756756757, 0.6823910969793322, 0.5875315315315315, 0.49009009009009, 0.08302702702702705, 0.5448157248157247, 0.9208648648648649]\n",
      "2025/10/03 18:07:09 INFO dspy.teleprompt.gepa.gepa: Iteration 5: New valset pareto front scores: [0.7297297297297297, 0.675061425061425, 0.5822822822822823, 0.6432432432432432, 0.5691268191268192, 0.609079209079209, 0.7649467649467648, 0.7747747747747747, 0.6606177606177606, 0.7897897897897898, 0.554054054054054, 0.6432432432432432, 0.7072072072072072, 0.7625482625482626, 0.509009009009009, 0.6027027027027027, 0.9405405405405405, 0.5311432121776949, 1.0, 0.8472385428907168, 0.7972972972972973, 0.7683397683397684, 0.6882882882882883, 0.7198198198198197, 0.6890159390159389, 0.6216216216216215, 0.6594594594594594, 0.617117117117117, 0.6418918918918919, 0.705019305019305, 0.5875315315315315, 1.0, 0.6342342342342342, 0.7317936117936118, 0.6418918918918919, 0.8108108108108107, 0.8153153153153153, 0.4621621621621621, 1.0, 0.6649030206677266, 0.5281774081774081, 0.6222651222651222, 0.4765765765765766, 1.0, 0.6891891891891891, 0.9369369369369369, 0.545045045045045, 0.545045045045045, 0.33978378378378377, 0.5387387387387387, 0.6599508599508599, 0.8828828828828829, 0.6335135135135135, 0.5013513513513513, 0.7615262321144673, 0.5875315315315315, 0.6346238130021914, 0.5112612612612613, 0.5522522522522523, 0.9208648648648649]\n",
      "2025/10/03 18:07:09 INFO dspy.teleprompt.gepa.gepa: Iteration 5: Full valset pareto front score: 0.6836728011297674\n",
      "2025/10/03 18:07:09 INFO dspy.teleprompt.gepa.gepa: Iteration 5: Updated valset pareto front programs: [{0}, {0}, {1}, {2}, {0}, {0}, {0}, {2}, {2}, {2}, {0}, {2}, {0}, {0}, {0}, {1}, {1}, {0}, {2}, {1, 2}, {1, 2}, {1}, {0}, {1}, {1}, {1}, {2}, {1}, {2}, {0}, {1}, {0}, {2}, {2}, {2}, {1, 2}, {1}, {2}, {1, 2}, {2}, {0}, {0, 1, 2}, {0}, {2}, {1}, {1}, {2}, {1, 2}, {1, 2}, {0}, {0, 1, 2}, {0}, {1}, {0}, {1}, {2}, {0}, {0}, {0}, {2}]\n",
      "2025/10/03 18:07:09 INFO dspy.teleprompt.gepa.gepa: Iteration 5: Best valset aggregate score so far: 0.6045398270795489\n",
      "2025/10/03 18:07:09 INFO dspy.teleprompt.gepa.gepa: Iteration 5: Best program as per aggregate score on train_val: 0\n",
      "2025/10/03 18:07:09 INFO dspy.teleprompt.gepa.gepa: Iteration 5: Best program as per aggregate score on valset: 0\n",
      "2025/10/03 18:07:09 INFO dspy.teleprompt.gepa.gepa: Iteration 5: Best score on valset: 0.6045398270795489\n",
      "2025/10/03 18:07:09 INFO dspy.teleprompt.gepa.gepa: Iteration 5: Best score on train_val: 0.6045398270795489\n",
      "2025/10/03 18:07:09 INFO dspy.teleprompt.gepa.gepa: Iteration 5: Linear pareto front program index: 0\n",
      "2025/10/03 18:07:09 INFO dspy.teleprompt.gepa.gepa: Iteration 5: New program candidate index: 2\n",
      "GEPA Optimization:  10%|███████████▌                                                                                                      | 210/2065 [18:26<2:57:18,  5.73s/rollouts]2025/10/03 18:07:09 INFO dspy.teleprompt.gepa.gepa: Iteration 6: Selected program 0 score: 0.6045398270795489\n"
     ]
    },
    {
     "name": "stdout",
     "output_type": "stream",
     "text": [
      "Average Metric: 1.89 / 3 (63.0%): 100%|████████████████████████████████████████████████████████████████████████████████████████████████████████████████| 3/3 [00:50<00:00, 16.99s/it]"
     ]
    },
    {
     "name": "stderr",
     "output_type": "stream",
     "text": [
      "2025/10/03 18:08:00 INFO dspy.evaluate.evaluate: Average Metric: 1.8911911911911912 / 3 (63.0%)\n"
     ]
    },
    {
     "name": "stdout",
     "output_type": "stream",
     "text": [
      "\n",
      "🏃 View run eval_13 at: http://localhost:5005/#/experiments/1/runs/cdbaccec2eda4af99a024f4d41c1741f\n",
      "🧪 View experiment at: http://localhost:5005/#/experiments/1\n"
     ]
    },
    {
     "name": "stderr",
     "output_type": "stream",
     "text": [
      "2025/10/03 18:08:32 INFO dspy.teleprompt.gepa.gepa: Iteration 6: Proposed new text for decide_info_collect.predict: Your task is to act as a verifier. You will be given a `question` and a collection of text snippets called `all_information`. Your goal is to determine if the `all_information` contains every single piece of data required to construct a definitive and complete answer to the `question`.\n",
      "\n",
      "You must produce one output field:\n",
      "- `has_collected_enough_info`: A boolean (`True` or `False`).\n",
      "\n",
      "To accomplish this, follow this process:\n",
      "\n",
      "1.  **Deconstruct the Question:** Break down the `question` into a chain of smaller, essential facts that must be known to arrive at the final answer. Identify all the entities (people, places, things) and the relationships between them.\n",
      "\n",
      "2.  **Verify Each Fact:** For each essential fact identified in step 1, meticulously check if it is explicitly stated in the `all_information` snippets.\n",
      "\n",
      "3.  **Assess for Completeness:**\n",
      "    *   If **every single fact** in your chain is present in `all_information`, and you could write the final answer using ONLY the provided text, then `has_collected_enough_info` is `True`.\n",
      "    *   If **even one piece of information** is missing, ambiguous, or insufficient, then `has_collected_enough_info` is `False`.\n",
      "\n",
      "**Crucial Rules:**\n",
      "\n",
      "*   **No External Knowledge:** Your decision must be based exclusively on the text provided in `all_information`. Do not use any prior knowledge or make assumptions to fill in gaps.\n",
      "*   **Check for Required Calculations:** If the question requires a calculation or a unit conversion (e.g., from square kilometers to square miles), the information is only sufficient if the necessary conversion factor or formula is also present within `all_information`. If it is not, you do not have enough information.\n",
      "*   **Check for Specificity:** The information must be specific enough to answer the question. For example, if the question asks for \"Sue Simmons's birth city,\" finding only her birth date or birth country is insufficient.\n",
      "\n",
      "**Example Scenario:**\n",
      "\n",
      "For the question: \"The nation providing the most legal immigrants to Sue Simmons's birth city has what size in square miles?\"\n",
      "\n",
      "You would need to find ALL of the following in `all_information`:\n",
      "1.  The name of Sue Simmons's birth city.\n",
      "2.  The name of the nation that provides the most legal immigrants to that specific city.\n",
      "3.  The size of that nation.\n",
      "4.  The size must either be given in square miles or a conversion rate from another unit (e.g., km²) to square miles must be provided.\n",
      "\n",
      "If any of these four pieces of information is missing, `has_collected_enough_info` must be `False`.\n",
      "2025/10/03 18:09:23 INFO dspy.evaluate.evaluate: Average Metric: 1.805155155155155 / 3 (60.2%)\n"
     ]
    },
    {
     "name": "stdout",
     "output_type": "stream",
     "text": [
      "🏃 View run eval_14 at: http://localhost:5005/#/experiments/1/runs/02499d324be74c93a8c6f70293244d71\n",
      "🧪 View experiment at: http://localhost:5005/#/experiments/1\n"
     ]
    },
    {
     "name": "stderr",
     "output_type": "stream",
     "text": [
      "2025/10/03 18:09:23 INFO dspy.teleprompt.gepa.gepa: Iteration 6: New subsample score is not better, skipping\n",
      "GEPA Optimization:  10%|███████████▉                                                                                                      | 216/2065 [20:41<3:36:56,  7.04s/rollouts]2025/10/03 18:09:23 INFO dspy.teleprompt.gepa.gepa: Iteration 7: Selected program 1 score: 0.5748093569233345\n"
     ]
    },
    {
     "name": "stdout",
     "output_type": "stream",
     "text": [
      "Average Metric: 1.96 / 3 (65.4%): 100%|████████████████████████████████████████████████████████████████████████████████████████████████████████████████| 3/3 [01:13<00:00, 24.55s/it]"
     ]
    },
    {
     "name": "stderr",
     "output_type": "stream",
     "text": [
      "2025/10/03 18:10:37 INFO dspy.evaluate.evaluate: Average Metric: 1.9614718614718614 / 3 (65.4%)\n"
     ]
    },
    {
     "name": "stdout",
     "output_type": "stream",
     "text": [
      "\n",
      "🏃 View run eval_15 at: http://localhost:5005/#/experiments/1/runs/f859d1e93a84483d8ae3109a99a81225\n",
      "🧪 View experiment at: http://localhost:5005/#/experiments/1\n"
     ]
    },
    {
     "name": "stderr",
     "output_type": "stream",
     "text": [
      "2025/10/03 18:11:11 INFO dspy.teleprompt.gepa.gepa: Iteration 7: Proposed new text for generate_query.predict: You are an expert search query strategist for a multi-hop question-answering system. Your task is to generate the single *next* search query required to continue the process of answering a complex question, based on the information gathered so far.\n",
      "\n",
      "Your primary goal is to reach the final answer in the fewest steps possible. This requires a balance between creating highly precise queries and, when possible, combining multiple logical steps into a single, efficient query.\n",
      "\n",
      "Follow these steps to generate your response:\n",
      "\n",
      "1.  **Decompose the Question:** First, analyze the full multi-hop question. Identify the chain of entities and the relationships between them. Mentally break down the question into a sequence of smaller, dependent sub-questions. For example, for the question \"What is the population of the city where the director of film X was born?\", the sub-questions are:\n",
      "    *   Who is the director of film X?\n",
      "    *   Where was that director born?\n",
      "    *   What is the population of that city?\n",
      "\n",
      "2.  **Formulate a Reasoning Plan:** In the `reasoning` field, articulate your step-by-step plan.\n",
      "    *   Start by acknowledging the information already available in `collected_info`.\n",
      "    *   Use this information to determine the immediate next sub-question that needs to be answered.\n",
      "    *   Clearly state what piece of information you are targeting with your next query and how it fits into the overall plan.\n",
      "\n",
      "3.  **Craft a Precise and Efficient Search Query:** This is the most critical step. Your `search_query` must be meticulously designed to retrieve the specific fact you need.\n",
      "\n",
      "    *   **Principle 1: Be Laser-Focused and Specific.** Your query must be unambiguous. Use unique, identifying context from the question to avoid generic results.\n",
      "        *   *Bad Query:* `capital city embassy`\n",
      "        *   *Good Query:* `capital that encouraged purges against Titoites` (This is a much more specific and unique identifier).\n",
      "        *   *Bad Query:* `John Haviland`\n",
      "        *   *Good Query:* `John Haviland death location`\n",
      "\n",
      "    *   **Principle 2: Bridge Multiple Hops for Efficiency.** To minimize the total number of search turns, you should try to resolve multiple, consecutive sub-questions in a single query whenever it is logical and natural to do so.\n",
      "        *   **Example:** For the question about the director of \"Su intimo secreto\" and their country of citizenship, instead of two separate queries (one for the director, one for their citizenship), combine them.\n",
      "            *   *Good Combined Query:* `director of Su intimo secreto and country of citizenship`\n",
      "        *   **Example:** For the question about the science museum in Seville and what it's part of, combine the search for the museum with the search for its parent organization.\n",
      "            *   *Good Combined Query:* `science museum in Seville and its affiliation`\n",
      "        *   This strategy of \"query packing\" is key to reducing the number of steps. Look ahead in your reasoning plan and see if the next two logical steps can be merged.\n",
      "\n",
      "4.  **Specify the Number of Results (`top_n`):** For a well-formed, highly specific query designed to find a single fact, `top_n: 1` is almost always sufficient. This reinforces the goal of precision.\n",
      "2025/10/03 18:12:19 INFO dspy.evaluate.evaluate: Average Metric: 1.9736761840210115 / 3 (65.8%)\n"
     ]
    },
    {
     "name": "stdout",
     "output_type": "stream",
     "text": [
      "🏃 View run eval_16 at: http://localhost:5005/#/experiments/1/runs/e7d142ae97254394b720e5ea16eb8141\n",
      "🧪 View experiment at: http://localhost:5005/#/experiments/1\n"
     ]
    },
    {
     "name": "stderr",
     "output_type": "stream",
     "text": [
      "2025/10/03 18:14:46 INFO dspy.evaluate.evaluate: Average Metric: 35.423241362517004 / 60 (59.0%)\n"
     ]
    },
    {
     "name": "stdout",
     "output_type": "stream",
     "text": [
      "🏃 View run eval_17 at: http://localhost:5005/#/experiments/1/runs/769d6063fdc64a46a51cf301dae0d6e0\n",
      "🧪 View experiment at: http://localhost:5005/#/experiments/1\n"
     ]
    },
    {
     "name": "stderr",
     "output_type": "stream",
     "text": [
      "2025/10/03 18:14:47 INFO dspy.teleprompt.gepa.gepa: Iteration 7: Full valset score for new program: 0.59038735604195\n",
      "2025/10/03 18:14:47 INFO dspy.teleprompt.gepa.gepa: Iteration 7: Full train_val score for new program: 0.59038735604195\n",
      "2025/10/03 18:14:47 INFO dspy.teleprompt.gepa.gepa: Iteration 7: Individual valset scores for new program: [0.7297297297297297, 0.6109530583214794, 0.5822822822822823, 0.4891891891891892, 0.5713790713790714, 0.5939990838295923, 0.7401719901719902, 0.5900900900900901, 0.5236486486486486, 0.7837837837837838, 0.47297297297297297, 0.6081081081081081, 0.7648648648648648, 0.3414414414414414, 0.1297297297297297, 0.5643500643500644, 0.7648648648648648, 0.3256756756756757, 0.9369369369369369, 0.7888601645123384, 0.7972972972972973, 0.6216216216216215, 0.7147340889276372, 0.7297297297297297, 0.6599099099099098, 0.4234234234234234, 0.7189189189189189, 0.43378378378378374, 0.4013513513513513, 0.33978378378378377, 0.5875315315315315, 0.8108108108108107, 0.3864864864864864, 0.6523341523341523, 0.545045045045045, 0.8108108108108107, 0.8153153153153153, 0.7648648648648648, 1.0, 0.8251192368839427, 0.5524324324324325, 0.6222651222651222, 0.4045045045045045, 0.9369369369369369, 0.6891891891891891, 0.6984631690514044, 0.2774131274131274, 0.545045045045045, 0.33978378378378377, 0.33378378378378376, 0.6599508599508599, 0.9037837837837837, 0.6108108108108107, 0.3256756756756757, 0.7129313929313928, 0.7297297297297297, 0.3864864864864864, 0.2722162162162162, 0.13015161502966383, 0.33978378378378377]\n",
      "2025/10/03 18:14:47 INFO dspy.teleprompt.gepa.gepa: Iteration 7: New valset pareto front scores: [0.7297297297297297, 0.675061425061425, 0.5822822822822823, 0.6432432432432432, 0.5713790713790714, 0.609079209079209, 0.7649467649467648, 0.7747747747747747, 0.6606177606177606, 0.7897897897897898, 0.554054054054054, 0.6432432432432432, 0.7648648648648648, 0.7625482625482626, 0.509009009009009, 0.6027027027027027, 0.9405405405405405, 0.5311432121776949, 1.0, 0.8472385428907168, 0.7972972972972973, 0.7683397683397684, 0.7147340889276372, 0.7297297297297297, 0.6890159390159389, 0.6216216216216215, 0.7189189189189189, 0.617117117117117, 0.6418918918918919, 0.705019305019305, 0.5875315315315315, 1.0, 0.6342342342342342, 0.7317936117936118, 0.6418918918918919, 0.8108108108108107, 0.8153153153153153, 0.7648648648648648, 1.0, 0.8251192368839427, 0.5524324324324325, 0.6222651222651222, 0.4765765765765766, 1.0, 0.6891891891891891, 0.9369369369369369, 0.545045045045045, 0.545045045045045, 0.33978378378378377, 0.5387387387387387, 0.6599508599508599, 0.9037837837837837, 0.6335135135135135, 0.5013513513513513, 0.7615262321144673, 0.7297297297297297, 0.6346238130021914, 0.5112612612612613, 0.5522522522522523, 0.9208648648648649]\n",
      "2025/10/03 18:14:47 INFO dspy.teleprompt.gepa.gepa: Iteration 7: Full valset pareto front score: 0.6971061031662952\n",
      "2025/10/03 18:14:47 INFO dspy.teleprompt.gepa.gepa: Iteration 7: Updated valset pareto front programs: [{0, 3}, {0}, {1, 3}, {2}, {3}, {0}, {0}, {2}, {2}, {2}, {0}, {2}, {3}, {0}, {0}, {1}, {1}, {0}, {2}, {1, 2}, {1, 2, 3}, {1}, {3}, {3}, {1}, {1}, {3}, {1}, {2}, {0}, {1, 3}, {0}, {2}, {2}, {2}, {1, 2, 3}, {1, 3}, {3}, {1, 2, 3}, {3}, {3}, {0, 1, 2, 3}, {0}, {2}, {1, 3}, {1}, {2}, {1, 2, 3}, {1, 2, 3}, {0}, {0, 1, 2, 3}, {3}, {1}, {0}, {1}, {3}, {0}, {0}, {0}, {2}]\n",
      "2025/10/03 18:14:47 INFO dspy.teleprompt.gepa.gepa: Iteration 7: Best valset aggregate score so far: 0.6045398270795489\n",
      "2025/10/03 18:14:47 INFO dspy.teleprompt.gepa.gepa: Iteration 7: Best program as per aggregate score on train_val: 0\n",
      "2025/10/03 18:14:47 INFO dspy.teleprompt.gepa.gepa: Iteration 7: Best program as per aggregate score on valset: 0\n",
      "2025/10/03 18:14:47 INFO dspy.teleprompt.gepa.gepa: Iteration 7: Best score on valset: 0.6045398270795489\n",
      "2025/10/03 18:14:47 INFO dspy.teleprompt.gepa.gepa: Iteration 7: Best score on train_val: 0.6045398270795489\n",
      "2025/10/03 18:14:47 INFO dspy.teleprompt.gepa.gepa: Iteration 7: Linear pareto front program index: 0\n",
      "2025/10/03 18:14:47 INFO dspy.teleprompt.gepa.gepa: Iteration 7: New program candidate index: 3\n",
      "GEPA Optimization:  14%|███████████████▌                                                                                                  | 282/2065 [26:04<2:54:09,  5.86s/rollouts]2025/10/03 18:14:47 INFO dspy.teleprompt.gepa.gepa: Iteration 8: Selected program 1 score: 0.5748093569233345\n"
     ]
    },
    {
     "name": "stdout",
     "output_type": "stream",
     "text": [
      "Average Metric: 1.62 / 3 (54.2%): 100%|████████████████████████████████████████████████████████████████████████████████████████████████████████████████| 3/3 [00:44<00:00, 14.87s/it]"
     ]
    },
    {
     "name": "stderr",
     "output_type": "stream",
     "text": [
      "2025/10/03 18:15:32 INFO dspy.evaluate.evaluate: Average Metric: 1.624918918918919 / 3 (54.2%)\n"
     ]
    },
    {
     "name": "stdout",
     "output_type": "stream",
     "text": [
      "\n",
      "🏃 View run eval_18 at: http://localhost:5005/#/experiments/1/runs/477a27db27f44356b60f21f1cc5a02ac\n",
      "🧪 View experiment at: http://localhost:5005/#/experiments/1\n"
     ]
    },
    {
     "name": "stderr",
     "output_type": "stream",
     "text": [
      "2025/10/03 18:16:08 INFO dspy.teleprompt.gepa.gepa: Iteration 8: Proposed new text for extract_info.predict: You are an expert information extractor. Your task is to meticulously analyze a given question and a set of retrieved documents, and then extract all key pieces of information from the documents that are relevant to answering the question.\n",
      "\n",
      "**Core Principles:**\n",
      "\n",
      "1.  **Strictly Grounded in Documents:** Every piece of information you extract **must** come directly and explicitly from the provided documents. Do not use any external knowledge, make assumptions, or infer information that is not stated in the text. For example, if a document mentions \"Riverbank State Park is 21m over the Hudson River\", you can extract that. You cannot add external facts like \"The Hudson is the largest river in New York\".\n",
      "\n",
      "2.  **Extract All Relevant Clues, Not Just the Final Answer:** The documents may not contain the complete answer. Your goal is to find all the relevant puzzle pieces that help constrain the problem or lead to the next step.\n",
      "    *   If a document answers a sub-part of the question, extract that information.\n",
      "    *   If a document mentions an entity (a person, place, organization, date, etc.) from the question, you **must** extract the surrounding facts about that entity, even if it doesn't seem to answer the whole question directly. For example, if the question is about \"Crazy Horse's birthplace\" and a document says \"the Crazy Horse Memorial is in South Dakota\", you must extract this fact. It connects the entity \"Crazy Horse\" to a location, \"South Dakota\", which is a critical clue.\n",
      "\n",
      "3.  **Focus on Atomic Facts:** Extract information as concise, self-contained facts, focusing on entities, their relationships, and key attributes like dates, locations, and quantities.\n",
      "\n",
      "4.  **Handle Seemingly Irrelevant Documents:** If a document was retrieved, it likely contains a keyword or entity from the question. Your job is to find that connection, no matter how small, and extract the relevant sentence or fact. If a document has absolutely zero connection to any part of the question, you can ignore it and extract nothing from it.\n",
      "2025/10/03 18:17:19 INFO dspy.evaluate.evaluate: Average Metric: 1.783927927927928 / 3 (59.5%)\n"
     ]
    },
    {
     "name": "stdout",
     "output_type": "stream",
     "text": [
      "🏃 View run eval_19 at: http://localhost:5005/#/experiments/1/runs/741c9f1784244d7d8e02ad5f3cc82d2c\n",
      "🧪 View experiment at: http://localhost:5005/#/experiments/1\n"
     ]
    },
    {
     "name": "stderr",
     "output_type": "stream",
     "text": [
      "2025/10/03 18:20:13 INFO dspy.evaluate.evaluate: Average Metric: 28.162047009303222 / 60 (46.9%)\n"
     ]
    },
    {
     "name": "stdout",
     "output_type": "stream",
     "text": [
      "🏃 View run eval_20 at: http://localhost:5005/#/experiments/1/runs/96415ca649184c2291faec4edfb24c2d\n",
      "🧪 View experiment at: http://localhost:5005/#/experiments/1\n"
     ]
    },
    {
     "name": "stderr",
     "output_type": "stream",
     "text": [
      "2025/10/03 18:20:13 INFO dspy.teleprompt.gepa.gepa: Iteration 8: Full valset score for new program: 0.46936745015505377\n",
      "2025/10/03 18:20:13 INFO dspy.teleprompt.gepa.gepa: Iteration 8: Full train_val score for new program: 0.46936745015505377\n",
      "2025/10/03 18:20:13 INFO dspy.teleprompt.gepa.gepa: Iteration 8: Individual valset scores for new program: [0.6505945945945946, 0.6047297297297296, 0.3256756756756757, 0.3864864864864864, 0.49930699930699923, 0.3031531531531531, 0.5604422604422604, 0.5317117117117117, 0.32, 0.7204914004914004, 0.40108108108108104, 0.3864864864864864, 0.7648648648648648, 0.3211711711711711, 0.3414414414414414, 0.32477477477477473, 0.4945945945945946, 0.3256756756756757, 0.38482882882882885, 0.32, 0.7972972972972973, 0.40108108108108104, 0.6558558558558558, 0.5524324324324325, 0.3256756756756757, 0.33978378378378377, 0.5524324324324325, 0.2905405405405405, 0.5837837837837838, 0.33978378378378377, 0.41636036036036034, 0.33978378378378377, 0.4135135135135135, 0.40108108108108104, 0.5230440967283072, 0.7524324324324323, 0.7648648648648648, 0.3864864864864864, 1.0, 0.27171571571571573, 0.40108108108108104, 0.6222651222651222, 0.4135135135135135, 0.5875315315315315, 0.6891891891891891, 0.6984631690514044, 0.28384813384813384, 0.545045045045045, 0.33978378378378377, 0.3414414414414414, 0.5448157248157247, 0.32, 0.6308108108108108, 0.3256756756756757, 0.4614054054054054, 0.4614054054054054, 0.648089468779124, 0.08302702702702705, 0.3494117647058823, 0.33978378378378377]\n",
      "2025/10/03 18:20:13 INFO dspy.teleprompt.gepa.gepa: Iteration 8: New valset pareto front scores: [0.7297297297297297, 0.675061425061425, 0.5822822822822823, 0.6432432432432432, 0.5713790713790714, 0.609079209079209, 0.7649467649467648, 0.7747747747747747, 0.6606177606177606, 0.7897897897897898, 0.554054054054054, 0.6432432432432432, 0.7648648648648648, 0.7625482625482626, 0.509009009009009, 0.6027027027027027, 0.9405405405405405, 0.5311432121776949, 1.0, 0.8472385428907168, 0.7972972972972973, 0.7683397683397684, 0.7147340889276372, 0.7297297297297297, 0.6890159390159389, 0.6216216216216215, 0.7189189189189189, 0.617117117117117, 0.6418918918918919, 0.705019305019305, 0.5875315315315315, 1.0, 0.6342342342342342, 0.7317936117936118, 0.6418918918918919, 0.8108108108108107, 0.8153153153153153, 0.7648648648648648, 1.0, 0.8251192368839427, 0.5524324324324325, 0.6222651222651222, 0.4765765765765766, 1.0, 0.6891891891891891, 0.9369369369369369, 0.545045045045045, 0.545045045045045, 0.33978378378378377, 0.5387387387387387, 0.6599508599508599, 0.9037837837837837, 0.6335135135135135, 0.5013513513513513, 0.7615262321144673, 0.7297297297297297, 0.648089468779124, 0.5112612612612613, 0.5522522522522523, 0.9208648648648649]\n",
      "2025/10/03 18:20:13 INFO dspy.teleprompt.gepa.gepa: Iteration 8: Full valset pareto front score: 0.6973305307625774\n",
      "2025/10/03 18:20:13 INFO dspy.teleprompt.gepa.gepa: Iteration 8: Updated valset pareto front programs: [{0, 3}, {0}, {1, 3}, {2}, {3}, {0}, {0}, {2}, {2}, {2}, {0}, {2}, {3, 4}, {0}, {0}, {1}, {1}, {0}, {2}, {1, 2}, {1, 2, 3, 4}, {1}, {3}, {3}, {1}, {1}, {3}, {1}, {2}, {0}, {1, 3}, {0}, {2}, {2}, {2}, {1, 2, 3}, {1, 3}, {3}, {1, 2, 3, 4}, {3}, {3}, {0, 1, 2, 3, 4}, {0}, {2}, {1, 3, 4}, {1}, {2}, {1, 2, 3, 4}, {1, 2, 3, 4}, {0}, {0, 1, 2, 3}, {3}, {1}, {0}, {1}, {3}, {4}, {0}, {0}, {2}]\n",
      "2025/10/03 18:20:13 INFO dspy.teleprompt.gepa.gepa: Iteration 8: Best valset aggregate score so far: 0.6045398270795489\n",
      "2025/10/03 18:20:13 INFO dspy.teleprompt.gepa.gepa: Iteration 8: Best program as per aggregate score on train_val: 0\n",
      "2025/10/03 18:20:13 INFO dspy.teleprompt.gepa.gepa: Iteration 8: Best program as per aggregate score on valset: 0\n",
      "2025/10/03 18:20:13 INFO dspy.teleprompt.gepa.gepa: Iteration 8: Best score on valset: 0.6045398270795489\n",
      "2025/10/03 18:20:13 INFO dspy.teleprompt.gepa.gepa: Iteration 8: Best score on train_val: 0.6045398270795489\n",
      "2025/10/03 18:20:13 INFO dspy.teleprompt.gepa.gepa: Iteration 8: Linear pareto front program index: 0\n",
      "2025/10/03 18:20:13 INFO dspy.teleprompt.gepa.gepa: Iteration 8: New program candidate index: 4\n",
      "GEPA Optimization:  17%|███████████████████▏                                                                                              | 348/2065 [31:31<2:36:14,  5.46s/rollouts]2025/10/03 18:20:13 INFO dspy.teleprompt.gepa.gepa: Iteration 9: Selected program 1 score: 0.5748093569233345\n"
     ]
    },
    {
     "name": "stdout",
     "output_type": "stream",
     "text": [
      "Average Metric: 1.54 / 3 (51.2%): 100%|████████████████████████████████████████████████████████████████████████████████████████████████████████████████| 3/3 [00:44<00:00, 14.94s/it]"
     ]
    },
    {
     "name": "stderr",
     "output_type": "stream",
     "text": [
      "2025/10/03 18:20:59 INFO dspy.evaluate.evaluate: Average Metric: 1.5357013139621833 / 3 (51.2%)\n"
     ]
    },
    {
     "name": "stdout",
     "output_type": "stream",
     "text": [
      "\n",
      "🏃 View run eval_21 at: http://localhost:5005/#/experiments/1/runs/eb4f6a07c85d45d7a8b5c6085e111b48\n",
      "🧪 View experiment at: http://localhost:5005/#/experiments/1\n"
     ]
    },
    {
     "name": "stderr",
     "output_type": "stream",
     "text": [
      "2025/10/03 18:21:28 INFO dspy.teleprompt.gepa.gepa: Iteration 9: Proposed new text for decide_info_collect.predict: You are an expert AI assistant that acts as a gatekeeper in a question-answering system. Your task is to determine if the information collected so far is sufficient to fully and accurately answer a given question.\n",
      "\n",
      "**Your Goal:**\n",
      "Given a `question` and a body of text called `all_information`, you must produce a boolean field `has_collected_enough_info`.\n",
      "\n",
      "**Instructions:**\n",
      "\n",
      "1.  **Deconstruct the Question:** First, carefully analyze the `question` and break it down into all its essential components and sub-questions. Identify every piece of information that is required to construct a complete answer. This includes entities, their attributes, and the relationships between them.\n",
      "\n",
      "2.  **Verify Information Availability:** For each component identified in step 1, you must verify if a corresponding piece of information exists within the provided `all_information`. Your evaluation must be based *strictly* on the text in `all_information`. Do not use any external knowledge you might have.\n",
      "\n",
      "3.  **Check for Connectivity:** It is not enough that individual facts are present. You must ensure that you can link all the necessary pieces of information together to bridge the gap from the start of the question to the end. If a crucial link or relationship between two pieces of information is missing, then the information is insufficient.\n",
      "\n",
      "4.  **Make Your Decision:**\n",
      "    *   Set `has_collected_enough_info` to `True` **only if** every single component and link required to answer the question is explicitly present in `all_information`.\n",
      "    *   Set `has_collected_enough_info` to `False` if even one piece of required information is missing, if a link between facts cannot be established, or if there is any ambiguity.\n",
      "\n",
      "**Key Principles to Follow:**\n",
      "\n",
      "*   **Be a Strict Verifier:** Your role is not to infer or guess. If the text doesn't explicitly state a fact needed to answer the question, you must assume the information is missing.\n",
      "*   **Focus on Sufficiency, Not the Final Answer:** Your task is to decide *if* the question *can be* answered, not to actually formulate the answer itself.\n",
      "*   **Example Scenario:** If the question is \"What is the population of the capital city of the country where the Eiffel Tower is located?\", you must verify that `all_information` contains:\n",
      "    1.  The country where the Eiffel Tower is located (France).\n",
      "    2.  The capital of that specific country (Paris).\n",
      "    3.  The population of that specific capital city.\n",
      "    If any of these three pieces of information is missing, `has_collected_enough_info` must be `False`.\n",
      "2025/10/03 18:22:31 INFO dspy.evaluate.evaluate: Average Metric: 1.916216216216216 / 3 (63.9%)\n"
     ]
    },
    {
     "name": "stdout",
     "output_type": "stream",
     "text": [
      "🏃 View run eval_22 at: http://localhost:5005/#/experiments/1/runs/392e4144ac1b4e6ea7348e1cb354c99b\n",
      "🧪 View experiment at: http://localhost:5005/#/experiments/1\n"
     ]
    },
    {
     "name": "stderr",
     "output_type": "stream",
     "text": [
      "2025/10/03 18:25:48 INFO dspy.evaluate.evaluate: Average Metric: 34.93723275441926 / 60 (58.2%)\n"
     ]
    },
    {
     "name": "stdout",
     "output_type": "stream",
     "text": [
      "🏃 View run eval_23 at: http://localhost:5005/#/experiments/1/runs/df4c4ad84bd34468b24d550eadf9b892\n",
      "🧪 View experiment at: http://localhost:5005/#/experiments/1\n"
     ]
    },
    {
     "name": "stderr",
     "output_type": "stream",
     "text": [
      "2025/10/03 18:25:48 INFO dspy.teleprompt.gepa.gepa: Iteration 9: Full valset score for new program: 0.5822872125736542\n",
      "2025/10/03 18:25:48 INFO dspy.teleprompt.gepa.gepa: Iteration 9: Full train_val score for new program: 0.5822872125736542\n",
      "2025/10/03 18:25:48 INFO dspy.teleprompt.gepa.gepa: Iteration 9: Individual valset scores for new program: [0.6055495495495495, 0.62, 0.5822822822822823, 0.5567567567567567, 0.4339339339339339, 0.3237900691389063, 0.6536855036855036, 0.5900900900900901, 0.6627627627627628, 0.7837837837837838, 0.47297297297297297, 0.6052199258081611, 0.7648648648648648, 0.2581081081081081, 0.3414414414414414, 0.545123384253819, 0.7047395221308264, 0.3256756756756757, 0.9369369369369369, 0.8472385428907168, 0.7972972972972973, 0.49567567567567566, 0.594015444015444, 0.6605405405405405, 0.606133056133056, 0.5180180180180181, 0.7485714285714284, 0.43378378378378374, 0.7297297297297297, 0.75006435006435, 0.2722162162162162, 0.8310810810810811, 0.4472972972972973, 0.6668468468468468, 0.5230440967283072, 0.8544698544698544, 0.7031531531531531, 0.3864864864864864, 0.8324324324324324, 0.2784724724724725, 0.49567567567567566, 0.7745173745173745, 0.3414414414414414, 1.0, 0.6441441441441441, 0.6936936936936936, 0.48762240501370935, 0.4659099099099099, 0.4614054054054054, 0.4891891891891892, 0.6015724815724816, 0.35603603603603606, 0.5767567567567567, 0.6873873873873874, 0.7713097713097713, 0.6972972972972973, 0.6108108108108107, 0.08302702702702705, 0.6153667953667953, 0.33978378378378377]\n",
      "2025/10/03 18:25:48 INFO dspy.teleprompt.gepa.gepa: Iteration 9: New valset pareto front scores: [0.7297297297297297, 0.675061425061425, 0.5822822822822823, 0.6432432432432432, 0.5713790713790714, 0.609079209079209, 0.7649467649467648, 0.7747747747747747, 0.6627627627627628, 0.7897897897897898, 0.554054054054054, 0.6432432432432432, 0.7648648648648648, 0.7625482625482626, 0.509009009009009, 0.6027027027027027, 0.9405405405405405, 0.5311432121776949, 1.0, 0.8472385428907168, 0.7972972972972973, 0.7683397683397684, 0.7147340889276372, 0.7297297297297297, 0.6890159390159389, 0.6216216216216215, 0.7485714285714284, 0.617117117117117, 0.7297297297297297, 0.75006435006435, 0.5875315315315315, 1.0, 0.6342342342342342, 0.7317936117936118, 0.6418918918918919, 0.8544698544698544, 0.8153153153153153, 0.7648648648648648, 1.0, 0.8251192368839427, 0.5524324324324325, 0.7745173745173745, 0.4765765765765766, 1.0, 0.6891891891891891, 0.9369369369369369, 0.545045045045045, 0.545045045045045, 0.4614054054054054, 0.5387387387387387, 0.6599508599508599, 0.9037837837837837, 0.6335135135135135, 0.6873873873873874, 0.7713097713097713, 0.7297297297297297, 0.648089468779124, 0.5112612612612613, 0.6153667953667953, 0.9208648648648649]\n",
      "2025/10/03 18:25:48 INFO dspy.teleprompt.gepa.gepa: Iteration 9: Full valset pareto front score: 0.709682987938564\n",
      "2025/10/03 18:25:48 INFO dspy.teleprompt.gepa.gepa: Iteration 9: Updated valset pareto front programs: [{0, 3}, {0}, {1, 3, 5}, {2}, {3}, {0}, {0}, {2}, {5}, {2}, {0}, {2}, {3, 4, 5}, {0}, {0}, {1}, {1}, {0}, {2}, {1, 2, 5}, {1, 2, 3, 4, 5}, {1}, {3}, {3}, {1}, {1}, {5}, {1}, {5}, {5}, {1, 3}, {0}, {2}, {2}, {2}, {5}, {1, 3}, {3}, {1, 2, 3, 4}, {3}, {3}, {5}, {0}, {2, 5}, {1, 3, 4}, {1}, {2}, {1, 2, 3, 4}, {5}, {0}, {0, 1, 2, 3}, {3}, {1}, {5}, {5}, {3}, {4}, {0}, {5}, {2}]\n",
      "2025/10/03 18:25:48 INFO dspy.teleprompt.gepa.gepa: Iteration 9: Best valset aggregate score so far: 0.6045398270795489\n",
      "2025/10/03 18:25:48 INFO dspy.teleprompt.gepa.gepa: Iteration 9: Best program as per aggregate score on train_val: 0\n",
      "2025/10/03 18:25:48 INFO dspy.teleprompt.gepa.gepa: Iteration 9: Best program as per aggregate score on valset: 0\n",
      "2025/10/03 18:25:48 INFO dspy.teleprompt.gepa.gepa: Iteration 9: Best score on valset: 0.6045398270795489\n",
      "2025/10/03 18:25:48 INFO dspy.teleprompt.gepa.gepa: Iteration 9: Best score on train_val: 0.6045398270795489\n",
      "2025/10/03 18:25:48 INFO dspy.teleprompt.gepa.gepa: Iteration 9: Linear pareto front program index: 0\n",
      "2025/10/03 18:25:48 INFO dspy.teleprompt.gepa.gepa: Iteration 9: New program candidate index: 5\n",
      "GEPA Optimization:  20%|██████████████████████▊                                                                                           | 414/2065 [37:06<2:26:09,  5.31s/rollouts]2025/10/03 18:25:48 INFO dspy.teleprompt.gepa.gepa: Iteration 10: Selected program 4 score: 0.46936745015505377\n"
     ]
    },
    {
     "name": "stdout",
     "output_type": "stream",
     "text": [
      "Average Metric: 1.21 / 3 (40.5%): 100%|████████████████████████████████████████████████████████████████████████████████████████████████████████████████| 3/3 [00:35<00:00, 11.74s/it]"
     ]
    },
    {
     "name": "stderr",
     "output_type": "stream",
     "text": [
      "2025/10/03 18:26:24 INFO dspy.evaluate.evaluate: Average Metric: 1.2138378378378378 / 3 (40.5%)\n"
     ]
    },
    {
     "name": "stdout",
     "output_type": "stream",
     "text": [
      "\n",
      "🏃 View run eval_24 at: http://localhost:5005/#/experiments/1/runs/d531566c175c4e6ab8130d6555eb23e1\n",
      "🧪 View experiment at: http://localhost:5005/#/experiments/1\n"
     ]
    },
    {
     "name": "stderr",
     "output_type": "stream",
     "text": [
      "2025/10/03 18:26:50 INFO dspy.teleprompt.gepa.gepa: Iteration 10: Proposed new text for decide_info_collect.predict: Your task is to act as a gatekeeper in a multi-step question-answering process. Given a `question` and the `all_information` collected so far, you must determine if the information is sufficient to formulate a complete and final answer. You will produce a boolean field `has_collected_enough_info`.\n",
      "\n",
      "**Instructions:**\n",
      "\n",
      "1.  **Deconstruct the Question:** First, break down the `question` into the essential pieces of information required to answer it. Identify all the entities and the relationships between them that need to be resolved.\n",
      "    *   For example, for the question \"What is the equivalent of organization X in the country that helped establish entity Y?\", you need to know:\n",
      "        1.  The country that helped establish entity Y.\n",
      "        2.  The equivalent of organization X in that specific country.\n",
      "\n",
      "2.  **Evaluate the Collected Information:** Carefully examine the text in `all_information` to see if it contains the answer to *every single one* of the pieces of information you identified in the previous step.\n",
      "\n",
      "3.  **Make Your Decision:**\n",
      "    *   **Set `has_collected_enough_info` to `False` if:**\n",
      "        *   The `all_information` field is empty or states \"No information collected yet\".\n",
      "        *   The `all_information` is missing *any* of the essential pieces of information needed to answer the question. If you have found the country but not the equivalent organization in that country, you do not have enough information. The chain of facts must be complete.\n",
      "\n",
      "    *   **Set `has_collected_enough_info` to `True` only if:**\n",
      "        *   The `all_information` explicitly contains every piece of information required to fully and directly answer the original `question`.\n",
      "\n",
      "**Crucial Rule:** Be conservative. Your role is to confirm that all necessary facts are present, not to infer or assume that a final answer can be constructed from partial information. If any part of the logical chain required to answer the question is missing from `all_information`, you have not collected enough information.\n",
      "2025/10/03 18:28:02 INFO dspy.evaluate.evaluate: Average Metric: 1.2800840840840841 / 3 (42.7%)\n"
     ]
    },
    {
     "name": "stdout",
     "output_type": "stream",
     "text": [
      "🏃 View run eval_25 at: http://localhost:5005/#/experiments/1/runs/6e467f4845184a76835959f2651facb9\n",
      "🧪 View experiment at: http://localhost:5005/#/experiments/1\n"
     ]
    },
    {
     "name": "stderr",
     "output_type": "stream",
     "text": [
      "2025/10/03 18:31:11 INFO dspy.evaluate.evaluate: Average Metric: 28.574612298429198 / 60 (47.6%)\n"
     ]
    },
    {
     "name": "stdout",
     "output_type": "stream",
     "text": [
      "🏃 View run eval_26 at: http://localhost:5005/#/experiments/1/runs/ea4757029beb485b850ce67c64b2ef34\n",
      "🧪 View experiment at: http://localhost:5005/#/experiments/1\n"
     ]
    },
    {
     "name": "stderr",
     "output_type": "stream",
     "text": [
      "2025/10/03 18:31:12 INFO dspy.teleprompt.gepa.gepa: Iteration 10: Full valset score for new program: 0.4762435383071534\n",
      "2025/10/03 18:31:12 INFO dspy.teleprompt.gepa.gepa: Iteration 10: Full train_val score for new program: 0.4762435383071534\n",
      "2025/10/03 18:31:12 INFO dspy.teleprompt.gepa.gepa: Iteration 10: Individual valset scores for new program: [0.6505945945945946, 0.49567567567567566, 0.3256756756756757, 0.3864864864864864, 0.4387387387387387, 0.4340403694834074, 0.6212530712530713, 0.6235675675675675, 0.4281081081081081, 0.7747747747747747, 0.49567567567567566, 0.6565835065835066, 0.545045045045045, 0.4621621621621621, 0.1297297297297297, 0.5252252252252252, 0.5351351351351351, 0.3256756756756757, 0.3172612612612613, 0.32, 0.4659099099099099, 0.32, 0.7088803088803088, 0.5524324324324325, 0.3256756756756757, 0.33978378378378377, 0.7416216216216216, 0.4755469755469755, 0.4621621621621621, 0.33978378378378377, 0.4189189189189189, 0.33978378378378377, 0.3864864864864864, 0.40108108108108104, 0.4945945945945946, 0.639011583011583, 0.7324324324324324, 0.3864864864864864, 0.33978378378378377, 0.23843243243243245, 0.32, 0.8153153153153153, 0.4135135135135135, 0.9045045045045045, 0.6891891891891891, 0.9369369369369369, 0.5926840633737185, 0.4659099099099099, 0.33978378378378377, 0.33378378378378376, 0.5707616707616707, 0.32, 0.6713513513513513, 0.2581081081081081, 0.4614054054054054, 0.4614054054054054, 0.5106116642958748, 0.08302702702702705, 0.4863201663201663, 0.33978378378378377]\n",
      "2025/10/03 18:31:12 INFO dspy.teleprompt.gepa.gepa: Iteration 10: New valset pareto front scores: [0.7297297297297297, 0.675061425061425, 0.5822822822822823, 0.6432432432432432, 0.5713790713790714, 0.609079209079209, 0.7649467649467648, 0.7747747747747747, 0.6627627627627628, 0.7897897897897898, 0.554054054054054, 0.6565835065835066, 0.7648648648648648, 0.7625482625482626, 0.509009009009009, 0.6027027027027027, 0.9405405405405405, 0.5311432121776949, 1.0, 0.8472385428907168, 0.7972972972972973, 0.7683397683397684, 0.7147340889276372, 0.7297297297297297, 0.6890159390159389, 0.6216216216216215, 0.7485714285714284, 0.617117117117117, 0.7297297297297297, 0.75006435006435, 0.5875315315315315, 1.0, 0.6342342342342342, 0.7317936117936118, 0.6418918918918919, 0.8544698544698544, 0.8153153153153153, 0.7648648648648648, 1.0, 0.8251192368839427, 0.5524324324324325, 0.8153153153153153, 0.4765765765765766, 1.0, 0.6891891891891891, 0.9369369369369369, 0.5926840633737185, 0.545045045045045, 0.4614054054054054, 0.5387387387387387, 0.6599508599508599, 0.9037837837837837, 0.6713513513513513, 0.6873873873873874, 0.7713097713097713, 0.7297297297297297, 0.648089468779124, 0.5112612612612613, 0.6153667953667953, 0.9208648648648649]\n",
      "2025/10/03 18:31:12 INFO dspy.teleprompt.gepa.gepa: Iteration 10: Full valset pareto front score: 0.7120099056103092\n",
      "2025/10/03 18:31:12 INFO dspy.teleprompt.gepa.gepa: Iteration 10: Updated valset pareto front programs: [{0, 3}, {0}, {1, 3, 5}, {2}, {3}, {0}, {0}, {2}, {5}, {2}, {0}, {6}, {3, 4, 5}, {0}, {0}, {1}, {1}, {0}, {2}, {1, 2, 5}, {1, 2, 3, 4, 5}, {1}, {3}, {3}, {1}, {1}, {5}, {1}, {5}, {5}, {1, 3}, {0}, {2}, {2}, {2}, {5}, {1, 3}, {3}, {1, 2, 3, 4}, {3}, {3}, {6}, {0}, {2, 5}, {1, 3, 4, 6}, {1, 6}, {6}, {1, 2, 3, 4}, {5}, {0}, {0, 1, 2, 3}, {3}, {6}, {5}, {5}, {3}, {4}, {0}, {5}, {2}]\n",
      "2025/10/03 18:31:12 INFO dspy.teleprompt.gepa.gepa: Iteration 10: Best valset aggregate score so far: 0.6045398270795489\n",
      "2025/10/03 18:31:12 INFO dspy.teleprompt.gepa.gepa: Iteration 10: Best program as per aggregate score on train_val: 0\n",
      "2025/10/03 18:31:12 INFO dspy.teleprompt.gepa.gepa: Iteration 10: Best program as per aggregate score on valset: 0\n",
      "2025/10/03 18:31:12 INFO dspy.teleprompt.gepa.gepa: Iteration 10: Best score on valset: 0.6045398270795489\n",
      "2025/10/03 18:31:12 INFO dspy.teleprompt.gepa.gepa: Iteration 10: Best score on train_val: 0.6045398270795489\n",
      "2025/10/03 18:31:12 INFO dspy.teleprompt.gepa.gepa: Iteration 10: Linear pareto front program index: 0\n",
      "2025/10/03 18:31:12 INFO dspy.teleprompt.gepa.gepa: Iteration 10: New program candidate index: 6\n",
      "GEPA Optimization:  23%|██████████████████████████▍                                                                                       | 480/2065 [42:30<2:16:29,  5.17s/rollouts]2025/10/03 18:31:12 INFO dspy.teleprompt.gepa.gepa: Iteration 11: Selected program 0 score: 0.6045398270795489\n"
     ]
    },
    {
     "name": "stdout",
     "output_type": "stream",
     "text": [
      "Average Metric: 2.00 / 3 (66.6%): 100%|████████████████████████████████████████████████████████████████████████████████████████████████████████████████| 3/3 [00:29<00:00,  9.95s/it]"
     ]
    },
    {
     "name": "stderr",
     "output_type": "stream",
     "text": [
      "2025/10/03 18:31:42 INFO dspy.evaluate.evaluate: Average Metric: 1.9966224406224404 / 3 (66.6%)\n"
     ]
    },
    {
     "name": "stdout",
     "output_type": "stream",
     "text": [
      "\n",
      "🏃 View run eval_27 at: http://localhost:5005/#/experiments/1/runs/2c9cad8099bd48babc94fd7be5fd7d9c\n",
      "🧪 View experiment at: http://localhost:5005/#/experiments/1\n"
     ]
    },
    {
     "name": "stderr",
     "output_type": "stream",
     "text": [
      "2025/10/03 18:32:07 INFO dspy.teleprompt.gepa.gepa: Iteration 11: Proposed new text for generate_answer.predict: You are an expert question-answering assistant. Your task is to answer a multi-hop question based on a collection of provided information snippets. You must provide a concise answer and a list of citations supporting it.\n",
      "\n",
      "Follow these instructions carefully:\n",
      "\n",
      "### Answer Generation Rules\n",
      "\n",
      "1.  **Be Concise and Direct:** The answer must directly address what the question asks for and be as brief as possible. Do not use full sentences or rephrase the question in your answer.\n",
      "    *   **Example:** For a question like \"Who is the president of Anthony Njokuani's country?\", the correct answer is \"Goodluck Jonathan\", not \"The president of Anthony Njokuani's country, Nigeria, is Goodluck Jonathan.\"\n",
      "\n",
      "2.  **Use Exact Information:** Extract the specific entities, dates, and facts directly from the provided documents. Do not paraphrase, generalize, or alter the information.\n",
      "    *   **Example:** If a document states a legal system is a \"Portuguese-based legal system\", your answer must use that exact phrase, not a broader term like \"civil law tradition\".\n",
      "\n",
      "3.  **Rely ONLY on Provided Documents:** Your answer must be derived exclusively from the `all_information` provided. Do not use any external knowledge or make inferences to fill in missing information. If the answer cannot be found in the documents, you cannot answer the question.\n",
      "\n",
      "### Citation Rules\n",
      "\n",
      "1.  **Cite All Supporting Documents:** You must cite the ID of *every* document that contains a piece of information essential for reaching the final answer. This includes documents used for intermediate reasoning steps (e.g., identifying a person, a place, or a connection between two entities).\n",
      "    *   **Example:** To answer \"When did the performer of 'Love Profusion' end their relationship with Carlos Leon?\", you need one document to identify the performer as Madonna [13] and another to find the date her relationship ended [4]. Therefore, you must cite both `['4', '13']`.\n",
      "\n",
      "2.  **Correct Format:** Provide citations as a list of document IDs.\n",
      "2025/10/03 18:32:21 INFO dspy.evaluate.evaluate: Average Metric: 2.4324324324324325 / 3 (81.1%)\n"
     ]
    },
    {
     "name": "stdout",
     "output_type": "stream",
     "text": [
      "🏃 View run eval_28 at: http://localhost:5005/#/experiments/1/runs/073e9d7887b041a28ddc2dfcbc931fa2\n",
      "🧪 View experiment at: http://localhost:5005/#/experiments/1\n"
     ]
    },
    {
     "name": "stderr",
     "output_type": "stream",
     "text": [
      "2025/10/03 18:34:46 INFO dspy.evaluate.evaluate: Average Metric: 40.45789360789361 / 60 (67.4%)\n"
     ]
    },
    {
     "name": "stdout",
     "output_type": "stream",
     "text": [
      "🏃 View run eval_29 at: http://localhost:5005/#/experiments/1/runs/ec4ec686477b435096207860d6e1ec82\n",
      "🧪 View experiment at: http://localhost:5005/#/experiments/1\n"
     ]
    },
    {
     "name": "stderr",
     "output_type": "stream",
     "text": [
      "2025/10/03 18:34:47 INFO dspy.teleprompt.gepa.gepa: Iteration 11: New program is on the linear pareto front\n",
      "2025/10/03 18:34:47 INFO dspy.teleprompt.gepa.gepa: Iteration 11: Full valset score for new program: 0.6742982267982267\n",
      "2025/10/03 18:34:47 INFO dspy.teleprompt.gepa.gepa: Iteration 11: Full train_val score for new program: 0.6742982267982267\n",
      "2025/10/03 18:34:47 INFO dspy.teleprompt.gepa.gepa: Iteration 11: Individual valset scores for new program: [0.7297297297297297, 0.658108108108108, 0.5972972972972973, 0.49999999999999994, 0.8243243243243242, 0.45945945945945943, 0.7522522522522522, 0.7477477477477477, 0.7189189189189189, 0.7702702702702703, 0.6108108108108107, 0.5396396396396396, 0.6418918918918919, 0.7084942084942084, 0.8783783783783783, 0.5900900900900902, 0.8256756756756757, 0.704054054054054, 0.9549549549549549, 0.9662162162162162, 0.9189189189189189, 0.6756756756756757, 0.9405405405405405, 0.658108108108108, 0.9121621621621622, 0.7162162162162161, 0.4821621621621621, 0.545045045045045, 0.7297297297297297, 0.33978378378378377, 0.48843243243243245, 1.0, 0.5013513513513513, 0.6375675675675675, 0.3536036036036036, 1.0, 0.858108108108108, 0.7918918918918919, 0.9, 0.08302702702702705, 0.49567567567567566, 1.0, 0.5058558558558558, 0.9189189189189189, 0.9283783783783783, 1.0, 0.5675675675675675, 0.47747747747747743, 0.5424864864864865, 0.38198198198198197, 0.34702702702702704, 0.39567567567567563, 0.6126126126126126, 0.545045045045045, 0.9225225225225224, 0.5659459459459458, 0.46756756756756757, 0.48843243243243245, 0.629129129129129, 0.9549549549549549]\n",
      "2025/10/03 18:34:47 INFO dspy.teleprompt.gepa.gepa: Iteration 11: New valset pareto front scores: [0.7297297297297297, 0.675061425061425, 0.5972972972972973, 0.6432432432432432, 0.8243243243243242, 0.609079209079209, 0.7649467649467648, 0.7747747747747747, 0.7189189189189189, 0.7897897897897898, 0.6108108108108107, 0.6565835065835066, 0.7648648648648648, 0.7625482625482626, 0.8783783783783783, 0.6027027027027027, 0.9405405405405405, 0.704054054054054, 1.0, 0.9662162162162162, 0.9189189189189189, 0.7683397683397684, 0.9405405405405405, 0.7297297297297297, 0.9121621621621622, 0.7162162162162161, 0.7485714285714284, 0.617117117117117, 0.7297297297297297, 0.75006435006435, 0.5875315315315315, 1.0, 0.6342342342342342, 0.7317936117936118, 0.6418918918918919, 1.0, 0.858108108108108, 0.7918918918918919, 1.0, 0.8251192368839427, 0.5524324324324325, 1.0, 0.5058558558558558, 1.0, 0.9283783783783783, 1.0, 0.5926840633737185, 0.545045045045045, 0.5424864864864865, 0.5387387387387387, 0.6599508599508599, 0.9037837837837837, 0.6713513513513513, 0.6873873873873874, 0.9225225225225224, 0.7297297297297297, 0.648089468779124, 0.5112612612612613, 0.629129129129129, 0.9549549549549549]\n",
      "2025/10/03 18:34:47 INFO dspy.teleprompt.gepa.gepa: Iteration 11: Full valset pareto front score: 0.7573267788458458\n",
      "2025/10/03 18:34:47 INFO dspy.teleprompt.gepa.gepa: Iteration 11: Updated valset pareto front programs: [{0, 3, 7}, {0}, {7}, {2}, {7}, {0}, {0}, {2}, {7}, {2}, {7}, {6}, {3, 4, 5}, {0}, {7}, {1}, {1}, {7}, {2}, {7}, {7}, {1}, {7}, {3}, {7}, {7}, {5}, {1}, {5, 7}, {5}, {1, 3}, {0, 7}, {2}, {2}, {2}, {7}, {7}, {7}, {1, 2, 3, 4}, {3}, {3}, {7}, {7}, {2, 5}, {7}, {7}, {6}, {1, 2, 3, 4}, {7}, {0}, {0, 1, 2, 3}, {3}, {6}, {5}, {7}, {3}, {4}, {0}, {7}, {7}]\n",
      "2025/10/03 18:34:47 INFO dspy.teleprompt.gepa.gepa: Iteration 11: Best valset aggregate score so far: 0.6742982267982267\n",
      "2025/10/03 18:34:47 INFO dspy.teleprompt.gepa.gepa: Iteration 11: Best program as per aggregate score on train_val: 7\n",
      "2025/10/03 18:34:47 INFO dspy.teleprompt.gepa.gepa: Iteration 11: Best program as per aggregate score on valset: 7\n",
      "2025/10/03 18:34:47 INFO dspy.teleprompt.gepa.gepa: Iteration 11: Best score on valset: 0.6742982267982267\n",
      "2025/10/03 18:34:47 INFO dspy.teleprompt.gepa.gepa: Iteration 11: Best score on train_val: 0.6742982267982267\n",
      "2025/10/03 18:34:47 INFO dspy.teleprompt.gepa.gepa: Iteration 11: Linear pareto front program index: 7\n",
      "2025/10/03 18:34:47 INFO dspy.teleprompt.gepa.gepa: Iteration 11: New program candidate index: 7\n",
      "GEPA Optimization:  26%|██████████████████████████████▏                                                                                   | 546/2065 [46:04<1:54:27,  4.52s/rollouts]2025/10/03 18:34:47 INFO dspy.teleprompt.gepa.gepa: Iteration 12: Selected program 0 score: 0.6045398270795489\n"
     ]
    },
    {
     "name": "stdout",
     "output_type": "stream",
     "text": [
      "Average Metric: 1.35 / 3 (45.0%): 100%|████████████████████████████████████████████████████████████████████████████████████████████████████████████████| 3/3 [00:36<00:00, 12.24s/it]"
     ]
    },
    {
     "name": "stderr",
     "output_type": "stream",
     "text": [
      "2025/10/03 18:35:24 INFO dspy.evaluate.evaluate: Average Metric: 1.3492792792792792 / 3 (45.0%)\n"
     ]
    },
    {
     "name": "stdout",
     "output_type": "stream",
     "text": [
      "\n",
      "🏃 View run eval_30 at: http://localhost:5005/#/experiments/1/runs/843dc6996aea4ed0bc800039fe64c2e8\n",
      "🧪 View experiment at: http://localhost:5005/#/experiments/1\n"
     ]
    },
    {
     "name": "stderr",
     "output_type": "stream",
     "text": [
      "2025/10/03 18:35:50 INFO dspy.teleprompt.gepa.gepa: Iteration 12: Proposed new text for generate_query.predict: You are an expert search query generator for a multi-hop question-answering system. Your task is to analyze a complex question and the information gathered so far, then generate the single best search query to find the next piece of information required to answer the question.\n",
      "\n",
      "### Instructions:\n",
      "\n",
      "1.  **Deconstruct the Question:** First, carefully analyze the user's `question`. Break it down into a logical sequence of smaller, answerable sub-questions. This is your reasoning chain. Your `reasoning` output should clearly articulate this plan.\n",
      "\n",
      "2.  **Identify the Next Necessary Information:** Based on your reasoning chain and the `collected_info`, determine the immediate next piece of information you need.\n",
      "    *   If `collected_info` is empty, your query should target the first sub-question in your chain.\n",
      "    *   If `collected_info` contains information, use it to formulate a query for the next unresolved sub-question.\n",
      "\n",
      "3.  **Formulate the Search Query:** Create a concise and effective `search_query` to find this next piece of information. Follow these strategic principles:\n",
      "\n",
      "    *   **Focus on the Immediate Next Step:** Your query must only seek the information for the very next unresolved step. Do not use your internal knowledge to skip ahead in the reasoning chain. For example, if the question requires finding a movie's filming country and then the laws of that country, your first query must be about the filming country, not the laws.\n",
      "\n",
      "    *   **Combine Independent Sub-questions:** If the main question involves two or more independent lines of inquiry, it is highly effective to combine the search for the first piece of information from each line into a single query.\n",
      "        *   *Example*: For the question \"In what country are the National Register of Historic Places listings in the county with the headquarters of Cameron Health, and the state where Some Like It Hot was filmed?\", a great initial query is \"Cameron Health headquarters location and state where Some Like It Hot was filmed\". This resolves two separate starting points at once.\n",
      "\n",
      "    *   **Balance Breadth and Specificity for Initial Queries:** When no information has been collected, your first query is crucial.\n",
      "        *   Avoid being overly specific if it might limit results. For a question like \"The country where Flora Steiger-Crawford was born has how many states?\", a query for \"Flora Steiger-Crawford birth country\" might be too narrow. A slightly broader query like \"Flora Steiger-Crawford biography\" or simply \"Flora Steiger-Crawford\" could yield the birth country along with other useful context, leading to a more efficient path overall.\n",
      "        *   Your goal is to create queries that are both **comprehensive** (high recall of relevant facts) and **precise** (low retrieval of irrelevant documents).\n",
      "\n",
      "Your ultimate goal is to devise a query strategy that answers the question in the fewest steps possible by retrieving all necessary supporting information efficiently.\n",
      "2025/10/03 18:36:13 INFO dspy.evaluate.evaluate: Average Metric: 1.7436936936936935 / 3 (58.1%)\n"
     ]
    },
    {
     "name": "stdout",
     "output_type": "stream",
     "text": [
      "🏃 View run eval_31 at: http://localhost:5005/#/experiments/1/runs/173ae7572fda4d96bb2ec3feda9b810e\n",
      "🧪 View experiment at: http://localhost:5005/#/experiments/1\n"
     ]
    },
    {
     "name": "stderr",
     "output_type": "stream",
     "text": [
      "2025/10/03 18:38:56 INFO dspy.evaluate.evaluate: Average Metric: 35.12468013264433 / 60 (58.5%)\n"
     ]
    },
    {
     "name": "stdout",
     "output_type": "stream",
     "text": [
      "🏃 View run eval_32 at: http://localhost:5005/#/experiments/1/runs/b6a23eecd8db498ebe6be1d0d7a2a081\n",
      "🧪 View experiment at: http://localhost:5005/#/experiments/1\n"
     ]
    },
    {
     "name": "stderr",
     "output_type": "stream",
     "text": [
      "2025/10/03 18:38:56 INFO dspy.teleprompt.gepa.gepa: Iteration 12: Full valset score for new program: 0.585411335544072\n",
      "2025/10/03 18:38:56 INFO dspy.teleprompt.gepa.gepa: Iteration 12: Full train_val score for new program: 0.585411335544072\n",
      "2025/10/03 18:38:56 INFO dspy.teleprompt.gepa.gepa: Iteration 12: Individual valset scores for new program: [0.5576576576576576, 0.8513513513513513, 0.5755255255255255, 0.45630630630630625, 0.46171171171171166, 0.42411234764175937, 0.7041359541359541, 0.6126126126126126, 0.6429313929313929, 0.7387387387387387, 0.509009009009009, 0.5972972972972973, 0.9121621621621622, 0.5785714285714285, 0.28996138996139, 0.5246246246246246, 0.30540540540540534, 0.5898746572659616, 0.9369369369369369, 0.8472385428907168, 0.7972972972972973, 0.658108108108108, 0.5756756756756756, 0.7175675675675675, 0.5200970200970201, 0.5180180180180181, 0.777027027027027, 0.6061776061776062, 0.7027027027027027, 0.777992277992278, 0.5424864864864865, 0.786036036036036, 0.30540540540540534, 0.6072891072891072, 0.6418918918918919, 0.8544698544698544, 0.6364864864864864, 0.2243243243243243, 0.9324324324324325, 0.2831557271557272, 0.45063063063063064, 0.8594594594594593, 0.25675675675675674, 0.9324324324324325, 0.7364864864864865, 0.8918918918918918, 0.6272620446533489, 0.47747747747747743, 0.2722162162162162, 0.4135135135135135, 0.48968058968058964, 0.41441441441441434, 0.5429729729729729, 0.2581081081081081, 0.7262647262647262, 0.5064504504504505, 0.46756756756756757, 0.4659099099099099, 0.4145945945945946, 0.33978378378378377]\n",
      "2025/10/03 18:38:56 INFO dspy.teleprompt.gepa.gepa: Iteration 12: New valset pareto front scores: [0.7297297297297297, 0.8513513513513513, 0.5972972972972973, 0.6432432432432432, 0.8243243243243242, 0.609079209079209, 0.7649467649467648, 0.7747747747747747, 0.7189189189189189, 0.7897897897897898, 0.6108108108108107, 0.6565835065835066, 0.9121621621621622, 0.7625482625482626, 0.8783783783783783, 0.6027027027027027, 0.9405405405405405, 0.704054054054054, 1.0, 0.9662162162162162, 0.9189189189189189, 0.7683397683397684, 0.9405405405405405, 0.7297297297297297, 0.9121621621621622, 0.7162162162162161, 0.777027027027027, 0.617117117117117, 0.7297297297297297, 0.777992277992278, 0.5875315315315315, 1.0, 0.6342342342342342, 0.7317936117936118, 0.6418918918918919, 1.0, 0.858108108108108, 0.7918918918918919, 1.0, 0.8251192368839427, 0.5524324324324325, 1.0, 0.5058558558558558, 1.0, 0.9283783783783783, 1.0, 0.6272620446533489, 0.545045045045045, 0.5424864864864865, 0.5387387387387387, 0.6599508599508599, 0.9037837837837837, 0.6713513513513513, 0.6873873873873874, 0.9225225225225224, 0.7297297297297297, 0.648089468779124, 0.5112612612612613, 0.629129129129129, 0.9549549549549549]\n",
      "2025/10/03 18:38:56 INFO dspy.teleprompt.gepa.gepa: Iteration 12: Full valset pareto front score: 0.7642359243666854\n",
      "2025/10/03 18:38:56 INFO dspy.teleprompt.gepa.gepa: Iteration 12: Updated valset pareto front programs: [{0, 3, 7}, {8}, {7}, {2}, {7}, {0}, {0}, {2}, {7}, {2}, {7}, {6}, {8}, {0}, {7}, {1}, {1}, {7}, {2}, {7}, {7}, {1}, {7}, {3}, {7}, {7}, {8}, {1}, {5, 7}, {8}, {1, 3}, {0, 7}, {2}, {2}, {8, 2}, {7}, {7}, {7}, {1, 2, 3, 4}, {3}, {3}, {7}, {7}, {2, 5}, {7}, {7}, {8}, {1, 2, 3, 4}, {7}, {0}, {0, 1, 2, 3}, {3}, {6}, {5}, {7}, {3}, {4}, {0}, {7}, {7}]\n",
      "2025/10/03 18:38:56 INFO dspy.teleprompt.gepa.gepa: Iteration 12: Best valset aggregate score so far: 0.6742982267982267\n",
      "2025/10/03 18:38:56 INFO dspy.teleprompt.gepa.gepa: Iteration 12: Best program as per aggregate score on train_val: 7\n",
      "2025/10/03 18:38:56 INFO dspy.teleprompt.gepa.gepa: Iteration 12: Best program as per aggregate score on valset: 7\n",
      "2025/10/03 18:38:56 INFO dspy.teleprompt.gepa.gepa: Iteration 12: Best score on valset: 0.6742982267982267\n",
      "2025/10/03 18:38:56 INFO dspy.teleprompt.gepa.gepa: Iteration 12: Best score on train_val: 0.6742982267982267\n",
      "2025/10/03 18:38:56 INFO dspy.teleprompt.gepa.gepa: Iteration 12: Linear pareto front program index: 7\n",
      "2025/10/03 18:38:56 INFO dspy.teleprompt.gepa.gepa: Iteration 12: New program candidate index: 8\n",
      "GEPA Optimization:  30%|█████████████████████████████████▊                                                                                | 612/2065 [50:14<1:43:40,  4.28s/rollouts]2025/10/03 18:38:56 INFO dspy.teleprompt.gepa.gepa: Iteration 13: Selected program 7 score: 0.6742982267982267\n"
     ]
    },
    {
     "name": "stdout",
     "output_type": "stream",
     "text": [
      "Average Metric: 1.52 / 3 (50.8%): 100%|████████████████████████████████████████████████████████████████████████████████████████████████████████████████| 3/3 [01:09<00:00, 23.26s/it]"
     ]
    },
    {
     "name": "stderr",
     "output_type": "stream",
     "text": [
      "2025/10/03 18:40:06 INFO dspy.evaluate.evaluate: Average Metric: 1.5238738738738737 / 3 (50.8%)\n"
     ]
    },
    {
     "name": "stdout",
     "output_type": "stream",
     "text": [
      "\n",
      "🏃 View run eval_33 at: http://localhost:5005/#/experiments/1/runs/d84fc9a5e7e148959f046d4b62e2c1a8\n",
      "🧪 View experiment at: http://localhost:5005/#/experiments/1\n"
     ]
    },
    {
     "name": "stderr",
     "output_type": "stream",
     "text": [
      "2025/10/03 18:40:42 INFO dspy.teleprompt.gepa.gepa: Iteration 13: Proposed new text for generate_query.predict: You are an expert at multi-hop question answering. Your task is to act as the \"planner\" and \"query generator\" component of this system.\n",
      "\n",
      "Given a complex, multi-hop question and a list of information snippets already collected, your goal is to generate the next search query to find the subsequent piece of information required to answer the question.\n",
      "\n",
      "Follow these steps carefully:\n",
      "\n",
      "1.  **Deconstruct the Main Question:** First, analyze the user's `question`. Break it down into a chain of smaller, dependent sub-questions. Identify the entities, relationships, and facts that need to be found in sequence.\n",
      "\n",
      "2.  **Assess Collected Information:** Review the `collected_info`. This represents your current knowledge base. Identify which parts of the question you can already answer and, most importantly, what the very next logical piece of missing information is.\n",
      "\n",
      "3.  **Formulate Your Reasoning:**\n",
      "    *   Clearly state your understanding of the overall question.\n",
      "    *   Summarize what is known from the `collected_info`.\n",
      "    *   Explicitly state the *single next piece of information* you need to find. This should be the target of your search query.\n",
      "    *   Your reasoning must directly lead to and justify the search query you generate.\n",
      "\n",
      "4.  **Generate a High-Quality Search Query:** This is the most critical step. Your `search_query` must be both precise (to avoid irrelevant results) and comprehensive (to find the necessary documents).\n",
      "    *   **Be Specific and Entity-Driven:** Your query should focus on concrete entities (people, places, dates, titles of works, etc.). If you have identified a specific name from the `collected_info` (e.g., \"Pope Paul IV\"), use that specific name in your query instead of a vague description (e.g., \"author of Cum nimis absurdum\").\n",
      "    *   **Combine Key Concepts:** To improve focus, include multiple key entities from the sub-question in your query. For example, instead of just \"hostess of the party\", a better query might be \"Chopin George Sand party hostess\". This provides more context to the search engine.\n",
      "    *   **Use Keywords, Not Full Sentences:** Formulate your query using essential keywords and phrases, much like an expert user of a search engine. Avoid long, conversational questions. For instance, prefer `country with most Australopithecus fossils` over `in which country have the most fossils of Australopithecus been found`.\n",
      "    *   **Target the Immediate Unknown:** The query must be tightly focused on finding only the next piece of information identified in your reasoning. Do not create a query that attempts to answer the entire multi-hop question at once.\n",
      "\n",
      "**Output Format:**\n",
      "You must provide your response in the following structure:\n",
      "\n",
      "```json\n",
      "{\n",
      "  \"reasoning\": \"Your detailed step-by-step reasoning here.\",\n",
      "  \"search_query\": \"Your generated search query here.\",\n",
      "  \"top_n\": <integer>\n",
      "}\n",
      "```\n",
      "*   `reasoning`: Your thought process as described in step 3.\n",
      "*   `search_query`: The precise, keyword-driven query from step 4.\n",
      "*   `top_n`: The number of documents to retrieve. Use a small integer like 2 or 3.\n",
      "2025/10/03 18:41:40 INFO dspy.evaluate.evaluate: Average Metric: 2.189189189189189 / 3 (73.0%)\n"
     ]
    },
    {
     "name": "stdout",
     "output_type": "stream",
     "text": [
      "🏃 View run eval_34 at: http://localhost:5005/#/experiments/1/runs/3adeb3383bc34eed9ad80f33339de001\n",
      "🧪 View experiment at: http://localhost:5005/#/experiments/1\n"
     ]
    },
    {
     "name": "stderr",
     "output_type": "stream",
     "text": [
      "2025/10/03 18:44:35 INFO dspy.evaluate.evaluate: Average Metric: 38.17518404118404 / 60 (63.6%)\n"
     ]
    },
    {
     "name": "stdout",
     "output_type": "stream",
     "text": [
      "🏃 View run eval_35 at: http://localhost:5005/#/experiments/1/runs/8030604237284754993179212e7923cc\n",
      "🧪 View experiment at: http://localhost:5005/#/experiments/1\n"
     ]
    },
    {
     "name": "stderr",
     "output_type": "stream",
     "text": [
      "2025/10/03 18:44:35 INFO dspy.teleprompt.gepa.gepa: Iteration 13: Full valset score for new program: 0.6362530673530673\n",
      "2025/10/03 18:44:35 INFO dspy.teleprompt.gepa.gepa: Iteration 13: Full train_val score for new program: 0.6362530673530673\n",
      "2025/10/03 18:44:35 INFO dspy.teleprompt.gepa.gepa: Iteration 13: Individual valset scores for new program: [0.4459459459459459, 0.658108108108108, 0.3189189189189189, 0.5013513513513513, 0.39999999999999997, 0.5914414414414414, 0.7702702702702703, 0.874054054054054, 0.7608108108108108, 0.7702702702702703, 0.4054054054054054, 0.6693693693693693, 0.6058558558558559, 0.7422779922779923, 0.16216216216216214, 0.35135135135135137, 0.6545045045045045, 0.7792792792792792, 0.8693693693693694, 0.5542342342342342, 0.6846846846846846, 0.5918918918918918, 0.6094594594594595, 0.6037837837837837, 0.7072072072072072, 0.7162162162162161, 0.9662162162162162, 0.3662162162162162, 0.7297297297297297, 0.7873873873873873, 0.5199639639639639, 0.9324324324324325, 0.46891891891891885, 0.6108108108108107, 0.617117117117117, 1.0, 0.7648648648648648, 0.7594594594594595, 0.9324324324324325, 0.9324324324324325, 0.45063063063063064, 0.7477477477477477, 0.5193693693693693, 0.9324324324324325, 0.908108108108108, 0.6846846846846846, 0.8040540540540541, 0.47747747747747743, 0.2722162162162162, 0.43314028314028313, 0.7551351351351351, 0.5857657657657658, 0.6689189189189189, 0.3414414414414414, 0.9549549549549549, 0.5064504504504505, 0.5668468468468468, 0.2496936936936937, 0.2299099099099099, 0.9]\n",
      "2025/10/03 18:44:35 INFO dspy.teleprompt.gepa.gepa: Iteration 13: New valset pareto front scores: [0.7297297297297297, 0.8513513513513513, 0.5972972972972973, 0.6432432432432432, 0.8243243243243242, 0.609079209079209, 0.7702702702702703, 0.874054054054054, 0.7608108108108108, 0.7897897897897898, 0.6108108108108107, 0.6693693693693693, 0.9121621621621622, 0.7625482625482626, 0.8783783783783783, 0.6027027027027027, 0.9405405405405405, 0.7792792792792792, 1.0, 0.9662162162162162, 0.9189189189189189, 0.7683397683397684, 0.9405405405405405, 0.7297297297297297, 0.9121621621621622, 0.7162162162162161, 0.9662162162162162, 0.617117117117117, 0.7297297297297297, 0.7873873873873873, 0.5875315315315315, 1.0, 0.6342342342342342, 0.7317936117936118, 0.6418918918918919, 1.0, 0.858108108108108, 0.7918918918918919, 1.0, 0.9324324324324325, 0.5524324324324325, 1.0, 0.5193693693693693, 1.0, 0.9283783783783783, 1.0, 0.8040540540540541, 0.545045045045045, 0.5424864864864865, 0.5387387387387387, 0.7551351351351351, 0.9037837837837837, 0.6713513513513513, 0.6873873873873874, 0.9549549549549549, 0.7297297297297297, 0.648089468779124, 0.5112612612612613, 0.629129129129129, 0.9549549549549549]\n",
      "2025/10/03 18:44:35 INFO dspy.teleprompt.gepa.gepa: Iteration 13: Full valset pareto front score: 0.7785413491861768\n",
      "2025/10/03 18:44:35 INFO dspy.teleprompt.gepa.gepa: Iteration 13: Updated valset pareto front programs: [{0, 3, 7}, {8}, {7}, {2}, {7}, {0}, {9}, {9}, {9}, {2}, {7}, {9}, {8}, {0}, {7}, {1}, {1}, {9}, {2}, {7}, {7}, {1}, {7}, {3}, {7}, {9, 7}, {9}, {1}, {9, 5, 7}, {9}, {1, 3}, {0, 7}, {2}, {2}, {8, 2}, {9, 7}, {7}, {7}, {1, 2, 3, 4}, {9}, {3}, {7}, {9}, {2, 5}, {7}, {7}, {9}, {1, 2, 3, 4}, {7}, {0}, {9}, {3}, {6}, {5}, {9}, {3}, {4}, {0}, {7}, {7}]\n",
      "2025/10/03 18:44:35 INFO dspy.teleprompt.gepa.gepa: Iteration 13: Best valset aggregate score so far: 0.6742982267982267\n",
      "2025/10/03 18:44:35 INFO dspy.teleprompt.gepa.gepa: Iteration 13: Best program as per aggregate score on train_val: 7\n",
      "2025/10/03 18:44:35 INFO dspy.teleprompt.gepa.gepa: Iteration 13: Best program as per aggregate score on valset: 7\n",
      "2025/10/03 18:44:35 INFO dspy.teleprompt.gepa.gepa: Iteration 13: Best score on valset: 0.6742982267982267\n",
      "2025/10/03 18:44:35 INFO dspy.teleprompt.gepa.gepa: Iteration 13: Best score on train_val: 0.6742982267982267\n",
      "2025/10/03 18:44:35 INFO dspy.teleprompt.gepa.gepa: Iteration 13: Linear pareto front program index: 7\n",
      "2025/10/03 18:44:35 INFO dspy.teleprompt.gepa.gepa: Iteration 13: New program candidate index: 9\n",
      "GEPA Optimization:  33%|█████████████████████████████████████▍                                                                            | 678/2065 [55:53<1:45:14,  4.55s/rollouts]2025/10/03 18:44:35 INFO dspy.teleprompt.gepa.gepa: Iteration 14: Selected program 2 score: 0.5873251395639492\n"
     ]
    },
    {
     "name": "stdout",
     "output_type": "stream",
     "text": [
      "Average Metric: 1.77 / 3 (59.0%): 100%|████████████████████████████████████████████████████████████████████████████████████████████████████████████████| 3/3 [01:14<00:00, 25.00s/it]"
     ]
    },
    {
     "name": "stderr",
     "output_type": "stream",
     "text": [
      "2025/10/03 18:45:51 INFO dspy.evaluate.evaluate: Average Metric: 1.7713213213213213 / 3 (59.0%)\n"
     ]
    },
    {
     "name": "stdout",
     "output_type": "stream",
     "text": [
      "\n",
      "🏃 View run eval_36 at: http://localhost:5005/#/experiments/1/runs/ddfe6fb40bfb44029f867ee3597766b4\n",
      "🧪 View experiment at: http://localhost:5005/#/experiments/1\n"
     ]
    },
    {
     "name": "stderr",
     "output_type": "stream",
     "text": [
      "2025/10/03 18:46:26 INFO dspy.teleprompt.gepa.gepa: Iteration 14: Proposed new text for generate_query.predict: You are an expert at decomposing complex, multi-hop questions and formulating precise search queries to answer them step-by-step.\n",
      "\n",
      "Your task is to generate the next search query to find a missing piece of information needed to answer a given question, based on the information collected so far.\n",
      "\n",
      "Follow these steps:\n",
      "1.  **Decompose the Question:** First, carefully analyze the multi-hop question to understand the chain of entities and relationships. Break down the full question into a logical sequence of smaller, answerable sub-questions. This forms your high-level plan.\n",
      "\n",
      "2.  **Formulate a Reasoning Plan:** In the `reasoning` field, articulate your immediate step.\n",
      "    *   First, summarize what you know from the `collected_info`.\n",
      "    *   Then, state the single next piece of information you need to find to progress.\n",
      "    *   Explain how this next piece of information fits into your overall decomposition plan to answer the main question.\n",
      "\n",
      "3.  **Craft a Precise and Unambiguous Search Query:** This is the most critical step. Your `search_query` must be designed to retrieve the specific fact you need with high precision.\n",
      "    *   **Use Descriptive Identifiers from the Question:** If the question describes an entity with a unique role or action (e.g., \"the man who became leader of the largest country in Europe...\"), use that description in your query. Do not immediately substitute it with a name from `collected_info` if that information might be incomplete or incorrect. This makes your query more robust. For example, instead of a premature query like `Mikhail Gorbachev death place`, a better query would be `death place of first leader of Russia after Soviet Union collapse`.\n",
      "    *   **Be Specific and Include Disambiguating Context:** Incorporate unique, identifying details from the question to narrow down the search. For a question about a capital city \"...that encouraged purges against Titoites\", your query should contain \"capital that encouraged purges against Titoites\", not just \"capital city\".\n",
      "    *   **Focus on One Fact at a Time:** Each query should aim to resolve only one sub-question from your plan. For instance, if you need to know a person's birth place and then the country that colonized it, your first query should *only* be about the birth place (e.g., `Manuel John Johnson place of birth`).\n",
      "    *   **Mirror the Question's Intent:** Use keywords from the original question that specify recency or state, such as \"new\", \"current\", or \"former\". For a question about the \"new prime minister\", a query like `new prime minister of Romania` is more precise than a generic one.\n",
      "\n",
      "4.  **Specify the Number of Results:** For the `top_n` field, specify the number of search results you want to retrieve. For a well-formed, specific, fact-based query, `1` is almost always sufficient and preferred to maintain high precision.\n",
      "2025/10/03 18:47:04 INFO dspy.evaluate.evaluate: Average Metric: 2.2876700229641407 / 3 (76.3%)\n"
     ]
    },
    {
     "name": "stdout",
     "output_type": "stream",
     "text": [
      "🏃 View run eval_37 at: http://localhost:5005/#/experiments/1/runs/ebe748eb78af4694b6124d86419eef25\n",
      "🧪 View experiment at: http://localhost:5005/#/experiments/1\n"
     ]
    },
    {
     "name": "stderr",
     "output_type": "stream",
     "text": [
      "2025/10/03 18:49:48 INFO dspy.evaluate.evaluate: Average Metric: 35.32393658861433 / 60 (58.9%)\n"
     ]
    },
    {
     "name": "stdout",
     "output_type": "stream",
     "text": [
      "🏃 View run eval_38 at: http://localhost:5005/#/experiments/1/runs/42cc91f07bed46c9840b5ba08fbed99a\n",
      "🧪 View experiment at: http://localhost:5005/#/experiments/1\n"
     ]
    },
    {
     "name": "stderr",
     "output_type": "stream",
     "text": [
      "2025/10/03 18:49:49 INFO dspy.teleprompt.gepa.gepa: Iteration 14: Full valset score for new program: 0.5887322764769056\n",
      "2025/10/03 18:49:49 INFO dspy.teleprompt.gepa.gepa: Iteration 14: Full train_val score for new program: 0.5887322764769056\n",
      "2025/10/03 18:49:49 INFO dspy.teleprompt.gepa.gepa: Iteration 14: Individual valset scores for new program: [0.6505945945945946, 0.6108108108108107, 0.3256756756756757, 0.5734234234234233, 0.6051051051051051, 0.48043758043758045, 0.5928746928746927, 0.7747747747747747, 0.5463513513513514, 0.7897897897897898, 0.47297297297297297, 0.53611437524481, 0.545045045045045, 0.4621621621621621, 0.16216216216216214, 0.40128700128700123, 0.4013513513513513, 0.3256756756756757, 1.0, 0.8472385428907168, 0.7972972972972973, 0.5524324324324325, 0.5734234234234233, 0.6918918918918918, 0.3864864864864864, 0.5180180180180181, 0.6635435435435435, 0.35810810810810806, 0.4013513513513513, 0.8455598455598455, 0.4614054054054054, 1.0, 0.522972972972973, 0.40108108108108104, 0.3211711711711711, 0.8108108108108107, 0.7252252252252251, 0.8153153153153153, 0.8648648648648649, 0.7926868044515103, 0.5524324324324325, 0.8153153153153153, 0.46756756756756757, 0.9549549549549549, 0.654054054054054, 0.4659099099099099, 0.44285714285714284, 0.545045045045045, 0.33978378378378377, 0.3211711711711711, 0.6558558558558558, 0.5524324324324325, 0.6713513513513513, 0.704054054054054, 0.7713097713097713, 0.6505945945945946, 0.564042303172738, 0.2722162162162162, 0.49567567567567566, 0.8198198198198198]\n",
      "2025/10/03 18:49:49 INFO dspy.teleprompt.gepa.gepa: Iteration 14: New valset pareto front scores: [0.7297297297297297, 0.8513513513513513, 0.5972972972972973, 0.6432432432432432, 0.8243243243243242, 0.609079209079209, 0.7702702702702703, 0.874054054054054, 0.7608108108108108, 0.7897897897897898, 0.6108108108108107, 0.6693693693693693, 0.9121621621621622, 0.7625482625482626, 0.8783783783783783, 0.6027027027027027, 0.9405405405405405, 0.7792792792792792, 1.0, 0.9662162162162162, 0.9189189189189189, 0.7683397683397684, 0.9405405405405405, 0.7297297297297297, 0.9121621621621622, 0.7162162162162161, 0.9662162162162162, 0.617117117117117, 0.7297297297297297, 0.8455598455598455, 0.5875315315315315, 1.0, 0.6342342342342342, 0.7317936117936118, 0.6418918918918919, 1.0, 0.858108108108108, 0.8153153153153153, 1.0, 0.9324324324324325, 0.5524324324324325, 1.0, 0.5193693693693693, 1.0, 0.9283783783783783, 1.0, 0.8040540540540541, 0.545045045045045, 0.5424864864864865, 0.5387387387387387, 0.7551351351351351, 0.9037837837837837, 0.6713513513513513, 0.704054054054054, 0.9549549549549549, 0.7297297297297297, 0.648089468779124, 0.5112612612612613, 0.629129129129129, 0.9549549549549549]\n",
      "2025/10/03 18:49:49 INFO dspy.teleprompt.gepa.gepa: Iteration 14: Full valset pareto front score: 0.7801790583238859\n",
      "2025/10/03 18:49:49 INFO dspy.teleprompt.gepa.gepa: Iteration 14: Updated valset pareto front programs: [{0, 3, 7}, {8}, {7}, {2}, {7}, {0}, {9}, {9}, {9}, {2, 10}, {7}, {9}, {8}, {0}, {7}, {1}, {1}, {9}, {2, 10}, {7}, {7}, {1}, {7}, {3}, {7}, {9, 7}, {9}, {1}, {9, 5, 7}, {10}, {1, 3}, {0, 10, 7}, {2}, {2}, {8, 2}, {9, 7}, {7}, {10}, {1, 2, 3, 4}, {9}, {10, 3}, {7}, {9}, {2, 5}, {7}, {7}, {9}, {1, 2, 3, 4, 10}, {7}, {0}, {9}, {3}, {10, 6}, {10}, {9}, {3}, {4}, {0}, {7}, {7}]\n",
      "2025/10/03 18:49:49 INFO dspy.teleprompt.gepa.gepa: Iteration 14: Best valset aggregate score so far: 0.6742982267982267\n",
      "2025/10/03 18:49:49 INFO dspy.teleprompt.gepa.gepa: Iteration 14: Best program as per aggregate score on train_val: 7\n",
      "2025/10/03 18:49:49 INFO dspy.teleprompt.gepa.gepa: Iteration 14: Best program as per aggregate score on valset: 7\n",
      "2025/10/03 18:49:49 INFO dspy.teleprompt.gepa.gepa: Iteration 14: Best score on valset: 0.6742982267982267\n",
      "2025/10/03 18:49:49 INFO dspy.teleprompt.gepa.gepa: Iteration 14: Best score on train_val: 0.6742982267982267\n",
      "2025/10/03 18:49:49 INFO dspy.teleprompt.gepa.gepa: Iteration 14: Linear pareto front program index: 7\n",
      "2025/10/03 18:49:49 INFO dspy.teleprompt.gepa.gepa: Iteration 14: New program candidate index: 10\n",
      "GEPA Optimization:  36%|████████████████████████████████████████▎                                                                       | 744/2065 [1:01:07<1:41:37,  4.62s/rollouts]2025/10/03 18:49:49 INFO dspy.teleprompt.gepa.gepa: Iteration 15: Selected program 7 score: 0.6742982267982267\n"
     ]
    },
    {
     "name": "stdout",
     "output_type": "stream",
     "text": [
      "Average Metric: 2.74 / 3 (91.3%): 100%|████████████████████████████████████████████████████████████████████████████████████████████████████████████████| 3/3 [00:19<00:00,  6.37s/it]"
     ]
    },
    {
     "name": "stderr",
     "output_type": "stream",
     "text": [
      "2025/10/03 18:50:09 INFO dspy.evaluate.evaluate: Average Metric: 2.7387387387387387 / 3 (91.3%)\n"
     ]
    },
    {
     "name": "stdout",
     "output_type": "stream",
     "text": [
      "\n",
      "🏃 View run eval_39 at: http://localhost:5005/#/experiments/1/runs/1abd1a7b39d4488396917f342d9650cb\n",
      "🧪 View experiment at: http://localhost:5005/#/experiments/1\n"
     ]
    },
    {
     "name": "stderr",
     "output_type": "stream",
     "text": [
      "2025/10/03 18:50:35 INFO dspy.teleprompt.gepa.gepa: Iteration 15: Proposed new text for extract_info.predict: Your task is to act as a reasoning agent that extracts key information from a set of retrieved documents to answer a given question.\n",
      "\n",
      "Your goal is to identify and extract the minimal set of essential facts, entities, relationships, and dates that are either required to directly answer the question or are necessary for a subsequent reasoning or retrieval step.\n",
      "\n",
      "### Instructions:\n",
      "\n",
      "1.  **Deconstruct the Question:** First, carefully analyze the question to understand what specific pieces of information are needed. Identify the core entities (e.g., people, places, organizations) and the relationship or attribute being asked about (e.g., \"born in\", \"population of\", \"part of\").\n",
      "\n",
      "2.  **Extract Key Information:** Scan all provided documents and extract only the most relevant, self-contained facts that help answer the question.\n",
      "    *   **Direct Answer:** If a document directly answers the question, extract the specific sentence or fact.\n",
      "    *   **Multi-Hop/Bridging:** If the answer requires combining information from multiple documents, extract the \"bridging\" facts from each. For example, to find the population of a person's birthplace, you must extract the fact identifying the birthplace from one document and the fact stating the city's population from another.\n",
      "    *   **Incomplete Information:** If the documents do not contain the final answer but provide crucial intermediate information, extract that intermediate information. For instance, if asked for the population rank of the state where a person died, and the documents only name the state, you must extract the state's name as the key information.\n",
      "\n",
      "3.  **Strive for Completeness and Precision:** Do not stop at the first relevant piece of information. Review all documents to find facts that add necessary context or precision. For example, if one document names a mountain range as \"Urner Alps\" and another clarifies that this is also known as the \"Uri Alps\", both the primary name and its alternative are key pieces of information to extract.\n",
      "\n",
      "4.  **Format the Output:**\n",
      "    *   The output must be a list of `KeyInformation` objects.\n",
      "    *   Each `KeyInformation` object must contain:\n",
      "        *   `info`: A string containing the concise, extracted fact.\n",
      "        *   `source_doc_id`: The ID of the document from which the information was extracted.\n",
      "2025/10/03 18:50:57 INFO dspy.evaluate.evaluate: Average Metric: 2.6936936936936937 / 3 (89.8%)\n"
     ]
    },
    {
     "name": "stdout",
     "output_type": "stream",
     "text": [
      "🏃 View run eval_40 at: http://localhost:5005/#/experiments/1/runs/ebc2c3641187434983edab37dc725823\n",
      "🧪 View experiment at: http://localhost:5005/#/experiments/1\n"
     ]
    },
    {
     "name": "stderr",
     "output_type": "stream",
     "text": [
      "2025/10/03 18:50:58 INFO dspy.teleprompt.gepa.gepa: Iteration 15: New subsample score is not better, skipping\n",
      "GEPA Optimization:  36%|████████████████████████████████████████▋                                                                       | 750/2065 [1:02:15<1:46:57,  4.88s/rollouts]2025/10/03 18:50:58 INFO dspy.teleprompt.gepa.gepa: Iteration 16: Selected program 7 score: 0.6742982267982267\n"
     ]
    },
    {
     "name": "stdout",
     "output_type": "stream",
     "text": [
      "Average Metric: 1.95 / 3 (65.0%): 100%|████████████████████████████████████████████████████████████████████████████████████████████████████████████████| 3/3 [00:42<00:00, 14.16s/it]"
     ]
    },
    {
     "name": "stderr",
     "output_type": "stream",
     "text": [
      "2025/10/03 18:51:40 INFO dspy.evaluate.evaluate: Average Metric: 1.9487927927927928 / 3 (65.0%)\n"
     ]
    },
    {
     "name": "stdout",
     "output_type": "stream",
     "text": [
      "\n",
      "🏃 View run eval_41 at: http://localhost:5005/#/experiments/1/runs/9565c47a7c4e4e63b50fc7f66f11f3f4\n",
      "🧪 View experiment at: http://localhost:5005/#/experiments/1\n"
     ]
    },
    {
     "name": "stderr",
     "output_type": "stream",
     "text": [
      "2025/10/03 18:52:16 INFO dspy.teleprompt.gepa.gepa: Iteration 16: Proposed new text for decide_info_collect.predict: You are an expert at determining information sufficiency. Your task is to act as a verifier in a multi-step question-answering system. You will be given a `question` and a collection of text snippets called `all_information`. Your goal is to determine if the `all_information` contains all the necessary facts to construct a complete and accurate answer to the `question`.\n",
      "\n",
      "Your output must be a single boolean field: `has_collected_enough_info`.\n",
      "\n",
      "To accomplish this, follow this process:\n",
      "\n",
      "1.  **Deconstruct the Question:** First, carefully analyze the `question` and break it down into all its constituent parts and logical steps (or \"hops\"). Identify every entity, relationship, and piece of data that is required to formulate a final answer.\n",
      "    *   For example, for the question \"When did the torch visit the city where the regional office of the World Bank is located?\", you must identify the need for two key pieces of information:\n",
      "        1.  The city that hosts the World Bank's regional office.\n",
      "        2.  The date the torch visited *that specific city*.\n",
      "\n",
      "2.  **Verify and Connect Information:** Scrutinize the `all_information` to see if every required piece of information from your deconstruction is present. It is crucial that the information can be linked together.\n",
      "    *   Continuing the example, you must not only find a city with a World Bank office and a city the torch visited, but you must confirm that they are the *same city*. If `all_information` states \"The World Bank has an office in New Delhi\" and \"The torch visited New Delhi on April 17\", you can connect these facts and have sufficient information.\n",
      "\n",
      "3.  **Make a Strict Decision:**\n",
      "    *   Set `has_collected_enough_info` to `True` **only if** every single required component of the question can be resolved and linked using the provided `all_information`.\n",
      "    *   Set `has_collected_enough_info` to `False` if even one essential piece of information is missing, or if the provided facts cannot be logically connected to answer the full scope of the question.\n",
      "\n",
      "**Crucial Rule:** Base your decision **solely** on the text provided in `all_information`. Do not use any external knowledge you may have. Your task is not to answer the question yourself, but to evaluate the sufficiency of the provided context.\n",
      "2025/10/03 18:53:14 INFO dspy.evaluate.evaluate: Average Metric: 2.367891891891892 / 3 (78.9%)\n"
     ]
    },
    {
     "name": "stdout",
     "output_type": "stream",
     "text": [
      "🏃 View run eval_42 at: http://localhost:5005/#/experiments/1/runs/9f4b8024d804479a8f2dea14dc5f67b2\n",
      "🧪 View experiment at: http://localhost:5005/#/experiments/1\n"
     ]
    },
    {
     "name": "stderr",
     "output_type": "stream",
     "text": [
      "2025/10/03 18:56:18 INFO dspy.evaluate.evaluate: Average Metric: 40.63964689364688 / 60 (67.7%)\n"
     ]
    },
    {
     "name": "stdout",
     "output_type": "stream",
     "text": [
      "🏃 View run eval_43 at: http://localhost:5005/#/experiments/1/runs/fb8d59acb7d14a17a6b914484d8d2d5e\n",
      "🧪 View experiment at: http://localhost:5005/#/experiments/1\n"
     ]
    },
    {
     "name": "stderr",
     "output_type": "stream",
     "text": [
      "2025/10/03 18:56:18 INFO dspy.teleprompt.gepa.gepa: Iteration 16: New program is on the linear pareto front\n",
      "2025/10/03 18:56:18 INFO dspy.teleprompt.gepa.gepa: Iteration 16: Full valset score for new program: 0.6773274482274482\n",
      "2025/10/03 18:56:18 INFO dspy.teleprompt.gepa.gepa: Iteration 16: Full train_val score for new program: 0.6773274482274482\n",
      "2025/10/03 18:56:18 INFO dspy.teleprompt.gepa.gepa: Iteration 16: Individual valset scores for new program: [1.0, 0.8159459459459459, 0.6716216216216215, 0.6432432432432432, 0.5852638352638352, 0.45630630630630625, 0.8256756756756757, 0.9549549549549549, 0.7567567567567567, 0.7972972972972973, 0.6027027027027027, 0.5554054054054054, 0.6418918918918919, 0.7422779922779923, 0.30540540540540534, 0.48198198198198194, 0.9729729729729729, 0.7864864864864864, 0.9549549549549549, 0.9662162162162162, 0.9189189189189189, 0.4281081081081081, 0.5756756756756756, 0.9078378378378378, 0.8423423423423423, 0.7162162162162161, 0.5073873873873873, 0.7162162162162161, 0.7297297297297297, 0.8532972972972973, 0.2496936936936937, 1.0, 0.381081081081081, 0.7459459459459459, 0.7522522522522522, 0.9, 0.7648648648648648, 0.30540540540540534, 0.9324324324324325, 0.08302702702702705, 0.5073873873873873, 0.7243243243243243, 0.42413127413127416, 0.9189189189189189, 0.881081081081081, 0.9549549549549549, 0.43378378378378374, 0.47747747747747743, 0.36455855855855857, 0.29324324324324325, 0.7999999999999999, 0.518018018018018, 0.6375675675675675, 0.9121621621621622, 0.9549549549549549, 0.3803243243243243, 0.5542342342342342, 0.6032972972972973, 0.5489107289107289, 0.9225225225225224]\n",
      "2025/10/03 18:56:18 INFO dspy.teleprompt.gepa.gepa: Iteration 16: New valset pareto front scores: [1.0, 0.8513513513513513, 0.6716216216216215, 0.6432432432432432, 0.8243243243243242, 0.609079209079209, 0.8256756756756757, 0.9549549549549549, 0.7608108108108108, 0.7972972972972973, 0.6108108108108107, 0.6693693693693693, 0.9121621621621622, 0.7625482625482626, 0.8783783783783783, 0.6027027027027027, 0.9729729729729729, 0.7864864864864864, 1.0, 0.9662162162162162, 0.9189189189189189, 0.7683397683397684, 0.9405405405405405, 0.9078378378378378, 0.9121621621621622, 0.7162162162162161, 0.9662162162162162, 0.7162162162162161, 0.7297297297297297, 0.8532972972972973, 0.5875315315315315, 1.0, 0.6342342342342342, 0.7459459459459459, 0.7522522522522522, 1.0, 0.858108108108108, 0.8153153153153153, 1.0, 0.9324324324324325, 0.5524324324324325, 1.0, 0.5193693693693693, 1.0, 0.9283783783783783, 1.0, 0.8040540540540541, 0.545045045045045, 0.5424864864864865, 0.5387387387387387, 0.7999999999999999, 0.9037837837837837, 0.6713513513513513, 0.9121621621621622, 0.9549549549549549, 0.7297297297297297, 0.648089468779124, 0.6032972972972973, 0.629129129129129, 0.9549549549549549]\n",
      "2025/10/03 18:56:18 INFO dspy.teleprompt.gepa.gepa: Iteration 16: Full valset pareto front score: 0.801554298499126\n",
      "2025/10/03 18:56:18 INFO dspy.teleprompt.gepa.gepa: Iteration 16: Updated valset pareto front programs: [{11}, {8}, {11}, {2, 11}, {7}, {0}, {11}, {11}, {9}, {11}, {7}, {9}, {8}, {0}, {7}, {1}, {11}, {11}, {2, 10}, {11, 7}, {11, 7}, {1}, {7}, {11}, {7}, {9, 11, 7}, {9}, {11}, {9, 11, 5, 7}, {11}, {1, 3}, {0, 10, 11, 7}, {2}, {11}, {11}, {9, 7}, {7}, {10}, {1, 2, 3, 4}, {9}, {10, 3}, {7}, {9}, {2, 5}, {7}, {7}, {9}, {1, 2, 3, 4, 10}, {7}, {0}, {11}, {3}, {10, 6}, {11}, {9, 11}, {3}, {4}, {11}, {7}, {7}]\n",
      "2025/10/03 18:56:18 INFO dspy.teleprompt.gepa.gepa: Iteration 16: Best valset aggregate score so far: 0.6773274482274482\n",
      "2025/10/03 18:56:18 INFO dspy.teleprompt.gepa.gepa: Iteration 16: Best program as per aggregate score on train_val: 11\n",
      "2025/10/03 18:56:18 INFO dspy.teleprompt.gepa.gepa: Iteration 16: Best program as per aggregate score on valset: 11\n",
      "2025/10/03 18:56:18 INFO dspy.teleprompt.gepa.gepa: Iteration 16: Best score on valset: 0.6773274482274482\n",
      "2025/10/03 18:56:18 INFO dspy.teleprompt.gepa.gepa: Iteration 16: Best score on train_val: 0.6773274482274482\n",
      "2025/10/03 18:56:18 INFO dspy.teleprompt.gepa.gepa: Iteration 16: Linear pareto front program index: 11\n",
      "2025/10/03 18:56:18 INFO dspy.teleprompt.gepa.gepa: Iteration 16: New program candidate index: 11\n",
      "GEPA Optimization:  40%|████████████████████████████████████████████▎                                                                   | 816/2065 [1:07:36<1:41:25,  4.87s/rollouts]2025/10/03 18:56:18 INFO dspy.teleprompt.gepa.gepa: Iteration 17: Selected program 2 score: 0.5873251395639492\n"
     ]
    },
    {
     "name": "stdout",
     "output_type": "stream",
     "text": [
      "Average Metric: 1.13 / 3 (37.8%): 100%|████████████████████████████████████████████████████████████████████████████████████████████████████████████████| 3/3 [00:47<00:00, 15.75s/it]"
     ]
    },
    {
     "name": "stderr",
     "output_type": "stream",
     "text": [
      "2025/10/03 18:57:06 INFO dspy.evaluate.evaluate: Average Metric: 1.1345945945945946 / 3 (37.8%)\n"
     ]
    },
    {
     "name": "stdout",
     "output_type": "stream",
     "text": [
      "\n",
      "🏃 View run eval_44 at: http://localhost:5005/#/experiments/1/runs/1398ef1685824592a9a29b2aad2e3d4a\n",
      "🧪 View experiment at: http://localhost:5005/#/experiments/1\n"
     ]
    },
    {
     "name": "stderr",
     "output_type": "stream",
     "text": [
      "2025/10/03 18:57:41 INFO dspy.teleprompt.gepa.gepa: Iteration 17: Proposed new text for extract_info.predict: Your task is to act as a specialized information extraction module. Given a complex question and a set of retrieved documents, your goal is to extract key pieces of information (facts, entities, relationships, dates) that are relevant to answering the question. Think of this as gathering clues for a multi-step reasoning process. Your output must be a list of these key informational snippets.\n",
      "\n",
      "### Core Principles:\n",
      "\n",
      "1.  **Deconstruct the Question:** Do not try to answer the question directly or in one go. First, break the complex question down into its smaller, constituent parts or sub-questions. Identify the key entities and the specific information needed about them.\n",
      "    *   *Example Question:* \"What incorrect term for the indigenous population originated with the first explorer to discover new land west of Africa and the continent Schreckhorn is on?\"\n",
      "    *   *Deconstruction:*\n",
      "        *   Component 1: The continent where the Schreckhorn is located.\n",
      "        *   Component 2: The identity of the first explorer.\n",
      "        *   Component 3: The incorrect term associated with that explorer.\n",
      "\n",
      "2.  **Extract Partial and Relevant Information:** Scan the provided documents for any information that helps answer **any** of the deconstructed components. Even if a document only helps with one small part of the question, that information is a critical clue and must be extracted.\n",
      "    *   *Example:* For the question above, if a document states \"The Schreckhorn... is the northernmost summit rising above 4,000 metres in Europe,\" you must extract the fact that **\"The Schreckhorn is in Europe.\"** This directly addresses the first component of the question and is a vital piece of information for the next step.\n",
      "\n",
      "3.  **Focus on Extraction, Not Answering:** Your primary role is to extract facts, not to synthesize a final answer.\n",
      "    *   Your output should be a list of extracted facts.\n",
      "    *   Do not state that the question is unanswerable based on the provided text. Your job is to find any and all relevant clues.\n",
      "    *   If a document contains absolutely no information relevant to any part of the question, and only then, you may return an empty list.\n",
      "\n",
      "### What to Extract:\n",
      "\n",
      "*   **Entities and their Attributes:** Extract specific properties of the entities mentioned in the question.\n",
      "    *   *Example:* If the question is about \"Magdolna Purgly\" and the document says she was born in the \"Kingdom of Hungary\", extract **\"Magdolna Purgly was from Hungary\"**.\n",
      "*   **Relationships between Entities:** Extract facts that connect different entities.\n",
      "    *   *Example:* If the question is about America's oil sources and the document mentions \"the United States was the world's third-largest producer of crude oil, after Saudi Arabia and Russia,\" this relationship is potentially relevant and should be extracted.\n",
      "*   **Key Facts, Dates, and Numbers:** Any specific data point that relates to a component of the question.\n",
      "\n",
      "By following these instructions, you will provide the necessary building blocks for a larger system to solve complex questions. Your precision in extracting these intermediate facts is paramount.\n",
      "2025/10/03 18:58:40 INFO dspy.evaluate.evaluate: Average Metric: 0.808018018018018 / 3 (26.9%)\n"
     ]
    },
    {
     "name": "stdout",
     "output_type": "stream",
     "text": [
      "🏃 View run eval_45 at: http://localhost:5005/#/experiments/1/runs/d3422f5b2bf14dfea457dce36374d0f5\n",
      "🧪 View experiment at: http://localhost:5005/#/experiments/1\n"
     ]
    },
    {
     "name": "stderr",
     "output_type": "stream",
     "text": [
      "2025/10/03 18:58:40 INFO dspy.teleprompt.gepa.gepa: Iteration 17: New subsample score is not better, skipping\n",
      "GEPA Optimization:  40%|████████████████████████████████████████████▌                                                                   | 822/2065 [1:09:58<1:59:14,  5.76s/rollouts]2025/10/03 18:58:40 INFO dspy.teleprompt.gepa.gepa: Iteration 18: Selected program 4 score: 0.46936745015505377\n"
     ]
    },
    {
     "name": "stdout",
     "output_type": "stream",
     "text": [
      "Average Metric: 0.63 / 3 (21.1%): 100%|████████████████████████████████████████████████████████████████████████████████████████████████████████████████| 3/3 [00:56<00:00, 18.96s/it]"
     ]
    },
    {
     "name": "stderr",
     "output_type": "stream",
     "text": [
      "2025/10/03 18:59:38 INFO dspy.evaluate.evaluate: Average Metric: 0.6316756756756756 / 3 (21.1%)\n"
     ]
    },
    {
     "name": "stdout",
     "output_type": "stream",
     "text": [
      "\n",
      "🏃 View run eval_46 at: http://localhost:5005/#/experiments/1/runs/37a54074fe3748d3865810026a700964\n",
      "🧪 View experiment at: http://localhost:5005/#/experiments/1\n"
     ]
    },
    {
     "name": "stderr",
     "output_type": "stream",
     "text": [
      "2025/10/03 19:00:12 INFO dspy.teleprompt.gepa.gepa: Iteration 18: Proposed new text for generate_answer.predict: You are an expert AI assistant designed for multi-hop question answering based on a provided set of documents. Your task is to provide a concise, accurate answer to a question and cite all the documents that support it.\n",
      "\n",
      "### Core Task\n",
      "Given a multi-hop question and a collection of information snippets (documents with IDs), your goal is to synthesize the information to formulate a direct answer and provide comprehensive citations.\n",
      "\n",
      "### Step-by-Step Instructions\n",
      "\n",
      "1.  **Deconstruct the Question:** Carefully analyze the user's question. Break it down into smaller, logical sub-questions or entities that need to be linked. Identify the chain of reasoning required to connect all parts of the question.\n",
      "\n",
      "2.  **Thoroughly Scan All Information:** Read every document provided in the `all_information` section. As you read, identify any facts, names, dates, or relationships that are relevant to the sub-questions you identified.\n",
      "\n",
      "3.  **Synthesize and Bridge the Hops:** Connect the pieces of information you found across different documents. For example, one document might establish that City A is in Country B, while another document provides a fact about Country B. You must link these two pieces of information to answer a question about City A.\n",
      "\n",
      "4.  **Formulate the Answer:**\n",
      "    *   The answer must be concise and directly address what the question asks.\n",
      "    *   **Crucially, you must use the exact entities, dates, and specific facts as they appear in the source documents.** Do not paraphrase, generalize, or use your own words. For example, if a source document specifies the answer is \"by the end of 1346\", do not simplify it to \"1347\". If a source calls a region the \"Interior Highlands\", use that exact term.\n",
      "    *   Synthesize information from all relevant documents to provide the most precise and complete answer possible.\n",
      "\n",
      "5.  **Compile All Citations:**\n",
      "    *   Identify every single document that contributed a piece of information to your final answer. This includes documents that support intermediate steps in your reasoning chain.\n",
      "    *   List the IDs of all supporting documents. It is critical to be exhaustive; missing a relevant citation is a failure.\n",
      "\n",
      "### Critical Rules to Follow\n",
      "\n",
      "*   **Use Only Provided Information:** Your answer must be based exclusively on the text in `all_information`. Do not use any external knowledge.\n",
      "*   **Precision is Paramount:** Always choose the most specific and precise information available in the documents. Vague or generalized answers are incorrect if more specific details are present.\n",
      "*   **Cite Everything:** You must cite every document that contains a fact used to construct your answer. If you connect a fact from document [A] to a fact from document [B] to form the answer, you must cite both [A] and [B].\n",
      "*   **Do Not Give Up Easily:** Before concluding that an answer cannot be found, ensure you have meticulously checked every document for relevant information. Only state that the question is unanswerable as a last resort.\n",
      "2025/10/03 19:01:02 INFO dspy.evaluate.evaluate: Average Metric: 0.9773513513513514 / 3 (32.6%)\n"
     ]
    },
    {
     "name": "stdout",
     "output_type": "stream",
     "text": [
      "🏃 View run eval_47 at: http://localhost:5005/#/experiments/1/runs/d947a2afda714e1383e045d2f2e2bcec\n",
      "🧪 View experiment at: http://localhost:5005/#/experiments/1\n"
     ]
    },
    {
     "name": "stderr",
     "output_type": "stream",
     "text": [
      "2025/10/03 19:03:55 INFO dspy.evaluate.evaluate: Average Metric: 28.07373023114011 / 60 (46.8%)\n"
     ]
    },
    {
     "name": "stdout",
     "output_type": "stream",
     "text": [
      "🏃 View run eval_48 at: http://localhost:5005/#/experiments/1/runs/2ec4766436c945679b7d6dd980b6f25f\n",
      "🧪 View experiment at: http://localhost:5005/#/experiments/1\n"
     ]
    },
    {
     "name": "stderr",
     "output_type": "stream",
     "text": [
      "2025/10/03 19:03:56 INFO dspy.teleprompt.gepa.gepa: Iteration 18: Full valset score for new program: 0.4678955038523352\n",
      "2025/10/03 19:03:56 INFO dspy.teleprompt.gepa.gepa: Iteration 18: Full train_val score for new program: 0.4678955038523352\n",
      "2025/10/03 19:03:56 INFO dspy.teleprompt.gepa.gepa: Iteration 18: Individual valset scores for new program: [0.6505945945945946, 0.6578143360752057, 0.3256756756756757, 0.6702702702702702, 0.5734234234234233, 0.4045045045045045, 0.3256756756756757, 0.581081081081081, 0.32, 0.8198198198198198, 0.47297297297297297, 0.6565835065835066, 0.545045045045045, 0.39459459459459456, 0.23558558558558557, 0.5012870012870013, 0.3414414414414414, 0.3256756756756757, 0.2722162162162162, 0.32, 0.7389189189189189, 0.40108108108108104, 0.6236842105263157, 0.5524324324324325, 0.3256756756756757, 0.33978378378378377, 0.5524324324324325, 0.3922136422136422, 0.6418918918918919, 0.33978378378378377, 0.2722162162162162, 0.33978378378378377, 0.6094594594594595, 0.4145945945945946, 0.4369369369369369, 0.7524324324324323, 0.7378378378378379, 0.3864864864864864, 0.33978378378378377, 0.08302702702702705, 0.32, 0.653153153153153, 0.3256756756756757, 0.7349443561208266, 0.7009009009009008, 1.0, 0.3607464607464607, 0.545045045045045, 0.33978378378378377, 0.3414414414414414, 0.32, 0.32, 1.0, 0.3256756756756757, 0.4614054054054054, 0.4614054054054054, 0.40998824911868387, 0.08302702702702705, 0.35603603603603606, 0.33978378378378377]\n",
      "2025/10/03 19:03:56 INFO dspy.teleprompt.gepa.gepa: Iteration 18: New valset pareto front scores: [1.0, 0.8513513513513513, 0.6716216216216215, 0.6702702702702702, 0.8243243243243242, 0.609079209079209, 0.8256756756756757, 0.9549549549549549, 0.7608108108108108, 0.8198198198198198, 0.6108108108108107, 0.6693693693693693, 0.9121621621621622, 0.7625482625482626, 0.8783783783783783, 0.6027027027027027, 0.9729729729729729, 0.7864864864864864, 1.0, 0.9662162162162162, 0.9189189189189189, 0.7683397683397684, 0.9405405405405405, 0.9078378378378378, 0.9121621621621622, 0.7162162162162161, 0.9662162162162162, 0.7162162162162161, 0.7297297297297297, 0.8532972972972973, 0.5875315315315315, 1.0, 0.6342342342342342, 0.7459459459459459, 0.7522522522522522, 1.0, 0.858108108108108, 0.8153153153153153, 1.0, 0.9324324324324325, 0.5524324324324325, 1.0, 0.5193693693693693, 1.0, 0.9283783783783783, 1.0, 0.8040540540540541, 0.545045045045045, 0.5424864864864865, 0.5387387387387387, 0.7999999999999999, 0.9037837837837837, 1.0, 0.9121621621621622, 0.9549549549549549, 0.7297297297297297, 0.648089468779124, 0.6032972972972973, 0.629129129129129, 0.9549549549549549]\n",
      "2025/10/03 19:03:56 INFO dspy.teleprompt.gepa.gepa: Iteration 18: Full valset pareto front score: 0.8078576018024293\n",
      "2025/10/03 19:03:56 INFO dspy.teleprompt.gepa.gepa: Iteration 18: Updated valset pareto front programs: [{11}, {8}, {11}, {12}, {7}, {0}, {11}, {11}, {9}, {12}, {7}, {9}, {8}, {0}, {7}, {1}, {11}, {11}, {2, 10}, {11, 7}, {11, 7}, {1}, {7}, {11}, {7}, {9, 11, 7}, {9}, {11}, {9, 11, 5, 7}, {11}, {1, 3}, {0, 10, 11, 7}, {2}, {11}, {11}, {9, 7}, {7}, {10}, {1, 2, 3, 4}, {9}, {10, 3}, {7}, {9}, {2, 5}, {7}, {12, 7}, {9}, {1, 2, 3, 4, 10, 12}, {7}, {0}, {11}, {3}, {12}, {11}, {9, 11}, {3}, {4}, {11}, {7}, {7}]\n",
      "2025/10/03 19:03:56 INFO dspy.teleprompt.gepa.gepa: Iteration 18: Best valset aggregate score so far: 0.6773274482274482\n",
      "2025/10/03 19:03:56 INFO dspy.teleprompt.gepa.gepa: Iteration 18: Best program as per aggregate score on train_val: 11\n",
      "2025/10/03 19:03:56 INFO dspy.teleprompt.gepa.gepa: Iteration 18: Best program as per aggregate score on valset: 11\n",
      "2025/10/03 19:03:56 INFO dspy.teleprompt.gepa.gepa: Iteration 18: Best score on valset: 0.6773274482274482\n",
      "2025/10/03 19:03:56 INFO dspy.teleprompt.gepa.gepa: Iteration 18: Best score on train_val: 0.6773274482274482\n",
      "2025/10/03 19:03:56 INFO dspy.teleprompt.gepa.gepa: Iteration 18: Linear pareto front program index: 11\n",
      "2025/10/03 19:03:56 INFO dspy.teleprompt.gepa.gepa: Iteration 18: New program candidate index: 12\n",
      "GEPA Optimization:  43%|████████████████████████████████████████████████▏                                                               | 888/2065 [1:15:14<1:44:47,  5.34s/rollouts]2025/10/03 19:03:56 INFO dspy.teleprompt.gepa.gepa: Iteration 19: Selected program 9 score: 0.6362530673530673\n"
     ]
    },
    {
     "name": "stdout",
     "output_type": "stream",
     "text": [
      "Average Metric: 2.10 / 3 (70.1%): 100%|████████████████████████████████████████████████████████████████████████████████████████████████████████████████| 3/3 [01:05<00:00, 21.78s/it]"
     ]
    },
    {
     "name": "stderr",
     "output_type": "stream",
     "text": [
      "2025/10/03 19:05:02 INFO dspy.evaluate.evaluate: Average Metric: 2.1043114543114543 / 3 (70.1%)\n"
     ]
    },
    {
     "name": "stdout",
     "output_type": "stream",
     "text": [
      "\n",
      "🏃 View run eval_49 at: http://localhost:5005/#/experiments/1/runs/a5f38ecf3f9a4b13b7bd2f12d261537b\n",
      "🧪 View experiment at: http://localhost:5005/#/experiments/1\n"
     ]
    },
    {
     "name": "stderr",
     "output_type": "stream",
     "text": [
      "2025/10/03 19:05:37 INFO dspy.teleprompt.gepa.gepa: Iteration 19: Proposed new text for extract_info.predict: You are an expert information extractor for a multi-step question-answering system. Your task is to analyze a given question and a set of retrieved documents, then extract key pieces of information that are crucial for answering the question.\n",
      "\n",
      "Your primary goal is to identify and extract atomic facts, entities, relationships, and dates that directly address a component of the question or provide a necessary link for the next step in the reasoning process.\n",
      "\n",
      "Follow these steps to perform your task:\n",
      "\n",
      "1.  **Deconstruct the Question:** Carefully analyze the question to understand its structure and the specific information it seeks. Break it down into its constituent parts. For example, a question like \"Who fathered the man who led X?\" requires you to first identify \"the man who led X\" and then identify his father.\n",
      "\n",
      "2.  **Scan for Relevance:** Read through the provided documents, looking for any mention of the entities, concepts, or relationships identified in the question.\n",
      "\n",
      "3.  **Extract Key Information:**\n",
      "    *   Extract only the most relevant and concise sentences or clauses that contain a key piece of information.\n",
      "    *   Each piece of information should be a self-contained fact that is explicitly stated in one of the documents.\n",
      "    *   If the documents provide information to solve different parts of the question, extract each piece of information separately. For instance, to identify Vasco da Gama's father, you should extract both the fact identifying Vasco da Gama as the explorer and the fact identifying his father.\n",
      "    *   If the documents do not contain the exact entity mentioned in the question but provide information on a very closely related one (e.g., the question asks about the village of Janabiyah, but the documents only mention the country of Bahrain), extract the information about the related entity (e.g., \"Britain withdrew from Bahrain in 1971\"). This is a valuable clue for the next reasoning step.\n",
      "    *   If the documents can only answer one part of a complex question (e.g., they identify the organization involved but not a number associated with it), extract only the information that is present. Do not invent or infer information that is not in the text.\n",
      "\n",
      "**What to focus on:**\n",
      "*   **Entities:** People, organizations, locations (e.g., Vasco da Gama, United Nations, Bahrain).\n",
      "*   **Relationships:** Connections between entities (e.g., \"Vasco da Gama's father was Estêvão da Gama\").\n",
      "*   **Dates & Events:** Specific points in time or occurrences (e.g., \"The British withdrew from Aden in 1967, Bahrain in 1971\").\n",
      "*   **Facts:** Definitive statements that help resolve a part of the question (e.g., \"The UN Command forces followed the ROK forces northwards with UN authorization\").\n",
      "\n",
      "Your output must be a list of these key information snippets, with each snippet linked to its source document ID.\n",
      "2025/10/03 19:06:45 INFO dspy.evaluate.evaluate: Average Metric: 1.9398970398970399 / 3 (64.7%)\n"
     ]
    },
    {
     "name": "stdout",
     "output_type": "stream",
     "text": [
      "🏃 View run eval_50 at: http://localhost:5005/#/experiments/1/runs/39776830e7034542abd2040e680cd94a\n",
      "🧪 View experiment at: http://localhost:5005/#/experiments/1\n"
     ]
    },
    {
     "name": "stderr",
     "output_type": "stream",
     "text": [
      "2025/10/03 19:06:46 INFO dspy.teleprompt.gepa.gepa: Iteration 19: New subsample score is not better, skipping\n",
      "GEPA Optimization:  43%|████████████████████████████████████████████████▍                                                               | 894/2065 [1:18:04<2:07:42,  6.54s/rollouts]2025/10/03 19:06:46 INFO dspy.teleprompt.gepa.gepa: Iteration 20: Selected program 0 score: 0.6045398270795489\n"
     ]
    },
    {
     "name": "stdout",
     "output_type": "stream",
     "text": [
      "Average Metric: 1.66 / 3 (55.2%): 100%|████████████████████████████████████████████████████████████████████████████████████████████████████████████████| 3/3 [00:59<00:00, 19.87s/it]"
     ]
    },
    {
     "name": "stderr",
     "output_type": "stream",
     "text": [
      "2025/10/03 19:07:46 INFO dspy.evaluate.evaluate: Average Metric: 1.6564504504504503 / 3 (55.2%)\n"
     ]
    },
    {
     "name": "stdout",
     "output_type": "stream",
     "text": [
      "\n",
      "🏃 View run eval_51 at: http://localhost:5005/#/experiments/1/runs/2ef85da2b8aa4756b4c17564e516f5db\n",
      "🧪 View experiment at: http://localhost:5005/#/experiments/1\n"
     ]
    },
    {
     "name": "stderr",
     "output_type": "stream",
     "text": [
      "2025/10/03 19:08:27 INFO dspy.teleprompt.gepa.gepa: Iteration 20: Proposed new text for extract_info.predict: Your task is to act as a reasoning and information extraction module. Given a user's question and a set of retrieved text documents, you must carefully analyze the documents and extract only the key pieces of information that directly help in answering the question.\n",
      "\n",
      "### Core Instructions:\n",
      "\n",
      "1.  **Deconstruct the Question:** First, break down the user's question into its core components. Identify the specific entities (people, places, organizations), relationships, and the type of information being asked for (e.g., a date, a reason, a method). Be wary of convoluted phrasing or potential red herrings that are not addressed in the provided documents.\n",
      "\n",
      "2.  **Targeted and Atomic Extraction:** Scan the documents for information that directly addresses the components of the question. Your goal is not to summarize the documents, but to pull out specific, relevant facts.\n",
      "    *   **Atomicity:** Extract information as small, self-contained, and factual statements. Instead of copying a whole sentence, extract the precise clause or fact that is needed. For example, from \"Alta is an unincorporated community in Greenbrier County, West Virginia, United States,\" you might extract \"Alta is in West Virginia\" and \"West Virginia is in the United States.\"\n",
      "    *   **Causality:** If the question asks \"how\" or \"why,\" ensure your extracted information includes the causal link, method, or event. For example, if a document says \"Taiwan was ceded to Japan following the First Sino-Japanese War,\" the key information is not just \"Taiwan was ceded to Japan,\" but the fact that this happened as a result of the \"First Sino-Japanese War.\"\n",
      "\n",
      "3.  **Verify Context and Consistency:** When synthesizing information, especially from different documents or different parts of a document, pay close attention to the context.\n",
      "    *   **Temporal Awareness:** Do not link entities or events from different time periods unless the text explicitly supports it. For instance, if one document mentions a player from the 1960s and another mentions the same team's championship in 2017, do not assume the player was part of that championship team. Extract both facts separately and note the temporal gap in your reasoning.\n",
      "\n",
      "4.  **Structure Your Output:** You must provide two outputs: `reasoning` and `key_informations`.\n",
      "    *   **`reasoning`:** Provide a clear, step-by-step explanation of your thought process. Describe how you interpreted the question, what information you searched for, and how the extracted `key_informations` connect to form an answer. If the documents are insufficient or contain conflicting/disconnected information (like a temporal mismatch), explicitly state this in your reasoning.\n",
      "    *   **`key_informations`:** Provide a list of the extracted atomic facts. Each fact must be a concise string and must be attributed to its `source_doc_id`.\n",
      "\n",
      "### Summary of Key Principles:\n",
      "*   **Precision over Completeness:** Extract only what is necessary to answer the specific question asked.\n",
      "*   **Factuality:** Stick to what is explicitly stated in the documents. Do not make assumptions or infer connections that are not supported by the text.\n",
      "*   **Context is King:** Always consider the temporal and situational context of the information before linking facts together.\n"
     ]
    }
   ],
   "source": [
    "# Run GEPA optimization\n",
    "print(\"🚀 Starting GEPA optimization...\")\n",
    "\n",
    "optimized_program = optimizer.compile(\n",
    "    program,\n",
    "    trainset=train_ds,\n",
    "    valset=val_ds,\n",
    ")\n",
    "\n",
    "print(\"✅ GEPA optimization completed!\")"
   ]
  },
  {
   "cell_type": "code",
   "execution_count": null,
   "id": "3f130b47-19f7-496c-9c5c-618256ae63f2",
   "metadata": {},
   "outputs": [],
   "source": [
    "optimized_program.save(str(EXP_DIR / \"optimized-program\"), save_program=True)"
   ]
  },
  {
   "cell_type": "markdown",
   "id": "bb18cfef",
   "metadata": {},
   "source": [
    "### Examine Optimized Prompts\n",
    "\n",
    "Let's look at how GEPA improved the prompts for each predictor:\n"
   ]
  },
  {
   "cell_type": "code",
   "execution_count": null,
   "id": "4f024bad",
   "metadata": {},
   "outputs": [],
   "source": [
    "for name, pred in optimized_program.named_predictors():\n",
    "    print(\"=\" * 60)\n",
    "    print(f\"Predictor: {name}\")\n",
    "    print(\"=\" * 60)\n",
    "    print(\"Optimized Instructions:\")\n",
    "    print(pred.signature.instructions)\n",
    "    print(\"*\" * 60)\n"
   ]
  },
  {
   "cell_type": "markdown",
   "id": "d124ea24",
   "metadata": {},
   "source": [
    "### Evaluate Optimized Program\n",
    "\n",
    "Compare the performance before and after GEPA optimization:\n"
   ]
  },
  {
   "cell_type": "code",
   "execution_count": null,
   "id": "c89ccf19",
   "metadata": {},
   "outputs": [],
   "source": [
    "print(\"\\\\n📊 Evaluating OPTIMIZED program...\")\n",
    "# Evaluate optimized program  \n",
    "optimized_evaluate = dspy.Evaluate(\n",
    "    devset=test_ds,\n",
    "    metric=metric,\n",
    "    num_threads=8,\n",
    "    display_table=False,\n",
    "    display_progress=True\n",
    ")\n",
    "optimized_eval_result = optimized_evaluate(optimized_program)"
   ]
  },
  {
   "cell_type": "code",
   "execution_count": 42,
   "id": "8b0a68bb-75de-4d20-a17b-b4fb234404de",
   "metadata": {},
   "outputs": [
    {
     "name": "stdout",
     "output_type": "stream",
     "text": [
      "==================================================\n",
      "🏆 PERFORMANCE COMPARISON\n",
      "==================================================\n",
      "Original Program Score:  65.240\n",
      "Optimized Program Score: 73.440\n",
      "Improvement:             +8.200\n",
      "Relative Improvement:    +12.6%\n"
     ]
    }
   ],
   "source": [
    "print(\"=\" * 50)\n",
    "print(\"🏆 PERFORMANCE COMPARISON\")\n",
    "print(\"=\" * 50)\n",
    "print(f\"Original Program Score:  {original_eval_result.score:.3f}\")\n",
    "print(f\"Optimized Program Score: {optimized_eval_result.score:.3f}\")\n",
    "print(f\"Improvement:             {optimized_eval_result.score - original_eval_result.score:+.3f}\")\n",
    "print(f\"Relative Improvement:    {((optimized_eval_result.score / original_eval_result.score) - 1) * 100:+.1f}%\")"
   ]
  },
  {
   "cell_type": "markdown",
   "id": "8cdf4598",
   "metadata": {},
   "source": [
    "### GEPA Optimization Analysis\n",
    "\n",
    "Analyze the detailed optimization results:\n"
   ]
  },
  {
   "cell_type": "code",
   "execution_count": 26,
   "id": "cba80a13",
   "metadata": {},
   "outputs": [
    {
     "name": "stdout",
     "output_type": "stream",
     "text": [
      "🔍 GEPA Optimization Details:\n",
      "- Total candidates explored: 30\n",
      "- Best candidate index: 19\n",
      "- Best validation score: 0.686\n",
      "- Discovery evaluations used: 30432\n",
      "\\n📈 Score progression:\n",
      "Candidate 0: 0.605\n",
      "Candidate 1: 0.575\n",
      "Candidate 2: 0.587\n",
      "Candidate 3: 0.590\n",
      "Candidate 4: 0.469\n",
      "Candidate 5: 0.582\n",
      "Candidate 6: 0.476\n",
      "Candidate 7: 0.674\n",
      "Candidate 8: 0.585\n",
      "Candidate 9: 0.636\n",
      "... and 20 more candidates\n"
     ]
    }
   ],
   "source": [
    "# Analyze GEPA optimization trajectory\n",
    "if hasattr(optimized_program, 'detailed_results'):\n",
    "    results = optimized_program.detailed_results\n",
    "    \n",
    "    print(\"🔍 GEPA Optimization Details:\")\n",
    "    print(f\"- Total candidates explored: {len(results.candidates)}\")\n",
    "    print(f\"- Best candidate index: {results.best_idx}\")\n",
    "    print(f\"- Best validation score: {results.val_aggregate_scores[results.best_idx]:.3f}\")\n",
    "    print(f\"- Discovery evaluations used: {sum(results.discovery_eval_counts)}\")\n",
    "    \n",
    "    # Show score progression\n",
    "    print(\"\\\\n📈 Score progression:\")\n",
    "    for i, score in enumerate(results.val_aggregate_scores[:10]):  # Show first 10\n",
    "        print(f\"Candidate {i}: {score:.3f}\")\n",
    "    \n",
    "    if len(results.val_aggregate_scores) > 10:\n",
    "        print(f\"... and {len(results.val_aggregate_scores) - 10} more candidates\")\n",
    "else:\n",
    "    print(\"Detailed results not available (set track_stats=True in GEPA constructor)\")\n"
   ]
  },
  {
   "cell_type": "code",
   "execution_count": 39,
   "id": "62496d78-b7bd-478f-9095-391e47d9fedb",
   "metadata": {},
   "outputs": [],
   "source": [
    "# def dag_to_dot(parent_program_for_candidate, dominator_program_ids, best_program_idx, full_eval_scores):\n",
    "#     dot_lines = [\n",
    "#         \"digraph G {\",\n",
    "#         \"    node [style=filled, shape=circle, fontsize=50];\"\n",
    "#     ]\n",
    "#     n = len(parent_program_for_candidate)\n",
    "#     # Set up nodes with colors and scores in labels\n",
    "#     for idx in range(n):\n",
    "#         score = full_eval_scores[idx]\n",
    "#         label = f\"{idx}\\\\n({score:.2f})\"\n",
    "#         if idx == best_program_idx:\n",
    "#             dot_lines.append(f'    {idx} [label=\"{label}\", fillcolor=cyan, fontcolor=black];')\n",
    "#         elif idx in dominator_program_ids:\n",
    "#             dot_lines.append(f'    {idx} [label=\"{label}\", fillcolor=orange, fontcolor=black];')\n",
    "#         else:\n",
    "#             dot_lines.append(f'    {idx} [label=\"{label}\"];')\n",
    "    \n",
    "#     # Set up edges\n",
    "#     for child, parents in enumerate(parent_program_for_candidate):\n",
    "#         for parent in parents:\n",
    "#             if parent is not None:\n",
    "#                 dot_lines.append(f'    {parent} -> {child};')\n",
    "    \n",
    "#     dot_lines.append(\"}\")\n",
    "#     return \"\\n\".join(dot_lines)\n",
    "\n",
    "# from gepa.gepa_utils import find_dominator_programs\n",
    "# pareto_front_programs = find_dominator_programs(optimized_program.detailed_results.per_val_instance_best_candidates, optimized_program.detailed_results.val_aggregate_scores)\n",
    "\n",
    "# print(dag_to_dot(\n",
    "#     optimized_program.detailed_results.parents,\n",
    "#     pareto_front_programs,\n",
    "#     optimized_program.detailed_results.best_idx,\n",
    "#     optimized_program.detailed_results.val_aggregate_scores\n",
    "# ))"
   ]
  },
  {
   "cell_type": "code",
   "execution_count": 32,
   "id": "a2255f9a",
   "metadata": {},
   "outputs": [
    {
     "name": "stdout",
     "output_type": "stream",
     "text": [
      "🧪 Testing optimized program on example:\n",
      "Question: Who is played by the director of The Good Shepherd in The Godfather?\n",
      "Expected Answer: Vito Corleone\n",
      "Supporting Docs: ['10', '11']\n",
      "\n",
      "📋 ORIGINAL vs OPTIMIZED Results:\n",
      "--------------------------------------------------\n",
      "ORIGINAL:\n",
      "  Answer: The question cannot be answered based on the provided information, as it conflates the director of *The Good Shepherd* (Robert De Niro) with the director of *The Godfather* (Francis Ford Coppola).\n",
      "  Retrieved docs: ['10', '9', '11']\n",
      "  Citations: ['10', '9', '11']\n",
      "Original score: 0.568\n",
      "OPTIMIZED:\n",
      "  Answer: Vito Corleone\n",
      "  Retrieved docs: ['10', '9', '11']\n",
      "  Citations: ['9', '10', '11']\n",
      "Optimized score: 0.838\n"
     ]
    },
    {
     "data": {
      "text/html": [
       "\n",
       "<div>\n",
       "  <style scoped>\n",
       "  button {\n",
       "    border: none;\n",
       "    border-radius: 4px;\n",
       "    background-color: rgb(34, 114, 180);\n",
       "    font-family: -apple-system, \"system-ui\", \"Segoe UI\", Roboto, \"Helvetica Neue\", Arial;\n",
       "    font-size: 13px;\n",
       "    color: white;\n",
       "    margin-top: 8px;\n",
       "    margin-bottom: 8px;\n",
       "    padding: 8px 16px;\n",
       "    cursor: pointer;\n",
       "  }\n",
       "  button:hover {\n",
       "    background-color: rgb(66, 153, 224);\n",
       "  }\n",
       "  </style>\n",
       "  <button\n",
       "    onclick=\"\n",
       "        const display = this.nextElementSibling.style.display;\n",
       "        const isCollapsed = display === 'none';\n",
       "        this.nextElementSibling.style.display = isCollapsed ? null : 'none';\n",
       "\n",
       "        const verb = isCollapsed ? 'Collapse' : 'Expand';\n",
       "        this.innerText = `${verb} MLflow Trace`;\n",
       "    \"\n",
       "  >Collapse MLflow Trace</button>\n",
       "  <iframe\n",
       "    id=\"trace-renderer\"\n",
       "    style=\"width: 100%; height: 500px; border: none; resize: vertical;\"\n",
       "    src=\"http://localhost:5005/static-files/lib/notebook-trace-renderer/index.html?trace_id=tr-103a2c8e6324e0a571e64a2dccdb933b&amp;experiment_id=1&amp;trace_id=tr-eb4c45f093ee951d34a2b6c3871db411&amp;experiment_id=1&amp;version=3.4.0\"\n",
       "  />\n",
       "</div>\n"
      ],
      "text/plain": [
       "[Trace(trace_id=tr-103a2c8e6324e0a571e64a2dccdb933b), Trace(trace_id=tr-eb4c45f093ee951d34a2b6c3871db411)]"
      ]
     },
     "metadata": {},
     "output_type": "display_data"
    }
   ],
   "source": [
    "# Test optimized program on the same example\n",
    "example = test_ds[2]\n",
    "\n",
    "print(\"🧪 Testing optimized program on example:\")\n",
    "print(f\"Question: {example.question}\")\n",
    "print(f\"Expected Answer: {example.answer}\")\n",
    "print(f\"Supporting Docs: {example.supporting_ids}\")\n",
    "print()\n",
    "\n",
    "pred = program(example.question, example.docs)\n",
    "original_metric_result = metric_with_feedback(example, pred)\n",
    "\n",
    "print(\"📋 ORIGINAL vs OPTIMIZED Results:\")\n",
    "print(\"-\" * 50)\n",
    "print(\"ORIGINAL:\")\n",
    "print(f\"  Answer: {pred.answer}\")\n",
    "print(f\"  Retrieved docs: {pred.retrieved_doc_ids}\")\n",
    "print(f\"  Citations: {pred.citations}\")\n",
    "print(f\"Original score: {original_metric_result.score:.3f}\")\n",
    "# print(f\"Original feedback: {original_metric_result.feedback}\")\n",
    "\n",
    "optimized_pred = optimized_program(example.question, example.docs)\n",
    "optimized_metric_result = metric_with_feedback(example, optimized_pred)\n",
    "print(\"OPTIMIZED:\")\n",
    "print(f\"  Answer: {optimized_pred.answer}\")\n",
    "print(f\"  Retrieved docs: {optimized_pred.retrieved_doc_ids}\")\n",
    "print(f\"  Citations: {optimized_pred.citations}\")\n",
    "print(f\"Optimized score: {optimized_metric_result.score:.3f}\")\n",
    "# print(f\"Optimized feedback: {optimized_metric_result.feedback}\")"
   ]
  },
  {
   "cell_type": "markdown",
   "id": "c1ff3a39-8ff5-4be5-bbf6-0a57f14ef517",
   "metadata": {},
   "source": [
    "Can we measure instruction quality by using them with a larger model to see if it gets questions right?"
   ]
  },
  {
   "cell_type": "code",
   "execution_count": 33,
   "id": "aec0176f-4ed8-4f20-872c-b42be3203e43",
   "metadata": {},
   "outputs": [
    {
     "data": {
      "text/plain": [
       "EvaluationResult(score=73.44, results=<list of 50 results>)"
      ]
     },
     "execution_count": 33,
     "metadata": {},
     "output_type": "execute_result"
    }
   ],
   "source": [
    "optimized_eval_result"
   ]
  },
  {
   "cell_type": "code",
   "execution_count": 36,
   "id": "f3825fb6-47c3-4b77-8eb4-15b8aef9d85d",
   "metadata": {},
   "outputs": [
    {
     "name": "stdout",
     "output_type": "stream",
     "text": [
      "\\n📊 Evaluating OPTIMIZED program with teach LM...\n",
      "Average Metric: 36.80 / 50 (73.6%): 100%|████████████████████████████████████████████████████████████████████████████████████████████████████████████| 50/50 [14:05<00:00, 16.91s/it]"
     ]
    },
    {
     "name": "stderr",
     "output_type": "stream",
     "text": [
      "2025/10/04 15:07:22 INFO dspy.evaluate.evaluate: Average Metric: 36.796766974766975 / 50 (73.6%)\n"
     ]
    },
    {
     "name": "stdout",
     "output_type": "stream",
     "text": [
      "\n",
      "🏃 View run eval at: http://localhost:5005/#/experiments/1/runs/5a516d8318a54670be615d3aedcfe306\n",
      "🧪 View experiment at: http://localhost:5005/#/experiments/1\n"
     ]
    },
    {
     "data": {
      "text/html": [
       "\n",
       "<div>\n",
       "  <style scoped>\n",
       "  button {\n",
       "    border: none;\n",
       "    border-radius: 4px;\n",
       "    background-color: rgb(34, 114, 180);\n",
       "    font-family: -apple-system, \"system-ui\", \"Segoe UI\", Roboto, \"Helvetica Neue\", Arial;\n",
       "    font-size: 13px;\n",
       "    color: white;\n",
       "    margin-top: 8px;\n",
       "    margin-bottom: 8px;\n",
       "    padding: 8px 16px;\n",
       "    cursor: pointer;\n",
       "  }\n",
       "  button:hover {\n",
       "    background-color: rgb(66, 153, 224);\n",
       "  }\n",
       "  </style>\n",
       "  <button\n",
       "    onclick=\"\n",
       "        const display = this.nextElementSibling.style.display;\n",
       "        const isCollapsed = display === 'none';\n",
       "        this.nextElementSibling.style.display = isCollapsed ? null : 'none';\n",
       "\n",
       "        const verb = isCollapsed ? 'Collapse' : 'Expand';\n",
       "        this.innerText = `${verb} MLflow Trace`;\n",
       "    \"\n",
       "  >Collapse MLflow Trace</button>\n",
       "  <iframe\n",
       "    id=\"trace-renderer\"\n",
       "    style=\"width: 100%; height: 500px; border: none; resize: vertical;\"\n",
       "    src=\"http://localhost:5005/static-files/lib/notebook-trace-renderer/index.html?trace_id=tr-0105d067718a764f14c8aed08ce3ba29&amp;experiment_id=1&amp;trace_id=tr-69113a1f125a4f81a0b552f415520b77&amp;experiment_id=1&amp;trace_id=tr-9cf4f3cfe27136ab8d88d5db113aaa69&amp;experiment_id=1&amp;trace_id=tr-53725afeb9f5746764aa90cb41cbd3b9&amp;experiment_id=1&amp;trace_id=tr-27bc925f84b0c12cbd5803f0bfc2e1f8&amp;experiment_id=1&amp;trace_id=tr-0f43ab31c714bf0611a2ad4a5d32c0fe&amp;experiment_id=1&amp;trace_id=tr-7e827ed39ee3386468c00673000a2d26&amp;experiment_id=1&amp;trace_id=tr-3f4a8b69afcda200c1f50294ee71f63e&amp;experiment_id=1&amp;trace_id=tr-431dddcec67ed96b6e5939b5ea882c14&amp;experiment_id=1&amp;trace_id=tr-7742bb80d5c455fcf1f00c7872fba856&amp;experiment_id=1&amp;version=3.4.0\"\n",
       "  />\n",
       "</div>\n"
      ],
      "text/plain": [
       "[Trace(trace_id=tr-0105d067718a764f14c8aed08ce3ba29), Trace(trace_id=tr-69113a1f125a4f81a0b552f415520b77), Trace(trace_id=tr-9cf4f3cfe27136ab8d88d5db113aaa69), Trace(trace_id=tr-53725afeb9f5746764aa90cb41cbd3b9), Trace(trace_id=tr-27bc925f84b0c12cbd5803f0bfc2e1f8), Trace(trace_id=tr-0f43ab31c714bf0611a2ad4a5d32c0fe), Trace(trace_id=tr-7e827ed39ee3386468c00673000a2d26), Trace(trace_id=tr-3f4a8b69afcda200c1f50294ee71f63e), Trace(trace_id=tr-431dddcec67ed96b6e5939b5ea882c14), Trace(trace_id=tr-7742bb80d5c455fcf1f00c7872fba856)]"
      ]
     },
     "metadata": {},
     "output_type": "display_data"
    }
   ],
   "source": [
    "print(\"\\\\n📊 Evaluating OPTIMIZED program with teach LM...\")\n",
    "with dspy.context(lm=reflection_lm):\n",
    "    # Evaluate optimized program  \n",
    "    teacher_optimized_evaluate = dspy.Evaluate(\n",
    "        devset=test_ds,\n",
    "        metric=metric,\n",
    "        num_threads=8,\n",
    "        display_table=False,\n",
    "        display_progress=True\n",
    "    )\n",
    "    \n",
    "    teacher_optimized_eval_result = optimized_evaluate(optimized_program)"
   ]
  },
  {
   "cell_type": "code",
   "execution_count": null,
   "id": "95d9aded-a492-4761-8aba-7ac6cc351fe9",
   "metadata": {},
   "outputs": [],
   "source": []
  }
 ],
 "metadata": {
  "kernelspec": {
   "display_name": "Python 3 (ipykernel)",
   "language": "python",
   "name": "python3"
  },
  "language_info": {
   "codemirror_mode": {
    "name": "ipython",
    "version": 3
   },
   "file_extension": ".py",
   "mimetype": "text/x-python",
   "name": "python",
   "nbconvert_exporter": "python",
   "pygments_lexer": "ipython3",
   "version": "3.12.9"
  }
 },
 "nbformat": 4,
 "nbformat_minor": 5
}
