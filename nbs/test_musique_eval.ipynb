{
 "cells": [
  {
   "cell_type": "code",
   "execution_count": 1,
   "id": "7ab227e7",
   "metadata": {},
   "outputs": [],
   "source": [
    "# import sys\n",
    "# sys.path.append(\"/home/baris/repos/rlvr\")\n",
    "\n",
    "# from scripts.musique import evaluate"
   ]
  },
  {
   "cell_type": "code",
   "execution_count": 2,
   "id": "a143f034",
   "metadata": {},
   "outputs": [],
   "source": [
    "from pathlib import Path\n",
    "\n",
    "import typer\n",
    "import pandas as pd\n",
    "import verifiers as vf\n",
    "from dotenv import load_dotenv\n",
    "from openai import AsyncOpenAI\n",
    "\n",
    "\n",
    "assert load_dotenv(), \"Failed to load .env file\""
   ]
  },
  {
   "cell_type": "code",
   "execution_count": 3,
   "id": "38c354da",
   "metadata": {},
   "outputs": [
    {
     "data": {
      "text/plain": [
       "<Experiment: artifact_location='mlflow-artifacts:/3', creation_time=1756232427415, experiment_id='3', last_update_time=1756232427415, lifecycle_stage='active', name='rlvr-eval', tags={}>"
      ]
     },
     "execution_count": 3,
     "metadata": {},
     "output_type": "execute_result"
    }
   ],
   "source": [
    "import mlflow\n",
    "\n",
    "# Tell MLflow about the server URI.\n",
    "mlflow.set_tracking_uri(\"http://127.0.0.1:5000\")\n",
    "# Enable autologging with all features\n",
    "mlflow.openai.autolog()\n",
    "# Create a unique name for your experiment.\n",
    "mlflow.set_experiment(\"rlvr-eval\")"
   ]
  },
  {
   "cell_type": "code",
   "execution_count": 4,
   "id": "9328583a",
   "metadata": {},
   "outputs": [
    {
     "name": "stdout",
     "output_type": "stream",
     "text": [
      "Available models: ['Qwen/Qwen2.5-7B-Instruct']\n",
      "Using model: Qwen/Qwen2.5-7B-Instruct\n"
     ]
    }
   ],
   "source": [
    "openai_client = AsyncOpenAI()\n",
    "\n",
    "models_response = await openai_client.models.list()\n",
    "available_models = [item.id for item in models_response.data if item.object == \"model\"]\n",
    "print(\"Available models:\", available_models)\n",
    "\n",
    "model = available_models[0]\n",
    "print(\"Using model:\", model)\n"
   ]
  },
  {
   "cell_type": "code",
   "execution_count": 5,
   "id": "c4817b65",
   "metadata": {},
   "outputs": [
    {
     "name": "stdout",
     "output_type": "stream",
     "text": [
      "🔮 Starting MuSiQue evaluation\n",
      "==================================================\n",
      "📝 Model: Qwen/Qwen2.5-7B-Instruct\n",
      "📊 Dataset: bdsaglam/musique-mini,answerable,validation (noise rate: 1.0)\n",
      "🔍 Retriever: hybrid\n",
      "🌡️ Temperature: 0.5\n",
      "🎯 Max tokens: 1024\n",
      "==================================================\n",
      "🌍 Loading MuSiQue environment...\n"
     ]
    },
    {
     "data": {
      "application/vnd.jupyter.widget-view+json": {
       "model_id": "d0385c485662402db4b0377df0dea45c",
       "version_major": 2,
       "version_minor": 0
      },
      "text/plain": [
       "Map: 100%|##########| 300/300 [00:00<?, ? examples/s]"
      ]
     },
     "metadata": {},
     "output_type": "display_data"
    },
    {
     "data": {
      "application/vnd.jupyter.widget-view+json": {
       "model_id": "b4f776875b83483d8c8a627133a9703d",
       "version_major": 2,
       "version_minor": 0
      },
      "text/plain": [
       "Map:   0%|          | 0/300 [00:00<?, ? examples/s]"
      ]
     },
     "metadata": {},
     "output_type": "display_data"
    },
    {
     "name": "stderr",
     "output_type": "stream",
     "text": [
      "2025-08-29 08:57:41 - verifiers.envs.MuSiQueEnv - INFO - eval_dataset is not set, falling back to train dataset\n"
     ]
    },
    {
     "name": "stdout",
     "output_type": "stream",
     "text": [
      "✅ Environment loaded with 300 examples\n",
      "🤖 Using OpenAI-compatible API client...\n",
      "🔄 Running evaluation...\n"
     ]
    },
    {
     "name": "stderr",
     "output_type": "stream",
     "text": [
      "Running 300 rollouts: 100%|██████████| 300/300 [03:01<00:00,  1.65it/s]\n",
      "Evaluating 300 rollouts: 100%|██████████| 300/300 [00:00<00:00, 1249.41it/s]\n"
     ]
    },
    {
     "data": {
      "text/html": [
       "\n",
       "<div>\n",
       "  <style scoped>\n",
       "  button {\n",
       "    border: none;\n",
       "    border-radius: 4px;\n",
       "    background-color: rgb(34, 114, 180);\n",
       "    font-family: -apple-system, \"system-ui\", \"Segoe UI\", Roboto, \"Helvetica Neue\", Arial;\n",
       "    font-size: 13px;\n",
       "    color: white;\n",
       "    margin-top: 8px;\n",
       "    margin-bottom: 8px;\n",
       "    padding: 8px 16px;\n",
       "    cursor: pointer;\n",
       "  }\n",
       "  button:hover {\n",
       "    background-color: rgb(66, 153, 224);\n",
       "  }\n",
       "  </style>\n",
       "  <button\n",
       "    onclick=\"\n",
       "        const display = this.nextElementSibling.style.display;\n",
       "        const isCollapsed = display === 'none';\n",
       "        this.nextElementSibling.style.display = isCollapsed ? null : 'none';\n",
       "\n",
       "        const verb = isCollapsed ? 'Collapse' : 'Expand';\n",
       "        this.innerText = `${verb} MLflow Trace`;\n",
       "    \"\n",
       "  >Collapse MLflow Trace</button>\n",
       "  <iframe\n",
       "    id=\"trace-renderer\"\n",
       "    style=\"width: 100%; height: 500px; border: none; resize: vertical;\"\n",
       "    src=\"http://127.0.0.1:5000/static-files/lib/notebook-trace-renderer/index.html?trace_id=tr-5519a8d4a7ba4d3465ad1386833bd49f&amp;experiment_id=3&amp;trace_id=tr-757dbeab96b451cb47e1b9668d753885&amp;experiment_id=3&amp;trace_id=tr-19527b478b0afa502aabe43176ec6835&amp;experiment_id=3&amp;trace_id=tr-977df46cf47df1ffa6323663124b8d5e&amp;experiment_id=3&amp;trace_id=tr-c3d04962f0e459f9bae4e749df59ee9e&amp;experiment_id=3&amp;trace_id=tr-95c51f93eca533d630c0d41f94629c21&amp;experiment_id=3&amp;trace_id=tr-40e87e623348336fe854d5d8a87e88fe&amp;experiment_id=3&amp;trace_id=tr-0b06eb0c4019841cd86ef6daeabf7bd3&amp;experiment_id=3&amp;trace_id=tr-0f6a38f200fa256f20087c91100479f7&amp;experiment_id=3&amp;trace_id=tr-4d82e4e9c317eaed71f454c57350ea07&amp;experiment_id=3&amp;version=3.3.1\"\n",
       "  />\n",
       "</div>\n"
      ],
      "text/plain": [
       "[Trace(trace_id=tr-5519a8d4a7ba4d3465ad1386833bd49f), Trace(trace_id=tr-757dbeab96b451cb47e1b9668d753885), Trace(trace_id=tr-19527b478b0afa502aabe43176ec6835), Trace(trace_id=tr-977df46cf47df1ffa6323663124b8d5e), Trace(trace_id=tr-c3d04962f0e459f9bae4e749df59ee9e), Trace(trace_id=tr-95c51f93eca533d630c0d41f94629c21), Trace(trace_id=tr-40e87e623348336fe854d5d8a87e88fe), Trace(trace_id=tr-0b06eb0c4019841cd86ef6daeabf7bd3), Trace(trace_id=tr-0f6a38f200fa256f20087c91100479f7), Trace(trace_id=tr-4d82e4e9c317eaed71f454c57350ea07)]"
      ]
     },
     "metadata": {},
     "output_type": "display_data"
    }
   ],
   "source": [
    "datasets_str = \"bdsaglam/musique-mini,answerable,validation\"\n",
    "noise_rate = 1.0\n",
    "retriever = \"hybrid\"\n",
    "temperature = 0.5\n",
    "max_new_tokens = 1024\n",
    "\n",
    "print(\"🔮 Starting MuSiQue evaluation\")\n",
    "print(\"=\" * 50)\n",
    "print(f\"📝 Model: {model}\")\n",
    "print(f\"📊 Dataset: {datasets_str} (noise rate: {noise_rate})\")\n",
    "print(f\"🔍 Retriever: {retriever}\")\n",
    "print(f\"🌡️ Temperature: {temperature}\")\n",
    "print(f\"🎯 Max tokens: {max_new_tokens}\")\n",
    "print(\"=\" * 50)\n",
    "\n",
    "# Load MuSiQue environment\n",
    "print(\"🌍 Loading MuSiQue environment...\")\n",
    "\n",
    "vf_env = vf.load_environment(\n",
    "    env_id=\"vf-musique\",\n",
    "    datasets_str=datasets_str,\n",
    "    noise_rate=noise_rate,\n",
    "    retriever_name=retriever,\n",
    ")\n",
    "print(f\"✅ Environment loaded with {len(vf_env.dataset)} examples\")\n",
    "\n",
    "# Use OpenAI-compatible API client (e.g., for vLLM)\n",
    "print(\"🤖 Using OpenAI-compatible API client...\")\n",
    "\n",
    "# Run evaluation using the environment\n",
    "print(\"🔄 Running evaluation...\")\n",
    "results = vf_env.evaluate(\n",
    "    openai_client,\n",
    "    model,\n",
    "    rollouts_per_example=1,\n",
    "    sampling_args={\"temperature\": temperature, \"max_tokens\": max_new_tokens},\n",
    ")\n"
   ]
  },
  {
   "cell_type": "code",
   "execution_count": 6,
   "id": "c09d1adb",
   "metadata": {},
   "outputs": [
    {
     "data": {
      "text/plain": [
       "dict_keys(['exact_match_reward', 'f1_reward', 'retrieval_recall_reward', 'citation_reward', 'format_reward', 'combined_reward'])"
      ]
     },
     "execution_count": 6,
     "metadata": {},
     "output_type": "execute_result"
    }
   ],
   "source": [
    "results.metrics.keys()"
   ]
  },
  {
   "cell_type": "code",
   "execution_count": 7,
   "id": "5abf6081",
   "metadata": {},
   "outputs": [
    {
     "name": "stdout",
     "output_type": "stream",
     "text": [
      "prompt\n",
      "[{'role': 'system', 'content': \"Answer the question based on the information provided by tools.\\n\\nFor each step:\\n1. Think through your reasoning inside <think> tags\\n2. Use tools to retrieve relevant documents\\n3. Continue until you find the answer through multi-hop reasoning. The question is answerable from the docs. \\n4. In the **last** step:\\n    - Reflect on your previous steps inside <think> tags\\n    - Cite the documents you base your answer on inside <cite> tags by their IDs, e.g. `<cite>1, 2, 3</cite>`\\n    - Give your final answer inside <answer> tags\\nAn example for your final message:\\n```\\n<think>\\n[your thinking here]\\n</think> \\n<cite>\\n[IDs of the documents that back your answer]\\n</cite>\\n<answer>\\n[your final answer in **a few words**. no explanation here.]\\n</answer>\\n```\\n\\n- Do not make up tools or arguments that aren't listed.\\n- Questions require multi-hop reasoning across multiple documents.\\n- Continue searching until you find all relevant information to answer the question.\"}, {'role': 'user', 'content': 'What gun was used by Pollack\\'s director in Westworld?\\n\\n# Available documents\\nID=\"0\" Title=\"Westworld (TV series)\"\\nID=\"1\" Title=\"Pre-dreadnought battleship\"\\nID=\"2\" Title=\"Anti-aircraft warfare\"\\nID=\"3\" Title=\"Battle Clash\"\\nID=\"4\" Title=\"Pollock (film)\"\\nID=\"5\" Title=\"Roads of Destiny\"\\nID=\"6\" Title=\".50 BMG\"\\nID=\"7\" Title=\"You Want This\"\\nID=\"8\" Title=\"Mississippi-class battleship\"\\nID=\"9\" Title=\"Paint It Black\"\\nID=\"10\" Title=\"BL 18-inch Mk I naval gun\"\\nID=\"11\" Title=\"QF 3-pounder Hotchkiss\"\\nID=\"12\" Title=\"Filet-O-Fish\"\\nID=\"13\" Title=\"Old Gun Mill\"\\nID=\"14\" Title=\"Anti-aircraft warfare\"\\nID=\"15\" Title=\"Canon de 75 mle GP II\"\\nID=\"16\" Title=\"3-inch gun M1903\"\\nID=\"17\" Title=\"Anti-aircraft warfare\"\\nID=\"18\" Title=\"LeMat Revolver\"\\nID=\"19\" Title=\"Anti-aircraft warfare\"\\n'}]\n",
      "completion\n",
      "[{'role': 'assistant', 'content': \"<think>\\nTo find out what gun was used by Pollack's director in Westworld, we need to identify the director of the Westworld episode, then find which gun he used in his film 'Pollock'.\\n</think>\\n\", 'tool_calls': [ChatCompletionMessageFunctionToolCall(id='chatcmpl-tool-3f7166e9e4fc4e7cbf6f312a3272358c', function=Function(arguments='{\"query\": \"director of Westworld episode\", \"top_n\": 3}', name='retrieve_documents'), type='function')]}, {'role': 'tool', 'content': 'Document ID: 0\\n# Westworld (TV series)\\nNolan and Joy serve as executive producers, along with J.J. Abrams, Jerry Weintraub, and Bryan Burk. The first season was broadcast between October 2 and December 4, 2016; it comprised ten episodes. In November 2016, HBO renewed the series for a ten - episode second season, which was broadcast from April 22 to June 24, 2018. Westworld\\'s debut on HBO had the network\\'s highest viewership ratings for a premiere since the first episode of True Detective in 2014. Moreover, the series ranks as the most - watched first season of any HBO original series. On May 1, 2018, Westworld was renewed for a third season.\\n\\nDocument ID: 13\\n# Old Gun Mill\\nOld Gun Mill, also referred to as \"Colt Gun Mill\", is a notable historic mill in Paterson, New Jersey where the Colt revolver was first produced in the 1830s, and where John Ryle produced and manufactured silk for the first time in the United States. As of 2008, the mill is in ruins near the banks of the Passaic Falls in Paterson but efforts to save this historic structure are still being attempted.\\n\\nDocument ID: 9\\n# Paint It Black\\nThe song plays during the end credits of the films Full Metal Jacket and The Devil\\'s Advocate. In TV, it was used as the opening theme song to the series Tour of Duty and for the end credits to part five of The Vietnam War documentary series. It was featured in the Call of Duty: Black Ops III and The Mummy trailers. The Pittsburgh Pirates of Major League Baseball use the song as part of their ``Black Out \\'\\'promotions. An orchestral arrangement of the song has been used in multiple episodes of the TV series Westworld. R&B singer Ciara would later cover the song for the soundtrack of the 2015 film The Last Witch Hunter.', 'tool_call_id': 'chatcmpl-tool-3f7166e9e4fc4e7cbf6f312a3272358c'}, {'role': 'assistant', 'content': 'From the documents, there is no direct mention of the director of a specific Westworld episode. We need more specific information about the director and his involvement in the show.\\n\\n', 'tool_calls': [ChatCompletionMessageFunctionToolCall(id='chatcmpl-tool-aa9796a1709140de848e7176e0e54de2', function=Function(arguments='{\"query\": \"Pollock film gun\", \"top_n\": 3}', name='retrieve_documents'), type='function')]}, {'role': 'tool', 'content': \"Document ID: 4\\n# Pollock (film)\\nMarcia Gay Harden won the Academy Award for Best Supporting Actress for portraying Lee Krasner, Pollock's wife. Ed Harris received an Academy Award nomination for Best Actor for his portrayal of Pollock. The film was a long-term personal project for Harris based on his previous reading of Pollock's biography.Ed Harris’s father had noticed that he resembled Pollock.\\n\\nDocument ID: 5\\n# Roads of Destiny\\nRoads of Destiny was a 1921 American silent drama film produced and distributed by Goldwyn Pictures. The film is based on the story of the same name by O. Henry that was turned into a play by Channing Pollock starring Florence Reed. Frank Lloyd directed and stage actress Pauline Frederick starred. The film is now considered lost.\", 'tool_call_id': 'chatcmpl-tool-aa9796a1709140de848e7176e0e54de2'}, {'role': 'assistant', 'content': \"The documents do not provide specific details about the gun used by the director of a Westworld episode in the film 'Pollock'. We need to find more specific information about the director's involvement in both 'Westworld' and 'Pollock' 'BMG\"}]\n",
      "answer\n",
      "LeMat revolver\n",
      "state\n",
      "{'prompt': [{'role': 'system', 'content': \"Answer the question based on the information provided by tools.\\n\\nFor each step:\\n1. Think through your reasoning inside <think> tags\\n2. Use tools to retrieve relevant documents\\n3. Continue until you find the answer through multi-hop reasoning. The question is answerable from the docs. \\n4. In the **last** step:\\n    - Reflect on your previous steps inside <think> tags\\n    - Cite the documents you base your answer on inside <cite> tags by their IDs, e.g. `<cite>1, 2, 3</cite>`\\n    - Give your final answer inside <answer> tags\\nAn example for your final message:\\n```\\n<think>\\n[your thinking here]\\n</think> \\n<cite>\\n[IDs of the documents that back your answer]\\n</cite>\\n<answer>\\n[your final answer in **a few words**. no explanation here.]\\n</answer>\\n```\\n\\n- Do not make up tools or arguments that aren't listed.\\n- Questions require multi-hop reasoning across multiple documents.\\n- Continue searching until you find all relevant information to answer the question.\"}, {'role': 'user', 'content': 'What gun was used by Pollack\\'s director in Westworld?\\n\\n# Available documents\\nID=\"0\" Title=\"Westworld (TV series)\"\\nID=\"1\" Title=\"Pre-dreadnought battleship\"\\nID=\"2\" Title=\"Anti-aircraft warfare\"\\nID=\"3\" Title=\"Battle Clash\"\\nID=\"4\" Title=\"Pollock (film)\"\\nID=\"5\" Title=\"Roads of Destiny\"\\nID=\"6\" Title=\".50 BMG\"\\nID=\"7\" Title=\"You Want This\"\\nID=\"8\" Title=\"Mississippi-class battleship\"\\nID=\"9\" Title=\"Paint It Black\"\\nID=\"10\" Title=\"BL 18-inch Mk I naval gun\"\\nID=\"11\" Title=\"QF 3-pounder Hotchkiss\"\\nID=\"12\" Title=\"Filet-O-Fish\"\\nID=\"13\" Title=\"Old Gun Mill\"\\nID=\"14\" Title=\"Anti-aircraft warfare\"\\nID=\"15\" Title=\"Canon de 75 mle GP II\"\\nID=\"16\" Title=\"3-inch gun M1903\"\\nID=\"17\" Title=\"Anti-aircraft warfare\"\\nID=\"18\" Title=\"LeMat Revolver\"\\nID=\"19\" Title=\"Anti-aircraft warfare\"\\n'}], 'completion': [], 'answer': 'LeMat revolver', 'task': 'default', 'info': {'answers': ['LeMat Revolver', 'lemat revolver', 'LeMat revolver'], 'docs': [{'body': \"Nolan and Joy serve as executive producers, along with J.J. Abrams, Jerry Weintraub, and Bryan Burk. The first season was broadcast between October 2 and December 4, 2016; it comprised ten episodes. In November 2016, HBO renewed the series for a ten - episode second season, which was broadcast from April 22 to June 24, 2018. Westworld's debut on HBO had the network's highest viewership ratings for a premiere since the first episode of True Detective in 2014. Moreover, the series ranks as the most - watched first season of any HBO original series. On May 1, 2018, Westworld was renewed for a third season.\", 'id': '0', 'is_supporting': False, 'text': \"# Westworld (TV series)\\nNolan and Joy serve as executive producers, along with J.J. Abrams, Jerry Weintraub, and Bryan Burk. The first season was broadcast between October 2 and December 4, 2016; it comprised ten episodes. In November 2016, HBO renewed the series for a ten - episode second season, which was broadcast from April 22 to June 24, 2018. Westworld's debut on HBO had the network's highest viewership ratings for a premiere since the first episode of True Detective in 2014. Moreover, the series ranks as the most - watched first season of any HBO original series. On May 1, 2018, Westworld was renewed for a third season.\", 'title': 'Westworld (TV series)'}, {'body': 'Pre-dreadnoughts carried guns of several different calibres, for different roles in ship-to-ship combat. The main armament was four heavy guns, mounted in two centre-line turrets fore and aft. Very few pre-dreadnoughts deviated from this arrangement. These guns were slow-firing, and initially of limited accuracy; but they were the only guns heavy enough to penetrate the thick armour which protected the engines, magazines, and main guns of enemy battleships.The most common calibre for the main armament was 12-inch (305 mm), although some ships used smaller guns because they could attain higher rates of fire; British battleships from the Majestic class onwards carried this calibre, as did French ships from the Charlemagne class (laid down in 1894). Japan, importing most of its guns from Britain, used 12-inch guns. The United States used both 12-inch (305 mm) and 13-inch (330 mm) guns for most of the 1890s until the Maine class (not to be confused with the earlier Maine of Spanish–American War notoriety), laid down in 1899, after which the 12-inch gun was universal. The Russians used both 12 and 10-inch (254 mm) as their main armament; the Petropavlovsk class, Retvizan, Tsesarevich, and Borodino class had 12-inch (305 mm) main batteries while the Peresvet class  mounted 10-inch (254 mm) guns. The first German pre-dreadnought class used an 11-inch (279 mm) gun but decreased to a 9.4-inch (239 mm) gun for the two following classes and returned to 11-inch guns with the Braunschweig class.', 'id': '1', 'is_supporting': False, 'text': '# Pre-dreadnought battleship\\nPre-dreadnoughts carried guns of several different calibres, for different roles in ship-to-ship combat. The main armament was four heavy guns, mounted in two centre-line turrets fore and aft. Very few pre-dreadnoughts deviated from this arrangement. These guns were slow-firing, and initially of limited accuracy; but they were the only guns heavy enough to penetrate the thick armour which protected the engines, magazines, and main guns of enemy battleships.The most common calibre for the main armament was 12-inch (305 mm), although some ships used smaller guns because they could attain higher rates of fire; British battleships from the Majestic class onwards carried this calibre, as did French ships from the Charlemagne class (laid down in 1894). Japan, importing most of its guns from Britain, used 12-inch guns. The United States used both 12-inch (305 mm) and 13-inch (330 mm) guns for most of the 1890s until the Maine class (not to be confused with the earlier Maine of Spanish–American War notoriety), laid down in 1899, after which the 12-inch gun was universal. The Russians used both 12 and 10-inch (254 mm) as their main armament; the Petropavlovsk class, Retvizan, Tsesarevich, and Borodino class had 12-inch (305 mm) main batteries while the Peresvet class  mounted 10-inch (254 mm) guns. The first German pre-dreadnought class used an 11-inch (279 mm) gun but decreased to a 9.4-inch (239 mm) gun for the two following classes and returned to 11-inch guns with the Braunschweig class.', 'title': 'Pre-dreadnought battleship'}, {'body': 'The US ended World War I with two 3-inch AA guns and improvements were developed throughout the inter-war period. However, in 1924 work started on a new 105 mm static mounting AA gun, but only a few were produced by the mid-1930s because by this time work had started on the 90 mm AA gun, with mobile carriages and static mountings able to engage air, sea and ground targets. The M1 version was approved in 1940. During the 1920s there was some work on a 4.7-inch which lapsed, but revived in 1937, leading to a new gun in 1944.', 'id': '2', 'is_supporting': False, 'text': '# Anti-aircraft warfare\\nThe US ended World War I with two 3-inch AA guns and improvements were developed throughout the inter-war period. However, in 1924 work started on a new 105 mm static mounting AA gun, but only a few were produced by the mid-1930s because by this time work had started on the 90 mm AA gun, with mobile carriages and static mountings able to engage air, sea and ground targets. The M1 version was approved in 1940. During the 1920s there was some work on a 4.7-inch which lapsed, but revived in 1937, leading to a new gun in 1944.', 'title': 'Anti-aircraft warfare'}, {'body': 'Battle Clash is a mecha-themed light gun shooting game produced by Nintendo and Intelligent Systems and released for the Super Nintendo Entertainment System in 1992. The game supports the Super Nintendo\\'s light gun, the Super Scope. It was followed by \"\" during the following year.', 'id': '3', 'is_supporting': False, 'text': '# Battle Clash\\nBattle Clash is a mecha-themed light gun shooting game produced by Nintendo and Intelligent Systems and released for the Super Nintendo Entertainment System in 1992. The game supports the Super Nintendo\\'s light gun, the Super Scope. It was followed by \"\" during the following year.', 'title': 'Battle Clash'}, {'body': \"Marcia Gay Harden won the Academy Award for Best Supporting Actress for portraying Lee Krasner, Pollock's wife. Ed Harris received an Academy Award nomination for Best Actor for his portrayal of Pollock. The film was a long-term personal project for Harris based on his previous reading of Pollock's biography.Ed Harris’s father had noticed that he resembled Pollock.\", 'id': '4', 'is_supporting': True, 'text': \"# Pollock (film)\\nMarcia Gay Harden won the Academy Award for Best Supporting Actress for portraying Lee Krasner, Pollock's wife. Ed Harris received an Academy Award nomination for Best Actor for his portrayal of Pollock. The film was a long-term personal project for Harris based on his previous reading of Pollock's biography.Ed Harris’s father had noticed that he resembled Pollock.\", 'title': 'Pollock (film)'}, {'body': 'Roads of Destiny was a 1921 American silent drama film produced and distributed by Goldwyn Pictures. The film is based on the story of the same name by O. Henry that was turned into a play by Channing Pollock starring Florence Reed. Frank Lloyd directed and stage actress Pauline Frederick starred. The film is now considered lost.', 'id': '5', 'is_supporting': False, 'text': '# Roads of Destiny\\nRoads of Destiny was a 1921 American silent drama film produced and distributed by Goldwyn Pictures. The film is based on the story of the same name by O. Henry that was turned into a play by Channing Pollock starring Florence Reed. Frank Lloyd directed and stage actress Pauline Frederick starred. The film is now considered lost.', 'title': 'Roads of Destiny'}, {'body': 'During World War II the .50 BMG was primarily used in the M2 Browning machine gun, in both its \"light barrel\" aircraft mount version and the \"heavy barrel\" (HB) version on ground vehicles, for anti-aircraft purposes. An upgraded variant of the M2 Browning HB machine gun used during World War II is still in use today. Since the mid-1950s, some armored personnel carriers and utility vehicles have been made to withstand 12.7\\xa0mm machine gun fire, restricting the destructive capability of the M2. It still has more penetrating power than lighter weapons such as general-purpose machine guns, though it is significantly heavier and more cumbersome to transport. Its range and accuracy, however, are superior to light machine guns when fixed on tripods, and it has not been replaced as the standard caliber for Western vehicle-mounted machine guns (Soviet and CIS armored vehicles mount 12.7×108mm NSVs, which are ballistically similar to .50 BMGs).', 'id': '6', 'is_supporting': False, 'text': '# .50 BMG\\nDuring World War II the .50 BMG was primarily used in the M2 Browning machine gun, in both its \"light barrel\" aircraft mount version and the \"heavy barrel\" (HB) version on ground vehicles, for anti-aircraft purposes. An upgraded variant of the M2 Browning HB machine gun used during World War II is still in use today. Since the mid-1950s, some armored personnel carriers and utility vehicles have been made to withstand 12.7\\xa0mm machine gun fire, restricting the destructive capability of the M2. It still has more penetrating power than lighter weapons such as general-purpose machine guns, though it is significantly heavier and more cumbersome to transport. Its range and accuracy, however, are superior to light machine guns when fixed on tripods, and it has not been replaced as the standard caliber for Western vehicle-mounted machine guns (Soviet and CIS armored vehicles mount 12.7×108mm NSVs, which are ballistically similar to .50 BMGs).', 'title': '.50 BMG'}, {'body': '\"You Want This\" is a song by American singer Janet Jackson from her fifth studio album, \"Janet\" (1993). Released as the album\\'s seventh single (sixth and final in the U.S.) in October 1994, the track was written and produced by Jackson and Jimmy Jam and Terry Lewis. The single version, also used in the music video, featured an additional rap verse from MC Lyte. The song was listed in the \"Rock Song Index: The 7500 Most Important Songs for the Rock and Roll Era\" (2005) by Bruce Pollock.', 'id': '7', 'is_supporting': False, 'text': '# You Want This\\n\"You Want This\" is a song by American singer Janet Jackson from her fifth studio album, \"Janet\" (1993). Released as the album\\'s seventh single (sixth and final in the U.S.) in October 1994, the track was written and produced by Jackson and Jimmy Jam and Terry Lewis. The single version, also used in the music video, featured an additional rap verse from MC Lyte. The song was listed in the \"Rock Song Index: The 7500 Most Important Songs for the Rock and Roll Era\" (2005) by Bruce Pollock.', 'title': 'You Want This'}, {'body': 'The first several years of the 20th century were a period of confusion and transition in US naval strategy, tactics, and ship design. The \"Mississippi\" class, along with the preceding , were designed based on lessons learned in the Spanish–American War, but while they were under construction, the Russo-Japanese War, war games, and experimentation demonstrated new priorities and concepts which would influence future designs. This was also a period where rapid development of techniques and training in the use of large guns made the inclusion of rapid-fire intermediate and secondary weapons unnecessary. Future US designs would reduce the confusing array of guns sizes in predreadnought battleships and rely on one gun size for the main armament, the \"all-big-gun\" concept, along with many small guns of a uniform caliber to combat small vessels in close proximity.', 'id': '8', 'is_supporting': False, 'text': '# Mississippi-class battleship\\nThe first several years of the 20th century were a period of confusion and transition in US naval strategy, tactics, and ship design. The \"Mississippi\" class, along with the preceding , were designed based on lessons learned in the Spanish–American War, but while they were under construction, the Russo-Japanese War, war games, and experimentation demonstrated new priorities and concepts which would influence future designs. This was also a period where rapid development of techniques and training in the use of large guns made the inclusion of rapid-fire intermediate and secondary weapons unnecessary. Future US designs would reduce the confusing array of guns sizes in predreadnought battleships and rely on one gun size for the main armament, the \"all-big-gun\" concept, along with many small guns of a uniform caliber to combat small vessels in close proximity.', 'title': 'Mississippi-class battleship'}, {'body': \"The song plays during the end credits of the films Full Metal Jacket and The Devil's Advocate. In TV, it was used as the opening theme song to the series Tour of Duty and for the end credits to part five of The Vietnam War documentary series. It was featured in the Call of Duty: Black Ops III and The Mummy trailers. The Pittsburgh Pirates of Major League Baseball use the song as part of their ``Black Out ''promotions. An orchestral arrangement of the song has been used in multiple episodes of the TV series Westworld. R&B singer Ciara would later cover the song for the soundtrack of the 2015 film The Last Witch Hunter.\", 'id': '9', 'is_supporting': False, 'text': \"# Paint It Black\\nThe song plays during the end credits of the films Full Metal Jacket and The Devil's Advocate. In TV, it was used as the opening theme song to the series Tour of Duty and for the end credits to part five of The Vietnam War documentary series. It was featured in the Call of Duty: Black Ops III and The Mummy trailers. The Pittsburgh Pirates of Major League Baseball use the song as part of their ``Black Out ''promotions. An orchestral arrangement of the song has been used in multiple episodes of the TV series Westworld. R&B singer Ciara would later cover the song for the soundtrack of the 2015 film The Last Witch Hunter.\", 'title': 'Paint It Black'}, {'body': 'The BL 18-inch Mk I naval gun was a breech-loading naval gun used by the Royal Navy during World War I. It was the largest and heaviest gun ever used by the British. Only the Second-World-War Japanese 40 cm/45 Type 94 had a larger calibre, , but the British shell was heavier. The gun was a scaled-up version of the BL 15 inch Mk I naval gun and was developed to equip the \"large light cruiser\" (a form of battlecruiser) . Three guns were built, but they did not see combat with \"Furious\", before they were removed from her and transferred to the s and for coast bombardment duties. Only 85 rounds were fired in combat operations before the war ended. All three were removed from service in 1920 and served as proving guns for cordite tests. Two were scrapped in 1933 and the last one survived until it was scrapped in 1947.', 'id': '10', 'is_supporting': False, 'text': '# BL 18-inch Mk I naval gun\\nThe BL 18-inch Mk I naval gun was a breech-loading naval gun used by the Royal Navy during World War I. It was the largest and heaviest gun ever used by the British. Only the Second-World-War Japanese 40 cm/45 Type 94 had a larger calibre, , but the British shell was heavier. The gun was a scaled-up version of the BL 15 inch Mk I naval gun and was developed to equip the \"large light cruiser\" (a form of battlecruiser) . Three guns were built, but they did not see combat with \"Furious\", before they were removed from her and transferred to the s and for coast bombardment duties. Only 85 rounds were fired in combat operations before the war ended. All three were removed from service in 1920 and served as proving guns for cordite tests. Two were scrapped in 1933 and the last one survived until it was scrapped in 1947.', 'title': 'BL 18-inch Mk I naval gun'}, {'body': 'The QF 3-pounder Hotchkiss or in French use Canon Hotchkiss à tir rapide de 47\\xa0mm were a family of long-lived light naval guns introduced in 1886 to defend against new, small and fast vessels such as torpedo boats and later submarines. There were many variants produced, often under license which ranged in length from 32 to 50 calibers but 40 caliber was the most common version. They were widely used by the navies of a number of nations and often used by both sides in a conflict. They were also used ashore as coastal defense guns and later as an anti-aircraft gun, whether on improvised or specialized HA/LA mounts.', 'id': '11', 'is_supporting': False, 'text': '# QF 3-pounder Hotchkiss\\nThe QF 3-pounder Hotchkiss or in French use Canon Hotchkiss à tir rapide de 47\\xa0mm were a family of long-lived light naval guns introduced in 1886 to defend against new, small and fast vessels such as torpedo boats and later submarines. There were many variants produced, often under license which ranged in length from 32 to 50 calibers but 40 caliber was the most common version. They were widely used by the navies of a number of nations and often used by both sides in a conflict. They were also used ashore as coastal defense guns and later as an anti-aircraft gun, whether on improvised or specialized HA/LA mounts.', 'title': 'QF 3-pounder Hotchkiss'}, {'body': \"As of December 2014, the US Filet - O - Fish contains a battered, fried fish fillet made from Alaska pollock. In the Republic of Ireland either hoki or Alaska pollock may be served. In New Zealand and the United Kingdom Filet - O - Fish contains hoki instead of Alaska pollock. McDonald's Canada, United States, United Kingdom, Australia, New Zealand, Portugal, Czech Republic, The Netherlands and Hong Kong use a half slice of cheese in each Filet - O - Fish sandwich.\", 'id': '12', 'is_supporting': False, 'text': \"# Filet-O-Fish\\nAs of December 2014, the US Filet - O - Fish contains a battered, fried fish fillet made from Alaska pollock. In the Republic of Ireland either hoki or Alaska pollock may be served. In New Zealand and the United Kingdom Filet - O - Fish contains hoki instead of Alaska pollock. McDonald's Canada, United States, United Kingdom, Australia, New Zealand, Portugal, Czech Republic, The Netherlands and Hong Kong use a half slice of cheese in each Filet - O - Fish sandwich.\", 'title': 'Filet-O-Fish'}, {'body': 'Old Gun Mill, also referred to as \"Colt Gun Mill\", is a notable historic mill in Paterson, New Jersey where the Colt revolver was first produced in the 1830s, and where John Ryle produced and manufactured silk for the first time in the United States. As of 2008, the mill is in ruins near the banks of the Passaic Falls in Paterson but efforts to save this historic structure are still being attempted.', 'id': '13', 'is_supporting': False, 'text': '# Old Gun Mill\\nOld Gun Mill, also referred to as \"Colt Gun Mill\", is a notable historic mill in Paterson, New Jersey where the Colt revolver was first produced in the 1830s, and where John Ryle produced and manufactured silk for the first time in the United States. As of 2008, the mill is in ruins near the banks of the Passaic Falls in Paterson but efforts to save this historic structure are still being attempted.', 'title': 'Old Gun Mill'}, {'body': \"After the Dambusters raid in 1943 an entirely new system was developed that was required to knock down any low-flying aircraft with a single hit. The first attempt to produce such a system used a 50 mm gun, but this proved inaccurate and a new 55 mm gun replaced it. The system used a centralised control system including both search and targeting radar, which calculated the aim point for the guns after considering windage and ballistics, and then sent electrical commands to the guns, which used hydraulics to point themselves at high speeds. Operators simply fed the guns and selected the targets. This system, modern even by today's standards, was in late development when the war ended.\", 'id': '14', 'is_supporting': False, 'text': \"# Anti-aircraft warfare\\nAfter the Dambusters raid in 1943 an entirely new system was developed that was required to knock down any low-flying aircraft with a single hit. The first attempt to produce such a system used a 50 mm gun, but this proved inaccurate and a new 55 mm gun replaced it. The system used a centralised control system including both search and targeting radar, which calculated the aim point for the guns after considering windage and ballistics, and then sent electrical commands to the guns, which used hydraulics to point themselves at high speeds. Operators simply fed the guns and selected the targets. This system, modern even by today's standards, was in late development when the war ended.\", 'title': 'Anti-aircraft warfare'}, {'body': 'The Canon de 75 mle GP II was a field gun used by Belgium during World War II. Cockerill mounted lengthened Canon de 75 mle TR barrels on ex-German 7.7 cm FK 16 gun carriages received as reparations after World War I. After 1940, the Wehrmacht designated captured guns as the 7.5\\xa0cm FK 234(b) and used them to equip occupation units in Belgium.', 'id': '15', 'is_supporting': False, 'text': '# Canon de 75 mle GP II\\nThe Canon de 75 mle GP II was a field gun used by Belgium during World War II. Cockerill mounted lengthened Canon de 75 mle TR barrels on ex-German 7.7 cm FK 16 gun carriages received as reparations after World War I. After 1940, the Wehrmacht designated captured guns as the 7.5\\xa0cm FK 234(b) and used them to equip occupation units in Belgium.', 'title': 'Canon de 75 mle GP II'}, {'body': 'The 3-inch gun M1917 was a World War I-era US-made anti-aircraft gun based on the 3-inch gun M1903. It was designed for a fixed mounting and remained in service, primarily at Coast Artillery installations, through World War II. It was determined that the weapon was too heavy and had too much recoil for mobile mountings, so a new weapon based on the lighter and less powerful 3-inch gun M1898 was developed, designated the 3-inch Gun M1918. This was the standard US anti-aircraft gun until replaced by the 3-inch gun M3 in 1930. There is some controversy as to whether any seacoast guns were actually converted into anti-aircraft guns in the development of these weapons.', 'id': '16', 'is_supporting': False, 'text': '# 3-inch gun M1903\\nThe 3-inch gun M1917 was a World War I-era US-made anti-aircraft gun based on the 3-inch gun M1903. It was designed for a fixed mounting and remained in service, primarily at Coast Artillery installations, through World War II. It was determined that the weapon was too heavy and had too much recoil for mobile mountings, so a new weapon based on the lighter and less powerful 3-inch gun M1898 was developed, designated the 3-inch Gun M1918. This was the standard US anti-aircraft gun until replaced by the 3-inch gun M3 in 1930. There is some controversy as to whether any seacoast guns were actually converted into anti-aircraft guns in the development of these weapons.', 'title': '3-inch gun M1903'}, {'body': \"In 1925 the British adopted a new instrument developed by Vickers. It was a mechanical analogue computer Predictor AA No 1. Given the target height its operators tracked the target and the predictor produced bearing, quadrant elevation and fuse setting. These were passed electrically to the guns where they were displayed on repeater dials to the layers who 'matched pointers' (target data and the gun's actual data) to lay the guns. This system of repeater electrical dials built on the arrangements introduced by British coast artillery in the 1880s, and coast artillery was the background of many AA officers. Similar systems were adopted in other countries and for example the later Sperry device, designated M3A3 in the US was also used by Britain as the Predictor AA No 2. Height finders were also increasing in size, in Britain, the World War I Barr & Stroud UB 2 (7 feet optical base) was replaced by the UB 7 (9 feet optical base) and the UB 10 (18 feet optical base, only used on static AA sites). Goertz in Germany and Levallois in France produced 5 metre instruments. However, in most countries the main effort in HAA guns until the mid-1930s was improving existing ones, although various new designs were on drawing boards.\", 'id': '17', 'is_supporting': False, 'text': \"# Anti-aircraft warfare\\nIn 1925 the British adopted a new instrument developed by Vickers. It was a mechanical analogue computer Predictor AA No 1. Given the target height its operators tracked the target and the predictor produced bearing, quadrant elevation and fuse setting. These were passed electrically to the guns where they were displayed on repeater dials to the layers who 'matched pointers' (target data and the gun's actual data) to lay the guns. This system of repeater electrical dials built on the arrangements introduced by British coast artillery in the 1880s, and coast artillery was the background of many AA officers. Similar systems were adopted in other countries and for example the later Sperry device, designated M3A3 in the US was also used by Britain as the Predictor AA No 2. Height finders were also increasing in size, in Britain, the World War I Barr & Stroud UB 2 (7 feet optical base) was replaced by the UB 7 (9 feet optical base) and the UB 10 (18 feet optical base, only used on static AA sites). Goertz in Germany and Levallois in France produced 5 metre instruments. However, in most countries the main effort in HAA guns until the mid-1930s was improving existing ones, although various new designs were on drawing boards.\", 'title': 'Anti-aircraft warfare'}, {'body': 'The LeMat revolver was a. 42 or. 36 caliber cap & ball black powder revolver invented by Jean Alexandre LeMat of New Orleans, which featured an unusual secondary 20 gauge smooth - bore barrel capable of firing buckshot. It saw service with the armed forces of the Confederate States of America during the American Civil War of 1861 -- 65 and the Army of the Government of National Defense during the Franco - Prussian War.', 'id': '18', 'is_supporting': True, 'text': '# LeMat Revolver\\nThe LeMat revolver was a. 42 or. 36 caliber cap & ball black powder revolver invented by Jean Alexandre LeMat of New Orleans, which featured an unusual secondary 20 gauge smooth - bore barrel capable of firing buckshot. It saw service with the armed forces of the Confederate States of America during the American Civil War of 1861 -- 65 and the Army of the Government of National Defense during the Franco - Prussian War.', 'title': 'LeMat Revolver'}, {'body': \"However, the problem of deflection settings — 'aim-off' — required knowing the rate of change in the target's position. Both France and UK introduced tachymetric devices to track targets and produce vertical and horizontal deflection angles. The French Brocq system was electrical, the operator entered the target range and had displays at guns; it was used with their 75 mm. The British Wilson-Dalby gun director used a pair of trackers and mechanical tachymetry; the operator entered the fuse length, and deflection angles were read from the instruments.\", 'id': '19', 'is_supporting': False, 'text': \"# Anti-aircraft warfare\\nHowever, the problem of deflection settings — 'aim-off' — required knowing the rate of change in the target's position. Both France and UK introduced tachymetric devices to track targets and produce vertical and horizontal deflection angles. The French Brocq system was electrical, the operator entered the target range and had displays at guns; it was used with their 75 mm. The British Wilson-Dalby gun director used a pair of trackers and mechanical tachymetry; the operator entered the fuse length, and deflection angles were read from the instruments.\", 'title': 'Anti-aircraft warfare'}], 'id': '2hop__273020_57594', 'n_hops': 2, 'oai_tools': [{'type': 'function', 'function': {'name': 'retrieve_documents', 'description': 'Retrieve relevant documents by the query. The results get better with more specific queries.', 'parameters': {'type': 'object', 'properties': {'query': {'type': 'string', 'description': 'Parameter `query` of type string.'}, 'top_n': {'type': 'integer', 'description': 'Parameter `top_n` of type integer.'}}, 'required': ['query']}}}, {'type': 'function', 'function': {'name': 'get_document', 'description': 'Get a document by its ID.', 'parameters': {'type': 'object', 'properties': {'doc_id': {'type': 'string', 'description': 'Parameter `doc_id` of type string.'}}, 'required': ['doc_id']}}}]}, 'responses': [ChatCompletion(id='chatcmpl-d74ad03611234e489accb51d448f6e7f', choices=[Choice(finish_reason='tool_calls', index=0, logprobs=None, message=ChatCompletionMessage(content=\"<think>\\nTo find out what gun was used by Pollack's director in Westworld, we need to identify the director of the Westworld episode, then find which gun he used in his film 'Pollock'.\\n</think>\\n\", refusal=None, role='assistant', annotations=None, audio=None, function_call=None, tool_calls=[ChatCompletionMessageFunctionToolCall(id='chatcmpl-tool-3f7166e9e4fc4e7cbf6f312a3272358c', function=Function(arguments='{\"query\": \"director of Westworld episode\", \"top_n\": 3}', name='retrieve_documents'), type='function')], reasoning_content=None), stop_reason=None)], created=1756447063, model='Qwen/Qwen2.5-7B-Instruct', object='chat.completion', service_tier=None, system_fingerprint=None, usage=CompletionUsage(completion_tokens=78, prompt_tokens=758, total_tokens=836, completion_tokens_details=None, prompt_tokens_details=None), prompt_logprobs=None, kv_transfer_params=None), ChatCompletion(id='chatcmpl-18bc94da445b42608b77b046be115dfa', choices=[Choice(finish_reason='tool_calls', index=0, logprobs=None, message=ChatCompletionMessage(content='From the documents, there is no direct mention of the director of a specific Westworld episode. We need more specific information about the director and his involvement in the show.\\n\\n', refusal=None, role='assistant', annotations=None, audio=None, function_call=None, tool_calls=[ChatCompletionMessageFunctionToolCall(id='chatcmpl-tool-aa9796a1709140de848e7176e0e54de2', function=Function(arguments='{\"query\": \"Pollock film gun\", \"top_n\": 3}', name='retrieve_documents'), type='function')], reasoning_content=None), stop_reason=None)], created=1756447140, model='Qwen/Qwen2.5-7B-Instruct', object='chat.completion', service_tier=None, system_fingerprint=None, usage=CompletionUsage(completion_tokens=64, prompt_tokens=1279, total_tokens=1343, completion_tokens_details=None, prompt_tokens_details=None), prompt_logprobs=None, kv_transfer_params=None), ChatCompletion(id='chatcmpl-b4b3215fec1845ec8e17d0eec8c9d02b', choices=[Choice(finish_reason='stop', index=0, logprobs=None, message=ChatCompletionMessage(content=\"The documents do not provide specific details about the gun used by the director of a Westworld episode in the film 'Pollock'. We need to find more specific information about the director's involvement in both 'Westworld' and 'Pollock' 'BMG\", refusal=None, role='assistant', annotations=None, audio=None, function_call=None, tool_calls=[], reasoning_content=None), stop_reason=None)], created=1756447153, model='Qwen/Qwen2.5-7B-Instruct', object='chat.completion', service_tier=None, system_fingerprint=None, usage=CompletionUsage(completion_tokens=53, prompt_tokens=1527, total_tokens=1580, completion_tokens_details=None, prompt_tokens_details=None), prompt_logprobs=None, kv_transfer_params=None)], 'turn': 3}\n",
      "info\n",
      "{'answers': ['LeMat Revolver', 'lemat revolver', 'LeMat revolver'], 'docs': [{'body': \"Nolan and Joy serve as executive producers, along with J.J. Abrams, Jerry Weintraub, and Bryan Burk. The first season was broadcast between October 2 and December 4, 2016; it comprised ten episodes. In November 2016, HBO renewed the series for a ten - episode second season, which was broadcast from April 22 to June 24, 2018. Westworld's debut on HBO had the network's highest viewership ratings for a premiere since the first episode of True Detective in 2014. Moreover, the series ranks as the most - watched first season of any HBO original series. On May 1, 2018, Westworld was renewed for a third season.\", 'id': '0', 'is_supporting': False, 'text': \"# Westworld (TV series)\\nNolan and Joy serve as executive producers, along with J.J. Abrams, Jerry Weintraub, and Bryan Burk. The first season was broadcast between October 2 and December 4, 2016; it comprised ten episodes. In November 2016, HBO renewed the series for a ten - episode second season, which was broadcast from April 22 to June 24, 2018. Westworld's debut on HBO had the network's highest viewership ratings for a premiere since the first episode of True Detective in 2014. Moreover, the series ranks as the most - watched first season of any HBO original series. On May 1, 2018, Westworld was renewed for a third season.\", 'title': 'Westworld (TV series)'}, {'body': 'Pre-dreadnoughts carried guns of several different calibres, for different roles in ship-to-ship combat. The main armament was four heavy guns, mounted in two centre-line turrets fore and aft. Very few pre-dreadnoughts deviated from this arrangement. These guns were slow-firing, and initially of limited accuracy; but they were the only guns heavy enough to penetrate the thick armour which protected the engines, magazines, and main guns of enemy battleships.The most common calibre for the main armament was 12-inch (305 mm), although some ships used smaller guns because they could attain higher rates of fire; British battleships from the Majestic class onwards carried this calibre, as did French ships from the Charlemagne class (laid down in 1894). Japan, importing most of its guns from Britain, used 12-inch guns. The United States used both 12-inch (305 mm) and 13-inch (330 mm) guns for most of the 1890s until the Maine class (not to be confused with the earlier Maine of Spanish–American War notoriety), laid down in 1899, after which the 12-inch gun was universal. The Russians used both 12 and 10-inch (254 mm) as their main armament; the Petropavlovsk class, Retvizan, Tsesarevich, and Borodino class had 12-inch (305 mm) main batteries while the Peresvet class  mounted 10-inch (254 mm) guns. The first German pre-dreadnought class used an 11-inch (279 mm) gun but decreased to a 9.4-inch (239 mm) gun for the two following classes and returned to 11-inch guns with the Braunschweig class.', 'id': '1', 'is_supporting': False, 'text': '# Pre-dreadnought battleship\\nPre-dreadnoughts carried guns of several different calibres, for different roles in ship-to-ship combat. The main armament was four heavy guns, mounted in two centre-line turrets fore and aft. Very few pre-dreadnoughts deviated from this arrangement. These guns were slow-firing, and initially of limited accuracy; but they were the only guns heavy enough to penetrate the thick armour which protected the engines, magazines, and main guns of enemy battleships.The most common calibre for the main armament was 12-inch (305 mm), although some ships used smaller guns because they could attain higher rates of fire; British battleships from the Majestic class onwards carried this calibre, as did French ships from the Charlemagne class (laid down in 1894). Japan, importing most of its guns from Britain, used 12-inch guns. The United States used both 12-inch (305 mm) and 13-inch (330 mm) guns for most of the 1890s until the Maine class (not to be confused with the earlier Maine of Spanish–American War notoriety), laid down in 1899, after which the 12-inch gun was universal. The Russians used both 12 and 10-inch (254 mm) as their main armament; the Petropavlovsk class, Retvizan, Tsesarevich, and Borodino class had 12-inch (305 mm) main batteries while the Peresvet class  mounted 10-inch (254 mm) guns. The first German pre-dreadnought class used an 11-inch (279 mm) gun but decreased to a 9.4-inch (239 mm) gun for the two following classes and returned to 11-inch guns with the Braunschweig class.', 'title': 'Pre-dreadnought battleship'}, {'body': 'The US ended World War I with two 3-inch AA guns and improvements were developed throughout the inter-war period. However, in 1924 work started on a new 105 mm static mounting AA gun, but only a few were produced by the mid-1930s because by this time work had started on the 90 mm AA gun, with mobile carriages and static mountings able to engage air, sea and ground targets. The M1 version was approved in 1940. During the 1920s there was some work on a 4.7-inch which lapsed, but revived in 1937, leading to a new gun in 1944.', 'id': '2', 'is_supporting': False, 'text': '# Anti-aircraft warfare\\nThe US ended World War I with two 3-inch AA guns and improvements were developed throughout the inter-war period. However, in 1924 work started on a new 105 mm static mounting AA gun, but only a few were produced by the mid-1930s because by this time work had started on the 90 mm AA gun, with mobile carriages and static mountings able to engage air, sea and ground targets. The M1 version was approved in 1940. During the 1920s there was some work on a 4.7-inch which lapsed, but revived in 1937, leading to a new gun in 1944.', 'title': 'Anti-aircraft warfare'}, {'body': 'Battle Clash is a mecha-themed light gun shooting game produced by Nintendo and Intelligent Systems and released for the Super Nintendo Entertainment System in 1992. The game supports the Super Nintendo\\'s light gun, the Super Scope. It was followed by \"\" during the following year.', 'id': '3', 'is_supporting': False, 'text': '# Battle Clash\\nBattle Clash is a mecha-themed light gun shooting game produced by Nintendo and Intelligent Systems and released for the Super Nintendo Entertainment System in 1992. The game supports the Super Nintendo\\'s light gun, the Super Scope. It was followed by \"\" during the following year.', 'title': 'Battle Clash'}, {'body': \"Marcia Gay Harden won the Academy Award for Best Supporting Actress for portraying Lee Krasner, Pollock's wife. Ed Harris received an Academy Award nomination for Best Actor for his portrayal of Pollock. The film was a long-term personal project for Harris based on his previous reading of Pollock's biography.Ed Harris’s father had noticed that he resembled Pollock.\", 'id': '4', 'is_supporting': True, 'text': \"# Pollock (film)\\nMarcia Gay Harden won the Academy Award for Best Supporting Actress for portraying Lee Krasner, Pollock's wife. Ed Harris received an Academy Award nomination for Best Actor for his portrayal of Pollock. The film was a long-term personal project for Harris based on his previous reading of Pollock's biography.Ed Harris’s father had noticed that he resembled Pollock.\", 'title': 'Pollock (film)'}, {'body': 'Roads of Destiny was a 1921 American silent drama film produced and distributed by Goldwyn Pictures. The film is based on the story of the same name by O. Henry that was turned into a play by Channing Pollock starring Florence Reed. Frank Lloyd directed and stage actress Pauline Frederick starred. The film is now considered lost.', 'id': '5', 'is_supporting': False, 'text': '# Roads of Destiny\\nRoads of Destiny was a 1921 American silent drama film produced and distributed by Goldwyn Pictures. The film is based on the story of the same name by O. Henry that was turned into a play by Channing Pollock starring Florence Reed. Frank Lloyd directed and stage actress Pauline Frederick starred. The film is now considered lost.', 'title': 'Roads of Destiny'}, {'body': 'During World War II the .50 BMG was primarily used in the M2 Browning machine gun, in both its \"light barrel\" aircraft mount version and the \"heavy barrel\" (HB) version on ground vehicles, for anti-aircraft purposes. An upgraded variant of the M2 Browning HB machine gun used during World War II is still in use today. Since the mid-1950s, some armored personnel carriers and utility vehicles have been made to withstand 12.7\\xa0mm machine gun fire, restricting the destructive capability of the M2. It still has more penetrating power than lighter weapons such as general-purpose machine guns, though it is significantly heavier and more cumbersome to transport. Its range and accuracy, however, are superior to light machine guns when fixed on tripods, and it has not been replaced as the standard caliber for Western vehicle-mounted machine guns (Soviet and CIS armored vehicles mount 12.7×108mm NSVs, which are ballistically similar to .50 BMGs).', 'id': '6', 'is_supporting': False, 'text': '# .50 BMG\\nDuring World War II the .50 BMG was primarily used in the M2 Browning machine gun, in both its \"light barrel\" aircraft mount version and the \"heavy barrel\" (HB) version on ground vehicles, for anti-aircraft purposes. An upgraded variant of the M2 Browning HB machine gun used during World War II is still in use today. Since the mid-1950s, some armored personnel carriers and utility vehicles have been made to withstand 12.7\\xa0mm machine gun fire, restricting the destructive capability of the M2. It still has more penetrating power than lighter weapons such as general-purpose machine guns, though it is significantly heavier and more cumbersome to transport. Its range and accuracy, however, are superior to light machine guns when fixed on tripods, and it has not been replaced as the standard caliber for Western vehicle-mounted machine guns (Soviet and CIS armored vehicles mount 12.7×108mm NSVs, which are ballistically similar to .50 BMGs).', 'title': '.50 BMG'}, {'body': '\"You Want This\" is a song by American singer Janet Jackson from her fifth studio album, \"Janet\" (1993). Released as the album\\'s seventh single (sixth and final in the U.S.) in October 1994, the track was written and produced by Jackson and Jimmy Jam and Terry Lewis. The single version, also used in the music video, featured an additional rap verse from MC Lyte. The song was listed in the \"Rock Song Index: The 7500 Most Important Songs for the Rock and Roll Era\" (2005) by Bruce Pollock.', 'id': '7', 'is_supporting': False, 'text': '# You Want This\\n\"You Want This\" is a song by American singer Janet Jackson from her fifth studio album, \"Janet\" (1993). Released as the album\\'s seventh single (sixth and final in the U.S.) in October 1994, the track was written and produced by Jackson and Jimmy Jam and Terry Lewis. The single version, also used in the music video, featured an additional rap verse from MC Lyte. The song was listed in the \"Rock Song Index: The 7500 Most Important Songs for the Rock and Roll Era\" (2005) by Bruce Pollock.', 'title': 'You Want This'}, {'body': 'The first several years of the 20th century were a period of confusion and transition in US naval strategy, tactics, and ship design. The \"Mississippi\" class, along with the preceding , were designed based on lessons learned in the Spanish–American War, but while they were under construction, the Russo-Japanese War, war games, and experimentation demonstrated new priorities and concepts which would influence future designs. This was also a period where rapid development of techniques and training in the use of large guns made the inclusion of rapid-fire intermediate and secondary weapons unnecessary. Future US designs would reduce the confusing array of guns sizes in predreadnought battleships and rely on one gun size for the main armament, the \"all-big-gun\" concept, along with many small guns of a uniform caliber to combat small vessels in close proximity.', 'id': '8', 'is_supporting': False, 'text': '# Mississippi-class battleship\\nThe first several years of the 20th century were a period of confusion and transition in US naval strategy, tactics, and ship design. The \"Mississippi\" class, along with the preceding , were designed based on lessons learned in the Spanish–American War, but while they were under construction, the Russo-Japanese War, war games, and experimentation demonstrated new priorities and concepts which would influence future designs. This was also a period where rapid development of techniques and training in the use of large guns made the inclusion of rapid-fire intermediate and secondary weapons unnecessary. Future US designs would reduce the confusing array of guns sizes in predreadnought battleships and rely on one gun size for the main armament, the \"all-big-gun\" concept, along with many small guns of a uniform caliber to combat small vessels in close proximity.', 'title': 'Mississippi-class battleship'}, {'body': \"The song plays during the end credits of the films Full Metal Jacket and The Devil's Advocate. In TV, it was used as the opening theme song to the series Tour of Duty and for the end credits to part five of The Vietnam War documentary series. It was featured in the Call of Duty: Black Ops III and The Mummy trailers. The Pittsburgh Pirates of Major League Baseball use the song as part of their ``Black Out ''promotions. An orchestral arrangement of the song has been used in multiple episodes of the TV series Westworld. R&B singer Ciara would later cover the song for the soundtrack of the 2015 film The Last Witch Hunter.\", 'id': '9', 'is_supporting': False, 'text': \"# Paint It Black\\nThe song plays during the end credits of the films Full Metal Jacket and The Devil's Advocate. In TV, it was used as the opening theme song to the series Tour of Duty and for the end credits to part five of The Vietnam War documentary series. It was featured in the Call of Duty: Black Ops III and The Mummy trailers. The Pittsburgh Pirates of Major League Baseball use the song as part of their ``Black Out ''promotions. An orchestral arrangement of the song has been used in multiple episodes of the TV series Westworld. R&B singer Ciara would later cover the song for the soundtrack of the 2015 film The Last Witch Hunter.\", 'title': 'Paint It Black'}, {'body': 'The BL 18-inch Mk I naval gun was a breech-loading naval gun used by the Royal Navy during World War I. It was the largest and heaviest gun ever used by the British. Only the Second-World-War Japanese 40 cm/45 Type 94 had a larger calibre, , but the British shell was heavier. The gun was a scaled-up version of the BL 15 inch Mk I naval gun and was developed to equip the \"large light cruiser\" (a form of battlecruiser) . Three guns were built, but they did not see combat with \"Furious\", before they were removed from her and transferred to the s and for coast bombardment duties. Only 85 rounds were fired in combat operations before the war ended. All three were removed from service in 1920 and served as proving guns for cordite tests. Two were scrapped in 1933 and the last one survived until it was scrapped in 1947.', 'id': '10', 'is_supporting': False, 'text': '# BL 18-inch Mk I naval gun\\nThe BL 18-inch Mk I naval gun was a breech-loading naval gun used by the Royal Navy during World War I. It was the largest and heaviest gun ever used by the British. Only the Second-World-War Japanese 40 cm/45 Type 94 had a larger calibre, , but the British shell was heavier. The gun was a scaled-up version of the BL 15 inch Mk I naval gun and was developed to equip the \"large light cruiser\" (a form of battlecruiser) . Three guns were built, but they did not see combat with \"Furious\", before they were removed from her and transferred to the s and for coast bombardment duties. Only 85 rounds were fired in combat operations before the war ended. All three were removed from service in 1920 and served as proving guns for cordite tests. Two were scrapped in 1933 and the last one survived until it was scrapped in 1947.', 'title': 'BL 18-inch Mk I naval gun'}, {'body': 'The QF 3-pounder Hotchkiss or in French use Canon Hotchkiss à tir rapide de 47\\xa0mm were a family of long-lived light naval guns introduced in 1886 to defend against new, small and fast vessels such as torpedo boats and later submarines. There were many variants produced, often under license which ranged in length from 32 to 50 calibers but 40 caliber was the most common version. They were widely used by the navies of a number of nations and often used by both sides in a conflict. They were also used ashore as coastal defense guns and later as an anti-aircraft gun, whether on improvised or specialized HA/LA mounts.', 'id': '11', 'is_supporting': False, 'text': '# QF 3-pounder Hotchkiss\\nThe QF 3-pounder Hotchkiss or in French use Canon Hotchkiss à tir rapide de 47\\xa0mm were a family of long-lived light naval guns introduced in 1886 to defend against new, small and fast vessels such as torpedo boats and later submarines. There were many variants produced, often under license which ranged in length from 32 to 50 calibers but 40 caliber was the most common version. They were widely used by the navies of a number of nations and often used by both sides in a conflict. They were also used ashore as coastal defense guns and later as an anti-aircraft gun, whether on improvised or specialized HA/LA mounts.', 'title': 'QF 3-pounder Hotchkiss'}, {'body': \"As of December 2014, the US Filet - O - Fish contains a battered, fried fish fillet made from Alaska pollock. In the Republic of Ireland either hoki or Alaska pollock may be served. In New Zealand and the United Kingdom Filet - O - Fish contains hoki instead of Alaska pollock. McDonald's Canada, United States, United Kingdom, Australia, New Zealand, Portugal, Czech Republic, The Netherlands and Hong Kong use a half slice of cheese in each Filet - O - Fish sandwich.\", 'id': '12', 'is_supporting': False, 'text': \"# Filet-O-Fish\\nAs of December 2014, the US Filet - O - Fish contains a battered, fried fish fillet made from Alaska pollock. In the Republic of Ireland either hoki or Alaska pollock may be served. In New Zealand and the United Kingdom Filet - O - Fish contains hoki instead of Alaska pollock. McDonald's Canada, United States, United Kingdom, Australia, New Zealand, Portugal, Czech Republic, The Netherlands and Hong Kong use a half slice of cheese in each Filet - O - Fish sandwich.\", 'title': 'Filet-O-Fish'}, {'body': 'Old Gun Mill, also referred to as \"Colt Gun Mill\", is a notable historic mill in Paterson, New Jersey where the Colt revolver was first produced in the 1830s, and where John Ryle produced and manufactured silk for the first time in the United States. As of 2008, the mill is in ruins near the banks of the Passaic Falls in Paterson but efforts to save this historic structure are still being attempted.', 'id': '13', 'is_supporting': False, 'text': '# Old Gun Mill\\nOld Gun Mill, also referred to as \"Colt Gun Mill\", is a notable historic mill in Paterson, New Jersey where the Colt revolver was first produced in the 1830s, and where John Ryle produced and manufactured silk for the first time in the United States. As of 2008, the mill is in ruins near the banks of the Passaic Falls in Paterson but efforts to save this historic structure are still being attempted.', 'title': 'Old Gun Mill'}, {'body': \"After the Dambusters raid in 1943 an entirely new system was developed that was required to knock down any low-flying aircraft with a single hit. The first attempt to produce such a system used a 50 mm gun, but this proved inaccurate and a new 55 mm gun replaced it. The system used a centralised control system including both search and targeting radar, which calculated the aim point for the guns after considering windage and ballistics, and then sent electrical commands to the guns, which used hydraulics to point themselves at high speeds. Operators simply fed the guns and selected the targets. This system, modern even by today's standards, was in late development when the war ended.\", 'id': '14', 'is_supporting': False, 'text': \"# Anti-aircraft warfare\\nAfter the Dambusters raid in 1943 an entirely new system was developed that was required to knock down any low-flying aircraft with a single hit. The first attempt to produce such a system used a 50 mm gun, but this proved inaccurate and a new 55 mm gun replaced it. The system used a centralised control system including both search and targeting radar, which calculated the aim point for the guns after considering windage and ballistics, and then sent electrical commands to the guns, which used hydraulics to point themselves at high speeds. Operators simply fed the guns and selected the targets. This system, modern even by today's standards, was in late development when the war ended.\", 'title': 'Anti-aircraft warfare'}, {'body': 'The Canon de 75 mle GP II was a field gun used by Belgium during World War II. Cockerill mounted lengthened Canon de 75 mle TR barrels on ex-German 7.7 cm FK 16 gun carriages received as reparations after World War I. After 1940, the Wehrmacht designated captured guns as the 7.5\\xa0cm FK 234(b) and used them to equip occupation units in Belgium.', 'id': '15', 'is_supporting': False, 'text': '# Canon de 75 mle GP II\\nThe Canon de 75 mle GP II was a field gun used by Belgium during World War II. Cockerill mounted lengthened Canon de 75 mle TR barrels on ex-German 7.7 cm FK 16 gun carriages received as reparations after World War I. After 1940, the Wehrmacht designated captured guns as the 7.5\\xa0cm FK 234(b) and used them to equip occupation units in Belgium.', 'title': 'Canon de 75 mle GP II'}, {'body': 'The 3-inch gun M1917 was a World War I-era US-made anti-aircraft gun based on the 3-inch gun M1903. It was designed for a fixed mounting and remained in service, primarily at Coast Artillery installations, through World War II. It was determined that the weapon was too heavy and had too much recoil for mobile mountings, so a new weapon based on the lighter and less powerful 3-inch gun M1898 was developed, designated the 3-inch Gun M1918. This was the standard US anti-aircraft gun until replaced by the 3-inch gun M3 in 1930. There is some controversy as to whether any seacoast guns were actually converted into anti-aircraft guns in the development of these weapons.', 'id': '16', 'is_supporting': False, 'text': '# 3-inch gun M1903\\nThe 3-inch gun M1917 was a World War I-era US-made anti-aircraft gun based on the 3-inch gun M1903. It was designed for a fixed mounting and remained in service, primarily at Coast Artillery installations, through World War II. It was determined that the weapon was too heavy and had too much recoil for mobile mountings, so a new weapon based on the lighter and less powerful 3-inch gun M1898 was developed, designated the 3-inch Gun M1918. This was the standard US anti-aircraft gun until replaced by the 3-inch gun M3 in 1930. There is some controversy as to whether any seacoast guns were actually converted into anti-aircraft guns in the development of these weapons.', 'title': '3-inch gun M1903'}, {'body': \"In 1925 the British adopted a new instrument developed by Vickers. It was a mechanical analogue computer Predictor AA No 1. Given the target height its operators tracked the target and the predictor produced bearing, quadrant elevation and fuse setting. These were passed electrically to the guns where they were displayed on repeater dials to the layers who 'matched pointers' (target data and the gun's actual data) to lay the guns. This system of repeater electrical dials built on the arrangements introduced by British coast artillery in the 1880s, and coast artillery was the background of many AA officers. Similar systems were adopted in other countries and for example the later Sperry device, designated M3A3 in the US was also used by Britain as the Predictor AA No 2. Height finders were also increasing in size, in Britain, the World War I Barr & Stroud UB 2 (7 feet optical base) was replaced by the UB 7 (9 feet optical base) and the UB 10 (18 feet optical base, only used on static AA sites). Goertz in Germany and Levallois in France produced 5 metre instruments. However, in most countries the main effort in HAA guns until the mid-1930s was improving existing ones, although various new designs were on drawing boards.\", 'id': '17', 'is_supporting': False, 'text': \"# Anti-aircraft warfare\\nIn 1925 the British adopted a new instrument developed by Vickers. It was a mechanical analogue computer Predictor AA No 1. Given the target height its operators tracked the target and the predictor produced bearing, quadrant elevation and fuse setting. These were passed electrically to the guns where they were displayed on repeater dials to the layers who 'matched pointers' (target data and the gun's actual data) to lay the guns. This system of repeater electrical dials built on the arrangements introduced by British coast artillery in the 1880s, and coast artillery was the background of many AA officers. Similar systems were adopted in other countries and for example the later Sperry device, designated M3A3 in the US was also used by Britain as the Predictor AA No 2. Height finders were also increasing in size, in Britain, the World War I Barr & Stroud UB 2 (7 feet optical base) was replaced by the UB 7 (9 feet optical base) and the UB 10 (18 feet optical base, only used on static AA sites). Goertz in Germany and Levallois in France produced 5 metre instruments. However, in most countries the main effort in HAA guns until the mid-1930s was improving existing ones, although various new designs were on drawing boards.\", 'title': 'Anti-aircraft warfare'}, {'body': 'The LeMat revolver was a. 42 or. 36 caliber cap & ball black powder revolver invented by Jean Alexandre LeMat of New Orleans, which featured an unusual secondary 20 gauge smooth - bore barrel capable of firing buckshot. It saw service with the armed forces of the Confederate States of America during the American Civil War of 1861 -- 65 and the Army of the Government of National Defense during the Franco - Prussian War.', 'id': '18', 'is_supporting': True, 'text': '# LeMat Revolver\\nThe LeMat revolver was a. 42 or. 36 caliber cap & ball black powder revolver invented by Jean Alexandre LeMat of New Orleans, which featured an unusual secondary 20 gauge smooth - bore barrel capable of firing buckshot. It saw service with the armed forces of the Confederate States of America during the American Civil War of 1861 -- 65 and the Army of the Government of National Defense during the Franco - Prussian War.', 'title': 'LeMat Revolver'}, {'body': \"However, the problem of deflection settings — 'aim-off' — required knowing the rate of change in the target's position. Both France and UK introduced tachymetric devices to track targets and produce vertical and horizontal deflection angles. The French Brocq system was electrical, the operator entered the target range and had displays at guns; it was used with their 75 mm. The British Wilson-Dalby gun director used a pair of trackers and mechanical tachymetry; the operator entered the fuse length, and deflection angles were read from the instruments.\", 'id': '19', 'is_supporting': False, 'text': \"# Anti-aircraft warfare\\nHowever, the problem of deflection settings — 'aim-off' — required knowing the rate of change in the target's position. Both France and UK introduced tachymetric devices to track targets and produce vertical and horizontal deflection angles. The French Brocq system was electrical, the operator entered the target range and had displays at guns; it was used with their 75 mm. The British Wilson-Dalby gun director used a pair of trackers and mechanical tachymetry; the operator entered the fuse length, and deflection angles were read from the instruments.\", 'title': 'Anti-aircraft warfare'}], 'id': '2hop__273020_57594', 'n_hops': 2, 'oai_tools': [{'type': 'function', 'function': {'name': 'retrieve_documents', 'description': 'Retrieve relevant documents by the query. The results get better with more specific queries.', 'parameters': {'type': 'object', 'properties': {'query': {'type': 'string', 'description': 'Parameter `query` of type string.'}, 'top_n': {'type': 'integer', 'description': 'Parameter `top_n` of type integer.'}}, 'required': ['query']}}}, {'type': 'function', 'function': {'name': 'get_document', 'description': 'Get a document by its ID.', 'parameters': {'type': 'object', 'properties': {'doc_id': {'type': 'string', 'description': 'Parameter `doc_id` of type string.'}}, 'required': ['doc_id']}}}]}\n",
      "task\n",
      "default\n",
      "reward\n",
      "0.06666666666666667\n",
      "metrics\n",
      "<class 'dict'>\n"
     ]
    },
    {
     "name": "stderr",
     "output_type": "stream",
     "text": [
      "/tmp/ipykernel_762674/3696243233.py:3: PydanticDeprecatedSince20: The `__fields__` attribute is deprecated, use `model_fields` instead. Deprecated in Pydantic V2.0 to be removed in V3.0. See Pydantic V2 Migration Guide at https://errors.pydantic.dev/2.11/migration/\n",
      "  for field in GenerateOutputs.__fields__.keys():\n"
     ]
    }
   ],
   "source": [
    "from verifiers.types import GenerateOutputs\n",
    "\n",
    "for field in GenerateOutputs.__fields__.keys():\n",
    "    print(field)\n",
    "\n",
    "    _type = type(getattr(results, field))\n",
    "    if _type == list:\n",
    "        print(getattr(results, field)[0])\n",
    "    else:\n",
    "        print(type(getattr(results, field)))"
   ]
  },
  {
   "cell_type": "code",
   "execution_count": 8,
   "id": "04618244",
   "metadata": {},
   "outputs": [
    {
     "data": {
      "text/plain": [
       "Dataset({\n",
       "    features: ['prompt', 'completion', 'answer', 'task', 'reward', 'info', 'exact_match_reward', 'f1_reward', 'retrieval_recall_reward', 'citation_reward', 'format_reward', 'combined_reward'],\n",
       "    num_rows: 300\n",
       "})"
      ]
     },
     "execution_count": 8,
     "metadata": {},
     "output_type": "execute_result"
    }
   ],
   "source": [
    "ds = vf_env.make_dataset(results)\n",
    "ds"
   ]
  },
  {
   "cell_type": "code",
   "execution_count": 9,
   "id": "205448ce",
   "metadata": {},
   "outputs": [
    {
     "data": {
      "application/vnd.jupyter.widget-view+json": {
       "model_id": "6db4d7c35097435c87a1406dddffe280",
       "version_major": 2,
       "version_minor": 0
      },
      "text/plain": [
       "Creating json from Arrow format:   0%|          | 0/1 [00:00<?, ?ba/s]"
      ]
     },
     "metadata": {},
     "output_type": "display_data"
    },
    {
     "data": {
      "text/plain": [
       "9178588"
      ]
     },
     "execution_count": 9,
     "metadata": {},
     "output_type": "execute_result"
    }
   ],
   "source": [
    "ds.to_json(\"../outputs/sample.jsonl\", orient=\"records\", lines=True)"
   ]
  },
  {
   "cell_type": "code",
   "execution_count": 10,
   "id": "810fa60f",
   "metadata": {},
   "outputs": [],
   "source": [
    "df = ds.to_pandas()"
   ]
  },
  {
   "cell_type": "code",
   "execution_count": 11,
   "id": "a9c7950f",
   "metadata": {},
   "outputs": [
    {
     "data": {
      "text/html": [
       "<div>\n",
       "<style scoped>\n",
       "    .dataframe tbody tr th:only-of-type {\n",
       "        vertical-align: middle;\n",
       "    }\n",
       "\n",
       "    .dataframe tbody tr th {\n",
       "        vertical-align: top;\n",
       "    }\n",
       "\n",
       "    .dataframe thead th {\n",
       "        text-align: right;\n",
       "    }\n",
       "</style>\n",
       "<table border=\"1\" class=\"dataframe\">\n",
       "  <thead>\n",
       "    <tr style=\"text-align: right;\">\n",
       "      <th></th>\n",
       "      <th>exact_match_reward</th>\n",
       "      <th>f1_reward</th>\n",
       "      <th>retrieval_recall_reward</th>\n",
       "      <th>citation_reward</th>\n",
       "      <th>format_reward</th>\n",
       "      <th>combined_reward</th>\n",
       "    </tr>\n",
       "  </thead>\n",
       "  <tbody>\n",
       "    <tr>\n",
       "      <th>count</th>\n",
       "      <td>300.000000</td>\n",
       "      <td>300.000000</td>\n",
       "      <td>300.000000</td>\n",
       "      <td>300.000000</td>\n",
       "      <td>300.000000</td>\n",
       "      <td>300.000000</td>\n",
       "    </tr>\n",
       "    <tr>\n",
       "      <th>mean</th>\n",
       "      <td>0.216667</td>\n",
       "      <td>0.284722</td>\n",
       "      <td>0.601111</td>\n",
       "      <td>0.330556</td>\n",
       "      <td>0.680000</td>\n",
       "      <td>0.229757</td>\n",
       "    </tr>\n",
       "    <tr>\n",
       "      <th>std</th>\n",
       "      <td>0.412662</td>\n",
       "      <td>0.414543</td>\n",
       "      <td>0.336121</td>\n",
       "      <td>0.331855</td>\n",
       "      <td>0.339147</td>\n",
       "      <td>0.178977</td>\n",
       "    </tr>\n",
       "    <tr>\n",
       "      <th>min</th>\n",
       "      <td>0.000000</td>\n",
       "      <td>0.000000</td>\n",
       "      <td>0.000000</td>\n",
       "      <td>0.000000</td>\n",
       "      <td>0.000000</td>\n",
       "      <td>0.000000</td>\n",
       "    </tr>\n",
       "    <tr>\n",
       "      <th>25%</th>\n",
       "      <td>0.000000</td>\n",
       "      <td>0.000000</td>\n",
       "      <td>0.458333</td>\n",
       "      <td>0.000000</td>\n",
       "      <td>0.333333</td>\n",
       "      <td>0.088889</td>\n",
       "    </tr>\n",
       "    <tr>\n",
       "      <th>50%</th>\n",
       "      <td>0.000000</td>\n",
       "      <td>0.000000</td>\n",
       "      <td>0.666667</td>\n",
       "      <td>0.333333</td>\n",
       "      <td>0.666667</td>\n",
       "      <td>0.188889</td>\n",
       "    </tr>\n",
       "    <tr>\n",
       "      <th>75%</th>\n",
       "      <td>0.000000</td>\n",
       "      <td>0.628205</td>\n",
       "      <td>1.000000</td>\n",
       "      <td>0.500000</td>\n",
       "      <td>1.000000</td>\n",
       "      <td>0.358333</td>\n",
       "    </tr>\n",
       "    <tr>\n",
       "      <th>max</th>\n",
       "      <td>1.000000</td>\n",
       "      <td>1.000000</td>\n",
       "      <td>1.000000</td>\n",
       "      <td>1.000000</td>\n",
       "      <td>1.000000</td>\n",
       "      <td>0.683333</td>\n",
       "    </tr>\n",
       "  </tbody>\n",
       "</table>\n",
       "</div>"
      ],
      "text/plain": [
       "       exact_match_reward   f1_reward  retrieval_recall_reward  \\\n",
       "count          300.000000  300.000000               300.000000   \n",
       "mean             0.216667    0.284722                 0.601111   \n",
       "std              0.412662    0.414543                 0.336121   \n",
       "min              0.000000    0.000000                 0.000000   \n",
       "25%              0.000000    0.000000                 0.458333   \n",
       "50%              0.000000    0.000000                 0.666667   \n",
       "75%              0.000000    0.628205                 1.000000   \n",
       "max              1.000000    1.000000                 1.000000   \n",
       "\n",
       "       citation_reward  format_reward  combined_reward  \n",
       "count       300.000000     300.000000       300.000000  \n",
       "mean          0.330556       0.680000         0.229757  \n",
       "std           0.331855       0.339147         0.178977  \n",
       "min           0.000000       0.000000         0.000000  \n",
       "25%           0.000000       0.333333         0.088889  \n",
       "50%           0.333333       0.666667         0.188889  \n",
       "75%           0.500000       1.000000         0.358333  \n",
       "max           1.000000       1.000000         0.683333  "
      ]
     },
     "execution_count": 11,
     "metadata": {},
     "output_type": "execute_result"
    }
   ],
   "source": [
    "metric_cols = [\n",
    "    'exact_match_reward',\n",
    "    'f1_reward',\n",
    "    'retrieval_recall_reward',\n",
    "    'citation_reward',\n",
    "    'format_reward',\n",
    "    'combined_reward',\n",
    "]\n",
    "df[metric_cols].describe()"
   ]
  },
  {
   "cell_type": "code",
   "execution_count": null,
   "id": "b3985c33",
   "metadata": {},
   "outputs": [],
   "source": []
  }
 ],
 "metadata": {
  "kernelspec": {
   "display_name": ".venv",
   "language": "python",
   "name": "python3"
  },
  "language_info": {
   "codemirror_mode": {
    "name": "ipython",
    "version": 3
   },
   "file_extension": ".py",
   "mimetype": "text/x-python",
   "name": "python",
   "nbconvert_exporter": "python",
   "pygments_lexer": "ipython3",
   "version": "3.12.9"
  }
 },
 "nbformat": 4,
 "nbformat_minor": 5
}
