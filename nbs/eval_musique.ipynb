{
 "cells": [
  {
   "cell_type": "code",
   "execution_count": 1,
   "id": "a143f034",
   "metadata": {},
   "outputs": [],
   "source": [
    "from pathlib import Path\n",
    "\n",
    "import pandas as pd\n",
    "import verifiers as vf\n",
    "from dotenv import load_dotenv\n",
    "from openai import AsyncOpenAI\n",
    "\n",
    "\n",
    "assert load_dotenv(), \"Failed to load .env file\""
   ]
  },
  {
   "cell_type": "code",
   "execution_count": 2,
   "id": "8c39fb68",
   "metadata": {},
   "outputs": [
    {
     "data": {
      "text/plain": [
       "{'env_id': 'vf-musique-multi',\n",
       " 'datasets_str': 'bdsaglam/musique-mini,answerable,validation',\n",
       " 'noise_rate': 1.0,\n",
       " 'retriever': 'hybrid',\n",
       " 'model': 'Qwen/Qwen2.5-7B-Instruct',\n",
       " 'temperature': 0.5,\n",
       " 'max_new_tokens': 1024}"
      ]
     },
     "execution_count": 2,
     "metadata": {},
     "output_type": "execute_result"
    }
   ],
   "source": [
    "from rlvr.utils.llm import get_default_model\n",
    "\n",
    "env_id = \"vf-musique-multi\"\n",
    "datasets_str = \"bdsaglam/musique-mini,answerable,validation\"\n",
    "noise_rate = 1.0\n",
    "retriever = \"hybrid\"\n",
    "model = get_default_model()\n",
    "temperature = 0.5\n",
    "max_new_tokens = 1024\n",
    "\n",
    "params = {\n",
    "    \"env_id\": env_id,\n",
    "    \"datasets_str\": datasets_str,\n",
    "    \"noise_rate\": noise_rate,\n",
    "    \"retriever\": retriever,\n",
    "    \"model\": model,\n",
    "    \"temperature\": temperature,\n",
    "    \"max_new_tokens\": max_new_tokens,\n",
    "}\n",
    "params"
   ]
  },
  {
   "cell_type": "code",
   "execution_count": 3,
   "id": "38c354da",
   "metadata": {},
   "outputs": [
    {
     "data": {
      "text/plain": [
       "<Experiment: artifact_location='mlflow-artifacts:/2', creation_time=1756636926792, experiment_id='2', last_update_time=1756636926792, lifecycle_stage='active', name='rlvr-eval', tags={}>"
      ]
     },
     "execution_count": 3,
     "metadata": {},
     "output_type": "execute_result"
    }
   ],
   "source": [
    "import mlflow\n",
    "\n",
    "# Tell MLflow about the server URI.\n",
    "mlflow.set_tracking_uri(\"http://127.0.0.1:5000\")\n",
    "# Enable autologging with all features\n",
    "mlflow.openai.autolog()\n",
    "# Create a unique name for your experiment.\n",
    "mlflow.set_experiment(\"rlvr-eval\")"
   ]
  },
  {
   "cell_type": "code",
   "execution_count": null,
   "id": "c4817b65",
   "metadata": {},
   "outputs": [
    {
     "name": "stdout",
     "output_type": "stream",
     "text": [
      "🌍 Loading MuSiQue environment...\n"
     ]
    }
   ],
   "source": [
    "# Load MuSiQue environment\n",
    "print(\"🌍 Loading MuSiQue environment...\")\n",
    "\n",
    "vf_env = vf.load_environment(\n",
    "    env_id=env_id,\n",
    "    datasets_str=datasets_str,\n",
    "    noise_rate=noise_rate,\n",
    "    retriever=retriever,\n",
    ")\n",
    "print(f\"✅ Environment loaded with {len(vf_env.dataset)} examples\")\n",
    "\n",
    "# Use OpenAI-compatible API client (e.g., for vLLM)\n",
    "print(\"🤖 Using OpenAI-compatible API client...\")\n",
    "\n",
    "# Run evaluation using the environment\n",
    "print(\"🔄 Running evaluation...\")\n",
    "openai_client = AsyncOpenAI()\n",
    "results = vf_env.evaluate(\n",
    "    openai_client,\n",
    "    model,\n",
    "    rollouts_per_example=1,\n",
    "    sampling_args={\"temperature\": temperature, \"max_tokens\": max_new_tokens},\n",
    ")\n"
   ]
  },
  {
   "cell_type": "code",
   "execution_count": null,
   "id": "a94aaa04",
   "metadata": {},
   "outputs": [
    {
     "data": {
      "text/plain": [
       "232"
      ]
     },
     "execution_count": 5,
     "metadata": {},
     "output_type": "execute_result"
    }
   ],
   "source": [
    "from datetime import datetime\n",
    "import json\n",
    "\n",
    "exp_id = datetime.now().strftime(\"%Y%m%d_%H%M%S\")\n",
    "exp_dir = Path(f\"../outputs/musique-eval/{exp_id}\")\n",
    "exp_dir.mkdir(parents=True, exist_ok=True)\n",
    "\n",
    "(exp_dir / \"params.json\").write_text(json.dumps(params, indent=2))"
   ]
  },
  {
   "cell_type": "code",
   "execution_count": null,
   "id": "04618244",
   "metadata": {},
   "outputs": [],
   "source": [
    "ds = vf_env.make_dataset(results)\n",
    "df = ds.to_pandas()"
   ]
  },
  {
   "cell_type": "code",
   "execution_count": null,
   "id": "c38609cd",
   "metadata": {},
   "outputs": [
    {
     "data": {
      "text/html": [
       "<div>\n",
       "<style scoped>\n",
       "    .dataframe tbody tr th:only-of-type {\n",
       "        vertical-align: middle;\n",
       "    }\n",
       "\n",
       "    .dataframe tbody tr th {\n",
       "        vertical-align: top;\n",
       "    }\n",
       "\n",
       "    .dataframe thead th {\n",
       "        text-align: right;\n",
       "    }\n",
       "</style>\n",
       "<table border=\"1\" class=\"dataframe\">\n",
       "  <thead>\n",
       "    <tr style=\"text-align: right;\">\n",
       "      <th></th>\n",
       "      <th>reward</th>\n",
       "      <th>exact_match_reward</th>\n",
       "      <th>f1_reward</th>\n",
       "      <th>retrieval_recall_reward</th>\n",
       "      <th>retrieval_precision_reward</th>\n",
       "      <th>citation_reward</th>\n",
       "      <th>format_reward</th>\n",
       "      <th>combined_reward</th>\n",
       "    </tr>\n",
       "  </thead>\n",
       "  <tbody>\n",
       "    <tr>\n",
       "      <th>count</th>\n",
       "      <td>100.000000</td>\n",
       "      <td>100.000000</td>\n",
       "      <td>100.000000</td>\n",
       "      <td>100.000000</td>\n",
       "      <td>100.000000</td>\n",
       "      <td>100.000000</td>\n",
       "      <td>100.000000</td>\n",
       "      <td>100.000000</td>\n",
       "    </tr>\n",
       "    <tr>\n",
       "      <th>mean</th>\n",
       "      <td>0.371726</td>\n",
       "      <td>0.130000</td>\n",
       "      <td>0.194706</td>\n",
       "      <td>0.700000</td>\n",
       "      <td>0.570000</td>\n",
       "      <td>0.330000</td>\n",
       "      <td>0.556667</td>\n",
       "      <td>0.371726</td>\n",
       "    </tr>\n",
       "    <tr>\n",
       "      <th>std</th>\n",
       "      <td>0.251811</td>\n",
       "      <td>0.337998</td>\n",
       "      <td>0.364343</td>\n",
       "      <td>0.309773</td>\n",
       "      <td>0.249781</td>\n",
       "      <td>0.390674</td>\n",
       "      <td>0.387964</td>\n",
       "      <td>0.251811</td>\n",
       "    </tr>\n",
       "    <tr>\n",
       "      <th>min</th>\n",
       "      <td>0.000000</td>\n",
       "      <td>0.000000</td>\n",
       "      <td>0.000000</td>\n",
       "      <td>0.000000</td>\n",
       "      <td>0.000000</td>\n",
       "      <td>0.000000</td>\n",
       "      <td>0.000000</td>\n",
       "      <td>0.000000</td>\n",
       "    </tr>\n",
       "    <tr>\n",
       "      <th>25%</th>\n",
       "      <td>0.181250</td>\n",
       "      <td>0.000000</td>\n",
       "      <td>0.000000</td>\n",
       "      <td>0.500000</td>\n",
       "      <td>0.500000</td>\n",
       "      <td>0.000000</td>\n",
       "      <td>0.333333</td>\n",
       "      <td>0.181250</td>\n",
       "    </tr>\n",
       "    <tr>\n",
       "      <th>50%</th>\n",
       "      <td>0.308333</td>\n",
       "      <td>0.000000</td>\n",
       "      <td>0.000000</td>\n",
       "      <td>0.500000</td>\n",
       "      <td>0.500000</td>\n",
       "      <td>0.000000</td>\n",
       "      <td>0.666667</td>\n",
       "      <td>0.308333</td>\n",
       "    </tr>\n",
       "    <tr>\n",
       "      <th>75%</th>\n",
       "      <td>0.491667</td>\n",
       "      <td>0.000000</td>\n",
       "      <td>0.070031</td>\n",
       "      <td>1.000000</td>\n",
       "      <td>0.666667</td>\n",
       "      <td>0.500000</td>\n",
       "      <td>1.000000</td>\n",
       "      <td>0.491667</td>\n",
       "    </tr>\n",
       "    <tr>\n",
       "      <th>max</th>\n",
       "      <td>0.991667</td>\n",
       "      <td>1.000000</td>\n",
       "      <td>1.000000</td>\n",
       "      <td>1.000000</td>\n",
       "      <td>1.000000</td>\n",
       "      <td>1.000000</td>\n",
       "      <td>1.000000</td>\n",
       "      <td>0.991667</td>\n",
       "    </tr>\n",
       "  </tbody>\n",
       "</table>\n",
       "</div>"
      ],
      "text/plain": [
       "           reward  exact_match_reward   f1_reward  retrieval_recall_reward  \\\n",
       "count  100.000000          100.000000  100.000000               100.000000   \n",
       "mean     0.371726            0.130000    0.194706                 0.700000   \n",
       "std      0.251811            0.337998    0.364343                 0.309773   \n",
       "min      0.000000            0.000000    0.000000                 0.000000   \n",
       "25%      0.181250            0.000000    0.000000                 0.500000   \n",
       "50%      0.308333            0.000000    0.000000                 0.500000   \n",
       "75%      0.491667            0.000000    0.070031                 1.000000   \n",
       "max      0.991667            1.000000    1.000000                 1.000000   \n",
       "\n",
       "       retrieval_precision_reward  citation_reward  format_reward  \\\n",
       "count                  100.000000       100.000000     100.000000   \n",
       "mean                     0.570000         0.330000       0.556667   \n",
       "std                      0.249781         0.390674       0.387964   \n",
       "min                      0.000000         0.000000       0.000000   \n",
       "25%                      0.500000         0.000000       0.333333   \n",
       "50%                      0.500000         0.000000       0.666667   \n",
       "75%                      0.666667         0.500000       1.000000   \n",
       "max                      1.000000         1.000000       1.000000   \n",
       "\n",
       "       combined_reward  \n",
       "count       100.000000  \n",
       "mean          0.371726  \n",
       "std           0.251811  \n",
       "min           0.000000  \n",
       "25%           0.181250  \n",
       "50%           0.308333  \n",
       "75%           0.491667  \n",
       "max           0.991667  "
      ]
     },
     "execution_count": 7,
     "metadata": {},
     "output_type": "execute_result"
    }
   ],
   "source": [
    "df.describe()"
   ]
  },
  {
   "cell_type": "code",
   "execution_count": null,
   "id": "60166588",
   "metadata": {},
   "outputs": [
    {
     "data": {
      "application/vnd.jupyter.widget-view+json": {
       "model_id": "b59e4b64a22344bda5aed76e4d2755f9",
       "version_major": 2,
       "version_minor": 0
      },
      "text/plain": [
       "Creating json from Arrow format:   0%|          | 0/1 [00:00<?, ?ba/s]"
      ]
     },
     "metadata": {},
     "output_type": "display_data"
    }
   ],
   "source": [
    "from datetime import datetime\n",
    "import json\n",
    "\n",
    "exp_id = datetime.now().strftime(\"%Y%m%d_%H%M%S\")\n",
    "exp_dir = Path(f\"../outputs/musique-eval/{exp_id}\")\n",
    "exp_dir.mkdir(parents=True, exist_ok=True)\n",
    "\n",
    "(exp_dir / \"params.json\").write_text(json.dumps(params, indent=2))\n",
    "ds.to_json(exp_dir / \"musique-eval-results.jsonl\", orient=\"records\", lines=True)\n",
    "df.describe().to_csv(exp_dir / \"scores.csv\")"
   ]
  },
  {
   "cell_type": "code",
   "execution_count": null,
   "id": "6416c4a7",
   "metadata": {},
   "outputs": [],
   "source": []
  }
 ],
 "metadata": {
  "kernelspec": {
   "display_name": ".venv",
   "language": "python",
   "name": "python3"
  },
  "language_info": {
   "codemirror_mode": {
    "name": "ipython",
    "version": 3
   },
   "file_extension": ".py",
   "mimetype": "text/x-python",
   "name": "python",
   "nbconvert_exporter": "python",
   "pygments_lexer": "ipython3",
   "version": "3.12.9"
  }
 },
 "nbformat": 4,
 "nbformat_minor": 5
}
