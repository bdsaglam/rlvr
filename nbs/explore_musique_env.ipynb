{
 "cells": [
  {
   "cell_type": "code",
   "execution_count": 1,
   "id": "a143f034",
   "metadata": {},
   "outputs": [],
   "source": [
    "from pathlib import Path\n",
    "import json\n",
    "import typer\n",
    "import pandas as pd\n",
    "import verifiers as vf\n",
    "from verifiers.types import SamplingArgs\n",
    "from dotenv import load_dotenv\n",
    "from openai import AsyncOpenAI\n",
    "\n",
    "assert load_dotenv(), \"Failed to load .env file\"\n",
    "\n",
    "openai_client = AsyncOpenAI()\n",
    "\n",
    "\n",
    "def jprint(obj):\n",
    "    print(json.dumps(obj, indent=2))\n"
   ]
  },
  {
   "cell_type": "code",
   "execution_count": 2,
   "id": "5dff558e",
   "metadata": {},
   "outputs": [
    {
     "data": {
      "text/plain": [
       "<Experiment: artifact_location='mlflow-artifacts:/15', creation_time=1756559484585, experiment_id='15', last_update_time=1756559484585, lifecycle_stage='active', name='rlvr-explore', tags={}>"
      ]
     },
     "execution_count": 2,
     "metadata": {},
     "output_type": "execute_result"
    }
   ],
   "source": [
    "import mlflow\n",
    "\n",
    "# Tell MLflow about the server URI.\n",
    "mlflow.set_tracking_uri(\"http://127.0.0.1:5000\")\n",
    "# Enable autologging with all features\n",
    "mlflow.openai.autolog()\n",
    "# Create a unique name for your experiment.\n",
    "mlflow.set_experiment(\"rlvr-explore\")"
   ]
  },
  {
   "cell_type": "code",
   "execution_count": 3,
   "id": "9328583a",
   "metadata": {},
   "outputs": [
    {
     "name": "stdout",
     "output_type": "stream",
     "text": [
      "Qwen/Qwen2.5-7B-Instruct\n"
     ]
    }
   ],
   "source": [
    "model_response = await openai_client.models.list()\n",
    "available_models = [item.id for item in model_response.data if item.object == 'model']\n",
    "model = available_models[0]\n",
    "print(model)"
   ]
  },
  {
   "cell_type": "code",
   "execution_count": 4,
   "id": "43526040",
   "metadata": {},
   "outputs": [
    {
     "name": "stdout",
     "output_type": "stream",
     "text": [
      "📊 Dataset: bdsaglam/musique-mini,answerable,train (noise rate: 1.0)\n",
      "🔍 Retriever: hybrid\n",
      "🌍 Loading MuSiQue environment...\n"
     ]
    },
    {
     "data": {
      "application/vnd.jupyter.widget-view+json": {
       "model_id": "eba4ca1cc75b4d91aa33e947f733b8fa",
       "version_major": 2,
       "version_minor": 0
      },
      "text/plain": [
       "Map: 100%|##########| 300/300 [00:00<?, ? examples/s]"
      ]
     },
     "metadata": {},
     "output_type": "display_data"
    },
    {
     "data": {
      "application/vnd.jupyter.widget-view+json": {
       "model_id": "86f57e950ae749e9af3c23d992ae917e",
       "version_major": 2,
       "version_minor": 0
      },
      "text/plain": [
       "Filter:   0%|          | 0/300 [00:00<?, ? examples/s]"
      ]
     },
     "metadata": {},
     "output_type": "display_data"
    },
    {
     "data": {
      "application/vnd.jupyter.widget-view+json": {
       "model_id": "01d231e1d842441ba7a8c17ee30b85d1",
       "version_major": 2,
       "version_minor": 0
      },
      "text/plain": [
       "Map:   0%|          | 0/100 [00:00<?, ? examples/s]"
      ]
     },
     "metadata": {},
     "output_type": "display_data"
    },
    {
     "data": {
      "application/vnd.jupyter.widget-view+json": {
       "model_id": "6db10d17fb1c494ea530cbc1c3a238b3",
       "version_major": 2,
       "version_minor": 0
      },
      "text/plain": [
       "Map:   0%|          | 0/100 [00:00<?, ? examples/s]"
      ]
     },
     "metadata": {},
     "output_type": "display_data"
    },
    {
     "name": "stdout",
     "output_type": "stream",
     "text": [
      "✅ Environment loaded with 100 examples\n"
     ]
    }
   ],
   "source": [
    "datasets_str = \"bdsaglam/musique-mini,answerable,train\"\n",
    "noise_rate = 1.0\n",
    "retriever = \"hybrid\"\n",
    "\n",
    "print(f\"📊 Dataset: {datasets_str} (noise rate: {noise_rate})\")\n",
    "print(f\"🔍 Retriever: {retriever}\")\n",
    "\n",
    "# Load MuSiQue environment\n",
    "print(\"🌍 Loading MuSiQue environment...\")\n",
    "\n",
    "vf_env = vf.load_environment(\n",
    "    env_id=\"vf-musique\",\n",
    "    datasets_str=datasets_str,\n",
    "    noise_rate=noise_rate,\n",
    "    retriever_name=retriever,\n",
    ")\n",
    "print(f\"✅ Environment loaded with {len(vf_env.dataset)} examples\")"
   ]
  },
  {
   "cell_type": "code",
   "execution_count": 5,
   "id": "e6aca9f4",
   "metadata": {},
   "outputs": [
    {
     "data": {
      "text/html": [
       "<div>\n",
       "<style scoped>\n",
       "    .dataframe tbody tr th:only-of-type {\n",
       "        vertical-align: middle;\n",
       "    }\n",
       "\n",
       "    .dataframe tbody tr th {\n",
       "        vertical-align: top;\n",
       "    }\n",
       "\n",
       "    .dataframe thead th {\n",
       "        text-align: right;\n",
       "    }\n",
       "</style>\n",
       "<table border=\"1\" class=\"dataframe\">\n",
       "  <thead>\n",
       "    <tr style=\"text-align: right;\">\n",
       "      <th></th>\n",
       "      <th>question</th>\n",
       "      <th>answer</th>\n",
       "      <th>info</th>\n",
       "      <th>prompt</th>\n",
       "    </tr>\n",
       "  </thead>\n",
       "  <tbody>\n",
       "    <tr>\n",
       "      <th>0</th>\n",
       "      <td>What's the population of the city where Anthon...</td>\n",
       "      <td>190,884</td>\n",
       "      <td>{'answers': ['190,884'], 'docs': [{'body': 'Ol...</td>\n",
       "      <td>[{'content': 'Answer the question based on the...</td>\n",
       "    </tr>\n",
       "    <tr>\n",
       "      <th>1</th>\n",
       "      <td>When did the team that the Red Sox played agai...</td>\n",
       "      <td>2011</td>\n",
       "      <td>{'answers': ['2011'], 'docs': [{'body': 'Exact...</td>\n",
       "      <td>[{'content': 'Answer the question based on the...</td>\n",
       "    </tr>\n",
       "    <tr>\n",
       "      <th>2</th>\n",
       "      <td>Who is the father of the artist who created Ti...</td>\n",
       "      <td>Alfred Lennon</td>\n",
       "      <td>{'answers': ['Alfred Lennon', 'alfred lennon']...</td>\n",
       "      <td>[{'content': 'Answer the question based on the...</td>\n",
       "    </tr>\n",
       "    <tr>\n",
       "      <th>3</th>\n",
       "      <td>In Doctor Who, who plays the creator of Trees ...</td>\n",
       "      <td>Tony Curran</td>\n",
       "      <td>{'answers': ['Tony Curran', 'tony curran'], 'd...</td>\n",
       "      <td>[{'content': 'Answer the question based on the...</td>\n",
       "    </tr>\n",
       "    <tr>\n",
       "      <th>4</th>\n",
       "      <td>Little Annie Rooney's screenwriter has who for...</td>\n",
       "      <td>Jack Pickford</td>\n",
       "      <td>{'answers': ['Jack Pickford', 'jack pickford']...</td>\n",
       "      <td>[{'content': 'Answer the question based on the...</td>\n",
       "    </tr>\n",
       "    <tr>\n",
       "      <th>...</th>\n",
       "      <td>...</td>\n",
       "      <td>...</td>\n",
       "      <td>...</td>\n",
       "      <td>...</td>\n",
       "    </tr>\n",
       "    <tr>\n",
       "      <th>95</th>\n",
       "      <td>What is the size of the continent Marian Cove ...</td>\n",
       "      <td>5,400,000</td>\n",
       "      <td>{'answers': ['5,400,000'], 'docs': [{'body': '...</td>\n",
       "      <td>[{'content': 'Answer the question based on the...</td>\n",
       "    </tr>\n",
       "    <tr>\n",
       "      <th>96</th>\n",
       "      <td>When was the state of emergency declared in th...</td>\n",
       "      <td>20 October 1952</td>\n",
       "      <td>{'answers': ['20 october 1952', '20 October 19...</td>\n",
       "      <td>[{'content': 'Answer the question based on the...</td>\n",
       "    </tr>\n",
       "    <tr>\n",
       "      <th>97</th>\n",
       "      <td>Who is the spouse of the performer of Mistleto...</td>\n",
       "      <td>Barbara Marx</td>\n",
       "      <td>{'answers': ['Barbara Marx', 'barbara marx'], ...</td>\n",
       "      <td>[{'content': 'Answer the question based on the...</td>\n",
       "    </tr>\n",
       "    <tr>\n",
       "      <th>98</th>\n",
       "      <td>When did the Kuomintang defeat and take over t...</td>\n",
       "      <td>1928</td>\n",
       "      <td>{'answers': ['1928'], 'docs': [{'body': 'He qu...</td>\n",
       "      <td>[{'content': 'Answer the question based on the...</td>\n",
       "    </tr>\n",
       "    <tr>\n",
       "      <th>99</th>\n",
       "      <td>What's the age required to drink with a parent...</td>\n",
       "      <td>18 - 20</td>\n",
       "      <td>{'answers': ['18 - 20'], 'docs': [{'body': 'Do...</td>\n",
       "      <td>[{'content': 'Answer the question based on the...</td>\n",
       "    </tr>\n",
       "  </tbody>\n",
       "</table>\n",
       "<p>100 rows × 4 columns</p>\n",
       "</div>"
      ],
      "text/plain": [
       "                                             question           answer  \\\n",
       "0   What's the population of the city where Anthon...          190,884   \n",
       "1   When did the team that the Red Sox played agai...             2011   \n",
       "2   Who is the father of the artist who created Ti...    Alfred Lennon   \n",
       "3   In Doctor Who, who plays the creator of Trees ...      Tony Curran   \n",
       "4   Little Annie Rooney's screenwriter has who for...    Jack Pickford   \n",
       "..                                                ...              ...   \n",
       "95  What is the size of the continent Marian Cove ...        5,400,000   \n",
       "96  When was the state of emergency declared in th...  20 October 1952   \n",
       "97  Who is the spouse of the performer of Mistleto...     Barbara Marx   \n",
       "98  When did the Kuomintang defeat and take over t...             1928   \n",
       "99  What's the age required to drink with a parent...          18 - 20   \n",
       "\n",
       "                                                 info  \\\n",
       "0   {'answers': ['190,884'], 'docs': [{'body': 'Ol...   \n",
       "1   {'answers': ['2011'], 'docs': [{'body': 'Exact...   \n",
       "2   {'answers': ['Alfred Lennon', 'alfred lennon']...   \n",
       "3   {'answers': ['Tony Curran', 'tony curran'], 'd...   \n",
       "4   {'answers': ['Jack Pickford', 'jack pickford']...   \n",
       "..                                                ...   \n",
       "95  {'answers': ['5,400,000'], 'docs': [{'body': '...   \n",
       "96  {'answers': ['20 october 1952', '20 October 19...   \n",
       "97  {'answers': ['Barbara Marx', 'barbara marx'], ...   \n",
       "98  {'answers': ['1928'], 'docs': [{'body': 'He qu...   \n",
       "99  {'answers': ['18 - 20'], 'docs': [{'body': 'Do...   \n",
       "\n",
       "                                               prompt  \n",
       "0   [{'content': 'Answer the question based on the...  \n",
       "1   [{'content': 'Answer the question based on the...  \n",
       "2   [{'content': 'Answer the question based on the...  \n",
       "3   [{'content': 'Answer the question based on the...  \n",
       "4   [{'content': 'Answer the question based on the...  \n",
       "..                                                ...  \n",
       "95  [{'content': 'Answer the question based on the...  \n",
       "96  [{'content': 'Answer the question based on the...  \n",
       "97  [{'content': 'Answer the question based on the...  \n",
       "98  [{'content': 'Answer the question based on the...  \n",
       "99  [{'content': 'Answer the question based on the...  \n",
       "\n",
       "[100 rows x 4 columns]"
      ]
     },
     "execution_count": 5,
     "metadata": {},
     "output_type": "execute_result"
    }
   ],
   "source": [
    "df = vf_env.dataset.to_pandas()\n",
    "df"
   ]
  },
  {
   "cell_type": "code",
   "execution_count": 6,
   "id": "e7747f8a",
   "metadata": {},
   "outputs": [
    {
     "data": {
      "text/plain": [
       "0     2\n",
       "1     2\n",
       "2     2\n",
       "3     2\n",
       "4     2\n",
       "     ..\n",
       "95    2\n",
       "96    2\n",
       "97    2\n",
       "98    2\n",
       "99    2\n",
       "Name: n_hops, Length: 100, dtype: int64"
      ]
     },
     "execution_count": 6,
     "metadata": {},
     "output_type": "execute_result"
    }
   ],
   "source": [
    "df['n_hops'] = df['info'].map(lambda x: x['n_hops'])\n",
    "df['n_hops']"
   ]
  },
  {
   "cell_type": "code",
   "execution_count": 7,
   "id": "2c5a38b5",
   "metadata": {},
   "outputs": [
    {
     "data": {
      "text/plain": [
       "[{'type': 'function',\n",
       "  'function': {'name': 'retrieve_documents',\n",
       "   'description': 'Retrieve relevant documents by the query. The results get better with more specific queries.',\n",
       "   'parameters': {'type': 'object',\n",
       "    'properties': {'query': {'type': 'string',\n",
       "      'description': 'Parameter `query` of type string.'}},\n",
       "    'required': ['query']}}}]"
      ]
     },
     "execution_count": 7,
     "metadata": {},
     "output_type": "execute_result"
    }
   ],
   "source": [
    "vf_env.oai_tools"
   ]
  },
  {
   "cell_type": "code",
   "execution_count": 8,
   "id": "3f4ad647",
   "metadata": {},
   "outputs": [],
   "source": [
    "# Environments provide rollout interfaces for RL\n",
    "example = vf_env.dataset[0]\n",
    "\n",
    "prompt = example[\"prompt\"]\n",
    "answer = example[\"answer\"]\n",
    "info = example[\"info\"]\n",
    "info['oai_tools'] = vf_env.oai_tools\n",
    "\n",
    "\n",
    "sampling_args = dict(temperature=1.0)\n",
    "\n",
    "completion, state = await vf_env.rollout(\n",
    "    openai_client,\n",
    "    model=model,\n",
    "    prompt=prompt,\n",
    "    answer=answer,\n",
    "    info=info,\n",
    "    sampling_args=sampling_args,\n",
    ")"
   ]
  },
  {
   "cell_type": "code",
   "execution_count": 9,
   "id": "c9a77fdf",
   "metadata": {},
   "outputs": [
    {
     "name": "stdout",
     "output_type": "stream",
     "text": [
      "<class 'list'>\n",
      "<class 'dict'>\n"
     ]
    },
    {
     "data": {
      "text/plain": [
       "{'role': 'assistant',\n",
       " 'content': '',\n",
       " 'tool_calls': [ChatCompletionMessageFunctionToolCall(id='chatcmpl-tool-b074d662c4f24b3d9df6c618bedb6350', function=Function(arguments='{\"query\": \"Anthony Howe birthplace population\"}', name='retrieve_documents'), type='function')]}"
      ]
     },
     "execution_count": 9,
     "metadata": {},
     "output_type": "execute_result"
    }
   ],
   "source": [
    "print(type(completion))\n",
    "print(type(completion[0]))\n",
    "completion[0]"
   ]
  },
  {
   "cell_type": "code",
   "execution_count": 10,
   "id": "bf8e5511",
   "metadata": {},
   "outputs": [
    {
     "data": {
      "text/plain": [
       "{'prompt': [{'content': \"Answer the question based on the information provided by tools.\\n\\nFor each step:\\n1. Think through your reasoning inside <think> tags\\n2. Use tools to retrieve relevant documents\\n3. Continue until you find the answer through multi-hop reasoning. The question is answerable from the docs. \\n4. In the **last** step:\\n    - Reflect on your previous steps inside <think> tags\\n    - Cite the documents you base your answer on inside <cite> tags by their IDs, e.g. `<cite>1, 2, 3</cite>`\\n    - Give your final answer inside <answer> tags\\nAn example for your final message:\\n```\\n<think>\\n[your thinking and explanation here]\\n</think> \\n<cite>\\n[IDs of the documents that back your answer]\\n</cite>\\n<answer>\\n[your final answer in **a few words**. no explanation here.]\\n</answer>\\n```\\n\\n- Do not make up tools or arguments that aren't listed.\\n- Make one tool call per step.\\n- Questions require multi-hop reasoning across multiple documents.\\n- Continue searching until you find all necessary information to answer the question.\",\n",
       "   'role': 'system'},\n",
       "  {'content': 'What\\'s the population of the city where Anthony Howe was born?\\n\\n# Available documents\\nID=\"0\" Title=\"Oleg Bogayev\"\\nID=\"1\" Title=\"Bern\"\\nID=\"2\" Title=\"Countries of the United Kingdom by population\"\\nID=\"3\" Title=\"Merle Anthony\"\\nID=\"4\" Title=\"Anthony Joshua vs. Wladimir Klitschko\"\\nID=\"5\" Title=\"Michael Graziano\"\\nID=\"6\" Title=\"Atlantic, North Carolina\"\\nID=\"7\" Title=\"London\"\\nID=\"8\" Title=\"Sint Anthonis\"\\nID=\"9\" Title=\"Days Gone Bye (The Walking Dead)\"\\nID=\"10\" Title=\"Demographics of the European Union\"\\nID=\"11\" Title=\"Magistrates of Brussels\"\\nID=\"12\" Title=\"Birth control movement in the United States\"\\nID=\"13\" Title=\"Anthony Bourdain: Parts Unknown\"\\nID=\"14\" Title=\"Salt Lake City\"\\nID=\"15\" Title=\"Anthony Howe (sculptor)\"\\nID=\"16\" Title=\"Education\"\\nID=\"17\" Title=\"Anthony and Caroline Isermann House\"\\nID=\"18\" Title=\"Conference of the Birds (Dave Holland album)\"\\nID=\"19\" Title=\"How Awful About Allan\"\\n',\n",
       "   'role': 'user'}],\n",
       " 'completion': [],\n",
       " 'answer': '190,884',\n",
       " 'task': 'default',\n",
       " 'info': {'answers': ['190,884'],\n",
       "  'docs': [{'body': 'Oleg Bogayev was born in 1970 in the city of Sverdlovsk (now called Yekaterinburg) in Russia. He writes of growing up as the Cold War gave way to the emergence of Perestroika, a \"change from the decay of the empire to the birth of a new society.\" He cites the social turmoil of recent decades as useful for artistic product: \"[What] I know is that Russia is just the right place for a playwright - with shattering of fates, conflicts, crumbling of hopes, clashes of ideas - all that I\\'ve seen and experienced.\"',\n",
       "    'id': '0',\n",
       "    'is_supporting': False,\n",
       "    'text': '# Oleg Bogayev\\nOleg Bogayev was born in 1970 in the city of Sverdlovsk (now called Yekaterinburg) in Russia. He writes of growing up as the Cold War gave way to the emergence of Perestroika, a \"change from the decay of the empire to the birth of a new society.\" He cites the social turmoil of recent decades as useful for artistic product: \"[What] I know is that Russia is just the right place for a playwright - with shattering of fates, conflicts, crumbling of hopes, clashes of ideas - all that I\\'ve seen and experienced.\"',\n",
       "    'title': 'Oleg Bogayev'},\n",
       "   {'body': 'Bern has a population of 140,634 people and 34% of the population are resident foreign nationals. Over the 10 years between 2000 and 2010, the population changed at a rate of 0.6%. Migration accounted for 1.3%, while births and deaths accounted for −2.1%.',\n",
       "    'id': '1',\n",
       "    'is_supporting': False,\n",
       "    'text': '# Bern\\nBern has a population of 140,634 people and 34% of the population are resident foreign nationals. Over the 10 years between 2000 and 2010, the population changed at a rate of 0.6%. Migration accounted for 1.3%, while births and deaths accounted for −2.1%.',\n",
       "    'title': 'Bern'},\n",
       "   {'body': 'The population of the countries and regions of the United Kingdom was last measured by census in 2011. and the Census organisations have produced population estimates for subsequent years by updating the census results with estimates of births, deaths and migration in each year. The census results, and the annual population estimates, summarised below show that England is by far the most populous country of the United Kingdom and its population is therefore also presented by region.',\n",
       "    'id': '2',\n",
       "    'is_supporting': False,\n",
       "    'text': '# Countries of the United Kingdom by population\\nThe population of the countries and regions of the United Kingdom was last measured by census in 2011. and the Census organisations have produced population estimates for subsequent years by updating the census results with estimates of births, deaths and migration in each year. The census results, and the annual population estimates, summarised below show that England is by far the most populous country of the United Kingdom and its population is therefore also presented by region.',\n",
       "    'title': 'Countries of the United Kingdom by population'},\n",
       "   {'body': 'George Merlyn Anthony (April 26, 1926 – February 2, 1993) was a professional baseball umpire who worked in the American League from 1969 to 1975. Anthony umpired the 1974 Major League Baseball All-Star Game and the 1973 American League Championship Series. In his career, he umpired 965 Major League games. Before his umpiring career, he was a Minor League Baseball player in 1946 and 1948. During the 1950s Merle played second base for his hometown Marysville Giants and the Yuba-Sutter Rebels where he gave younger players tips on how to improve their skills. His nickname was \"Rabbit.\"',\n",
       "    'id': '3',\n",
       "    'is_supporting': False,\n",
       "    'text': '# Merle Anthony\\nGeorge Merlyn Anthony (April 26, 1926 – February 2, 1993) was a professional baseball umpire who worked in the American League from 1969 to 1975. Anthony umpired the 1974 Major League Baseball All-Star Game and the 1973 American League Championship Series. In his career, he umpired 965 Major League games. Before his umpiring career, he was a Minor League Baseball player in 1946 and 1948. During the 1950s Merle played second base for his hometown Marysville Giants and the Yuba-Sutter Rebels where he gave younger players tips on how to improve their skills. His nickname was \"Rabbit.\"',\n",
       "    'title': 'Merle Anthony'},\n",
       "   {'body': \"Anthony Joshua vs. Wladimir Klitschko was a professional boxing match contested between Anthony Joshua and Wladimir Klitschko. The event took place on 29 April 2017 at Wembley Stadium in London, England, with Joshua's IBF and the vacant WBA (Super) and IBO heavyweight titles on the line. Joshua won the match via technical knockout in the 11th round. Klitschko announced his retirement from boxing a few months after the fight.\",\n",
       "    'id': '4',\n",
       "    'is_supporting': False,\n",
       "    'text': \"# Anthony Joshua vs. Wladimir Klitschko\\nAnthony Joshua vs. Wladimir Klitschko was a professional boxing match contested between Anthony Joshua and Wladimir Klitschko. The event took place on 29 April 2017 at Wembley Stadium in London, England, with Joshua's IBF and the vacant WBA (Super) and IBO heavyweight titles on the line. Joshua won the match via technical knockout in the 11th round. Klitschko announced his retirement from boxing a few months after the fight.\",\n",
       "    'title': 'Anthony Joshua vs. Wladimir Klitschko'},\n",
       "   {'body': 'Michael Steven Anthony Graziano (born 1967) is an American scientist and novelist who is currently a professor of Psychology and Neuroscience at Princeton University. His scientific research focuses on the brain basis of awareness. He has proposed the \"attention schema\" theory, an explanation of how, and for what adaptive advantage, brains attribute the property of awareness to themselves. His previous work focused on how the cerebral cortex monitors the space around the body and controls movement within that space. Notably he has suggested that the classical map of the body in motor cortex, the homunculus, is not correct and is better described as a map of complex actions that make up the behavioral repertoire. His publications on this topic have had a widespread impact among neuroscientists but have also generated controversy. His novels rely partly on his background in psychology and are known for surrealism or magic realism. Graziano also composes music including symphonies and string quartets. He is an avid practitioner of ventriloquism and uses a puppet orangutan \"Kevin\" as sidekick.',\n",
       "    'id': '5',\n",
       "    'is_supporting': False,\n",
       "    'text': '# Michael Graziano\\nMichael Steven Anthony Graziano (born 1967) is an American scientist and novelist who is currently a professor of Psychology and Neuroscience at Princeton University. His scientific research focuses on the brain basis of awareness. He has proposed the \"attention schema\" theory, an explanation of how, and for what adaptive advantage, brains attribute the property of awareness to themselves. His previous work focused on how the cerebral cortex monitors the space around the body and controls movement within that space. Notably he has suggested that the classical map of the body in motor cortex, the homunculus, is not correct and is better described as a map of complex actions that make up the behavioral repertoire. His publications on this topic have had a widespread impact among neuroscientists but have also generated controversy. His novels rely partly on his background in psychology and are known for surrealism or magic realism. Graziano also composes music including symphonies and string quartets. He is an avid practitioner of ventriloquism and uses a puppet orangutan \"Kevin\" as sidekick.',\n",
       "    'title': 'Michael Graziano'},\n",
       "   {'body': \"Atlantic is an unincorporated community and census-designated place in eastern Carteret County, North Carolina, United States. As of the 2010 census it had a population of 543. It is situated along Core Sound, located in what was known to early settlers of the area as Hunting Quarters. It is the location of US 70's eastern terminus and the ferry terminal for journeys to North Core Banks in the Cape Lookout National Seashore.\",\n",
       "    'id': '6',\n",
       "    'is_supporting': False,\n",
       "    'text': \"# Atlantic, North Carolina\\nAtlantic is an unincorporated community and census-designated place in eastern Carteret County, North Carolina, United States. As of the 2010 census it had a population of 543. It is situated along Core Sound, located in what was known to early settlers of the area as Hunting Quarters. It is the location of US 70's eastern terminus and the ferry terminal for journeys to North Core Banks in the Cape Lookout National Seashore.\",\n",
       "    'title': 'Atlantic, North Carolina'},\n",
       "   {'body': \"The 2011 census recorded that 2,998,264 people or 36.7% of London's population are foreign-born making London the city with the second largest immigrant population, behind New York City, in terms of absolute numbers. The table to the right shows the most common countries of birth of London residents. Note that some of the German-born population, in 18th position, are British citizens from birth born to parents serving in the British Armed Forces in Germany. With increasing industrialisation, London's population grew rapidly throughout the 19th and early 20th centuries, and it was for some time in the late 19th and early 20th centuries the most populous city in the world. Its population peaked at 8,615,245 in 1939 immediately before the outbreak of the Second World War, but had declined to 7,192,091 at the 2001 Census. However, the population then grew by just over a million between the 2001 and 2011 Censuses, to reach 8,173,941 in the latter enumeration.\",\n",
       "    'id': '7',\n",
       "    'is_supporting': False,\n",
       "    'text': \"# London\\nThe 2011 census recorded that 2,998,264 people or 36.7% of London's population are foreign-born making London the city with the second largest immigrant population, behind New York City, in terms of absolute numbers. The table to the right shows the most common countries of birth of London residents. Note that some of the German-born population, in 18th position, are British citizens from birth born to parents serving in the British Armed Forces in Germany. With increasing industrialisation, London's population grew rapidly throughout the 19th and early 20th centuries, and it was for some time in the late 19th and early 20th centuries the most populous city in the world. Its population peaked at 8,615,245 in 1939 immediately before the outbreak of the Second World War, but had declined to 7,192,091 at the 2001 Census. However, the population then grew by just over a million between the 2001 and 2011 Censuses, to reach 8,173,941 in the latter enumeration.\",\n",
       "    'title': 'London'},\n",
       "   {'body': 'Sint Anthonis () is a municipality and a town in the southern Netherlands in the Province of North Brabant. The locals refer to the town as \"Sint Tunnis\". An inhabitant is called a \"Sintunnisenaar\". The municipality had a population of in .',\n",
       "    'id': '8',\n",
       "    'is_supporting': False,\n",
       "    'text': '# Sint Anthonis\\nSint Anthonis () is a municipality and a town in the southern Netherlands in the Province of North Brabant. The locals refer to the town as \"Sint Tunnis\". An inhabitant is called a \"Sintunnisenaar\". The municipality had a population of in .',\n",
       "    'title': 'Sint Anthonis'},\n",
       "   {'body': \"The producers chose to film in Atlanta because of its proximity to Cynthiana, Kentucky, Kirkman's hometown and the setting of his comic's first issue. ``At the beginning they talk about how some of the people in neighboring states would have gone to larger cities so they could fortify them and protect the population. ''Kirkman had considered other cities, particularly New York City, Miami, and Chicago. Hurd had previously filmed in the city for Lifetime. Darabont felt that Atlanta offered the essentials;`` Atlanta and Georgia all - told is proving to be brilliant for us in terms of what it has to offer, in terms of what the story needed, in terms of the variety of locations -- it really is a fantastic place to shoot.'' Prior to filming, Kirkman toured with Darabont around the central business district. He stated, ``I tagged along on a location - scouting expedition, and that was pretty fun -- watching Frank Darabont walking through the streets of Atlanta as if he owned the entire city, daring cars to hit him. That was a lot of fun. ''Darabont ventured onto the middle of a street to grasp a perfect shot, oblivious to oncoming traffic.\",\n",
       "    'id': '9',\n",
       "    'is_supporting': False,\n",
       "    'text': \"# Days Gone Bye (The Walking Dead)\\nThe producers chose to film in Atlanta because of its proximity to Cynthiana, Kentucky, Kirkman's hometown and the setting of his comic's first issue. ``At the beginning they talk about how some of the people in neighboring states would have gone to larger cities so they could fortify them and protect the population. ''Kirkman had considered other cities, particularly New York City, Miami, and Chicago. Hurd had previously filmed in the city for Lifetime. Darabont felt that Atlanta offered the essentials;`` Atlanta and Georgia all - told is proving to be brilliant for us in terms of what it has to offer, in terms of what the story needed, in terms of the variety of locations -- it really is a fantastic place to shoot.'' Prior to filming, Kirkman toured with Darabont around the central business district. He stated, ``I tagged along on a location - scouting expedition, and that was pretty fun -- watching Frank Darabont walking through the streets of Atlanta as if he owned the entire city, daring cars to hit him. That was a lot of fun. ''Darabont ventured onto the middle of a street to grasp a perfect shot, oblivious to oncoming traffic.\",\n",
       "    'title': 'Days Gone Bye (The Walking Dead)'},\n",
       "   {'body': 'The most populous member state is Germany, with an estimated 82.8 million people, and the least populous member state is Malta with 0.4 million. Birth rates in the EU are low with the average woman having 1.6 children. The highest birth - rates are found in Ireland with 16.876 births per thousand people per year and France with 13.013 births per thousand people per year. Germany has the lowest birth rate in Europe with 8.221 births per thousand people per year.',\n",
       "    'id': '10',\n",
       "    'is_supporting': False,\n",
       "    'text': '# Demographics of the European Union\\nThe most populous member state is Germany, with an estimated 82.8 million people, and the least populous member state is Malta with 0.4 million. Birth rates in the EU are low with the average woman having 1.6 children. The highest birth - rates are found in Ireland with 16.876 births per thousand people per year and France with 13.013 births per thousand people per year. Germany has the lowest birth rate in Europe with 8.221 births per thousand people per year.',\n",
       "    'title': 'Demographics of the European Union'},\n",
       "   {'body': 'Magistrates of Brussels was a 1634-5 oil painting by Anthony van Dyck. It was destroyed in the French bombardment of Brussels in 1695. Its composition is known from a grisaille sketch in the École nationale supérieure des Beaux-Arts in Paris, which Van Dyck prepared to show how he planned to lay out the work.',\n",
       "    'id': '11',\n",
       "    'is_supporting': False,\n",
       "    'text': '# Magistrates of Brussels\\nMagistrates of Brussels was a 1634-5 oil painting by Anthony van Dyck. It was destroyed in the French bombardment of Brussels in 1695. Its composition is known from a grisaille sketch in the École nationale supérieure des Beaux-Arts in Paris, which Van Dyck prepared to show how he planned to lay out the work.',\n",
       "    'title': 'Magistrates of Brussels'},\n",
       "   {'body': \"Birth control practices were generally adopted earlier in Europe than in the United States. Knowlton's book was reprinted in 1877 in England by Charles Bradlaugh and Annie Besant, with the goal of challenging Britain's obscenity laws. They were arrested (and later acquitted) but the publicity of their trial contributed to the formation, in 1877, of the Malthusian League -- the world's first birth control advocacy group -- which sought to limit population growth to avoid Thomas Malthus's dire predictions of exponential population growth leading to worldwide poverty and famine. By 1930, similar societies had been established in nearly all European countries, and birth control began to find acceptance in most Western European countries, except Catholic Ireland, Spain, and France. As the birth control societies spread across Europe, so did birth control clinics. The first birth control clinic in the world was established in the Netherlands in 1882, run by the Netherlands' first female physician, Aletta Jacobs. The first birth control clinic in England was established in 1921 by Marie Stopes, in London.\",\n",
       "    'id': '12',\n",
       "    'is_supporting': False,\n",
       "    'text': \"# Birth control movement in the United States\\nBirth control practices were generally adopted earlier in Europe than in the United States. Knowlton's book was reprinted in 1877 in England by Charles Bradlaugh and Annie Besant, with the goal of challenging Britain's obscenity laws. They were arrested (and later acquitted) but the publicity of their trial contributed to the formation, in 1877, of the Malthusian League -- the world's first birth control advocacy group -- which sought to limit population growth to avoid Thomas Malthus's dire predictions of exponential population growth leading to worldwide poverty and famine. By 1930, similar societies had been established in nearly all European countries, and birth control began to find acceptance in most Western European countries, except Catholic Ireland, Spain, and France. As the birth control societies spread across Europe, so did birth control clinics. The first birth control clinic in the world was established in the Netherlands in 1882, run by the Netherlands' first female physician, Aletta Jacobs. The first birth control clinic in England was established in 1921 by Marie Stopes, in London.\",\n",
       "    'title': 'Birth control movement in the United States'},\n",
       "   {'body': 'Anthony Bourdain: Parts Unknown is an American travel and food show on CNN which premiered on April 14, 2013. In the show, Anthony Bourdain travels the world uncovering lesser - known places and exploring their cultures and cuisine. The show has won five Emmy Awards, garnered 11 nominations for writing, sound mixing, editing and cinematography, as well as a 2013 Peabody Award. The series will conclude with a final season, to be broadcast in late 2018.',\n",
       "    'id': '13',\n",
       "    'is_supporting': False,\n",
       "    'text': '# Anthony Bourdain: Parts Unknown\\nAnthony Bourdain: Parts Unknown is an American travel and food show on CNN which premiered on April 14, 2013. In the show, Anthony Bourdain travels the world uncovering lesser - known places and exploring their cultures and cuisine. The show has won five Emmy Awards, garnered 11 nominations for writing, sound mixing, editing and cinematography, as well as a 2013 Peabody Award. The series will conclude with a final season, to be broadcast in late 2018.',\n",
       "    'title': 'Anthony Bourdain: Parts Unknown'},\n",
       "   {'body': 'Salt Lake City (often shortened to Salt Lake or SLC) is the capital and the most populous municipality of the U.S. state of Utah. With an estimated population of 190,884 in 2014, the city is the core of the Salt Lake City metropolitan area, which has a population of 1,153,340 (2014 estimate). Salt Lake City is further situated within a larger metropolis known as the Salt Lake City - Ogden - Provo Combined Statistical Area. This region is a corridor of contiguous urban and suburban development stretched along an approximately 120 - mile (190 km) segment of the Wasatch Front, comprising a population of 2,423,912 as of 2014. It is one of only two major urban areas in the Great Basin (the other is Reno, Nevada).',\n",
       "    'id': '14',\n",
       "    'is_supporting': True,\n",
       "    'text': '# Salt Lake City\\nSalt Lake City (often shortened to Salt Lake or SLC) is the capital and the most populous municipality of the U.S. state of Utah. With an estimated population of 190,884 in 2014, the city is the core of the Salt Lake City metropolitan area, which has a population of 1,153,340 (2014 estimate). Salt Lake City is further situated within a larger metropolis known as the Salt Lake City - Ogden - Provo Combined Statistical Area. This region is a corridor of contiguous urban and suburban development stretched along an approximately 120 - mile (190 km) segment of the Wasatch Front, comprising a population of 2,423,912 as of 2014. It is one of only two major urban areas in the Great Basin (the other is Reno, Nevada).',\n",
       "    'title': 'Salt Lake City'},\n",
       "   {'body': 'Anthony Howe (born 1954, Salt Lake City, Utah) is an American kinetic sculptor who creates wind-driven sculptures resembling pulsing, alien creatures and vortices. He makes use of computer-aided design, shaping the metal components with a plasma cutter, and completing his work by use of traditional metalworking techniques.',\n",
       "    'id': '15',\n",
       "    'is_supporting': True,\n",
       "    'text': '# Anthony Howe (sculptor)\\nAnthony Howe (born 1954, Salt Lake City, Utah) is an American kinetic sculptor who creates wind-driven sculptures resembling pulsing, alien creatures and vortices. He makes use of computer-aided design, shaping the metal components with a plasma cutter, and completing his work by use of traditional metalworking techniques.',\n",
       "    'title': 'Anthony Howe (sculptor)'},\n",
       "   {'body': \"Dunn and Dunn focused on identifying relevant stimuli that may influence learning and manipulating the school environment, at about the same time as Joseph Renzulli recommended varying teaching strategies. Howard Gardner identified a wide range of modalities in his Multiple Intelligences theories. The Myers-Briggs Type Indicator and Keirsey Temperament Sorter, based on the works of Jung, focus on understanding how people's personality affects the way they interact personally, and how this affects the way individuals respond to each other within the learning environment. The work of David Kolb and Anthony Gregorc's Type Delineator follows a similar but more simplified approach.\",\n",
       "    'id': '16',\n",
       "    'is_supporting': False,\n",
       "    'text': \"# Education\\nDunn and Dunn focused on identifying relevant stimuli that may influence learning and manipulating the school environment, at about the same time as Joseph Renzulli recommended varying teaching strategies. Howard Gardner identified a wide range of modalities in his Multiple Intelligences theories. The Myers-Briggs Type Indicator and Keirsey Temperament Sorter, based on the works of Jung, focus on understanding how people's personality affects the way they interact personally, and how this affects the way individuals respond to each other within the learning environment. The work of David Kolb and Anthony Gregorc's Type Delineator follows a similar but more simplified approach.\",\n",
       "    'title': 'Education'},\n",
       "   {'body': 'The Anthony and Caroline Isermann House is located in Kenosha, Wisconsin, United States. Designed in the Prairie School by a student of Frank Lloyd Wright, it was added to the National Register of Historic Places in 2004.',\n",
       "    'id': '17',\n",
       "    'is_supporting': False,\n",
       "    'text': '# Anthony and Caroline Isermann House\\nThe Anthony and Caroline Isermann House is located in Kenosha, Wisconsin, United States. Designed in the Prairie School by a student of Frank Lloyd Wright, it was added to the National Register of Historic Places in 2004.',\n",
       "    'title': 'Anthony and Caroline Isermann House'},\n",
       "   {'body': \"Conference of the Birds is a studio album by the Dave Holland Quartet, recorded in 1972 and released in 1973. It is jazz bassist Holland's second collaboration with composer and saxophonist Anthony Braxton, as well as his second album on ECM Records. The liner notes describe how birds would congregate each morning outside Holland's London apartment and join with one another in song.\",\n",
       "    'id': '18',\n",
       "    'is_supporting': False,\n",
       "    'text': \"# Conference of the Birds (Dave Holland album)\\nConference of the Birds is a studio album by the Dave Holland Quartet, recorded in 1972 and released in 1973. It is jazz bassist Holland's second collaboration with composer and saxophonist Anthony Braxton, as well as his second album on ECM Records. The liner notes describe how birds would congregate each morning outside Holland's London apartment and join with one another in song.\",\n",
       "    'title': 'Conference of the Birds (Dave Holland album)'},\n",
       "   {'body': 'How Awful About Allan is a 1970 American made-for-television psychological thriller film, directed by Curtis Harrington, the first of two collaborations with writer Henry Farrell (the other was \"What\\'s the Matter with Helen?\"), and starring Anthony Perkins and Julie Harris. It premiered as the ABC Movie of the Week on September 22, 1970 and was produced by prolific television producer Aaron Spelling.',\n",
       "    'id': '19',\n",
       "    'is_supporting': False,\n",
       "    'text': '# How Awful About Allan\\nHow Awful About Allan is a 1970 American made-for-television psychological thriller film, directed by Curtis Harrington, the first of two collaborations with writer Henry Farrell (the other was \"What\\'s the Matter with Helen?\"), and starring Anthony Perkins and Julie Harris. It premiered as the ABC Movie of the Week on September 22, 1970 and was produced by prolific television producer Aaron Spelling.',\n",
       "    'title': 'How Awful About Allan'}],\n",
       "  'id': '2hop__530873_87112',\n",
       "  'n_hops': 2,\n",
       "  'oai_tools': [{'type': 'function',\n",
       "    'function': {'name': 'retrieve_documents',\n",
       "     'description': 'Retrieve relevant documents by the query. The results get better with more specific queries.',\n",
       "     'parameters': {'type': 'object',\n",
       "      'properties': {'query': {'type': 'string',\n",
       "        'description': 'Parameter `query` of type string.'}},\n",
       "      'required': ['query']}}}]},\n",
       " 'responses': [ChatCompletion(id='chatcmpl-1f66d9cd89ab4ad9bb4018360969b8ed', choices=[Choice(finish_reason='tool_calls', index=0, logprobs=None, message=ChatCompletionMessage(content=None, refusal=None, role='assistant', annotations=None, audio=None, function_call=None, tool_calls=[ChatCompletionMessageFunctionToolCall(id='chatcmpl-tool-b074d662c4f24b3d9df6c618bedb6350', function=Function(arguments='{\"query\": \"Anthony Howe birthplace population\"}', name='retrieve_documents'), type='function')], reasoning_content=None), stop_reason=None)], created=1756559435, model='Qwen/Qwen2.5-7B-Instruct', object='chat.completion', service_tier=None, system_fingerprint=None, usage=CompletionUsage(completion_tokens=24, prompt_tokens=672, total_tokens=696, completion_tokens_details=None, prompt_tokens_details=None), prompt_logprobs=None, kv_transfer_params=None),\n",
       "  ChatCompletion(id='chatcmpl-ac7b7847394444c78c15273f3fcaaae8', choices=[Choice(finish_reason='stop', index=0, logprobs=None, message=ChatCompletionMessage(content='<think>\\nFrom document 15, we know that Anthony Howe was born in Salt Lake City, Utah. Document 14 provides details about the population of Salt Lake City. So, the population of the city where Anthony Howe was born is the population of Salt Lake City.\\n</think>\\n<cite>\\n15, 14\\n</cite>\\n<answer>\\n190,884\\n</answer>', refusal=None, role='assistant', annotations=None, audio=None, function_call=None, tool_calls=[], reasoning_content=None), stop_reason=None)], created=1756559436, model='Qwen/Qwen2.5-7B-Instruct', object='chat.completion', service_tier=None, system_fingerprint=None, usage=CompletionUsage(completion_tokens=88, prompt_tokens=998, total_tokens=1086, completion_tokens_details=None, prompt_tokens_details=None), prompt_logprobs=None, kv_transfer_params=None)],\n",
       " 'turn': 2}"
      ]
     },
     "execution_count": 10,
     "metadata": {},
     "output_type": "execute_result"
    }
   ],
   "source": [
    "state"
   ]
  },
  {
   "cell_type": "code",
   "execution_count": 11,
   "id": "37b19abb",
   "metadata": {},
   "outputs": [
    {
     "name": "stdout",
     "output_type": "stream",
     "text": [
      "ChatCompletion(id='chatcmpl-1f66d9cd89ab4ad9bb4018360969b8ed', choices=[Choice(finish_reason='tool_calls', index=0, logprobs=None, message=ChatCompletionMessage(content=None, refusal=None, role='assistant', annotations=None, audio=None, function_call=None, tool_calls=[ChatCompletionMessageFunctionToolCall(id='chatcmpl-tool-b074d662c4f24b3d9df6c618bedb6350', function=Function(arguments='{\"query\": \"Anthony Howe birthplace population\"}', name='retrieve_documents'), type='function')], reasoning_content=None), stop_reason=None)], created=1756559435, model='Qwen/Qwen2.5-7B-Instruct', object='chat.completion', service_tier=None, system_fingerprint=None, usage=CompletionUsage(completion_tokens=24, prompt_tokens=672, total_tokens=696, completion_tokens_details=None, prompt_tokens_details=None), prompt_logprobs=None, kv_transfer_params=None)\n",
      "ChatCompletion(id='chatcmpl-ac7b7847394444c78c15273f3fcaaae8', choices=[Choice(finish_reason='stop', index=0, logprobs=None, message=ChatCompletionMessage(content='<think>\\nFrom document 15, we know that Anthony Howe was born in Salt Lake City, Utah. Document 14 provides details about the population of Salt Lake City. So, the population of the city where Anthony Howe was born is the population of Salt Lake City.\\n</think>\\n<cite>\\n15, 14\\n</cite>\\n<answer>\\n190,884\\n</answer>', refusal=None, role='assistant', annotations=None, audio=None, function_call=None, tool_calls=[], reasoning_content=None), stop_reason=None)], created=1756559436, model='Qwen/Qwen2.5-7B-Instruct', object='chat.completion', service_tier=None, system_fingerprint=None, usage=CompletionUsage(completion_tokens=88, prompt_tokens=998, total_tokens=1086, completion_tokens_details=None, prompt_tokens_details=None), prompt_logprobs=None, kv_transfer_params=None)\n"
     ]
    }
   ],
   "source": [
    "for response in state['responses']:\n",
    "    print(response)"
   ]
  },
  {
   "cell_type": "code",
   "execution_count": 12,
   "id": "1c8b6f15",
   "metadata": {},
   "outputs": [
    {
     "data": {
      "text/plain": [
       "[<function vf_musique.rewards.exact_match_reward(completion, answer, info, parser, **kwargs)>,\n",
       " <function vf_musique.rewards.f1_reward(completion, answer, info, parser, **kwargs)>,\n",
       " <function vf_musique.rewards.retrieval_recall_reward(completion, info, **kwargs)>,\n",
       " <function vf_musique.rewards.citation_reward(completion, info, parser, **kwargs)>,\n",
       " <function vf_musique.rewards.format_reward(completion, parser, **kwargs)>,\n",
       " <function vf_musique.rewards.combined_reward(*args, **kwargs)>]"
      ]
     },
     "execution_count": 12,
     "metadata": {},
     "output_type": "execute_result"
    }
   ],
   "source": [
    "vf_env.rubric.reward_funcs"
   ]
  },
  {
   "cell_type": "code",
   "execution_count": 13,
   "id": "37990171",
   "metadata": {},
   "outputs": [],
   "source": [
    "rewards = await vf_env.rubric.score_rollout(prompt=prompt, completion=completion, answer=answer, state=state, info=info)"
   ]
  },
  {
   "cell_type": "code",
   "execution_count": 14,
   "id": "4cae256c",
   "metadata": {},
   "outputs": [
    {
     "data": {
      "text/plain": [
       "RolloutScore(reward=0.7625, metrics={'exact_match_reward': 1.0, 'f1_reward': 1.0, 'retrieval_recall_reward': 1.0, 'citation_reward': 1.0, 'format_reward': 1.0, 'combined_reward': 0.7625})"
      ]
     },
     "execution_count": 14,
     "metadata": {},
     "output_type": "execute_result"
    }
   ],
   "source": [
    "rewards"
   ]
  },
  {
   "cell_type": "code",
   "execution_count": 15,
   "id": "d52bda49",
   "metadata": {},
   "outputs": [
    {
     "data": {
      "text/plain": [
       "[{'role': 'assistant',\n",
       "  'content': '',\n",
       "  'tool_calls': [ChatCompletionMessageFunctionToolCall(id='chatcmpl-tool-b074d662c4f24b3d9df6c618bedb6350', function=Function(arguments='{\"query\": \"Anthony Howe birthplace population\"}', name='retrieve_documents'), type='function')]},\n",
       " {'role': 'tool',\n",
       "  'content': 'Document ID: 15\\n# Anthony Howe (sculptor)\\nAnthony Howe (born 1954, Salt Lake City, Utah) is an American kinetic sculptor who creates wind-driven sculptures resembling pulsing, alien creatures and vortices. He makes use of computer-aided design, shaping the metal components with a plasma cutter, and completing his work by use of traditional metalworking techniques.\\n\\nDocument ID: 14\\n# Salt Lake City\\nSalt Lake City (often shortened to Salt Lake or SLC) is the capital and the most populous municipality of the U.S. state of Utah. With an estimated population of 190,884 in 2014, the city is the core of the Salt Lake City metropolitan area, which has a population of 1,153,340 (2014 estimate). Salt Lake City is further situated within a larger metropolis known as the Salt Lake City - Ogden - Provo Combined Statistical Area. This region is a corridor of contiguous urban and suburban development stretched along an approximately 120 - mile (190 km) segment of the Wasatch Front, comprising a population of 2,423,912 as of 2014. It is one of only two major urban areas in the Great Basin (the other is Reno, Nevada).',\n",
       "  'tool_call_id': 'chatcmpl-tool-b074d662c4f24b3d9df6c618bedb6350'},\n",
       " {'role': 'assistant',\n",
       "  'content': '<think>\\nFrom document 15, we know that Anthony Howe was born in Salt Lake City, Utah. Document 14 provides details about the population of Salt Lake City. So, the population of the city where Anthony Howe was born is the population of Salt Lake City.\\n</think>\\n<cite>\\n15, 14\\n</cite>\\n<answer>\\n190,884\\n</answer>'}]"
      ]
     },
     "execution_count": 15,
     "metadata": {},
     "output_type": "execute_result"
    }
   ],
   "source": [
    "completion"
   ]
  },
  {
   "cell_type": "code",
   "execution_count": null,
   "id": "8cfb6ab8",
   "metadata": {},
   "outputs": [],
   "source": []
  }
 ],
 "metadata": {
  "kernelspec": {
   "display_name": ".venv",
   "language": "python",
   "name": "python3"
  },
  "language_info": {
   "codemirror_mode": {
    "name": "ipython",
    "version": 3
   },
   "file_extension": ".py",
   "mimetype": "text/x-python",
   "name": "python",
   "nbconvert_exporter": "python",
   "pygments_lexer": "ipython3",
   "version": "3.12.9"
  }
 },
 "nbformat": 4,
 "nbformat_minor": 5
}
