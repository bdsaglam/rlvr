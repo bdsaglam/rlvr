{
 "cells": [
  {
   "cell_type": "code",
   "execution_count": 3,
   "id": "3483a25a",
   "metadata": {},
   "outputs": [
    {
     "data": {
      "text/plain": [
       "True"
      ]
     },
     "execution_count": 3,
     "metadata": {},
     "output_type": "execute_result"
    }
   ],
   "source": [
    "from dotenv import load_dotenv\n",
    "load_dotenv()"
   ]
  },
  {
   "cell_type": "code",
   "execution_count": 4,
   "id": "16bae087",
   "metadata": {},
   "outputs": [],
   "source": [
    "import os\n",
    "from pathlib import Path\n",
    "import datetime\n",
    "import random\n",
    "\n",
    "import dspy"
   ]
  },
  {
   "cell_type": "code",
   "execution_count": 7,
   "id": "bb2de384",
   "metadata": {},
   "outputs": [
    {
     "name": "stdout",
     "output_type": "stream",
     "text": [
      "✅ MLflow tracking enabled at http://localhost:5005\n"
     ]
    }
   ],
   "source": [
    "def setup_mlflow():\n",
    "    import mlflow\n",
    "    import mlflow.dspy\n",
    "\n",
    "    mlflow.set_tracking_uri(os.getenv(\"MLFLOW_TRACKING_URI\"))\n",
    "    experiment = mlflow.set_experiment(\"dspy-gepa-musique\")\n",
    "    mlflow.dspy.autolog(\n",
    "        log_compiles=True,\n",
    "        log_evals=True,\n",
    "        log_traces_from_compile=True,\n",
    "    )\n",
    "    print(f\"✅ MLflow tracking enabled at {os.getenv('MLFLOW_TRACKING_URI')}\")\n",
    "    return experiment\n",
    "\n",
    "mlflow_exp = setup_mlflow()"
   ]
  },
  {
   "cell_type": "code",
   "execution_count": 6,
   "id": "2c131983",
   "metadata": {},
   "outputs": [
    {
     "data": {
      "text/plain": [
       "PosixPath('../outputs/dspy-gepa-musique/20251003_131415')"
      ]
     },
     "execution_count": 6,
     "metadata": {},
     "output_type": "execute_result"
    }
   ],
   "source": [
    "EXP_ID = datetime.datetime.now().strftime(\"%Y%m%d_%H%M%S\")\n",
    "EXP_DIR = Path(f\"../outputs/dspy-gepa-musique/{EXP_ID}\")\n",
    "EXP_DIR.mkdir(parents=True, exist_ok=True)\n",
    "EXP_DIR"
   ]
  },
  {
   "cell_type": "code",
   "execution_count": 13,
   "id": "2015c533",
   "metadata": {},
   "outputs": [],
   "source": [
    "lm = dspy.LM(\n",
    "    \"openai/Qwen/Qwen2.5-7B-Instruct\",\n",
    "    temperature=0.6,\n",
    "    max_tokens=8192,\n",
    "    api_key=\"local\",\n",
    "    api_base=\"http://0.0.0.0:8000/v1\",\n",
    "    cache=False,\n",
    ")\n",
    "mlflow_exp._tags[\"student_lm\"] = {\n",
    "    \"model\": lm.model,\n",
    "}\n",
    "dspy.configure(lm=lm)\n",
    "\n",
    "reflection_lm = dspy.LM(\n",
    "    \"gemini/gemini-2.5-pro\",\n",
    "    api_key=os.getenv(\"GEMINI_API_KEY\"),\n",
    "    max_tokens=16384,\n",
    "    thinking={\"type\": \"enabled\"},\n",
    "    cache=False,\n",
    ")\n",
    "mlflow_exp._tags[\"reflection_lm\"] = {\n",
    "    \"model\": reflection_lm.model,\n",
    "}\n",
    "# reflection_lm = dspy.LM(\n",
    "#     \"openai/Qwen/Qwen3-32B\",\n",
    "#     temperature=0.6,\n",
    "#     max_tokens=16384,\n",
    "#     api_key=\"local\",\n",
    "#     api_base=\"http://0.0.0.0:8001/v1\",\n",
    "#     cache=False,\n",
    "# )"
   ]
  },
  {
   "cell_type": "code",
   "execution_count": 14,
   "id": "72c161bc-d491-4e23-8c5a-7723d9f8296e",
   "metadata": {},
   "outputs": [
    {
     "data": {
      "text/plain": [
       "['Hello! How can I assist you today?']"
      ]
     },
     "execution_count": 14,
     "metadata": {},
     "output_type": "execute_result"
    },
    {
     "data": {
      "text/html": [
       "\n",
       "<div>\n",
       "  <style scoped>\n",
       "  button {\n",
       "    border: none;\n",
       "    border-radius: 4px;\n",
       "    background-color: rgb(34, 114, 180);\n",
       "    font-family: -apple-system, \"system-ui\", \"Segoe UI\", Roboto, \"Helvetica Neue\", Arial;\n",
       "    font-size: 13px;\n",
       "    color: white;\n",
       "    margin-top: 8px;\n",
       "    margin-bottom: 8px;\n",
       "    padding: 8px 16px;\n",
       "    cursor: pointer;\n",
       "  }\n",
       "  button:hover {\n",
       "    background-color: rgb(66, 153, 224);\n",
       "  }\n",
       "  </style>\n",
       "  <button\n",
       "    onclick=\"\n",
       "        const display = this.nextElementSibling.style.display;\n",
       "        const isCollapsed = display === 'none';\n",
       "        this.nextElementSibling.style.display = isCollapsed ? null : 'none';\n",
       "\n",
       "        const verb = isCollapsed ? 'Collapse' : 'Expand';\n",
       "        this.innerText = `${verb} MLflow Trace`;\n",
       "    \"\n",
       "  >Collapse MLflow Trace</button>\n",
       "  <iframe\n",
       "    id=\"trace-renderer\"\n",
       "    style=\"width: 100%; height: 500px; border: none; resize: vertical;\"\n",
       "    src=\"http://localhost:5005/static-files/lib/notebook-trace-renderer/index.html?trace_id=tr-f76c7fb6c6a73204095af0a66a628913&amp;experiment_id=1&amp;version=3.4.0\"\n",
       "  />\n",
       "</div>\n"
      ],
      "text/plain": [
       "Trace(trace_id=tr-f76c7fb6c6a73204095af0a66a628913)"
      ]
     },
     "metadata": {},
     "output_type": "display_data"
    }
   ],
   "source": [
    "lm(messages=[{\"role\": \"user\", \"content\": \"Hello\"}])"
   ]
  },
  {
   "cell_type": "code",
   "execution_count": 15,
   "id": "b197cd14-2b0a-494c-948f-51317b3ba963",
   "metadata": {},
   "outputs": [
    {
     "data": {
      "text/plain": [
       "['The largest prime number below 10 is **7**.\\n\\nThe prime numbers below 10 are 2, 3, 5, and 7.']"
      ]
     },
     "execution_count": 15,
     "metadata": {},
     "output_type": "execute_result"
    },
    {
     "data": {
      "text/html": [
       "\n",
       "<div>\n",
       "  <style scoped>\n",
       "  button {\n",
       "    border: none;\n",
       "    border-radius: 4px;\n",
       "    background-color: rgb(34, 114, 180);\n",
       "    font-family: -apple-system, \"system-ui\", \"Segoe UI\", Roboto, \"Helvetica Neue\", Arial;\n",
       "    font-size: 13px;\n",
       "    color: white;\n",
       "    margin-top: 8px;\n",
       "    margin-bottom: 8px;\n",
       "    padding: 8px 16px;\n",
       "    cursor: pointer;\n",
       "  }\n",
       "  button:hover {\n",
       "    background-color: rgb(66, 153, 224);\n",
       "  }\n",
       "  </style>\n",
       "  <button\n",
       "    onclick=\"\n",
       "        const display = this.nextElementSibling.style.display;\n",
       "        const isCollapsed = display === 'none';\n",
       "        this.nextElementSibling.style.display = isCollapsed ? null : 'none';\n",
       "\n",
       "        const verb = isCollapsed ? 'Collapse' : 'Expand';\n",
       "        this.innerText = `${verb} MLflow Trace`;\n",
       "    \"\n",
       "  >Collapse MLflow Trace</button>\n",
       "  <iframe\n",
       "    id=\"trace-renderer\"\n",
       "    style=\"width: 100%; height: 500px; border: none; resize: vertical;\"\n",
       "    src=\"http://localhost:5005/static-files/lib/notebook-trace-renderer/index.html?trace_id=tr-8525be5c434aaeaa8e19258d24eb2fca&amp;experiment_id=1&amp;version=3.4.0\"\n",
       "  />\n",
       "</div>\n"
      ],
      "text/plain": [
       "Trace(trace_id=tr-8525be5c434aaeaa8e19258d24eb2fca)"
      ]
     },
     "metadata": {},
     "output_type": "display_data"
    }
   ],
   "source": [
    "reflection_lm(messages=[{\"role\": \"user\", \"content\": \"What is largest prime number below 10?\"}])"
   ]
  },
  {
   "cell_type": "code",
   "execution_count": 16,
   "id": "8140bb46",
   "metadata": {},
   "outputs": [
    {
     "data": {
      "application/vnd.jupyter.widget-view+json": {
       "model_id": "73a5226b6c28416b85eacdb7c1632cb5",
       "version_major": 2,
       "version_minor": 0
      },
      "text/plain": [
       "Map: 100%|##########| 300/300 [00:00<?, ? examples/s]"
      ]
     },
     "metadata": {},
     "output_type": "display_data"
    },
    {
     "data": {
      "application/vnd.jupyter.widget-view+json": {
       "model_id": "619f3d53c4d540969601160e856c6568",
       "version_major": 2,
       "version_minor": 0
      },
      "text/plain": [
       "Map:   0%|          | 0/300 [00:00<?, ? examples/s]"
      ]
     },
     "metadata": {},
     "output_type": "display_data"
    },
    {
     "data": {
      "application/vnd.jupyter.widget-view+json": {
       "model_id": "4c7c599d9b934d3abf150cb438f6c6a3",
       "version_major": 2,
       "version_minor": 0
      },
      "text/plain": [
       "Map: 100%|##########| 50/50 [00:00<?, ? examples/s]"
      ]
     },
     "metadata": {},
     "output_type": "display_data"
    },
    {
     "data": {
      "application/vnd.jupyter.widget-view+json": {
       "model_id": "462690b5a5f34d65b6ba3b89aa039c47",
       "version_major": 2,
       "version_minor": 0
      },
      "text/plain": [
       "Map:   0%|          | 0/50 [00:00<?, ? examples/s]"
      ]
     },
     "metadata": {},
     "output_type": "display_data"
    }
   ],
   "source": [
    "from rlvr.dspy.mhqa.data import prepare_musique_dataset\n",
    "\n",
    "ds = prepare_musique_dataset(datasets_str=\"bdsaglam/musique-mini,answerable,train\")\n",
    "random.Random(89).shuffle(ds)\n",
    "train_size = int(len(ds)*0.80)\n",
    "train_ds, val_ds = ds[:train_size], ds[train_size:]\n",
    "train_ds = train_ds[:30]\n",
    "val_ds = val_ds[:30]\n",
    "\n",
    "test_ds = prepare_musique_dataset(datasets_str=\"bdsaglam/musique-mini,answerable,validation[:50]\")"
   ]
  },
  {
   "cell_type": "code",
   "execution_count": 27,
   "id": "2e75064e",
   "metadata": {},
   "outputs": [
    {
     "data": {
      "text/plain": [
       "generate_query.predict = Predict(StringSignature(question, collected_info -> reasoning, search_query, top_n\n",
       "    instructions='Given a multi-hop question and information collected so far, generate a search query\\nto find the next piece of information needed to answer the question.\\nFocus on entities, dates, or facts that need to be resolved step by step.'\n",
       "    question = Field(annotation=str required=True json_schema_extra={'desc': 'The multi-hop question to answer', '__dspy_field_type': 'input', 'prefix': 'Question:'})\n",
       "    collected_info = Field(annotation=str required=True json_schema_extra={'desc': 'Information collected from previous retrieval steps.', '__dspy_field_type': 'input', 'prefix': 'Collected Info:'})\n",
       "    reasoning = Field(annotation=str required=True json_schema_extra={'prefix': \"Reasoning: Let's think step by step in order to\", 'desc': '${reasoning}', '__dspy_field_type': 'output'})\n",
       "    search_query = Field(annotation=str required=True json_schema_extra={'desc': 'Search query for the next retrieval step', '__dspy_field_type': 'output', 'prefix': 'Search Query:'})\n",
       "    top_n = Field(annotation=int required=True json_schema_extra={'desc': 'Number of documents to retrieve. 1 <= top_n <= 3', '__dspy_field_type': 'output', 'prefix': 'Top N:'})\n",
       "))\n",
       "extract_info.predict = Predict(StringSignature(question, documents -> reasoning, key_informations\n",
       "    instructions='Given a question and retrieved documents, extract the key information\\nthat helps answer the question or leads to the next retrieval step.\\nFocus on entities, relationships, dates, and facts.'\n",
       "    question = Field(annotation=str required=True json_schema_extra={'desc': 'The multi-hop question to answer', '__dspy_field_type': 'input', 'prefix': 'Question:'})\n",
       "    documents = Field(annotation=str required=True json_schema_extra={'desc': 'Retrieved documents from search', '__dspy_field_type': 'input', 'prefix': 'Documents:'})\n",
       "    reasoning = Field(annotation=str required=True json_schema_extra={'prefix': \"Reasoning: Let's think step by step in order to\", 'desc': '${reasoning}', '__dspy_field_type': 'output'})\n",
       "    key_informations = Field(annotation=list[KeyInformation] required=True json_schema_extra={'desc': 'Key information(s) extracted from retrieved document(s)', '__dspy_field_type': 'output', 'prefix': 'Key Informations:'})\n",
       "))\n",
       "decide_info_collect.predict = Predict(StringSignature(question, all_information -> reasoning, has_collected_enough_info\n",
       "    instructions='Given the fields `question`, `all_information`, produce the fields `has_collected_enough_info`.'\n",
       "    question = Field(annotation=str required=True json_schema_extra={'desc': 'The multi-hop question to answer', '__dspy_field_type': 'input', 'prefix': 'Question:'})\n",
       "    all_information = Field(annotation=str required=True json_schema_extra={'desc': 'All information collected during retrieval', '__dspy_field_type': 'input', 'prefix': 'All Information:'})\n",
       "    reasoning = Field(annotation=str required=True json_schema_extra={'prefix': \"Reasoning: Let's think step by step in order to\", 'desc': '${reasoning}', '__dspy_field_type': 'output'})\n",
       "    has_collected_enough_info = Field(annotation=bool required=True json_schema_extra={'desc': 'Has enough information been collected to answer question?', '__dspy_field_type': 'output', 'prefix': 'Has Collected Enough Info:'})\n",
       "))\n",
       "generate_answer.predict = Predict(StringSignature(question, all_information -> reasoning, answer, citations\n",
       "    instructions='Given a multi-hop question and all collected information, provide a concise answer and citations.\\nThe answer should directly address what the question asks for.\\nBe specific and use the exact entities/dates/facts from the documents.\\nCite all documents that support the answer.'\n",
       "    question = Field(annotation=str required=True json_schema_extra={'desc': 'The multi-hop question to answer', '__dspy_field_type': 'input', 'prefix': 'Question:'})\n",
       "    all_information = Field(annotation=str required=True json_schema_extra={'desc': 'All information collected during retrieval', '__dspy_field_type': 'input', 'prefix': 'All Information:'})\n",
       "    reasoning = Field(annotation=str required=True json_schema_extra={'prefix': \"Reasoning: Let's think step by step in order to\", 'desc': '${reasoning}', '__dspy_field_type': 'output'})\n",
       "    answer = Field(annotation=str required=True json_schema_extra={'desc': 'Final answer to the question', '__dspy_field_type': 'output', 'prefix': 'Answer:'})\n",
       "    citations = Field(annotation=list[str] required=True json_schema_extra={'desc': 'List of document IDs to cite for the answer, e.g. `[4, 9]`', '__dspy_field_type': 'output', 'prefix': 'Citations:'})\n",
       "))"
      ]
     },
     "execution_count": 27,
     "metadata": {},
     "output_type": "execute_result"
    }
   ],
   "source": [
    "from rlvr.dspy.mhqa.baleen import MultiHopQA\n",
    "\n",
    "program = MultiHopQA(\n",
    "    # prompt_technique=\"cot\",\n",
    ")\n",
    "program"
   ]
  },
  {
   "cell_type": "code",
   "execution_count": 28,
   "id": "502bfc89",
   "metadata": {
    "scrolled": true
   },
   "outputs": [
    {
     "data": {
      "text/plain": [
       "Example({'question': \"What county contains the work location of the president making father's day a national holiday?\", 'answer': 'Washington County', 'answers': ['Washington County', 'washington county'], 'docs': [{'body': 'Thanksgiving, or Thanksgiving Day, is a public holiday celebrated on the fourth Thursday of November in the United States. It originated as a harvest festival. Thanksgiving has been celebrated nationally on and off since 1789, after Congress requested a proclamation by George Washington. It has been celebrated as a federal holiday every year since 1863, when, during the American Civil War, President Abraham Lincoln proclaimed a national day of \"Thanksgiving and Praise to our beneficent Father who dwelleth in the Heavens,\"to be celebrated on the last Thursday in November. Together with Christmas and the New Year, Thanksgiving is a part of the broader fall / winter holiday season in the U.S.', 'id': '0', 'is_supporting': False, 'text': '# Thanksgiving (United States)\\nThanksgiving, or Thanksgiving Day, is a public holiday celebrated on the fourth Thursday of November in the United States. It originated as a harvest festival. Thanksgiving has been celebrated nationally on and off since 1789, after Congress requested a proclamation by George Washington. It has been celebrated as a federal holiday every year since 1863, when, during the American Civil War, President Abraham Lincoln proclaimed a national day of \"Thanksgiving and Praise to our beneficent Father who dwelleth in the Heavens,\"to be celebrated on the last Thursday in November. Together with Christmas and the New Year, Thanksgiving is a part of the broader fall / winter holiday season in the U.S.', 'title': 'Thanksgiving (United States)'}, {'body': 'Many Italian - Americans observe Columbus Day as a celebration of their heritage, and the first such celebration was held in New York City on October 12, 1866. The day was first enshrined as a legal holiday in the United States through the lobbying of Angelo Noce, a first generation Italian, in Denver. The first statewide holiday was proclaimed by Colorado governor Jesse F. McDonald in 1905, and it was made a statutory holiday in 1907. In April 1934, as a result of lobbying by the Knights of Columbus and New York City Italian leader Generoso Pope, Congress and President Franklin Delano Roosevelt proclaimed October 12 a federal holiday under the name Columbus Day.', 'id': '1', 'is_supporting': False, 'text': '# Columbus Day\\nMany Italian - Americans observe Columbus Day as a celebration of their heritage, and the first such celebration was held in New York City on October 12, 1866. The day was first enshrined as a legal holiday in the United States through the lobbying of Angelo Noce, a first generation Italian, in Denver. The first statewide holiday was proclaimed by Colorado governor Jesse F. McDonald in 1905, and it was made a statutory holiday in 1907. In April 1934, as a result of lobbying by the Knights of Columbus and New York City Italian leader Generoso Pope, Congress and President Franklin Delano Roosevelt proclaimed October 12 a federal holiday under the name Columbus Day.', 'title': 'Columbus Day'}, {'body': \"In 1916, President Woodrow Wilson issued a proclamation that officially established June 14 as Flag Day; in August 1946, National Flag Day was established by an Act of Congress. Flag Day is not an official federal holiday. Title 36 of the United States Code, Subtitle I, Part A, CHAPTER 1, § 110 is the official statute on Flag Day; however, it is at the president's discretion to officially proclaim the observance. On June 14, 1937, Pennsylvania became the first U.S. state to celebrate Flag Day as a state holiday, beginning in the town of Rennerdale. New York Statutes designate the second Sunday in June as Flag Day, a state holiday.\", 'id': '2', 'is_supporting': False, 'text': \"# Flag Day (United States)\\nIn 1916, President Woodrow Wilson issued a proclamation that officially established June 14 as Flag Day; in August 1946, National Flag Day was established by an Act of Congress. Flag Day is not an official federal holiday. Title 36 of the United States Code, Subtitle I, Part A, CHAPTER 1, § 110 is the official statute on Flag Day; however, it is at the president's discretion to officially proclaim the observance. On June 14, 1937, Pennsylvania became the first U.S. state to celebrate Flag Day as a state holiday, beginning in the town of Rennerdale. New York Statutes designate the second Sunday in June as Flag Day, a state holiday.\", 'title': 'Flag Day (United States)'}, {'body': \"The John F. Kennedy Space Center (KSC, originally known as the NASA Launch Operations Center) is one of ten National Aeronautics and Space Administration field centers. Since December 1968, the KSC has been NASA's primary launch center of human spaceflight. Launch operations for the Apollo, Skylab and Space Shuttle programs were carried out from Kennedy Space Center Launch Complex 39 and managed by KSC. Located on the east coast of Florida, KSC is adjacent to Cape Canaveral Air Force Station (CCAFS). The management of the two entities work very closely together, share resources, and even own facilities on each other's property.\", 'id': '3', 'is_supporting': False, 'text': \"# Kennedy Space Center\\nThe John F. Kennedy Space Center (KSC, originally known as the NASA Launch Operations Center) is one of ten National Aeronautics and Space Administration field centers. Since December 1968, the KSC has been NASA's primary launch center of human spaceflight. Launch operations for the Apollo, Skylab and Space Shuttle programs were carried out from Kennedy Space Center Launch Complex 39 and managed by KSC. Located on the east coast of Florida, KSC is adjacent to Cape Canaveral Air Force Station (CCAFS). The management of the two entities work very closely together, share resources, and even own facilities on each other's property.\", 'title': 'Kennedy Space Center'}, {'body': 'In 1949, the Territory and the Territory of New Guinea were established in an administrative union by the name of the Territory of Papua and New Guinea. That administrative union was renamed as Papua New Guinea in 1971. Notwithstanding that it was part of an administrative union, the Territory of Papua at all times retained a distinct legal status and identity; it was a Possession of the Crown whereas the Territory of New Guinea was initially a League of Nations mandate territory and subsequently a United Nations trust territory. This important legal and political distinction remained until the advent of the Independent State of Papua New Guinea in 1975.', 'id': '4', 'is_supporting': False, 'text': '# Territory of Papua\\nIn 1949, the Territory and the Territory of New Guinea were established in an administrative union by the name of the Territory of Papua and New Guinea. That administrative union was renamed as Papua New Guinea in 1971. Notwithstanding that it was part of an administrative union, the Territory of Papua at all times retained a distinct legal status and identity; it was a Possession of the Crown whereas the Territory of New Guinea was initially a League of Nations mandate territory and subsequently a United Nations trust territory. This important legal and political distinction remained until the advent of the Independent State of Papua New Guinea in 1975.', 'title': 'Territory of Papua'}, {'body': 'Angelo J. Lano was an American field agent for the Federal Bureau of Investigation in Washington DC, notable for his work heading the investigation of, and appearing as a witness for, the Watergate scandal surrounding President Richard M. Nixon. Lano was one of a number of FBI agents who was falsely accused as a source of information for Carl Bernstein and the \"Washington Post\" during the investigation, which helped shift White House suspicions away from Mark Felt, who was revealed as informant Deep Throat on May 31, 2005.', 'id': '5', 'is_supporting': True, 'text': '# Angelo Lano\\nAngelo J. Lano was an American field agent for the Federal Bureau of Investigation in Washington DC, notable for his work heading the investigation of, and appearing as a witness for, the Watergate scandal surrounding President Richard M. Nixon. Lano was one of a number of FBI agents who was falsely accused as a source of information for Carl Bernstein and the \"Washington Post\" during the investigation, which helped shift White House suspicions away from Mark Felt, who was revealed as informant Deep Throat on May 31, 2005.', 'title': 'Angelo Lano'}, {'body': \"Ratu Sir Lala Sukuna Day (commonly known as Ratu Sukuna Day) was a national public holiday in Fiji until the year 2010, when the Prime Minister, Commodore Voreqe Bainimarama, declared both Ratu Sir Lala Sakuna Day and National Youth Day to no longer be public holidays. It was originally celebrated annually on the last Monday of May, in honour of Lala Sukuna (1888-1958), the national father of modern Fiji, whose death anniversary falls on 30 May. The week leading up to Ratu Sukuna Day is marked by public celebrations with speeches and events, with an address from the President of Fiji on the closing day. Members of the public enter Parliament grounds to polish Sukuna's statue.\", 'id': '6', 'is_supporting': False, 'text': \"# Ratu Sir Lala Sukuna Day\\nRatu Sir Lala Sukuna Day (commonly known as Ratu Sukuna Day) was a national public holiday in Fiji until the year 2010, when the Prime Minister, Commodore Voreqe Bainimarama, declared both Ratu Sir Lala Sakuna Day and National Youth Day to no longer be public holidays. It was originally celebrated annually on the last Monday of May, in honour of Lala Sukuna (1888-1958), the national father of modern Fiji, whose death anniversary falls on 30 May. The week leading up to Ratu Sukuna Day is marked by public celebrations with speeches and events, with an address from the President of Fiji on the closing day. Members of the public enter Parliament grounds to polish Sukuna's statue.\", 'title': 'Ratu Sir Lala Sukuna Day'}, {'body': 'Washington is a city in, and the county seat of, Washington County, Kansas, United States. As of the 2010 census, the city population was 1,131.', 'id': '7', 'is_supporting': True, 'text': '# Washington, Kansas\\nWashington is a city in, and the county seat of, Washington County, Kansas, United States. As of the 2010 census, the city population was 1,131.', 'title': 'Washington, Kansas'}, {'body': 'A bill to accord national recognition of the holiday was introduced in Congress in 1913. In 1916, President Woodrow Wilson went to Spokane to speak in a Father\\'s Day celebration and wanted to make it official, but Congress resisted, fearing that it would become commercialized. US President Calvin Coolidge recommended in 1924 that the day be observed by the nation, but stopped short of issuing a national proclamation. Two earlier attempts to formally recognize the holiday had been defeated by Congress. In 1957, Maine Senator Margaret Chase Smith wrote a proposal accusing Congress of ignoring fathers for 40 years while honoring mothers, thus \"(singling) out just one of our two parents\". In 1966, President Lyndon B. Johnson issued the first presidential proclamation honoring fathers, designating the third Sunday in June as Father\\'s Day. Six years later, the day was made a permanent national holiday when President Richard Nixon signed it into law in 1972.', 'id': '8', 'is_supporting': False, 'text': '# Father\\'s Day (United States)\\nA bill to accord national recognition of the holiday was introduced in Congress in 1913. In 1916, President Woodrow Wilson went to Spokane to speak in a Father\\'s Day celebration and wanted to make it official, but Congress resisted, fearing that it would become commercialized. US President Calvin Coolidge recommended in 1924 that the day be observed by the nation, but stopped short of issuing a national proclamation. Two earlier attempts to formally recognize the holiday had been defeated by Congress. In 1957, Maine Senator Margaret Chase Smith wrote a proposal accusing Congress of ignoring fathers for 40 years while honoring mothers, thus \"(singling) out just one of our two parents\". In 1966, President Lyndon B. Johnson issued the first presidential proclamation honoring fathers, designating the third Sunday in June as Father\\'s Day. Six years later, the day was made a permanent national holiday when President Richard Nixon signed it into law in 1972.', 'title': \"Father's Day (United States)\"}, {'body': \"26 March 1991 is the day that marks the clash between military soldiers and peaceful demonstrating students which climaxed in the massacre of dozens under the orders of then President Moussa Traoré. He and three associates were later tried and convicted and received the death sentence for their part in the decision-making of that day. Nowadays, the day is a national holiday in order to remember the tragic events and the people that were killed.[unreliable source?] The coup is remembered as Mali's March Revolution of 1991.\", 'id': '9', 'is_supporting': False, 'text': \"# Mali\\n26 March 1991 is the day that marks the clash between military soldiers and peaceful demonstrating students which climaxed in the massacre of dozens under the orders of then President Moussa Traoré. He and three associates were later tried and convicted and received the death sentence for their part in the decision-making of that day. Nowadays, the day is a national holiday in order to remember the tragic events and the people that were killed.[unreliable source?] The coup is remembered as Mali's March Revolution of 1991.\", 'title': 'Mali'}, {'body': 'The holiday lasts seven days in Israel and eight in the diaspora. The first day (and second day in the diaspora) is a Shabbat - like holiday when work is forbidden. This is followed by intermediate days called Chol Hamoed, when certain work is permitted. The festival is closed with another Shabbat - like holiday called Shemini Atzeret (one day in Israel, two days in the diaspora, where the second day is called Simchat Torah). Shemini Atzeret coincides with the eighth day of Sukkot outside Israel.', 'id': '10', 'is_supporting': False, 'text': '# Sukkot\\nThe holiday lasts seven days in Israel and eight in the diaspora. The first day (and second day in the diaspora) is a Shabbat - like holiday when work is forbidden. This is followed by intermediate days called Chol Hamoed, when certain work is permitted. The festival is closed with another Shabbat - like holiday called Shemini Atzeret (one day in Israel, two days in the diaspora, where the second day is called Simchat Torah). Shemini Atzeret coincides with the eighth day of Sukkot outside Israel.', 'title': 'Sukkot'}, {'body': \"Following the deaths of workers at the hands of United States Army and United States Marshals Service during the Pullman Strike of 1894 in Chicago, the United States Congress unanimously voted to approve legislation to make Labor Day a national holiday and President Grover Cleveland signed it into law six days after the end of the strike. Cleveland supported the creation of the national holiday in an attempt to shore up support among trade unions following the Pullman Strike. The date of May 1 (an ancient European holiday known as May Day) was an alternative date, celebrated then (and now) as International Workers' Day, but President Cleveland was concerned that observance of Labor Day on May 1 would encourage Haymarket - style protests and would strengthen socialist and anarchist movements that, though distinct from one another, had rallied to commemorate the Haymarket Affair on International Workers' Day.\", 'id': '11', 'is_supporting': False, 'text': \"# Labor Day\\nFollowing the deaths of workers at the hands of United States Army and United States Marshals Service during the Pullman Strike of 1894 in Chicago, the United States Congress unanimously voted to approve legislation to make Labor Day a national holiday and President Grover Cleveland signed it into law six days after the end of the strike. Cleveland supported the creation of the national holiday in an attempt to shore up support among trade unions following the Pullman Strike. The date of May 1 (an ancient European holiday known as May Day) was an alternative date, celebrated then (and now) as International Workers' Day, but President Cleveland was concerned that observance of Labor Day on May 1 would encourage Haymarket - style protests and would strengthen socialist and anarchist movements that, though distinct from one another, had rallied to commemorate the Haymarket Affair on International Workers' Day.\", 'title': 'Labor Day'}, {'body': 'Khabarovsky District () is an administrative and municipal district (raion), one of the seventeen in Khabarovsk Krai, Russia. It consists of two unconnected segments separated by the territory of Amursky District, which are located in the southwest of the krai. The area of the district is . Its administrative center is the city of Khabarovsk (which is not administratively a part of the district). Population:', 'id': '12', 'is_supporting': False, 'text': '# Khabarovsky District\\nKhabarovsky District () is an administrative and municipal district (raion), one of the seventeen in Khabarovsk Krai, Russia. It consists of two unconnected segments separated by the territory of Amursky District, which are located in the southwest of the krai. The area of the district is . Its administrative center is the city of Khabarovsk (which is not administratively a part of the district). Population:', 'title': 'Khabarovsky District'}, {'body': 'India made many requisitions to the Salazar regime of Portugal to grant their Indian colonies independence, but when that failed, on 18 December 1961, Indian troops crossed the border into Goa and \"liberated\"it. Operation Vijay involved sustained land, sea and air strikes for more than thirty - six hours; it resulted in the unconditional surrender of Portuguese forces on 19 December. A United Nations resolution \"condemning\" the invasion was proposed by the United States and the United Kingdom in the United Nations Security Council, but would be vetoed by the USSR. The territory of Goa was under military rule for five months. However, the previous civil service was soon restored. Goan voters went to the polls in a referendum and voted to become an autonomous, federally administered territory. Goa was later admitted Indian statehood in 1987. Goa celebrates \"Liberation Day\"on 19 December every year, which is also a state holiday.', 'id': '13', 'is_supporting': False, 'text': '# History of Goa\\nIndia made many requisitions to the Salazar regime of Portugal to grant their Indian colonies independence, but when that failed, on 18 December 1961, Indian troops crossed the border into Goa and \"liberated\"it. Operation Vijay involved sustained land, sea and air strikes for more than thirty - six hours; it resulted in the unconditional surrender of Portuguese forces on 19 December. A United Nations resolution \"condemning\" the invasion was proposed by the United States and the United Kingdom in the United Nations Security Council, but would be vetoed by the USSR. The territory of Goa was under military rule for five months. However, the previous civil service was soon restored. Goan voters went to the polls in a referendum and voted to become an autonomous, federally administered territory. Goa was later admitted Indian statehood in 1987. Goa celebrates \"Liberation Day\"on 19 December every year, which is also a state holiday.', 'title': 'History of Goa'}, {'body': 'A bill to accord national recognition of the holiday was introduced in Congress in 1913. In 1916, President Woodrow Wilson went to Spokane to speak at a Father\\'s Day celebration and he wanted to make it an officially recognized federal holiday, but Congress resisted, fearing that it would become commercialized. US President Calvin Coolidge recommended in 1924 that the day be observed throughout the entire nation, but he stopped short at issuing a national proclamation. Two earlier attempts to formally recognize the holiday had been defeated by Congress. In 1957, Maine Senator Margaret Chase Smith wrote a Father\\'s Day proposal accusing Congress of ignoring fathers for 40 years while honoring mothers, thus \"(singling) out just one of our two parents\". In 1966, President Lyndon B. Johnson issued the first presidential proclamation honoring fathers, designating the third Sunday in June as Father\\'s Day. Six years later, the day was made a permanent national holiday when President Richard Nixon signed it into law in 1972.', 'id': '14', 'is_supporting': True, 'text': '# Father\\'s Day\\nA bill to accord national recognition of the holiday was introduced in Congress in 1913. In 1916, President Woodrow Wilson went to Spokane to speak at a Father\\'s Day celebration and he wanted to make it an officially recognized federal holiday, but Congress resisted, fearing that it would become commercialized. US President Calvin Coolidge recommended in 1924 that the day be observed throughout the entire nation, but he stopped short at issuing a national proclamation. Two earlier attempts to formally recognize the holiday had been defeated by Congress. In 1957, Maine Senator Margaret Chase Smith wrote a Father\\'s Day proposal accusing Congress of ignoring fathers for 40 years while honoring mothers, thus \"(singling) out just one of our two parents\". In 1966, President Lyndon B. Johnson issued the first presidential proclamation honoring fathers, designating the third Sunday in June as Father\\'s Day. Six years later, the day was made a permanent national holiday when President Richard Nixon signed it into law in 1972.', 'title': \"Father's Day\"}, {'body': \"In the Philippines, Father's Day is officially celebrated every first Monday of December, but it is not a public holiday. It is more widely observed by the public on the 3rd Sunday of June perhaps due to American influence.\", 'id': '15', 'is_supporting': False, 'text': \"# Father's Day\\nIn the Philippines, Father's Day is officially celebrated every first Monday of December, but it is not a public holiday. It is more widely observed by the public on the 3rd Sunday of June perhaps due to American influence.\", 'title': \"Father's Day\"}, {'body': 'In 1779, July 4 fell on a Sunday. The holiday was celebrated on Monday, July 5. In 1781, the Massachusetts General Court became the first state legislature to recognize July 4 as a state celebration. In 1783, Moravians in Salem, North Carolina, held a celebration of July 4 with a challenging music program assembled by Johann Friedrich Peter. This work was titled The Psalm of Joy. This is recognized as the first recorded celebration and is still celebrated there today. In 1870, the U.S. Congress made Independence Day an unpaid holiday for federal employees. In 1938, Congress changed Independence Day to a paid federal holiday.', 'id': '16', 'is_supporting': False, 'text': '# Independence Day (United States)\\nIn 1779, July 4 fell on a Sunday. The holiday was celebrated on Monday, July 5. In 1781, the Massachusetts General Court became the first state legislature to recognize July 4 as a state celebration. In 1783, Moravians in Salem, North Carolina, held a celebration of July 4 with a challenging music program assembled by Johann Friedrich Peter. This work was titled The Psalm of Joy. This is recognized as the first recorded celebration and is still celebrated there today. In 1870, the U.S. Congress made Independence Day an unpaid holiday for federal employees. In 1938, Congress changed Independence Day to a paid federal holiday.', 'title': 'Independence Day (United States)'}, {'body': 'Vilnius County () is the largest of the 10 counties of Lithuania, located in the east of the country around the city Vilnius. On 1 July 2010, the county administration was abolished, and since that date, Vilnius County remains as the territorial and statistical unit.', 'id': '17', 'is_supporting': False, 'text': '# Vilnius County\\nVilnius County () is the largest of the 10 counties of Lithuania, located in the east of the country around the city Vilnius. On 1 July 2010, the county administration was abolished, and since that date, Vilnius County remains as the territorial and statistical unit.', 'title': 'Vilnius County'}, {'body': 'According to Greek law, every Sunday of the year is a public holiday. In addition, there are four mandatory official public holidays: 25 March (Greek Independence Day), Easter Monday, 15 August (Assumption or Dormition of the Holy Virgin), and 25 December (Christmas). 1 May (Labour Day) and 28 October (Ohi Day) are regulated by law as being optional but it is customary for employees to be given the day off. There are, however, more public holidays celebrated in Greece than are announced by the Ministry of Labour each year as either obligatory or optional. The list of these non-fixed national holidays rarely changes and has not changed in recent decades, giving a total of eleven national holidays each year.', 'id': '18', 'is_supporting': False, 'text': '# Greece\\nAccording to Greek law, every Sunday of the year is a public holiday. In addition, there are four mandatory official public holidays: 25 March (Greek Independence Day), Easter Monday, 15 August (Assumption or Dormition of the Holy Virgin), and 25 December (Christmas). 1 May (Labour Day) and 28 October (Ohi Day) are regulated by law as being optional but it is customary for employees to be given the day off. There are, however, more public holidays celebrated in Greece than are announced by the Ministry of Labour each year as either obligatory or optional. The list of these non-fixed national holidays rarely changes and has not changed in recent decades, giving a total of eleven national holidays each year.', 'title': 'Greece'}, {'body': \"Administrative Professionals' Day (also known as Secretaries' Day or Admin Day) is a day observed yearly (but not a public holiday). In some countries, it falls within Administrative Professionals' Week (the last full week of April in the United States). The day recognizes the work of secretaries, administrative assistants, receptionists, and other administrative support professionals. Typically administrative professionals are given cards, flowers, chocolates, and lunches.\", 'id': '19', 'is_supporting': False, 'text': \"# Administrative Professionals Day\\nAdministrative Professionals' Day (also known as Secretaries' Day or Admin Day) is a day observed yearly (but not a public holiday). In some countries, it falls within Administrative Professionals' Week (the last full week of April in the United States). The day recognizes the work of secretaries, administrative assistants, receptionists, and other administrative support professionals. Typically administrative professionals are given cards, flowers, chocolates, and lunches.\", 'title': 'Administrative Professionals Day'}], 'supporting_ids': ['5', '7', '14'], 'n_hops': 3}) (input_keys={'question', 'docs'})"
      ]
     },
     "execution_count": 28,
     "metadata": {},
     "output_type": "execute_result"
    }
   ],
   "source": [
    "example = train_ds[0]\n",
    "example"
   ]
  },
  {
   "cell_type": "code",
   "execution_count": null,
   "id": "fd58c5ed",
   "metadata": {},
   "outputs": [],
   "source": [
    "pred = program(example.question, example.docs)\n",
    "pred"
   ]
  },
  {
   "cell_type": "code",
   "execution_count": null,
   "id": "d9e58239",
   "metadata": {},
   "outputs": [],
   "source": [
    "from rlvr.dspy.mhqa.metrics import metric"
   ]
  },
  {
   "cell_type": "code",
   "execution_count": null,
   "id": "0115e6b3",
   "metadata": {},
   "outputs": [
    {
     "data": {
      "text/plain": [
       "0.35024453024453023"
      ]
     },
     "execution_count": 23,
     "metadata": {},
     "output_type": "execute_result"
    }
   ],
   "source": [
    "metric(example, pred)"
   ]
  },
  {
   "cell_type": "code",
   "execution_count": null,
   "id": "79664e96",
   "metadata": {},
   "outputs": [
    {
     "name": "stdout",
     "output_type": "stream",
     "text": [
      "📊 Evaluating ORIGINAL program...\n",
      "Average Metric: 26.66 / 50 (53.3%): 100%|██████████| 50/50 [01:20<00:00,  1.61s/it]"
     ]
    },
    {
     "name": "stderr",
     "output_type": "stream",
     "text": [
      "2025/10/03 13:20:40 INFO dspy.evaluate.evaluate: Average Metric: 26.656956275163214 / 50 (53.3%)\n"
     ]
    },
    {
     "name": "stdout",
     "output_type": "stream",
     "text": [
      "\n",
      "🏃 View run eval at: http://localhost:5005/#/experiments/1/runs/651a0fde52bb4e2f890d9ce665ae541a\n",
      "🧪 View experiment at: http://localhost:5005/#/experiments/1\n"
     ]
    },
    {
     "data": {
      "text/html": [
       "\n",
       "<div>\n",
       "  <style scoped>\n",
       "  button {\n",
       "    border: none;\n",
       "    border-radius: 4px;\n",
       "    background-color: rgb(34, 114, 180);\n",
       "    font-family: -apple-system, \"system-ui\", \"Segoe UI\", Roboto, \"Helvetica Neue\", Arial;\n",
       "    font-size: 13px;\n",
       "    color: white;\n",
       "    margin-top: 8px;\n",
       "    margin-bottom: 8px;\n",
       "    padding: 8px 16px;\n",
       "    cursor: pointer;\n",
       "  }\n",
       "  button:hover {\n",
       "    background-color: rgb(66, 153, 224);\n",
       "  }\n",
       "  </style>\n",
       "  <button\n",
       "    onclick=\"\n",
       "        const display = this.nextElementSibling.style.display;\n",
       "        const isCollapsed = display === 'none';\n",
       "        this.nextElementSibling.style.display = isCollapsed ? null : 'none';\n",
       "\n",
       "        const verb = isCollapsed ? 'Collapse' : 'Expand';\n",
       "        this.innerText = `${verb} MLflow Trace`;\n",
       "    \"\n",
       "  >Collapse MLflow Trace</button>\n",
       "  <iframe\n",
       "    id=\"trace-renderer\"\n",
       "    style=\"width: 100%; height: 500px; border: none; resize: vertical;\"\n",
       "    src=\"http://localhost:5005/static-files/lib/notebook-trace-renderer/index.html?trace_id=tr-5aa0b87340c4f2100e479c40535b7fe4&amp;experiment_id=1&amp;trace_id=tr-902bfb039169f87746b6e11552a8eeca&amp;experiment_id=1&amp;trace_id=tr-aa922c20fc7efcbf20e3c434c0076670&amp;experiment_id=1&amp;trace_id=tr-453b208734e7bf66a2bc9f7cf7ac6d3c&amp;experiment_id=1&amp;trace_id=tr-443756a3e233e95f534a583542487cf9&amp;experiment_id=1&amp;trace_id=tr-bf3ea74b18e561697fc57c307c544644&amp;experiment_id=1&amp;trace_id=tr-55794a5244a1d9b56efd96fbcfa413e9&amp;experiment_id=1&amp;trace_id=tr-6669278228baef86b3b5fd54fd41f14d&amp;experiment_id=1&amp;trace_id=tr-939c2b521c619f6caf46b489b30c9bec&amp;experiment_id=1&amp;trace_id=tr-73fd8c7572995dc676a01a12e8b188ab&amp;experiment_id=1&amp;version=3.4.0\"\n",
       "  />\n",
       "</div>\n"
      ],
      "text/plain": [
       "[Trace(trace_id=tr-5aa0b87340c4f2100e479c40535b7fe4), Trace(trace_id=tr-902bfb039169f87746b6e11552a8eeca), Trace(trace_id=tr-aa922c20fc7efcbf20e3c434c0076670), Trace(trace_id=tr-453b208734e7bf66a2bc9f7cf7ac6d3c), Trace(trace_id=tr-443756a3e233e95f534a583542487cf9), Trace(trace_id=tr-bf3ea74b18e561697fc57c307c544644), Trace(trace_id=tr-55794a5244a1d9b56efd96fbcfa413e9), Trace(trace_id=tr-6669278228baef86b3b5fd54fd41f14d), Trace(trace_id=tr-939c2b521c619f6caf46b489b30c9bec), Trace(trace_id=tr-73fd8c7572995dc676a01a12e8b188ab)]"
      ]
     },
     "metadata": {},
     "output_type": "display_data"
    }
   ],
   "source": [
    "# Evaluate original program\n",
    "print(\"📊 Evaluating ORIGINAL program...\")\n",
    "original_evaluate = dspy.Evaluate(\n",
    "    devset=test_ds,\n",
    "    metric=metric,\n",
    "    num_threads=16,\n",
    "    display_table=False,\n",
    "    display_progress=True\n",
    ")\n",
    "original_eval_result = original_evaluate(program)"
   ]
  },
  {
   "cell_type": "code",
   "execution_count": null,
   "id": "277877a6-cc64-440c-9be7-95c2000ac1b6",
   "metadata": {},
   "outputs": [],
   "source": [
    "# raise ValueError()"
   ]
  },
  {
   "cell_type": "markdown",
   "id": "36d7f427",
   "metadata": {},
   "source": [
    "## GEPA Optimization\n",
    "\n",
    "GEPA is a reflective prompt optimizer that uses textual feedback to improve performance. We'll create feedback functions for each evaluation aspect and optimize our multi-hop QA program.\n"
   ]
  },
  {
   "cell_type": "code",
   "execution_count": 20,
   "id": "8212c8d6",
   "metadata": {},
   "outputs": [],
   "source": [
    "from rlvr.dspy.mhqa.feedback_metrics import metric_with_feedback"
   ]
  },
  {
   "cell_type": "code",
   "execution_count": 21,
   "id": "4450236f",
   "metadata": {},
   "outputs": [
    {
     "name": "stdout",
     "output_type": "stream",
     "text": [
      "Score: 0.581\n",
      "Feedback: Overall performance breakdown:\n",
      "- Answer F1 Score: Low overlap (F1: 0.40) with expected answer. Your answer 'Los Angeles County.' differs significantly from 'Washington County'. Focus on extracting the specific information requested in the question.\n",
      "- Retrieval Recall: Poor retrieval (recall: 0.33). Only found 1 out of 3 supporting documents. Missing critical documents: ['5', '7']. Your search queries need to be more comprehensive and targeted.\n",
      "- Retrieval Precision: Perfect precision! All 1 retrieved documents are supporting documents: ['14']\n",
      "- Citations F1 Score: Good citations (F1: 0.50). Correct: ['14']. Missing: ['5', '7']. Be more precise about which documents actually support your answer.\n",
      "- Hop Efficiency: Perfect efficiency! You completed the task in 3 turns, same as or fewer than the reference (3 hops). This shows excellent retrieval strategy and reasoning efficiency.\n"
     ]
    }
   ],
   "source": [
    "# Test the feedback metric on our example\n",
    "feedback_result = metric_with_feedback(example, pred)\n",
    "print(f\"Score: {feedback_result.score:.3f}\")\n",
    "print(f\"Feedback: {feedback_result.feedback}\")\n"
   ]
  },
  {
   "cell_type": "code",
   "execution_count": 22,
   "id": "6f0150cd",
   "metadata": {},
   "outputs": [
    {
     "name": "stdout",
     "output_type": "stream",
     "text": [
      "✅ GEPA optimizer configured\n"
     ]
    }
   ],
   "source": [
    "from dspy import GEPA\n",
    "\n",
    "# Set up GEPA optimizer with reflection LM for optimization\n",
    "optimizer = GEPA(\n",
    "    metric=metric_with_feedback,\n",
    "    auto=\"light\",  # Use light budget for faster experimentation. Use \"heavy\" for best performance\n",
    "    num_threads=16,\n",
    "    track_stats=True,\n",
    "    use_merge=False,\n",
    "    reflection_lm=reflection_lm  \n",
    ")\n",
    "\n",
    "print(\"✅ GEPA optimizer configured\")"
   ]
  },
  {
   "cell_type": "code",
   "execution_count": null,
   "id": "dad84068",
   "metadata": {},
   "outputs": [
    {
     "name": "stderr",
     "output_type": "stream",
     "text": [
      "2025/10/03 11:49:17 INFO mlflow.utils.autologging_utils: Created MLflow autologging run with ID '861812e4d4a744c780b95fbf4d01e866', which will track hyperparameters, performance metrics, model artifacts, and lineage information for the current dspy workflow\n",
      "2025/10/03 11:49:18 INFO dspy.teleprompt.gepa.gepa: Running GEPA for approx 1765 metric calls of the program. This amounts to 29.42 full evals on the train+val set.\n",
      "2025/10/03 11:49:18 INFO dspy.teleprompt.gepa.gepa: Using 30 examples for tracking Pareto scores. You can consider using a smaller sample of the valset to allow GEPA to explore more diverse solutions within the same budget.\n"
     ]
    },
    {
     "name": "stdout",
     "output_type": "stream",
     "text": [
      "🚀 Starting GEPA optimization...\n"
     ]
    },
    {
     "name": "stderr",
     "output_type": "stream",
     "text": [
      "GEPA Optimization:   0%|                                                                       | 0/1765 [00:00<?, ?rollouts/s]"
     ]
    }
   ],
   "source": [
    "# Run GEPA optimization\n",
    "print(\"🚀 Starting GEPA optimization...\")\n",
    "\n",
    "optimized_program = optimizer.compile(\n",
    "    program,\n",
    "    trainset=train_ds,\n",
    "    valset=val_ds,\n",
    ")\n",
    "\n",
    "print(\"✅ GEPA optimization completed!\")"
   ]
  },
  {
   "cell_type": "code",
   "execution_count": null,
   "id": "3f130b47-19f7-496c-9c5c-618256ae63f2",
   "metadata": {},
   "outputs": [],
   "source": [
    "optimized_program.save(str(EXP_DIR / \"optimized-program\"), save_program=True)"
   ]
  },
  {
   "cell_type": "markdown",
   "id": "bb18cfef",
   "metadata": {},
   "source": [
    "### Examine Optimized Prompts\n",
    "\n",
    "Let's look at how GEPA improved the prompts for each predictor:\n"
   ]
  },
  {
   "cell_type": "code",
   "execution_count": null,
   "id": "4f024bad",
   "metadata": {},
   "outputs": [],
   "source": [
    "for name, pred in optimized_program.named_predictors():\n",
    "    print(\"=\" * 60)\n",
    "    print(f\"Predictor: {name}\")\n",
    "    print(\"=\" * 60)\n",
    "    print(\"Optimized Instructions:\")\n",
    "    print(pred.signature.instructions)\n",
    "    print(\"*\" * 60)\n"
   ]
  },
  {
   "cell_type": "markdown",
   "id": "d124ea24",
   "metadata": {},
   "source": [
    "### Evaluate Optimized Program\n",
    "\n",
    "Compare the performance before and after GEPA optimization:\n"
   ]
  },
  {
   "cell_type": "code",
   "execution_count": null,
   "id": "c89ccf19",
   "metadata": {},
   "outputs": [],
   "source": [
    "print(\"\\\\n📊 Evaluating OPTIMIZED program...\")\n",
    "# Evaluate optimized program  \n",
    "optimized_evaluate = dspy.Evaluate(\n",
    "    devset=test_ds,\n",
    "    metric=metric,\n",
    "    num_threads=8,\n",
    "    display_table=False,\n",
    "    display_progress=True\n",
    ")\n",
    "optimized_eval_result = optimized_evaluate(optimized_program)"
   ]
  },
  {
   "cell_type": "code",
   "execution_count": null,
   "id": "e229aecb-88f7-4c2c-b862-f05060d1be1d",
   "metadata": {},
   "outputs": [],
   "source": [
    "print(\"\\\\n\" + \"=\" * 50)\n",
    "print(\"🏆 PERFORMANCE COMPARISON\")\n",
    "print(\"=\" * 50)\n",
    "print(f\"Original Program Score:  {original_eval_result.score:.3f}\")\n",
    "print(f\"Optimized Program Score: {optimized_eval_result.score:.3f}\")\n",
    "print(f\"Improvement:            {optimized_eval_result.score - original_eval_result.score:+.3f}\")\n",
    "print(f\"Relative Improvement:   {((optimized_eval_result.score / original_eval_result.score) - 1) * 100:+.1f}%\")"
   ]
  },
  {
   "cell_type": "markdown",
   "id": "8cdf4598",
   "metadata": {},
   "source": [
    "### GEPA Optimization Analysis\n",
    "\n",
    "Analyze the detailed optimization results:\n"
   ]
  },
  {
   "cell_type": "code",
   "execution_count": null,
   "id": "cba80a13",
   "metadata": {},
   "outputs": [],
   "source": [
    "# Analyze GEPA optimization trajectory\n",
    "if hasattr(optimized_program, 'detailed_results'):\n",
    "    results = optimized_program.detailed_results\n",
    "    \n",
    "    print(\"🔍 GEPA Optimization Details:\")\n",
    "    print(f\"- Total candidates explored: {len(results.candidates)}\")\n",
    "    print(f\"- Best candidate index: {results.best_idx}\")\n",
    "    print(f\"- Best validation score: {results.val_aggregate_scores[results.best_idx]:.3f}\")\n",
    "    print(f\"- Discovery evaluations used: {sum(results.discovery_eval_counts)}\")\n",
    "    \n",
    "    # Show score progression\n",
    "    print(\"\\\\n📈 Score progression:\")\n",
    "    for i, score in enumerate(results.val_aggregate_scores[:10]):  # Show first 10\n",
    "        print(f\"Candidate {i}: {score:.3f}\")\n",
    "    \n",
    "    if len(results.val_aggregate_scores) > 10:\n",
    "        print(f\"... and {len(results.val_aggregate_scores) - 10} more candidates\")\n",
    "else:\n",
    "    print(\"Detailed results not available (set track_stats=True in GEPA constructor)\")\n"
   ]
  },
  {
   "cell_type": "code",
   "execution_count": null,
   "id": "a2255f9a",
   "metadata": {},
   "outputs": [],
   "source": [
    "# Test optimized program on the same example\n",
    "example = test_ds[11]\n",
    "\n",
    "print(\"🧪 Testing optimized program on example:\")\n",
    "print(f\"Question: {example.question}\")\n",
    "print(f\"Expected Answer: {example.answer}\")\n",
    "print(f\"Supporting Docs: {example.supporting_ids}\")\n",
    "print()\n",
    "\n",
    "pred = program(example.question, example.docs)\n",
    "original_metric_result = metric_with_feedback(example, pred)\n",
    "\n",
    "print(\"📋 ORIGINAL vs OPTIMIZED Results:\")\n",
    "print(\"-\" * 50)\n",
    "print(\"ORIGINAL:\")\n",
    "print(f\"  Answer: {pred.answer}\")\n",
    "print(f\"  Retrieved docs: {pred.retrieved_doc_ids}\")\n",
    "print(f\"  Citations: {pred.citations}\")\n",
    "print(f\"Original score: {original_metric_result.score:.3f}\")\n",
    "# print(f\"Original feedback: {original_metric_result.feedback}\")\n",
    "\n",
    "optimized_pred = optimized_program(example.question, example.docs)\n",
    "optimized_metric_result = metric_with_feedback(example, optimized_pred)\n",
    "print(\"OPTIMIZED:\")\n",
    "print(f\"  Answer: {optimized_pred.answer}\")\n",
    "print(f\"  Retrieved docs: {optimized_pred.retrieved_doc_ids}\")\n",
    "print(f\"  Citations: {optimized_pred.citations}\")\n",
    "print(f\"Optimized score: {optimized_metric_result.score:.3f}\")\n",
    "# print(f\"Optimized feedback: {optimized_metric_result.feedback}\")"
   ]
  },
  {
   "cell_type": "markdown",
   "id": "c1ff3a39-8ff5-4be5-bbf6-0a57f14ef517",
   "metadata": {},
   "source": [
    "Can we measure instruction quality by using them with a larger model to see if it gets questions right?"
   ]
  },
  {
   "cell_type": "code",
   "execution_count": null,
   "id": "aec0176f-4ed8-4f20-872c-b42be3203e43",
   "metadata": {},
   "outputs": [],
   "source": []
  }
 ],
 "metadata": {
  "kernelspec": {
   "display_name": ".venv",
   "language": "python",
   "name": "python3"
  },
  "language_info": {
   "codemirror_mode": {
    "name": "ipython",
    "version": 3
   },
   "file_extension": ".py",
   "mimetype": "text/x-python",
   "name": "python",
   "nbconvert_exporter": "python",
   "pygments_lexer": "ipython3",
   "version": "3.12.9"
  }
 },
 "nbformat": 4,
 "nbformat_minor": 5
}
