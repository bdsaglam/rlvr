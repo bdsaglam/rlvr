{
 "cells": [
  {
   "cell_type": "code",
   "execution_count": null,
   "id": "a143f034",
   "metadata": {},
   "outputs": [],
   "source": [
    "from pathlib import Path\n",
    "\n",
    "import typer\n",
    "import pandas as pd\n",
    "import verifiers as vf\n",
    "from dotenv import load_dotenv\n",
    "from openai import OpenAI\n",
    "\n",
    "\n",
    "assert load_dotenv(), \"Failed to load .env file\""
   ]
  },
  {
   "cell_type": "code",
   "execution_count": null,
   "id": "c4817b65",
   "metadata": {},
   "outputs": [],
   "source": [
    "model = \"Qwen/Qwen2.5-7B-Instruct\"\n",
    "datasets_str = \"bdsaglam/musique-mini,answerable,validation\"\n",
    "noise_rate = 1.0\n",
    "retriever = \"hybrid\"\n",
    "temperature = 0.1\n",
    "max_new_tokens = 1024\n",
    "\n",
    "print(\"🔮 Starting MuSiQue evaluation\")\n",
    "print(\"=\" * 50)\n",
    "print(f\"📝 Model: {model}\")\n",
    "print(f\"📊 Dataset: {datasets_str} (noise rate: {noise_rate})\")\n",
    "print(f\"🔍 Retriever: {retriever}\")\n",
    "print(f\"🌡️ Temperature: {temperature}\")\n",
    "print(f\"🎯 Max tokens: {max_new_tokens}\")\n",
    "print(\"=\" * 50)\n",
    "\n",
    "# Load MuSiQue environment\n",
    "print(\"🌍 Loading MuSiQue environment...\")\n",
    "\n",
    "vf_env = vf.load_environment(\n",
    "    env_id=\"vf-musique\",\n",
    "    datasets_str=datasets_str,\n",
    "    noise_rate=noise_rate,\n",
    "    retriever_name=retriever,\n",
    ")\n",
    "print(f\"✅ Environment loaded with {len(vf_env.dataset)} examples\")\n",
    "\n",
    "# Use OpenAI-compatible API client (e.g., for vLLM)\n",
    "print(\"🤖 Using OpenAI-compatible API client...\")\n",
    "client = OpenAI()\n",
    "\n",
    "# Run evaluation using the environment\n",
    "print(\"🔄 Running evaluation...\")\n",
    "results = vf_env.evaluate(\n",
    "    client,\n",
    "    model,\n",
    "    rollouts_per_example=1,\n",
    "    sampling_args={\"temperature\": temperature, \"max_tokens\": max_new_tokens},\n",
    ")\n"
   ]
  },
  {
   "cell_type": "code",
   "execution_count": null,
   "id": "bf7f3b07",
   "metadata": {},
   "outputs": [],
   "source": [
    "len(results.prompt), len(results.completion), len(results.answer), len(results.state), len(results.info), len(results.task), len(results.reward)"
   ]
  },
  {
   "cell_type": "code",
   "execution_count": null,
   "id": "5abf6081",
   "metadata": {},
   "outputs": [],
   "source": [
    "from verifiers.types import GenerateOutputs\n",
    "\n",
    "for field in GenerateOutputs.__fields__.keys():\n",
    "    print(field)\n",
    "\n",
    "    _type = type(getattr(results, field))\n",
    "    if _type == list:\n",
    "        print(getattr(results, field)[0])\n",
    "    else:\n",
    "        print(type(getattr(results, field)))"
   ]
  },
  {
   "cell_type": "code",
   "execution_count": null,
   "id": "1a2d73db",
   "metadata": {},
   "outputs": [],
   "source": [
    "results.completion[0]"
   ]
  },
  {
   "cell_type": "code",
   "execution_count": null,
   "id": "04618244",
   "metadata": {},
   "outputs": [],
   "source": [
    "ds = vf_env.make_dataset(results)\n",
    "ds\n"
   ]
  },
  {
   "cell_type": "code",
   "execution_count": null,
   "id": "205448ce",
   "metadata": {},
   "outputs": [],
   "source": [
    "# ds.to_json(\"musique-mini-eval-results.jsonl\", orient=\"records\", lines=True)"
   ]
  }
 ],
 "metadata": {
  "kernelspec": {
   "display_name": ".venv",
   "language": "python",
   "name": "python3"
  },
  "language_info": {
   "codemirror_mode": {
    "name": "ipython",
    "version": 3
   },
   "file_extension": ".py",
   "mimetype": "text/x-python",
   "name": "python",
   "nbconvert_exporter": "python",
   "pygments_lexer": "ipython3",
   "version": "3.12.9"
  }
 },
 "nbformat": 4,
 "nbformat_minor": 5
}
