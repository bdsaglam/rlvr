{
 "cells": [
  {
   "cell_type": "code",
   "execution_count": 1,
   "id": "a143f034",
   "metadata": {},
   "outputs": [],
   "source": [
    "from pathlib import Path\n",
    "\n",
    "import pandas as pd\n",
    "import verifiers as vf\n",
    "from dotenv import load_dotenv\n",
    "from openai import AsyncOpenAI\n",
    "\n",
    "\n",
    "assert load_dotenv(), \"Failed to load .env file\""
   ]
  },
  {
   "cell_type": "code",
   "execution_count": null,
   "id": "8c39fb68",
   "metadata": {},
   "outputs": [
    {
     "data": {
      "text/plain": [
       "{'env_id': 'vf-musique-structured',\n",
       " 'datasets_str': 'bdsaglam/musique-mini,answerable,validation',\n",
       " 'noise_rate': 0.0,\n",
       " 'retriever': 'hybrid',\n",
       " 'model': 'Qwen/Qwen2.5-7B-Instruct',\n",
       " 'sampling_args': {'temperature': 0.5, 'max_tokens': 1024},\n",
       " 'max_concurrent': 8}"
      ]
     },
     "execution_count": 2,
     "metadata": {},
     "output_type": "execute_result"
    }
   ],
   "source": [
    "from rlvr.utils.llm import get_default_model\n",
    "\n",
    "env_id = \"vf-musique-structured\"\n",
    "datasets_str = \"bdsaglam/musique-mini,answerable,validation\"\n",
    "noise_rate = 0.0\n",
    "retriever = \"hybrid\"\n",
    "model = get_default_model()\n",
    "\n",
    "params = {\n",
    "    \"env_id\": env_id,\n",
    "    \"datasets_str\": datasets_str,\n",
    "    \"noise_rate\": noise_rate,\n",
    "    \"retriever\": retriever,\n",
    "    \"model\": model,\n",
    "    \"sampling_args\": {\n",
    "        \"temperature\": 0.5,\n",
    "        \"max_tokens\": 1024, # max new tokens to generate\n",
    "        # \"top_p\": 0.95,\n",
    "        # \"min_p\": None,\n",
    "    },\n",
    "    \"max_concurrent\": 16,\n",
    "}\n",
    "params"
   ]
  },
  {
   "cell_type": "code",
   "execution_count": 3,
   "id": "38c354da",
   "metadata": {},
   "outputs": [],
   "source": [
    "# import mlflow\n",
    "\n",
    "# # Tell MLflow about the server URI.\n",
    "# mlflow.set_tracking_uri(\"http://127.0.0.1:5000\")\n",
    "# # Enable autologging with all features\n",
    "# mlflow.openai.autolog()\n",
    "# # Create a unique name for your experiment.\n",
    "# mlflow.set_experiment(\"rlvr-eval\")"
   ]
  },
  {
   "cell_type": "code",
   "execution_count": 4,
   "id": "c4817b65",
   "metadata": {},
   "outputs": [
    {
     "name": "stderr",
     "output_type": "stream",
     "text": [
      "2025-09-26 19:00:27 - verifiers.utils.env_utils - INFO - Loading environment: vf-musique-structured\n",
      "2025-09-26 19:00:27 - verifiers.utils.env_utils - INFO - Using provided args: noise_rate=0.0, retriever=hybrid, datasets_str=bdsaglam/musique-mini,answerable,validation\n",
      "2025-09-26 19:00:27 - verifiers.utils.env_utils - INFO - Using default args: eval_datasets_str=None\n"
     ]
    },
    {
     "name": "stdout",
     "output_type": "stream",
     "text": [
      "🌍 Loading MuSiQue environment...\n"
     ]
    },
    {
     "data": {
      "application/vnd.jupyter.widget-view+json": {
       "model_id": "31800c41870947a98be7aed8e992d6ab",
       "version_major": 2,
       "version_minor": 0
      },
      "text/plain": [
       "Map: 100%|##########| 300/300 [00:00<?, ? examples/s]"
      ]
     },
     "metadata": {},
     "output_type": "display_data"
    },
    {
     "data": {
      "application/vnd.jupyter.widget-view+json": {
       "model_id": "b6d2ec66ba5b4c62b0fa05c816e35363",
       "version_major": 2,
       "version_minor": 0
      },
      "text/plain": [
       "Filter:   0%|          | 0/300 [00:00<?, ? examples/s]"
      ]
     },
     "metadata": {},
     "output_type": "display_data"
    },
    {
     "data": {
      "application/vnd.jupyter.widget-view+json": {
       "model_id": "62392936c26945de84785c3cdcef6c4f",
       "version_major": 2,
       "version_minor": 0
      },
      "text/plain": [
       "Map:   0%|          | 0/100 [00:00<?, ? examples/s]"
      ]
     },
     "metadata": {},
     "output_type": "display_data"
    },
    {
     "data": {
      "application/vnd.jupyter.widget-view+json": {
       "model_id": "394771d5c1474f99947534c525fae394",
       "version_major": 2,
       "version_minor": 0
      },
      "text/plain": [
       "Map:   0%|          | 0/100 [00:00<?, ? examples/s]"
      ]
     },
     "metadata": {},
     "output_type": "display_data"
    },
    {
     "data": {
      "application/vnd.jupyter.widget-view+json": {
       "model_id": "9306e2dc0a13453db41e0f2fbe62e870",
       "version_major": 2,
       "version_minor": 0
      },
      "text/plain": [
       "Map:   0%|          | 0/100 [00:00<?, ? examples/s]"
      ]
     },
     "metadata": {},
     "output_type": "display_data"
    },
    {
     "name": "stderr",
     "output_type": "stream",
     "text": [
      "2025-09-26 19:00:31 - verifiers.utils.env_utils - INFO - Successfully loaded environment 'vf-musique-structured'\n",
      "2025-09-26 19:00:31 - verifiers.envs.MuSiQueEnv - INFO - eval_dataset is not set, falling back to train dataset\n"
     ]
    },
    {
     "name": "stdout",
     "output_type": "stream",
     "text": [
      "✅ Environment loaded with 100 examples\n",
      "🤖 Using OpenAI-compatible API client...\n",
      "🔄 Running evaluation...\n"
     ]
    },
    {
     "name": "stderr",
     "output_type": "stream",
     "text": [
      "Running 100 rollouts (interleaved): 100%|██████████| 100/100 [00:57<00:00,  1.74it/s]\n"
     ]
    }
   ],
   "source": [
    "# Load MuSiQue environment\n",
    "print(\"🌍 Loading MuSiQue environment...\")\n",
    "\n",
    "vf_env = vf.load_environment(\n",
    "    env_id=env_id,\n",
    "    datasets_str=datasets_str,\n",
    "    noise_rate=noise_rate,\n",
    "    retriever=retriever,\n",
    ")\n",
    "print(f\"✅ Environment loaded with {len(vf_env.dataset)} examples\")\n",
    "\n",
    "# Use OpenAI-compatible API client (e.g., for vLLM)\n",
    "print(\"🤖 Using OpenAI-compatible API client...\")\n",
    "\n",
    "# Run evaluation using the environment\n",
    "print(\"🔄 Running evaluation...\")\n",
    "openai_client = AsyncOpenAI()\n",
    "results = vf_env.evaluate(\n",
    "    openai_client,\n",
    "    model,\n",
    "    rollouts_per_example=1,\n",
    "    sampling_args=params[\"sampling_args\"],\n",
    "    max_concurrent=params[\"max_concurrent\"],\n",
    ")\n"
   ]
  },
  {
   "cell_type": "code",
   "execution_count": 5,
   "id": "04618244",
   "metadata": {},
   "outputs": [],
   "source": [
    "ds = vf_env.make_dataset(results)\n",
    "df = ds.to_pandas()"
   ]
  },
  {
   "cell_type": "code",
   "execution_count": 6,
   "id": "c38609cd",
   "metadata": {},
   "outputs": [
    {
     "data": {
      "text/html": [
       "<div>\n",
       "<style scoped>\n",
       "    .dataframe tbody tr th:only-of-type {\n",
       "        vertical-align: middle;\n",
       "    }\n",
       "\n",
       "    .dataframe tbody tr th {\n",
       "        vertical-align: top;\n",
       "    }\n",
       "\n",
       "    .dataframe thead th {\n",
       "        text-align: right;\n",
       "    }\n",
       "</style>\n",
       "<table border=\"1\" class=\"dataframe\">\n",
       "  <thead>\n",
       "    <tr style=\"text-align: right;\">\n",
       "      <th></th>\n",
       "      <th>reward</th>\n",
       "      <th>exact_match_reward</th>\n",
       "      <th>f1_reward</th>\n",
       "      <th>retrieval_recall_reward</th>\n",
       "      <th>retrieval_precision_reward</th>\n",
       "      <th>citation_reward</th>\n",
       "      <th>format_reward</th>\n",
       "      <th>combined_reward</th>\n",
       "    </tr>\n",
       "  </thead>\n",
       "  <tbody>\n",
       "    <tr>\n",
       "      <th>count</th>\n",
       "      <td>100.000000</td>\n",
       "      <td>100.000000</td>\n",
       "      <td>100.000000</td>\n",
       "      <td>100.000000</td>\n",
       "      <td>100.0</td>\n",
       "      <td>100.000000</td>\n",
       "      <td>100.000000</td>\n",
       "      <td>100.000000</td>\n",
       "    </tr>\n",
       "    <tr>\n",
       "      <th>mean</th>\n",
       "      <td>0.633868</td>\n",
       "      <td>0.400000</td>\n",
       "      <td>0.533858</td>\n",
       "      <td>0.795000</td>\n",
       "      <td>1.0</td>\n",
       "      <td>0.610000</td>\n",
       "      <td>0.940000</td>\n",
       "      <td>0.633868</td>\n",
       "    </tr>\n",
       "    <tr>\n",
       "      <th>std</th>\n",
       "      <td>0.252353</td>\n",
       "      <td>0.492366</td>\n",
       "      <td>0.454602</td>\n",
       "      <td>0.247156</td>\n",
       "      <td>0.0</td>\n",
       "      <td>0.280512</td>\n",
       "      <td>0.238683</td>\n",
       "      <td>0.252353</td>\n",
       "    </tr>\n",
       "    <tr>\n",
       "      <th>min</th>\n",
       "      <td>0.225000</td>\n",
       "      <td>0.000000</td>\n",
       "      <td>0.000000</td>\n",
       "      <td>0.500000</td>\n",
       "      <td>1.0</td>\n",
       "      <td>0.000000</td>\n",
       "      <td>0.000000</td>\n",
       "      <td>0.225000</td>\n",
       "    </tr>\n",
       "    <tr>\n",
       "      <th>25%</th>\n",
       "      <td>0.428125</td>\n",
       "      <td>0.000000</td>\n",
       "      <td>0.000000</td>\n",
       "      <td>0.500000</td>\n",
       "      <td>1.0</td>\n",
       "      <td>0.500000</td>\n",
       "      <td>1.000000</td>\n",
       "      <td>0.428125</td>\n",
       "    </tr>\n",
       "    <tr>\n",
       "      <th>50%</th>\n",
       "      <td>0.562500</td>\n",
       "      <td>0.000000</td>\n",
       "      <td>0.666667</td>\n",
       "      <td>1.000000</td>\n",
       "      <td>1.0</td>\n",
       "      <td>0.500000</td>\n",
       "      <td>1.000000</td>\n",
       "      <td>0.562500</td>\n",
       "    </tr>\n",
       "    <tr>\n",
       "      <th>75%</th>\n",
       "      <td>0.925000</td>\n",
       "      <td>1.000000</td>\n",
       "      <td>1.000000</td>\n",
       "      <td>1.000000</td>\n",
       "      <td>1.0</td>\n",
       "      <td>1.000000</td>\n",
       "      <td>1.000000</td>\n",
       "      <td>0.925000</td>\n",
       "    </tr>\n",
       "    <tr>\n",
       "      <th>max</th>\n",
       "      <td>1.000000</td>\n",
       "      <td>1.000000</td>\n",
       "      <td>1.000000</td>\n",
       "      <td>1.000000</td>\n",
       "      <td>1.0</td>\n",
       "      <td>1.000000</td>\n",
       "      <td>1.000000</td>\n",
       "      <td>1.000000</td>\n",
       "    </tr>\n",
       "  </tbody>\n",
       "</table>\n",
       "</div>"
      ],
      "text/plain": [
       "           reward  exact_match_reward   f1_reward  retrieval_recall_reward  \\\n",
       "count  100.000000          100.000000  100.000000               100.000000   \n",
       "mean     0.633868            0.400000    0.533858                 0.795000   \n",
       "std      0.252353            0.492366    0.454602                 0.247156   \n",
       "min      0.225000            0.000000    0.000000                 0.500000   \n",
       "25%      0.428125            0.000000    0.000000                 0.500000   \n",
       "50%      0.562500            0.000000    0.666667                 1.000000   \n",
       "75%      0.925000            1.000000    1.000000                 1.000000   \n",
       "max      1.000000            1.000000    1.000000                 1.000000   \n",
       "\n",
       "       retrieval_precision_reward  citation_reward  format_reward  \\\n",
       "count                       100.0       100.000000     100.000000   \n",
       "mean                          1.0         0.610000       0.940000   \n",
       "std                           0.0         0.280512       0.238683   \n",
       "min                           1.0         0.000000       0.000000   \n",
       "25%                           1.0         0.500000       1.000000   \n",
       "50%                           1.0         0.500000       1.000000   \n",
       "75%                           1.0         1.000000       1.000000   \n",
       "max                           1.0         1.000000       1.000000   \n",
       "\n",
       "       combined_reward  \n",
       "count       100.000000  \n",
       "mean          0.633868  \n",
       "std           0.252353  \n",
       "min           0.225000  \n",
       "25%           0.428125  \n",
       "50%           0.562500  \n",
       "75%           0.925000  \n",
       "max           1.000000  "
      ]
     },
     "execution_count": 6,
     "metadata": {},
     "output_type": "execute_result"
    }
   ],
   "source": [
    "df.describe()"
   ]
  },
  {
   "cell_type": "code",
   "execution_count": 7,
   "id": "60166588",
   "metadata": {},
   "outputs": [
    {
     "data": {
      "application/vnd.jupyter.widget-view+json": {
       "model_id": "a0904332b9904aef89350df6543e7df8",
       "version_major": 2,
       "version_minor": 0
      },
      "text/plain": [
       "Creating json from Arrow format:   0%|          | 0/1 [00:00<?, ?ba/s]"
      ]
     },
     "metadata": {},
     "output_type": "display_data"
    }
   ],
   "source": [
    "from datetime import datetime\n",
    "import json\n",
    "\n",
    "exp_id = datetime.now().strftime(\"%Y%m%d_%H%M%S\")\n",
    "exp_dir = Path(f\"../outputs/musique-eval/{exp_id}\")\n",
    "exp_dir.mkdir(parents=True, exist_ok=True)\n",
    "\n",
    "(exp_dir / \"params.json\").write_text(json.dumps(params, indent=2))\n",
    "ds.to_json(exp_dir / \"musique-eval-results.jsonl\", orient=\"records\", lines=True)\n",
    "df.describe().to_csv(exp_dir / \"scores.csv\")"
   ]
  },
  {
   "cell_type": "code",
   "execution_count": 8,
   "id": "b9db47a4",
   "metadata": {},
   "outputs": [
    {
     "data": {
      "text/plain": [
       "37"
      ]
     },
     "execution_count": 8,
     "metadata": {},
     "output_type": "execute_result"
    }
   ],
   "source": [
    "failed_df = df[df['f1_reward'] < 0.1]\n",
    "len(failed_df)"
   ]
  }
 ],
 "metadata": {
  "kernelspec": {
   "display_name": ".venv",
   "language": "python",
   "name": "python3"
  },
  "language_info": {
   "codemirror_mode": {
    "name": "ipython",
    "version": 3
   },
   "file_extension": ".py",
   "mimetype": "text/x-python",
   "name": "python",
   "nbconvert_exporter": "python",
   "pygments_lexer": "ipython3",
   "version": "3.12.9"
  }
 },
 "nbformat": 4,
 "nbformat_minor": 5
}
