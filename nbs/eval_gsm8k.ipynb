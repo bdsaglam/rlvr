{
 "cells": [
  {
   "cell_type": "code",
   "execution_count": 1,
   "id": "a143f034",
   "metadata": {},
   "outputs": [],
   "source": [
    "from pathlib import Path\n",
    "from datetime import datetime\n",
    "\n",
    "import typer\n",
    "import pandas as pd\n",
    "import verifiers as vf\n",
    "from dotenv import load_dotenv\n",
    "from openai import AsyncOpenAI\n",
    "\n",
    "\n",
    "assert load_dotenv(), \"Failed to load .env file\""
   ]
  },
  {
   "cell_type": "code",
   "execution_count": 2,
   "id": "9328583a",
   "metadata": {},
   "outputs": [
    {
     "name": "stdout",
     "output_type": "stream",
     "text": [
      "Available models: ['Qwen/Qwen2.5-3B-Instruct']\n",
      "Using model: Qwen/Qwen2.5-3B-Instruct\n"
     ]
    }
   ],
   "source": [
    "openai_client = AsyncOpenAI()\n",
    "\n",
    "models_response = await openai_client.models.list()\n",
    "available_models = [item.id for item in models_response.data if item.object == \"model\"]\n",
    "print(\"Available models:\", available_models)\n",
    "\n",
    "model = available_models[0]\n",
    "print(\"Using model:\", model)\n"
   ]
  },
  {
   "cell_type": "code",
   "execution_count": 3,
   "id": "c4817b65",
   "metadata": {},
   "outputs": [
    {
     "name": "stdout",
     "output_type": "stream",
     "text": [
      "✅ Environment loaded with 7473 examples\n",
      "🔄 Running evaluation...\n"
     ]
    },
    {
     "name": "stderr",
     "output_type": "stream",
     "text": [
      "Running 100 rollouts: 100%|██████████| 100/100 [00:14<00:00,  6.84it/s]\n",
      "Evaluating 100 rollouts: 100%|██████████| 100/100 [00:00<00:00, 3500.53it/s]\n"
     ]
    }
   ],
   "source": [
    "temperature = 0.5\n",
    "max_new_tokens = 1024\n",
    "\n",
    "vf_env = vf.load_environment(env_id=\"gsm8k\", num_eval_examples=100, use_think=False)\n",
    "print(f\"✅ Environment loaded with {len(vf_env.dataset)} examples\")\n",
    "\n",
    "# Run evaluation using the environment\n",
    "print(\"🔄 Running evaluation...\")\n",
    "results = vf_env.evaluate(\n",
    "    openai_client,\n",
    "    model,\n",
    "    rollouts_per_example=1,\n",
    "    sampling_args={\"temperature\": temperature, \"max_tokens\": max_new_tokens},\n",
    ")\n"
   ]
  },
  {
   "cell_type": "code",
   "execution_count": 4,
   "id": "c09d1adb",
   "metadata": {},
   "outputs": [
    {
     "data": {
      "text/plain": [
       "dict_keys(['correct_answer_reward_func', 'format_reward_func'])"
      ]
     },
     "execution_count": 4,
     "metadata": {},
     "output_type": "execute_result"
    }
   ],
   "source": [
    "results.metrics.keys()"
   ]
  },
  {
   "cell_type": "code",
   "execution_count": 5,
   "id": "04618244",
   "metadata": {},
   "outputs": [
    {
     "data": {
      "text/plain": [
       "Dataset({\n",
       "    features: ['prompt', 'completion', 'answer', 'task', 'reward', 'correct_answer_reward_func', 'format_reward_func'],\n",
       "    num_rows: 100\n",
       "})"
      ]
     },
     "execution_count": 5,
     "metadata": {},
     "output_type": "execute_result"
    }
   ],
   "source": [
    "ds = vf_env.make_dataset(results)\n",
    "ds"
   ]
  },
  {
   "cell_type": "code",
   "execution_count": 6,
   "id": "810fa60f",
   "metadata": {},
   "outputs": [
    {
     "data": {
      "text/html": [
       "<div>\n",
       "<style scoped>\n",
       "    .dataframe tbody tr th:only-of-type {\n",
       "        vertical-align: middle;\n",
       "    }\n",
       "\n",
       "    .dataframe tbody tr th {\n",
       "        vertical-align: top;\n",
       "    }\n",
       "\n",
       "    .dataframe thead th {\n",
       "        text-align: right;\n",
       "    }\n",
       "</style>\n",
       "<table border=\"1\" class=\"dataframe\">\n",
       "  <thead>\n",
       "    <tr style=\"text-align: right;\">\n",
       "      <th></th>\n",
       "      <th>prompt</th>\n",
       "      <th>completion</th>\n",
       "      <th>answer</th>\n",
       "      <th>task</th>\n",
       "      <th>reward</th>\n",
       "      <th>correct_answer_reward_func</th>\n",
       "      <th>format_reward_func</th>\n",
       "    </tr>\n",
       "  </thead>\n",
       "  <tbody>\n",
       "    <tr>\n",
       "      <th>0</th>\n",
       "      <td>[{'content': 'Please reason step by step, and ...</td>\n",
       "      <td>[{'content': 'To determine how much Janet make...</td>\n",
       "      <td>18</td>\n",
       "      <td>default</td>\n",
       "      <td>1.0</td>\n",
       "      <td>1.0</td>\n",
       "      <td>1.0</td>\n",
       "    </tr>\n",
       "    <tr>\n",
       "      <th>1</th>\n",
       "      <td>[{'content': 'Please reason step by step, and ...</td>\n",
       "      <td>[{'content': 'To determine the total number of...</td>\n",
       "      <td>3</td>\n",
       "      <td>default</td>\n",
       "      <td>1.0</td>\n",
       "      <td>1.0</td>\n",
       "      <td>1.0</td>\n",
       "    </tr>\n",
       "    <tr>\n",
       "      <th>2</th>\n",
       "      <td>[{'content': 'Please reason step by step, and ...</td>\n",
       "      <td>[{'content': 'To determine Josh's profit from ...</td>\n",
       "      <td>70000</td>\n",
       "      <td>default</td>\n",
       "      <td>1.0</td>\n",
       "      <td>1.0</td>\n",
       "      <td>1.0</td>\n",
       "    </tr>\n",
       "    <tr>\n",
       "      <th>3</th>\n",
       "      <td>[{'content': 'Please reason step by step, and ...</td>\n",
       "      <td>[{'content': 'To determine the total number of...</td>\n",
       "      <td>540</td>\n",
       "      <td>default</td>\n",
       "      <td>1.0</td>\n",
       "      <td>1.0</td>\n",
       "      <td>1.0</td>\n",
       "    </tr>\n",
       "    <tr>\n",
       "      <th>4</th>\n",
       "      <td>[{'content': 'Please reason step by step, and ...</td>\n",
       "      <td>[{'content': 'To determine how much feed Wendi...</td>\n",
       "      <td>20</td>\n",
       "      <td>default</td>\n",
       "      <td>1.0</td>\n",
       "      <td>1.0</td>\n",
       "      <td>1.0</td>\n",
       "    </tr>\n",
       "    <tr>\n",
       "      <th>...</th>\n",
       "      <td>...</td>\n",
       "      <td>...</td>\n",
       "      <td>...</td>\n",
       "      <td>...</td>\n",
       "      <td>...</td>\n",
       "      <td>...</td>\n",
       "      <td>...</td>\n",
       "    </tr>\n",
       "    <tr>\n",
       "      <th>95</th>\n",
       "      <td>[{'content': 'Please reason step by step, and ...</td>\n",
       "      <td>[{'content': 'To determine how many girls are ...</td>\n",
       "      <td>40</td>\n",
       "      <td>default</td>\n",
       "      <td>1.0</td>\n",
       "      <td>1.0</td>\n",
       "      <td>1.0</td>\n",
       "    </tr>\n",
       "    <tr>\n",
       "      <th>96</th>\n",
       "      <td>[{'content': 'Please reason step by step, and ...</td>\n",
       "      <td>[{'content': 'To determine how many more hours...</td>\n",
       "      <td>3</td>\n",
       "      <td>default</td>\n",
       "      <td>1.0</td>\n",
       "      <td>1.0</td>\n",
       "      <td>1.0</td>\n",
       "    </tr>\n",
       "    <tr>\n",
       "      <th>97</th>\n",
       "      <td>[{'content': 'Please reason step by step, and ...</td>\n",
       "      <td>[{'content': 'To determine how many tomatoes F...</td>\n",
       "      <td>12</td>\n",
       "      <td>default</td>\n",
       "      <td>1.0</td>\n",
       "      <td>1.0</td>\n",
       "      <td>1.0</td>\n",
       "    </tr>\n",
       "    <tr>\n",
       "      <th>98</th>\n",
       "      <td>[{'content': 'Please reason step by step, and ...</td>\n",
       "      <td>[{'content': 'To determine how many cars drove...</td>\n",
       "      <td>5</td>\n",
       "      <td>default</td>\n",
       "      <td>0.0</td>\n",
       "      <td>0.0</td>\n",
       "      <td>1.0</td>\n",
       "    </tr>\n",
       "    <tr>\n",
       "      <th>99</th>\n",
       "      <td>[{'content': 'Please reason step by step, and ...</td>\n",
       "      <td>[{'content': 'To determine how many potted pla...</td>\n",
       "      <td>58</td>\n",
       "      <td>default</td>\n",
       "      <td>0.0</td>\n",
       "      <td>0.0</td>\n",
       "      <td>1.0</td>\n",
       "    </tr>\n",
       "  </tbody>\n",
       "</table>\n",
       "<p>100 rows × 7 columns</p>\n",
       "</div>"
      ],
      "text/plain": [
       "                                               prompt  \\\n",
       "0   [{'content': 'Please reason step by step, and ...   \n",
       "1   [{'content': 'Please reason step by step, and ...   \n",
       "2   [{'content': 'Please reason step by step, and ...   \n",
       "3   [{'content': 'Please reason step by step, and ...   \n",
       "4   [{'content': 'Please reason step by step, and ...   \n",
       "..                                                ...   \n",
       "95  [{'content': 'Please reason step by step, and ...   \n",
       "96  [{'content': 'Please reason step by step, and ...   \n",
       "97  [{'content': 'Please reason step by step, and ...   \n",
       "98  [{'content': 'Please reason step by step, and ...   \n",
       "99  [{'content': 'Please reason step by step, and ...   \n",
       "\n",
       "                                           completion answer     task  reward  \\\n",
       "0   [{'content': 'To determine how much Janet make...     18  default     1.0   \n",
       "1   [{'content': 'To determine the total number of...      3  default     1.0   \n",
       "2   [{'content': 'To determine Josh's profit from ...  70000  default     1.0   \n",
       "3   [{'content': 'To determine the total number of...    540  default     1.0   \n",
       "4   [{'content': 'To determine how much feed Wendi...     20  default     1.0   \n",
       "..                                                ...    ...      ...     ...   \n",
       "95  [{'content': 'To determine how many girls are ...     40  default     1.0   \n",
       "96  [{'content': 'To determine how many more hours...      3  default     1.0   \n",
       "97  [{'content': 'To determine how many tomatoes F...     12  default     1.0   \n",
       "98  [{'content': 'To determine how many cars drove...      5  default     0.0   \n",
       "99  [{'content': 'To determine how many potted pla...     58  default     0.0   \n",
       "\n",
       "    correct_answer_reward_func  format_reward_func  \n",
       "0                          1.0                 1.0  \n",
       "1                          1.0                 1.0  \n",
       "2                          1.0                 1.0  \n",
       "3                          1.0                 1.0  \n",
       "4                          1.0                 1.0  \n",
       "..                         ...                 ...  \n",
       "95                         1.0                 1.0  \n",
       "96                         1.0                 1.0  \n",
       "97                         1.0                 1.0  \n",
       "98                         0.0                 1.0  \n",
       "99                         0.0                 1.0  \n",
       "\n",
       "[100 rows x 7 columns]"
      ]
     },
     "execution_count": 6,
     "metadata": {},
     "output_type": "execute_result"
    }
   ],
   "source": [
    "df = ds.to_pandas()\n",
    "df"
   ]
  },
  {
   "cell_type": "code",
   "execution_count": 7,
   "id": "b3985c33",
   "metadata": {},
   "outputs": [
    {
     "data": {
      "text/html": [
       "<div>\n",
       "<style scoped>\n",
       "    .dataframe tbody tr th:only-of-type {\n",
       "        vertical-align: middle;\n",
       "    }\n",
       "\n",
       "    .dataframe tbody tr th {\n",
       "        vertical-align: top;\n",
       "    }\n",
       "\n",
       "    .dataframe thead th {\n",
       "        text-align: right;\n",
       "    }\n",
       "</style>\n",
       "<table border=\"1\" class=\"dataframe\">\n",
       "  <thead>\n",
       "    <tr style=\"text-align: right;\">\n",
       "      <th></th>\n",
       "      <th>reward</th>\n",
       "      <th>correct_answer_reward_func</th>\n",
       "      <th>format_reward_func</th>\n",
       "    </tr>\n",
       "  </thead>\n",
       "  <tbody>\n",
       "    <tr>\n",
       "      <th>count</th>\n",
       "      <td>100.000000</td>\n",
       "      <td>100.000000</td>\n",
       "      <td>100.0</td>\n",
       "    </tr>\n",
       "    <tr>\n",
       "      <th>mean</th>\n",
       "      <td>0.870000</td>\n",
       "      <td>0.870000</td>\n",
       "      <td>1.0</td>\n",
       "    </tr>\n",
       "    <tr>\n",
       "      <th>std</th>\n",
       "      <td>0.337998</td>\n",
       "      <td>0.337998</td>\n",
       "      <td>0.0</td>\n",
       "    </tr>\n",
       "    <tr>\n",
       "      <th>min</th>\n",
       "      <td>0.000000</td>\n",
       "      <td>0.000000</td>\n",
       "      <td>1.0</td>\n",
       "    </tr>\n",
       "    <tr>\n",
       "      <th>25%</th>\n",
       "      <td>1.000000</td>\n",
       "      <td>1.000000</td>\n",
       "      <td>1.0</td>\n",
       "    </tr>\n",
       "    <tr>\n",
       "      <th>50%</th>\n",
       "      <td>1.000000</td>\n",
       "      <td>1.000000</td>\n",
       "      <td>1.0</td>\n",
       "    </tr>\n",
       "    <tr>\n",
       "      <th>75%</th>\n",
       "      <td>1.000000</td>\n",
       "      <td>1.000000</td>\n",
       "      <td>1.0</td>\n",
       "    </tr>\n",
       "    <tr>\n",
       "      <th>max</th>\n",
       "      <td>1.000000</td>\n",
       "      <td>1.000000</td>\n",
       "      <td>1.0</td>\n",
       "    </tr>\n",
       "  </tbody>\n",
       "</table>\n",
       "</div>"
      ],
      "text/plain": [
       "           reward  correct_answer_reward_func  format_reward_func\n",
       "count  100.000000                  100.000000               100.0\n",
       "mean     0.870000                    0.870000                 1.0\n",
       "std      0.337998                    0.337998                 0.0\n",
       "min      0.000000                    0.000000                 1.0\n",
       "25%      1.000000                    1.000000                 1.0\n",
       "50%      1.000000                    1.000000                 1.0\n",
       "75%      1.000000                    1.000000                 1.0\n",
       "max      1.000000                    1.000000                 1.0"
      ]
     },
     "execution_count": 7,
     "metadata": {},
     "output_type": "execute_result"
    }
   ],
   "source": [
    "df.describe()"
   ]
  },
  {
   "cell_type": "code",
   "execution_count": 8,
   "id": "879fa58d",
   "metadata": {},
   "outputs": [
    {
     "data": {
      "application/vnd.jupyter.widget-view+json": {
       "model_id": "8d30b5e898464c4591d475bdb0bce018",
       "version_major": 2,
       "version_minor": 0
      },
      "text/plain": [
       "Creating json from Arrow format:   0%|          | 0/1 [00:00<?, ?ba/s]"
      ]
     },
     "metadata": {},
     "output_type": "display_data"
    }
   ],
   "source": [
    "timestamp = datetime.now().strftime(\"%Y%m%d_%H%M%S\")\n",
    "ds.to_json(f\"../outputs/gsm8k-eval-results-{timestamp}.jsonl\", orient=\"records\", lines=True)\n",
    "df.describe().to_json(f\"../outputs/gsm8k-eval-metrics-{timestamp}.json\", indent=2)"
   ]
  },
  {
   "cell_type": "code",
   "execution_count": 9,
   "id": "1c7d6b7c",
   "metadata": {},
   "outputs": [],
   "source": [
    "# row = df.iloc[0]\n",
    "# for msg in row['prompt']:\n",
    "#     print(msg['content'])\n",
    "# for msg in row['completion']:\n",
    "#     print(msg['content'])"
   ]
  },
  {
   "cell_type": "code",
   "execution_count": null,
   "id": "22bc571f",
   "metadata": {},
   "outputs": [],
   "source": []
  }
 ],
 "metadata": {
  "kernelspec": {
   "display_name": ".venv",
   "language": "python",
   "name": "python3"
  },
  "language_info": {
   "codemirror_mode": {
    "name": "ipython",
    "version": 3
   },
   "file_extension": ".py",
   "mimetype": "text/x-python",
   "name": "python",
   "nbconvert_exporter": "python",
   "pygments_lexer": "ipython3",
   "version": "3.12.9"
  }
 },
 "nbformat": 4,
 "nbformat_minor": 5
}
