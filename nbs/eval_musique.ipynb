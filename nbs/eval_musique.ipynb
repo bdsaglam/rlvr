{
 "cells": [
  {
   "cell_type": "code",
   "execution_count": 1,
   "id": "a143f034",
   "metadata": {},
   "outputs": [],
   "source": [
    "from pathlib import Path\n",
    "\n",
    "import typer\n",
    "import pandas as pd\n",
    "import verifiers as vf\n",
    "from dotenv import load_dotenv\n",
    "from openai import AsyncOpenAI\n",
    "\n",
    "\n",
    "assert load_dotenv(), \"Failed to load .env file\""
   ]
  },
  {
   "cell_type": "code",
   "execution_count": 2,
   "id": "38c354da",
   "metadata": {},
   "outputs": [
    {
     "data": {
      "text/plain": [
       "<Experiment: artifact_location='mlflow-artifacts:/2', creation_time=1756636926792, experiment_id='2', last_update_time=1756636926792, lifecycle_stage='active', name='rlvr-eval', tags={}>"
      ]
     },
     "execution_count": 2,
     "metadata": {},
     "output_type": "execute_result"
    }
   ],
   "source": [
    "import mlflow\n",
    "\n",
    "# Tell MLflow about the server URI.\n",
    "mlflow.set_tracking_uri(\"http://127.0.0.1:5000\")\n",
    "# Enable autologging with all features\n",
    "mlflow.openai.autolog()\n",
    "# Create a unique name for your experiment.\n",
    "mlflow.set_experiment(\"rlvr-eval\")"
   ]
  },
  {
   "cell_type": "code",
   "execution_count": 3,
   "id": "9328583a",
   "metadata": {},
   "outputs": [
    {
     "name": "stdout",
     "output_type": "stream",
     "text": [
      "Available models: ['willcb/Qwen3-8B']\n",
      "Using model: willcb/Qwen3-8B\n"
     ]
    }
   ],
   "source": [
    "openai_client = AsyncOpenAI()\n",
    "\n",
    "models_response = await openai_client.models.list()\n",
    "available_models = [item.id for item in models_response.data if item.object == \"model\"]\n",
    "print(\"Available models:\", available_models)\n",
    "\n",
    "model = available_models[0]\n",
    "print(\"Using model:\", model)\n"
   ]
  },
  {
   "cell_type": "code",
   "execution_count": 4,
   "id": "c4817b65",
   "metadata": {},
   "outputs": [
    {
     "name": "stdout",
     "output_type": "stream",
     "text": [
      "🔮 Starting MuSiQue evaluation\n",
      "==================================================\n",
      "📝 Model: willcb/Qwen3-8B\n",
      "📊 Dataset: bdsaglam/musique-mini,answerable,validation (noise rate: 1.0)\n",
      "🔍 Retriever: hybrid\n",
      "🌡️ Temperature: 0.5\n",
      "🎯 Max tokens: 1024\n",
      "==================================================\n",
      "🌍 Loading MuSiQue environment...\n"
     ]
    },
    {
     "data": {
      "application/vnd.jupyter.widget-view+json": {
       "model_id": "2e189ca548f04c04859118453ee539d9",
       "version_major": 2,
       "version_minor": 0
      },
      "text/plain": [
       "Map: 100%|##########| 300/300 [00:00<?, ? examples/s]"
      ]
     },
     "metadata": {},
     "output_type": "display_data"
    },
    {
     "data": {
      "application/vnd.jupyter.widget-view+json": {
       "model_id": "41702f6d56f74ea38093cca8f04daa2a",
       "version_major": 2,
       "version_minor": 0
      },
      "text/plain": [
       "Filter:   0%|          | 0/300 [00:00<?, ? examples/s]"
      ]
     },
     "metadata": {},
     "output_type": "display_data"
    },
    {
     "data": {
      "application/vnd.jupyter.widget-view+json": {
       "model_id": "cdc33e965d734088993420e9e696f8cf",
       "version_major": 2,
       "version_minor": 0
      },
      "text/plain": [
       "Map:   0%|          | 0/100 [00:00<?, ? examples/s]"
      ]
     },
     "metadata": {},
     "output_type": "display_data"
    },
    {
     "data": {
      "application/vnd.jupyter.widget-view+json": {
       "model_id": "49f7f9dbac1848a4ab2a97440a1c6a91",
       "version_major": 2,
       "version_minor": 0
      },
      "text/plain": [
       "Map:   0%|          | 0/100 [00:00<?, ? examples/s]"
      ]
     },
     "metadata": {},
     "output_type": "display_data"
    },
    {
     "name": "stderr",
     "output_type": "stream",
     "text": [
      "2025-09-02 22:48:25 - verifiers.envs.MuSiQueEnv - INFO - eval_dataset is not set, falling back to train dataset\n"
     ]
    },
    {
     "name": "stdout",
     "output_type": "stream",
     "text": [
      "✅ Environment loaded with 100 examples\n",
      "🤖 Using OpenAI-compatible API client...\n",
      "🔄 Running evaluation...\n"
     ]
    },
    {
     "name": "stderr",
     "output_type": "stream",
     "text": [
      "Running 100 rollouts: 100%|██████████| 100/100 [01:02<00:00,  1.61it/s]\n",
      "Evaluating 100 rollouts: 100%|██████████| 100/100 [00:00<00:00, 690.56it/s]\n"
     ]
    },
    {
     "data": {
      "text/html": [
       "\n",
       "<div>\n",
       "  <style scoped>\n",
       "  button {\n",
       "    border: none;\n",
       "    border-radius: 4px;\n",
       "    background-color: rgb(34, 114, 180);\n",
       "    font-family: -apple-system, \"system-ui\", \"Segoe UI\", Roboto, \"Helvetica Neue\", Arial;\n",
       "    font-size: 13px;\n",
       "    color: white;\n",
       "    margin-top: 8px;\n",
       "    margin-bottom: 8px;\n",
       "    padding: 8px 16px;\n",
       "    cursor: pointer;\n",
       "  }\n",
       "  button:hover {\n",
       "    background-color: rgb(66, 153, 224);\n",
       "  }\n",
       "  </style>\n",
       "  <button\n",
       "    onclick=\"\n",
       "        const display = this.nextElementSibling.style.display;\n",
       "        const isCollapsed = display === 'none';\n",
       "        this.nextElementSibling.style.display = isCollapsed ? null : 'none';\n",
       "\n",
       "        const verb = isCollapsed ? 'Collapse' : 'Expand';\n",
       "        this.innerText = `${verb} MLflow Trace`;\n",
       "    \"\n",
       "  >Collapse MLflow Trace</button>\n",
       "  <iframe\n",
       "    id=\"trace-renderer\"\n",
       "    style=\"width: 100%; height: 500px; border: none; resize: vertical;\"\n",
       "    src=\"http://127.0.0.1:5000/static-files/lib/notebook-trace-renderer/index.html?trace_id=tr-27c1e94a45197290cba78dc06610404a&amp;experiment_id=2&amp;trace_id=tr-5d02084f200085d432a2aadeb7d18c6c&amp;experiment_id=2&amp;trace_id=tr-16f7a5607e4d90f5ea12ad99308881fd&amp;experiment_id=2&amp;trace_id=tr-3d8c7a00a4d363df6e7c12f1226ce377&amp;experiment_id=2&amp;trace_id=tr-3e8de33d4e8502b97a754c4c86106323&amp;experiment_id=2&amp;trace_id=tr-a3f06c1f9cab9cef1bcc651afe2f005d&amp;experiment_id=2&amp;trace_id=tr-ff5d5295877d6dd43fb7f31b620a761e&amp;experiment_id=2&amp;trace_id=tr-3a57ff90b1c162b0acb04aa20bff95cf&amp;experiment_id=2&amp;trace_id=tr-17a3b5c649191bbfa43c87c0588dd43c&amp;experiment_id=2&amp;trace_id=tr-a0f96012a60d82c02348e99ef7532150&amp;experiment_id=2&amp;version=3.3.1\"\n",
       "  />\n",
       "</div>\n"
      ],
      "text/plain": [
       "[Trace(trace_id=tr-27c1e94a45197290cba78dc06610404a), Trace(trace_id=tr-5d02084f200085d432a2aadeb7d18c6c), Trace(trace_id=tr-16f7a5607e4d90f5ea12ad99308881fd), Trace(trace_id=tr-3d8c7a00a4d363df6e7c12f1226ce377), Trace(trace_id=tr-3e8de33d4e8502b97a754c4c86106323), Trace(trace_id=tr-a3f06c1f9cab9cef1bcc651afe2f005d), Trace(trace_id=tr-ff5d5295877d6dd43fb7f31b620a761e), Trace(trace_id=tr-3a57ff90b1c162b0acb04aa20bff95cf), Trace(trace_id=tr-17a3b5c649191bbfa43c87c0588dd43c), Trace(trace_id=tr-a0f96012a60d82c02348e99ef7532150)]"
      ]
     },
     "metadata": {},
     "output_type": "display_data"
    }
   ],
   "source": [
    "datasets_str = \"bdsaglam/musique-mini,answerable,validation\"\n",
    "noise_rate = 1.0\n",
    "retriever = \"hybrid\"\n",
    "temperature = 0.5\n",
    "max_new_tokens = 1024\n",
    "\n",
    "print(\"🔮 Starting MuSiQue evaluation\")\n",
    "print(\"=\" * 50)\n",
    "print(f\"📝 Model: {model}\")\n",
    "print(f\"📊 Dataset: {datasets_str} (noise rate: {noise_rate})\")\n",
    "print(f\"🔍 Retriever: {retriever}\")\n",
    "print(f\"🌡️ Temperature: {temperature}\")\n",
    "print(f\"🎯 Max tokens: {max_new_tokens}\")\n",
    "print(\"=\" * 50)\n",
    "\n",
    "# Load MuSiQue environment\n",
    "print(\"🌍 Loading MuSiQue environment...\")\n",
    "\n",
    "vf_env = vf.load_environment(\n",
    "    env_id=\"vf-musique\",\n",
    "    datasets_str=datasets_str,\n",
    "    noise_rate=noise_rate,\n",
    "    retriever_name=retriever,\n",
    ")\n",
    "print(f\"✅ Environment loaded with {len(vf_env.dataset)} examples\")\n",
    "\n",
    "# Use OpenAI-compatible API client (e.g., for vLLM)\n",
    "print(\"🤖 Using OpenAI-compatible API client...\")\n",
    "\n",
    "# Run evaluation using the environment\n",
    "print(\"🔄 Running evaluation...\")\n",
    "results = vf_env.evaluate(\n",
    "    openai_client,\n",
    "    model,\n",
    "    rollouts_per_example=1,\n",
    "    sampling_args={\"temperature\": temperature, \"max_tokens\": max_new_tokens},\n",
    ")\n"
   ]
  },
  {
   "cell_type": "code",
   "execution_count": 5,
   "id": "c09d1adb",
   "metadata": {},
   "outputs": [
    {
     "data": {
      "text/plain": [
       "dict_keys(['exact_match_reward', 'f1_reward', 'retrieval_recall_reward', 'retrieval_precision_reward', 'citation_reward', 'format_reward', 'combined_reward'])"
      ]
     },
     "execution_count": 5,
     "metadata": {},
     "output_type": "execute_result"
    }
   ],
   "source": [
    "results.metrics.keys()"
   ]
  },
  {
   "cell_type": "code",
   "execution_count": 6,
   "id": "5abf6081",
   "metadata": {},
   "outputs": [
    {
     "name": "stdout",
     "output_type": "stream",
     "text": [
      "prompt\n",
      "[{'role': 'system', 'content': \"Answer the question based on the information provided by tools.\\n\\nFor each step:\\n1. Think through your reasoning inside <think> tags\\n2. Use tools to retrieve documents\\n3. Continue until you find the answer through multi-hop reasoning. The question is answerable from the docs. \\n4. In the **last** step:\\n    - Reflect on your previous steps inside <think> tags\\n    - Cite the documents you base your answer on inside <cite> tags by their IDs, e.g. `<cite>1, 2, 3</cite>`\\n    - Give your final answer inside <answer> tags\\nAn example for your final message:\\n```\\n<think>\\n[your thinking and explanation here]\\n</think> \\n<cite>\\n[IDs of the documents that back your answer]\\n</cite>\\n<answer>\\n[your final answer in **a few words**. no explanation here.]\\n</answer>\\n```\\n\\n- Do not make up tools or arguments that aren't listed.\\n- Make one tool call per step.\\n- Questions require multi-hop reasoning across multiple documents.\\n- Continue searching until you find all necessary information to answer the question.\"}, {'role': 'user', 'content': \"What gun was used by Pollack's director in Westworld?\"}]\n",
      "completion\n",
      "[{'role': 'assistant', 'content': '<think>\\n</think>\\n\\n', 'tool_calls': [ChatCompletionMessageFunctionToolCall(id='chatcmpl-tool-d7c93df3fbf94369906fd3df67d97dfe', function=Function(arguments='{\"query\": \"Pollack\\'s director in Westworld\"}', name='retrieve_documents'), type='function')]}, {'role': 'tool', 'content': \"Document ID: 0\\n# Westworld (TV series)\\nNolan and Joy serve as executive producers, along with J.J. Abrams, Jerry Weintraub, and Bryan Burk. The first season was broadcast between October 2 and December 4, 2016; it comprised ten episodes. In November 2016, HBO renewed the series for a ten - episode second season, which was broadcast from April 22 to June 24, 2018. Westworld's debut on HBO had the network's highest viewership ratings for a premiere since the first episode of True Detective in 2014. Moreover, the series ranks as the most - watched first season of any HBO original series. On May 1, 2018, Westworld was renewed for a third season.\\n\\nDocument ID: 4\\n# Pollock (film)\\nMarcia Gay Harden won the Academy Award for Best Supporting Actress for portraying Lee Krasner, Pollock's wife. Ed Harris received an Academy Award nomination for Best Actor for his portrayal of Pollock. The film was a long-term personal project for Harris based on his previous reading of Pollock's biography.Ed Harris’s father had noticed that he resembled Pollock.\", 'tool_call_id': 'chatcmpl-tool-d7c93df3fbf94369906fd3df67d97dfe'}, {'role': 'assistant', 'content': '<think>\\n</think>\\n\\n', 'tool_calls': [ChatCompletionMessageFunctionToolCall(id='chatcmpl-tool-62a931aa0137491c90ab36525823b77f', function=Function(arguments='{\"query\": \"Westworld director\\'s gun\"}', name='retrieve_documents'), type='function')]}, {'role': 'tool', 'content': \"Document ID: 0\\n# Westworld (TV series)\\nNolan and Joy serve as executive producers, along with J.J. Abrams, Jerry Weintraub, and Bryan Burk. The first season was broadcast between October 2 and December 4, 2016; it comprised ten episodes. In November 2016, HBO renewed the series for a ten - episode second season, which was broadcast from April 22 to June 24, 2018. Westworld's debut on HBO had the network's highest viewership ratings for a premiere since the first episode of True Detective in 2014. Moreover, the series ranks as the most - watched first season of any HBO original series. On May 1, 2018, Westworld was renewed for a third season.\\n\\nDocument ID: 11\\n# QF 3-pounder Hotchkiss\\nThe QF 3-pounder Hotchkiss or in French use Canon Hotchkiss à tir rapide de 47\\xa0mm were a family of long-lived light naval guns introduced in 1886 to defend against new, small and fast vessels such as torpedo boats and later submarines. There were many variants produced, often under license which ranged in length from 32 to 50 calibers but 40 caliber was the most common version. They were widely used by the navies of a number of nations and often used by both sides in a conflict. They were also used ashore as coastal defense guns and later as an anti-aircraft gun, whether on improvised or specialized HA/LA mounts.\", 'tool_call_id': 'chatcmpl-tool-62a931aa0137491c90ab36525823b77f'}, {'role': 'assistant', 'content': '<think>\\nOkay, let\\'s see. The user is asking what gun was used by Pollack\\'s director in Westworld. Hmm. First, I need to figure out who the director of Westworld is. From the first document, the executive producers are Nolan, Joy, J.J. Abrams, etc. But the director might be different. Wait, the user mentioned \"Pollack\\'s director,\" so maybe there\\'s a character named Pollack in the show, and the director of the show is someone else?\\n\\nWait, the first document doesn\\'t mention the director\\'s name. The second document talks about a film called Pollock, which is about the artist Jackson Pollock. Maybe there\\'s confusion between the film and the TV series. The user might be mixing up the film Pollock with the TV series Westworld. \\n\\nIn the second document, the film Pollock\\'s director is Ed Harris, but that\\'s a film, not the TV series. The user is asking about Westworld\\'s director. The first document doesn\\'t mention the director\\'s name. Maybe I need to look for more specific information about the director of Westworld. \\n\\nWait, the user might be referring to a character in Westworld named Pollack, and the director of the show. But the first document doesn\\'t mention the director\\'s name. Maybe I need to check if there\\'s another document that mentions the director of Westworld. The second document is about the film Pollock, not the TV series. \\n\\nAlternatively, maybe the user is referring to a specific episode or character. The first document doesn\\'t mention any guns. The second document talks about a type of gun, the QF 3-pounder Hotchkiss, but that\\'s in a different context. \\n\\nWait, perhaps the user is confused. The TV series Westworld\\'s director is not mentioned in the provided documents. The documents mention executive producers but not the director. The second document is about a film, not the TV series. So there\\'s no information about the director of Westworld using a specific gun. \\n\\nTherefore, the answer might be that there\\'s no information provided about the director of Westworld using a specific gun. But the user might have intended to ask about the film Pollock\\'s director, Ed Harris, but that\\'s not clear. Since the documents don\\'t mention the director of Westworld using a gun, the answer is not available in the provided information.\\n</think>\\n\\n</think>\\n\\n</think>\\n\\n<answer>\\nNo information\\n</answer>'}]\n",
      "answer\n",
      "LeMat revolver\n",
      "state\n",
      "{'prompt': [{'role': 'system', 'content': \"Answer the question based on the information provided by tools.\\n\\nFor each step:\\n1. Think through your reasoning inside <think> tags\\n2. Use tools to retrieve documents\\n3. Continue until you find the answer through multi-hop reasoning. The question is answerable from the docs. \\n4. In the **last** step:\\n    - Reflect on your previous steps inside <think> tags\\n    - Cite the documents you base your answer on inside <cite> tags by their IDs, e.g. `<cite>1, 2, 3</cite>`\\n    - Give your final answer inside <answer> tags\\nAn example for your final message:\\n```\\n<think>\\n[your thinking and explanation here]\\n</think> \\n<cite>\\n[IDs of the documents that back your answer]\\n</cite>\\n<answer>\\n[your final answer in **a few words**. no explanation here.]\\n</answer>\\n```\\n\\n- Do not make up tools or arguments that aren't listed.\\n- Make one tool call per step.\\n- Questions require multi-hop reasoning across multiple documents.\\n- Continue searching until you find all necessary information to answer the question.\"}, {'role': 'user', 'content': \"What gun was used by Pollack's director in Westworld?\"}], 'completion': [], 'answer': 'LeMat revolver', 'task': 'default', 'info': {'answers': ['LeMat Revolver', 'LeMat revolver', 'lemat revolver'], 'docs': [{'body': \"Nolan and Joy serve as executive producers, along with J.J. Abrams, Jerry Weintraub, and Bryan Burk. The first season was broadcast between October 2 and December 4, 2016; it comprised ten episodes. In November 2016, HBO renewed the series for a ten - episode second season, which was broadcast from April 22 to June 24, 2018. Westworld's debut on HBO had the network's highest viewership ratings for a premiere since the first episode of True Detective in 2014. Moreover, the series ranks as the most - watched first season of any HBO original series. On May 1, 2018, Westworld was renewed for a third season.\", 'id': '0', 'is_supporting': False, 'text': \"# Westworld (TV series)\\nNolan and Joy serve as executive producers, along with J.J. Abrams, Jerry Weintraub, and Bryan Burk. The first season was broadcast between October 2 and December 4, 2016; it comprised ten episodes. In November 2016, HBO renewed the series for a ten - episode second season, which was broadcast from April 22 to June 24, 2018. Westworld's debut on HBO had the network's highest viewership ratings for a premiere since the first episode of True Detective in 2014. Moreover, the series ranks as the most - watched first season of any HBO original series. On May 1, 2018, Westworld was renewed for a third season.\", 'title': 'Westworld (TV series)'}, {'body': 'Pre-dreadnoughts carried guns of several different calibres, for different roles in ship-to-ship combat. The main armament was four heavy guns, mounted in two centre-line turrets fore and aft. Very few pre-dreadnoughts deviated from this arrangement. These guns were slow-firing, and initially of limited accuracy; but they were the only guns heavy enough to penetrate the thick armour which protected the engines, magazines, and main guns of enemy battleships.The most common calibre for the main armament was 12-inch (305 mm), although some ships used smaller guns because they could attain higher rates of fire; British battleships from the Majestic class onwards carried this calibre, as did French ships from the Charlemagne class (laid down in 1894). Japan, importing most of its guns from Britain, used 12-inch guns. The United States used both 12-inch (305 mm) and 13-inch (330 mm) guns for most of the 1890s until the Maine class (not to be confused with the earlier Maine of Spanish–American War notoriety), laid down in 1899, after which the 12-inch gun was universal. The Russians used both 12 and 10-inch (254 mm) as their main armament; the Petropavlovsk class, Retvizan, Tsesarevich, and Borodino class had 12-inch (305 mm) main batteries while the Peresvet class  mounted 10-inch (254 mm) guns. The first German pre-dreadnought class used an 11-inch (279 mm) gun but decreased to a 9.4-inch (239 mm) gun for the two following classes and returned to 11-inch guns with the Braunschweig class.', 'id': '1', 'is_supporting': False, 'text': '# Pre-dreadnought battleship\\nPre-dreadnoughts carried guns of several different calibres, for different roles in ship-to-ship combat. The main armament was four heavy guns, mounted in two centre-line turrets fore and aft. Very few pre-dreadnoughts deviated from this arrangement. These guns were slow-firing, and initially of limited accuracy; but they were the only guns heavy enough to penetrate the thick armour which protected the engines, magazines, and main guns of enemy battleships.The most common calibre for the main armament was 12-inch (305 mm), although some ships used smaller guns because they could attain higher rates of fire; British battleships from the Majestic class onwards carried this calibre, as did French ships from the Charlemagne class (laid down in 1894). Japan, importing most of its guns from Britain, used 12-inch guns. The United States used both 12-inch (305 mm) and 13-inch (330 mm) guns for most of the 1890s until the Maine class (not to be confused with the earlier Maine of Spanish–American War notoriety), laid down in 1899, after which the 12-inch gun was universal. The Russians used both 12 and 10-inch (254 mm) as their main armament; the Petropavlovsk class, Retvizan, Tsesarevich, and Borodino class had 12-inch (305 mm) main batteries while the Peresvet class  mounted 10-inch (254 mm) guns. The first German pre-dreadnought class used an 11-inch (279 mm) gun but decreased to a 9.4-inch (239 mm) gun for the two following classes and returned to 11-inch guns with the Braunschweig class.', 'title': 'Pre-dreadnought battleship'}, {'body': 'The US ended World War I with two 3-inch AA guns and improvements were developed throughout the inter-war period. However, in 1924 work started on a new 105 mm static mounting AA gun, but only a few were produced by the mid-1930s because by this time work had started on the 90 mm AA gun, with mobile carriages and static mountings able to engage air, sea and ground targets. The M1 version was approved in 1940. During the 1920s there was some work on a 4.7-inch which lapsed, but revived in 1937, leading to a new gun in 1944.', 'id': '2', 'is_supporting': False, 'text': '# Anti-aircraft warfare\\nThe US ended World War I with two 3-inch AA guns and improvements were developed throughout the inter-war period. However, in 1924 work started on a new 105 mm static mounting AA gun, but only a few were produced by the mid-1930s because by this time work had started on the 90 mm AA gun, with mobile carriages and static mountings able to engage air, sea and ground targets. The M1 version was approved in 1940. During the 1920s there was some work on a 4.7-inch which lapsed, but revived in 1937, leading to a new gun in 1944.', 'title': 'Anti-aircraft warfare'}, {'body': 'Battle Clash is a mecha-themed light gun shooting game produced by Nintendo and Intelligent Systems and released for the Super Nintendo Entertainment System in 1992. The game supports the Super Nintendo\\'s light gun, the Super Scope. It was followed by \"\" during the following year.', 'id': '3', 'is_supporting': False, 'text': '# Battle Clash\\nBattle Clash is a mecha-themed light gun shooting game produced by Nintendo and Intelligent Systems and released for the Super Nintendo Entertainment System in 1992. The game supports the Super Nintendo\\'s light gun, the Super Scope. It was followed by \"\" during the following year.', 'title': 'Battle Clash'}, {'body': \"Marcia Gay Harden won the Academy Award for Best Supporting Actress for portraying Lee Krasner, Pollock's wife. Ed Harris received an Academy Award nomination for Best Actor for his portrayal of Pollock. The film was a long-term personal project for Harris based on his previous reading of Pollock's biography.Ed Harris’s father had noticed that he resembled Pollock.\", 'id': '4', 'is_supporting': True, 'text': \"# Pollock (film)\\nMarcia Gay Harden won the Academy Award for Best Supporting Actress for portraying Lee Krasner, Pollock's wife. Ed Harris received an Academy Award nomination for Best Actor for his portrayal of Pollock. The film was a long-term personal project for Harris based on his previous reading of Pollock's biography.Ed Harris’s father had noticed that he resembled Pollock.\", 'title': 'Pollock (film)'}, {'body': 'Roads of Destiny was a 1921 American silent drama film produced and distributed by Goldwyn Pictures. The film is based on the story of the same name by O. Henry that was turned into a play by Channing Pollock starring Florence Reed. Frank Lloyd directed and stage actress Pauline Frederick starred. The film is now considered lost.', 'id': '5', 'is_supporting': False, 'text': '# Roads of Destiny\\nRoads of Destiny was a 1921 American silent drama film produced and distributed by Goldwyn Pictures. The film is based on the story of the same name by O. Henry that was turned into a play by Channing Pollock starring Florence Reed. Frank Lloyd directed and stage actress Pauline Frederick starred. The film is now considered lost.', 'title': 'Roads of Destiny'}, {'body': 'During World War II the .50 BMG was primarily used in the M2 Browning machine gun, in both its \"light barrel\" aircraft mount version and the \"heavy barrel\" (HB) version on ground vehicles, for anti-aircraft purposes. An upgraded variant of the M2 Browning HB machine gun used during World War II is still in use today. Since the mid-1950s, some armored personnel carriers and utility vehicles have been made to withstand 12.7\\xa0mm machine gun fire, restricting the destructive capability of the M2. It still has more penetrating power than lighter weapons such as general-purpose machine guns, though it is significantly heavier and more cumbersome to transport. Its range and accuracy, however, are superior to light machine guns when fixed on tripods, and it has not been replaced as the standard caliber for Western vehicle-mounted machine guns (Soviet and CIS armored vehicles mount 12.7×108mm NSVs, which are ballistically similar to .50 BMGs).', 'id': '6', 'is_supporting': False, 'text': '# .50 BMG\\nDuring World War II the .50 BMG was primarily used in the M2 Browning machine gun, in both its \"light barrel\" aircraft mount version and the \"heavy barrel\" (HB) version on ground vehicles, for anti-aircraft purposes. An upgraded variant of the M2 Browning HB machine gun used during World War II is still in use today. Since the mid-1950s, some armored personnel carriers and utility vehicles have been made to withstand 12.7\\xa0mm machine gun fire, restricting the destructive capability of the M2. It still has more penetrating power than lighter weapons such as general-purpose machine guns, though it is significantly heavier and more cumbersome to transport. Its range and accuracy, however, are superior to light machine guns when fixed on tripods, and it has not been replaced as the standard caliber for Western vehicle-mounted machine guns (Soviet and CIS armored vehicles mount 12.7×108mm NSVs, which are ballistically similar to .50 BMGs).', 'title': '.50 BMG'}, {'body': '\"You Want This\" is a song by American singer Janet Jackson from her fifth studio album, \"Janet\" (1993). Released as the album\\'s seventh single (sixth and final in the U.S.) in October 1994, the track was written and produced by Jackson and Jimmy Jam and Terry Lewis. The single version, also used in the music video, featured an additional rap verse from MC Lyte. The song was listed in the \"Rock Song Index: The 7500 Most Important Songs for the Rock and Roll Era\" (2005) by Bruce Pollock.', 'id': '7', 'is_supporting': False, 'text': '# You Want This\\n\"You Want This\" is a song by American singer Janet Jackson from her fifth studio album, \"Janet\" (1993). Released as the album\\'s seventh single (sixth and final in the U.S.) in October 1994, the track was written and produced by Jackson and Jimmy Jam and Terry Lewis. The single version, also used in the music video, featured an additional rap verse from MC Lyte. The song was listed in the \"Rock Song Index: The 7500 Most Important Songs for the Rock and Roll Era\" (2005) by Bruce Pollock.', 'title': 'You Want This'}, {'body': 'The first several years of the 20th century were a period of confusion and transition in US naval strategy, tactics, and ship design. The \"Mississippi\" class, along with the preceding , were designed based on lessons learned in the Spanish–American War, but while they were under construction, the Russo-Japanese War, war games, and experimentation demonstrated new priorities and concepts which would influence future designs. This was also a period where rapid development of techniques and training in the use of large guns made the inclusion of rapid-fire intermediate and secondary weapons unnecessary. Future US designs would reduce the confusing array of guns sizes in predreadnought battleships and rely on one gun size for the main armament, the \"all-big-gun\" concept, along with many small guns of a uniform caliber to combat small vessels in close proximity.', 'id': '8', 'is_supporting': False, 'text': '# Mississippi-class battleship\\nThe first several years of the 20th century were a period of confusion and transition in US naval strategy, tactics, and ship design. The \"Mississippi\" class, along with the preceding , were designed based on lessons learned in the Spanish–American War, but while they were under construction, the Russo-Japanese War, war games, and experimentation demonstrated new priorities and concepts which would influence future designs. This was also a period where rapid development of techniques and training in the use of large guns made the inclusion of rapid-fire intermediate and secondary weapons unnecessary. Future US designs would reduce the confusing array of guns sizes in predreadnought battleships and rely on one gun size for the main armament, the \"all-big-gun\" concept, along with many small guns of a uniform caliber to combat small vessels in close proximity.', 'title': 'Mississippi-class battleship'}, {'body': \"The song plays during the end credits of the films Full Metal Jacket and The Devil's Advocate. In TV, it was used as the opening theme song to the series Tour of Duty and for the end credits to part five of The Vietnam War documentary series. It was featured in the Call of Duty: Black Ops III and The Mummy trailers. The Pittsburgh Pirates of Major League Baseball use the song as part of their ``Black Out ''promotions. An orchestral arrangement of the song has been used in multiple episodes of the TV series Westworld. R&B singer Ciara would later cover the song for the soundtrack of the 2015 film The Last Witch Hunter.\", 'id': '9', 'is_supporting': False, 'text': \"# Paint It Black\\nThe song plays during the end credits of the films Full Metal Jacket and The Devil's Advocate. In TV, it was used as the opening theme song to the series Tour of Duty and for the end credits to part five of The Vietnam War documentary series. It was featured in the Call of Duty: Black Ops III and The Mummy trailers. The Pittsburgh Pirates of Major League Baseball use the song as part of their ``Black Out ''promotions. An orchestral arrangement of the song has been used in multiple episodes of the TV series Westworld. R&B singer Ciara would later cover the song for the soundtrack of the 2015 film The Last Witch Hunter.\", 'title': 'Paint It Black'}, {'body': 'The BL 18-inch Mk I naval gun was a breech-loading naval gun used by the Royal Navy during World War I. It was the largest and heaviest gun ever used by the British. Only the Second-World-War Japanese 40 cm/45 Type 94 had a larger calibre, , but the British shell was heavier. The gun was a scaled-up version of the BL 15 inch Mk I naval gun and was developed to equip the \"large light cruiser\" (a form of battlecruiser) . Three guns were built, but they did not see combat with \"Furious\", before they were removed from her and transferred to the s and for coast bombardment duties. Only 85 rounds were fired in combat operations before the war ended. All three were removed from service in 1920 and served as proving guns for cordite tests. Two were scrapped in 1933 and the last one survived until it was scrapped in 1947.', 'id': '10', 'is_supporting': False, 'text': '# BL 18-inch Mk I naval gun\\nThe BL 18-inch Mk I naval gun was a breech-loading naval gun used by the Royal Navy during World War I. It was the largest and heaviest gun ever used by the British. Only the Second-World-War Japanese 40 cm/45 Type 94 had a larger calibre, , but the British shell was heavier. The gun was a scaled-up version of the BL 15 inch Mk I naval gun and was developed to equip the \"large light cruiser\" (a form of battlecruiser) . Three guns were built, but they did not see combat with \"Furious\", before they were removed from her and transferred to the s and for coast bombardment duties. Only 85 rounds were fired in combat operations before the war ended. All three were removed from service in 1920 and served as proving guns for cordite tests. Two were scrapped in 1933 and the last one survived until it was scrapped in 1947.', 'title': 'BL 18-inch Mk I naval gun'}, {'body': 'The QF 3-pounder Hotchkiss or in French use Canon Hotchkiss à tir rapide de 47\\xa0mm were a family of long-lived light naval guns introduced in 1886 to defend against new, small and fast vessels such as torpedo boats and later submarines. There were many variants produced, often under license which ranged in length from 32 to 50 calibers but 40 caliber was the most common version. They were widely used by the navies of a number of nations and often used by both sides in a conflict. They were also used ashore as coastal defense guns and later as an anti-aircraft gun, whether on improvised or specialized HA/LA mounts.', 'id': '11', 'is_supporting': False, 'text': '# QF 3-pounder Hotchkiss\\nThe QF 3-pounder Hotchkiss or in French use Canon Hotchkiss à tir rapide de 47\\xa0mm were a family of long-lived light naval guns introduced in 1886 to defend against new, small and fast vessels such as torpedo boats and later submarines. There were many variants produced, often under license which ranged in length from 32 to 50 calibers but 40 caliber was the most common version. They were widely used by the navies of a number of nations and often used by both sides in a conflict. They were also used ashore as coastal defense guns and later as an anti-aircraft gun, whether on improvised or specialized HA/LA mounts.', 'title': 'QF 3-pounder Hotchkiss'}, {'body': \"As of December 2014, the US Filet - O - Fish contains a battered, fried fish fillet made from Alaska pollock. In the Republic of Ireland either hoki or Alaska pollock may be served. In New Zealand and the United Kingdom Filet - O - Fish contains hoki instead of Alaska pollock. McDonald's Canada, United States, United Kingdom, Australia, New Zealand, Portugal, Czech Republic, The Netherlands and Hong Kong use a half slice of cheese in each Filet - O - Fish sandwich.\", 'id': '12', 'is_supporting': False, 'text': \"# Filet-O-Fish\\nAs of December 2014, the US Filet - O - Fish contains a battered, fried fish fillet made from Alaska pollock. In the Republic of Ireland either hoki or Alaska pollock may be served. In New Zealand and the United Kingdom Filet - O - Fish contains hoki instead of Alaska pollock. McDonald's Canada, United States, United Kingdom, Australia, New Zealand, Portugal, Czech Republic, The Netherlands and Hong Kong use a half slice of cheese in each Filet - O - Fish sandwich.\", 'title': 'Filet-O-Fish'}, {'body': 'Old Gun Mill, also referred to as \"Colt Gun Mill\", is a notable historic mill in Paterson, New Jersey where the Colt revolver was first produced in the 1830s, and where John Ryle produced and manufactured silk for the first time in the United States. As of 2008, the mill is in ruins near the banks of the Passaic Falls in Paterson but efforts to save this historic structure are still being attempted.', 'id': '13', 'is_supporting': False, 'text': '# Old Gun Mill\\nOld Gun Mill, also referred to as \"Colt Gun Mill\", is a notable historic mill in Paterson, New Jersey where the Colt revolver was first produced in the 1830s, and where John Ryle produced and manufactured silk for the first time in the United States. As of 2008, the mill is in ruins near the banks of the Passaic Falls in Paterson but efforts to save this historic structure are still being attempted.', 'title': 'Old Gun Mill'}, {'body': \"After the Dambusters raid in 1943 an entirely new system was developed that was required to knock down any low-flying aircraft with a single hit. The first attempt to produce such a system used a 50 mm gun, but this proved inaccurate and a new 55 mm gun replaced it. The system used a centralised control system including both search and targeting radar, which calculated the aim point for the guns after considering windage and ballistics, and then sent electrical commands to the guns, which used hydraulics to point themselves at high speeds. Operators simply fed the guns and selected the targets. This system, modern even by today's standards, was in late development when the war ended.\", 'id': '14', 'is_supporting': False, 'text': \"# Anti-aircraft warfare\\nAfter the Dambusters raid in 1943 an entirely new system was developed that was required to knock down any low-flying aircraft with a single hit. The first attempt to produce such a system used a 50 mm gun, but this proved inaccurate and a new 55 mm gun replaced it. The system used a centralised control system including both search and targeting radar, which calculated the aim point for the guns after considering windage and ballistics, and then sent electrical commands to the guns, which used hydraulics to point themselves at high speeds. Operators simply fed the guns and selected the targets. This system, modern even by today's standards, was in late development when the war ended.\", 'title': 'Anti-aircraft warfare'}, {'body': 'The Canon de 75 mle GP II was a field gun used by Belgium during World War II. Cockerill mounted lengthened Canon de 75 mle TR barrels on ex-German 7.7 cm FK 16 gun carriages received as reparations after World War I. After 1940, the Wehrmacht designated captured guns as the 7.5\\xa0cm FK 234(b) and used them to equip occupation units in Belgium.', 'id': '15', 'is_supporting': False, 'text': '# Canon de 75 mle GP II\\nThe Canon de 75 mle GP II was a field gun used by Belgium during World War II. Cockerill mounted lengthened Canon de 75 mle TR barrels on ex-German 7.7 cm FK 16 gun carriages received as reparations after World War I. After 1940, the Wehrmacht designated captured guns as the 7.5\\xa0cm FK 234(b) and used them to equip occupation units in Belgium.', 'title': 'Canon de 75 mle GP II'}, {'body': 'The 3-inch gun M1917 was a World War I-era US-made anti-aircraft gun based on the 3-inch gun M1903. It was designed for a fixed mounting and remained in service, primarily at Coast Artillery installations, through World War II. It was determined that the weapon was too heavy and had too much recoil for mobile mountings, so a new weapon based on the lighter and less powerful 3-inch gun M1898 was developed, designated the 3-inch Gun M1918. This was the standard US anti-aircraft gun until replaced by the 3-inch gun M3 in 1930. There is some controversy as to whether any seacoast guns were actually converted into anti-aircraft guns in the development of these weapons.', 'id': '16', 'is_supporting': False, 'text': '# 3-inch gun M1903\\nThe 3-inch gun M1917 was a World War I-era US-made anti-aircraft gun based on the 3-inch gun M1903. It was designed for a fixed mounting and remained in service, primarily at Coast Artillery installations, through World War II. It was determined that the weapon was too heavy and had too much recoil for mobile mountings, so a new weapon based on the lighter and less powerful 3-inch gun M1898 was developed, designated the 3-inch Gun M1918. This was the standard US anti-aircraft gun until replaced by the 3-inch gun M3 in 1930. There is some controversy as to whether any seacoast guns were actually converted into anti-aircraft guns in the development of these weapons.', 'title': '3-inch gun M1903'}, {'body': \"In 1925 the British adopted a new instrument developed by Vickers. It was a mechanical analogue computer Predictor AA No 1. Given the target height its operators tracked the target and the predictor produced bearing, quadrant elevation and fuse setting. These were passed electrically to the guns where they were displayed on repeater dials to the layers who 'matched pointers' (target data and the gun's actual data) to lay the guns. This system of repeater electrical dials built on the arrangements introduced by British coast artillery in the 1880s, and coast artillery was the background of many AA officers. Similar systems were adopted in other countries and for example the later Sperry device, designated M3A3 in the US was also used by Britain as the Predictor AA No 2. Height finders were also increasing in size, in Britain, the World War I Barr & Stroud UB 2 (7 feet optical base) was replaced by the UB 7 (9 feet optical base) and the UB 10 (18 feet optical base, only used on static AA sites). Goertz in Germany and Levallois in France produced 5 metre instruments. However, in most countries the main effort in HAA guns until the mid-1930s was improving existing ones, although various new designs were on drawing boards.\", 'id': '17', 'is_supporting': False, 'text': \"# Anti-aircraft warfare\\nIn 1925 the British adopted a new instrument developed by Vickers. It was a mechanical analogue computer Predictor AA No 1. Given the target height its operators tracked the target and the predictor produced bearing, quadrant elevation and fuse setting. These were passed electrically to the guns where they were displayed on repeater dials to the layers who 'matched pointers' (target data and the gun's actual data) to lay the guns. This system of repeater electrical dials built on the arrangements introduced by British coast artillery in the 1880s, and coast artillery was the background of many AA officers. Similar systems were adopted in other countries and for example the later Sperry device, designated M3A3 in the US was also used by Britain as the Predictor AA No 2. Height finders were also increasing in size, in Britain, the World War I Barr & Stroud UB 2 (7 feet optical base) was replaced by the UB 7 (9 feet optical base) and the UB 10 (18 feet optical base, only used on static AA sites). Goertz in Germany and Levallois in France produced 5 metre instruments. However, in most countries the main effort in HAA guns until the mid-1930s was improving existing ones, although various new designs were on drawing boards.\", 'title': 'Anti-aircraft warfare'}, {'body': 'The LeMat revolver was a. 42 or. 36 caliber cap & ball black powder revolver invented by Jean Alexandre LeMat of New Orleans, which featured an unusual secondary 20 gauge smooth - bore barrel capable of firing buckshot. It saw service with the armed forces of the Confederate States of America during the American Civil War of 1861 -- 65 and the Army of the Government of National Defense during the Franco - Prussian War.', 'id': '18', 'is_supporting': True, 'text': '# LeMat Revolver\\nThe LeMat revolver was a. 42 or. 36 caliber cap & ball black powder revolver invented by Jean Alexandre LeMat of New Orleans, which featured an unusual secondary 20 gauge smooth - bore barrel capable of firing buckshot. It saw service with the armed forces of the Confederate States of America during the American Civil War of 1861 -- 65 and the Army of the Government of National Defense during the Franco - Prussian War.', 'title': 'LeMat Revolver'}, {'body': \"However, the problem of deflection settings — 'aim-off' — required knowing the rate of change in the target's position. Both France and UK introduced tachymetric devices to track targets and produce vertical and horizontal deflection angles. The French Brocq system was electrical, the operator entered the target range and had displays at guns; it was used with their 75 mm. The British Wilson-Dalby gun director used a pair of trackers and mechanical tachymetry; the operator entered the fuse length, and deflection angles were read from the instruments.\", 'id': '19', 'is_supporting': False, 'text': \"# Anti-aircraft warfare\\nHowever, the problem of deflection settings — 'aim-off' — required knowing the rate of change in the target's position. Both France and UK introduced tachymetric devices to track targets and produce vertical and horizontal deflection angles. The French Brocq system was electrical, the operator entered the target range and had displays at guns; it was used with their 75 mm. The British Wilson-Dalby gun director used a pair of trackers and mechanical tachymetry; the operator entered the fuse length, and deflection angles were read from the instruments.\", 'title': 'Anti-aircraft warfare'}], 'id': '2hop__273020_57594', 'n_hops': 2, 'oai_tools': [{'type': 'function', 'function': {'name': 'retrieve_documents', 'description': 'Retrieve documents by the query. The results get better with more specific queries.', 'parameters': {'type': 'object', 'properties': {'query': {'type': 'string', 'description': 'Parameter `query` of type string.'}}, 'required': ['query']}}}, {'type': 'function', 'function': {'name': 'get_document', 'description': 'Get a document by its ID.', 'parameters': {'type': 'object', 'properties': {'doc_id': {'type': 'string', 'description': 'Parameter `doc_id` of type string.'}}, 'required': ['doc_id']}}}]}, 'responses': [ChatCompletion(id='chatcmpl-9eed687d8cd54e44a0bad8f844ede725', choices=[Choice(finish_reason='tool_calls', index=0, logprobs=None, message=ChatCompletionMessage(content='<think>\\n</think>\\n\\n', refusal=None, role='assistant', annotations=None, audio=None, function_call=None, tool_calls=[ChatCompletionMessageFunctionToolCall(id='chatcmpl-tool-d7c93df3fbf94369906fd3df67d97dfe', function=Function(arguments='{\"query\": \"Pollack\\'s director in Westworld\"}', name='retrieve_documents'), type='function')], reasoning_content=None), stop_reason=None)], created=1756842506, model='willcb/Qwen3-8B', object='chat.completion', service_tier=None, system_fingerprint=None, usage=CompletionUsage(completion_tokens=30, prompt_tokens=483, total_tokens=513, completion_tokens_details=None, prompt_tokens_details=None), prompt_logprobs=None, kv_transfer_params=None), ChatCompletion(id='chatcmpl-6c7bb661e73e4e6384664e86d89e2bea', choices=[Choice(finish_reason='tool_calls', index=0, logprobs=None, message=ChatCompletionMessage(content='<think>\\n</think>\\n\\n', refusal=None, role='assistant', annotations=None, audio=None, function_call=None, tool_calls=[ChatCompletionMessageFunctionToolCall(id='chatcmpl-tool-62a931aa0137491c90ab36525823b77f', function=Function(arguments='{\"query\": \"Westworld director\\'s gun\"}', name='retrieve_documents'), type='function')], reasoning_content=None), stop_reason=None)], created=1756842529, model='willcb/Qwen3-8B', object='chat.completion', service_tier=None, system_fingerprint=None, usage=CompletionUsage(completion_tokens=28, prompt_tokens=782, total_tokens=810, completion_tokens_details=None, prompt_tokens_details=None), prompt_logprobs=None, kv_transfer_params=None), ChatCompletion(id='chatcmpl-0996a5daa6e84889bd62ae93af6d4a93', choices=[Choice(finish_reason='stop', index=0, logprobs=None, message=ChatCompletionMessage(content='<think>\\nOkay, let\\'s see. The user is asking what gun was used by Pollack\\'s director in Westworld. Hmm. First, I need to figure out who the director of Westworld is. From the first document, the executive producers are Nolan, Joy, J.J. Abrams, etc. But the director might be different. Wait, the user mentioned \"Pollack\\'s director,\" so maybe there\\'s a character named Pollack in the show, and the director of the show is someone else?\\n\\nWait, the first document doesn\\'t mention the director\\'s name. The second document talks about a film called Pollock, which is about the artist Jackson Pollock. Maybe there\\'s confusion between the film and the TV series. The user might be mixing up the film Pollock with the TV series Westworld. \\n\\nIn the second document, the film Pollock\\'s director is Ed Harris, but that\\'s a film, not the TV series. The user is asking about Westworld\\'s director. The first document doesn\\'t mention the director\\'s name. Maybe I need to look for more specific information about the director of Westworld. \\n\\nWait, the user might be referring to a character in Westworld named Pollack, and the director of the show. But the first document doesn\\'t mention the director\\'s name. Maybe I need to check if there\\'s another document that mentions the director of Westworld. The second document is about the film Pollock, not the TV series. \\n\\nAlternatively, maybe the user is referring to a specific episode or character. The first document doesn\\'t mention any guns. The second document talks about a type of gun, the QF 3-pounder Hotchkiss, but that\\'s in a different context. \\n\\nWait, perhaps the user is confused. The TV series Westworld\\'s director is not mentioned in the provided documents. The documents mention executive producers but not the director. The second document is about a film, not the TV series. So there\\'s no information about the director of Westworld using a specific gun. \\n\\nTherefore, the answer might be that there\\'s no information provided about the director of Westworld using a specific gun. But the user might have intended to ask about the film Pollock\\'s director, Ed Harris, but that\\'s not clear. Since the documents don\\'t mention the director of Westworld using a gun, the answer is not available in the provided information.\\n</think>\\n\\n</think>\\n\\n</think>\\n\\n<answer>\\nNo information\\n</answer>', refusal=None, role='assistant', annotations=None, audio=None, function_call=None, tool_calls=[], reasoning_content=None), stop_reason=None)], created=1756842543, model='willcb/Qwen3-8B', object='chat.completion', service_tier=None, system_fingerprint=None, usage=CompletionUsage(completion_tokens=505, prompt_tokens=1159, total_tokens=1664, completion_tokens_details=None, prompt_tokens_details=None), prompt_logprobs=None, kv_transfer_params=None)], 'turn': 3}\n",
      "info\n",
      "{'answers': ['LeMat Revolver', 'LeMat revolver', 'lemat revolver'], 'docs': [{'body': \"Nolan and Joy serve as executive producers, along with J.J. Abrams, Jerry Weintraub, and Bryan Burk. The first season was broadcast between October 2 and December 4, 2016; it comprised ten episodes. In November 2016, HBO renewed the series for a ten - episode second season, which was broadcast from April 22 to June 24, 2018. Westworld's debut on HBO had the network's highest viewership ratings for a premiere since the first episode of True Detective in 2014. Moreover, the series ranks as the most - watched first season of any HBO original series. On May 1, 2018, Westworld was renewed for a third season.\", 'id': '0', 'is_supporting': False, 'text': \"# Westworld (TV series)\\nNolan and Joy serve as executive producers, along with J.J. Abrams, Jerry Weintraub, and Bryan Burk. The first season was broadcast between October 2 and December 4, 2016; it comprised ten episodes. In November 2016, HBO renewed the series for a ten - episode second season, which was broadcast from April 22 to June 24, 2018. Westworld's debut on HBO had the network's highest viewership ratings for a premiere since the first episode of True Detective in 2014. Moreover, the series ranks as the most - watched first season of any HBO original series. On May 1, 2018, Westworld was renewed for a third season.\", 'title': 'Westworld (TV series)'}, {'body': 'Pre-dreadnoughts carried guns of several different calibres, for different roles in ship-to-ship combat. The main armament was four heavy guns, mounted in two centre-line turrets fore and aft. Very few pre-dreadnoughts deviated from this arrangement. These guns were slow-firing, and initially of limited accuracy; but they were the only guns heavy enough to penetrate the thick armour which protected the engines, magazines, and main guns of enemy battleships.The most common calibre for the main armament was 12-inch (305 mm), although some ships used smaller guns because they could attain higher rates of fire; British battleships from the Majestic class onwards carried this calibre, as did French ships from the Charlemagne class (laid down in 1894). Japan, importing most of its guns from Britain, used 12-inch guns. The United States used both 12-inch (305 mm) and 13-inch (330 mm) guns for most of the 1890s until the Maine class (not to be confused with the earlier Maine of Spanish–American War notoriety), laid down in 1899, after which the 12-inch gun was universal. The Russians used both 12 and 10-inch (254 mm) as their main armament; the Petropavlovsk class, Retvizan, Tsesarevich, and Borodino class had 12-inch (305 mm) main batteries while the Peresvet class  mounted 10-inch (254 mm) guns. The first German pre-dreadnought class used an 11-inch (279 mm) gun but decreased to a 9.4-inch (239 mm) gun for the two following classes and returned to 11-inch guns with the Braunschweig class.', 'id': '1', 'is_supporting': False, 'text': '# Pre-dreadnought battleship\\nPre-dreadnoughts carried guns of several different calibres, for different roles in ship-to-ship combat. The main armament was four heavy guns, mounted in two centre-line turrets fore and aft. Very few pre-dreadnoughts deviated from this arrangement. These guns were slow-firing, and initially of limited accuracy; but they were the only guns heavy enough to penetrate the thick armour which protected the engines, magazines, and main guns of enemy battleships.The most common calibre for the main armament was 12-inch (305 mm), although some ships used smaller guns because they could attain higher rates of fire; British battleships from the Majestic class onwards carried this calibre, as did French ships from the Charlemagne class (laid down in 1894). Japan, importing most of its guns from Britain, used 12-inch guns. The United States used both 12-inch (305 mm) and 13-inch (330 mm) guns for most of the 1890s until the Maine class (not to be confused with the earlier Maine of Spanish–American War notoriety), laid down in 1899, after which the 12-inch gun was universal. The Russians used both 12 and 10-inch (254 mm) as their main armament; the Petropavlovsk class, Retvizan, Tsesarevich, and Borodino class had 12-inch (305 mm) main batteries while the Peresvet class  mounted 10-inch (254 mm) guns. The first German pre-dreadnought class used an 11-inch (279 mm) gun but decreased to a 9.4-inch (239 mm) gun for the two following classes and returned to 11-inch guns with the Braunschweig class.', 'title': 'Pre-dreadnought battleship'}, {'body': 'The US ended World War I with two 3-inch AA guns and improvements were developed throughout the inter-war period. However, in 1924 work started on a new 105 mm static mounting AA gun, but only a few were produced by the mid-1930s because by this time work had started on the 90 mm AA gun, with mobile carriages and static mountings able to engage air, sea and ground targets. The M1 version was approved in 1940. During the 1920s there was some work on a 4.7-inch which lapsed, but revived in 1937, leading to a new gun in 1944.', 'id': '2', 'is_supporting': False, 'text': '# Anti-aircraft warfare\\nThe US ended World War I with two 3-inch AA guns and improvements were developed throughout the inter-war period. However, in 1924 work started on a new 105 mm static mounting AA gun, but only a few were produced by the mid-1930s because by this time work had started on the 90 mm AA gun, with mobile carriages and static mountings able to engage air, sea and ground targets. The M1 version was approved in 1940. During the 1920s there was some work on a 4.7-inch which lapsed, but revived in 1937, leading to a new gun in 1944.', 'title': 'Anti-aircraft warfare'}, {'body': 'Battle Clash is a mecha-themed light gun shooting game produced by Nintendo and Intelligent Systems and released for the Super Nintendo Entertainment System in 1992. The game supports the Super Nintendo\\'s light gun, the Super Scope. It was followed by \"\" during the following year.', 'id': '3', 'is_supporting': False, 'text': '# Battle Clash\\nBattle Clash is a mecha-themed light gun shooting game produced by Nintendo and Intelligent Systems and released for the Super Nintendo Entertainment System in 1992. The game supports the Super Nintendo\\'s light gun, the Super Scope. It was followed by \"\" during the following year.', 'title': 'Battle Clash'}, {'body': \"Marcia Gay Harden won the Academy Award for Best Supporting Actress for portraying Lee Krasner, Pollock's wife. Ed Harris received an Academy Award nomination for Best Actor for his portrayal of Pollock. The film was a long-term personal project for Harris based on his previous reading of Pollock's biography.Ed Harris’s father had noticed that he resembled Pollock.\", 'id': '4', 'is_supporting': True, 'text': \"# Pollock (film)\\nMarcia Gay Harden won the Academy Award for Best Supporting Actress for portraying Lee Krasner, Pollock's wife. Ed Harris received an Academy Award nomination for Best Actor for his portrayal of Pollock. The film was a long-term personal project for Harris based on his previous reading of Pollock's biography.Ed Harris’s father had noticed that he resembled Pollock.\", 'title': 'Pollock (film)'}, {'body': 'Roads of Destiny was a 1921 American silent drama film produced and distributed by Goldwyn Pictures. The film is based on the story of the same name by O. Henry that was turned into a play by Channing Pollock starring Florence Reed. Frank Lloyd directed and stage actress Pauline Frederick starred. The film is now considered lost.', 'id': '5', 'is_supporting': False, 'text': '# Roads of Destiny\\nRoads of Destiny was a 1921 American silent drama film produced and distributed by Goldwyn Pictures. The film is based on the story of the same name by O. Henry that was turned into a play by Channing Pollock starring Florence Reed. Frank Lloyd directed and stage actress Pauline Frederick starred. The film is now considered lost.', 'title': 'Roads of Destiny'}, {'body': 'During World War II the .50 BMG was primarily used in the M2 Browning machine gun, in both its \"light barrel\" aircraft mount version and the \"heavy barrel\" (HB) version on ground vehicles, for anti-aircraft purposes. An upgraded variant of the M2 Browning HB machine gun used during World War II is still in use today. Since the mid-1950s, some armored personnel carriers and utility vehicles have been made to withstand 12.7\\xa0mm machine gun fire, restricting the destructive capability of the M2. It still has more penetrating power than lighter weapons such as general-purpose machine guns, though it is significantly heavier and more cumbersome to transport. Its range and accuracy, however, are superior to light machine guns when fixed on tripods, and it has not been replaced as the standard caliber for Western vehicle-mounted machine guns (Soviet and CIS armored vehicles mount 12.7×108mm NSVs, which are ballistically similar to .50 BMGs).', 'id': '6', 'is_supporting': False, 'text': '# .50 BMG\\nDuring World War II the .50 BMG was primarily used in the M2 Browning machine gun, in both its \"light barrel\" aircraft mount version and the \"heavy barrel\" (HB) version on ground vehicles, for anti-aircraft purposes. An upgraded variant of the M2 Browning HB machine gun used during World War II is still in use today. Since the mid-1950s, some armored personnel carriers and utility vehicles have been made to withstand 12.7\\xa0mm machine gun fire, restricting the destructive capability of the M2. It still has more penetrating power than lighter weapons such as general-purpose machine guns, though it is significantly heavier and more cumbersome to transport. Its range and accuracy, however, are superior to light machine guns when fixed on tripods, and it has not been replaced as the standard caliber for Western vehicle-mounted machine guns (Soviet and CIS armored vehicles mount 12.7×108mm NSVs, which are ballistically similar to .50 BMGs).', 'title': '.50 BMG'}, {'body': '\"You Want This\" is a song by American singer Janet Jackson from her fifth studio album, \"Janet\" (1993). Released as the album\\'s seventh single (sixth and final in the U.S.) in October 1994, the track was written and produced by Jackson and Jimmy Jam and Terry Lewis. The single version, also used in the music video, featured an additional rap verse from MC Lyte. The song was listed in the \"Rock Song Index: The 7500 Most Important Songs for the Rock and Roll Era\" (2005) by Bruce Pollock.', 'id': '7', 'is_supporting': False, 'text': '# You Want This\\n\"You Want This\" is a song by American singer Janet Jackson from her fifth studio album, \"Janet\" (1993). Released as the album\\'s seventh single (sixth and final in the U.S.) in October 1994, the track was written and produced by Jackson and Jimmy Jam and Terry Lewis. The single version, also used in the music video, featured an additional rap verse from MC Lyte. The song was listed in the \"Rock Song Index: The 7500 Most Important Songs for the Rock and Roll Era\" (2005) by Bruce Pollock.', 'title': 'You Want This'}, {'body': 'The first several years of the 20th century were a period of confusion and transition in US naval strategy, tactics, and ship design. The \"Mississippi\" class, along with the preceding , were designed based on lessons learned in the Spanish–American War, but while they were under construction, the Russo-Japanese War, war games, and experimentation demonstrated new priorities and concepts which would influence future designs. This was also a period where rapid development of techniques and training in the use of large guns made the inclusion of rapid-fire intermediate and secondary weapons unnecessary. Future US designs would reduce the confusing array of guns sizes in predreadnought battleships and rely on one gun size for the main armament, the \"all-big-gun\" concept, along with many small guns of a uniform caliber to combat small vessels in close proximity.', 'id': '8', 'is_supporting': False, 'text': '# Mississippi-class battleship\\nThe first several years of the 20th century were a period of confusion and transition in US naval strategy, tactics, and ship design. The \"Mississippi\" class, along with the preceding , were designed based on lessons learned in the Spanish–American War, but while they were under construction, the Russo-Japanese War, war games, and experimentation demonstrated new priorities and concepts which would influence future designs. This was also a period where rapid development of techniques and training in the use of large guns made the inclusion of rapid-fire intermediate and secondary weapons unnecessary. Future US designs would reduce the confusing array of guns sizes in predreadnought battleships and rely on one gun size for the main armament, the \"all-big-gun\" concept, along with many small guns of a uniform caliber to combat small vessels in close proximity.', 'title': 'Mississippi-class battleship'}, {'body': \"The song plays during the end credits of the films Full Metal Jacket and The Devil's Advocate. In TV, it was used as the opening theme song to the series Tour of Duty and for the end credits to part five of The Vietnam War documentary series. It was featured in the Call of Duty: Black Ops III and The Mummy trailers. The Pittsburgh Pirates of Major League Baseball use the song as part of their ``Black Out ''promotions. An orchestral arrangement of the song has been used in multiple episodes of the TV series Westworld. R&B singer Ciara would later cover the song for the soundtrack of the 2015 film The Last Witch Hunter.\", 'id': '9', 'is_supporting': False, 'text': \"# Paint It Black\\nThe song plays during the end credits of the films Full Metal Jacket and The Devil's Advocate. In TV, it was used as the opening theme song to the series Tour of Duty and for the end credits to part five of The Vietnam War documentary series. It was featured in the Call of Duty: Black Ops III and The Mummy trailers. The Pittsburgh Pirates of Major League Baseball use the song as part of their ``Black Out ''promotions. An orchestral arrangement of the song has been used in multiple episodes of the TV series Westworld. R&B singer Ciara would later cover the song for the soundtrack of the 2015 film The Last Witch Hunter.\", 'title': 'Paint It Black'}, {'body': 'The BL 18-inch Mk I naval gun was a breech-loading naval gun used by the Royal Navy during World War I. It was the largest and heaviest gun ever used by the British. Only the Second-World-War Japanese 40 cm/45 Type 94 had a larger calibre, , but the British shell was heavier. The gun was a scaled-up version of the BL 15 inch Mk I naval gun and was developed to equip the \"large light cruiser\" (a form of battlecruiser) . Three guns were built, but they did not see combat with \"Furious\", before they were removed from her and transferred to the s and for coast bombardment duties. Only 85 rounds were fired in combat operations before the war ended. All three were removed from service in 1920 and served as proving guns for cordite tests. Two were scrapped in 1933 and the last one survived until it was scrapped in 1947.', 'id': '10', 'is_supporting': False, 'text': '# BL 18-inch Mk I naval gun\\nThe BL 18-inch Mk I naval gun was a breech-loading naval gun used by the Royal Navy during World War I. It was the largest and heaviest gun ever used by the British. Only the Second-World-War Japanese 40 cm/45 Type 94 had a larger calibre, , but the British shell was heavier. The gun was a scaled-up version of the BL 15 inch Mk I naval gun and was developed to equip the \"large light cruiser\" (a form of battlecruiser) . Three guns were built, but they did not see combat with \"Furious\", before they were removed from her and transferred to the s and for coast bombardment duties. Only 85 rounds were fired in combat operations before the war ended. All three were removed from service in 1920 and served as proving guns for cordite tests. Two were scrapped in 1933 and the last one survived until it was scrapped in 1947.', 'title': 'BL 18-inch Mk I naval gun'}, {'body': 'The QF 3-pounder Hotchkiss or in French use Canon Hotchkiss à tir rapide de 47\\xa0mm were a family of long-lived light naval guns introduced in 1886 to defend against new, small and fast vessels such as torpedo boats and later submarines. There were many variants produced, often under license which ranged in length from 32 to 50 calibers but 40 caliber was the most common version. They were widely used by the navies of a number of nations and often used by both sides in a conflict. They were also used ashore as coastal defense guns and later as an anti-aircraft gun, whether on improvised or specialized HA/LA mounts.', 'id': '11', 'is_supporting': False, 'text': '# QF 3-pounder Hotchkiss\\nThe QF 3-pounder Hotchkiss or in French use Canon Hotchkiss à tir rapide de 47\\xa0mm were a family of long-lived light naval guns introduced in 1886 to defend against new, small and fast vessels such as torpedo boats and later submarines. There were many variants produced, often under license which ranged in length from 32 to 50 calibers but 40 caliber was the most common version. They were widely used by the navies of a number of nations and often used by both sides in a conflict. They were also used ashore as coastal defense guns and later as an anti-aircraft gun, whether on improvised or specialized HA/LA mounts.', 'title': 'QF 3-pounder Hotchkiss'}, {'body': \"As of December 2014, the US Filet - O - Fish contains a battered, fried fish fillet made from Alaska pollock. In the Republic of Ireland either hoki or Alaska pollock may be served. In New Zealand and the United Kingdom Filet - O - Fish contains hoki instead of Alaska pollock. McDonald's Canada, United States, United Kingdom, Australia, New Zealand, Portugal, Czech Republic, The Netherlands and Hong Kong use a half slice of cheese in each Filet - O - Fish sandwich.\", 'id': '12', 'is_supporting': False, 'text': \"# Filet-O-Fish\\nAs of December 2014, the US Filet - O - Fish contains a battered, fried fish fillet made from Alaska pollock. In the Republic of Ireland either hoki or Alaska pollock may be served. In New Zealand and the United Kingdom Filet - O - Fish contains hoki instead of Alaska pollock. McDonald's Canada, United States, United Kingdom, Australia, New Zealand, Portugal, Czech Republic, The Netherlands and Hong Kong use a half slice of cheese in each Filet - O - Fish sandwich.\", 'title': 'Filet-O-Fish'}, {'body': 'Old Gun Mill, also referred to as \"Colt Gun Mill\", is a notable historic mill in Paterson, New Jersey where the Colt revolver was first produced in the 1830s, and where John Ryle produced and manufactured silk for the first time in the United States. As of 2008, the mill is in ruins near the banks of the Passaic Falls in Paterson but efforts to save this historic structure are still being attempted.', 'id': '13', 'is_supporting': False, 'text': '# Old Gun Mill\\nOld Gun Mill, also referred to as \"Colt Gun Mill\", is a notable historic mill in Paterson, New Jersey where the Colt revolver was first produced in the 1830s, and where John Ryle produced and manufactured silk for the first time in the United States. As of 2008, the mill is in ruins near the banks of the Passaic Falls in Paterson but efforts to save this historic structure are still being attempted.', 'title': 'Old Gun Mill'}, {'body': \"After the Dambusters raid in 1943 an entirely new system was developed that was required to knock down any low-flying aircraft with a single hit. The first attempt to produce such a system used a 50 mm gun, but this proved inaccurate and a new 55 mm gun replaced it. The system used a centralised control system including both search and targeting radar, which calculated the aim point for the guns after considering windage and ballistics, and then sent electrical commands to the guns, which used hydraulics to point themselves at high speeds. Operators simply fed the guns and selected the targets. This system, modern even by today's standards, was in late development when the war ended.\", 'id': '14', 'is_supporting': False, 'text': \"# Anti-aircraft warfare\\nAfter the Dambusters raid in 1943 an entirely new system was developed that was required to knock down any low-flying aircraft with a single hit. The first attempt to produce such a system used a 50 mm gun, but this proved inaccurate and a new 55 mm gun replaced it. The system used a centralised control system including both search and targeting radar, which calculated the aim point for the guns after considering windage and ballistics, and then sent electrical commands to the guns, which used hydraulics to point themselves at high speeds. Operators simply fed the guns and selected the targets. This system, modern even by today's standards, was in late development when the war ended.\", 'title': 'Anti-aircraft warfare'}, {'body': 'The Canon de 75 mle GP II was a field gun used by Belgium during World War II. Cockerill mounted lengthened Canon de 75 mle TR barrels on ex-German 7.7 cm FK 16 gun carriages received as reparations after World War I. After 1940, the Wehrmacht designated captured guns as the 7.5\\xa0cm FK 234(b) and used them to equip occupation units in Belgium.', 'id': '15', 'is_supporting': False, 'text': '# Canon de 75 mle GP II\\nThe Canon de 75 mle GP II was a field gun used by Belgium during World War II. Cockerill mounted lengthened Canon de 75 mle TR barrels on ex-German 7.7 cm FK 16 gun carriages received as reparations after World War I. After 1940, the Wehrmacht designated captured guns as the 7.5\\xa0cm FK 234(b) and used them to equip occupation units in Belgium.', 'title': 'Canon de 75 mle GP II'}, {'body': 'The 3-inch gun M1917 was a World War I-era US-made anti-aircraft gun based on the 3-inch gun M1903. It was designed for a fixed mounting and remained in service, primarily at Coast Artillery installations, through World War II. It was determined that the weapon was too heavy and had too much recoil for mobile mountings, so a new weapon based on the lighter and less powerful 3-inch gun M1898 was developed, designated the 3-inch Gun M1918. This was the standard US anti-aircraft gun until replaced by the 3-inch gun M3 in 1930. There is some controversy as to whether any seacoast guns were actually converted into anti-aircraft guns in the development of these weapons.', 'id': '16', 'is_supporting': False, 'text': '# 3-inch gun M1903\\nThe 3-inch gun M1917 was a World War I-era US-made anti-aircraft gun based on the 3-inch gun M1903. It was designed for a fixed mounting and remained in service, primarily at Coast Artillery installations, through World War II. It was determined that the weapon was too heavy and had too much recoil for mobile mountings, so a new weapon based on the lighter and less powerful 3-inch gun M1898 was developed, designated the 3-inch Gun M1918. This was the standard US anti-aircraft gun until replaced by the 3-inch gun M3 in 1930. There is some controversy as to whether any seacoast guns were actually converted into anti-aircraft guns in the development of these weapons.', 'title': '3-inch gun M1903'}, {'body': \"In 1925 the British adopted a new instrument developed by Vickers. It was a mechanical analogue computer Predictor AA No 1. Given the target height its operators tracked the target and the predictor produced bearing, quadrant elevation and fuse setting. These were passed electrically to the guns where they were displayed on repeater dials to the layers who 'matched pointers' (target data and the gun's actual data) to lay the guns. This system of repeater electrical dials built on the arrangements introduced by British coast artillery in the 1880s, and coast artillery was the background of many AA officers. Similar systems were adopted in other countries and for example the later Sperry device, designated M3A3 in the US was also used by Britain as the Predictor AA No 2. Height finders were also increasing in size, in Britain, the World War I Barr & Stroud UB 2 (7 feet optical base) was replaced by the UB 7 (9 feet optical base) and the UB 10 (18 feet optical base, only used on static AA sites). Goertz in Germany and Levallois in France produced 5 metre instruments. However, in most countries the main effort in HAA guns until the mid-1930s was improving existing ones, although various new designs were on drawing boards.\", 'id': '17', 'is_supporting': False, 'text': \"# Anti-aircraft warfare\\nIn 1925 the British adopted a new instrument developed by Vickers. It was a mechanical analogue computer Predictor AA No 1. Given the target height its operators tracked the target and the predictor produced bearing, quadrant elevation and fuse setting. These were passed electrically to the guns where they were displayed on repeater dials to the layers who 'matched pointers' (target data and the gun's actual data) to lay the guns. This system of repeater electrical dials built on the arrangements introduced by British coast artillery in the 1880s, and coast artillery was the background of many AA officers. Similar systems were adopted in other countries and for example the later Sperry device, designated M3A3 in the US was also used by Britain as the Predictor AA No 2. Height finders were also increasing in size, in Britain, the World War I Barr & Stroud UB 2 (7 feet optical base) was replaced by the UB 7 (9 feet optical base) and the UB 10 (18 feet optical base, only used on static AA sites). Goertz in Germany and Levallois in France produced 5 metre instruments. However, in most countries the main effort in HAA guns until the mid-1930s was improving existing ones, although various new designs were on drawing boards.\", 'title': 'Anti-aircraft warfare'}, {'body': 'The LeMat revolver was a. 42 or. 36 caliber cap & ball black powder revolver invented by Jean Alexandre LeMat of New Orleans, which featured an unusual secondary 20 gauge smooth - bore barrel capable of firing buckshot. It saw service with the armed forces of the Confederate States of America during the American Civil War of 1861 -- 65 and the Army of the Government of National Defense during the Franco - Prussian War.', 'id': '18', 'is_supporting': True, 'text': '# LeMat Revolver\\nThe LeMat revolver was a. 42 or. 36 caliber cap & ball black powder revolver invented by Jean Alexandre LeMat of New Orleans, which featured an unusual secondary 20 gauge smooth - bore barrel capable of firing buckshot. It saw service with the armed forces of the Confederate States of America during the American Civil War of 1861 -- 65 and the Army of the Government of National Defense during the Franco - Prussian War.', 'title': 'LeMat Revolver'}, {'body': \"However, the problem of deflection settings — 'aim-off' — required knowing the rate of change in the target's position. Both France and UK introduced tachymetric devices to track targets and produce vertical and horizontal deflection angles. The French Brocq system was electrical, the operator entered the target range and had displays at guns; it was used with their 75 mm. The British Wilson-Dalby gun director used a pair of trackers and mechanical tachymetry; the operator entered the fuse length, and deflection angles were read from the instruments.\", 'id': '19', 'is_supporting': False, 'text': \"# Anti-aircraft warfare\\nHowever, the problem of deflection settings — 'aim-off' — required knowing the rate of change in the target's position. Both France and UK introduced tachymetric devices to track targets and produce vertical and horizontal deflection angles. The French Brocq system was electrical, the operator entered the target range and had displays at guns; it was used with their 75 mm. The British Wilson-Dalby gun director used a pair of trackers and mechanical tachymetry; the operator entered the fuse length, and deflection angles were read from the instruments.\", 'title': 'Anti-aircraft warfare'}], 'id': '2hop__273020_57594', 'n_hops': 2, 'oai_tools': [{'type': 'function', 'function': {'name': 'retrieve_documents', 'description': 'Retrieve documents by the query. The results get better with more specific queries.', 'parameters': {'type': 'object', 'properties': {'query': {'type': 'string', 'description': 'Parameter `query` of type string.'}}, 'required': ['query']}}}, {'type': 'function', 'function': {'name': 'get_document', 'description': 'Get a document by its ID.', 'parameters': {'type': 'object', 'properties': {'doc_id': {'type': 'string', 'description': 'Parameter `doc_id` of type string.'}}, 'required': ['doc_id']}}}]}\n",
      "task\n",
      "default\n",
      "reward\n",
      "0.175\n",
      "metrics\n",
      "<class 'dict'>\n"
     ]
    },
    {
     "name": "stderr",
     "output_type": "stream",
     "text": [
      "/tmp/ipykernel_2596771/3696243233.py:3: PydanticDeprecatedSince20: The `__fields__` attribute is deprecated, use `model_fields` instead. Deprecated in Pydantic V2.0 to be removed in V3.0. See Pydantic V2 Migration Guide at https://errors.pydantic.dev/2.11/migration/\n",
      "  for field in GenerateOutputs.__fields__.keys():\n"
     ]
    }
   ],
   "source": [
    "from verifiers.types import GenerateOutputs\n",
    "\n",
    "for field in GenerateOutputs.__fields__.keys():\n",
    "    print(field)\n",
    "\n",
    "    _type = type(getattr(results, field))\n",
    "    if _type == list:\n",
    "        print(getattr(results, field)[0])\n",
    "    else:\n",
    "        print(type(getattr(results, field)))"
   ]
  },
  {
   "cell_type": "code",
   "execution_count": 7,
   "id": "04618244",
   "metadata": {},
   "outputs": [
    {
     "data": {
      "text/plain": [
       "Dataset({\n",
       "    features: ['prompt', 'completion', 'answer', 'task', 'reward', 'info', 'exact_match_reward', 'f1_reward', 'retrieval_recall_reward', 'retrieval_precision_reward', 'citation_reward', 'format_reward', 'combined_reward'],\n",
       "    num_rows: 100\n",
       "})"
      ]
     },
     "execution_count": 7,
     "metadata": {},
     "output_type": "execute_result"
    }
   ],
   "source": [
    "ds = vf_env.make_dataset(results)\n",
    "ds"
   ]
  },
  {
   "cell_type": "code",
   "execution_count": 8,
   "id": "205448ce",
   "metadata": {},
   "outputs": [
    {
     "data": {
      "application/vnd.jupyter.widget-view+json": {
       "model_id": "f345963f730a4104b6d33fe8d9103962",
       "version_major": 2,
       "version_minor": 0
      },
      "text/plain": [
       "Creating json from Arrow format:   0%|          | 0/1 [00:00<?, ?ba/s]"
      ]
     },
     "metadata": {},
     "output_type": "display_data"
    },
    {
     "data": {
      "text/plain": [
       "2944652"
      ]
     },
     "execution_count": 8,
     "metadata": {},
     "output_type": "execute_result"
    }
   ],
   "source": [
    "ds.to_json(\"../outputs/musique-eval-results.jsonl\", orient=\"records\", lines=True)"
   ]
  },
  {
   "cell_type": "code",
   "execution_count": 9,
   "id": "810fa60f",
   "metadata": {},
   "outputs": [
    {
     "data": {
      "text/html": [
       "<div>\n",
       "<style scoped>\n",
       "    .dataframe tbody tr th:only-of-type {\n",
       "        vertical-align: middle;\n",
       "    }\n",
       "\n",
       "    .dataframe tbody tr th {\n",
       "        vertical-align: top;\n",
       "    }\n",
       "\n",
       "    .dataframe thead th {\n",
       "        text-align: right;\n",
       "    }\n",
       "</style>\n",
       "<table border=\"1\" class=\"dataframe\">\n",
       "  <thead>\n",
       "    <tr style=\"text-align: right;\">\n",
       "      <th></th>\n",
       "      <th>prompt</th>\n",
       "      <th>completion</th>\n",
       "      <th>answer</th>\n",
       "      <th>task</th>\n",
       "      <th>reward</th>\n",
       "      <th>info</th>\n",
       "      <th>exact_match_reward</th>\n",
       "      <th>f1_reward</th>\n",
       "      <th>retrieval_recall_reward</th>\n",
       "      <th>retrieval_precision_reward</th>\n",
       "      <th>citation_reward</th>\n",
       "      <th>format_reward</th>\n",
       "      <th>combined_reward</th>\n",
       "    </tr>\n",
       "  </thead>\n",
       "  <tbody>\n",
       "    <tr>\n",
       "      <th>0</th>\n",
       "      <td>[{'content': 'Answer the question based on the...</td>\n",
       "      <td>[{'content': '&lt;think&gt;\n",
       "&lt;/think&gt;\n",
       "\n",
       "', 'role': 'as...</td>\n",
       "      <td>LeMat revolver</td>\n",
       "      <td>default</td>\n",
       "      <td>0.175000</td>\n",
       "      <td>{'answers': ['LeMat Revolver', 'LeMat revolver...</td>\n",
       "      <td>0.0</td>\n",
       "      <td>0.0</td>\n",
       "      <td>0.5</td>\n",
       "      <td>0.333333</td>\n",
       "      <td>0.0</td>\n",
       "      <td>0.666667</td>\n",
       "      <td>0.175000</td>\n",
       "    </tr>\n",
       "    <tr>\n",
       "      <th>1</th>\n",
       "      <td>[{'content': 'Answer the question based on the...</td>\n",
       "      <td>[{'content': '&lt;think&gt;\n",
       "Okay, let's try to figur...</td>\n",
       "      <td>Vitor Constâncio</td>\n",
       "      <td>default</td>\n",
       "      <td>0.008333</td>\n",
       "      <td>{'answers': ['vitor constâncio', 'Vitor Constâ...</td>\n",
       "      <td>0.0</td>\n",
       "      <td>0.0</td>\n",
       "      <td>0.0</td>\n",
       "      <td>0.000000</td>\n",
       "      <td>0.0</td>\n",
       "      <td>0.333333</td>\n",
       "      <td>0.008333</td>\n",
       "    </tr>\n",
       "    <tr>\n",
       "      <th>2</th>\n",
       "      <td>[{'content': 'Answer the question based on the...</td>\n",
       "      <td>[{'content': '&lt;think&gt;\n",
       "Okay, let's tackle this ...</td>\n",
       "      <td>45</td>\n",
       "      <td>default</td>\n",
       "      <td>0.858333</td>\n",
       "      <td>{'answers': ['45'], 'docs': [{'body': 'Weber C...</td>\n",
       "      <td>1.0</td>\n",
       "      <td>1.0</td>\n",
       "      <td>1.0</td>\n",
       "      <td>0.333333</td>\n",
       "      <td>0.5</td>\n",
       "      <td>1.000000</td>\n",
       "      <td>0.858333</td>\n",
       "    </tr>\n",
       "    <tr>\n",
       "      <th>3</th>\n",
       "      <td>[{'content': 'Answer the question based on the...</td>\n",
       "      <td>[{'content': '&lt;think&gt;\n",
       "Okay, so the user is ask...</td>\n",
       "      <td>three different relationships he had in the past</td>\n",
       "      <td>default</td>\n",
       "      <td>0.008333</td>\n",
       "      <td>{'answers': ['three different relationships he...</td>\n",
       "      <td>0.0</td>\n",
       "      <td>0.0</td>\n",
       "      <td>0.0</td>\n",
       "      <td>0.000000</td>\n",
       "      <td>0.0</td>\n",
       "      <td>0.333333</td>\n",
       "      <td>0.008333</td>\n",
       "    </tr>\n",
       "    <tr>\n",
       "      <th>4</th>\n",
       "      <td>[{'content': 'Answer the question based on the...</td>\n",
       "      <td>[{'content': '&lt;think&gt;\n",
       "Okay, so the question is...</td>\n",
       "      <td>Michael Bublé</td>\n",
       "      <td>default</td>\n",
       "      <td>0.175000</td>\n",
       "      <td>{'answers': ['michael bublé', 'Michael Bublé']...</td>\n",
       "      <td>0.0</td>\n",
       "      <td>0.0</td>\n",
       "      <td>0.5</td>\n",
       "      <td>0.500000</td>\n",
       "      <td>0.0</td>\n",
       "      <td>0.000000</td>\n",
       "      <td>0.175000</td>\n",
       "    </tr>\n",
       "    <tr>\n",
       "      <th>...</th>\n",
       "      <td>...</td>\n",
       "      <td>...</td>\n",
       "      <td>...</td>\n",
       "      <td>...</td>\n",
       "      <td>...</td>\n",
       "      <td>...</td>\n",
       "      <td>...</td>\n",
       "      <td>...</td>\n",
       "      <td>...</td>\n",
       "      <td>...</td>\n",
       "      <td>...</td>\n",
       "      <td>...</td>\n",
       "      <td>...</td>\n",
       "    </tr>\n",
       "    <tr>\n",
       "      <th>95</th>\n",
       "      <td>[{'content': 'Answer the question based on the...</td>\n",
       "      <td>[{'content': '&lt;think&gt;\n",
       "Okay, let's try to figur...</td>\n",
       "      <td>two alliances</td>\n",
       "      <td>default</td>\n",
       "      <td>0.008333</td>\n",
       "      <td>{'answers': ['two alliances'], 'docs': [{'body...</td>\n",
       "      <td>0.0</td>\n",
       "      <td>0.0</td>\n",
       "      <td>0.0</td>\n",
       "      <td>0.000000</td>\n",
       "      <td>0.0</td>\n",
       "      <td>0.333333</td>\n",
       "      <td>0.008333</td>\n",
       "    </tr>\n",
       "    <tr>\n",
       "      <th>96</th>\n",
       "      <td>[{'content': 'Answer the question based on the...</td>\n",
       "      <td>[{'content': '&lt;think&gt;\n",
       "&lt;/think&gt;\n",
       "\n",
       "', 'role': 'as...</td>\n",
       "      <td>John Kukuzelis</td>\n",
       "      <td>default</td>\n",
       "      <td>0.750000</td>\n",
       "      <td>{'answers': ['John Kukuzelis', 'john kukuzelis...</td>\n",
       "      <td>1.0</td>\n",
       "      <td>1.0</td>\n",
       "      <td>0.5</td>\n",
       "      <td>0.500000</td>\n",
       "      <td>0.5</td>\n",
       "      <td>1.000000</td>\n",
       "      <td>0.750000</td>\n",
       "    </tr>\n",
       "    <tr>\n",
       "      <th>97</th>\n",
       "      <td>[{'content': 'Answer the question based on the...</td>\n",
       "      <td>[{'content': '&lt;think&gt;\n",
       "&lt;/think&gt;\n",
       "\n",
       "', 'role': 'as...</td>\n",
       "      <td>Vito Corleone</td>\n",
       "      <td>default</td>\n",
       "      <td>0.275000</td>\n",
       "      <td>{'answers': ['vito andolini', 'Vito Andolini',...</td>\n",
       "      <td>0.0</td>\n",
       "      <td>0.0</td>\n",
       "      <td>0.5</td>\n",
       "      <td>0.500000</td>\n",
       "      <td>0.5</td>\n",
       "      <td>1.000000</td>\n",
       "      <td>0.275000</td>\n",
       "    </tr>\n",
       "    <tr>\n",
       "      <th>98</th>\n",
       "      <td>[{'content': 'Answer the question based on the...</td>\n",
       "      <td>[{'content': '&lt;think&gt;\n",
       "&lt;/think&gt;\n",
       "\n",
       "', 'role': 'as...</td>\n",
       "      <td>The Île de la Cité</td>\n",
       "      <td>default</td>\n",
       "      <td>0.183333</td>\n",
       "      <td>{'answers': ['île de la cité', 'The Île de la ...</td>\n",
       "      <td>0.0</td>\n",
       "      <td>0.0</td>\n",
       "      <td>0.5</td>\n",
       "      <td>0.500000</td>\n",
       "      <td>0.0</td>\n",
       "      <td>0.333333</td>\n",
       "      <td>0.183333</td>\n",
       "    </tr>\n",
       "    <tr>\n",
       "      <th>99</th>\n",
       "      <td>[{'content': 'Answer the question based on the...</td>\n",
       "      <td>[{'content': '&lt;think&gt;\n",
       "Okay, let's try to figur...</td>\n",
       "      <td>Thaba Putsoa</td>\n",
       "      <td>default</td>\n",
       "      <td>0.416667</td>\n",
       "      <td>{'answers': ['Thaba Putsoa', 'thaba putsoa'], ...</td>\n",
       "      <td>0.0</td>\n",
       "      <td>0.0</td>\n",
       "      <td>1.0</td>\n",
       "      <td>0.666667</td>\n",
       "      <td>0.5</td>\n",
       "      <td>1.000000</td>\n",
       "      <td>0.416667</td>\n",
       "    </tr>\n",
       "  </tbody>\n",
       "</table>\n",
       "<p>100 rows × 13 columns</p>\n",
       "</div>"
      ],
      "text/plain": [
       "                                               prompt  \\\n",
       "0   [{'content': 'Answer the question based on the...   \n",
       "1   [{'content': 'Answer the question based on the...   \n",
       "2   [{'content': 'Answer the question based on the...   \n",
       "3   [{'content': 'Answer the question based on the...   \n",
       "4   [{'content': 'Answer the question based on the...   \n",
       "..                                                ...   \n",
       "95  [{'content': 'Answer the question based on the...   \n",
       "96  [{'content': 'Answer the question based on the...   \n",
       "97  [{'content': 'Answer the question based on the...   \n",
       "98  [{'content': 'Answer the question based on the...   \n",
       "99  [{'content': 'Answer the question based on the...   \n",
       "\n",
       "                                           completion  \\\n",
       "0   [{'content': '<think>\n",
       "</think>\n",
       "\n",
       "', 'role': 'as...   \n",
       "1   [{'content': '<think>\n",
       "Okay, let's try to figur...   \n",
       "2   [{'content': '<think>\n",
       "Okay, let's tackle this ...   \n",
       "3   [{'content': '<think>\n",
       "Okay, so the user is ask...   \n",
       "4   [{'content': '<think>\n",
       "Okay, so the question is...   \n",
       "..                                                ...   \n",
       "95  [{'content': '<think>\n",
       "Okay, let's try to figur...   \n",
       "96  [{'content': '<think>\n",
       "</think>\n",
       "\n",
       "', 'role': 'as...   \n",
       "97  [{'content': '<think>\n",
       "</think>\n",
       "\n",
       "', 'role': 'as...   \n",
       "98  [{'content': '<think>\n",
       "</think>\n",
       "\n",
       "', 'role': 'as...   \n",
       "99  [{'content': '<think>\n",
       "Okay, let's try to figur...   \n",
       "\n",
       "                                              answer     task    reward  \\\n",
       "0                                     LeMat revolver  default  0.175000   \n",
       "1                                   Vitor Constâncio  default  0.008333   \n",
       "2                                                 45  default  0.858333   \n",
       "3   three different relationships he had in the past  default  0.008333   \n",
       "4                                      Michael Bublé  default  0.175000   \n",
       "..                                               ...      ...       ...   \n",
       "95                                     two alliances  default  0.008333   \n",
       "96                                    John Kukuzelis  default  0.750000   \n",
       "97                                     Vito Corleone  default  0.275000   \n",
       "98                                The Île de la Cité  default  0.183333   \n",
       "99                                      Thaba Putsoa  default  0.416667   \n",
       "\n",
       "                                                 info  exact_match_reward  \\\n",
       "0   {'answers': ['LeMat Revolver', 'LeMat revolver...                 0.0   \n",
       "1   {'answers': ['vitor constâncio', 'Vitor Constâ...                 0.0   \n",
       "2   {'answers': ['45'], 'docs': [{'body': 'Weber C...                 1.0   \n",
       "3   {'answers': ['three different relationships he...                 0.0   \n",
       "4   {'answers': ['michael bublé', 'Michael Bublé']...                 0.0   \n",
       "..                                                ...                 ...   \n",
       "95  {'answers': ['two alliances'], 'docs': [{'body...                 0.0   \n",
       "96  {'answers': ['John Kukuzelis', 'john kukuzelis...                 1.0   \n",
       "97  {'answers': ['vito andolini', 'Vito Andolini',...                 0.0   \n",
       "98  {'answers': ['île de la cité', 'The Île de la ...                 0.0   \n",
       "99  {'answers': ['Thaba Putsoa', 'thaba putsoa'], ...                 0.0   \n",
       "\n",
       "    f1_reward  retrieval_recall_reward  retrieval_precision_reward  \\\n",
       "0         0.0                      0.5                    0.333333   \n",
       "1         0.0                      0.0                    0.000000   \n",
       "2         1.0                      1.0                    0.333333   \n",
       "3         0.0                      0.0                    0.000000   \n",
       "4         0.0                      0.5                    0.500000   \n",
       "..        ...                      ...                         ...   \n",
       "95        0.0                      0.0                    0.000000   \n",
       "96        1.0                      0.5                    0.500000   \n",
       "97        0.0                      0.5                    0.500000   \n",
       "98        0.0                      0.5                    0.500000   \n",
       "99        0.0                      1.0                    0.666667   \n",
       "\n",
       "    citation_reward  format_reward  combined_reward  \n",
       "0               0.0       0.666667         0.175000  \n",
       "1               0.0       0.333333         0.008333  \n",
       "2               0.5       1.000000         0.858333  \n",
       "3               0.0       0.333333         0.008333  \n",
       "4               0.0       0.000000         0.175000  \n",
       "..              ...            ...              ...  \n",
       "95              0.0       0.333333         0.008333  \n",
       "96              0.5       1.000000         0.750000  \n",
       "97              0.5       1.000000         0.275000  \n",
       "98              0.0       0.333333         0.183333  \n",
       "99              0.5       1.000000         0.416667  \n",
       "\n",
       "[100 rows x 13 columns]"
      ]
     },
     "execution_count": 9,
     "metadata": {},
     "output_type": "execute_result"
    }
   ],
   "source": [
    "df = ds.to_pandas()\n",
    "df"
   ]
  },
  {
   "cell_type": "code",
   "execution_count": 10,
   "id": "cab0a903",
   "metadata": {},
   "outputs": [
    {
     "data": {
      "text/html": [
       "<div>\n",
       "<style scoped>\n",
       "    .dataframe tbody tr th:only-of-type {\n",
       "        vertical-align: middle;\n",
       "    }\n",
       "\n",
       "    .dataframe tbody tr th {\n",
       "        vertical-align: top;\n",
       "    }\n",
       "\n",
       "    .dataframe thead th {\n",
       "        text-align: right;\n",
       "    }\n",
       "</style>\n",
       "<table border=\"1\" class=\"dataframe\">\n",
       "  <thead>\n",
       "    <tr style=\"text-align: right;\">\n",
       "      <th></th>\n",
       "      <th>reward</th>\n",
       "      <th>exact_match_reward</th>\n",
       "      <th>f1_reward</th>\n",
       "      <th>retrieval_recall_reward</th>\n",
       "      <th>retrieval_precision_reward</th>\n",
       "      <th>citation_reward</th>\n",
       "      <th>format_reward</th>\n",
       "      <th>combined_reward</th>\n",
       "    </tr>\n",
       "  </thead>\n",
       "  <tbody>\n",
       "    <tr>\n",
       "      <th>count</th>\n",
       "      <td>100.000000</td>\n",
       "      <td>100.000000</td>\n",
       "      <td>100.000000</td>\n",
       "      <td>100.00000</td>\n",
       "      <td>100.000000</td>\n",
       "      <td>100.000000</td>\n",
       "      <td>100.000000</td>\n",
       "      <td>100.000000</td>\n",
       "    </tr>\n",
       "    <tr>\n",
       "      <th>mean</th>\n",
       "      <td>0.360469</td>\n",
       "      <td>0.240000</td>\n",
       "      <td>0.296381</td>\n",
       "      <td>0.57500</td>\n",
       "      <td>0.471167</td>\n",
       "      <td>0.190000</td>\n",
       "      <td>0.576667</td>\n",
       "      <td>0.360469</td>\n",
       "    </tr>\n",
       "    <tr>\n",
       "      <th>std</th>\n",
       "      <td>0.332102</td>\n",
       "      <td>0.429235</td>\n",
       "      <td>0.433115</td>\n",
       "      <td>0.39807</td>\n",
       "      <td>0.331856</td>\n",
       "      <td>0.299663</td>\n",
       "      <td>0.344444</td>\n",
       "      <td>0.332102</td>\n",
       "    </tr>\n",
       "    <tr>\n",
       "      <th>min</th>\n",
       "      <td>0.000000</td>\n",
       "      <td>0.000000</td>\n",
       "      <td>0.000000</td>\n",
       "      <td>0.00000</td>\n",
       "      <td>0.000000</td>\n",
       "      <td>0.000000</td>\n",
       "      <td>0.000000</td>\n",
       "      <td>0.000000</td>\n",
       "    </tr>\n",
       "    <tr>\n",
       "      <th>25%</th>\n",
       "      <td>0.140000</td>\n",
       "      <td>0.000000</td>\n",
       "      <td>0.000000</td>\n",
       "      <td>0.37500</td>\n",
       "      <td>0.150000</td>\n",
       "      <td>0.000000</td>\n",
       "      <td>0.333333</td>\n",
       "      <td>0.140000</td>\n",
       "    </tr>\n",
       "    <tr>\n",
       "      <th>50%</th>\n",
       "      <td>0.191667</td>\n",
       "      <td>0.000000</td>\n",
       "      <td>0.000000</td>\n",
       "      <td>0.50000</td>\n",
       "      <td>0.500000</td>\n",
       "      <td>0.000000</td>\n",
       "      <td>0.500000</td>\n",
       "      <td>0.191667</td>\n",
       "    </tr>\n",
       "    <tr>\n",
       "      <th>75%</th>\n",
       "      <td>0.600000</td>\n",
       "      <td>0.000000</td>\n",
       "      <td>0.700000</td>\n",
       "      <td>1.00000</td>\n",
       "      <td>0.666667</td>\n",
       "      <td>0.500000</td>\n",
       "      <td>1.000000</td>\n",
       "      <td>0.600000</td>\n",
       "    </tr>\n",
       "    <tr>\n",
       "      <th>max</th>\n",
       "      <td>1.000000</td>\n",
       "      <td>1.000000</td>\n",
       "      <td>1.000000</td>\n",
       "      <td>1.00000</td>\n",
       "      <td>1.000000</td>\n",
       "      <td>1.000000</td>\n",
       "      <td>1.000000</td>\n",
       "      <td>1.000000</td>\n",
       "    </tr>\n",
       "  </tbody>\n",
       "</table>\n",
       "</div>"
      ],
      "text/plain": [
       "           reward  exact_match_reward   f1_reward  retrieval_recall_reward  \\\n",
       "count  100.000000          100.000000  100.000000                100.00000   \n",
       "mean     0.360469            0.240000    0.296381                  0.57500   \n",
       "std      0.332102            0.429235    0.433115                  0.39807   \n",
       "min      0.000000            0.000000    0.000000                  0.00000   \n",
       "25%      0.140000            0.000000    0.000000                  0.37500   \n",
       "50%      0.191667            0.000000    0.000000                  0.50000   \n",
       "75%      0.600000            0.000000    0.700000                  1.00000   \n",
       "max      1.000000            1.000000    1.000000                  1.00000   \n",
       "\n",
       "       retrieval_precision_reward  citation_reward  format_reward  \\\n",
       "count                  100.000000       100.000000     100.000000   \n",
       "mean                     0.471167         0.190000       0.576667   \n",
       "std                      0.331856         0.299663       0.344444   \n",
       "min                      0.000000         0.000000       0.000000   \n",
       "25%                      0.150000         0.000000       0.333333   \n",
       "50%                      0.500000         0.000000       0.500000   \n",
       "75%                      0.666667         0.500000       1.000000   \n",
       "max                      1.000000         1.000000       1.000000   \n",
       "\n",
       "       combined_reward  \n",
       "count       100.000000  \n",
       "mean          0.360469  \n",
       "std           0.332102  \n",
       "min           0.000000  \n",
       "25%           0.140000  \n",
       "50%           0.191667  \n",
       "75%           0.600000  \n",
       "max           1.000000  "
      ]
     },
     "execution_count": 10,
     "metadata": {},
     "output_type": "execute_result"
    }
   ],
   "source": [
    "df.describe()"
   ]
  },
  {
   "cell_type": "code",
   "execution_count": 11,
   "id": "b3985c33",
   "metadata": {},
   "outputs": [],
   "source": [
    "row = df.iloc[0]"
   ]
  }
 ],
 "metadata": {
  "kernelspec": {
   "display_name": ".venv",
   "language": "python",
   "name": "python3"
  },
  "language_info": {
   "codemirror_mode": {
    "name": "ipython",
    "version": 3
   },
   "file_extension": ".py",
   "mimetype": "text/x-python",
   "name": "python",
   "nbconvert_exporter": "python",
   "pygments_lexer": "ipython3",
   "version": "3.12.9"
  }
 },
 "nbformat": 4,
 "nbformat_minor": 5
}
