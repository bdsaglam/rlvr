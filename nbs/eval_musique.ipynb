{
 "cells": [
  {
   "cell_type": "code",
   "execution_count": 1,
   "id": "a143f034",
   "metadata": {},
   "outputs": [],
   "source": [
    "from pathlib import Path\n",
    "\n",
    "import typer\n",
    "import pandas as pd\n",
    "import verifiers as vf\n",
    "from dotenv import load_dotenv\n",
    "from openai import AsyncOpenAI\n",
    "\n",
    "\n",
    "assert load_dotenv(), \"Failed to load .env file\"\n",
    "\n",
    "openai_client = AsyncOpenAI()"
   ]
  },
  {
   "cell_type": "code",
   "execution_count": 2,
   "id": "38c354da",
   "metadata": {},
   "outputs": [
    {
     "data": {
      "text/plain": [
       "<Experiment: artifact_location='mlflow-artifacts:/2', creation_time=1756636926792, experiment_id='2', last_update_time=1756636926792, lifecycle_stage='active', name='rlvr-eval', tags={}>"
      ]
     },
     "execution_count": 2,
     "metadata": {},
     "output_type": "execute_result"
    }
   ],
   "source": [
    "import mlflow\n",
    "\n",
    "# Tell MLflow about the server URI.\n",
    "mlflow.set_tracking_uri(\"http://127.0.0.1:5000\")\n",
    "# Enable autologging with all features\n",
    "mlflow.openai.autolog()\n",
    "# Create a unique name for your experiment.\n",
    "mlflow.set_experiment(\"rlvr-eval\")"
   ]
  },
  {
   "cell_type": "code",
   "execution_count": 3,
   "id": "fe14a4e1",
   "metadata": {},
   "outputs": [
    {
     "data": {
      "text/plain": [
       "'Qwen/Qwen2.5-7B-Instruct'"
      ]
     },
     "execution_count": 3,
     "metadata": {},
     "output_type": "execute_result"
    }
   ],
   "source": [
    "from rlvr.utils.llm import get_default_model\n",
    "model = get_default_model()\n",
    "model"
   ]
  },
  {
   "cell_type": "code",
   "execution_count": 4,
   "id": "c4817b65",
   "metadata": {},
   "outputs": [
    {
     "name": "stdout",
     "output_type": "stream",
     "text": [
      "🔮 Starting MuSiQue evaluation\n",
      "==================================================\n",
      "📝 Model: Qwen/Qwen2.5-7B-Instruct\n",
      "📊 Dataset: bdsaglam/musique-mini,answerable,validation (noise rate: 1.0)\n",
      "🔍 Retriever: hybrid\n",
      "🌡️ Temperature: 0.5\n",
      "🎯 Max tokens: 1024\n",
      "==================================================\n",
      "🌍 Loading MuSiQue environment...\n"
     ]
    },
    {
     "data": {
      "application/vnd.jupyter.widget-view+json": {
       "model_id": "d7dc24f874424e258ced2ab6874358a3",
       "version_major": 2,
       "version_minor": 0
      },
      "text/plain": [
       "Map: 100%|##########| 300/300 [00:00<?, ? examples/s]"
      ]
     },
     "metadata": {},
     "output_type": "display_data"
    },
    {
     "data": {
      "application/vnd.jupyter.widget-view+json": {
       "model_id": "dddc258cab334b719865855f977167d4",
       "version_major": 2,
       "version_minor": 0
      },
      "text/plain": [
       "Filter:   0%|          | 0/300 [00:00<?, ? examples/s]"
      ]
     },
     "metadata": {},
     "output_type": "display_data"
    },
    {
     "data": {
      "application/vnd.jupyter.widget-view+json": {
       "model_id": "7b436f7de555487d951f1944798092ee",
       "version_major": 2,
       "version_minor": 0
      },
      "text/plain": [
       "Map:   0%|          | 0/100 [00:00<?, ? examples/s]"
      ]
     },
     "metadata": {},
     "output_type": "display_data"
    },
    {
     "data": {
      "application/vnd.jupyter.widget-view+json": {
       "model_id": "158842d1f0e44a5c83109decb42dfd23",
       "version_major": 2,
       "version_minor": 0
      },
      "text/plain": [
       "Map:   0%|          | 0/100 [00:00<?, ? examples/s]"
      ]
     },
     "metadata": {},
     "output_type": "display_data"
    },
    {
     "name": "stderr",
     "output_type": "stream",
     "text": [
      "2025-09-14 18:14:15 - verifiers.envs.MuSiQueEnv - INFO - eval_dataset is not set, falling back to train dataset\n"
     ]
    },
    {
     "name": "stdout",
     "output_type": "stream",
     "text": [
      "✅ Environment loaded with 100 examples\n",
      "🤖 Using OpenAI-compatible API client...\n",
      "🔄 Running evaluation...\n"
     ]
    },
    {
     "name": "stderr",
     "output_type": "stream",
     "text": [
      "Running 100 rollouts: 100%|██████████| 100/100 [01:01<00:00,  1.64it/s]\n",
      "Evaluating 100 rollouts: 100%|██████████| 100/100 [00:00<00:00, 843.93it/s]\n"
     ]
    },
    {
     "data": {
      "text/html": [
       "\n",
       "<div>\n",
       "  <style scoped>\n",
       "  button {\n",
       "    border: none;\n",
       "    border-radius: 4px;\n",
       "    background-color: rgb(34, 114, 180);\n",
       "    font-family: -apple-system, \"system-ui\", \"Segoe UI\", Roboto, \"Helvetica Neue\", Arial;\n",
       "    font-size: 13px;\n",
       "    color: white;\n",
       "    margin-top: 8px;\n",
       "    margin-bottom: 8px;\n",
       "    padding: 8px 16px;\n",
       "    cursor: pointer;\n",
       "  }\n",
       "  button:hover {\n",
       "    background-color: rgb(66, 153, 224);\n",
       "  }\n",
       "  </style>\n",
       "  <button\n",
       "    onclick=\"\n",
       "        const display = this.nextElementSibling.style.display;\n",
       "        const isCollapsed = display === 'none';\n",
       "        this.nextElementSibling.style.display = isCollapsed ? null : 'none';\n",
       "\n",
       "        const verb = isCollapsed ? 'Collapse' : 'Expand';\n",
       "        this.innerText = `${verb} MLflow Trace`;\n",
       "    \"\n",
       "  >Collapse MLflow Trace</button>\n",
       "  <iframe\n",
       "    id=\"trace-renderer\"\n",
       "    style=\"width: 100%; height: 500px; border: none; resize: vertical;\"\n",
       "    src=\"http://127.0.0.1:5000/static-files/lib/notebook-trace-renderer/index.html?trace_id=tr-a76e5138155bfe95844a0edd84b6e010&amp;experiment_id=2&amp;trace_id=tr-55bd2d2dddbadade7cf7ef8a1e9283ee&amp;experiment_id=2&amp;trace_id=tr-c0a50514a5f55c4688e75e837a2a5900&amp;experiment_id=2&amp;trace_id=tr-a77dc6050f199d6bc837674278c561d6&amp;experiment_id=2&amp;trace_id=tr-5928c30d89a6d9b9f39090a5fef3a1be&amp;experiment_id=2&amp;trace_id=tr-1af57b33a906ed25ff261f25e12eda6d&amp;experiment_id=2&amp;trace_id=tr-59db161fca220f4efe6a42bc43c38a33&amp;experiment_id=2&amp;trace_id=tr-6fe07ff8eb36d75d97c4db0262051557&amp;experiment_id=2&amp;trace_id=tr-4b425fae375cc15c6f6dc21777cd1b5e&amp;experiment_id=2&amp;trace_id=tr-dbefc1befb636c662c95134cd4ebb32a&amp;experiment_id=2&amp;version=3.3.2\"\n",
       "  />\n",
       "</div>\n"
      ],
      "text/plain": [
       "[Trace(trace_id=tr-a76e5138155bfe95844a0edd84b6e010), Trace(trace_id=tr-55bd2d2dddbadade7cf7ef8a1e9283ee), Trace(trace_id=tr-c0a50514a5f55c4688e75e837a2a5900), Trace(trace_id=tr-a77dc6050f199d6bc837674278c561d6), Trace(trace_id=tr-5928c30d89a6d9b9f39090a5fef3a1be), Trace(trace_id=tr-1af57b33a906ed25ff261f25e12eda6d), Trace(trace_id=tr-59db161fca220f4efe6a42bc43c38a33), Trace(trace_id=tr-6fe07ff8eb36d75d97c4db0262051557), Trace(trace_id=tr-4b425fae375cc15c6f6dc21777cd1b5e), Trace(trace_id=tr-dbefc1befb636c662c95134cd4ebb32a)]"
      ]
     },
     "metadata": {},
     "output_type": "display_data"
    }
   ],
   "source": [
    "\n",
    "env_id = \"vf-musique-structured\"\n",
    "datasets_str = \"bdsaglam/musique-mini,answerable,validation\"\n",
    "noise_rate = 1.0\n",
    "retriever = \"hybrid\"\n",
    "temperature = 0.5\n",
    "max_new_tokens = 1024\n",
    "\n",
    "print(\"🔮 Starting MuSiQue evaluation\")\n",
    "print(\"=\" * 50)\n",
    "print(f\"📝 Model: {model}\")\n",
    "print(f\"📊 Dataset: {datasets_str} (noise rate: {noise_rate})\")\n",
    "print(f\"🔍 Retriever: {retriever}\")\n",
    "print(f\"🌡️ Temperature: {temperature}\")\n",
    "print(f\"🎯 Max tokens: {max_new_tokens}\")\n",
    "print(\"=\" * 50)\n",
    "\n",
    "# Load MuSiQue environment\n",
    "print(\"🌍 Loading MuSiQue environment...\")\n",
    "\n",
    "vf_env = vf.load_environment(\n",
    "    env_id=\"vf-musique\",\n",
    "    datasets_str=datasets_str,\n",
    "    noise_rate=noise_rate,\n",
    "    retriever=retriever,\n",
    ")\n",
    "print(f\"✅ Environment loaded with {len(vf_env.dataset)} examples\")\n",
    "\n",
    "# Use OpenAI-compatible API client (e.g., for vLLM)\n",
    "print(\"🤖 Using OpenAI-compatible API client...\")\n",
    "\n",
    "# Run evaluation using the environment\n",
    "print(\"🔄 Running evaluation...\")\n",
    "results = vf_env.evaluate(\n",
    "    openai_client,\n",
    "    model,\n",
    "    rollouts_per_example=1,\n",
    "    sampling_args={\"temperature\": temperature, \"max_tokens\": max_new_tokens},\n",
    ")\n"
   ]
  },
  {
   "cell_type": "code",
   "execution_count": 5,
   "id": "a94aaa04",
   "metadata": {},
   "outputs": [
    {
     "data": {
      "text/plain": [
       "237"
      ]
     },
     "execution_count": 5,
     "metadata": {},
     "output_type": "execute_result"
    }
   ],
   "source": [
    "from datetime import datetime\n",
    "import json\n",
    "\n",
    "exp_id = datetime.now().strftime(\"%Y%m%d_%H%M%S\")\n",
    "exp_dir = Path(f\"../outputs/musique-eval/{exp_id}\")\n",
    "exp_dir.mkdir(parents=True, exist_ok=True)\n",
    "\n",
    "params = {\n",
    "    \"env_id\": env_id,\n",
    "    \"datasets_str\": datasets_str,\n",
    "    \"noise_rate\": noise_rate,\n",
    "    \"retriever\": retriever,\n",
    "    \"model\": model,\n",
    "    \"temperature\": temperature,\n",
    "    \"max_new_tokens\": max_new_tokens,\n",
    "}\n",
    "\n",
    "(exp_dir / \"params.json\").write_text(json.dumps(params, indent=2))"
   ]
  },
  {
   "cell_type": "code",
   "execution_count": 6,
   "id": "04618244",
   "metadata": {},
   "outputs": [
    {
     "data": {
      "text/plain": [
       "Dataset({\n",
       "    features: ['prompt', 'completion', 'answer', 'task', 'reward', 'info', 'exact_match_reward', 'f1_reward', 'retrieval_recall_reward', 'retrieval_precision_reward', 'citation_reward', 'format_reward', 'combined_reward'],\n",
       "    num_rows: 100\n",
       "})"
      ]
     },
     "execution_count": 6,
     "metadata": {},
     "output_type": "execute_result"
    }
   ],
   "source": [
    "ds = vf_env.make_dataset(results)\n",
    "ds"
   ]
  },
  {
   "cell_type": "code",
   "execution_count": 7,
   "id": "205448ce",
   "metadata": {},
   "outputs": [
    {
     "data": {
      "application/vnd.jupyter.widget-view+json": {
       "model_id": "5b3a7f6242404653852a8c5c96b3e78e",
       "version_major": 2,
       "version_minor": 0
      },
      "text/plain": [
       "Creating json from Arrow format:   0%|          | 0/1 [00:00<?, ?ba/s]"
      ]
     },
     "metadata": {},
     "output_type": "display_data"
    },
    {
     "data": {
      "text/plain": [
       "2801680"
      ]
     },
     "execution_count": 7,
     "metadata": {},
     "output_type": "execute_result"
    }
   ],
   "source": [
    "ds.to_json(exp_dir / \"musique-eval-results.jsonl\", orient=\"records\", lines=True)"
   ]
  },
  {
   "cell_type": "code",
   "execution_count": 8,
   "id": "810fa60f",
   "metadata": {},
   "outputs": [
    {
     "data": {
      "text/html": [
       "<div>\n",
       "<style scoped>\n",
       "    .dataframe tbody tr th:only-of-type {\n",
       "        vertical-align: middle;\n",
       "    }\n",
       "\n",
       "    .dataframe tbody tr th {\n",
       "        vertical-align: top;\n",
       "    }\n",
       "\n",
       "    .dataframe thead th {\n",
       "        text-align: right;\n",
       "    }\n",
       "</style>\n",
       "<table border=\"1\" class=\"dataframe\">\n",
       "  <thead>\n",
       "    <tr style=\"text-align: right;\">\n",
       "      <th></th>\n",
       "      <th>prompt</th>\n",
       "      <th>completion</th>\n",
       "      <th>answer</th>\n",
       "      <th>task</th>\n",
       "      <th>reward</th>\n",
       "      <th>info</th>\n",
       "      <th>exact_match_reward</th>\n",
       "      <th>f1_reward</th>\n",
       "      <th>retrieval_recall_reward</th>\n",
       "      <th>retrieval_precision_reward</th>\n",
       "      <th>citation_reward</th>\n",
       "      <th>format_reward</th>\n",
       "      <th>combined_reward</th>\n",
       "    </tr>\n",
       "  </thead>\n",
       "  <tbody>\n",
       "    <tr>\n",
       "      <th>0</th>\n",
       "      <td>[{'content': 'Answer the question based on the...</td>\n",
       "      <td>[{'content': '&lt;think&gt;\n",
       "To answer this question,...</td>\n",
       "      <td>LeMat revolver</td>\n",
       "      <td>default</td>\n",
       "      <td>0.000000</td>\n",
       "      <td>{'answers': ['LeMat Revolver', 'LeMat revolver...</td>\n",
       "      <td>0.0</td>\n",
       "      <td>0.0</td>\n",
       "      <td>0.0</td>\n",
       "      <td>0.000000</td>\n",
       "      <td>0.0</td>\n",
       "      <td>0.000000</td>\n",
       "      <td>0.000000</td>\n",
       "    </tr>\n",
       "    <tr>\n",
       "      <th>1</th>\n",
       "      <td>[{'content': 'Answer the question based on the...</td>\n",
       "      <td>[{'content': '&lt;think&gt;\n",
       "To answer this question,...</td>\n",
       "      <td>Vitor Constâncio</td>\n",
       "      <td>default</td>\n",
       "      <td>0.516667</td>\n",
       "      <td>{'answers': ['Vitor Constâncio', 'vitor constâ...</td>\n",
       "      <td>0.0</td>\n",
       "      <td>0.0</td>\n",
       "      <td>1.0</td>\n",
       "      <td>1.000000</td>\n",
       "      <td>1.0</td>\n",
       "      <td>0.666667</td>\n",
       "      <td>0.516667</td>\n",
       "    </tr>\n",
       "    <tr>\n",
       "      <th>2</th>\n",
       "      <td>[{'content': 'Answer the question based on the...</td>\n",
       "      <td>[{'content': '', 'role': 'assistant', 'tool_ca...</td>\n",
       "      <td>45</td>\n",
       "      <td>default</td>\n",
       "      <td>0.175000</td>\n",
       "      <td>{'answers': ['45'], 'docs': [{'body': 'Weber C...</td>\n",
       "      <td>0.0</td>\n",
       "      <td>0.0</td>\n",
       "      <td>0.5</td>\n",
       "      <td>0.500000</td>\n",
       "      <td>0.0</td>\n",
       "      <td>0.000000</td>\n",
       "      <td>0.175000</td>\n",
       "    </tr>\n",
       "    <tr>\n",
       "      <th>3</th>\n",
       "      <td>[{'content': 'Answer the question based on the...</td>\n",
       "      <td>[{'content': '&lt;think&gt;\n",
       "To answer this question,...</td>\n",
       "      <td>three different relationships he had in the past</td>\n",
       "      <td>default</td>\n",
       "      <td>0.375000</td>\n",
       "      <td>{'answers': ['three different relationships he...</td>\n",
       "      <td>0.0</td>\n",
       "      <td>0.0</td>\n",
       "      <td>1.0</td>\n",
       "      <td>1.000000</td>\n",
       "      <td>0.0</td>\n",
       "      <td>1.000000</td>\n",
       "      <td>0.375000</td>\n",
       "    </tr>\n",
       "    <tr>\n",
       "      <th>4</th>\n",
       "      <td>[{'content': 'Answer the question based on the...</td>\n",
       "      <td>[{'content': '&lt;think&gt;\n",
       "To answer this question,...</td>\n",
       "      <td>Michael Bublé</td>\n",
       "      <td>default</td>\n",
       "      <td>0.166667</td>\n",
       "      <td>{'answers': ['michael bublé', 'Michael Bublé']...</td>\n",
       "      <td>0.0</td>\n",
       "      <td>0.0</td>\n",
       "      <td>0.5</td>\n",
       "      <td>0.333333</td>\n",
       "      <td>0.0</td>\n",
       "      <td>0.333333</td>\n",
       "      <td>0.166667</td>\n",
       "    </tr>\n",
       "    <tr>\n",
       "      <th>...</th>\n",
       "      <td>...</td>\n",
       "      <td>...</td>\n",
       "      <td>...</td>\n",
       "      <td>...</td>\n",
       "      <td>...</td>\n",
       "      <td>...</td>\n",
       "      <td>...</td>\n",
       "      <td>...</td>\n",
       "      <td>...</td>\n",
       "      <td>...</td>\n",
       "      <td>...</td>\n",
       "      <td>...</td>\n",
       "      <td>...</td>\n",
       "    </tr>\n",
       "    <tr>\n",
       "      <th>95</th>\n",
       "      <td>[{'content': 'Answer the question based on the...</td>\n",
       "      <td>[{'content': '&lt;think&gt;\n",
       "To answer this question,...</td>\n",
       "      <td>two alliances</td>\n",
       "      <td>default</td>\n",
       "      <td>0.000000</td>\n",
       "      <td>{'answers': ['two alliances'], 'docs': [{'body...</td>\n",
       "      <td>0.0</td>\n",
       "      <td>0.0</td>\n",
       "      <td>0.0</td>\n",
       "      <td>0.000000</td>\n",
       "      <td>0.0</td>\n",
       "      <td>0.000000</td>\n",
       "      <td>0.000000</td>\n",
       "    </tr>\n",
       "    <tr>\n",
       "      <th>96</th>\n",
       "      <td>[{'content': 'Answer the question based on the...</td>\n",
       "      <td>[{'content': '&lt;think&gt;\n",
       "To answer this question,...</td>\n",
       "      <td>John Kukuzelis</td>\n",
       "      <td>default</td>\n",
       "      <td>0.000000</td>\n",
       "      <td>{'answers': ['John Kukuzelis', 'john kukuzelis...</td>\n",
       "      <td>0.0</td>\n",
       "      <td>0.0</td>\n",
       "      <td>0.0</td>\n",
       "      <td>0.000000</td>\n",
       "      <td>0.0</td>\n",
       "      <td>0.000000</td>\n",
       "      <td>0.000000</td>\n",
       "    </tr>\n",
       "    <tr>\n",
       "      <th>97</th>\n",
       "      <td>[{'content': 'Answer the question based on the...</td>\n",
       "      <td>[{'content': '', 'role': 'assistant', 'tool_ca...</td>\n",
       "      <td>Vito Corleone</td>\n",
       "      <td>default</td>\n",
       "      <td>0.175000</td>\n",
       "      <td>{'answers': ['Vito Corleone', 'vito corleone',...</td>\n",
       "      <td>0.0</td>\n",
       "      <td>0.0</td>\n",
       "      <td>0.5</td>\n",
       "      <td>0.500000</td>\n",
       "      <td>0.0</td>\n",
       "      <td>0.000000</td>\n",
       "      <td>0.175000</td>\n",
       "    </tr>\n",
       "    <tr>\n",
       "      <th>98</th>\n",
       "      <td>[{'content': 'Answer the question based on the...</td>\n",
       "      <td>[{'content': '&lt;think&gt;\n",
       "To answer this question,...</td>\n",
       "      <td>The Île de la Cité</td>\n",
       "      <td>default</td>\n",
       "      <td>0.875000</td>\n",
       "      <td>{'answers': ['the île de la cité', 'The Île de...</td>\n",
       "      <td>1.0</td>\n",
       "      <td>1.0</td>\n",
       "      <td>1.0</td>\n",
       "      <td>0.500000</td>\n",
       "      <td>0.5</td>\n",
       "      <td>1.000000</td>\n",
       "      <td>0.875000</td>\n",
       "    </tr>\n",
       "    <tr>\n",
       "      <th>99</th>\n",
       "      <td>[{'content': 'Answer the question based on the...</td>\n",
       "      <td>[{'content': '&lt;think&gt;\n",
       "To answer this question,...</td>\n",
       "      <td>Thaba Putsoa</td>\n",
       "      <td>default</td>\n",
       "      <td>0.200000</td>\n",
       "      <td>{'answers': ['thaba putsoa', 'Thaba Putsoa'], ...</td>\n",
       "      <td>0.0</td>\n",
       "      <td>0.0</td>\n",
       "      <td>0.5</td>\n",
       "      <td>0.500000</td>\n",
       "      <td>0.0</td>\n",
       "      <td>1.000000</td>\n",
       "      <td>0.200000</td>\n",
       "    </tr>\n",
       "  </tbody>\n",
       "</table>\n",
       "<p>100 rows × 13 columns</p>\n",
       "</div>"
      ],
      "text/plain": [
       "                                               prompt  \\\n",
       "0   [{'content': 'Answer the question based on the...   \n",
       "1   [{'content': 'Answer the question based on the...   \n",
       "2   [{'content': 'Answer the question based on the...   \n",
       "3   [{'content': 'Answer the question based on the...   \n",
       "4   [{'content': 'Answer the question based on the...   \n",
       "..                                                ...   \n",
       "95  [{'content': 'Answer the question based on the...   \n",
       "96  [{'content': 'Answer the question based on the...   \n",
       "97  [{'content': 'Answer the question based on the...   \n",
       "98  [{'content': 'Answer the question based on the...   \n",
       "99  [{'content': 'Answer the question based on the...   \n",
       "\n",
       "                                           completion  \\\n",
       "0   [{'content': '<think>\n",
       "To answer this question,...   \n",
       "1   [{'content': '<think>\n",
       "To answer this question,...   \n",
       "2   [{'content': '', 'role': 'assistant', 'tool_ca...   \n",
       "3   [{'content': '<think>\n",
       "To answer this question,...   \n",
       "4   [{'content': '<think>\n",
       "To answer this question,...   \n",
       "..                                                ...   \n",
       "95  [{'content': '<think>\n",
       "To answer this question,...   \n",
       "96  [{'content': '<think>\n",
       "To answer this question,...   \n",
       "97  [{'content': '', 'role': 'assistant', 'tool_ca...   \n",
       "98  [{'content': '<think>\n",
       "To answer this question,...   \n",
       "99  [{'content': '<think>\n",
       "To answer this question,...   \n",
       "\n",
       "                                              answer     task    reward  \\\n",
       "0                                     LeMat revolver  default  0.000000   \n",
       "1                                   Vitor Constâncio  default  0.516667   \n",
       "2                                                 45  default  0.175000   \n",
       "3   three different relationships he had in the past  default  0.375000   \n",
       "4                                      Michael Bublé  default  0.166667   \n",
       "..                                               ...      ...       ...   \n",
       "95                                     two alliances  default  0.000000   \n",
       "96                                    John Kukuzelis  default  0.000000   \n",
       "97                                     Vito Corleone  default  0.175000   \n",
       "98                                The Île de la Cité  default  0.875000   \n",
       "99                                      Thaba Putsoa  default  0.200000   \n",
       "\n",
       "                                                 info  exact_match_reward  \\\n",
       "0   {'answers': ['LeMat Revolver', 'LeMat revolver...                 0.0   \n",
       "1   {'answers': ['Vitor Constâncio', 'vitor constâ...                 0.0   \n",
       "2   {'answers': ['45'], 'docs': [{'body': 'Weber C...                 0.0   \n",
       "3   {'answers': ['three different relationships he...                 0.0   \n",
       "4   {'answers': ['michael bublé', 'Michael Bublé']...                 0.0   \n",
       "..                                                ...                 ...   \n",
       "95  {'answers': ['two alliances'], 'docs': [{'body...                 0.0   \n",
       "96  {'answers': ['John Kukuzelis', 'john kukuzelis...                 0.0   \n",
       "97  {'answers': ['Vito Corleone', 'vito corleone',...                 0.0   \n",
       "98  {'answers': ['the île de la cité', 'The Île de...                 1.0   \n",
       "99  {'answers': ['thaba putsoa', 'Thaba Putsoa'], ...                 0.0   \n",
       "\n",
       "    f1_reward  retrieval_recall_reward  retrieval_precision_reward  \\\n",
       "0         0.0                      0.0                    0.000000   \n",
       "1         0.0                      1.0                    1.000000   \n",
       "2         0.0                      0.5                    0.500000   \n",
       "3         0.0                      1.0                    1.000000   \n",
       "4         0.0                      0.5                    0.333333   \n",
       "..        ...                      ...                         ...   \n",
       "95        0.0                      0.0                    0.000000   \n",
       "96        0.0                      0.0                    0.000000   \n",
       "97        0.0                      0.5                    0.500000   \n",
       "98        1.0                      1.0                    0.500000   \n",
       "99        0.0                      0.5                    0.500000   \n",
       "\n",
       "    citation_reward  format_reward  combined_reward  \n",
       "0               0.0       0.000000         0.000000  \n",
       "1               1.0       0.666667         0.516667  \n",
       "2               0.0       0.000000         0.175000  \n",
       "3               0.0       1.000000         0.375000  \n",
       "4               0.0       0.333333         0.166667  \n",
       "..              ...            ...              ...  \n",
       "95              0.0       0.000000         0.000000  \n",
       "96              0.0       0.000000         0.000000  \n",
       "97              0.0       0.000000         0.175000  \n",
       "98              0.5       1.000000         0.875000  \n",
       "99              0.0       1.000000         0.200000  \n",
       "\n",
       "[100 rows x 13 columns]"
      ]
     },
     "execution_count": 8,
     "metadata": {},
     "output_type": "execute_result"
    }
   ],
   "source": [
    "df = ds.to_pandas()\n",
    "df"
   ]
  },
  {
   "cell_type": "code",
   "execution_count": 9,
   "id": "cab0a903",
   "metadata": {},
   "outputs": [
    {
     "data": {
      "text/html": [
       "<div>\n",
       "<style scoped>\n",
       "    .dataframe tbody tr th:only-of-type {\n",
       "        vertical-align: middle;\n",
       "    }\n",
       "\n",
       "    .dataframe tbody tr th {\n",
       "        vertical-align: top;\n",
       "    }\n",
       "\n",
       "    .dataframe thead th {\n",
       "        text-align: right;\n",
       "    }\n",
       "</style>\n",
       "<table border=\"1\" class=\"dataframe\">\n",
       "  <thead>\n",
       "    <tr style=\"text-align: right;\">\n",
       "      <th></th>\n",
       "      <th>reward</th>\n",
       "      <th>exact_match_reward</th>\n",
       "      <th>f1_reward</th>\n",
       "      <th>retrieval_recall_reward</th>\n",
       "      <th>retrieval_precision_reward</th>\n",
       "      <th>citation_reward</th>\n",
       "      <th>format_reward</th>\n",
       "      <th>combined_reward</th>\n",
       "    </tr>\n",
       "  </thead>\n",
       "  <tbody>\n",
       "    <tr>\n",
       "      <th>count</th>\n",
       "      <td>100.000000</td>\n",
       "      <td>100.00000</td>\n",
       "      <td>100.000000</td>\n",
       "      <td>100.000000</td>\n",
       "      <td>100.000000</td>\n",
       "      <td>100.000000</td>\n",
       "      <td>100.000000</td>\n",
       "      <td>100.000000</td>\n",
       "    </tr>\n",
       "    <tr>\n",
       "      <th>mean</th>\n",
       "      <td>0.377965</td>\n",
       "      <td>0.15000</td>\n",
       "      <td>0.209250</td>\n",
       "      <td>0.690000</td>\n",
       "      <td>0.563833</td>\n",
       "      <td>0.335000</td>\n",
       "      <td>0.570000</td>\n",
       "      <td>0.377965</td>\n",
       "    </tr>\n",
       "    <tr>\n",
       "      <th>std</th>\n",
       "      <td>0.252313</td>\n",
       "      <td>0.35887</td>\n",
       "      <td>0.374822</td>\n",
       "      <td>0.299663</td>\n",
       "      <td>0.248057</td>\n",
       "      <td>0.389606</td>\n",
       "      <td>0.367889</td>\n",
       "      <td>0.252313</td>\n",
       "    </tr>\n",
       "    <tr>\n",
       "      <th>min</th>\n",
       "      <td>0.000000</td>\n",
       "      <td>0.00000</td>\n",
       "      <td>0.000000</td>\n",
       "      <td>0.000000</td>\n",
       "      <td>0.000000</td>\n",
       "      <td>0.000000</td>\n",
       "      <td>0.000000</td>\n",
       "      <td>0.000000</td>\n",
       "    </tr>\n",
       "    <tr>\n",
       "      <th>25%</th>\n",
       "      <td>0.183333</td>\n",
       "      <td>0.00000</td>\n",
       "      <td>0.000000</td>\n",
       "      <td>0.500000</td>\n",
       "      <td>0.500000</td>\n",
       "      <td>0.000000</td>\n",
       "      <td>0.333333</td>\n",
       "      <td>0.183333</td>\n",
       "    </tr>\n",
       "    <tr>\n",
       "      <th>50%</th>\n",
       "      <td>0.300000</td>\n",
       "      <td>0.00000</td>\n",
       "      <td>0.000000</td>\n",
       "      <td>0.500000</td>\n",
       "      <td>0.500000</td>\n",
       "      <td>0.000000</td>\n",
       "      <td>0.666667</td>\n",
       "      <td>0.300000</td>\n",
       "    </tr>\n",
       "    <tr>\n",
       "      <th>75%</th>\n",
       "      <td>0.516667</td>\n",
       "      <td>0.00000</td>\n",
       "      <td>0.254167</td>\n",
       "      <td>1.000000</td>\n",
       "      <td>0.666667</td>\n",
       "      <td>0.500000</td>\n",
       "      <td>1.000000</td>\n",
       "      <td>0.516667</td>\n",
       "    </tr>\n",
       "    <tr>\n",
       "      <th>max</th>\n",
       "      <td>1.000000</td>\n",
       "      <td>1.00000</td>\n",
       "      <td>1.000000</td>\n",
       "      <td>1.000000</td>\n",
       "      <td>1.000000</td>\n",
       "      <td>1.000000</td>\n",
       "      <td>1.000000</td>\n",
       "      <td>1.000000</td>\n",
       "    </tr>\n",
       "  </tbody>\n",
       "</table>\n",
       "</div>"
      ],
      "text/plain": [
       "           reward  exact_match_reward   f1_reward  retrieval_recall_reward  \\\n",
       "count  100.000000           100.00000  100.000000               100.000000   \n",
       "mean     0.377965             0.15000    0.209250                 0.690000   \n",
       "std      0.252313             0.35887    0.374822                 0.299663   \n",
       "min      0.000000             0.00000    0.000000                 0.000000   \n",
       "25%      0.183333             0.00000    0.000000                 0.500000   \n",
       "50%      0.300000             0.00000    0.000000                 0.500000   \n",
       "75%      0.516667             0.00000    0.254167                 1.000000   \n",
       "max      1.000000             1.00000    1.000000                 1.000000   \n",
       "\n",
       "       retrieval_precision_reward  citation_reward  format_reward  \\\n",
       "count                  100.000000       100.000000     100.000000   \n",
       "mean                     0.563833         0.335000       0.570000   \n",
       "std                      0.248057         0.389606       0.367889   \n",
       "min                      0.000000         0.000000       0.000000   \n",
       "25%                      0.500000         0.000000       0.333333   \n",
       "50%                      0.500000         0.000000       0.666667   \n",
       "75%                      0.666667         0.500000       1.000000   \n",
       "max                      1.000000         1.000000       1.000000   \n",
       "\n",
       "       combined_reward  \n",
       "count       100.000000  \n",
       "mean          0.377965  \n",
       "std           0.252313  \n",
       "min           0.000000  \n",
       "25%           0.183333  \n",
       "50%           0.300000  \n",
       "75%           0.516667  \n",
       "max           1.000000  "
      ]
     },
     "execution_count": 9,
     "metadata": {},
     "output_type": "execute_result"
    }
   ],
   "source": [
    "df.describe()"
   ]
  },
  {
   "cell_type": "code",
   "execution_count": 10,
   "id": "e309b701",
   "metadata": {},
   "outputs": [],
   "source": [
    "df.describe().to_csv(exp_dir / \"scores.csv\")"
   ]
  },
  {
   "cell_type": "code",
   "execution_count": null,
   "id": "6416c4a7",
   "metadata": {},
   "outputs": [],
   "source": []
  }
 ],
 "metadata": {
  "kernelspec": {
   "display_name": ".venv",
   "language": "python",
   "name": "python3"
  },
  "language_info": {
   "codemirror_mode": {
    "name": "ipython",
    "version": 3
   },
   "file_extension": ".py",
   "mimetype": "text/x-python",
   "name": "python",
   "nbconvert_exporter": "python",
   "pygments_lexer": "ipython3",
   "version": "3.12.9"
  }
 },
 "nbformat": 4,
 "nbformat_minor": 5
}
