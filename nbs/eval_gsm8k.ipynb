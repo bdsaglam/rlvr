{
 "cells": [
  {
   "cell_type": "code",
   "execution_count": 21,
   "id": "a143f034",
   "metadata": {},
   "outputs": [],
   "source": [
    "from pathlib import Path\n",
    "\n",
    "import typer\n",
    "import pandas as pd\n",
    "import verifiers as vf\n",
    "from dotenv import load_dotenv\n",
    "from openai import AsyncOpenAI\n",
    "\n",
    "\n",
    "assert load_dotenv(), \"Failed to load .env file\""
   ]
  },
  {
   "cell_type": "code",
   "execution_count": 22,
   "id": "9328583a",
   "metadata": {},
   "outputs": [
    {
     "name": "stdout",
     "output_type": "stream",
     "text": [
      "Available models: ['Qwen/Qwen2.5-3B-Instruct']\n",
      "Using model: Qwen/Qwen2.5-3B-Instruct\n"
     ]
    }
   ],
   "source": [
    "openai_client = AsyncOpenAI()\n",
    "\n",
    "models_response = await openai_client.models.list()\n",
    "available_models = [item.id for item in models_response.data if item.object == \"model\"]\n",
    "print(\"Available models:\", available_models)\n",
    "\n",
    "model = available_models[0]\n",
    "print(\"Using model:\", model)\n"
   ]
  },
  {
   "cell_type": "code",
   "execution_count": 23,
   "id": "c4817b65",
   "metadata": {},
   "outputs": [
    {
     "name": "stdout",
     "output_type": "stream",
     "text": [
      "✅ Environment loaded with 7473 examples\n",
      "🔄 Running evaluation...\n"
     ]
    },
    {
     "name": "stderr",
     "output_type": "stream",
     "text": [
      "Running 10 rollouts: 100%|██████████| 10/10 [00:07<00:00,  1.34it/s]\n",
      "Evaluating 10 rollouts: 100%|██████████| 10/10 [00:00<00:00, 3682.77it/s]\n"
     ]
    }
   ],
   "source": [
    "temperature = 0.5\n",
    "max_new_tokens = 1024\n",
    "\n",
    "vf_env = vf.load_environment(env_id=\"gsm8k\", num_eval_examples=10, use_think=False)\n",
    "print(f\"✅ Environment loaded with {len(vf_env.dataset)} examples\")\n",
    "\n",
    "# Run evaluation using the environment\n",
    "print(\"🔄 Running evaluation...\")\n",
    "results = vf_env.evaluate(\n",
    "    openai_client,\n",
    "    model,\n",
    "    rollouts_per_example=1,\n",
    "    sampling_args={\"temperature\": temperature, \"max_tokens\": max_new_tokens},\n",
    ")\n"
   ]
  },
  {
   "cell_type": "code",
   "execution_count": 24,
   "id": "c09d1adb",
   "metadata": {},
   "outputs": [
    {
     "data": {
      "text/plain": [
       "dict_keys(['correct_answer_reward_func', 'format_reward_func'])"
      ]
     },
     "execution_count": 24,
     "metadata": {},
     "output_type": "execute_result"
    }
   ],
   "source": [
    "results.metrics.keys()"
   ]
  },
  {
   "cell_type": "code",
   "execution_count": 25,
   "id": "04618244",
   "metadata": {},
   "outputs": [
    {
     "data": {
      "text/plain": [
       "Dataset({\n",
       "    features: ['prompt', 'completion', 'answer', 'task', 'reward', 'correct_answer_reward_func', 'format_reward_func'],\n",
       "    num_rows: 10\n",
       "})"
      ]
     },
     "execution_count": 25,
     "metadata": {},
     "output_type": "execute_result"
    }
   ],
   "source": [
    "ds = vf_env.make_dataset(results)\n",
    "ds"
   ]
  },
  {
   "cell_type": "code",
   "execution_count": 26,
   "id": "205448ce",
   "metadata": {},
   "outputs": [
    {
     "data": {
      "application/vnd.jupyter.widget-view+json": {
       "model_id": "d23a4e904aa64f0d8a98949eba0df609",
       "version_major": 2,
       "version_minor": 0
      },
      "text/plain": [
       "Creating json from Arrow format:   0%|          | 0/1 [00:00<?, ?ba/s]"
      ]
     },
     "metadata": {},
     "output_type": "display_data"
    },
    {
     "data": {
      "text/plain": [
       "16422"
      ]
     },
     "execution_count": 26,
     "metadata": {},
     "output_type": "execute_result"
    }
   ],
   "source": [
    "ds.to_json(\"../outputs/gsm8k-eval-results.jsonl\", orient=\"records\", lines=True)"
   ]
  },
  {
   "cell_type": "code",
   "execution_count": 27,
   "id": "810fa60f",
   "metadata": {},
   "outputs": [
    {
     "data": {
      "text/html": [
       "<div>\n",
       "<style scoped>\n",
       "    .dataframe tbody tr th:only-of-type {\n",
       "        vertical-align: middle;\n",
       "    }\n",
       "\n",
       "    .dataframe tbody tr th {\n",
       "        vertical-align: top;\n",
       "    }\n",
       "\n",
       "    .dataframe thead th {\n",
       "        text-align: right;\n",
       "    }\n",
       "</style>\n",
       "<table border=\"1\" class=\"dataframe\">\n",
       "  <thead>\n",
       "    <tr style=\"text-align: right;\">\n",
       "      <th></th>\n",
       "      <th>prompt</th>\n",
       "      <th>completion</th>\n",
       "      <th>answer</th>\n",
       "      <th>task</th>\n",
       "      <th>reward</th>\n",
       "      <th>correct_answer_reward_func</th>\n",
       "      <th>format_reward_func</th>\n",
       "    </tr>\n",
       "  </thead>\n",
       "  <tbody>\n",
       "    <tr>\n",
       "      <th>0</th>\n",
       "      <td>[{'content': 'Please reason step by step, and ...</td>\n",
       "      <td>[{'content': 'To determine how much Janet make...</td>\n",
       "      <td>18</td>\n",
       "      <td>default</td>\n",
       "      <td>1.2</td>\n",
       "      <td>1.0</td>\n",
       "      <td>1.0</td>\n",
       "    </tr>\n",
       "    <tr>\n",
       "      <th>1</th>\n",
       "      <td>[{'content': 'Please reason step by step, and ...</td>\n",
       "      <td>[{'content': 'To determine the total number of...</td>\n",
       "      <td>3</td>\n",
       "      <td>default</td>\n",
       "      <td>1.2</td>\n",
       "      <td>1.0</td>\n",
       "      <td>1.0</td>\n",
       "    </tr>\n",
       "    <tr>\n",
       "      <th>2</th>\n",
       "      <td>[{'content': 'Please reason step by step, and ...</td>\n",
       "      <td>[{'content': 'To determine Josh's profit from ...</td>\n",
       "      <td>70000</td>\n",
       "      <td>default</td>\n",
       "      <td>1.2</td>\n",
       "      <td>1.0</td>\n",
       "      <td>1.0</td>\n",
       "    </tr>\n",
       "    <tr>\n",
       "      <th>3</th>\n",
       "      <td>[{'content': 'Please reason step by step, and ...</td>\n",
       "      <td>[{'content': 'To determine the total number of...</td>\n",
       "      <td>540</td>\n",
       "      <td>default</td>\n",
       "      <td>1.2</td>\n",
       "      <td>1.0</td>\n",
       "      <td>1.0</td>\n",
       "    </tr>\n",
       "    <tr>\n",
       "      <th>4</th>\n",
       "      <td>[{'content': 'Please reason step by step, and ...</td>\n",
       "      <td>[{'content': 'To determine how much feed Wendi...</td>\n",
       "      <td>20</td>\n",
       "      <td>default</td>\n",
       "      <td>1.2</td>\n",
       "      <td>1.0</td>\n",
       "      <td>1.0</td>\n",
       "    </tr>\n",
       "    <tr>\n",
       "      <th>5</th>\n",
       "      <td>[{'content': 'Please reason step by step, and ...</td>\n",
       "      <td>[{'content': 'To determine how much Kylar need...</td>\n",
       "      <td>64</td>\n",
       "      <td>default</td>\n",
       "      <td>1.2</td>\n",
       "      <td>1.0</td>\n",
       "      <td>1.0</td>\n",
       "    </tr>\n",
       "    <tr>\n",
       "      <th>6</th>\n",
       "      <td>[{'content': 'Please reason step by step, and ...</td>\n",
       "      <td>[{'content': 'To determine the total number of...</td>\n",
       "      <td>260</td>\n",
       "      <td>default</td>\n",
       "      <td>1.2</td>\n",
       "      <td>1.0</td>\n",
       "      <td>1.0</td>\n",
       "    </tr>\n",
       "    <tr>\n",
       "      <th>7</th>\n",
       "      <td>[{'content': 'Please reason step by step, and ...</td>\n",
       "      <td>[{'content': 'To determine the total time it t...</td>\n",
       "      <td>160</td>\n",
       "      <td>default</td>\n",
       "      <td>0.2</td>\n",
       "      <td>0.0</td>\n",
       "      <td>1.0</td>\n",
       "    </tr>\n",
       "    <tr>\n",
       "      <th>8</th>\n",
       "      <td>[{'content': 'Please reason step by step, and ...</td>\n",
       "      <td>[{'content': 'To determine how far John is fro...</td>\n",
       "      <td>45</td>\n",
       "      <td>default</td>\n",
       "      <td>0.2</td>\n",
       "      <td>0.0</td>\n",
       "      <td>1.0</td>\n",
       "    </tr>\n",
       "    <tr>\n",
       "      <th>9</th>\n",
       "      <td>[{'content': 'Please reason step by step, and ...</td>\n",
       "      <td>[{'content': 'To determine Eliza's total earni...</td>\n",
       "      <td>460</td>\n",
       "      <td>default</td>\n",
       "      <td>1.2</td>\n",
       "      <td>1.0</td>\n",
       "      <td>1.0</td>\n",
       "    </tr>\n",
       "  </tbody>\n",
       "</table>\n",
       "</div>"
      ],
      "text/plain": [
       "                                              prompt  \\\n",
       "0  [{'content': 'Please reason step by step, and ...   \n",
       "1  [{'content': 'Please reason step by step, and ...   \n",
       "2  [{'content': 'Please reason step by step, and ...   \n",
       "3  [{'content': 'Please reason step by step, and ...   \n",
       "4  [{'content': 'Please reason step by step, and ...   \n",
       "5  [{'content': 'Please reason step by step, and ...   \n",
       "6  [{'content': 'Please reason step by step, and ...   \n",
       "7  [{'content': 'Please reason step by step, and ...   \n",
       "8  [{'content': 'Please reason step by step, and ...   \n",
       "9  [{'content': 'Please reason step by step, and ...   \n",
       "\n",
       "                                          completion answer     task  reward  \\\n",
       "0  [{'content': 'To determine how much Janet make...     18  default     1.2   \n",
       "1  [{'content': 'To determine the total number of...      3  default     1.2   \n",
       "2  [{'content': 'To determine Josh's profit from ...  70000  default     1.2   \n",
       "3  [{'content': 'To determine the total number of...    540  default     1.2   \n",
       "4  [{'content': 'To determine how much feed Wendi...     20  default     1.2   \n",
       "5  [{'content': 'To determine how much Kylar need...     64  default     1.2   \n",
       "6  [{'content': 'To determine the total number of...    260  default     1.2   \n",
       "7  [{'content': 'To determine the total time it t...    160  default     0.2   \n",
       "8  [{'content': 'To determine how far John is fro...     45  default     0.2   \n",
       "9  [{'content': 'To determine Eliza's total earni...    460  default     1.2   \n",
       "\n",
       "   correct_answer_reward_func  format_reward_func  \n",
       "0                         1.0                 1.0  \n",
       "1                         1.0                 1.0  \n",
       "2                         1.0                 1.0  \n",
       "3                         1.0                 1.0  \n",
       "4                         1.0                 1.0  \n",
       "5                         1.0                 1.0  \n",
       "6                         1.0                 1.0  \n",
       "7                         0.0                 1.0  \n",
       "8                         0.0                 1.0  \n",
       "9                         1.0                 1.0  "
      ]
     },
     "execution_count": 27,
     "metadata": {},
     "output_type": "execute_result"
    }
   ],
   "source": [
    "df = ds.to_pandas()\n",
    "df"
   ]
  },
  {
   "cell_type": "code",
   "execution_count": 28,
   "id": "b3985c33",
   "metadata": {},
   "outputs": [
    {
     "data": {
      "text/html": [
       "<div>\n",
       "<style scoped>\n",
       "    .dataframe tbody tr th:only-of-type {\n",
       "        vertical-align: middle;\n",
       "    }\n",
       "\n",
       "    .dataframe tbody tr th {\n",
       "        vertical-align: top;\n",
       "    }\n",
       "\n",
       "    .dataframe thead th {\n",
       "        text-align: right;\n",
       "    }\n",
       "</style>\n",
       "<table border=\"1\" class=\"dataframe\">\n",
       "  <thead>\n",
       "    <tr style=\"text-align: right;\">\n",
       "      <th></th>\n",
       "      <th>reward</th>\n",
       "      <th>correct_answer_reward_func</th>\n",
       "      <th>format_reward_func</th>\n",
       "    </tr>\n",
       "  </thead>\n",
       "  <tbody>\n",
       "    <tr>\n",
       "      <th>count</th>\n",
       "      <td>10.000000</td>\n",
       "      <td>10.000000</td>\n",
       "      <td>10.0</td>\n",
       "    </tr>\n",
       "    <tr>\n",
       "      <th>mean</th>\n",
       "      <td>1.000000</td>\n",
       "      <td>0.800000</td>\n",
       "      <td>1.0</td>\n",
       "    </tr>\n",
       "    <tr>\n",
       "      <th>std</th>\n",
       "      <td>0.421637</td>\n",
       "      <td>0.421637</td>\n",
       "      <td>0.0</td>\n",
       "    </tr>\n",
       "    <tr>\n",
       "      <th>min</th>\n",
       "      <td>0.200000</td>\n",
       "      <td>0.000000</td>\n",
       "      <td>1.0</td>\n",
       "    </tr>\n",
       "    <tr>\n",
       "      <th>25%</th>\n",
       "      <td>1.200000</td>\n",
       "      <td>1.000000</td>\n",
       "      <td>1.0</td>\n",
       "    </tr>\n",
       "    <tr>\n",
       "      <th>50%</th>\n",
       "      <td>1.200000</td>\n",
       "      <td>1.000000</td>\n",
       "      <td>1.0</td>\n",
       "    </tr>\n",
       "    <tr>\n",
       "      <th>75%</th>\n",
       "      <td>1.200000</td>\n",
       "      <td>1.000000</td>\n",
       "      <td>1.0</td>\n",
       "    </tr>\n",
       "    <tr>\n",
       "      <th>max</th>\n",
       "      <td>1.200000</td>\n",
       "      <td>1.000000</td>\n",
       "      <td>1.0</td>\n",
       "    </tr>\n",
       "  </tbody>\n",
       "</table>\n",
       "</div>"
      ],
      "text/plain": [
       "          reward  correct_answer_reward_func  format_reward_func\n",
       "count  10.000000                   10.000000                10.0\n",
       "mean    1.000000                    0.800000                 1.0\n",
       "std     0.421637                    0.421637                 0.0\n",
       "min     0.200000                    0.000000                 1.0\n",
       "25%     1.200000                    1.000000                 1.0\n",
       "50%     1.200000                    1.000000                 1.0\n",
       "75%     1.200000                    1.000000                 1.0\n",
       "max     1.200000                    1.000000                 1.0"
      ]
     },
     "execution_count": 28,
     "metadata": {},
     "output_type": "execute_result"
    }
   ],
   "source": [
    "df.describe()"
   ]
  },
  {
   "cell_type": "code",
   "execution_count": 29,
   "id": "1c7d6b7c",
   "metadata": {},
   "outputs": [],
   "source": [
    "# row = df.iloc[0]\n",
    "# for msg in row['prompt']:\n",
    "#     print(msg['content'])\n",
    "# for msg in row['completion']:\n",
    "#     print(msg['content'])"
   ]
  },
  {
   "cell_type": "code",
   "execution_count": null,
   "id": "22bc571f",
   "metadata": {},
   "outputs": [],
   "source": []
  }
 ],
 "metadata": {
  "kernelspec": {
   "display_name": ".venv",
   "language": "python",
   "name": "python3"
  },
  "language_info": {
   "codemirror_mode": {
    "name": "ipython",
    "version": 3
   },
   "file_extension": ".py",
   "mimetype": "text/x-python",
   "name": "python",
   "nbconvert_exporter": "python",
   "pygments_lexer": "ipython3",
   "version": "3.12.9"
  }
 },
 "nbformat": 4,
 "nbformat_minor": 5
}
