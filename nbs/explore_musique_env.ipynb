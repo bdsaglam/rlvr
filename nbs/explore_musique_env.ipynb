{
 "cells": [
  {
   "cell_type": "code",
   "execution_count": 14,
   "id": "a143f034",
   "metadata": {},
   "outputs": [],
   "source": [
    "from pathlib import Path\n",
    "import json\n",
    "import typer\n",
    "import pandas as pd\n",
    "import verifiers as vf\n",
    "from verifiers.types import SamplingArgs\n",
    "from dotenv import load_dotenv\n",
    "from openai import AsyncOpenAI\n",
    "\n",
    "assert load_dotenv(), \"Failed to load .env file\"\n",
    "\n",
    "openai_client = AsyncOpenAI()\n",
    "\n",
    "\n",
    "def jprint(obj):\n",
    "    print(json.dumps(obj, indent=2))\n"
   ]
  },
  {
   "cell_type": "code",
   "execution_count": 15,
   "id": "5dff558e",
   "metadata": {},
   "outputs": [
    {
     "data": {
      "text/plain": [
       "<Experiment: artifact_location='mlflow-artifacts:/3', creation_time=1756053851638, experiment_id='3', last_update_time=1756053851638, lifecycle_stage='active', name='RLVR', tags={}>"
      ]
     },
     "execution_count": 15,
     "metadata": {},
     "output_type": "execute_result"
    }
   ],
   "source": [
    "import mlflow\n",
    "\n",
    "# Tell MLflow about the server URI.\n",
    "mlflow.set_tracking_uri(\"http://127.0.0.1:5000\")\n",
    "# Enable autologging with all features\n",
    "mlflow.openai.autolog()\n",
    "# Create a unique name for your experiment.\n",
    "mlflow.set_experiment(\"RLVR\")"
   ]
  },
  {
   "cell_type": "code",
   "execution_count": 16,
   "id": "9328583a",
   "metadata": {},
   "outputs": [
    {
     "name": "stdout",
     "output_type": "stream",
     "text": [
      "Qwen/Qwen2.5-7B-Instruct\n"
     ]
    }
   ],
   "source": [
    "model_response = await openai_client.models.list()\n",
    "available_models = [item.id for item in model_response.data if item.object == 'model']\n",
    "model = available_models[0]\n",
    "print(model)"
   ]
  },
  {
   "cell_type": "code",
   "execution_count": 17,
   "id": "43526040",
   "metadata": {},
   "outputs": [
    {
     "name": "stdout",
     "output_type": "stream",
     "text": [
      "📊 Dataset: bdsaglam/musique-mini,answerable,validation[:8] (noise rate: 1.0)\n",
      "🔍 Retriever: hybrid\n",
      "🌍 Loading MuSiQue environment...\n"
     ]
    },
    {
     "data": {
      "application/vnd.jupyter.widget-view+json": {
       "model_id": "7156992aabf847ccbf5eadb50036dbf9",
       "version_major": 2,
       "version_minor": 0
      },
      "text/plain": [
       "Map: 100%|##########| 8/8 [00:00<?, ? examples/s]"
      ]
     },
     "metadata": {},
     "output_type": "display_data"
    },
    {
     "name": "stdout",
     "output_type": "stream",
     "text": [
      "✅ Environment loaded with 8 examples\n"
     ]
    }
   ],
   "source": [
    "datasets_str = \"bdsaglam/musique-mini,answerable,validation[:8]\"\n",
    "noise_rate = 1.0\n",
    "retriever = \"hybrid\"\n",
    "\n",
    "print(f\"📊 Dataset: {datasets_str} (noise rate: {noise_rate})\")\n",
    "print(f\"🔍 Retriever: {retriever}\")\n",
    "\n",
    "# Load MuSiQue environment\n",
    "print(\"🌍 Loading MuSiQue environment...\")\n",
    "\n",
    "vf_env = vf.load_environment(\n",
    "    env_id=\"vf-musique\",\n",
    "    datasets_str=datasets_str,\n",
    "    noise_rate=noise_rate,\n",
    "    retriever_name=retriever,\n",
    ")\n",
    "print(f\"✅ Environment loaded with {len(vf_env.dataset)} examples\")"
   ]
  },
  {
   "cell_type": "code",
   "execution_count": 18,
   "id": "2c5a38b5",
   "metadata": {},
   "outputs": [
    {
     "data": {
      "text/plain": [
       "[{'type': 'function',\n",
       "  'function': {'name': 'retrieve_documents',\n",
       "   'description': 'Retrieve relevant documents by the query. The results get better with more specific queries.',\n",
       "   'parameters': {'type': 'object',\n",
       "    'properties': {'query': {'type': 'string',\n",
       "      'description': 'Parameter `query` of type string.'},\n",
       "     'top_n': {'type': 'integer',\n",
       "      'description': 'Parameter `top_n` of type integer.'}},\n",
       "    'required': ['query']}}},\n",
       " {'type': 'function',\n",
       "  'function': {'name': 'get_document',\n",
       "   'description': 'Get a document by its ID.',\n",
       "   'parameters': {'type': 'object',\n",
       "    'properties': {'doc_id': {'type': 'string',\n",
       "      'description': 'Parameter `doc_id` of type string.'}},\n",
       "    'required': ['doc_id']}}}]"
      ]
     },
     "execution_count": 18,
     "metadata": {},
     "output_type": "execute_result"
    }
   ],
   "source": [
    "vf_env.oai_tools"
   ]
  },
  {
   "cell_type": "code",
   "execution_count": 19,
   "id": "3f4ad647",
   "metadata": {},
   "outputs": [
    {
     "data": {
      "text/html": [
       "\n",
       "<div>\n",
       "  <style scoped>\n",
       "  button {\n",
       "    border: none;\n",
       "    border-radius: 4px;\n",
       "    background-color: rgb(34, 114, 180);\n",
       "    font-family: -apple-system, \"system-ui\", \"Segoe UI\", Roboto, \"Helvetica Neue\", Arial;\n",
       "    font-size: 13px;\n",
       "    color: white;\n",
       "    margin-top: 8px;\n",
       "    margin-bottom: 8px;\n",
       "    padding: 8px 16px;\n",
       "    cursor: pointer;\n",
       "  }\n",
       "  button:hover {\n",
       "    background-color: rgb(66, 153, 224);\n",
       "  }\n",
       "  </style>\n",
       "  <button\n",
       "    onclick=\"\n",
       "        const display = this.nextElementSibling.style.display;\n",
       "        const isCollapsed = display === 'none';\n",
       "        this.nextElementSibling.style.display = isCollapsed ? null : 'none';\n",
       "\n",
       "        const verb = isCollapsed ? 'Collapse' : 'Expand';\n",
       "        this.innerText = `${verb} MLflow Trace`;\n",
       "    \"\n",
       "  >Collapse MLflow Trace</button>\n",
       "  <iframe\n",
       "    id=\"trace-renderer\"\n",
       "    style=\"width: 100%; height: 500px; border: none; resize: vertical;\"\n",
       "    src=\"http://127.0.0.1:5000/static-files/lib/notebook-trace-renderer/index.html?trace_id=tr-dc0eefb086714df90333d51040fed1b4&amp;experiment_id=3&amp;trace_id=tr-7faedc87e22e15a9dfe4cd31f46bff07&amp;experiment_id=3&amp;trace_id=tr-3f50d30846bad5a69ce469064ed4dd37&amp;experiment_id=3&amp;version=3.3.1\"\n",
       "  />\n",
       "</div>\n"
      ],
      "text/plain": [
       "[Trace(trace_id=tr-dc0eefb086714df90333d51040fed1b4), Trace(trace_id=tr-7faedc87e22e15a9dfe4cd31f46bff07), Trace(trace_id=tr-3f50d30846bad5a69ce469064ed4dd37)]"
      ]
     },
     "metadata": {},
     "output_type": "display_data"
    }
   ],
   "source": [
    "# Environments provide rollout interfaces for RL\n",
    "example = vf_env.dataset[0]\n",
    "\n",
    "prompt = example[\"prompt\"]\n",
    "answer = example[\"answer\"]\n",
    "info = example[\"info\"]\n",
    "info['oai_tools'] = vf_env.oai_tools\n",
    "\n",
    "\n",
    "sampling_args = dict(temperature=1.0)\n",
    "\n",
    "completion, state = await vf_env.rollout(\n",
    "    openai_client,\n",
    "    model=model,\n",
    "    prompt=prompt,\n",
    "    answer=answer,\n",
    "    info=info,\n",
    "    sampling_args=sampling_args,\n",
    ")"
   ]
  },
  {
   "cell_type": "code",
   "execution_count": 20,
   "id": "c9a77fdf",
   "metadata": {},
   "outputs": [
    {
     "name": "stdout",
     "output_type": "stream",
     "text": [
      "<class 'list'>\n",
      "<class 'dict'>\n"
     ]
    },
    {
     "data": {
      "text/plain": [
       "{'role': 'assistant',\n",
       " 'content': \"<think>\\nFirst, I need to identify who won the men's Wimbledon championship in 2016. I will search for information about the 2016 Wimbledon championships.\\n</think>\\n\",\n",
       " 'tool_calls': [ChatCompletionMessageToolCall(id='chatcmpl-tool-45d6a3f3347443f08a7599de8a363cb2', function=Function(arguments='{\"query\": \"2016 Wimbledon Championships winner\", \"top_n\": 5}', name='retrieve_documents'), type='function')]}"
      ]
     },
     "execution_count": 20,
     "metadata": {},
     "output_type": "execute_result"
    }
   ],
   "source": [
    "print(type(completion))\n",
    "print(type(completion[0]))\n",
    "completion[0]"
   ]
  },
  {
   "cell_type": "code",
   "execution_count": 21,
   "id": "bf8e5511",
   "metadata": {},
   "outputs": [
    {
     "data": {
      "text/plain": [
       "{'prompt': [{'content': \"Answer the question based on the information provided by tools.\\n\\nFor each step:\\n1. Think through your reasoning inside <think> tags\\n2. Use tools to retrieve relevant documents\\n3. Continue until you have found the answer through multi-hop reasoning\\n4. In the **last** step:\\n    - Reflect on your previous steps inside <think> tags\\n    - Cite the documents you used inside <cite> tags by their IDs, e.g. `<cite>1, 2, 3</cite>`\\n    - Give your final answer inside <answer> tags\\nAn example for your final message:\\n```\\n<think>\\n[your thinking here]\\n</think> \\n<cite>\\n[IDs of the documents that back your answer]\\n</cite>\\n<answer>\\n[your final answer here without any additional text]\\n</answer>\\n```\\n\\n- Do not make up tools or arguments that aren't listed.\\n- Questions require multi-hop reasoning across multiple documents.\\n- Continue searching until you find all relevant information to answer the question.\",\n",
       "   'role': 'system'},\n",
       "  {'content': 'Who\\'s the sibling of the player who won the men\\'s wimbledon championship 2016?\\n\\n# Available documents\\n<doc id=\"0\" title=\"Kallhälls BK\"/>\\n<doc id=\"1\" title=\"2018 Wimbledon Championships\"/>\\n<doc id=\"2\" title=\"Roger Federer\"/>\\n<doc id=\"3\" title=\"Graham Oberlin-Brown\"/>\\n<doc id=\"4\" title=\"1980 Wimbledon Championships – Men\\'s singles final\"/>\\n<doc id=\"5\" title=\"2017 Wimbledon Championships – Men\\'s Singles\"/>\\n<doc id=\"6\" title=\"2015 Wimbledon Championships\"/>\\n<doc id=\"7\" title=\"1999 Wimbledon Championships – Men\\'s Singles\"/>\\n<doc id=\"8\" title=\"2011 Valencia Open 500 – Doubles\"/>\\n<doc id=\"9\" title=\"2015 Wimbledon Championships\"/>\\n<doc id=\"10\" title=\"The Championships, Wimbledon\"/>\\n<doc id=\"11\" title=\"2001 World Men\\'s Handball Championship\"/>\\n<doc id=\"12\" title=\"2011 Wimbledon Championships\"/>\\n<doc id=\"13\" title=\"Storvreta IBK\"/>\\n<doc id=\"14\" title=\"The Championships, Wimbledon\"/>\\n<doc id=\"15\" title=\"2017 Wimbledon Championships – Men\\'s Singles\"/>\\n<doc id=\"16\" title=\"2016 Wimbledon Championships\"/>\\n<doc id=\"17\" title=\"Figure skating\"/>\\n<doc id=\"18\" title=\"2007 UCI Road World Championships\"/>\\n<doc id=\"19\" title=\"Raatbek Sanatbayev\"/>\\n',\n",
       "   'role': 'user'}],\n",
       " 'completion': [],\n",
       " 'answer': 'Jamie Murray',\n",
       " 'task': 'default',\n",
       " 'info': {'answers': ['jamie murray', 'Jamie Murray'],\n",
       "  'docs': [{'body': \"Kallhälls BK was a sports club in Bosön, Sweden. The club won the Swedish men's national volleyball championship in 1964.\",\n",
       "    'id': '0',\n",
       "    'is_supporting': False,\n",
       "    'text': \"# Kallhälls BK\\nKallhälls BK was a sports club in Bosön, Sweden. The club won the Swedish men's national volleyball championship in 1964.\",\n",
       "    'title': 'Kallhälls BK'},\n",
       "   {'body': \"2018 Wimbledon Championships Date 2 -- 15 July Edition 132nd Grand Slam (ITF) Draw 128S / 64D / 48XD Prize money £34,000,000 Surface Grass Location Church Road SW19, Wimbledon, London, United Kingdom Venue All England Lawn Tennis and Croquet Club Champions Men's Singles Novak Djokovic Women's Singles Angelique Kerber Men's Doubles Mike Bryan / Jack Sock Women's Doubles Barbora Krejčíková / Kateřina Siniaková Mixed Doubles Alexander Peya / Nicole Melichar Boys' Singles Tseng Chun - hsin Girls' Singles Iga Świątek Boys' Doubles Yankı Erel / Otto Virtanen Girls' Doubles Wang Xinyu / Wang Xiyu Gentlemen's Invitation Doubles Tommy Haas / Mark Philippoussis Ladies' Invitation Doubles Kim Clijsters / Rennae Stubbs Senior Gentlemen's Invitation Doubles Jonas Björkman / Todd Woodbridge Wheelchair Men's Singles Stefan Olsson Wheelchair Women's Singles Diede de Groot Wheelchair Men's Doubles Alfie Hewett / Gordon Reid Wheelchair Women's Doubles Diede de Groot / Yui Kamiji Wheelchair Quad Doubles Andrew Lapthorne / David Wagner ← 2017 Wimbledon Championships 2019 →\",\n",
       "    'id': '1',\n",
       "    'is_supporting': False,\n",
       "    'text': \"# 2018 Wimbledon Championships\\n2018 Wimbledon Championships Date 2 -- 15 July Edition 132nd Grand Slam (ITF) Draw 128S / 64D / 48XD Prize money £34,000,000 Surface Grass Location Church Road SW19, Wimbledon, London, United Kingdom Venue All England Lawn Tennis and Croquet Club Champions Men's Singles Novak Djokovic Women's Singles Angelique Kerber Men's Doubles Mike Bryan / Jack Sock Women's Doubles Barbora Krejčíková / Kateřina Siniaková Mixed Doubles Alexander Peya / Nicole Melichar Boys' Singles Tseng Chun - hsin Girls' Singles Iga Świątek Boys' Doubles Yankı Erel / Otto Virtanen Girls' Doubles Wang Xinyu / Wang Xiyu Gentlemen's Invitation Doubles Tommy Haas / Mark Philippoussis Ladies' Invitation Doubles Kim Clijsters / Rennae Stubbs Senior Gentlemen's Invitation Doubles Jonas Björkman / Todd Woodbridge Wheelchair Men's Singles Stefan Olsson Wheelchair Women's Singles Diede de Groot Wheelchair Men's Doubles Alfie Hewett / Gordon Reid Wheelchair Women's Doubles Diede de Groot / Yui Kamiji Wheelchair Quad Doubles Andrew Lapthorne / David Wagner ← 2017 Wimbledon Championships 2019 →\",\n",
       "    'title': '2018 Wimbledon Championships'},\n",
       "   {'body': \"Federer has won a record eight Wimbledon titles, a joint - record six Australian Open titles, a record five consecutive US Open titles, and one French Open title. He is one of eight men to have captured a career Grand Slam. Federer has reached a record 30 men's singles Grand Slam finals, including 10 in a row from the 2005 Wimbledon Championships to the 2007 US Open. He reached the semifinals at 23 consecutive Grand Slam tournaments, from the 2004 Wimbledon Championships through to the 2010 Australian Open. Federer has also won a record six ATP Finals, 27 ATP World Tour Masters 1000 titles, and a record 20 ATP World Tour 500 titles. Given these achievements, many players and analysts consider Federer the greatest tennis player of all time.\",\n",
       "    'id': '2',\n",
       "    'is_supporting': False,\n",
       "    'text': \"# Roger Federer\\nFederer has won a record eight Wimbledon titles, a joint - record six Australian Open titles, a record five consecutive US Open titles, and one French Open title. He is one of eight men to have captured a career Grand Slam. Federer has reached a record 30 men's singles Grand Slam finals, including 10 in a row from the 2005 Wimbledon Championships to the 2007 US Open. He reached the semifinals at 23 consecutive Grand Slam tournaments, from the 2004 Wimbledon Championships through to the 2010 Australian Open. Federer has also won a record six ATP Finals, 27 ATP World Tour Masters 1000 titles, and a record 20 ATP World Tour 500 titles. Given these achievements, many players and analysts consider Federer the greatest tennis player of all time.\",\n",
       "    'title': 'Roger Federer'},\n",
       "   {'body': \"Graham Oberlin-Brown (born 8 February 1988) is a New Zealand rower. In 2006 (aged 18) along with Peter Taylor he became the Under 23 World Champion in the men's lightweight double sculls, and in doing so set a new world under 23 best time. In 2008 Oberlin-Brown won his second Under 23 World Championship in the men's lightweight single (aged 20). At the 2010 World Rowing Championships, he won a silver medal in the lightweight men's pair partnering with James Lassche. Oberlin-Brown represented New Zealand in rowing from 2006 to 2012.\",\n",
       "    'id': '3',\n",
       "    'is_supporting': False,\n",
       "    'text': \"# Graham Oberlin-Brown\\nGraham Oberlin-Brown (born 8 February 1988) is a New Zealand rower. In 2006 (aged 18) along with Peter Taylor he became the Under 23 World Champion in the men's lightweight double sculls, and in doing so set a new world under 23 best time. In 2008 Oberlin-Brown won his second Under 23 World Championship in the men's lightweight single (aged 20). At the 2010 World Rowing Championships, he won a silver medal in the lightweight men's pair partnering with James Lassche. Oberlin-Brown represented New Zealand in rowing from 2006 to 2012.\",\n",
       "    'title': 'Graham Oberlin-Brown'},\n",
       "   {'body': \"The 1980 Wimbledon Men's Singles final was the championship tennis match of the Men's Singles tournament at the 1980 Wimbledon Championships. In the final, Björn Borg defeated John McEnroe 1 -- 6, 7 -- 5, 6 -- 3, 6 -- 7, 8 -- 6 to win the match. It was regarded at the time as the greatest match ever played. It would be another 28 years before the 2008 Wimbledon men's singles final between Roger Federer and Rafael Nadal would rival the match as the greatest ever played.\",\n",
       "    'id': '4',\n",
       "    'is_supporting': False,\n",
       "    'text': \"# 1980 Wimbledon Championships – Men's singles final\\nThe 1980 Wimbledon Men's Singles final was the championship tennis match of the Men's Singles tournament at the 1980 Wimbledon Championships. In the final, Björn Borg defeated John McEnroe 1 -- 6, 7 -- 5, 6 -- 3, 6 -- 7, 8 -- 6 to win the match. It was regarded at the time as the greatest match ever played. It would be another 28 years before the 2008 Wimbledon men's singles final between Roger Federer and Rafael Nadal would rival the match as the greatest ever played.\",\n",
       "    'title': \"1980 Wimbledon Championships – Men's singles final\"},\n",
       "   {'body': \"Roger Federer achieved his record eighth Wimbledon and 19th Grand Slam men's singles title, defeating Marin Čilić in the final, 6 -- 3, 6 -- 1, 6 -- 4. Federer thus became the only male player to win the Wimbledon singles title eight times, as well as only the second man in the Open era, after Björn Borg in 1976, to win Wimbledon without losing a set. This was Federer's 70th appearance at a Grand Slam, tying the record for male players and a record - breaking 11th men's singles final at the same Grand Slam tournament. In addition, by virtue of his third - round win over Mischa Zverev, Federer won his 317th Grand Slam singles match, surpassing Serena Williams' record of 316 match wins and giving him the all - time record for the most Grand Slam singles wins by any player, male or female. The tournament marked the fifth time that Nadal and Federer won the French Open and Wimbledon respectively in the same year.\",\n",
       "    'id': '5',\n",
       "    'is_supporting': False,\n",
       "    'text': \"# 2017 Wimbledon Championships – Men's Singles\\nRoger Federer achieved his record eighth Wimbledon and 19th Grand Slam men's singles title, defeating Marin Čilić in the final, 6 -- 3, 6 -- 1, 6 -- 4. Federer thus became the only male player to win the Wimbledon singles title eight times, as well as only the second man in the Open era, after Björn Borg in 1976, to win Wimbledon without losing a set. This was Federer's 70th appearance at a Grand Slam, tying the record for male players and a record - breaking 11th men's singles final at the same Grand Slam tournament. In addition, by virtue of his third - round win over Mischa Zverev, Federer won his 317th Grand Slam singles match, surpassing Serena Williams' record of 316 match wins and giving him the all - time record for the most Grand Slam singles wins by any player, male or female. The tournament marked the fifth time that Nadal and Federer won the French Open and Wimbledon respectively in the same year.\",\n",
       "    'title': \"2017 Wimbledon Championships – Men's Singles\"},\n",
       "   {'body': 'Serena Williams won her sixth Wimbledon and 21st major title, defeating first - time finalist Garbiñe Muguruza in the final, 6 -- 4, 6 -- 4. She also achieved her second non-calendar year Grand Slam after winning the 2014 US Open, 2015 Australian Open and 2015 French Open. With this win, Williams also became the oldest woman to win a Grand Slam singles title in the Open Era at 33 years and 289 days old by 26 days, beating Martina Navratilova, who won the 1990 Wimbledon Championships at 33 years and 263 days old.',\n",
       "    'id': '6',\n",
       "    'is_supporting': False,\n",
       "    'text': '# 2015 Wimbledon Championships\\nSerena Williams won her sixth Wimbledon and 21st major title, defeating first - time finalist Garbiñe Muguruza in the final, 6 -- 4, 6 -- 4. She also achieved her second non-calendar year Grand Slam after winning the 2014 US Open, 2015 Australian Open and 2015 French Open. With this win, Williams also became the oldest woman to win a Grand Slam singles title in the Open Era at 33 years and 289 days old by 26 days, beating Martina Navratilova, who won the 1990 Wimbledon Championships at 33 years and 263 days old.',\n",
       "    'title': '2015 Wimbledon Championships'},\n",
       "   {'body': \"Pete Sampras successfully defended his title, defeating Andre Agassi in the final, 6–3, 6–4, 7–5 to win the Gentlemen's Singles tennis title at the 1999 Wimbledon Championships. With this win, his sixth at Wimbledon, Sampras broke Björn Borg's then open era record of five Wimbledon titles, and equalled Roy Emerson's then record of twelve Grand Slam titles. Sampras' victory over Agassi in the final is often cited as one of the greatest performances in a Wimbledon final. However, despite his victory, Sampras lost his No. 1 ranking when the ATP rankings were updated a day later to Agassi, who in addition to his run to the Wimbledon Final, had recently won the 1999 French Open.\",\n",
       "    'id': '7',\n",
       "    'is_supporting': False,\n",
       "    'text': \"# 1999 Wimbledon Championships – Men's Singles\\nPete Sampras successfully defended his title, defeating Andre Agassi in the final, 6–3, 6–4, 7–5 to win the Gentlemen's Singles tennis title at the 1999 Wimbledon Championships. With this win, his sixth at Wimbledon, Sampras broke Björn Borg's then open era record of five Wimbledon titles, and equalled Roy Emerson's then record of twelve Grand Slam titles. Sampras' victory over Agassi in the final is often cited as one of the greatest performances in a Wimbledon final. However, despite his victory, Sampras lost his No. 1 ranking when the ATP rankings were updated a day later to Agassi, who in addition to his run to the Wimbledon Final, had recently won the 1999 French Open.\",\n",
       "    'title': \"1999 Wimbledon Championships – Men's Singles\"},\n",
       "   {'body': 'Andy Murray and Jamie Murray were the defending champions but decided to participate at Basel instead. The brothers Bob and Mike Bryan became the new champions, defeating Eric Butorac and Jean-Julien Rojer in the final.',\n",
       "    'id': '8',\n",
       "    'is_supporting': True,\n",
       "    'text': '# 2011 Valencia Open 500 – Doubles\\nAndy Murray and Jamie Murray were the defending champions but decided to participate at Basel instead. The brothers Bob and Mike Bryan became the new champions, defeating Eric Butorac and Jean-Julien Rojer in the final.',\n",
       "    'title': '2011 Valencia Open 500 – Doubles'},\n",
       "   {'body': 'The 2015 Wimbledon Championships was a Grand Slam tennis tournament which took place at the All England Lawn Tennis and Croquet Club in Wimbledon, London, United Kingdom, from 29 June to 12 July 2015.',\n",
       "    'id': '9',\n",
       "    'is_supporting': False,\n",
       "    'text': '# 2015 Wimbledon Championships\\nThe 2015 Wimbledon Championships was a Grand Slam tennis tournament which took place at the All England Lawn Tennis and Croquet Club in Wimbledon, London, United Kingdom, from 29 June to 12 July 2015.',\n",
       "    'title': '2015 Wimbledon Championships'},\n",
       "   {'body': \"In 1884, the club added Ladies' Singles and Gentlemen's Doubles competitions. Ladies' Doubles and Mixed Doubles events were added in 1913. Until 1922, the reigning champion had to play only in the final, against whomever had won through to challenge him/her. As with the other three Major or Grand Slam events, Wimbledon was contested by top-ranked amateur players; professional players were prohibited from participating. This changed with the advent of the open era in 1968. No British man won the singles event at Wimbledon between Fred Perry in 1936 and Andy Murray in 2013, while no British woman has won since Virginia Wade in 1977, although Annabel Croft and Laura Robson won the Girls' Championship in 1984 and 2008 respectively. The Championship was first televised in 1937.\",\n",
       "    'id': '10',\n",
       "    'is_supporting': False,\n",
       "    'text': \"# The Championships, Wimbledon\\nIn 1884, the club added Ladies' Singles and Gentlemen's Doubles competitions. Ladies' Doubles and Mixed Doubles events were added in 1913. Until 1922, the reigning champion had to play only in the final, against whomever had won through to challenge him/her. As with the other three Major or Grand Slam events, Wimbledon was contested by top-ranked amateur players; professional players were prohibited from participating. This changed with the advent of the open era in 1968. No British man won the singles event at Wimbledon between Fred Perry in 1936 and Andy Murray in 2013, while no British woman has won since Virginia Wade in 1977, although Annabel Croft and Laura Robson won the Girls' Championship in 1984 and 2008 respectively. The Championship was first televised in 1937.\",\n",
       "    'title': 'The Championships, Wimbledon'},\n",
       "   {'body': \"The 2001 World Men's Handball Championship took place in France from 23 January to 4 February 2001. It was the 17th edition of the World Championship in team handball and the hosts won the championship.\",\n",
       "    'id': '11',\n",
       "    'is_supporting': False,\n",
       "    'text': \"# 2001 World Men's Handball Championship\\nThe 2001 World Men's Handball Championship took place in France from 23 January to 4 February 2001. It was the 17th edition of the World Championship in team handball and the hosts won the championship.\",\n",
       "    'title': \"2001 World Men's Handball Championship\"},\n",
       "   {'body': 'The 2011 Wimbledon Championships was a tennis tournament played on grass courts at the All England Lawn Tennis and Croquet Club in Wimbledon, London in England. It was the 125th edition of the Wimbledon Championships and were held from 20 June to 3 July 2011. It was the third Grand Slam tennis event of the year and was part of the ATP World Tour, the WTA Tour, the ITF Junior Tour and the NEC Tour. The championships were organised by the All England Lawn Tennis and Croquet Club and the International Tennis Federation.',\n",
       "    'id': '12',\n",
       "    'is_supporting': False,\n",
       "    'text': '# 2011 Wimbledon Championships\\nThe 2011 Wimbledon Championships was a tennis tournament played on grass courts at the All England Lawn Tennis and Croquet Club in Wimbledon, London in England. It was the 125th edition of the Wimbledon Championships and were held from 20 June to 3 July 2011. It was the third Grand Slam tennis event of the year and was part of the ATP World Tour, the WTA Tour, the ITF Junior Tour and the NEC Tour. The championships were organised by the All England Lawn Tennis and Croquet Club and the International Tennis Federation.',\n",
       "    'title': '2011 Wimbledon Championships'},\n",
       "   {'body': \"The Storvreta Innebandyklubb or Storvreta IBK, is a floorball club based in Storvreta, Sweden. The men's team plays in Sweden's highest floorball league, the SSL. They won the Swedish national championship in 2010, 2011, 2012, 2016, 2018 and 2019.\",\n",
       "    'id': '13',\n",
       "    'is_supporting': False,\n",
       "    'text': \"# Storvreta IBK\\nThe Storvreta Innebandyklubb or Storvreta IBK, is a floorball club based in Storvreta, Sweden. The men's team plays in Sweden's highest floorball league, the SSL. They won the Swedish national championship in 2010, 2011, 2012, 2016, 2018 and 2019.\",\n",
       "    'title': 'Storvreta IBK'},\n",
       "   {'body': \"In 1884, the club added Ladies' Singles and Gentlemen's Doubles competitions. Ladies' Doubles and Mixed Doubles events were added in 1913. Until 1922, the reigning champion had to play only in the final, against whomever had won through to challenge him / her. As with the other three Major or Grand Slam events, Wimbledon was contested by top - ranked amateur players, professional players were prohibited from participating. This changed with the advent of the open era in 1968. No British man won the singles event at Wimbledon between Fred Perry in 1936 and Andy Murray in 2013, while no British woman has won since Virginia Wade in 1977, although Annabel Croft and Laura Robson won the Girls' Championship in 1984 and 2008 respectively. The Championship was first televised in 1937.\",\n",
       "    'id': '14',\n",
       "    'is_supporting': False,\n",
       "    'text': \"# The Championships, Wimbledon\\nIn 1884, the club added Ladies' Singles and Gentlemen's Doubles competitions. Ladies' Doubles and Mixed Doubles events were added in 1913. Until 1922, the reigning champion had to play only in the final, against whomever had won through to challenge him / her. As with the other three Major or Grand Slam events, Wimbledon was contested by top - ranked amateur players, professional players were prohibited from participating. This changed with the advent of the open era in 1968. No British man won the singles event at Wimbledon between Fred Perry in 1936 and Andy Murray in 2013, while no British woman has won since Virginia Wade in 1977, although Annabel Croft and Laura Robson won the Girls' Championship in 1984 and 2008 respectively. The Championship was first televised in 1937.\",\n",
       "    'title': 'The Championships, Wimbledon'},\n",
       "   {'body': \"Men's Singles 2017 Wimbledon Championships Champion Roger Federer Runner - up Marin Čilić Final score 6 -- 3, 6 -- 1, 6 -- 4 Details Draw 128 (16 Q / 8 WC) Seeds 32 Events Singles men women boys girls Doubles men women mixed boys girls Legends men women seniors WC Doubles men women ← 2016 Wimbledon Championships 2018 →\",\n",
       "    'id': '15',\n",
       "    'is_supporting': False,\n",
       "    'text': \"# 2017 Wimbledon Championships – Men's Singles\\nMen's Singles 2017 Wimbledon Championships Champion Roger Federer Runner - up Marin Čilić Final score 6 -- 3, 6 -- 1, 6 -- 4 Details Draw 128 (16 Q / 8 WC) Seeds 32 Events Singles men women boys girls Doubles men women mixed boys girls Legends men women seniors WC Doubles men women ← 2016 Wimbledon Championships 2018 →\",\n",
       "    'title': \"2017 Wimbledon Championships – Men's Singles\"},\n",
       "   {'body': \"Novak Djokovic was the two - time defending champion in the Gentlemen's Singles, but he lost in the third round to Sam Querrey, ending a 30 - match winning streak in Grand Slams and Djokovic's hopes of becoming the first man to achieve the golden calendar slam. The Gentlemen's Singles title was won by Andy Murray. Serena Williams successfully defended her Ladies' Singles title and equaled Steffi Graf's Open Era record of 22 major singles titles.\",\n",
       "    'id': '16',\n",
       "    'is_supporting': True,\n",
       "    'text': \"# 2016 Wimbledon Championships\\nNovak Djokovic was the two - time defending champion in the Gentlemen's Singles, but he lost in the third round to Sam Querrey, ending a 30 - match winning streak in Grand Slams and Djokovic's hopes of becoming the first man to achieve the golden calendar slam. The Gentlemen's Singles title was won by Andy Murray. Serena Williams successfully defended her Ladies' Singles title and equaled Steffi Graf's Open Era record of 22 major singles titles.\",\n",
       "    'title': '2016 Wimbledon Championships'},\n",
       "   {'body': \"The ISU was founded in 1892. The first European Championships were held in 1891, and the first World Championships were held in 1896 and won by Gilbert Fuchs. Only men competed in these events. In 1902, a woman, Madge Syers, entered the World competition for the first time, finishing second. The ISU quickly banned women from competing against men, but established a separate competition for ``ladies ''in 1906. Pair skating was introduced at the 1908 World Championships, where the title was won by Anna Hübler / Heinrich Burger. Figure skating's Olympic debut came at the 1908 Summer Olympics -- it was the first winter sport introduced to the Olympics.\",\n",
       "    'id': '17',\n",
       "    'is_supporting': False,\n",
       "    'text': \"# Figure skating\\nThe ISU was founded in 1892. The first European Championships were held in 1891, and the first World Championships were held in 1896 and won by Gilbert Fuchs. Only men competed in these events. In 1902, a woman, Madge Syers, entered the World competition for the first time, finishing second. The ISU quickly banned women from competing against men, but established a separate competition for ``ladies ''in 1906. Pair skating was introduced at the 1908 World Championships, where the title was won by Anna Hübler / Heinrich Burger. Figure skating's Olympic debut came at the 1908 Summer Olympics -- it was the first winter sport introduced to the Olympics.\",\n",
       "    'title': 'Figure skating'},\n",
       "   {'body': \"The 2007 UCI Road World Championships took place in Stuttgart, Germany, between September 25 and September 30, 2007. The event consisted of a road race and a time trial for men, women and men under 23. Italian Paolo Bettini and Swiss Fabian Cancellara both won their second world championships in a row in the elite men's road race and time trial respectively.\",\n",
       "    'id': '18',\n",
       "    'is_supporting': False,\n",
       "    'text': \"# 2007 UCI Road World Championships\\nThe 2007 UCI Road World Championships took place in Stuttgart, Germany, between September 25 and September 30, 2007. The event consisted of a road race and a time trial for men, women and men under 23. Italian Paolo Bettini and Swiss Fabian Cancellara both won their second world championships in a row in the elite men's road race and time trial respectively.\",\n",
       "    'title': '2007 UCI Road World Championships'},\n",
       "   {'body': \"Raatbek Sanatbayev (May 7, 1969 – January 8, 2006 in Bishkek, Kyrgyzstan) was a Kyrgyz Greco-Roman wrestler who competed in the Men's Greco-Roman 82\\xa0kg at the 1996 Summer Olympics and the Men's Greco-Roman 85\\xa0kg at the 2000 Summer Olympics. He won the bronze medal at the 1999 World Championships, and won the Asian Championship in 1999 and 2000, silver medals in the 1995 and 1997 Asian Championships and 1994 and 1998 Asian Games, and a bronze medal at the 1996 Asian Championships.\",\n",
       "    'id': '19',\n",
       "    'is_supporting': False,\n",
       "    'text': \"# Raatbek Sanatbayev\\nRaatbek Sanatbayev (May 7, 1969 – January 8, 2006 in Bishkek, Kyrgyzstan) was a Kyrgyz Greco-Roman wrestler who competed in the Men's Greco-Roman 82\\xa0kg at the 1996 Summer Olympics and the Men's Greco-Roman 85\\xa0kg at the 2000 Summer Olympics. He won the bronze medal at the 1999 World Championships, and won the Asian Championship in 1999 and 2000, silver medals in the 1995 and 1997 Asian Championships and 1994 and 1998 Asian Games, and a bronze medal at the 1996 Asian Championships.\",\n",
       "    'title': 'Raatbek Sanatbayev'}],\n",
       "  'id': '2hop__83800_747874',\n",
       "  'n_hops': 2,\n",
       "  'oai_tools': [{'type': 'function',\n",
       "    'function': {'name': 'retrieve_documents',\n",
       "     'description': 'Retrieve relevant documents by the query. The results get better with more specific queries.',\n",
       "     'parameters': {'type': 'object',\n",
       "      'properties': {'query': {'type': 'string',\n",
       "        'description': 'Parameter `query` of type string.'},\n",
       "       'top_n': {'type': 'integer',\n",
       "        'description': 'Parameter `top_n` of type integer.'}},\n",
       "      'required': ['query']}}},\n",
       "   {'type': 'function',\n",
       "    'function': {'name': 'get_document',\n",
       "     'description': 'Get a document by its ID.',\n",
       "     'parameters': {'type': 'object',\n",
       "      'properties': {'doc_id': {'type': 'string',\n",
       "        'description': 'Parameter `doc_id` of type string.'}},\n",
       "      'required': ['doc_id']}}}]},\n",
       " 'responses': [ChatCompletion(id='chatcmpl-0148839f2eab4746a11296581e456320', choices=[Choice(finish_reason='tool_calls', index=0, logprobs=None, message=ChatCompletionMessage(content=\"<think>\\nFirst, I need to identify who won the men's Wimbledon championship in 2016. I will search for information about the 2016 Wimbledon championships.\\n</think>\\n\", refusal=None, role='assistant', annotations=None, audio=None, function_call=None, tool_calls=[ChatCompletionMessageToolCall(id='chatcmpl-tool-45d6a3f3347443f08a7599de8a363cb2', function=Function(arguments='{\"query\": \"2016 Wimbledon Championships winner\", \"top_n\": 5}', name='retrieve_documents'), type='function')], reasoning_content=None), stop_reason=None)], created=1756060342, model='Qwen/Qwen2.5-7B-Instruct', object='chat.completion', service_tier=None, system_fingerprint=None, usage=CompletionUsage(completion_tokens=74, prompt_tokens=829, total_tokens=903, completion_tokens_details=None, prompt_tokens_details=None), prompt_logprobs=None, kv_transfer_params=None),\n",
       "  ChatCompletion(id='chatcmpl-88898b222c86493b8c94e40b6ab2e88c', choices=[Choice(finish_reason='tool_calls', index=0, logprobs=None, message=ChatCompletionMessage(content=\"From the documents, it is clear that Andy Murray won the men's Wimbledon championship in 2016. Now, I need to find out who his sibling is. I will search for information about Andy Murray's family members.\\n\\n\", refusal=None, role='assistant', annotations=None, audio=None, function_call=None, tool_calls=[ChatCompletionMessageToolCall(id='chatcmpl-tool-d83eba6fd6de4069b726b0d031c2c3ad', function=Function(arguments='{\"query\": \"Andy Murray family members\", \"top_n\": 5}', name='retrieve_documents'), type='function')], reasoning_content=None), stop_reason=None)], created=1756060343, model='Qwen/Qwen2.5-7B-Instruct', object='chat.completion', service_tier=None, system_fingerprint=None, usage=CompletionUsage(completion_tokens=77, prompt_tokens=1155, total_tokens=1232, completion_tokens_details=None, prompt_tokens_details=None), prompt_logprobs=None, kv_transfer_params=None),\n",
       "  ChatCompletion(id='chatcmpl-91b418e98d82433c91becb7ae923d161', choices=[Choice(finish_reason='stop', index=0, logprobs=None, message=ChatCompletionMessage(content=\"The information from the documents does not directly mention Andy Murray's siblings. However, I can infer that since he is mentioned alongside his brother Jamie in the doubles competition, Jamie is likely his sibling.\\n\\n<cite>\\n16, 8\\n</cite>\\n<answer>\\nJamie Murray is the sibling of Andy Murray, who won the men's Wimbledon championship in 2016.\\n</answer>\", refusal=None, role='assistant', annotations=None, audio=None, function_call=None, tool_calls=[], reasoning_content=None), stop_reason=None)], created=1756060344, model='Qwen/Qwen2.5-7B-Instruct', object='chat.completion', service_tier=None, system_fingerprint=None, usage=CompletionUsage(completion_tokens=81, prompt_tokens=1643, total_tokens=1724, completion_tokens_details=None, prompt_tokens_details=None), prompt_logprobs=None, kv_transfer_params=None)],\n",
       " 'turn': 3}"
      ]
     },
     "execution_count": 21,
     "metadata": {},
     "output_type": "execute_result"
    }
   ],
   "source": [
    "state"
   ]
  },
  {
   "cell_type": "code",
   "execution_count": 22,
   "id": "37b19abb",
   "metadata": {},
   "outputs": [
    {
     "name": "stdout",
     "output_type": "stream",
     "text": [
      "ChatCompletion(id='chatcmpl-0148839f2eab4746a11296581e456320', choices=[Choice(finish_reason='tool_calls', index=0, logprobs=None, message=ChatCompletionMessage(content=\"<think>\\nFirst, I need to identify who won the men's Wimbledon championship in 2016. I will search for information about the 2016 Wimbledon championships.\\n</think>\\n\", refusal=None, role='assistant', annotations=None, audio=None, function_call=None, tool_calls=[ChatCompletionMessageToolCall(id='chatcmpl-tool-45d6a3f3347443f08a7599de8a363cb2', function=Function(arguments='{\"query\": \"2016 Wimbledon Championships winner\", \"top_n\": 5}', name='retrieve_documents'), type='function')], reasoning_content=None), stop_reason=None)], created=1756060342, model='Qwen/Qwen2.5-7B-Instruct', object='chat.completion', service_tier=None, system_fingerprint=None, usage=CompletionUsage(completion_tokens=74, prompt_tokens=829, total_tokens=903, completion_tokens_details=None, prompt_tokens_details=None), prompt_logprobs=None, kv_transfer_params=None)\n",
      "ChatCompletion(id='chatcmpl-88898b222c86493b8c94e40b6ab2e88c', choices=[Choice(finish_reason='tool_calls', index=0, logprobs=None, message=ChatCompletionMessage(content=\"From the documents, it is clear that Andy Murray won the men's Wimbledon championship in 2016. Now, I need to find out who his sibling is. I will search for information about Andy Murray's family members.\\n\\n\", refusal=None, role='assistant', annotations=None, audio=None, function_call=None, tool_calls=[ChatCompletionMessageToolCall(id='chatcmpl-tool-d83eba6fd6de4069b726b0d031c2c3ad', function=Function(arguments='{\"query\": \"Andy Murray family members\", \"top_n\": 5}', name='retrieve_documents'), type='function')], reasoning_content=None), stop_reason=None)], created=1756060343, model='Qwen/Qwen2.5-7B-Instruct', object='chat.completion', service_tier=None, system_fingerprint=None, usage=CompletionUsage(completion_tokens=77, prompt_tokens=1155, total_tokens=1232, completion_tokens_details=None, prompt_tokens_details=None), prompt_logprobs=None, kv_transfer_params=None)\n",
      "ChatCompletion(id='chatcmpl-91b418e98d82433c91becb7ae923d161', choices=[Choice(finish_reason='stop', index=0, logprobs=None, message=ChatCompletionMessage(content=\"The information from the documents does not directly mention Andy Murray's siblings. However, I can infer that since he is mentioned alongside his brother Jamie in the doubles competition, Jamie is likely his sibling.\\n\\n<cite>\\n16, 8\\n</cite>\\n<answer>\\nJamie Murray is the sibling of Andy Murray, who won the men's Wimbledon championship in 2016.\\n</answer>\", refusal=None, role='assistant', annotations=None, audio=None, function_call=None, tool_calls=[], reasoning_content=None), stop_reason=None)], created=1756060344, model='Qwen/Qwen2.5-7B-Instruct', object='chat.completion', service_tier=None, system_fingerprint=None, usage=CompletionUsage(completion_tokens=81, prompt_tokens=1643, total_tokens=1724, completion_tokens_details=None, prompt_tokens_details=None), prompt_logprobs=None, kv_transfer_params=None)\n"
     ]
    }
   ],
   "source": [
    "for response in state['responses']:\n",
    "    print(response)"
   ]
  },
  {
   "cell_type": "code",
   "execution_count": 23,
   "id": "1c8b6f15",
   "metadata": {},
   "outputs": [
    {
     "data": {
      "text/plain": [
       "[<function vf_musique.rewards.exact_match_reward(completion, answer, info, parser, **kwargs)>,\n",
       " <function vf_musique.rewards.f1_reward(completion, answer, info, parser, **kwargs)>,\n",
       " <function vf_musique.rewards.retrieval_recall_reward(completion, info, **kwargs)>,\n",
       " <function vf_musique.rewards.citation_reward(completion, info, parser, **kwargs)>,\n",
       " <function vf_musique.rewards.format_reward(completion, parser, **kwargs)>,\n",
       " <function vf_musique.rewards.combined_reward(*args, **kwargs)>]"
      ]
     },
     "execution_count": 23,
     "metadata": {},
     "output_type": "execute_result"
    }
   ],
   "source": [
    "vf_env.rubric.reward_funcs"
   ]
  },
  {
   "cell_type": "code",
   "execution_count": 24,
   "id": "37990171",
   "metadata": {},
   "outputs": [],
   "source": [
    "rewards = await vf_env.rubric.score_rollout(prompt=prompt, completion=completion, answer=answer, state=state, info=info)"
   ]
  },
  {
   "cell_type": "code",
   "execution_count": 25,
   "id": "4cae256c",
   "metadata": {},
   "outputs": [
    {
     "data": {
      "text/plain": [
       "RolloutScore(reward=0.39305555555555555, metrics={'exact_match_reward': 0.0, 'f1_reward': 0.25, 'retrieval_recall_reward': 1.0, 'citation_reward': 1.0, 'format_reward': 0.6666666666666666, 'combined_reward': 0.39305555555555555})"
      ]
     },
     "execution_count": 25,
     "metadata": {},
     "output_type": "execute_result"
    }
   ],
   "source": [
    "rewards"
   ]
  },
  {
   "cell_type": "code",
   "execution_count": 26,
   "id": "d52bda49",
   "metadata": {},
   "outputs": [
    {
     "data": {
      "text/plain": [
       "[{'role': 'assistant',\n",
       "  'content': \"<think>\\nFirst, I need to identify who won the men's Wimbledon championship in 2016. I will search for information about the 2016 Wimbledon championships.\\n</think>\\n\",\n",
       "  'tool_calls': [ChatCompletionMessageToolCall(id='chatcmpl-tool-45d6a3f3347443f08a7599de8a363cb2', function=Function(arguments='{\"query\": \"2016 Wimbledon Championships winner\", \"top_n\": 5}', name='retrieve_documents'), type='function')]},\n",
       " {'role': 'tool',\n",
       "  'content': \"Document ID: 16\\n# 2016 Wimbledon Championships\\nNovak Djokovic was the two - time defending champion in the Gentlemen's Singles, but he lost in the third round to Sam Querrey, ending a 30 - match winning streak in Grand Slams and Djokovic's hopes of becoming the first man to achieve the golden calendar slam. The Gentlemen's Singles title was won by Andy Murray. Serena Williams successfully defended her Ladies' Singles title and equaled Steffi Graf's Open Era record of 22 major singles titles.\\n\\nDocument ID: 15\\n# 2017 Wimbledon Championships – Men's Singles\\nMen's Singles 2017 Wimbledon Championships Champion Roger Federer Runner - up Marin Čilić Final score 6 -- 3, 6 -- 1, 6 -- 4 Details Draw 128 (16 Q / 8 WC) Seeds 32 Events Singles men women boys girls Doubles men women mixed boys girls Legends men women seniors WC Doubles men women ← 2016 Wimbledon Championships 2018 →\",\n",
       "  'tool_call_id': 'chatcmpl-tool-45d6a3f3347443f08a7599de8a363cb2'},\n",
       " {'role': 'assistant',\n",
       "  'content': \"From the documents, it is clear that Andy Murray won the men's Wimbledon championship in 2016. Now, I need to find out who his sibling is. I will search for information about Andy Murray's family members.\\n\\n\",\n",
       "  'tool_calls': [ChatCompletionMessageToolCall(id='chatcmpl-tool-d83eba6fd6de4069b726b0d031c2c3ad', function=Function(arguments='{\"query\": \"Andy Murray family members\", \"top_n\": 5}', name='retrieve_documents'), type='function')]},\n",
       " {'role': 'tool',\n",
       "  'content': \"Document ID: 8\\n# 2011 Valencia Open 500 – Doubles\\nAndy Murray and Jamie Murray were the defending champions but decided to participate at Basel instead. The brothers Bob and Mike Bryan became the new champions, defeating Eric Butorac and Jean-Julien Rojer in the final.\\n\\nDocument ID: 14\\n# The Championships, Wimbledon\\nIn 1884, the club added Ladies' Singles and Gentlemen's Doubles competitions. Ladies' Doubles and Mixed Doubles events were added in 1913. Until 1922, the reigning champion had to play only in the final, against whomever had won through to challenge him / her. As with the other three Major or Grand Slam events, Wimbledon was contested by top - ranked amateur players, professional players were prohibited from participating. This changed with the advent of the open era in 1968. No British man won the singles event at Wimbledon between Fred Perry in 1936 and Andy Murray in 2013, while no British woman has won since Virginia Wade in 1977, although Annabel Croft and Laura Robson won the Girls' Championship in 1984 and 2008 respectively. The Championship was first televised in 1937.\\n\\nDocument ID: 16\\n# 2016 Wimbledon Championships\\nNovak Djokovic was the two - time defending champion in the Gentlemen's Singles, but he lost in the third round to Sam Querrey, ending a 30 - match winning streak in Grand Slams and Djokovic's hopes of becoming the first man to achieve the golden calendar slam. The Gentlemen's Singles title was won by Andy Murray. Serena Williams successfully defended her Ladies' Singles title and equaled Steffi Graf's Open Era record of 22 major singles titles.\",\n",
       "  'tool_call_id': 'chatcmpl-tool-d83eba6fd6de4069b726b0d031c2c3ad'},\n",
       " {'role': 'assistant',\n",
       "  'content': \"The information from the documents does not directly mention Andy Murray's siblings. However, I can infer that since he is mentioned alongside his brother Jamie in the doubles competition, Jamie is likely his sibling.\\n\\n<cite>\\n16, 8\\n</cite>\\n<answer>\\nJamie Murray is the sibling of Andy Murray, who won the men's Wimbledon championship in 2016.\\n</answer>\"}]"
      ]
     },
     "execution_count": 26,
     "metadata": {},
     "output_type": "execute_result"
    }
   ],
   "source": [
    "completion"
   ]
  },
  {
   "cell_type": "code",
   "execution_count": null,
   "id": "8cfb6ab8",
   "metadata": {},
   "outputs": [],
   "source": []
  }
 ],
 "metadata": {
  "kernelspec": {
   "display_name": ".venv",
   "language": "python",
   "name": "python3"
  },
  "language_info": {
   "codemirror_mode": {
    "name": "ipython",
    "version": 3
   },
   "file_extension": ".py",
   "mimetype": "text/x-python",
   "name": "python",
   "nbconvert_exporter": "python",
   "pygments_lexer": "ipython3",
   "version": "3.12.9"
  }
 },
 "nbformat": 4,
 "nbformat_minor": 5
}
