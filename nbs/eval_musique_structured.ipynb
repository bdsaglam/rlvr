{
 "cells": [
  {
   "cell_type": "code",
   "execution_count": 1,
   "id": "a143f034",
   "metadata": {},
   "outputs": [],
   "source": [
    "from pathlib import Path\n",
    "\n",
    "import typer\n",
    "import pandas as pd\n",
    "import verifiers as vf\n",
    "from dotenv import load_dotenv\n",
    "from openai import AsyncOpenAI\n",
    "\n",
    "\n",
    "assert load_dotenv(), \"Failed to load .env file\""
   ]
  },
  {
   "cell_type": "code",
   "execution_count": 2,
   "id": "38c354da",
   "metadata": {},
   "outputs": [
    {
     "data": {
      "text/plain": [
       "<Experiment: artifact_location='mlflow-artifacts:/2', creation_time=1756636926792, experiment_id='2', last_update_time=1756636926792, lifecycle_stage='active', name='rlvr-eval', tags={}>"
      ]
     },
     "execution_count": 2,
     "metadata": {},
     "output_type": "execute_result"
    }
   ],
   "source": [
    "import mlflow\n",
    "\n",
    "# Tell MLflow about the server URI.\n",
    "mlflow.set_tracking_uri(\"http://127.0.0.1:5000\")\n",
    "# Enable autologging with all features\n",
    "mlflow.openai.autolog()\n",
    "# Create a unique name for your experiment.\n",
    "mlflow.set_experiment(\"rlvr-eval\")"
   ]
  },
  {
   "cell_type": "code",
   "execution_count": 3,
   "id": "9328583a",
   "metadata": {},
   "outputs": [
    {
     "name": "stdout",
     "output_type": "stream",
     "text": [
      "Available models: ['Qwen/Qwen2.5-7B-Instruct']\n",
      "Using model: Qwen/Qwen2.5-7B-Instruct\n"
     ]
    }
   ],
   "source": [
    "openai_client = AsyncOpenAI()\n",
    "\n",
    "models_response = await openai_client.models.list()\n",
    "available_models = [item.id for item in models_response.data if item.object == \"model\"]\n",
    "print(\"Available models:\", available_models)\n",
    "\n",
    "model = available_models[0]\n",
    "print(\"Using model:\", model)\n"
   ]
  },
  {
   "cell_type": "code",
   "execution_count": 4,
   "id": "c4817b65",
   "metadata": {},
   "outputs": [
    {
     "name": "stdout",
     "output_type": "stream",
     "text": [
      "🔮 Starting MuSiQue evaluation\n",
      "==================================================\n",
      "📝 Model: Qwen/Qwen2.5-7B-Instruct\n",
      "📊 Dataset: bdsaglam/musique-mini,answerable,validation (noise rate: 1.0)\n",
      "🔍 Retriever: hybrid\n",
      "🌡️ Temperature: 0.5\n",
      "🎯 Max tokens: 1024\n",
      "==================================================\n",
      "🌍 Loading MuSiQue environment...\n"
     ]
    },
    {
     "data": {
      "application/vnd.jupyter.widget-view+json": {
       "model_id": "072d7176e3da46619e42cdba7631ba97",
       "version_major": 2,
       "version_minor": 0
      },
      "text/plain": [
       "Map:   0%|          | 0/300 [00:00<?, ? examples/s]"
      ]
     },
     "metadata": {},
     "output_type": "display_data"
    },
    {
     "data": {
      "application/vnd.jupyter.widget-view+json": {
       "model_id": "2e0f2302fe5044dba7a824723d603098",
       "version_major": 2,
       "version_minor": 0
      },
      "text/plain": [
       "Filter:   0%|          | 0/300 [00:00<?, ? examples/s]"
      ]
     },
     "metadata": {},
     "output_type": "display_data"
    },
    {
     "data": {
      "application/vnd.jupyter.widget-view+json": {
       "model_id": "3f65c2b322a14775ba52a99e180a99ff",
       "version_major": 2,
       "version_minor": 0
      },
      "text/plain": [
       "Map:   0%|          | 0/100 [00:00<?, ? examples/s]"
      ]
     },
     "metadata": {},
     "output_type": "display_data"
    },
    {
     "data": {
      "application/vnd.jupyter.widget-view+json": {
       "model_id": "1424a0f204724277a49f23c94e4c97cb",
       "version_major": 2,
       "version_minor": 0
      },
      "text/plain": [
       "Map:   0%|          | 0/100 [00:00<?, ? examples/s]"
      ]
     },
     "metadata": {},
     "output_type": "display_data"
    },
    {
     "name": "stderr",
     "output_type": "stream",
     "text": [
      "2025-09-11 11:11:22 - verifiers.envs.MuSiQueEnv - INFO - eval_dataset is not set, falling back to train dataset\n"
     ]
    },
    {
     "name": "stdout",
     "output_type": "stream",
     "text": [
      "✅ Environment loaded with 100 examples\n",
      "🤖 Using OpenAI-compatible API client...\n",
      "🔄 Running evaluation...\n"
     ]
    },
    {
     "name": "stderr",
     "output_type": "stream",
     "text": [
      "Running 100 rollouts: 100%|██████████| 100/100 [00:55<00:00,  1.80it/s]\n",
      "Evaluating 100 rollouts: 100%|██████████| 100/100 [00:00<00:00, 1041.50it/s]\n"
     ]
    },
    {
     "data": {
      "text/html": [
       "\n",
       "<div>\n",
       "  <style scoped>\n",
       "  button {\n",
       "    border: none;\n",
       "    border-radius: 4px;\n",
       "    background-color: rgb(34, 114, 180);\n",
       "    font-family: -apple-system, \"system-ui\", \"Segoe UI\", Roboto, \"Helvetica Neue\", Arial;\n",
       "    font-size: 13px;\n",
       "    color: white;\n",
       "    margin-top: 8px;\n",
       "    margin-bottom: 8px;\n",
       "    padding: 8px 16px;\n",
       "    cursor: pointer;\n",
       "  }\n",
       "  button:hover {\n",
       "    background-color: rgb(66, 153, 224);\n",
       "  }\n",
       "  </style>\n",
       "  <button\n",
       "    onclick=\"\n",
       "        const display = this.nextElementSibling.style.display;\n",
       "        const isCollapsed = display === 'none';\n",
       "        this.nextElementSibling.style.display = isCollapsed ? null : 'none';\n",
       "\n",
       "        const verb = isCollapsed ? 'Collapse' : 'Expand';\n",
       "        this.innerText = `${verb} MLflow Trace`;\n",
       "    \"\n",
       "  >Collapse MLflow Trace</button>\n",
       "  <iframe\n",
       "    id=\"trace-renderer\"\n",
       "    style=\"width: 100%; height: 500px; border: none; resize: vertical;\"\n",
       "    src=\"http://127.0.0.1:5000/static-files/lib/notebook-trace-renderer/index.html?trace_id=tr-bc83fa1d25911bf6f2f814ee6fc29adc&amp;experiment_id=2&amp;trace_id=tr-620344eabbac060d6d894df7aeb77236&amp;experiment_id=2&amp;trace_id=tr-fb3dd743e17f6ddff69aaf802313b040&amp;experiment_id=2&amp;trace_id=tr-667ef204664b7fa35fa5fe00caab7d4c&amp;experiment_id=2&amp;trace_id=tr-798bac8e343d18bf709cd752944b7c4e&amp;experiment_id=2&amp;trace_id=tr-b41244c248ff1dec677c5ef95b3406ff&amp;experiment_id=2&amp;trace_id=tr-06b34e48983edb6efb3451f66d1d6651&amp;experiment_id=2&amp;trace_id=tr-351ee64a0c4f65ea79e485e65dac8f16&amp;experiment_id=2&amp;trace_id=tr-004a774926cd42ec9bad19b560df7501&amp;experiment_id=2&amp;trace_id=tr-d44c88505c32586b3914f4991823d1fc&amp;experiment_id=2&amp;version=3.3.2\"\n",
       "  />\n",
       "</div>\n"
      ],
      "text/plain": [
       "[Trace(trace_id=tr-bc83fa1d25911bf6f2f814ee6fc29adc), Trace(trace_id=tr-620344eabbac060d6d894df7aeb77236), Trace(trace_id=tr-fb3dd743e17f6ddff69aaf802313b040), Trace(trace_id=tr-667ef204664b7fa35fa5fe00caab7d4c), Trace(trace_id=tr-798bac8e343d18bf709cd752944b7c4e), Trace(trace_id=tr-b41244c248ff1dec677c5ef95b3406ff), Trace(trace_id=tr-06b34e48983edb6efb3451f66d1d6651), Trace(trace_id=tr-351ee64a0c4f65ea79e485e65dac8f16), Trace(trace_id=tr-004a774926cd42ec9bad19b560df7501), Trace(trace_id=tr-d44c88505c32586b3914f4991823d1fc)]"
      ]
     },
     "metadata": {},
     "output_type": "display_data"
    }
   ],
   "source": [
    "datasets_str = \"bdsaglam/musique-mini,answerable,validation\"\n",
    "noise_rate = 1.0\n",
    "retriever = \"hybrid\"\n",
    "temperature = 0.5\n",
    "max_new_tokens = 1024\n",
    "\n",
    "print(\"🔮 Starting MuSiQue evaluation\")\n",
    "print(\"=\" * 50)\n",
    "print(f\"📝 Model: {model}\")\n",
    "print(f\"📊 Dataset: {datasets_str} (noise rate: {noise_rate})\")\n",
    "print(f\"🔍 Retriever: {retriever}\")\n",
    "print(f\"🌡️ Temperature: {temperature}\")\n",
    "print(f\"🎯 Max tokens: {max_new_tokens}\")\n",
    "print(\"=\" * 50)\n",
    "\n",
    "# Load MuSiQue environment\n",
    "print(\"🌍 Loading MuSiQue environment...\")\n",
    "\n",
    "vf_env = vf.load_environment(\n",
    "    env_id=\"vf-musique-structured\",\n",
    "    datasets_str=datasets_str,\n",
    "    noise_rate=noise_rate,\n",
    "    retriever_name=retriever,\n",
    ")\n",
    "print(f\"✅ Environment loaded with {len(vf_env.dataset)} examples\")\n",
    "\n",
    "# Use OpenAI-compatible API client (e.g., for vLLM)\n",
    "print(\"🤖 Using OpenAI-compatible API client...\")\n",
    "\n",
    "# Run evaluation using the environment\n",
    "print(\"🔄 Running evaluation...\")\n",
    "results = vf_env.evaluate(\n",
    "    openai_client,\n",
    "    model,\n",
    "    rollouts_per_example=1,\n",
    "    sampling_args={\"temperature\": temperature, \"max_tokens\": max_new_tokens},\n",
    ")\n"
   ]
  },
  {
   "cell_type": "code",
   "execution_count": 5,
   "id": "c09d1adb",
   "metadata": {},
   "outputs": [
    {
     "data": {
      "text/plain": [
       "dict_keys(['exact_match_reward', 'f1_reward', 'retrieval_recall_reward', 'retrieval_precision_reward', 'citation_reward', 'format_reward', 'combined_reward'])"
      ]
     },
     "execution_count": 5,
     "metadata": {},
     "output_type": "execute_result"
    }
   ],
   "source": [
    "results.metrics.keys()"
   ]
  },
  {
   "cell_type": "code",
   "execution_count": 6,
   "id": "04618244",
   "metadata": {},
   "outputs": [
    {
     "data": {
      "text/plain": [
       "Dataset({\n",
       "    features: ['prompt', 'completion', 'answer', 'task', 'reward', 'info', 'exact_match_reward', 'f1_reward', 'retrieval_recall_reward', 'retrieval_precision_reward', 'citation_reward', 'format_reward', 'combined_reward'],\n",
       "    num_rows: 100\n",
       "})"
      ]
     },
     "execution_count": 6,
     "metadata": {},
     "output_type": "execute_result"
    }
   ],
   "source": [
    "ds = vf_env.make_dataset(results)\n",
    "ds"
   ]
  },
  {
   "cell_type": "code",
   "execution_count": 7,
   "id": "205448ce",
   "metadata": {},
   "outputs": [
    {
     "data": {
      "application/vnd.jupyter.widget-view+json": {
       "model_id": "77294a23913240c9acb1a3c9a2de5801",
       "version_major": 2,
       "version_minor": 0
      },
      "text/plain": [
       "Creating json from Arrow format:   0%|          | 0/1 [00:00<?, ?ba/s]"
      ]
     },
     "metadata": {},
     "output_type": "display_data"
    },
    {
     "data": {
      "text/plain": [
       "2833139"
      ]
     },
     "execution_count": 7,
     "metadata": {},
     "output_type": "execute_result"
    }
   ],
   "source": [
    "ds.to_json(\"../outputs/musique-eval-results.jsonl\", orient=\"records\", lines=True)"
   ]
  },
  {
   "cell_type": "code",
   "execution_count": 8,
   "id": "810fa60f",
   "metadata": {},
   "outputs": [
    {
     "data": {
      "text/html": [
       "<div>\n",
       "<style scoped>\n",
       "    .dataframe tbody tr th:only-of-type {\n",
       "        vertical-align: middle;\n",
       "    }\n",
       "\n",
       "    .dataframe tbody tr th {\n",
       "        vertical-align: top;\n",
       "    }\n",
       "\n",
       "    .dataframe thead th {\n",
       "        text-align: right;\n",
       "    }\n",
       "</style>\n",
       "<table border=\"1\" class=\"dataframe\">\n",
       "  <thead>\n",
       "    <tr style=\"text-align: right;\">\n",
       "      <th></th>\n",
       "      <th>prompt</th>\n",
       "      <th>completion</th>\n",
       "      <th>answer</th>\n",
       "      <th>task</th>\n",
       "      <th>reward</th>\n",
       "      <th>info</th>\n",
       "      <th>exact_match_reward</th>\n",
       "      <th>f1_reward</th>\n",
       "      <th>retrieval_recall_reward</th>\n",
       "      <th>retrieval_precision_reward</th>\n",
       "      <th>citation_reward</th>\n",
       "      <th>format_reward</th>\n",
       "      <th>combined_reward</th>\n",
       "    </tr>\n",
       "  </thead>\n",
       "  <tbody>\n",
       "    <tr>\n",
       "      <th>0</th>\n",
       "      <td>[{'content': 'Answer the question based on the...</td>\n",
       "      <td>[{'content': '', 'role': 'assistant', 'tool_ca...</td>\n",
       "      <td>LeMat revolver</td>\n",
       "      <td>default</td>\n",
       "      <td>0.000000</td>\n",
       "      <td>{'answers': ['lemat revolver', 'LeMat revolver...</td>\n",
       "      <td>0.0</td>\n",
       "      <td>0.000000</td>\n",
       "      <td>0.0</td>\n",
       "      <td>0.000000</td>\n",
       "      <td>0.0</td>\n",
       "      <td>0.0</td>\n",
       "      <td>0.000000</td>\n",
       "    </tr>\n",
       "    <tr>\n",
       "      <th>1</th>\n",
       "      <td>[{'content': 'Answer the question based on the...</td>\n",
       "      <td>[{'content': '', 'role': 'assistant', 'tool_ca...</td>\n",
       "      <td>Vitor Constâncio</td>\n",
       "      <td>default</td>\n",
       "      <td>0.175000</td>\n",
       "      <td>{'answers': ['vitor constâncio', 'Vitor Constâ...</td>\n",
       "      <td>0.0</td>\n",
       "      <td>0.000000</td>\n",
       "      <td>0.5</td>\n",
       "      <td>0.500000</td>\n",
       "      <td>0.0</td>\n",
       "      <td>0.0</td>\n",
       "      <td>0.175000</td>\n",
       "    </tr>\n",
       "    <tr>\n",
       "      <th>2</th>\n",
       "      <td>[{'content': 'Answer the question based on the...</td>\n",
       "      <td>[{'content': '', 'role': 'assistant', 'tool_ca...</td>\n",
       "      <td>45</td>\n",
       "      <td>default</td>\n",
       "      <td>0.641667</td>\n",
       "      <td>{'answers': ['45'], 'docs': [{'body': 'Weber C...</td>\n",
       "      <td>0.0</td>\n",
       "      <td>0.666667</td>\n",
       "      <td>1.0</td>\n",
       "      <td>0.666667</td>\n",
       "      <td>1.0</td>\n",
       "      <td>1.0</td>\n",
       "      <td>0.641667</td>\n",
       "    </tr>\n",
       "    <tr>\n",
       "      <th>3</th>\n",
       "      <td>[{'content': 'Answer the question based on the...</td>\n",
       "      <td>[{'content': '', 'role': 'assistant', 'tool_ca...</td>\n",
       "      <td>three different relationships he had in the past</td>\n",
       "      <td>default</td>\n",
       "      <td>0.350000</td>\n",
       "      <td>{'answers': ['three different relationships he...</td>\n",
       "      <td>0.0</td>\n",
       "      <td>0.000000</td>\n",
       "      <td>1.0</td>\n",
       "      <td>1.000000</td>\n",
       "      <td>0.0</td>\n",
       "      <td>0.0</td>\n",
       "      <td>0.350000</td>\n",
       "    </tr>\n",
       "    <tr>\n",
       "      <th>4</th>\n",
       "      <td>[{'content': 'Answer the question based on the...</td>\n",
       "      <td>[{'content': '', 'role': 'assistant', 'tool_ca...</td>\n",
       "      <td>Michael Bublé</td>\n",
       "      <td>default</td>\n",
       "      <td>0.000000</td>\n",
       "      <td>{'answers': ['Michael Bublé', 'michael bublé']...</td>\n",
       "      <td>0.0</td>\n",
       "      <td>0.000000</td>\n",
       "      <td>0.0</td>\n",
       "      <td>0.000000</td>\n",
       "      <td>0.0</td>\n",
       "      <td>0.0</td>\n",
       "      <td>0.000000</td>\n",
       "    </tr>\n",
       "    <tr>\n",
       "      <th>...</th>\n",
       "      <td>...</td>\n",
       "      <td>...</td>\n",
       "      <td>...</td>\n",
       "      <td>...</td>\n",
       "      <td>...</td>\n",
       "      <td>...</td>\n",
       "      <td>...</td>\n",
       "      <td>...</td>\n",
       "      <td>...</td>\n",
       "      <td>...</td>\n",
       "      <td>...</td>\n",
       "      <td>...</td>\n",
       "      <td>...</td>\n",
       "    </tr>\n",
       "    <tr>\n",
       "      <th>95</th>\n",
       "      <td>[{'content': 'Answer the question based on the...</td>\n",
       "      <td>[{'content': '', 'role': 'assistant', 'tool_ca...</td>\n",
       "      <td>two alliances</td>\n",
       "      <td>default</td>\n",
       "      <td>0.200000</td>\n",
       "      <td>{'answers': ['two alliances'], 'docs': [{'body...</td>\n",
       "      <td>0.0</td>\n",
       "      <td>0.000000</td>\n",
       "      <td>0.5</td>\n",
       "      <td>0.500000</td>\n",
       "      <td>0.0</td>\n",
       "      <td>1.0</td>\n",
       "      <td>0.200000</td>\n",
       "    </tr>\n",
       "    <tr>\n",
       "      <th>96</th>\n",
       "      <td>[{'content': 'Answer the question based on the...</td>\n",
       "      <td>[{'content': '', 'role': 'assistant', 'tool_ca...</td>\n",
       "      <td>John Kukuzelis</td>\n",
       "      <td>default</td>\n",
       "      <td>0.175000</td>\n",
       "      <td>{'answers': ['john kukuzelis', 'John Kukuzelis...</td>\n",
       "      <td>0.0</td>\n",
       "      <td>0.000000</td>\n",
       "      <td>0.5</td>\n",
       "      <td>0.500000</td>\n",
       "      <td>0.0</td>\n",
       "      <td>0.0</td>\n",
       "      <td>0.175000</td>\n",
       "    </tr>\n",
       "    <tr>\n",
       "      <th>97</th>\n",
       "      <td>[{'content': 'Answer the question based on the...</td>\n",
       "      <td>[{'content': '', 'role': 'assistant', 'tool_ca...</td>\n",
       "      <td>Vito Corleone</td>\n",
       "      <td>default</td>\n",
       "      <td>0.175000</td>\n",
       "      <td>{'answers': ['vito andolini', 'Vito Andolini C...</td>\n",
       "      <td>0.0</td>\n",
       "      <td>0.000000</td>\n",
       "      <td>0.5</td>\n",
       "      <td>0.500000</td>\n",
       "      <td>0.0</td>\n",
       "      <td>0.0</td>\n",
       "      <td>0.175000</td>\n",
       "    </tr>\n",
       "    <tr>\n",
       "      <th>98</th>\n",
       "      <td>[{'content': 'Answer the question based on the...</td>\n",
       "      <td>[{'content': '', 'role': 'assistant', 'tool_ca...</td>\n",
       "      <td>The Île de la Cité</td>\n",
       "      <td>default</td>\n",
       "      <td>0.175000</td>\n",
       "      <td>{'answers': ['île de la Cité', 'Île de la Cité...</td>\n",
       "      <td>0.0</td>\n",
       "      <td>0.000000</td>\n",
       "      <td>0.5</td>\n",
       "      <td>0.500000</td>\n",
       "      <td>0.0</td>\n",
       "      <td>0.0</td>\n",
       "      <td>0.175000</td>\n",
       "    </tr>\n",
       "    <tr>\n",
       "      <th>99</th>\n",
       "      <td>[{'content': 'Answer the question based on the...</td>\n",
       "      <td>[{'content': '', 'role': 'assistant', 'tool_ca...</td>\n",
       "      <td>Thaba Putsoa</td>\n",
       "      <td>default</td>\n",
       "      <td>0.175000</td>\n",
       "      <td>{'answers': ['thaba putsoa', 'Thaba Putsoa'], ...</td>\n",
       "      <td>0.0</td>\n",
       "      <td>0.000000</td>\n",
       "      <td>0.5</td>\n",
       "      <td>0.500000</td>\n",
       "      <td>0.0</td>\n",
       "      <td>0.0</td>\n",
       "      <td>0.175000</td>\n",
       "    </tr>\n",
       "  </tbody>\n",
       "</table>\n",
       "<p>100 rows × 13 columns</p>\n",
       "</div>"
      ],
      "text/plain": [
       "                                               prompt  \\\n",
       "0   [{'content': 'Answer the question based on the...   \n",
       "1   [{'content': 'Answer the question based on the...   \n",
       "2   [{'content': 'Answer the question based on the...   \n",
       "3   [{'content': 'Answer the question based on the...   \n",
       "4   [{'content': 'Answer the question based on the...   \n",
       "..                                                ...   \n",
       "95  [{'content': 'Answer the question based on the...   \n",
       "96  [{'content': 'Answer the question based on the...   \n",
       "97  [{'content': 'Answer the question based on the...   \n",
       "98  [{'content': 'Answer the question based on the...   \n",
       "99  [{'content': 'Answer the question based on the...   \n",
       "\n",
       "                                           completion  \\\n",
       "0   [{'content': '', 'role': 'assistant', 'tool_ca...   \n",
       "1   [{'content': '', 'role': 'assistant', 'tool_ca...   \n",
       "2   [{'content': '', 'role': 'assistant', 'tool_ca...   \n",
       "3   [{'content': '', 'role': 'assistant', 'tool_ca...   \n",
       "4   [{'content': '', 'role': 'assistant', 'tool_ca...   \n",
       "..                                                ...   \n",
       "95  [{'content': '', 'role': 'assistant', 'tool_ca...   \n",
       "96  [{'content': '', 'role': 'assistant', 'tool_ca...   \n",
       "97  [{'content': '', 'role': 'assistant', 'tool_ca...   \n",
       "98  [{'content': '', 'role': 'assistant', 'tool_ca...   \n",
       "99  [{'content': '', 'role': 'assistant', 'tool_ca...   \n",
       "\n",
       "                                              answer     task    reward  \\\n",
       "0                                     LeMat revolver  default  0.000000   \n",
       "1                                   Vitor Constâncio  default  0.175000   \n",
       "2                                                 45  default  0.641667   \n",
       "3   three different relationships he had in the past  default  0.350000   \n",
       "4                                      Michael Bublé  default  0.000000   \n",
       "..                                               ...      ...       ...   \n",
       "95                                     two alliances  default  0.200000   \n",
       "96                                    John Kukuzelis  default  0.175000   \n",
       "97                                     Vito Corleone  default  0.175000   \n",
       "98                                The Île de la Cité  default  0.175000   \n",
       "99                                      Thaba Putsoa  default  0.175000   \n",
       "\n",
       "                                                 info  exact_match_reward  \\\n",
       "0   {'answers': ['lemat revolver', 'LeMat revolver...                 0.0   \n",
       "1   {'answers': ['vitor constâncio', 'Vitor Constâ...                 0.0   \n",
       "2   {'answers': ['45'], 'docs': [{'body': 'Weber C...                 0.0   \n",
       "3   {'answers': ['three different relationships he...                 0.0   \n",
       "4   {'answers': ['Michael Bublé', 'michael bublé']...                 0.0   \n",
       "..                                                ...                 ...   \n",
       "95  {'answers': ['two alliances'], 'docs': [{'body...                 0.0   \n",
       "96  {'answers': ['john kukuzelis', 'John Kukuzelis...                 0.0   \n",
       "97  {'answers': ['vito andolini', 'Vito Andolini C...                 0.0   \n",
       "98  {'answers': ['île de la Cité', 'Île de la Cité...                 0.0   \n",
       "99  {'answers': ['thaba putsoa', 'Thaba Putsoa'], ...                 0.0   \n",
       "\n",
       "    f1_reward  retrieval_recall_reward  retrieval_precision_reward  \\\n",
       "0    0.000000                      0.0                    0.000000   \n",
       "1    0.000000                      0.5                    0.500000   \n",
       "2    0.666667                      1.0                    0.666667   \n",
       "3    0.000000                      1.0                    1.000000   \n",
       "4    0.000000                      0.0                    0.000000   \n",
       "..        ...                      ...                         ...   \n",
       "95   0.000000                      0.5                    0.500000   \n",
       "96   0.000000                      0.5                    0.500000   \n",
       "97   0.000000                      0.5                    0.500000   \n",
       "98   0.000000                      0.5                    0.500000   \n",
       "99   0.000000                      0.5                    0.500000   \n",
       "\n",
       "    citation_reward  format_reward  combined_reward  \n",
       "0               0.0            0.0         0.000000  \n",
       "1               0.0            0.0         0.175000  \n",
       "2               1.0            1.0         0.641667  \n",
       "3               0.0            0.0         0.350000  \n",
       "4               0.0            0.0         0.000000  \n",
       "..              ...            ...              ...  \n",
       "95              0.0            1.0         0.200000  \n",
       "96              0.0            0.0         0.175000  \n",
       "97              0.0            0.0         0.175000  \n",
       "98              0.0            0.0         0.175000  \n",
       "99              0.0            0.0         0.175000  \n",
       "\n",
       "[100 rows x 13 columns]"
      ]
     },
     "execution_count": 8,
     "metadata": {},
     "output_type": "execute_result"
    }
   ],
   "source": [
    "df = ds.to_pandas()\n",
    "df"
   ]
  },
  {
   "cell_type": "code",
   "execution_count": 9,
   "id": "cab0a903",
   "metadata": {},
   "outputs": [
    {
     "data": {
      "text/html": [
       "<div>\n",
       "<style scoped>\n",
       "    .dataframe tbody tr th:only-of-type {\n",
       "        vertical-align: middle;\n",
       "    }\n",
       "\n",
       "    .dataframe tbody tr th {\n",
       "        vertical-align: top;\n",
       "    }\n",
       "\n",
       "    .dataframe thead th {\n",
       "        text-align: right;\n",
       "    }\n",
       "</style>\n",
       "<table border=\"1\" class=\"dataframe\">\n",
       "  <thead>\n",
       "    <tr style=\"text-align: right;\">\n",
       "      <th></th>\n",
       "      <th>reward</th>\n",
       "      <th>exact_match_reward</th>\n",
       "      <th>f1_reward</th>\n",
       "      <th>retrieval_recall_reward</th>\n",
       "      <th>retrieval_precision_reward</th>\n",
       "      <th>citation_reward</th>\n",
       "      <th>format_reward</th>\n",
       "      <th>combined_reward</th>\n",
       "    </tr>\n",
       "  </thead>\n",
       "  <tbody>\n",
       "    <tr>\n",
       "      <th>count</th>\n",
       "      <td>100.000000</td>\n",
       "      <td>100.000000</td>\n",
       "      <td>100.000000</td>\n",
       "      <td>100.000000</td>\n",
       "      <td>100.000000</td>\n",
       "      <td>100.000000</td>\n",
       "      <td>100.000000</td>\n",
       "      <td>100.000000</td>\n",
       "    </tr>\n",
       "    <tr>\n",
       "      <th>mean</th>\n",
       "      <td>0.323571</td>\n",
       "      <td>0.110000</td>\n",
       "      <td>0.159425</td>\n",
       "      <td>0.660000</td>\n",
       "      <td>0.607000</td>\n",
       "      <td>0.175000</td>\n",
       "      <td>0.330000</td>\n",
       "      <td>0.323571</td>\n",
       "    </tr>\n",
       "    <tr>\n",
       "      <th>std</th>\n",
       "      <td>0.231518</td>\n",
       "      <td>0.314466</td>\n",
       "      <td>0.338031</td>\n",
       "      <td>0.300505</td>\n",
       "      <td>0.282298</td>\n",
       "      <td>0.296231</td>\n",
       "      <td>0.472582</td>\n",
       "      <td>0.231518</td>\n",
       "    </tr>\n",
       "    <tr>\n",
       "      <th>min</th>\n",
       "      <td>0.000000</td>\n",
       "      <td>0.000000</td>\n",
       "      <td>0.000000</td>\n",
       "      <td>0.000000</td>\n",
       "      <td>0.000000</td>\n",
       "      <td>0.000000</td>\n",
       "      <td>0.000000</td>\n",
       "      <td>0.000000</td>\n",
       "    </tr>\n",
       "    <tr>\n",
       "      <th>25%</th>\n",
       "      <td>0.175000</td>\n",
       "      <td>0.000000</td>\n",
       "      <td>0.000000</td>\n",
       "      <td>0.500000</td>\n",
       "      <td>0.500000</td>\n",
       "      <td>0.000000</td>\n",
       "      <td>0.000000</td>\n",
       "      <td>0.175000</td>\n",
       "    </tr>\n",
       "    <tr>\n",
       "      <th>50%</th>\n",
       "      <td>0.275000</td>\n",
       "      <td>0.000000</td>\n",
       "      <td>0.000000</td>\n",
       "      <td>0.500000</td>\n",
       "      <td>0.500000</td>\n",
       "      <td>0.000000</td>\n",
       "      <td>0.000000</td>\n",
       "      <td>0.275000</td>\n",
       "    </tr>\n",
       "    <tr>\n",
       "      <th>75%</th>\n",
       "      <td>0.350000</td>\n",
       "      <td>0.000000</td>\n",
       "      <td>0.000000</td>\n",
       "      <td>1.000000</td>\n",
       "      <td>1.000000</td>\n",
       "      <td>0.500000</td>\n",
       "      <td>1.000000</td>\n",
       "      <td>0.350000</td>\n",
       "    </tr>\n",
       "    <tr>\n",
       "      <th>max</th>\n",
       "      <td>1.000000</td>\n",
       "      <td>1.000000</td>\n",
       "      <td>1.000000</td>\n",
       "      <td>1.000000</td>\n",
       "      <td>1.000000</td>\n",
       "      <td>1.000000</td>\n",
       "      <td>1.000000</td>\n",
       "      <td>1.000000</td>\n",
       "    </tr>\n",
       "  </tbody>\n",
       "</table>\n",
       "</div>"
      ],
      "text/plain": [
       "           reward  exact_match_reward   f1_reward  retrieval_recall_reward  \\\n",
       "count  100.000000          100.000000  100.000000               100.000000   \n",
       "mean     0.323571            0.110000    0.159425                 0.660000   \n",
       "std      0.231518            0.314466    0.338031                 0.300505   \n",
       "min      0.000000            0.000000    0.000000                 0.000000   \n",
       "25%      0.175000            0.000000    0.000000                 0.500000   \n",
       "50%      0.275000            0.000000    0.000000                 0.500000   \n",
       "75%      0.350000            0.000000    0.000000                 1.000000   \n",
       "max      1.000000            1.000000    1.000000                 1.000000   \n",
       "\n",
       "       retrieval_precision_reward  citation_reward  format_reward  \\\n",
       "count                  100.000000       100.000000     100.000000   \n",
       "mean                     0.607000         0.175000       0.330000   \n",
       "std                      0.282298         0.296231       0.472582   \n",
       "min                      0.000000         0.000000       0.000000   \n",
       "25%                      0.500000         0.000000       0.000000   \n",
       "50%                      0.500000         0.000000       0.000000   \n",
       "75%                      1.000000         0.500000       1.000000   \n",
       "max                      1.000000         1.000000       1.000000   \n",
       "\n",
       "       combined_reward  \n",
       "count       100.000000  \n",
       "mean          0.323571  \n",
       "std           0.231518  \n",
       "min           0.000000  \n",
       "25%           0.175000  \n",
       "50%           0.275000  \n",
       "75%           0.350000  \n",
       "max           1.000000  "
      ]
     },
     "execution_count": 9,
     "metadata": {},
     "output_type": "execute_result"
    }
   ],
   "source": [
    "df.describe()"
   ]
  },
  {
   "cell_type": "code",
   "execution_count": 10,
   "id": "b3985c33",
   "metadata": {},
   "outputs": [],
   "source": [
    "row = df.iloc[0]"
   ]
  }
 ],
 "metadata": {
  "kernelspec": {
   "display_name": ".venv",
   "language": "python",
   "name": "python3"
  },
  "language_info": {
   "codemirror_mode": {
    "name": "ipython",
    "version": 3
   },
   "file_extension": ".py",
   "mimetype": "text/x-python",
   "name": "python",
   "nbconvert_exporter": "python",
   "pygments_lexer": "ipython3",
   "version": "3.12.9"
  }
 },
 "nbformat": 4,
 "nbformat_minor": 5
}
